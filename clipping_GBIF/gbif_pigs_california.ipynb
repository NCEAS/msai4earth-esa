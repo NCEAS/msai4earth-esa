{
 "cells": [
  {
   "cell_type": "markdown",
   "id": "bbda4e9d-2ab4-466f-a368-5e9fc7431ee2",
   "metadata": {},
   "source": [
    "# Feral Pigs in CA\n",
    "- Search the latest GBIF snapshot in the Planetary Computer for pig (*Sus scroga*) sightings in California, US. \n",
    "- Plot a map with the occurrences \n",
    "- Count how many records there are per year\n",
    "- Check if any pigs were recorded in Sedgwick's reserve bounding box"
   ]
  },
  {
   "cell_type": "markdown",
   "id": "601c46e5-2369-4d0f-9e4c-268dd555d326",
   "metadata": {},
   "source": [
    "More info on GBIF dataset:\n",
    "\n",
    "https://github.com/microsoft/AIforEarthDataSets/blob/main/data/gbif.md\n",
    "\n",
    "https://data-blog.gbif.org/post/gbif-filtering-guide/"
   ]
  },
  {
   "cell_type": "markdown",
   "id": "59f0b2a3-6a8f-4f59-ad10-962e0acacc66",
   "metadata": {},
   "source": [
    "NOTE: the libraries are imported as needed to make it explicit where they are used. The libraries used in the notebook are:\n",
    "\n",
    "`pystac_client`\n",
    "`planetary_computer`\n",
    "`dask.dataframe`\n",
    "`dask_gateway`\n",
    "\n",
    "`geopandas`\n",
    "`matplotlib.pyplot`"
   ]
  },
  {
   "cell_type": "markdown",
   "id": "7b4f9c54-7b24-47aa-9372-ec2586b0cc34",
   "metadata": {},
   "source": [
    "\n",
    "## Acessing data"
   ]
  },
  {
   "cell_type": "code",
   "execution_count": 1,
   "id": "fe1c814e-348e-475f-be43-16eea53e928b",
   "metadata": {},
   "outputs": [],
   "source": [
    "import pystac_client # access STAC catalogs\n",
    "import planetary_computer # sign items\n",
    "import dask.dataframe as dd # dataframe optimized for parallel computing\n",
    "\n",
    "# ----- accesing Azure storage using pystac client\n",
    "URL = \"https://planetarycomputer.microsoft.com/api/stac/v1\"\n",
    "catalog = pystac_client.Client.open(URL)\n",
    "\n",
    "\n",
    "# ----- access items in gbif catalog\n",
    "search = catalog.search(collections=[\"gbif\"])\n",
    "items = search.get_all_items()\n",
    "items = {x.id: x for x in items}\n",
    "#list(items)\n",
    "\n",
    "\n",
    "# ---- select and sign first item\n",
    "# The snapshot includes all CC-BY licensed data published through GBIF that have coordinates which passed automated quality checks.\n",
    "item = list(items.values())[0]\n",
    "#print(item) \n",
    "\n",
    "signed_asset = planetary_computer.sign(item).assets[\"data\"]\n",
    "\n"
   ]
  },
  {
   "cell_type": "code",
   "execution_count": 2,
   "id": "4eb5d294-596d-46ee-b27b-ae5b0db701c1",
   "metadata": {},
   "outputs": [],
   "source": [
    "# ---- read data frame using parquet, specify columns to be included\n",
    "\n",
    "df = dd.read_parquet(\n",
    "    signed_asset.href,\n",
    "    columns=[\"class\",\n",
    "            \"species\",\n",
    "            \"stateprovince\",\n",
    "            \"eventdate\",\n",
    "            \"year\",\n",
    "            \"month\",\n",
    "            \"day\",\n",
    "            \"decimallatitude\",\n",
    "            \"decimallongitude\"],\n",
    "    storage_options=signed_asset.extra_fields[\"table:storage_options\"],  #???\n",
    ")\n",
    "#df\n"
   ]
  },
  {
   "cell_type": "markdown",
   "id": "7eae2cf6-4d4a-4f98-a841-e9a74a0a65bd",
   "metadata": {},
   "source": [
    "## Data preparation"
   ]
  },
  {
   "cell_type": "code",
   "execution_count": 3,
   "id": "13582c36-1a15-44f0-96f5-68b4517f6f07",
   "metadata": {},
   "outputs": [
    {
     "name": "stdout",
     "output_type": "stream",
     "text": [
      "https://pccompute.westeurope.cloudapp.azure.com/compute/services/dask-gateway/clusters/prod.78354a6e33654215ad5b8ecea2bf99b8/status\n"
     ]
    }
   ],
   "source": [
    "# ---- initialize dask cluster ---\n",
    "from dask_gateway import GatewayCluster\n",
    "\n",
    "cluster = GatewayCluster()\n",
    "cluster.scale(16)\n",
    "client = cluster.get_client()\n",
    "print(cluster.dashboard_link)"
   ]
  },
  {
   "cell_type": "code",
   "execution_count": 4,
   "id": "79404d57-8284-449e-83c8-90780c5b95e7",
   "metadata": {},
   "outputs": [],
   "source": [
    "ca_obs = df.loc[df['stateprovince'] == 'California'].compute()"
   ]
  },
  {
   "cell_type": "code",
   "execution_count": 5,
   "id": "d8856eb7-c4a5-431b-8721-06e2a558dfa3",
   "metadata": {},
   "outputs": [],
   "source": [
    "ca_pigs = ca_obs.loc[ca_obs['species'] == 'Sus scrofa']\n",
    "#ca_pigs"
   ]
  },
  {
   "cell_type": "code",
   "execution_count": 6,
   "id": "622b9e77-1c89-4935-ac6d-3ea656eacf58",
   "metadata": {},
   "outputs": [],
   "source": [
    "# need to transform lat long entries into point geometry for plotting\n",
    "\n",
    "import geopandas\n",
    "\n",
    "geo_pigs = geopandas.GeoDataFrame(\n",
    "    ca_pigs, \n",
    "    geometry = geopandas.points_from_xy(x=ca_pigs.decimallongitude, y=ca_pigs.decimallatitude)\n",
    ")\n",
    "#geo_pigs"
   ]
  },
  {
   "cell_type": "markdown",
   "id": "13829020-072f-4645-81c1-d8861323c4f7",
   "metadata": {},
   "source": [
    "## Map observations\n",
    "\n",
    "CA shapefile source: https://data.ca.gov/dataset/ca-geographic-boundaries/resource/3db1e426-fb51-44f5-82d5-a54d7c6e188b"
   ]
  },
  {
   "cell_type": "code",
   "execution_count": 7,
   "id": "3faadbc3-14da-43f2-bc86-42fe5f7ba299",
   "metadata": {},
   "outputs": [],
   "source": [
    "# ---- OPENING SHAPEFILE ----\n",
    "# the shp (espg 3857) and the point data (epsg 4326) have different crs, so we have to match them\n",
    "\n",
    "CA_path = \"/home/jovyan/Sedgwick_Reserve/CA_geometry/CA_State_TIGER2016.shp\"\n",
    "CA_shp = geopandas.read_file(CA_path)\n",
    "#CA_shp.plot(edgecolor='purple', color='yellow')\n",
    "#CA_shp.crs  # ESPSG: 3857\n",
    "CA_shp = CA_shp.to_crs(4326) # match it to point data crs\n",
    "#CA_shp.crs"
   ]
  },
  {
   "cell_type": "code",
   "execution_count": 8,
   "id": "c2082f97-00fc-4dbe-a47f-729c691238e9",
   "metadata": {},
   "outputs": [
    {
     "data": {
      "text/plain": [
       "<AxesSubplot:>"
      ]
     },
     "execution_count": 8,
     "metadata": {},
     "output_type": "execute_result"
    },
    {
     "data": {
      "image/png": "[encoded data removed]",
      "text/plain": [
       "<Figure size 720x720 with 1 Axes>"
      ]
     },
     "metadata": {
      "needs_background": "light"
     },
     "output_type": "display_data"
    }
   ],
   "source": [
    "# ---- CREATE MAP ----\n",
    "\n",
    "import matplotlib.pyplot as plt\n",
    "\n",
    "fig, ax = plt.subplots(figsize = (10,10))\n",
    "CA_shp.plot(ax=ax, color='lightgray')\n",
    "geo_pigs.plot(ax=ax, alpha=0.2)\n",
    "\n"
   ]
  },
  {
   "cell_type": "markdown",
   "id": "a66464af-c7b2-405c-9e3c-febfc90118e3",
   "metadata": {},
   "source": [
    "## Observations by year"
   ]
  },
  {
   "cell_type": "code",
   "execution_count": 25,
   "id": "f2ae5bbc-38a0-4eec-922b-1c6e03aaa40e",
   "metadata": {},
   "outputs": [
    {
     "name": "stdout",
     "output_type": "stream",
     "text": [
      "     year  count\n",
      "0  1818.0     31\n",
      "1  1910.0      1\n",
      "2  1925.0      1\n",
      "3  1927.0      4\n",
      "4  1929.0      3\n",
      "      year  count\n",
      "42  2017.0      1\n",
      "43  2018.0      9\n",
      "44  2019.0     17\n",
      "45  2020.0     20\n",
      "46  2021.0     13\n"
     ]
    }
   ],
   "source": [
    "# ---- COUNT OBSERVATIONS BY YEAR ----\n",
    "\n",
    "# earliest is on 1818, latest on 2021\n",
    "\n",
    "obs_by_year = ca_pigs.filter(items=['year']).groupby(['year']).size().reset_index(name='count')\n",
    "print(obs_by_year.head(5))\n",
    "print(obs_by_year.tail(5))"
   ]
  },
  {
   "cell_type": "code",
   "execution_count": 26,
   "id": "c592ade3-3434-45d1-abac-c4ec886ea8b2",
   "metadata": {},
   "outputs": [
    {
     "data": {
      "image/png": "[encoded data removed]",
      "text/plain": [
       "<Figure size 720x720 with 1 Axes>"
      ]
     },
     "metadata": {
      "needs_background": "light"
     },
     "output_type": "display_data"
    }
   ],
   "source": [
    "# ---- HISTOGRAM ----\n",
    "\n",
    "fig, ax = plt.subplots(figsize =(10, 10))\n",
    "ax.hist(ca_pigs.filter(items=['year']), bins = range(1810,2021))\n",
    "plt.show()"
   ]
  },
  {
   "cell_type": "markdown",
   "id": "e30d41cf-aaff-4d16-89d6-fef4b224310b",
   "metadata": {},
   "source": [
    "## (no) Pigs at Sedgwick\n",
    "\n",
    "Shapefile for Sedgiwck reserve come from UC Natural Reserve System Boundaries.\n",
    "\n",
    "https://nrs-ucanr.opendata.arcgis.com/datasets/UCANR::uc-natural-reserve-system-boundaries/about"
   ]
  },
  {
   "cell_type": "code",
   "execution_count": 27,
   "id": "da398b2a-5d5c-483f-9469-8b06d6fb66f0",
   "metadata": {},
   "outputs": [],
   "source": [
    "# ---- OPENING SHAPEFILE ----\n",
    "\n",
    "sedg_shp_path = \"/home/jovyan/Sedgwick_Reserve/sedgwick_geometry/sedgwick_geometry.shp\"\n",
    "sedg_shp = geopandas.read_file(sedg_shp_path)\n",
    "#sedg_shp.plot(edgecolor='purple', color='yellow')\n",
    "\n",
    "# --- matching CRS to data point\n",
    "#print(sedg_shp.crs)\n",
    "sedg_shp = sedg_shp.to_crs(4326)\n",
    "#print(sedg_shp.crs)"
   ]
  },
  {
   "cell_type": "code",
   "execution_count": 28,
   "id": "a3245dfa-97a7-4144-96be-63883935b539",
   "metadata": {},
   "outputs": [
    {
     "data": {
      "text/plain": [
       "0"
      ]
     },
     "execution_count": 28,
     "metadata": {},
     "output_type": "execute_result"
    }
   ],
   "source": [
    "# ----- FILTERING DATASET TO SEDGWICK BOUNDING BOX -----\n",
    "\n",
    "#print(sedg_shp.bounds)\n",
    "\n",
    "minx = sedg_shp.bounds['minx'][0]\n",
    "miny = sedg_shp.bounds['miny'][0]\n",
    "maxx = sedg_shp.bounds['maxx'][0]\n",
    "maxy = sedg_shp.bounds['maxy'][0]\n",
    "\n",
    "sedg_pigs = ca_pigs.loc[(miny < ca_pigs['decimallatitude'] ) & (ca_pigs['decimallatitude'] < maxy) &\n",
    "          (minx < ca_pigs['decimallongitude'] ) & (ca_pigs['decimallongitude'] < maxx)]\n",
    "\n",
    "sedg_pigs.size"
   ]
  },
  {
   "cell_type": "code",
   "execution_count": null,
   "id": "a8403bef-cbb2-4304-9061-1c7d6b3c0b3b",
   "metadata": {},
   "outputs": [],
   "source": []
  }
 ],
 "metadata": {
  "kernelspec": {
   "display_name": "Python 3 (ipykernel)",
   "language": "python",
   "name": "python3"
  },
  "language_info": {
   "codemirror_mode": {
    "name": "ipython",
    "version": 3
   },
   "file_extension": ".py",
   "mimetype": "text/x-python",
   "name": "python",
   "nbconvert_exporter": "python",
   "pygments_lexer": "ipython3",
   "version": "3.8.12"
  }
 },
 "nbformat": 4,
 "nbformat_minor": 5
}
