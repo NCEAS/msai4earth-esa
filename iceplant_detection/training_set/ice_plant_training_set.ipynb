{
 "cells": [
  {
   "cell_type": "code",
   "execution_count": 1,
   "id": "6a27f6e2-5bb4-4cbe-9b86-fceb6b6e7865",
   "metadata": {},
   "outputs": [],
   "source": [
    "import pystac_client\n",
    "import planetary_computer as pc\n",
    "\n",
    "import rasterio\n",
    "import rioxarray as rioxr\n",
    "import numpy as np\n",
    "import matplotlib.pyplot as plt\n",
    "import geopandas as gpd\n",
    "import pandas as pd\n",
    "import shapely\n",
    "import os\n",
    "\n",
    "from shapely.geometry import shape"
   ]
  },
  {
   "cell_type": "code",
   "execution_count": 2,
   "id": "ca5cf845-abea-4c65-a87e-64f67f18620b",
   "metadata": {},
   "outputs": [],
   "source": [
    "YEAR = 2018"
   ]
  },
  {
   "cell_type": "markdown",
   "id": "02053cf3-7707-4742-93f5-fa79452bc9ee",
   "metadata": {},
   "source": [
    "## Access NAIP image collection in Planetary Computer\n",
    "Adapted from sample notebook in Planetary Computer NAIP example code"
   ]
  },
  {
   "cell_type": "code",
   "execution_count": 3,
   "id": "7b6e0b48-efcb-43ed-a343-7e5dc952a742",
   "metadata": {},
   "outputs": [],
   "source": [
    "# accesing Azure storage using pystac client\n",
    "URL = \"https://planetarycomputer.microsoft.com/api/stac/v1\"\n",
    "catalog = pystac_client.Client.open(URL)"
   ]
  },
  {
   "cell_type": "code",
   "execution_count": 4,
   "id": "86c01390-b646-4dc8-b94d-fc94f14800f7",
   "metadata": {},
   "outputs": [
    {
     "name": "stdout",
     "output_type": "stream",
     "text": [
      "1 item(s) found\n"
     ]
    }
   ],
   "source": [
    "# Bounding box around Campus Point\n",
    "# created using https://boundingbox.klokantech.com\n",
    "area_of_interest = {\n",
    "    \"type\": \"Polygon\",\n",
    "    \"coordinates\": [[\n",
    "        [-119.8610195981,34.3938837903],\n",
    "        [-119.8306927339,34.3938837903],\n",
    "        [-119.8306927339,34.420119945],\n",
    "        [-119.8610195981,34.420119945],\n",
    "        [-119.8610195981,34.3938837903]\n",
    "    ]],\n",
    "}\n",
    "# Temporal range of interest\n",
    "date_range = str(YEAR)+'-01-01/'+str(YEAR)+'-12-31'\n",
    "\n",
    "# look in NAIP catalog for items on specified date and geographic range\n",
    "search = catalog.search(\n",
    "    collections=[\"naip\"], \n",
    "    intersects=area_of_interest, \n",
    "    datetime=date_range\n",
    ")\n",
    "\n",
    "items = list(search.get_items())\n",
    "print(f\"{len(items)} item(s) found\")"
   ]
  },
  {
   "cell_type": "code",
   "execution_count": 5,
   "id": "78fa4de2-fc20-425d-b731-a8b60543947f",
   "metadata": {},
   "outputs": [],
   "source": [
    "# choose the item that has the most overlap:\n",
    "area_shape = shape(area_of_interest)\n",
    "target_area = area_shape.area\n",
    "\n",
    "def area_of_overlap(item):\n",
    "    overlap_area = shape(item.geometry).intersection(shape(area_of_interest)).area\n",
    "    return overlap_area / target_area\n",
    "\n",
    "item = sorted(items, key=area_of_overlap, reverse=True)[0]"
   ]
  },
  {
   "cell_type": "code",
   "execution_count": 6,
   "id": "27e60596-8699-4e9f-9f19-fa551455d799",
   "metadata": {},
   "outputs": [
    {
     "name": "stdout",
     "output_type": "stream",
     "text": [
      "<Item id=ca_m_3411934_sw_11_060_20180722_20190209>\n",
      "type: <class 'pystac.item.Item'> \n",
      "\n",
      "gsd  :  0.6\n",
      "datetime  :  2018-07-22T00:00:00Z\n",
      "naip:year  :  2018\n",
      "proj:bbox  :  [235476.0, 3807168.0, 241728.0, 3814572.0]\n",
      "proj:epsg  :  26911\n",
      "naip:state  :  ca\n",
      "proj:shape  :  [12340, 10420]\n",
      "proj:transform  :  [0.6, 0.0, 235476.0, 0.0, -0.6, 3814572.0, 0.0, 0.0, 1.0]\n",
      "\n",
      "\n",
      "image  :  <Asset href=https://naipeuwest.blob.core.windows.net/naip/v002/ca/2018/ca_060cm_2018/34119/m_3411934_sw_11_060_20180722_20190209.tif>\n",
      "metadata  :  <Asset href=https://naipeuwest.blob.core.windows.net/naip/v002/ca/2018/ca_fgdc_2018/34119/m_3411934_sw_11_060_20180722.txt>\n",
      "thumbnail  :  <Asset href=https://naipeuwest.blob.core.windows.net/naip/v002/ca/2018/ca_060cm_2018/34119/m_3411934_sw_11_060_20180722_20190209.200.jpg>\n",
      "tilejson  :  <Asset href=https://planetarycomputer.microsoft.com/api/data/v1/item/tilejson.json?collection=naip&item=ca_m_3411934_sw_11_060_20180722_20190209&assets=image&asset_bidx=image%7C1%2C2%2C3>\n",
      "rendered_preview  :  <Asset href=https://planetarycomputer.microsoft.com/api/data/v1/item/preview.png?collection=naip&item=ca_m_3411934_sw_11_060_20180722_20190209&assets=image&asset_bidx=image%7C1%2C2%2C3>\n",
      "\n",
      "\n"
     ]
    }
   ],
   "source": [
    "def print_dict(dictionary):\n",
    "    for key, value in dictionary.items():\n",
    "        print(key, ' : ', value)\n",
    "    print('\\n')\n",
    "    return\n",
    "\n",
    "print(item)\n",
    "print('type:', type(item), '\\n')\n",
    "print_dict(item.properties)\n",
    "print_dict(item.assets)"
   ]
  },
  {
   "cell_type": "code",
   "execution_count": 7,
   "id": "6b7d60d9-9d20-4f8f-aef2-74f882c31bc2",
   "metadata": {},
   "outputs": [
    {
     "name": "stdout",
     "output_type": "stream",
     "text": [
      "<class 'rasterio.io.DatasetReader'>\n"
     ]
    }
   ],
   "source": [
    "# sign and open item\n",
    "href = pc.sign(item.assets[\"image\"].href)\n",
    "ds = rasterio.open(href)\n",
    "print(type(ds))"
   ]
  },
  {
   "cell_type": "code",
   "execution_count": 8,
   "id": "56bafdd2-75bf-425b-8173-93dc7d0ae953",
   "metadata": {},
   "outputs": [
    {
     "name": "stdout",
     "output_type": "stream",
     "text": [
      "type:  <class 'rasterio.io.DatasetReader'>\n",
      "mode:  r\n",
      "# bands:  4 \n",
      "\n",
      "collection date: 2018-07-22 00:00:00+00:00 \n",
      "\n",
      "height:  12340\n",
      "width:  10420 \n",
      "\n",
      "CRS:  EPSG:26911\n",
      "spatial bounding box: \n",
      "BoundingBox(left=235476.0, bottom=3807168.0, right=241728.0, top=3814572.0)\n",
      "affine transform: \n",
      "| 0.60, 0.00, 235476.00|\n",
      "| 0.00,-0.60, 3814572.00|\n",
      "| 0.00, 0.00, 1.00|\n",
      "resolution: (0.6, 0.6)\n"
     ]
    }
   ],
   "source": [
    "# Explore opened dataset\n",
    "print('type: ', type(ds))\n",
    "print('mode: ', ds.mode)\n",
    "print('# bands: ', ds.count, '\\n')\n",
    "\n",
    "print('collection date:', item.datetime, '\\n')\n",
    "      \n",
    "print('height: ',ds.height)\n",
    "print('width: ', ds.width, '\\n')\n",
    "      \n",
    "print('CRS: ', ds.crs)      \n",
    "print('spatial bounding box: ')\n",
    "print(ds.bounds)\n",
    "print('affine transform: ')\n",
    "print(ds.transform)   # see also get_transform() and read_transform()\n",
    "print('resolution:', ds.res)"
   ]
  },
  {
   "cell_type": "code",
   "execution_count": 9,
   "id": "04265924-e670-4cda-894e-e6319773c727",
   "metadata": {},
   "outputs": [],
   "source": [
    "# check image\n",
    "# some re-arranging of the order of the bands needs to be doe to fd it into .imshow\n",
    "#plt.imshow(np.moveaxis(ds.read(indexes=[1,2,3]),0,-1)) "
   ]
  },
  {
   "cell_type": "markdown",
   "id": "6dc30b92-4589-440a-b43e-f3db80ed14e0",
   "metadata": {},
   "source": [
    "## Select GBIF year data"
   ]
  },
  {
   "cell_type": "code",
   "execution_count": 10,
   "id": "6c872c7e-2b11-419e-af50-d69d63ad2b9f",
   "metadata": {},
   "outputs": [
    {
     "name": "stdout",
     "output_type": "stream",
     "text": [
      "# observations: 427\n",
      "# columns: 52 \n",
      "\n",
      "Index(['Unnamed: 0', 'gbifid', 'datasetkey', 'occurrenceid', 'kingdom',\n",
      "       'phylum', 'class', 'order', 'family', 'genus', 'species',\n",
      "       'infraspecificepithet', 'taxonrank', 'scientificname',\n",
      "       'verbatimscientificname', 'verbatimscientificnameauthorship',\n",
      "       'countrycode', 'locality', 'stateprovince', 'occurrencestatus',\n",
      "       'individualcount', 'publishingorgkey', 'decimallatitude',\n",
      "       'decimallongitude', 'coordinateuncertaintyinmeters',\n",
      "       'coordinateprecision', 'elevation', 'elevationaccuracy', 'depth',\n",
      "       'depthaccuracy', 'eventdate', 'day', 'month', 'year', 'taxonkey',\n",
      "       'specieskey', 'basisofrecord', 'institutioncode', 'collectioncode',\n",
      "       'catalognumber', 'recordnumber', 'identifiedby', 'dateidentified',\n",
      "       'license', 'rightsholder', 'recordedby', 'typestatus',\n",
      "       'establishmentmeans', 'lastinterpreted', 'mediatype', 'issue',\n",
      "       'geometry'],\n",
      "      dtype='object')\n"
     ]
    }
   ],
   "source": [
    "# this data was saved to memory from GBIF datset on the Planetary Comp\n",
    "# see notebook selecting_gbif_data\n",
    "\n",
    "gbifdata = 'c_edulis_observations.csv'\n",
    "obs_all = pd.read_csv(os.path.join(os.getcwd(),'aux_data',gbifdata))\n",
    "\n",
    "obs_all = gpd.GeoDataFrame(\n",
    "    obs_all,\n",
    "    crs = \"EPSG:4326\",\n",
    "    geometry = gpd.points_from_xy(\n",
    "        x= obs_all.decimallongitude,\n",
    "        y= obs_all.decimallatitude)\n",
    ")\n",
    "\n",
    "\n",
    "print('# observations:', obs_all.shape[0])\n",
    "print('# columns:', obs_all.shape[1], '\\n')\n",
    "print(obs_all.columns)\n",
    "#obs_all.head()"
   ]
  },
  {
   "cell_type": "code",
   "execution_count": 11,
   "id": "6a4c1485-6311-4d31-8133-eb93f371be74",
   "metadata": {},
   "outputs": [
    {
     "name": "stdout",
     "output_type": "stream",
     "text": [
      "# observations: 62\n"
     ]
    },
    {
     "data": {
      "text/html": [
       "<div>\n",
       "<style scoped>\n",
       "    .dataframe tbody tr th:only-of-type {\n",
       "        vertical-align: middle;\n",
       "    }\n",
       "\n",
       "    .dataframe tbody tr th {\n",
       "        vertical-align: top;\n",
       "    }\n",
       "\n",
       "    .dataframe thead th {\n",
       "        text-align: right;\n",
       "    }\n",
       "</style>\n",
       "<table border=\"1\" class=\"dataframe\">\n",
       "  <thead>\n",
       "    <tr style=\"text-align: right;\">\n",
       "      <th></th>\n",
       "      <th>year</th>\n",
       "      <th>month</th>\n",
       "      <th>geometry</th>\n",
       "      <th>decimallatitude</th>\n",
       "      <th>decimallongitude</th>\n",
       "      <th>coordinateuncertaintyinmeters</th>\n",
       "      <th>institutioncode</th>\n",
       "    </tr>\n",
       "  </thead>\n",
       "  <tbody>\n",
       "    <tr>\n",
       "      <th>0</th>\n",
       "      <td>2018.0</td>\n",
       "      <td>4.0</td>\n",
       "      <td>POINT (-122.53049 38.00750)</td>\n",
       "      <td>38.007500</td>\n",
       "      <td>-122.530487</td>\n",
       "      <td>5.0</td>\n",
       "      <td>iNaturalist</td>\n",
       "    </tr>\n",
       "    <tr>\n",
       "      <th>1</th>\n",
       "      <td>2018.0</td>\n",
       "      <td>12.0</td>\n",
       "      <td>POINT (-121.91021 36.62163)</td>\n",
       "      <td>36.621633</td>\n",
       "      <td>-121.910213</td>\n",
       "      <td>NaN</td>\n",
       "      <td>iNaturalist</td>\n",
       "    </tr>\n",
       "    <tr>\n",
       "      <th>2</th>\n",
       "      <td>2018.0</td>\n",
       "      <td>4.0</td>\n",
       "      <td>POINT (-122.48073 37.79367)</td>\n",
       "      <td>37.793672</td>\n",
       "      <td>-122.480735</td>\n",
       "      <td>14.0</td>\n",
       "      <td>iNaturalist</td>\n",
       "    </tr>\n",
       "    <tr>\n",
       "      <th>3</th>\n",
       "      <td>2018.0</td>\n",
       "      <td>6.0</td>\n",
       "      <td>POINT (-120.86054 35.37261)</td>\n",
       "      <td>35.372605</td>\n",
       "      <td>-120.860542</td>\n",
       "      <td>5.0</td>\n",
       "      <td>iNaturalist</td>\n",
       "    </tr>\n",
       "    <tr>\n",
       "      <th>4</th>\n",
       "      <td>2018.0</td>\n",
       "      <td>2.0</td>\n",
       "      <td>POINT (-122.43967 37.43072)</td>\n",
       "      <td>37.430723</td>\n",
       "      <td>-122.439666</td>\n",
       "      <td>4.0</td>\n",
       "      <td>iNaturalist</td>\n",
       "    </tr>\n",
       "  </tbody>\n",
       "</table>\n",
       "</div>"
      ],
      "text/plain": [
       "     year  month                     geometry  decimallatitude  \\\n",
       "0  2018.0    4.0  POINT (-122.53049 38.00750)        38.007500   \n",
       "1  2018.0   12.0  POINT (-121.91021 36.62163)        36.621633   \n",
       "2  2018.0    4.0  POINT (-122.48073 37.79367)        37.793672   \n",
       "3  2018.0    6.0  POINT (-120.86054 35.37261)        35.372605   \n",
       "4  2018.0    2.0  POINT (-122.43967 37.43072)        37.430723   \n",
       "\n",
       "   decimallongitude  coordinateuncertaintyinmeters institutioncode  \n",
       "0       -122.530487                            5.0     iNaturalist  \n",
       "1       -121.910213                            NaN     iNaturalist  \n",
       "2       -122.480735                           14.0     iNaturalist  \n",
       "3       -120.860542                            5.0     iNaturalist  \n",
       "4       -122.439666                            4.0     iNaturalist  "
      ]
     },
     "execution_count": 11,
     "metadata": {},
     "output_type": "execute_result"
    }
   ],
   "source": [
    "# select data for yeear of interest: YEAR defined at top of notebok\n",
    "\n",
    "obs = obs_all.loc[obs_all['year'] == YEAR]\n",
    "obs = obs[['year',\n",
    "           'month',\n",
    "           'geometry', \n",
    "           'decimallatitude', 'decimallongitude', \n",
    "           'coordinateuncertaintyinmeters',\n",
    "           'institutioncode']]\n",
    "obs.reset_index(drop=True, inplace=True)\n",
    "print('# observations:', obs.shape[0])\n",
    "obs.head()"
   ]
  },
  {
   "cell_type": "code",
   "execution_count": 12,
   "id": "80738565-2b54-49e5-93e1-7b98b43ba618",
   "metadata": {},
   "outputs": [
    {
     "data": {
      "text/plain": [
       "array([4.00e+00, 5.00e+00, 6.00e+00, 1.00e+01, 1.20e+01, 1.40e+01,\n",
       "       1.60e+01, 1.39e+02, 1.86e+02, 2.37e+02, 4.72e+03,      nan,\n",
       "            nan,      nan,      nan,      nan,      nan,      nan,\n",
       "            nan,      nan,      nan,      nan,      nan,      nan,\n",
       "            nan,      nan,      nan,      nan,      nan,      nan,\n",
       "            nan,      nan,      nan,      nan,      nan,      nan,\n",
       "            nan,      nan,      nan,      nan,      nan,      nan,\n",
       "            nan,      nan,      nan,      nan,      nan,      nan])"
      ]
     },
     "execution_count": 12,
     "metadata": {},
     "output_type": "execute_result"
    }
   ],
   "source": [
    "# Remove those above certain threshold for accuracy?\n",
    "# keeping all for the time being\n",
    "np.unique(obs.coordinateuncertaintyinmeters)"
   ]
  },
  {
   "cell_type": "code",
   "execution_count": 13,
   "id": "79a3a298-330f-4367-b4d6-04994f4717f8",
   "metadata": {},
   "outputs": [
    {
     "data": {
      "text/plain": [
       "<AxesSubplot:>"
      ]
     },
     "execution_count": 13,
     "metadata": {},
     "output_type": "execute_result"
    },
    {
     "data": {
      "image/png": "[encoded data removed]",
      "text/plain": [
       "<Figure size 432x432 with 1 Axes>"
      ]
     },
     "metadata": {
      "needs_background": "light"
     },
     "output_type": "display_data"
    }
   ],
   "source": [
    "# ---- plot observations over california ----\n",
    "ca_shape_path = \"/home/jovyan/msai4earth-esa/shapefiles_n_rasters/CA_geometry/CA_State_TIGER2016.shp\"\n",
    "ca_shape = gpd.read_file(ca_shape_path)\n",
    "\n",
    "fig, ax = plt.subplots(figsize = (6,6))\n",
    "ca_shape.plot(ax=ax, color='lightgrey')\n",
    "obs[['geometry']].to_crs(ca_shape.crs).plot(ax=ax, alpha=0.5)"
   ]
  },
  {
   "cell_type": "code",
   "execution_count": 14,
   "id": "8b738c07-e9a1-4bcf-b8d2-3e3c2eca6f11",
   "metadata": {},
   "outputs": [],
   "source": [
    "# Match observation crs with NAIP crs\n",
    "obs = obs[['geometry']]\n",
    "obs['geometry'] = obs['geometry'].to_crs(ds.crs)"
   ]
  },
  {
   "cell_type": "markdown",
   "id": "73fbd85e-4df2-4c49-8c9d-6f666056b66b",
   "metadata": {},
   "source": [
    "## USE POINTS TO EXTRACT BANDS INFO FROM NAIP IMAGE\n",
    "\n",
    "To extract information about the NAIP image we will use the dataset method `sample()` from `ds`, which is a `rasterio.io.DatasetReader`. This method will return an iterable object, remember this can omly be iterated through once.\n",
    "\n",
    "See more at:\n",
    "https://rasterio.readthedocs.io/en/latest/api/rasterio.io.html\n",
    "\n",
    "Because not all coordinates will be within the NAIP image, some of the samples will be [0,0,0,0]. We need to discard those."
   ]
  },
  {
   "cell_type": "code",
   "execution_count": 18,
   "id": "eabb208d-8e31-4c10-a41f-1eb40e4b1cd9",
   "metadata": {},
   "outputs": [
    {
     "data": {
      "text/plain": [
       "(14, 39)"
      ]
     },
     "execution_count": 18,
     "metadata": {},
     "output_type": "execute_result"
    }
   ],
   "source": [
    "fp = os.path.join(os.getcwd(),'aux_data','observations-220884.csv')\n",
    "obs16 = gpd.GeoDataFrame(\n",
    "    pd.read_csv(fp), \n",
    "    crs = \"EPSG:4326\",\n",
    "    geometry = gpd.points_from_xy(\n",
    "        x= pd.read_csv(fp).longitude, \n",
    "        y= pd.read_csv(fp).latitude)\n",
    ")\n",
    "\n",
    "#********** CHECK IF THIS IS REALLY THE BEST WAY TO DO THIS *******\n",
    "obs16['geometry'] = obs16['geometry'].to_crs(ds.crs)\n",
    "obs16.shape"
   ]
  },
  {
   "cell_type": "code",
   "execution_count": 19,
   "id": "63fb5baa-957e-42f5-81c2-f401c5f06444",
   "metadata": {},
   "outputs": [
    {
     "data": {
      "text/html": [
       "<div>\n",
       "<style scoped>\n",
       "    .dataframe tbody tr th:only-of-type {\n",
       "        vertical-align: middle;\n",
       "    }\n",
       "\n",
       "    .dataframe tbody tr th {\n",
       "        vertical-align: top;\n",
       "    }\n",
       "\n",
       "    .dataframe thead th {\n",
       "        text-align: right;\n",
       "    }\n",
       "</style>\n",
       "<table border=\"1\" class=\"dataframe\">\n",
       "  <thead>\n",
       "    <tr style=\"text-align: right;\">\n",
       "      <th></th>\n",
       "      <th>geometry</th>\n",
       "    </tr>\n",
       "  </thead>\n",
       "  <tbody>\n",
       "    <tr>\n",
       "      <th>0</th>\n",
       "      <td>POINT (238399.666 3810854.686)</td>\n",
       "    </tr>\n",
       "    <tr>\n",
       "      <th>1</th>\n",
       "      <td>POINT (238161.595 3810936.091)</td>\n",
       "    </tr>\n",
       "    <tr>\n",
       "      <th>2</th>\n",
       "      <td>POINT (238396.613 3810861.015)</td>\n",
       "    </tr>\n",
       "    <tr>\n",
       "      <th>3</th>\n",
       "      <td>POINT (238156.566 3810942.123)</td>\n",
       "    </tr>\n",
       "    <tr>\n",
       "      <th>4</th>\n",
       "      <td>POINT (238168.362 3810934.317)</td>\n",
       "    </tr>\n",
       "    <tr>\n",
       "      <th>5</th>\n",
       "      <td>POINT (238402.912 3810859.251)</td>\n",
       "    </tr>\n",
       "    <tr>\n",
       "      <th>6</th>\n",
       "      <td>POINT (236880.057 3811269.448)</td>\n",
       "    </tr>\n",
       "    <tr>\n",
       "      <th>7</th>\n",
       "      <td>POINT (235950.976 3811945.415)</td>\n",
       "    </tr>\n",
       "  </tbody>\n",
       "</table>\n",
       "</div>"
      ],
      "text/plain": [
       "                         geometry\n",
       "0  POINT (238399.666 3810854.686)\n",
       "1  POINT (238161.595 3810936.091)\n",
       "2  POINT (238396.613 3810861.015)\n",
       "3  POINT (238156.566 3810942.123)\n",
       "4  POINT (238168.362 3810934.317)\n",
       "5  POINT (238402.912 3810859.251)\n",
       "6  POINT (236880.057 3811269.448)\n",
       "7  POINT (235950.976 3811945.415)"
      ]
     },
     "execution_count": 19,
     "metadata": {},
     "output_type": "execute_result"
    }
   ],
   "source": [
    "# Find points within NAIP image\n",
    "\n",
    "naip_box = shapely.geometry.box(*ds.bounds)\n",
    "\n",
    "# *******************************************************************\n",
    "# ***** UPDATE ALL THIS TO JUST SUBSETING THE obs geodataframe *****\n",
    "df = []\n",
    "for point in obs16['geometry']:\n",
    "    if naip_box.contains(point):\n",
    "        df.append(point)\n",
    "\n",
    "naip_obs = gpd.GeoDataFrame()\n",
    "naip_obs['geometry']=df\n",
    "naip_obs.set_crs(ds.crs, inplace=True)\n",
    "# *******************************************************************\n",
    "\n",
    "save = False\n",
    "if(save):\n",
    "    naip_obs.to_file(os.path.join(os.getcwd(),'aux_data','naip16_obs.shp'))\n",
    "naip_obs"
   ]
  },
  {
   "cell_type": "code",
   "execution_count": 17,
   "id": "2dbb0ba9-63f5-4d95-a3ac-35d1d3e79851",
   "metadata": {},
   "outputs": [
    {
     "data": {
      "text/html": [
       "<div>\n",
       "<style scoped>\n",
       "    .dataframe tbody tr th:only-of-type {\n",
       "        vertical-align: middle;\n",
       "    }\n",
       "\n",
       "    .dataframe tbody tr th {\n",
       "        vertical-align: top;\n",
       "    }\n",
       "\n",
       "    .dataframe thead th {\n",
       "        text-align: right;\n",
       "    }\n",
       "</style>\n",
       "<table border=\"1\" class=\"dataframe\">\n",
       "  <thead>\n",
       "    <tr style=\"text-align: right;\">\n",
       "      <th></th>\n",
       "      <th>r</th>\n",
       "      <th>g</th>\n",
       "      <th>b</th>\n",
       "      <th>nifr</th>\n",
       "    </tr>\n",
       "  </thead>\n",
       "  <tbody>\n",
       "    <tr>\n",
       "      <th>0</th>\n",
       "      <td>29</td>\n",
       "      <td>30</td>\n",
       "      <td>39</td>\n",
       "      <td>47</td>\n",
       "    </tr>\n",
       "    <tr>\n",
       "      <th>1</th>\n",
       "      <td>62</td>\n",
       "      <td>57</td>\n",
       "      <td>63</td>\n",
       "      <td>112</td>\n",
       "    </tr>\n",
       "    <tr>\n",
       "      <th>2</th>\n",
       "      <td>123</td>\n",
       "      <td>107</td>\n",
       "      <td>102</td>\n",
       "      <td>141</td>\n",
       "    </tr>\n",
       "    <tr>\n",
       "      <th>3</th>\n",
       "      <td>63</td>\n",
       "      <td>55</td>\n",
       "      <td>57</td>\n",
       "      <td>101</td>\n",
       "    </tr>\n",
       "    <tr>\n",
       "      <th>4</th>\n",
       "      <td>84</td>\n",
       "      <td>81</td>\n",
       "      <td>74</td>\n",
       "      <td>126</td>\n",
       "    </tr>\n",
       "    <tr>\n",
       "      <th>5</th>\n",
       "      <td>141</td>\n",
       "      <td>133</td>\n",
       "      <td>121</td>\n",
       "      <td>140</td>\n",
       "    </tr>\n",
       "    <tr>\n",
       "      <th>6</th>\n",
       "      <td>103</td>\n",
       "      <td>105</td>\n",
       "      <td>84</td>\n",
       "      <td>137</td>\n",
       "    </tr>\n",
       "    <tr>\n",
       "      <th>7</th>\n",
       "      <td>62</td>\n",
       "      <td>59</td>\n",
       "      <td>60</td>\n",
       "      <td>133</td>\n",
       "    </tr>\n",
       "  </tbody>\n",
       "</table>\n",
       "</div>"
      ],
      "text/plain": [
       "     r    g    b  nifr\n",
       "0   29   30   39    47\n",
       "1   62   57   63   112\n",
       "2  123  107  102   141\n",
       "3   63   55   57   101\n",
       "4   84   81   74   126\n",
       "5  141  133  121   140\n",
       "6  103  105   84   137\n",
       "7   62   59   60   133"
      ]
     },
     "execution_count": 17,
     "metadata": {},
     "output_type": "execute_result"
    }
   ],
   "source": [
    "# we will need this form for the coordiantes to extract bands\n",
    "naip_obs['xy'] = naip_obs.geometry.apply(lambda p: (p.x,p.y))\n",
    "\n",
    "sample = ds.sample(naip_obs.xy)\n",
    "\n",
    "data = []\n",
    "for i in sample:\n",
    "    if (i!= [0,0,0,0]).all():  # **** THIS IS NOT NEEDED BC WE FILTERED TO PTS WITHING IMAGE ***\n",
    "        data.append(i)\n",
    "data = np.vstack(data)\n",
    "data = pd.DataFrame(data, columns=['r','g','b','nifr'])\n",
    "data"
   ]
  },
  {
   "cell_type": "markdown",
   "id": "50451a74-defa-448a-98ec-a54b6dff2fe8",
   "metadata": {},
   "source": [
    "## Opening polygons extracted from QGIS\n",
    "\n",
    "How to generate a new list of polygons in QGIS\n",
    "https://www.youtube.com/watch?v=knD2S89FV04\n",
    "\n",
    "How to open NAIP images directly on QGIS using the STAC plugin\n",
    "https://planetarycomputer.microsoft.com/docs/overview/qgis-plugin/\n",
    "https://stac-utils.github.io/qgis-stac-plugin/user-guide/\n",
    "\n",
    "Randomly sample points in polygons\n",
    "https://gis.stackexchange.com/questions/294394/randomly-sample-from-geopandas-dataframe-in-python\n"
   ]
  },
  {
   "cell_type": "code",
   "execution_count": 21,
   "id": "0e85e4ed-758d-43de-b096-e12e5feff49f",
   "metadata": {},
   "outputs": [
    {
     "data": {
      "text/html": [
       "<div>\n",
       "<style scoped>\n",
       "    .dataframe tbody tr th:only-of-type {\n",
       "        vertical-align: middle;\n",
       "    }\n",
       "\n",
       "    .dataframe tbody tr th {\n",
       "        vertical-align: top;\n",
       "    }\n",
       "\n",
       "    .dataframe thead th {\n",
       "        text-align: right;\n",
       "    }\n",
       "</style>\n",
       "<table border=\"1\" class=\"dataframe\">\n",
       "  <thead>\n",
       "    <tr style=\"text-align: right;\">\n",
       "      <th></th>\n",
       "      <th>id</th>\n",
       "      <th>geometry</th>\n",
       "    </tr>\n",
       "  </thead>\n",
       "  <tbody>\n",
       "    <tr>\n",
       "      <th>0</th>\n",
       "      <td>0</td>\n",
       "      <td>POLYGON ((-119.84689 34.40631, -119.84356 34.4...</td>\n",
       "    </tr>\n",
       "    <tr>\n",
       "      <th>1</th>\n",
       "      <td>1</td>\n",
       "      <td>POLYGON ((-119.84710 34.41094, -119.84223 34.4...</td>\n",
       "    </tr>\n",
       "    <tr>\n",
       "      <th>2</th>\n",
       "      <td>2</td>\n",
       "      <td>POLYGON ((-119.86752 34.41834, -119.85331 34.4...</td>\n",
       "    </tr>\n",
       "  </tbody>\n",
       "</table>\n",
       "</div>"
      ],
      "text/plain": [
       "   id                                           geometry\n",
       "0   0  POLYGON ((-119.84689 34.40631, -119.84356 34.4...\n",
       "1   1  POLYGON ((-119.84710 34.41094, -119.84223 34.4...\n",
       "2   2  POLYGON ((-119.86752 34.41834, -119.85331 34.4..."
      ]
     },
     "execution_count": 21,
     "metadata": {},
     "output_type": "execute_result"
    }
   ],
   "source": [
    "fp = os.path.join(os.getcwd(),'aux_data','polygons_2016/trial.shp')\n",
    "trial_polys = gpd.read_file(fp)\n",
    "trial_polys"
   ]
  },
  {
   "cell_type": "code",
   "execution_count": 19,
   "id": "6f98480f-a128-4915-a647-b74ba66e71d4",
   "metadata": {},
   "outputs": [
    {
     "data": {
      "text/plain": [
       "<Geographic 2D CRS: EPSG:4326>\n",
       "Name: WGS 84\n",
       "Axis Info [ellipsoidal]:\n",
       "- Lat[north]: Geodetic latitude (degree)\n",
       "- Lon[east]: Geodetic longitude (degree)\n",
       "Area of Use:\n",
       "- name: World.\n",
       "- bounds: (-180.0, -90.0, 180.0, 90.0)\n",
       "Datum: World Geodetic System 1984 ensemble\n",
       "- Ellipsoid: WGS 84\n",
       "- Prime Meridian: Greenwich"
      ]
     },
     "execution_count": 19,
     "metadata": {},
     "output_type": "execute_result"
    }
   ],
   "source": [
    "trial_polys.crs"
   ]
  },
  {
   "cell_type": "code",
   "execution_count": 20,
   "id": "2dcb2c15-3d44-4637-b877-5ae4f391c12c",
   "metadata": {},
   "outputs": [
    {
     "data": {
      "text/plain": [
       "<AxesSubplot:>"
      ]
     },
     "execution_count": 20,
     "metadata": {},
     "output_type": "execute_result"
    },
    {
     "data": {
      "image/png": "[encoded data removed]",
      "text/plain": [
       "<Figure size 576x576 with 1 Axes>"
      ]
     },
     "metadata": {
      "needs_background": "light"
     },
     "output_type": "display_data"
    }
   ],
   "source": [
    "fig, ax = plt.subplots()\n",
    "fig.set_size_inches((8,8))\n",
    "trial_polys.plot(ax=ax)"
   ]
  },
  {
   "cell_type": "code",
   "execution_count": 21,
   "id": "2c368447-e777-42ac-be22-d44db8a019d7",
   "metadata": {},
   "outputs": [],
   "source": [
    "from shapely.geometry import Point\n",
    "import random\n",
    "\n",
    "######\n",
    "def random_points_in_polygon(number, polygon):\n",
    "    points = []\n",
    "    min_x, min_y, max_x, max_y = polygon.bounds\n",
    "    i= 0\n",
    "    while i < number:\n",
    "        point = Point(random.uniform(min_x, max_x), random.uniform(min_y, max_y))\n",
    "        if polygon.contains(point):\n",
    "            points.append(point)\n",
    "            i += 1\n",
    "    return points  \n",
    "######"
   ]
  },
  {
   "cell_type": "code",
   "execution_count": 22,
   "id": "fbc6bcdd-0083-4db5-9a06-657c5b828b47",
   "metadata": {},
   "outputs": [
    {
     "data": {
      "text/html": [
       "<div>\n",
       "<style scoped>\n",
       "    .dataframe tbody tr th:only-of-type {\n",
       "        vertical-align: middle;\n",
       "    }\n",
       "\n",
       "    .dataframe tbody tr th {\n",
       "        vertical-align: top;\n",
       "    }\n",
       "\n",
       "    .dataframe thead th {\n",
       "        text-align: right;\n",
       "    }\n",
       "</style>\n",
       "<table border=\"1\" class=\"dataframe\">\n",
       "  <thead>\n",
       "    <tr style=\"text-align: right;\">\n",
       "      <th></th>\n",
       "      <th>geometry</th>\n",
       "    </tr>\n",
       "  </thead>\n",
       "  <tbody>\n",
       "    <tr>\n",
       "      <th>0</th>\n",
       "      <td>POINT (-119.86364 34.41476)</td>\n",
       "    </tr>\n",
       "    <tr>\n",
       "      <th>1</th>\n",
       "      <td>POINT (-119.86591 34.41448)</td>\n",
       "    </tr>\n",
       "    <tr>\n",
       "      <th>2</th>\n",
       "      <td>POINT (-119.86760 34.41503)</td>\n",
       "    </tr>\n",
       "    <tr>\n",
       "      <th>3</th>\n",
       "      <td>POINT (-119.85476 34.41409)</td>\n",
       "    </tr>\n",
       "    <tr>\n",
       "      <th>4</th>\n",
       "      <td>POINT (-119.86190 34.41512)</td>\n",
       "    </tr>\n",
       "  </tbody>\n",
       "</table>\n",
       "</div>"
      ],
      "text/plain": [
       "                      geometry\n",
       "0  POINT (-119.86364 34.41476)\n",
       "1  POINT (-119.86591 34.41448)\n",
       "2  POINT (-119.86760 34.41503)\n",
       "3  POINT (-119.85476 34.41409)\n",
       "4  POINT (-119.86190 34.41512)"
      ]
     },
     "execution_count": 22,
     "metadata": {},
     "output_type": "execute_result"
    }
   ],
   "source": [
    "i=2\n",
    "points = random_points_in_polygon(20,trial_polys['geometry'][i])\n",
    "# ********** SIMPLIFY THIS ***************\n",
    "geo_points = gpd.GeoDataFrame()\n",
    "geo_points['geometry']=points\n",
    "geo_points.set_crs(trial_polys.crs,inplace=True)\n",
    "# *******************************************************************\n",
    "geo_points.head()"
   ]
  },
  {
   "cell_type": "code",
   "execution_count": 24,
   "id": "08c4a73f-dc26-4c8a-8d4d-6a5dd0ee57e1",
   "metadata": {},
   "outputs": [
    {
     "data": {
      "text/plain": [
       "<AxesSubplot:>"
      ]
     },
     "execution_count": 24,
     "metadata": {},
     "output_type": "execute_result"
    },
    {
     "data": {
      "image/png": "[encoded data removed]",
      "text/plain": [
       "<Figure size 576x576 with 1 Axes>"
      ]
     },
     "metadata": {
      "needs_background": "light"
     },
     "output_type": "display_data"
    }
   ],
   "source": [
    "fig, ax = plt.subplots()\n",
    "fig.set_size_inches((8,8))\n",
    "trial_polys.plot(ax=ax)\n",
    "geo_points.plot(ax=ax, color=\"yellow\")"
   ]
  },
  {
   "cell_type": "markdown",
   "id": "68139bdd-1782-4fb7-9ded-b79a65018ab6",
   "metadata": {},
   "source": [
    "## Sample NAIP image data at random points"
   ]
  },
  {
   "cell_type": "code",
   "execution_count": 28,
   "id": "43a83b85-a472-45ca-b626-fc88eb0675f4",
   "metadata": {},
   "outputs": [
    {
     "data": {
      "text/plain": [
       "<Derived Projected CRS: EPSG:26911>\n",
       "Name: NAD83 / UTM zone 11N\n",
       "Axis Info [cartesian]:\n",
       "- [east]: Easting (metre)\n",
       "- [north]: Northing (metre)\n",
       "Area of Use:\n",
       "- undefined\n",
       "Coordinate Operation:\n",
       "- name: UTM zone 11N\n",
       "- method: Transverse Mercator\n",
       "Datum: North American Datum 1983\n",
       "- Ellipsoid: GRS 1980\n",
       "- Prime Meridian: Greenwich"
      ]
     },
     "execution_count": 28,
     "metadata": {},
     "output_type": "execute_result"
    }
   ],
   "source": [
    "geo_points['geometry'] = geo_points['geometry'].to_crs(ds.crs)\n",
    "geo_points.crs"
   ]
  },
  {
   "cell_type": "code",
   "execution_count": 29,
   "id": "949966ff-c85f-4dbf-a05c-b857b64a0047",
   "metadata": {},
   "outputs": [
    {
     "data": {
      "text/html": [
       "<div>\n",
       "<style scoped>\n",
       "    .dataframe tbody tr th:only-of-type {\n",
       "        vertical-align: middle;\n",
       "    }\n",
       "\n",
       "    .dataframe tbody tr th {\n",
       "        vertical-align: top;\n",
       "    }\n",
       "\n",
       "    .dataframe thead th {\n",
       "        text-align: right;\n",
       "    }\n",
       "</style>\n",
       "<table border=\"1\" class=\"dataframe\">\n",
       "  <thead>\n",
       "    <tr style=\"text-align: right;\">\n",
       "      <th></th>\n",
       "      <th>r</th>\n",
       "      <th>g</th>\n",
       "      <th>b</th>\n",
       "      <th>nifr</th>\n",
       "    </tr>\n",
       "  </thead>\n",
       "  <tbody>\n",
       "    <tr>\n",
       "      <th>0</th>\n",
       "      <td>92</td>\n",
       "      <td>87</td>\n",
       "      <td>100</td>\n",
       "      <td>75</td>\n",
       "    </tr>\n",
       "    <tr>\n",
       "      <th>1</th>\n",
       "      <td>77</td>\n",
       "      <td>74</td>\n",
       "      <td>84</td>\n",
       "      <td>70</td>\n",
       "    </tr>\n",
       "    <tr>\n",
       "      <th>2</th>\n",
       "      <td>89</td>\n",
       "      <td>78</td>\n",
       "      <td>73</td>\n",
       "      <td>127</td>\n",
       "    </tr>\n",
       "    <tr>\n",
       "      <th>3</th>\n",
       "      <td>92</td>\n",
       "      <td>95</td>\n",
       "      <td>82</td>\n",
       "      <td>153</td>\n",
       "    </tr>\n",
       "    <tr>\n",
       "      <th>4</th>\n",
       "      <td>172</td>\n",
       "      <td>144</td>\n",
       "      <td>106</td>\n",
       "      <td>182</td>\n",
       "    </tr>\n",
       "    <tr>\n",
       "      <th>5</th>\n",
       "      <td>133</td>\n",
       "      <td>134</td>\n",
       "      <td>133</td>\n",
       "      <td>120</td>\n",
       "    </tr>\n",
       "    <tr>\n",
       "      <th>6</th>\n",
       "      <td>147</td>\n",
       "      <td>145</td>\n",
       "      <td>136</td>\n",
       "      <td>136</td>\n",
       "    </tr>\n",
       "    <tr>\n",
       "      <th>7</th>\n",
       "      <td>122</td>\n",
       "      <td>123</td>\n",
       "      <td>118</td>\n",
       "      <td>117</td>\n",
       "    </tr>\n",
       "    <tr>\n",
       "      <th>8</th>\n",
       "      <td>125</td>\n",
       "      <td>121</td>\n",
       "      <td>117</td>\n",
       "      <td>125</td>\n",
       "    </tr>\n",
       "    <tr>\n",
       "      <th>9</th>\n",
       "      <td>101</td>\n",
       "      <td>82</td>\n",
       "      <td>76</td>\n",
       "      <td>124</td>\n",
       "    </tr>\n",
       "    <tr>\n",
       "      <th>10</th>\n",
       "      <td>92</td>\n",
       "      <td>95</td>\n",
       "      <td>101</td>\n",
       "      <td>77</td>\n",
       "    </tr>\n",
       "    <tr>\n",
       "      <th>11</th>\n",
       "      <td>51</td>\n",
       "      <td>49</td>\n",
       "      <td>58</td>\n",
       "      <td>76</td>\n",
       "    </tr>\n",
       "    <tr>\n",
       "      <th>12</th>\n",
       "      <td>199</td>\n",
       "      <td>200</td>\n",
       "      <td>197</td>\n",
       "      <td>186</td>\n",
       "    </tr>\n",
       "    <tr>\n",
       "      <th>13</th>\n",
       "      <td>86</td>\n",
       "      <td>75</td>\n",
       "      <td>74</td>\n",
       "      <td>124</td>\n",
       "    </tr>\n",
       "    <tr>\n",
       "      <th>14</th>\n",
       "      <td>44</td>\n",
       "      <td>47</td>\n",
       "      <td>60</td>\n",
       "      <td>43</td>\n",
       "    </tr>\n",
       "    <tr>\n",
       "      <th>15</th>\n",
       "      <td>164</td>\n",
       "      <td>166</td>\n",
       "      <td>167</td>\n",
       "      <td>155</td>\n",
       "    </tr>\n",
       "    <tr>\n",
       "      <th>16</th>\n",
       "      <td>114</td>\n",
       "      <td>91</td>\n",
       "      <td>78</td>\n",
       "      <td>138</td>\n",
       "    </tr>\n",
       "    <tr>\n",
       "      <th>17</th>\n",
       "      <td>85</td>\n",
       "      <td>69</td>\n",
       "      <td>69</td>\n",
       "      <td>106</td>\n",
       "    </tr>\n",
       "    <tr>\n",
       "      <th>18</th>\n",
       "      <td>55</td>\n",
       "      <td>57</td>\n",
       "      <td>70</td>\n",
       "      <td>48</td>\n",
       "    </tr>\n",
       "    <tr>\n",
       "      <th>19</th>\n",
       "      <td>135</td>\n",
       "      <td>135</td>\n",
       "      <td>124</td>\n",
       "      <td>130</td>\n",
       "    </tr>\n",
       "  </tbody>\n",
       "</table>\n",
       "</div>"
      ],
      "text/plain": [
       "      r    g    b  nifr\n",
       "0    92   87  100    75\n",
       "1    77   74   84    70\n",
       "2    89   78   73   127\n",
       "3    92   95   82   153\n",
       "4   172  144  106   182\n",
       "5   133  134  133   120\n",
       "6   147  145  136   136\n",
       "7   122  123  118   117\n",
       "8   125  121  117   125\n",
       "9   101   82   76   124\n",
       "10   92   95  101    77\n",
       "11   51   49   58    76\n",
       "12  199  200  197   186\n",
       "13   86   75   74   124\n",
       "14   44   47   60    43\n",
       "15  164  166  167   155\n",
       "16  114   91   78   138\n",
       "17   85   69   69   106\n",
       "18   55   57   70    48\n",
       "19  135  135  124   130"
      ]
     },
     "execution_count": 29,
     "metadata": {},
     "output_type": "execute_result"
    }
   ],
   "source": [
    "geo_points['xy'] = geo_points.geometry.apply(lambda p: (p.x,p.y))\n",
    "sample = ds.sample(geo_points.xy)\n",
    "sample\n",
    "data = []\n",
    "for i in sample:\n",
    "    if (i!= [0,0,0,0]).all():  # **** THIS IS NOT NEEDED BC WE FILTERED TO PTS WITHING IMAGE ***\n",
    "        data.append(i)\n",
    "data = np.vstack(data)\n",
    "data = pd.DataFrame(data, columns=['r','g','b','nifr'])\n",
    "data"
   ]
  },
  {
   "cell_type": "code",
   "execution_count": null,
   "id": "4cc9e699-a80c-42a9-974d-b3a510da83a9",
   "metadata": {},
   "outputs": [],
   "source": []
  }
 ],
 "metadata": {
  "kernelspec": {
   "display_name": "Python 3 (ipykernel)",
   "language": "python",
   "name": "python3"
  },
  "language_info": {
   "codemirror_mode": {
    "name": "ipython",
    "version": 3
   },
   "file_extension": ".py",
   "mimetype": "text/x-python",
   "name": "python",
   "nbconvert_exporter": "python",
   "pygments_lexer": "ipython3",
   "version": "3.8.12"
  }
 },
 "nbformat": 4,
 "nbformat_minor": 5
}
