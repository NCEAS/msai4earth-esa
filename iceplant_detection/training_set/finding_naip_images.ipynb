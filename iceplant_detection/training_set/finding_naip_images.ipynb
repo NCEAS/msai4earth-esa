{
 "cells": [
  {
   "cell_type": "code",
   "execution_count": 2,
   "id": "e77a75b5-28d7-434d-ac67-57858185a400",
   "metadata": {},
   "outputs": [],
   "source": [
    "import pystac_client\n",
    "import planetary_computer as pc\n",
    "\n",
    "import matplotlib.pyplot as plt\n",
    "import geopandas as gpd\n",
    "import pandas as pd\n",
    "import shapely\n",
    "import os"
   ]
  },
  {
   "cell_type": "markdown",
   "id": "7c7dce8f-460a-4941-9562-518682811006",
   "metadata": {},
   "source": [
    "## Select GBIF year data"
   ]
  },
  {
   "cell_type": "code",
   "execution_count": 3,
   "id": "feea862b-5f23-4a42-9a33-1a3d43e9f4fa",
   "metadata": {},
   "outputs": [],
   "source": [
    "# this data was saved to memory from GBIF datset on the Planetary Comp\n",
    "# see notebook selecting_gbif_data\n",
    "\n",
    "gbifdata = 'c_edulis_observations.csv'\n",
    "obs_all = pd.read_csv(os.path.join(os.getcwd(),'aux_data',gbifdata))\n",
    "\n",
    "obs_all = gpd.GeoDataFrame(\n",
    "    obs_all,\n",
    "    crs = \"EPSG:4326\",\n",
    "    geometry = gpd.points_from_xy(\n",
    "        x= obs_all.decimallongitude,\n",
    "        y= obs_all.decimallatitude)\n",
    ")"
   ]
  },
  {
   "cell_type": "code",
   "execution_count": 4,
   "id": "924df594-4561-457a-bef4-65e8f6c6949f",
   "metadata": {},
   "outputs": [
    {
     "name": "stdout",
     "output_type": "stream",
     "text": [
      "# observations: 28\n"
     ]
    }
   ],
   "source": [
    "# select data for year of interest\n",
    "YEAR = 2016\n",
    "obs = obs_all.loc[obs_all['year'] == YEAR]\n",
    "obs = obs[['year',\n",
    "           'month',\n",
    "           'geometry', \n",
    "           'decimallatitude', 'decimallongitude', \n",
    "           'coordinateuncertaintyinmeters',\n",
    "           'institutioncode']]\n",
    "obs.reset_index(drop=True, inplace=True)\n",
    "print('# observations:', obs.shape[0])"
   ]
  },
  {
   "cell_type": "code",
   "execution_count": 5,
   "id": "790b33e0-e112-4b9a-a632-79309ac2d30d",
   "metadata": {},
   "outputs": [
    {
     "data": {
      "text/plain": [
       "<AxesSubplot:>"
      ]
     },
     "execution_count": 5,
     "metadata": {},
     "output_type": "execute_result"
    },
    {
     "data": {
      "image/png": "[encoded data removed]",
      "text/plain": [
       "<Figure size 432x432 with 1 Axes>"
      ]
     },
     "metadata": {
      "needs_background": "light"
     },
     "output_type": "display_data"
    }
   ],
   "source": [
    "# ---- plot observations over california ----\n",
    "ca_shape_path = \"/home/jovyan/msai4earth-esa/shapefiles_n_rasters/CA_geometry/CA_State_TIGER2016.shp\"\n",
    "ca_shape = gpd.read_file(ca_shape_path)\n",
    "\n",
    "fig, ax = plt.subplots(figsize = (6,6))\n",
    "ca_shape.plot(ax=ax, color='lightgrey')\n",
    "obs[['geometry']].to_crs(ca_shape.crs).plot(ax=ax, alpha=0.5)"
   ]
  },
  {
   "cell_type": "markdown",
   "id": "b2d16e7c-94d4-4e98-8a17-1ec9d753b148",
   "metadata": {},
   "source": [
    "## Find NAIP images covering points"
   ]
  },
  {
   "cell_type": "code",
   "execution_count": 7,
   "id": "ec824967-4dbf-46e9-ac0e-7e34cb832766",
   "metadata": {},
   "outputs": [],
   "source": [
    "# point = shapely point\n",
    "# year = year of NAIP images\n",
    "# returns the NAIP image in year covering the point,\n",
    "#   if there is none it returns None\n",
    "\n",
    "def query_pt(point, year):\n",
    "\n",
    "    date_range = str(year)+'-01-01/'+str(year)+'-12-31'\n",
    "\n",
    "    catalog = pystac_client.Client.open(\n",
    "        \"https://planetarycomputer.microsoft.com/api/stac/v1\")\n",
    "\n",
    "    search = catalog.search(\n",
    "        collections=[\"naip\"], \n",
    "        intersects=point, \n",
    "        datetime=date_range)\n",
    "    \n",
    "    items =list(search.get_items()) \n",
    "    if len(items)==0:\n",
    "        return None\n",
    "\n",
    "    # use the first item (most often for NAIP is only one item having a point per year)\n",
    "    # ** needs to be updated with whatever info we need to queery in QGIS\n",
    "    return items[0].id\n",
    "\n",
    "# ----------------------------------------------------------------------------------\n",
    "# points = GeoDataFrame\n",
    "# returns a copy of points with a column including the stac_item_id covering each point\n",
    "\n",
    "def query(points, year):\n",
    "    \n",
    "    date_range = str(year)+'-01-01/'+str(year)+'-12-31'\n",
    "\n",
    "    catalog = pystac_client.Client.open(\n",
    "        \"https://planetarycomputer.microsoft.com/api/stac/v1\")\n",
    "    \n",
    "    stac_item_id = []\n",
    "    for point in points['geometry']:\n",
    "        search = catalog.search(\n",
    "            collections=[\"naip\"], \n",
    "            intersects=point, \n",
    "            datetime=date_range)\n",
    "\n",
    "        items =list(search.get_items()) \n",
    "        if len(items)==0:\n",
    "            stac_item_id.append(None)\n",
    "        else:\n",
    "        # use the first item (most often for NAIP is only one item having a point per year)\n",
    "        # ** needs to be updated with whatever info we need to queery in QGIS\n",
    "            stac_item_id.append(items[0].id)\n",
    "        \n",
    "    return points.assign(stac_item_id = stac_item_id)"
   ]
  },
  {
   "cell_type": "code",
   "execution_count": 6,
   "id": "3447bec3-4bba-4422-aa0e-999545a54963",
   "metadata": {},
   "outputs": [
    {
     "name": "stdout",
     "output_type": "stream",
     "text": [
      "2010 : None \n",
      "\n",
      "2011 : None \n",
      "\n",
      "2012 : ca_m_3812260_se_10_1_20120520_20120730 \n",
      "\n",
      "2013 : None \n",
      "\n",
      "2014 : ca_m_3812260_se_10_1_20140608_20140923 \n",
      "\n",
      "2015 : None \n",
      "\n",
      "2016 : ca_m_3812260_se_10_.6_20160531_20161004 \n",
      "\n",
      "2017 : None \n",
      "\n",
      "2018 : ca_m_3812260_se_10_060_20180725_20190209 \n",
      "\n",
      "2019 : None \n",
      "\n"
     ]
    }
   ],
   "source": [
    "# ---- TEST query_pt ---\n",
    "pt = obs['geometry'][0]\n",
    "for i in range(2010,2020):\n",
    "    print(i, ':',query_pt(pt,i), '\\n')"
   ]
  },
  {
   "cell_type": "code",
   "execution_count": 8,
   "id": "72106889-7db0-4fb3-ae06-89178326dcb4",
   "metadata": {},
   "outputs": [],
   "source": [
    "# ----- TEST query -----\n",
    "obs = query(obs,YEAR)"
   ]
  },
  {
   "cell_type": "code",
   "execution_count": 9,
   "id": "3778d399-2e7f-40b5-aebf-7d35d10de905",
   "metadata": {},
   "outputs": [
    {
     "data": {
      "text/html": [
       "<div>\n",
       "<style scoped>\n",
       "    .dataframe tbody tr th:only-of-type {\n",
       "        vertical-align: middle;\n",
       "    }\n",
       "\n",
       "    .dataframe tbody tr th {\n",
       "        vertical-align: top;\n",
       "    }\n",
       "\n",
       "    .dataframe thead th {\n",
       "        text-align: right;\n",
       "    }\n",
       "</style>\n",
       "<table border=\"1\" class=\"dataframe\">\n",
       "  <thead>\n",
       "    <tr style=\"text-align: right;\">\n",
       "      <th></th>\n",
       "      <th>year</th>\n",
       "      <th>month</th>\n",
       "      <th>geometry</th>\n",
       "      <th>decimallatitude</th>\n",
       "      <th>decimallongitude</th>\n",
       "      <th>coordinateuncertaintyinmeters</th>\n",
       "      <th>institutioncode</th>\n",
       "      <th>stac_item_id</th>\n",
       "    </tr>\n",
       "  </thead>\n",
       "  <tbody>\n",
       "    <tr>\n",
       "      <th>0</th>\n",
       "      <td>2016.0</td>\n",
       "      <td>2.0</td>\n",
       "      <td>POINT (-122.95412 38.12452)</td>\n",
       "      <td>38.124518</td>\n",
       "      <td>-122.954118</td>\n",
       "      <td>6.0</td>\n",
       "      <td>iNaturalist</td>\n",
       "      <td>ca_m_3812257_nw_10_.6_20160611_20161004</td>\n",
       "    </tr>\n",
       "    <tr>\n",
       "      <th>1</th>\n",
       "      <td>2016.0</td>\n",
       "      <td>11.0</td>\n",
       "      <td>POINT (-123.06357 38.30317)</td>\n",
       "      <td>38.303168</td>\n",
       "      <td>-123.063569</td>\n",
       "      <td>145.0</td>\n",
       "      <td>iNaturalist</td>\n",
       "      <td>ca_m_3812348_sw_10_.6_20160610_20161004</td>\n",
       "    </tr>\n",
       "    <tr>\n",
       "      <th>2</th>\n",
       "      <td>2016.0</td>\n",
       "      <td>2.0</td>\n",
       "      <td>POINT (-122.96120 38.02759)</td>\n",
       "      <td>38.027594</td>\n",
       "      <td>-122.961197</td>\n",
       "      <td>5.0</td>\n",
       "      <td>iNaturalist</td>\n",
       "      <td>ca_m_3812257_sw_10_.6_20160611_20161004</td>\n",
       "    </tr>\n",
       "  </tbody>\n",
       "</table>\n",
       "</div>"
      ],
      "text/plain": [
       "     year  month                     geometry  decimallatitude  \\\n",
       "0  2016.0    2.0  POINT (-122.95412 38.12452)        38.124518   \n",
       "1  2016.0   11.0  POINT (-123.06357 38.30317)        38.303168   \n",
       "2  2016.0    2.0  POINT (-122.96120 38.02759)        38.027594   \n",
       "\n",
       "   decimallongitude  coordinateuncertaintyinmeters institutioncode  \\\n",
       "0       -122.954118                            6.0     iNaturalist   \n",
       "1       -123.063569                          145.0     iNaturalist   \n",
       "2       -122.961197                            5.0     iNaturalist   \n",
       "\n",
       "                              stac_item_id  \n",
       "0  ca_m_3812257_nw_10_.6_20160611_20161004  \n",
       "1  ca_m_3812348_sw_10_.6_20160610_20161004  \n",
       "2  ca_m_3812257_sw_10_.6_20160611_20161004  "
      ]
     },
     "execution_count": 9,
     "metadata": {},
     "output_type": "execute_result"
    }
   ],
   "source": [
    "obs.head(3)"
   ]
  },
  {
   "cell_type": "code",
   "execution_count": 11,
   "id": "3af5d499-7b4d-46f3-ae39-aed31928b390",
   "metadata": {},
   "outputs": [
    {
     "data": {
      "text/plain": [
       "(62, 8)"
      ]
     },
     "execution_count": 11,
     "metadata": {},
     "output_type": "execute_result"
    }
   ],
   "source": [
    "obs.shape"
   ]
  },
  {
   "cell_type": "code",
   "execution_count": 13,
   "id": "f906ead8-c82f-47e0-a9a8-607fc4d29830",
   "metadata": {},
   "outputs": [
    {
     "name": "stdout",
     "output_type": "stream",
     "text": [
      "29 distinct NAIP images cover these points\n"
     ]
    }
   ],
   "source": [
    "print(len(set(obs['stac_item_id'])), 'distinct NAIP images cover these points')"
   ]
  },
  {
   "cell_type": "markdown",
   "id": "fed5c71c-c507-4dc8-8cef-2da0a6cad838",
   "metadata": {},
   "source": [
    "## Select imge with most observations and open STAC item"
   ]
  },
  {
   "cell_type": "code",
   "execution_count": 10,
   "id": "b582537d-0c64-4d24-9c74-c875bc7214f7",
   "metadata": {},
   "outputs": [
    {
     "data": {
      "text/html": [
       "<div>\n",
       "<style scoped>\n",
       "    .dataframe tbody tr th:only-of-type {\n",
       "        vertical-align: middle;\n",
       "    }\n",
       "\n",
       "    .dataframe tbody tr th {\n",
       "        vertical-align: top;\n",
       "    }\n",
       "\n",
       "    .dataframe thead th {\n",
       "        text-align: right;\n",
       "    }\n",
       "</style>\n",
       "<table border=\"1\" class=\"dataframe\">\n",
       "  <thead>\n",
       "    <tr style=\"text-align: right;\">\n",
       "      <th></th>\n",
       "      <th>stac_item_id</th>\n",
       "      <th>points_in_scene</th>\n",
       "    </tr>\n",
       "  </thead>\n",
       "  <tbody>\n",
       "    <tr>\n",
       "      <th>0</th>\n",
       "      <td>ca_m_3612126_ne_10_.6_20160527_20161004</td>\n",
       "      <td>14</td>\n",
       "    </tr>\n",
       "    <tr>\n",
       "      <th>1</th>\n",
       "      <td>ca_m_3612126_nw_10_.6_20160619_20161004</td>\n",
       "      <td>2</td>\n",
       "    </tr>\n",
       "    <tr>\n",
       "      <th>2</th>\n",
       "      <td>ca_m_3311754_sw_11_.6_20160809_20161004</td>\n",
       "      <td>1</td>\n",
       "    </tr>\n",
       "    <tr>\n",
       "      <th>3</th>\n",
       "      <td>ca_m_3411956_ne_11_.6_20160719_20161004</td>\n",
       "      <td>1</td>\n",
       "    </tr>\n",
       "    <tr>\n",
       "      <th>4</th>\n",
       "      <td>ca_m_3612118_se_10_.6_20160527_20161004</td>\n",
       "      <td>1</td>\n",
       "    </tr>\n",
       "    <tr>\n",
       "      <th>5</th>\n",
       "      <td>ca_m_3612127_nw_10_.6_20160527_20161004</td>\n",
       "      <td>1</td>\n",
       "    </tr>\n",
       "    <tr>\n",
       "      <th>6</th>\n",
       "      <td>ca_m_3712213_sw_10_.6_20160625_20161004</td>\n",
       "      <td>1</td>\n",
       "    </tr>\n",
       "    <tr>\n",
       "      <th>7</th>\n",
       "      <td>ca_m_3712220_ne_10_.6_20160625_20161004</td>\n",
       "      <td>1</td>\n",
       "    </tr>\n",
       "    <tr>\n",
       "      <th>8</th>\n",
       "      <td>ca_m_3712221_nw_10_.6_20160625_20161004</td>\n",
       "      <td>1</td>\n",
       "    </tr>\n",
       "    <tr>\n",
       "      <th>9</th>\n",
       "      <td>ca_m_3712229_sw_10_.6_20160625_20161004</td>\n",
       "      <td>1</td>\n",
       "    </tr>\n",
       "    <tr>\n",
       "      <th>10</th>\n",
       "      <td>ca_m_3812257_nw_10_.6_20160611_20161004</td>\n",
       "      <td>1</td>\n",
       "    </tr>\n",
       "    <tr>\n",
       "      <th>11</th>\n",
       "      <td>ca_m_3812257_se_10_.6_20160610_20161004</td>\n",
       "      <td>1</td>\n",
       "    </tr>\n",
       "    <tr>\n",
       "      <th>12</th>\n",
       "      <td>ca_m_3812257_sw_10_.6_20160611_20161004</td>\n",
       "      <td>1</td>\n",
       "    </tr>\n",
       "    <tr>\n",
       "      <th>13</th>\n",
       "      <td>ca_m_3812348_sw_10_.6_20160610_20161004</td>\n",
       "      <td>1</td>\n",
       "    </tr>\n",
       "  </tbody>\n",
       "</table>\n",
       "</div>"
      ],
      "text/plain": [
       "                               stac_item_id  points_in_scene\n",
       "0   ca_m_3612126_ne_10_.6_20160527_20161004               14\n",
       "1   ca_m_3612126_nw_10_.6_20160619_20161004                2\n",
       "2   ca_m_3311754_sw_11_.6_20160809_20161004                1\n",
       "3   ca_m_3411956_ne_11_.6_20160719_20161004                1\n",
       "4   ca_m_3612118_se_10_.6_20160527_20161004                1\n",
       "5   ca_m_3612127_nw_10_.6_20160527_20161004                1\n",
       "6   ca_m_3712213_sw_10_.6_20160625_20161004                1\n",
       "7   ca_m_3712220_ne_10_.6_20160625_20161004                1\n",
       "8   ca_m_3712221_nw_10_.6_20160625_20161004                1\n",
       "9   ca_m_3712229_sw_10_.6_20160625_20161004                1\n",
       "10  ca_m_3812257_nw_10_.6_20160611_20161004                1\n",
       "11  ca_m_3812257_se_10_.6_20160610_20161004                1\n",
       "12  ca_m_3812257_sw_10_.6_20160611_20161004                1\n",
       "13  ca_m_3812348_sw_10_.6_20160610_20161004                1"
      ]
     },
     "execution_count": 10,
     "metadata": {},
     "output_type": "execute_result"
    }
   ],
   "source": [
    "# find the scene with the most points in it\n",
    "points_by_scene = obs.filter(items=['stac_item_id']).groupby(['stac_item_id']).size().reset_index(name='points_in_scene')\n",
    "points_by_scene.sort_values(by='points_in_scene', ascending=False, inplace=True)\n",
    "points_by_scene.reset_index(drop=True,inplace=True)\n",
    "points_by_scene"
   ]
  },
  {
   "cell_type": "code",
   "execution_count": 11,
   "id": "d9503928-5dbc-4b4c-9a1b-cfb5d459e321",
   "metadata": {},
   "outputs": [],
   "source": [
    "# accesing Azure storage using pystac client\n",
    "URL = \"https://planetarycomputer.microsoft.com/api/stac/v1\"\n",
    "catalog = pystac_client.Client.open(URL)\n",
    "search = catalog.search(\n",
    "    collections=[\"naip\"],\n",
    "    ids = [points_by_scene['stac_item_id'][0]]\n",
    ")\n",
    "item = list(search.get_items())[0]"
   ]
  },
  {
   "cell_type": "code",
   "execution_count": 12,
   "id": "b6176d8f-1dd0-4d60-81c4-b801e5840fc0",
   "metadata": {},
   "outputs": [
    {
     "name": "stdout",
     "output_type": "stream",
     "text": [
      "<Item id=ca_m_3612126_ne_10_.6_20160527_20161004>\n",
      "type: <class 'pystac.item.Item'> \n",
      "\n",
      "gsd  :  0.6\n",
      "datetime  :  2016-05-27T00:00:00Z\n",
      "naip:year  :  2016\n",
      "proj:bbox  :  [606024.0, 4046844.0, 612012.0, 4054152.0]\n",
      "proj:epsg  :  26910\n",
      "naip:state  :  ca\n",
      "proj:shape  :  [12180, 9980]\n",
      "proj:transform  :  [0.6, 0.0, 606024.0, 0.0, -0.6, 4054152.0, 0.0, 0.0, 1.0]\n",
      "\n",
      "\n",
      "image  :  <Asset href=https://naipeuwest.blob.core.windows.net/naip/v002/ca/2016/ca_060cm_2016/36121/m_3612126_ne_10_h_20160527.tif>\n",
      "metadata  :  <Asset href=https://naipeuwest.blob.core.windows.net/naip/v002/ca/2016/ca_fgdc_2016/36121/m_3612126_ne_10_h_20160527.txt>\n",
      "thumbnail  :  <Asset href=https://naipeuwest.blob.core.windows.net/naip/v002/ca/2016/ca_060cm_2016/36121/m_3612126_ne_10_h_20160527.200.jpg>\n",
      "tilejson  :  <Asset href=https://planetarycomputer.microsoft.com/api/data/v1/item/tilejson.json?collection=naip&item=ca_m_3612126_ne_10_.6_20160527_20161004&assets=image&asset_bidx=image%7C1%2C2%2C3>\n",
      "rendered_preview  :  <Asset href=https://planetarycomputer.microsoft.com/api/data/v1/item/preview.png?collection=naip&item=ca_m_3612126_ne_10_.6_20160527_20161004&assets=image&asset_bidx=image%7C1%2C2%2C3>\n",
      "\n",
      "\n"
     ]
    }
   ],
   "source": [
    "def print_dict(dictionary):\n",
    "    for key, value in dictionary.items():\n",
    "        print(key, ' : ', value)\n",
    "    print('\\n')\n",
    "    return\n",
    "\n",
    "print(item)\n",
    "print('type:', type(item), '\\n')\n",
    "print_dict(item.properties)\n",
    "print_dict(item.assets)  # click on rendered preview to see NAIP image on separate window"
   ]
  },
  {
   "cell_type": "code",
   "execution_count": null,
   "id": "2d0f76ff-aa2f-4810-92f7-d99779fe4cca",
   "metadata": {},
   "outputs": [],
   "source": [
    "ca_m_3612126_ne_10_.6_20160527_20161004\t"
   ]
  }
 ],
 "metadata": {
  "kernelspec": {
   "display_name": "Python 3 (ipykernel)",
   "language": "python",
   "name": "python3"
  },
  "language_info": {
   "codemirror_mode": {
    "name": "ipython",
    "version": 3
   },
   "file_extension": ".py",
   "mimetype": "text/x-python",
   "name": "python",
   "nbconvert_exporter": "python",
   "pygments_lexer": "ipython3",
   "version": "3.8.12"
  }
 },
 "nbformat": 4,
 "nbformat_minor": 5
}
