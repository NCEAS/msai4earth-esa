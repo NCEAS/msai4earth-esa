{
 "cells": [
  {
   "cell_type": "code",
   "execution_count": 1,
   "id": "e77a75b5-28d7-434d-ac67-57858185a400",
   "metadata": {},
   "outputs": [],
   "source": [
    "import pystac_client\n",
    "import planetary_computer as pc\n",
    "\n",
    "import matplotlib.pyplot as plt\n",
    "import geopandas as gpd\n",
    "import pandas as pd\n",
    "import shapely\n",
    "import os"
   ]
  },
  {
   "cell_type": "markdown",
   "id": "7c7dce8f-460a-4941-9562-518682811006",
   "metadata": {},
   "source": [
    "## Select GBIF year data"
   ]
  },
  {
   "cell_type": "code",
   "execution_count": 2,
   "id": "feea862b-5f23-4a42-9a33-1a3d43e9f4fa",
   "metadata": {},
   "outputs": [],
   "source": [
    "# this data was saved to memory from GBIF datset on the Planetary Comp\n",
    "# see notebook selecting_gbif_data\n",
    "\n",
    "gbifdata = 'c_edulis_observations.csv'\n",
    "obs_all = pd.read_csv(os.path.join(os.getcwd(),'aux_data',gbifdata))\n",
    "\n",
    "obs_all = gpd.GeoDataFrame(\n",
    "    obs_all,\n",
    "    crs = \"EPSG:4326\",\n",
    "    geometry = gpd.points_from_xy(\n",
    "        x= obs_all.decimallongitude,\n",
    "        y= obs_all.decimallatitude)\n",
    ")"
   ]
  },
  {
   "cell_type": "code",
   "execution_count": 3,
   "id": "924df594-4561-457a-bef4-65e8f6c6949f",
   "metadata": {},
   "outputs": [
    {
     "name": "stdout",
     "output_type": "stream",
     "text": [
      "# observations: 62\n"
     ]
    }
   ],
   "source": [
    "# select data for year of interest\n",
    "YEAR = 2018\n",
    "obs = obs_all.loc[obs_all['year'] == YEAR]\n",
    "obs = obs[['year',\n",
    "           'month',\n",
    "           'geometry', \n",
    "           'decimallatitude', 'decimallongitude', \n",
    "           'coordinateuncertaintyinmeters',\n",
    "           'institutioncode']]\n",
    "obs.reset_index(drop=True, inplace=True)\n",
    "print('# observations:', obs.shape[0])"
   ]
  },
  {
   "cell_type": "code",
   "execution_count": 4,
   "id": "790b33e0-e112-4b9a-a632-79309ac2d30d",
   "metadata": {},
   "outputs": [
    {
     "data": {
      "text/plain": [
       "<AxesSubplot:>"
      ]
     },
     "execution_count": 4,
     "metadata": {},
     "output_type": "execute_result"
    },
    {
     "data": {
      "image/png": "[encoded data removed]",
      "text/plain": [
       "<Figure size 432x432 with 1 Axes>"
      ]
     },
     "metadata": {
      "needs_background": "light"
     },
     "output_type": "display_data"
    }
   ],
   "source": [
    "# ---- plot observations over california ----\n",
    "ca_shape_path = \"/home/jovyan/msai4earth-esa/shapefiles_n_rasters/CA_geometry/CA_State_TIGER2016.shp\"\n",
    "ca_shape = gpd.read_file(ca_shape_path)\n",
    "\n",
    "fig, ax = plt.subplots(figsize = (6,6))\n",
    "ca_shape.plot(ax=ax, color='lightgrey')\n",
    "obs[['geometry']].to_crs(ca_shape.crs).plot(ax=ax, alpha=0.5)"
   ]
  },
  {
   "cell_type": "markdown",
   "id": "b2d16e7c-94d4-4e98-8a17-1ec9d753b148",
   "metadata": {},
   "source": [
    "## Find NAIP images covering points"
   ]
  },
  {
   "cell_type": "code",
   "execution_count": 5,
   "id": "ec824967-4dbf-46e9-ac0e-7e34cb832766",
   "metadata": {},
   "outputs": [],
   "source": [
    "# point = shapely point\n",
    "# returns the NAIP image covering the point,\n",
    "#   if there is none it returns None\n",
    "\n",
    "def query_pt(point, year):\n",
    "\n",
    "    date_range = str(year)+'-01-01/'+str(year)+'-12-31'\n",
    "\n",
    "    catalog = pystac_client.Client.open(\n",
    "        \"https://planetarycomputer.microsoft.com/api/stac/v1\")\n",
    "\n",
    "    search = catalog.search(\n",
    "        collections=[\"naip\"], \n",
    "        intersects=point, \n",
    "        datetime=date_range)\n",
    "    \n",
    "    items =list(search.get_items()) \n",
    "    if len(items)==0:\n",
    "        return None\n",
    "\n",
    "    # use the first item (most often for NAIP is only one item having a point per year)\n",
    "    # ** needs to be updated with whatever info we need to queery in QGIS\n",
    "    return items[0].id\n",
    "\n",
    "# ----------------------------------------------------------------------------------\n",
    "# points = GeoDataFrame\n",
    "# returns a copy of points with a column including the stac_item_id covering each point\n",
    "\n",
    "def query(points, year):\n",
    "    \n",
    "    date_range = str(year)+'-01-01/'+str(year)+'-12-31'\n",
    "\n",
    "    catalog = pystac_client.Client.open(\n",
    "        \"https://planetarycomputer.microsoft.com/api/stac/v1\")\n",
    "    \n",
    "    stac_item_id = []\n",
    "    for point in points['geometry']:\n",
    "        search = catalog.search(\n",
    "            collections=[\"naip\"], \n",
    "            intersects=point, \n",
    "            datetime=date_range)\n",
    "\n",
    "        items =list(search.get_items()) \n",
    "        if len(items)==0:\n",
    "            stac_item_id.append(None)\n",
    "        else:\n",
    "        # use the first item (most often for NAIP is only one item having a point per year)\n",
    "        # ** needs to be updated with whatever info we need to queery in QGIS\n",
    "            stac_item_id.append(items[0].id)\n",
    "        \n",
    "    return points.assign(stac_item_id = stac_item_id)"
   ]
  },
  {
   "cell_type": "code",
   "execution_count": 6,
   "id": "3447bec3-4bba-4422-aa0e-999545a54963",
   "metadata": {},
   "outputs": [
    {
     "name": "stdout",
     "output_type": "stream",
     "text": [
      "2010 : None \n",
      "\n",
      "2011 : None \n",
      "\n",
      "2012 : ca_m_3812260_se_10_1_20120520_20120730 \n",
      "\n",
      "2013 : None \n",
      "\n",
      "2014 : ca_m_3812260_se_10_1_20140608_20140923 \n",
      "\n",
      "2015 : None \n",
      "\n",
      "2016 : ca_m_3812260_se_10_.6_20160531_20161004 \n",
      "\n",
      "2017 : None \n",
      "\n",
      "2018 : ca_m_3812260_se_10_060_20180725_20190209 \n",
      "\n",
      "2019 : None \n",
      "\n"
     ]
    }
   ],
   "source": [
    "# ---- TEST query_pt ---\n",
    "pt = obs['geometry'][0]\n",
    "for i in range(2010,2020):\n",
    "    print(i, ':',query_pt(pt,i), '\\n')"
   ]
  },
  {
   "cell_type": "code",
   "execution_count": 7,
   "id": "72106889-7db0-4fb3-ae06-89178326dcb4",
   "metadata": {},
   "outputs": [],
   "source": [
    "# ----- TEST query -----\n",
    "trial = query(obs,2018)"
   ]
  },
  {
   "cell_type": "code",
   "execution_count": 8,
   "id": "3778d399-2e7f-40b5-aebf-7d35d10de905",
   "metadata": {},
   "outputs": [
    {
     "data": {
      "text/html": [
       "<div>\n",
       "<style scoped>\n",
       "    .dataframe tbody tr th:only-of-type {\n",
       "        vertical-align: middle;\n",
       "    }\n",
       "\n",
       "    .dataframe tbody tr th {\n",
       "        vertical-align: top;\n",
       "    }\n",
       "\n",
       "    .dataframe thead th {\n",
       "        text-align: right;\n",
       "    }\n",
       "</style>\n",
       "<table border=\"1\" class=\"dataframe\">\n",
       "  <thead>\n",
       "    <tr style=\"text-align: right;\">\n",
       "      <th></th>\n",
       "      <th>year</th>\n",
       "      <th>month</th>\n",
       "      <th>geometry</th>\n",
       "      <th>decimallatitude</th>\n",
       "      <th>decimallongitude</th>\n",
       "      <th>coordinateuncertaintyinmeters</th>\n",
       "      <th>institutioncode</th>\n",
       "      <th>stac_item_id</th>\n",
       "    </tr>\n",
       "  </thead>\n",
       "  <tbody>\n",
       "    <tr>\n",
       "      <th>0</th>\n",
       "      <td>2018.0</td>\n",
       "      <td>4.0</td>\n",
       "      <td>POINT (-122.53049 38.00750)</td>\n",
       "      <td>38.007500</td>\n",
       "      <td>-122.530487</td>\n",
       "      <td>5.0</td>\n",
       "      <td>iNaturalist</td>\n",
       "      <td>ca_m_3812260_se_10_060_20180725_20190209</td>\n",
       "    </tr>\n",
       "    <tr>\n",
       "      <th>1</th>\n",
       "      <td>2018.0</td>\n",
       "      <td>12.0</td>\n",
       "      <td>POINT (-121.91021 36.62163)</td>\n",
       "      <td>36.621633</td>\n",
       "      <td>-121.910213</td>\n",
       "      <td>NaN</td>\n",
       "      <td>iNaturalist</td>\n",
       "      <td>ca_m_3612125_ne_10_060_20180908_20190208</td>\n",
       "    </tr>\n",
       "    <tr>\n",
       "      <th>2</th>\n",
       "      <td>2018.0</td>\n",
       "      <td>4.0</td>\n",
       "      <td>POINT (-122.48073 37.79367)</td>\n",
       "      <td>37.793672</td>\n",
       "      <td>-122.480735</td>\n",
       "      <td>14.0</td>\n",
       "      <td>iNaturalist</td>\n",
       "      <td>ca_m_3712213_sw_10_060_20180804_20190209</td>\n",
       "    </tr>\n",
       "    <tr>\n",
       "      <th>3</th>\n",
       "      <td>2018.0</td>\n",
       "      <td>6.0</td>\n",
       "      <td>POINT (-120.86054 35.37261)</td>\n",
       "      <td>35.372605</td>\n",
       "      <td>-120.860542</td>\n",
       "      <td>5.0</td>\n",
       "      <td>iNaturalist</td>\n",
       "      <td>ca_m_3512042_nw_10_060_20180913_20190209</td>\n",
       "    </tr>\n",
       "    <tr>\n",
       "      <th>4</th>\n",
       "      <td>2018.0</td>\n",
       "      <td>2.0</td>\n",
       "      <td>POINT (-122.43967 37.43072)</td>\n",
       "      <td>37.430723</td>\n",
       "      <td>-122.439666</td>\n",
       "      <td>4.0</td>\n",
       "      <td>iNaturalist</td>\n",
       "      <td>ca_m_3712237_sw_10_060_20180911_20190209</td>\n",
       "    </tr>\n",
       "  </tbody>\n",
       "</table>\n",
       "</div>"
      ],
      "text/plain": [
       "     year  month                     geometry  decimallatitude  \\\n",
       "0  2018.0    4.0  POINT (-122.53049 38.00750)        38.007500   \n",
       "1  2018.0   12.0  POINT (-121.91021 36.62163)        36.621633   \n",
       "2  2018.0    4.0  POINT (-122.48073 37.79367)        37.793672   \n",
       "3  2018.0    6.0  POINT (-120.86054 35.37261)        35.372605   \n",
       "4  2018.0    2.0  POINT (-122.43967 37.43072)        37.430723   \n",
       "\n",
       "   decimallongitude  coordinateuncertaintyinmeters institutioncode  \\\n",
       "0       -122.530487                            5.0     iNaturalist   \n",
       "1       -121.910213                            NaN     iNaturalist   \n",
       "2       -122.480735                           14.0     iNaturalist   \n",
       "3       -120.860542                            5.0     iNaturalist   \n",
       "4       -122.439666                            4.0     iNaturalist   \n",
       "\n",
       "                               stac_item_id  \n",
       "0  ca_m_3812260_se_10_060_20180725_20190209  \n",
       "1  ca_m_3612125_ne_10_060_20180908_20190208  \n",
       "2  ca_m_3712213_sw_10_060_20180804_20190209  \n",
       "3  ca_m_3512042_nw_10_060_20180913_20190209  \n",
       "4  ca_m_3712237_sw_10_060_20180911_20190209  "
      ]
     },
     "execution_count": 8,
     "metadata": {},
     "output_type": "execute_result"
    }
   ],
   "source": [
    "trial.head()"
   ]
  },
  {
   "cell_type": "code",
   "execution_count": 9,
   "id": "3af5d499-7b4d-46f3-ae39-aed31928b390",
   "metadata": {},
   "outputs": [
    {
     "data": {
      "text/plain": [
       "(62, 8)"
      ]
     },
     "execution_count": 9,
     "metadata": {},
     "output_type": "execute_result"
    }
   ],
   "source": [
    "trial.shape"
   ]
  },
  {
   "cell_type": "code",
   "execution_count": 10,
   "id": "f906ead8-c82f-47e0-a9a8-607fc4d29830",
   "metadata": {},
   "outputs": [
    {
     "name": "stdout",
     "output_type": "stream",
     "text": [
      "29 distinct NAIP images cover these points\n"
     ]
    }
   ],
   "source": [
    "print(len(set(trial['stac_item_id'])), 'distinct NAIP images cover these points')"
   ]
  },
  {
   "cell_type": "code",
   "execution_count": null,
   "id": "ae813b53-c15b-4a74-8c02-801c289666d5",
   "metadata": {},
   "outputs": [],
   "source": []
  }
 ],
 "metadata": {
  "kernelspec": {
   "display_name": "Python 3 (ipykernel)",
   "language": "python",
   "name": "python3"
  },
  "language_info": {
   "codemirror_mode": {
    "name": "ipython",
    "version": 3
   },
   "file_extension": ".py",
   "mimetype": "text/x-python",
   "name": "python",
   "nbconvert_exporter": "python",
   "pygments_lexer": "ipython3",
   "version": "3.8.12"
  }
 },
 "nbformat": 4,
 "nbformat_minor": 5
}
