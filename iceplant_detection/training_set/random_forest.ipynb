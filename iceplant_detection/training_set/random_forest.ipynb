{
 "cells": [
  {
   "cell_type": "code",
   "execution_count": 34,
   "id": "3f6c5647-eddf-4f48-bf21-c850c4bd43e4",
   "metadata": {},
   "outputs": [],
   "source": [
    "import os\n",
    "import pandas as pd\n",
    "import numpy as np\n",
    "\n",
    "# Using Skicit-learn to split data into training and testing sets \n",
    "from sklearn.model_selection import train_test_split\n",
    "from sklearn.ensemble import RandomForestRegressor\n",
    "from sklearn.metrics import confusion_matrix\n",
    "\n"
   ]
  },
  {
   "cell_type": "code",
   "execution_count": 2,
   "id": "8b9d3232-90f7-484c-9927-6ae492f66649",
   "metadata": {},
   "outputs": [
    {
     "data": {
      "text/html": [
       "<div>\n",
       "<style scoped>\n",
       "    .dataframe tbody tr th:only-of-type {\n",
       "        vertical-align: middle;\n",
       "    }\n",
       "\n",
       "    .dataframe tbody tr th {\n",
       "        vertical-align: top;\n",
       "    }\n",
       "\n",
       "    .dataframe thead th {\n",
       "        text-align: right;\n",
       "    }\n",
       "</style>\n",
       "<table border=\"1\" class=\"dataframe\">\n",
       "  <thead>\n",
       "    <tr style=\"text-align: right;\">\n",
       "      <th></th>\n",
       "      <th>Unnamed: 0</th>\n",
       "      <th>geometry</th>\n",
       "      <th>x</th>\n",
       "      <th>y</th>\n",
       "      <th>r</th>\n",
       "      <th>g</th>\n",
       "      <th>b</th>\n",
       "      <th>nifr</th>\n",
       "      <th>iceplant</th>\n",
       "    </tr>\n",
       "  </thead>\n",
       "  <tbody>\n",
       "    <tr>\n",
       "      <th>0</th>\n",
       "      <td>0</td>\n",
       "      <td>POINT (238534.77144037225 3810764.4391108337)</td>\n",
       "      <td>238534.771440</td>\n",
       "      <td>3.810764e+06</td>\n",
       "      <td>89</td>\n",
       "      <td>84</td>\n",
       "      <td>89</td>\n",
       "      <td>144</td>\n",
       "      <td>1</td>\n",
       "    </tr>\n",
       "    <tr>\n",
       "      <th>1</th>\n",
       "      <td>1</td>\n",
       "      <td>POINT (238516.67475820333 3810768.371394962)</td>\n",
       "      <td>238516.674758</td>\n",
       "      <td>3.810768e+06</td>\n",
       "      <td>100</td>\n",
       "      <td>88</td>\n",
       "      <td>93</td>\n",
       "      <td>148</td>\n",
       "      <td>1</td>\n",
       "    </tr>\n",
       "    <tr>\n",
       "      <th>2</th>\n",
       "      <td>2</td>\n",
       "      <td>POINT (238496.0413784355 3810771.828721741)</td>\n",
       "      <td>238496.041378</td>\n",
       "      <td>3.810772e+06</td>\n",
       "      <td>97</td>\n",
       "      <td>93</td>\n",
       "      <td>96</td>\n",
       "      <td>140</td>\n",
       "      <td>1</td>\n",
       "    </tr>\n",
       "    <tr>\n",
       "      <th>3</th>\n",
       "      <td>3</td>\n",
       "      <td>POINT (238497.93042821612 3810771.2369597284)</td>\n",
       "      <td>238497.930428</td>\n",
       "      <td>3.810771e+06</td>\n",
       "      <td>87</td>\n",
       "      <td>80</td>\n",
       "      <td>86</td>\n",
       "      <td>137</td>\n",
       "      <td>1</td>\n",
       "    </tr>\n",
       "  </tbody>\n",
       "</table>\n",
       "</div>"
      ],
      "text/plain": [
       "   Unnamed: 0                                       geometry              x  \\\n",
       "0           0  POINT (238534.77144037225 3810764.4391108337)  238534.771440   \n",
       "1           1   POINT (238516.67475820333 3810768.371394962)  238516.674758   \n",
       "2           2    POINT (238496.0413784355 3810771.828721741)  238496.041378   \n",
       "3           3  POINT (238497.93042821612 3810771.2369597284)  238497.930428   \n",
       "\n",
       "              y    r   g   b  nifr  iceplant  \n",
       "0  3.810764e+06   89  84  89   144         1  \n",
       "1  3.810768e+06  100  88  93   148         1  \n",
       "2  3.810772e+06   97  93  96   140         1  \n",
       "3  3.810771e+06   87  80  86   137         1  "
      ]
     },
     "execution_count": 2,
     "metadata": {},
     "output_type": "execute_result"
    }
   ],
   "source": [
    "train_fp = os.path.join(os.getcwd(),'aux_data','trainset.csv')\n",
    "features_df = pd.read_csv(train_fp)\n",
    "features_df.head(4)"
   ]
  },
  {
   "cell_type": "code",
   "execution_count": 3,
   "id": "33552d3b-d5e8-4622-ad09-7d4e4fe66b31",
   "metadata": {},
   "outputs": [],
   "source": [
    "features_df.drop(['geometry','Unnamed: 0','x','y'],axis=1,inplace=True)"
   ]
  },
  {
   "cell_type": "code",
   "execution_count": 4,
   "id": "f2244131-1687-427c-ad1a-a06671f5bbf3",
   "metadata": {},
   "outputs": [
    {
     "data": {
      "text/html": [
       "<div>\n",
       "<style scoped>\n",
       "    .dataframe tbody tr th:only-of-type {\n",
       "        vertical-align: middle;\n",
       "    }\n",
       "\n",
       "    .dataframe tbody tr th {\n",
       "        vertical-align: top;\n",
       "    }\n",
       "\n",
       "    .dataframe thead th {\n",
       "        text-align: right;\n",
       "    }\n",
       "</style>\n",
       "<table border=\"1\" class=\"dataframe\">\n",
       "  <thead>\n",
       "    <tr style=\"text-align: right;\">\n",
       "      <th></th>\n",
       "      <th>r</th>\n",
       "      <th>g</th>\n",
       "      <th>b</th>\n",
       "      <th>nifr</th>\n",
       "      <th>iceplant</th>\n",
       "    </tr>\n",
       "  </thead>\n",
       "  <tbody>\n",
       "    <tr>\n",
       "      <th>count</th>\n",
       "      <td>224.000000</td>\n",
       "      <td>224.000000</td>\n",
       "      <td>224.000000</td>\n",
       "      <td>224.000000</td>\n",
       "      <td>224.000000</td>\n",
       "    </tr>\n",
       "    <tr>\n",
       "      <th>mean</th>\n",
       "      <td>84.093750</td>\n",
       "      <td>91.187500</td>\n",
       "      <td>88.955357</td>\n",
       "      <td>146.495536</td>\n",
       "      <td>0.330357</td>\n",
       "    </tr>\n",
       "    <tr>\n",
       "      <th>std</th>\n",
       "      <td>32.576714</td>\n",
       "      <td>28.561485</td>\n",
       "      <td>21.804014</td>\n",
       "      <td>36.055015</td>\n",
       "      <td>0.471395</td>\n",
       "    </tr>\n",
       "    <tr>\n",
       "      <th>min</th>\n",
       "      <td>29.000000</td>\n",
       "      <td>42.000000</td>\n",
       "      <td>59.000000</td>\n",
       "      <td>40.000000</td>\n",
       "      <td>0.000000</td>\n",
       "    </tr>\n",
       "    <tr>\n",
       "      <th>25%</th>\n",
       "      <td>64.000000</td>\n",
       "      <td>76.000000</td>\n",
       "      <td>75.000000</td>\n",
       "      <td>126.000000</td>\n",
       "      <td>0.000000</td>\n",
       "    </tr>\n",
       "    <tr>\n",
       "      <th>50%</th>\n",
       "      <td>81.000000</td>\n",
       "      <td>81.500000</td>\n",
       "      <td>83.500000</td>\n",
       "      <td>148.000000</td>\n",
       "      <td>0.000000</td>\n",
       "    </tr>\n",
       "    <tr>\n",
       "      <th>75%</th>\n",
       "      <td>91.250000</td>\n",
       "      <td>100.000000</td>\n",
       "      <td>96.000000</td>\n",
       "      <td>170.000000</td>\n",
       "      <td>1.000000</td>\n",
       "    </tr>\n",
       "    <tr>\n",
       "      <th>max</th>\n",
       "      <td>196.000000</td>\n",
       "      <td>192.000000</td>\n",
       "      <td>180.000000</td>\n",
       "      <td>213.000000</td>\n",
       "      <td>1.000000</td>\n",
       "    </tr>\n",
       "  </tbody>\n",
       "</table>\n",
       "</div>"
      ],
      "text/plain": [
       "                r           g           b        nifr    iceplant\n",
       "count  224.000000  224.000000  224.000000  224.000000  224.000000\n",
       "mean    84.093750   91.187500   88.955357  146.495536    0.330357\n",
       "std     32.576714   28.561485   21.804014   36.055015    0.471395\n",
       "min     29.000000   42.000000   59.000000   40.000000    0.000000\n",
       "25%     64.000000   76.000000   75.000000  126.000000    0.000000\n",
       "50%     81.000000   81.500000   83.500000  148.000000    0.000000\n",
       "75%     91.250000  100.000000   96.000000  170.000000    1.000000\n",
       "max    196.000000  192.000000  180.000000  213.000000    1.000000"
      ]
     },
     "execution_count": 4,
     "metadata": {},
     "output_type": "execute_result"
    }
   ],
   "source": [
    "# Descriptive statistics for each column \n",
    "features_df.describe()"
   ]
  },
  {
   "cell_type": "code",
   "execution_count": 26,
   "id": "95bc5450-1a5f-4f1f-a8eb-82b23cda604e",
   "metadata": {},
   "outputs": [],
   "source": [
    "# Labels are the values we want to predict\n",
    "labels = np.array(features_df['iceplant'])\n",
    "\n",
    "# Remove the labels from the features\n",
    "features= features_df.drop('iceplant', axis = 1)\n",
    "features_names = list(features.columns)\n",
    "\n",
    "#Convert to numpy array\n",
    "features = np.array(features)"
   ]
  },
  {
   "cell_type": "code",
   "execution_count": 27,
   "id": "f848fc58-515d-415e-a9d2-bacaf04566bc",
   "metadata": {},
   "outputs": [
    {
     "data": {
      "text/plain": [
       "['r', 'g', 'b', 'nifr']"
      ]
     },
     "execution_count": 27,
     "metadata": {},
     "output_type": "execute_result"
    }
   ],
   "source": [
    "features_names"
   ]
  },
  {
   "cell_type": "code",
   "execution_count": 6,
   "id": "06489ce1-5fb5-4eb8-ad68-98b6bc19cb4d",
   "metadata": {},
   "outputs": [],
   "source": [
    "# Split the data into training and testing sets\n",
    "train_features, test_features, train_labels, test_labels = train_test_split(features, \n",
    "                                                                            labels, \n",
    "                                                                            test_size = 0.3, \n",
    "                                                                            random_state = 42)"
   ]
  },
  {
   "cell_type": "code",
   "execution_count": 7,
   "id": "091b9715-761a-4bb3-9910-c07f7351405f",
   "metadata": {},
   "outputs": [
    {
     "name": "stdout",
     "output_type": "stream",
     "text": [
      "Training Features Shape: (156, 4)\n",
      "Training Labels Shape: (156,)\n",
      "Testing Features Shape: (68, 4)\n",
      "Testing Labels Shape: (68,)\n"
     ]
    }
   ],
   "source": [
    "print('Training Features Shape:', train_features.shape) \n",
    "print('Training Labels Shape:', train_labels.shape) \n",
    "print('Testing Features Shape:', test_features.shape) \n",
    "print('Testing Labels Shape:', test_labels.shape)"
   ]
  },
  {
   "cell_type": "code",
   "execution_count": 9,
   "id": "fd8cdc25-828c-423d-b348-63591c54bbc2",
   "metadata": {},
   "outputs": [
    {
     "data": {
      "text/plain": [
       "RandomForestRegressor(random_state=42)"
      ]
     },
     "execution_count": 9,
     "metadata": {},
     "output_type": "execute_result"
    }
   ],
   "source": [
    "# Instantiate model with 1000 decision trees\n",
    "rf = RandomForestRegressor(n_estimators = 100, \n",
    "                           random_state = 42)\n",
    "# Train the model on training data \n",
    "rf.fit(train_features, train_labels) "
   ]
  },
  {
   "cell_type": "code",
   "execution_count": 10,
   "id": "f6a9dbf1-8d5e-41f6-9f68-254871645dce",
   "metadata": {},
   "outputs": [
    {
     "name": "stdout",
     "output_type": "stream",
     "text": [
      "Mean Absolute Error: 0.09\n"
     ]
    }
   ],
   "source": [
    "# Use the forest's predict method on the test data \n",
    "predictions = rf.predict(test_features)\n",
    "# Calculate the absolute errors\n",
    "errors = abs(predictions - test_labels)\n",
    "# Print out the mean absolute error (mae)\n",
    "print('Mean Absolute Error:', round(np.mean(errors), 2))"
   ]
  },
  {
   "cell_type": "code",
   "execution_count": 11,
   "id": "3db10228-7a90-4aa6-ae28-a809f6279d4e",
   "metadata": {},
   "outputs": [
    {
     "name": "stdout",
     "output_type": "stream",
     "text": [
      "Accuracy: nan %.\n"
     ]
    },
    {
     "name": "stderr",
     "output_type": "stream",
     "text": [
      "/tmp/ipykernel_530/1025273937.py:2: RuntimeWarning: divide by zero encountered in true_divide\n",
      "  mape = 100 * ( (errors) / (test_labels))\n",
      "/tmp/ipykernel_530/1025273937.py:2: RuntimeWarning: invalid value encountered in true_divide\n",
      "  mape = 100 * ( (errors) / (test_labels))\n"
     ]
    }
   ],
   "source": [
    "# Calculate mean absolute percentage error (MAPE) \n",
    "mape = 100 * ( (errors) / (test_labels))\n",
    "# Calculate and display accuracy\n",
    "accuracy = 100 - np.mean(mape) \n",
    "print('Accuracy:', round(accuracy, 2), '%.')"
   ]
  },
  {
   "cell_type": "code",
   "execution_count": 12,
   "id": "09173d3c-4625-4296-874d-bab876229805",
   "metadata": {},
   "outputs": [
    {
     "data": {
      "text/plain": [
       "array([1.  , 0.  , 0.34, 1.  , 0.91, 0.05, 0.  , 0.  , 0.  , 0.68, 0.02,\n",
       "       1.  , 0.01, 0.06, 0.  , 0.  , 0.  , 0.  , 0.33, 0.01, 0.06, 1.  ,\n",
       "       0.  , 1.  , 1.  , 0.96, 0.  , 0.  , 0.  , 0.81, 0.95, 0.  , 1.  ,\n",
       "       0.02, 0.95, 0.  , 0.5 , 0.03, 0.  , 0.21, 0.03, 1.  , 0.03, 0.47,\n",
       "       0.91, 0.  , 0.01, 0.  , 0.  , 0.07, 0.  , 0.32, 0.56, 0.13, 0.05,\n",
       "       1.  , 0.38, 0.  , 0.  , 0.95, 0.  , 0.99, 0.15, 1.  , 0.  , 0.99,\n",
       "       1.  , 0.  ])"
      ]
     },
     "execution_count": 12,
     "metadata": {},
     "output_type": "execute_result"
    }
   ],
   "source": [
    "predictions"
   ]
  },
  {
   "cell_type": "code",
   "execution_count": 13,
   "id": "4c86f911-15fa-4bb7-983b-3bd9c7dcfe73",
   "metadata": {},
   "outputs": [
    {
     "data": {
      "text/plain": [
       "array([0.  , 0.  , 0.34, 0.  , 0.09, 0.05, 0.  , 0.  , 0.  , 0.68, 0.02,\n",
       "       0.  , 0.01, 0.06, 0.  , 0.  , 0.  , 0.  , 0.67, 0.01, 0.06, 0.  ,\n",
       "       0.  , 0.  , 0.  , 0.04, 0.  , 0.  , 0.  , 0.81, 0.05, 0.  , 0.  ,\n",
       "       0.02, 0.05, 0.  , 0.5 , 0.03, 0.  , 0.21, 0.03, 0.  , 0.03, 0.47,\n",
       "       0.09, 0.  , 0.01, 0.  , 0.  , 0.07, 0.  , 0.68, 0.56, 0.13, 0.05,\n",
       "       0.  , 0.38, 0.  , 0.  , 0.05, 0.  , 0.01, 0.15, 0.  , 0.  , 0.01,\n",
       "       0.  , 0.  ])"
      ]
     },
     "execution_count": 13,
     "metadata": {},
     "output_type": "execute_result"
    }
   ],
   "source": [
    "errors"
   ]
  },
  {
   "cell_type": "code",
   "execution_count": 31,
   "id": "add635ec-1dea-43a2-8c9b-2ef0c3b7fbcf",
   "metadata": {},
   "outputs": [
    {
     "data": {
      "text/html": [
       "<div>\n",
       "<style scoped>\n",
       "    .dataframe tbody tr th:only-of-type {\n",
       "        vertical-align: middle;\n",
       "    }\n",
       "\n",
       "    .dataframe tbody tr th {\n",
       "        vertical-align: top;\n",
       "    }\n",
       "\n",
       "    .dataframe thead th {\n",
       "        text-align: right;\n",
       "    }\n",
       "</style>\n",
       "<table border=\"1\" class=\"dataframe\">\n",
       "  <thead>\n",
       "    <tr style=\"text-align: right;\">\n",
       "      <th></th>\n",
       "      <th>r</th>\n",
       "      <th>g</th>\n",
       "      <th>b</th>\n",
       "      <th>nifr</th>\n",
       "      <th>iceplant</th>\n",
       "    </tr>\n",
       "  </thead>\n",
       "  <tbody>\n",
       "    <tr>\n",
       "      <th>0</th>\n",
       "      <td>82</td>\n",
       "      <td>77</td>\n",
       "      <td>82</td>\n",
       "      <td>144</td>\n",
       "      <td>1</td>\n",
       "    </tr>\n",
       "    <tr>\n",
       "      <th>1</th>\n",
       "      <td>142</td>\n",
       "      <td>129</td>\n",
       "      <td>130</td>\n",
       "      <td>145</td>\n",
       "      <td>0</td>\n",
       "    </tr>\n",
       "    <tr>\n",
       "      <th>2</th>\n",
       "      <td>71</td>\n",
       "      <td>93</td>\n",
       "      <td>75</td>\n",
       "      <td>164</td>\n",
       "      <td>0</td>\n",
       "    </tr>\n",
       "    <tr>\n",
       "      <th>3</th>\n",
       "      <td>82</td>\n",
       "      <td>80</td>\n",
       "      <td>82</td>\n",
       "      <td>151</td>\n",
       "      <td>1</td>\n",
       "    </tr>\n",
       "    <tr>\n",
       "      <th>4</th>\n",
       "      <td>84</td>\n",
       "      <td>81</td>\n",
       "      <td>88</td>\n",
       "      <td>133</td>\n",
       "      <td>1</td>\n",
       "    </tr>\n",
       "    <tr>\n",
       "      <th>...</th>\n",
       "      <td>...</td>\n",
       "      <td>...</td>\n",
       "      <td>...</td>\n",
       "      <td>...</td>\n",
       "      <td>...</td>\n",
       "    </tr>\n",
       "    <tr>\n",
       "      <th>63</th>\n",
       "      <td>75</td>\n",
       "      <td>74</td>\n",
       "      <td>72</td>\n",
       "      <td>167</td>\n",
       "      <td>1</td>\n",
       "    </tr>\n",
       "    <tr>\n",
       "      <th>64</th>\n",
       "      <td>31</td>\n",
       "      <td>47</td>\n",
       "      <td>59</td>\n",
       "      <td>113</td>\n",
       "      <td>0</td>\n",
       "    </tr>\n",
       "    <tr>\n",
       "      <th>65</th>\n",
       "      <td>86</td>\n",
       "      <td>77</td>\n",
       "      <td>77</td>\n",
       "      <td>161</td>\n",
       "      <td>1</td>\n",
       "    </tr>\n",
       "    <tr>\n",
       "      <th>66</th>\n",
       "      <td>78</td>\n",
       "      <td>72</td>\n",
       "      <td>79</td>\n",
       "      <td>144</td>\n",
       "      <td>1</td>\n",
       "    </tr>\n",
       "    <tr>\n",
       "      <th>67</th>\n",
       "      <td>73</td>\n",
       "      <td>103</td>\n",
       "      <td>83</td>\n",
       "      <td>189</td>\n",
       "      <td>0</td>\n",
       "    </tr>\n",
       "  </tbody>\n",
       "</table>\n",
       "<p>68 rows × 5 columns</p>\n",
       "</div>"
      ],
      "text/plain": [
       "      r    g    b  nifr  iceplant\n",
       "0    82   77   82   144         1\n",
       "1   142  129  130   145         0\n",
       "2    71   93   75   164         0\n",
       "3    82   80   82   151         1\n",
       "4    84   81   88   133         1\n",
       "..  ...  ...  ...   ...       ...\n",
       "63   75   74   72   167         1\n",
       "64   31   47   59   113         0\n",
       "65   86   77   77   161         1\n",
       "66   78   72   79   144         1\n",
       "67   73  103   83   189         0\n",
       "\n",
       "[68 rows x 5 columns]"
      ]
     },
     "execution_count": 31,
     "metadata": {},
     "output_type": "execute_result"
    }
   ],
   "source": [
    "test = pd.DataFrame(test_features, columns=features_names)\n",
    "test['iceplant']=test_labels\n",
    "test"
   ]
  },
  {
   "cell_type": "code",
   "execution_count": 52,
   "id": "9476577c-a2a1-4360-817f-08c798bca690",
   "metadata": {},
   "outputs": [
    {
     "data": {
      "text/html": [
       "<div>\n",
       "<style scoped>\n",
       "    .dataframe tbody tr th:only-of-type {\n",
       "        vertical-align: middle;\n",
       "    }\n",
       "\n",
       "    .dataframe tbody tr th {\n",
       "        vertical-align: top;\n",
       "    }\n",
       "\n",
       "    .dataframe thead th {\n",
       "        text-align: right;\n",
       "    }\n",
       "</style>\n",
       "<table border=\"1\" class=\"dataframe\">\n",
       "  <thead>\n",
       "    <tr style=\"text-align: right;\">\n",
       "      <th></th>\n",
       "      <th>r</th>\n",
       "      <th>g</th>\n",
       "      <th>b</th>\n",
       "      <th>nifr</th>\n",
       "      <th>iceplant</th>\n",
       "      <th>predictions</th>\n",
       "      <th>classified_as</th>\n",
       "    </tr>\n",
       "  </thead>\n",
       "  <tbody>\n",
       "    <tr>\n",
       "      <th>0</th>\n",
       "      <td>82</td>\n",
       "      <td>77</td>\n",
       "      <td>82</td>\n",
       "      <td>144</td>\n",
       "      <td>1</td>\n",
       "      <td>1.00</td>\n",
       "      <td>1</td>\n",
       "    </tr>\n",
       "    <tr>\n",
       "      <th>1</th>\n",
       "      <td>142</td>\n",
       "      <td>129</td>\n",
       "      <td>130</td>\n",
       "      <td>145</td>\n",
       "      <td>0</td>\n",
       "      <td>0.00</td>\n",
       "      <td>0</td>\n",
       "    </tr>\n",
       "    <tr>\n",
       "      <th>2</th>\n",
       "      <td>71</td>\n",
       "      <td>93</td>\n",
       "      <td>75</td>\n",
       "      <td>164</td>\n",
       "      <td>0</td>\n",
       "      <td>0.34</td>\n",
       "      <td>0</td>\n",
       "    </tr>\n",
       "    <tr>\n",
       "      <th>3</th>\n",
       "      <td>82</td>\n",
       "      <td>80</td>\n",
       "      <td>82</td>\n",
       "      <td>151</td>\n",
       "      <td>1</td>\n",
       "      <td>1.00</td>\n",
       "      <td>1</td>\n",
       "    </tr>\n",
       "    <tr>\n",
       "      <th>4</th>\n",
       "      <td>84</td>\n",
       "      <td>81</td>\n",
       "      <td>88</td>\n",
       "      <td>133</td>\n",
       "      <td>1</td>\n",
       "      <td>0.91</td>\n",
       "      <td>1</td>\n",
       "    </tr>\n",
       "    <tr>\n",
       "      <th>...</th>\n",
       "      <td>...</td>\n",
       "      <td>...</td>\n",
       "      <td>...</td>\n",
       "      <td>...</td>\n",
       "      <td>...</td>\n",
       "      <td>...</td>\n",
       "      <td>...</td>\n",
       "    </tr>\n",
       "    <tr>\n",
       "      <th>63</th>\n",
       "      <td>75</td>\n",
       "      <td>74</td>\n",
       "      <td>72</td>\n",
       "      <td>167</td>\n",
       "      <td>1</td>\n",
       "      <td>1.00</td>\n",
       "      <td>1</td>\n",
       "    </tr>\n",
       "    <tr>\n",
       "      <th>64</th>\n",
       "      <td>31</td>\n",
       "      <td>47</td>\n",
       "      <td>59</td>\n",
       "      <td>113</td>\n",
       "      <td>0</td>\n",
       "      <td>0.00</td>\n",
       "      <td>0</td>\n",
       "    </tr>\n",
       "    <tr>\n",
       "      <th>65</th>\n",
       "      <td>86</td>\n",
       "      <td>77</td>\n",
       "      <td>77</td>\n",
       "      <td>161</td>\n",
       "      <td>1</td>\n",
       "      <td>0.99</td>\n",
       "      <td>1</td>\n",
       "    </tr>\n",
       "    <tr>\n",
       "      <th>66</th>\n",
       "      <td>78</td>\n",
       "      <td>72</td>\n",
       "      <td>79</td>\n",
       "      <td>144</td>\n",
       "      <td>1</td>\n",
       "      <td>1.00</td>\n",
       "      <td>1</td>\n",
       "    </tr>\n",
       "    <tr>\n",
       "      <th>67</th>\n",
       "      <td>73</td>\n",
       "      <td>103</td>\n",
       "      <td>83</td>\n",
       "      <td>189</td>\n",
       "      <td>0</td>\n",
       "      <td>0.00</td>\n",
       "      <td>0</td>\n",
       "    </tr>\n",
       "  </tbody>\n",
       "</table>\n",
       "<p>68 rows × 7 columns</p>\n",
       "</div>"
      ],
      "text/plain": [
       "      r    g    b  nifr  iceplant  predictions  classified_as\n",
       "0    82   77   82   144         1         1.00              1\n",
       "1   142  129  130   145         0         0.00              0\n",
       "2    71   93   75   164         0         0.34              0\n",
       "3    82   80   82   151         1         1.00              1\n",
       "4    84   81   88   133         1         0.91              1\n",
       "..  ...  ...  ...   ...       ...          ...            ...\n",
       "63   75   74   72   167         1         1.00              1\n",
       "64   31   47   59   113         0         0.00              0\n",
       "65   86   77   77   161         1         0.99              1\n",
       "66   78   72   79   144         1         1.00              1\n",
       "67   73  103   83   189         0         0.00              0\n",
       "\n",
       "[68 rows x 7 columns]"
      ]
     },
     "execution_count": 52,
     "metadata": {},
     "output_type": "execute_result"
    }
   ],
   "source": [
    "thresh = 0.6\n",
    "test['predictions']= predictions\n",
    "test['classified_as'] = test.predictions.apply(lambda x : 1 if x>thresh else 0)\n",
    "test"
   ]
  },
  {
   "cell_type": "code",
   "execution_count": 53,
   "id": "37f23617-1039-4711-bbe9-726e7b9d868e",
   "metadata": {},
   "outputs": [
    {
     "name": "stdout",
     "output_type": "stream",
     "text": [
      "true negatives % 64.71     false positives % 2.94\n",
      "false negatives % 4.41     true positives % 27.94\n"
     ]
    }
   ],
   "source": [
    "N = test.shape[0]\n",
    "results = confusion_matrix(test['iceplant'],test['classified_as'])\n",
    "\n",
    "print('true negatives %', np.round(results[0,0]/N*100,2), \n",
    "      '    false positives %', np.round(results[0,1]/N*100,2))\n",
    "print('false negatives %', np.round(results[1,0]/N*100,2), '    true positives %', np.round(results[1,1]/N*100,2))"
   ]
  },
  {
   "cell_type": "code",
   "execution_count": 69,
   "id": "bd8df861-efa4-4904-8942-5ad07b709fa4",
   "metadata": {},
   "outputs": [],
   "source": [
    "import rasterio\n",
    "import geopandas as gpd\n",
    "import matplotlib.pyplot as plt\n",
    "\n",
    "import pystac_client \n",
    "import planetary_computer as pc\n",
    "\n",
    "from shapely.geometry import Polygon"
   ]
  },
  {
   "cell_type": "code",
   "execution_count": 61,
   "id": "aaa425c5-c652-4e58-ab22-c11071079b70",
   "metadata": {},
   "outputs": [],
   "source": [
    "# accesing Azure storage using pystac client\n",
    "URL = \"https://planetarycomputer.microsoft.com/api/stac/v1\"\n",
    "catalog = pystac_client.Client.open(URL)\n",
    "\n",
    "# ********* HERE I KNOW WHICH IMAGE TEHSE POINTS ARE IN ******\n",
    "itemid = 'ca_m_3411934_sw_11_060_20180722_20190209'\n",
    "search = catalog.search(\n",
    "    collections=[\"naip\"],\n",
    "    ids = itemid\n",
    ")\n",
    "item = list(search.get_items())[0]\n",
    "# sign and open item\n",
    "href = pc.sign(item.assets[\"image\"].href)\n",
    "ds = rasterio.open(href)\n",
    "# we only need the image at this point to access the datasets crs"
   ]
  },
  {
   "cell_type": "code",
   "execution_count": 96,
   "id": "443eb2cf-2ca0-4669-a595-82de9739b98a",
   "metadata": {},
   "outputs": [
    {
     "data": {
      "text/plain": [
       "Window(col_off=3705.826973459043, row_off=4884.473012050614, width=1967.1958567166585, height=1923.8473962945864)"
      ]
     },
     "execution_count": 96,
     "metadata": {},
     "output_type": "execute_result"
    }
   ],
   "source": [
    "#  Campus Point + Campus + Goleta Beach\n",
    "# reduce_box = Polygon([\n",
    "#     [-119.8533036004,34.4025961754],\n",
    "#     [-119.8322357862,34.4025961754],\n",
    "#     [-119.8322357862,34.4198342586],\n",
    "#     [-119.8533036004,34.4198342586],\n",
    "#     [-119.8533036004,34.4025961754]])\n",
    "\n",
    "reduce_box = Polygon([\n",
    "    [-119.8534713523,34.4028697719],\n",
    "    [-119.8409772016,34.4028697719],\n",
    "    [-119.8409772016,34.4129840686],\n",
    "    [-119.8534713523,34.4129840686],\n",
    "    [-119.8534713523,34.4028697719]])\n",
    "\n",
    "\n",
    "reduce = gpd.GeoDataFrame({'geometry':[reduce_box]}, crs=\"EPSG:4326\")\n",
    "reduce = reduce.to_crs(ds.crs)\n",
    "\n",
    "win = ds.window(*reduce.total_bounds)\n",
    "win"
   ]
  },
  {
   "cell_type": "code",
   "execution_count": 97,
   "id": "0b64b1a8-98fe-4f70-a13c-6b10ad9fe2b3",
   "metadata": {},
   "outputs": [],
   "source": [
    "check = rasterio.open(href).read([1,2,3], window=win)"
   ]
  },
  {
   "cell_type": "code",
   "execution_count": 101,
   "id": "1eb18e95-c58c-4ad7-9546-1c058d3ff339",
   "metadata": {},
   "outputs": [
    {
     "data": {
      "text/plain": [
       "<matplotlib.image.AxesImage at 0x7fc9521bd5e0>"
      ]
     },
     "execution_count": 101,
     "metadata": {},
     "output_type": "execute_result"
    },
    {
     "data": {
      "image/png": "[encoded data removed]",
      "text/plain": [
       "<Figure size 432x288 with 1 Axes>"
      ]
     },
     "metadata": {
      "needs_background": "light"
     },
     "output_type": "display_data"
    }
   ],
   "source": [
    "plt.imshow(np.moveaxis(check,0,-1))"
   ]
  },
  {
   "cell_type": "code",
   "execution_count": 103,
   "id": "524cb401-c5ee-41b0-b751-8a58dc5d7ee8",
   "metadata": {},
   "outputs": [
    {
     "data": {
      "text/plain": [
       "(3, 1923, 1967)"
      ]
     },
     "execution_count": 103,
     "metadata": {},
     "output_type": "execute_result"
    }
   ],
   "source": [
    "check.shape"
   ]
  },
  {
   "cell_type": "code",
   "execution_count": 104,
   "id": "97d8ec62-d15f-4251-9d62-5be435ea78d0",
   "metadata": {},
   "outputs": [
    {
     "data": {
      "text/plain": [
       "array([[[111, 114, 109, ..., 140, 128, 154],\n",
       "        [108, 109, 109, ..., 140, 157, 170],\n",
       "        [115, 104, 104, ..., 157, 168, 169],\n",
       "        ...,\n",
       "        [ 26,  27,  26, ..., 159, 171, 147],\n",
       "        [ 26,  26,  24, ..., 138, 177, 165],\n",
       "        [ 26,  26,  26, ..., 141, 150, 180]],\n",
       "\n",
       "       [[107, 108, 104, ..., 143, 132, 152],\n",
       "        [103, 106, 107, ..., 142, 154, 164],\n",
       "        [110, 105, 103, ..., 155, 165, 160],\n",
       "        ...,\n",
       "        [ 47,  47,  46, ..., 173, 182, 153],\n",
       "        [ 45,  48,  46, ..., 156, 184, 167],\n",
       "        [ 46,  46,  46, ..., 149, 164, 175]],\n",
       "\n",
       "       [[109, 110, 110, ..., 145, 131, 146],\n",
       "        [109, 107, 109, ..., 137, 147, 151],\n",
       "        [113, 109, 107, ..., 147, 152, 146],\n",
       "        ...,\n",
       "        [ 68,  69,  68, ..., 168, 185, 162],\n",
       "        [ 71,  70,  70, ..., 153, 181, 174],\n",
       "        [ 69,  69,  69, ..., 162, 162, 172]]], dtype=uint8)"
      ]
     },
     "execution_count": 104,
     "metadata": {},
     "output_type": "execute_result"
    }
   ],
   "source": [
    "check"
   ]
  },
  {
   "cell_type": "code",
   "execution_count": 105,
   "id": "57f4fac2-6088-4abd-9e38-e68aff8c45c6",
   "metadata": {},
   "outputs": [
    {
     "data": {
      "text/html": [
       "<div>\n",
       "<style scoped>\n",
       "    .dataframe tbody tr th:only-of-type {\n",
       "        vertical-align: middle;\n",
       "    }\n",
       "\n",
       "    .dataframe tbody tr th {\n",
       "        vertical-align: top;\n",
       "    }\n",
       "\n",
       "    .dataframe thead th {\n",
       "        text-align: right;\n",
       "    }\n",
       "</style>\n",
       "<table border=\"1\" class=\"dataframe\">\n",
       "  <thead>\n",
       "    <tr style=\"text-align: right;\">\n",
       "      <th></th>\n",
       "      <th>0</th>\n",
       "      <th>1</th>\n",
       "      <th>2</th>\n",
       "    </tr>\n",
       "  </thead>\n",
       "  <tbody>\n",
       "    <tr>\n",
       "      <th>0</th>\n",
       "      <td>111</td>\n",
       "      <td>107</td>\n",
       "      <td>109</td>\n",
       "    </tr>\n",
       "    <tr>\n",
       "      <th>1</th>\n",
       "      <td>114</td>\n",
       "      <td>108</td>\n",
       "      <td>110</td>\n",
       "    </tr>\n",
       "    <tr>\n",
       "      <th>2</th>\n",
       "      <td>109</td>\n",
       "      <td>104</td>\n",
       "      <td>110</td>\n",
       "    </tr>\n",
       "    <tr>\n",
       "      <th>3</th>\n",
       "      <td>111</td>\n",
       "      <td>107</td>\n",
       "      <td>109</td>\n",
       "    </tr>\n",
       "    <tr>\n",
       "      <th>4</th>\n",
       "      <td>113</td>\n",
       "      <td>109</td>\n",
       "      <td>109</td>\n",
       "    </tr>\n",
       "    <tr>\n",
       "      <th>...</th>\n",
       "      <td>...</td>\n",
       "      <td>...</td>\n",
       "      <td>...</td>\n",
       "    </tr>\n",
       "    <tr>\n",
       "      <th>3782536</th>\n",
       "      <td>185</td>\n",
       "      <td>185</td>\n",
       "      <td>179</td>\n",
       "    </tr>\n",
       "    <tr>\n",
       "      <th>3782537</th>\n",
       "      <td>188</td>\n",
       "      <td>185</td>\n",
       "      <td>191</td>\n",
       "    </tr>\n",
       "    <tr>\n",
       "      <th>3782538</th>\n",
       "      <td>141</td>\n",
       "      <td>149</td>\n",
       "      <td>162</td>\n",
       "    </tr>\n",
       "    <tr>\n",
       "      <th>3782539</th>\n",
       "      <td>150</td>\n",
       "      <td>164</td>\n",
       "      <td>162</td>\n",
       "    </tr>\n",
       "    <tr>\n",
       "      <th>3782540</th>\n",
       "      <td>180</td>\n",
       "      <td>175</td>\n",
       "      <td>172</td>\n",
       "    </tr>\n",
       "  </tbody>\n",
       "</table>\n",
       "<p>3782541 rows × 3 columns</p>\n",
       "</div>"
      ],
      "text/plain": [
       "           0    1    2\n",
       "0        111  107  109\n",
       "1        114  108  110\n",
       "2        109  104  110\n",
       "3        111  107  109\n",
       "4        113  109  109\n",
       "...      ...  ...  ...\n",
       "3782536  185  185  179\n",
       "3782537  188  185  191\n",
       "3782538  141  149  162\n",
       "3782539  150  164  162\n",
       "3782540  180  175  172\n",
       "\n",
       "[3782541 rows x 3 columns]"
      ]
     },
     "execution_count": 105,
     "metadata": {},
     "output_type": "execute_result"
    }
   ],
   "source": [
    "#https://gis.stackexchange.com/questions/361318/create-pandas-dataframe-from-raster-image-one-row-per-pixel-with-bands-as-colu\n",
    "pd.DataFrame(check.reshape([3,-1]).T)"
   ]
  },
  {
   "cell_type": "code",
   "execution_count": 107,
   "id": "fce5918c-6f2b-4e3d-89d0-205330397164",
   "metadata": {},
   "outputs": [
    {
     "data": {
      "text/plain": [
       "(4, 1923, 1967)"
      ]
     },
     "execution_count": 107,
     "metadata": {},
     "output_type": "execute_result"
    }
   ],
   "source": [
    "subset = rasterio.open(href).read([1,2,3,4], window=win)"
   ]
  },
  {
   "cell_type": "code",
   "execution_count": 108,
   "id": "8e3710b7-e114-493c-81e2-fe3df8a1f16b",
   "metadata": {},
   "outputs": [
    {
     "data": {
      "text/plain": [
       "(4, 1923, 1967)"
      ]
     },
     "execution_count": 108,
     "metadata": {},
     "output_type": "execute_result"
    }
   ],
   "source": [
    "subset.shape"
   ]
  },
  {
   "cell_type": "code",
   "execution_count": 113,
   "id": "fd0c5660-e0f8-4989-82bd-b4579765a5b8",
   "metadata": {},
   "outputs": [
    {
     "data": {
      "text/plain": [
       "array([[111, 107, 109,  87],\n",
       "       [114, 108, 110,  93],\n",
       "       [109, 104, 110,  89],\n",
       "       ...,\n",
       "       [141, 149, 162,  96],\n",
       "       [150, 164, 162, 107],\n",
       "       [180, 175, 172,  95]], dtype=uint8)"
      ]
     },
     "execution_count": 113,
     "metadata": {},
     "output_type": "execute_result"
    }
   ],
   "source": [
    "pixels = subset.reshape([4,-1]).T\n",
    "pixels"
   ]
  },
  {
   "cell_type": "code",
   "execution_count": 115,
   "id": "5a19c3ec-6e24-45c4-aeed-e1e4f9af2940",
   "metadata": {},
   "outputs": [
    {
     "data": {
      "text/plain": [
       "array([0., 0., 0., ..., 0., 0., 0.])"
      ]
     },
     "execution_count": 115,
     "metadata": {},
     "output_type": "execute_result"
    }
   ],
   "source": [
    "predictions = rf.predict(pixels)\n"
   ]
  },
  {
   "cell_type": "code",
   "execution_count": 124,
   "id": "51ed4b60-3c03-4cf5-8931-284736bec83e",
   "metadata": {},
   "outputs": [],
   "source": [
    "predictions.shape"
   ]
  },
  {
   "cell_type": "code",
   "execution_count": 126,
   "id": "b087a0cc-89b2-4d76-9686-be4c26a05725",
   "metadata": {},
   "outputs": [
    {
     "name": "stdout",
     "output_type": "stream",
     "text": [
      "(1923, 1967)\n"
     ]
    },
    {
     "data": {
      "text/plain": [
       "array([[0.  , 0.  , 0.  , ..., 0.  , 0.  , 0.03],\n",
       "       [0.  , 0.  , 0.  , ..., 0.  , 0.03, 0.  ],\n",
       "       [0.  , 0.  , 0.  , ..., 0.01, 0.  , 0.  ],\n",
       "       ...,\n",
       "       [0.  , 0.  , 0.  , ..., 0.  , 0.  , 0.  ],\n",
       "       [0.  , 0.  , 0.  , ..., 0.  , 0.  , 0.  ],\n",
       "       [0.  , 0.  , 0.  , ..., 0.  , 0.  , 0.  ]])"
      ]
     },
     "execution_count": 126,
     "metadata": {},
     "output_type": "execute_result"
    }
   ],
   "source": [
    "repredictions = predictions.reshape([1923,-1])\n",
    "print(repredictions.shape)\n",
    "repredictions"
   ]
  },
  {
   "cell_type": "code",
   "execution_count": 116,
   "id": "081ada61-5d1b-4dfe-bc9f-bbbb258cfd72",
   "metadata": {},
   "outputs": [
    {
     "data": {
      "text/plain": [
       "array([0.  , 0.01, 0.02, 0.03, 0.04, 0.05, 0.06, 0.07, 0.08, 0.09, 0.1 ,\n",
       "       0.11, 0.12, 0.13, 0.14, 0.15, 0.16, 0.17, 0.18, 0.19, 0.2 , 0.21,\n",
       "       0.22, 0.23, 0.24, 0.25, 0.26, 0.27, 0.28, 0.29, 0.3 , 0.31, 0.32,\n",
       "       0.33, 0.34, 0.35, 0.36, 0.37, 0.38, 0.39, 0.4 , 0.41, 0.42, 0.43,\n",
       "       0.44, 0.45, 0.46, 0.47, 0.48, 0.49, 0.5 , 0.51, 0.52, 0.53, 0.54,\n",
       "       0.55, 0.56, 0.57, 0.58, 0.59, 0.6 , 0.61, 0.62, 0.63, 0.64, 0.65,\n",
       "       0.66, 0.67, 0.68, 0.69, 0.7 , 0.71, 0.72, 0.73, 0.74, 0.75, 0.76,\n",
       "       0.77, 0.78, 0.79, 0.8 , 0.81, 0.82, 0.83, 0.84, 0.85, 0.86, 0.87,\n",
       "       0.88, 0.89, 0.9 , 0.91, 0.92, 0.93, 0.94, 0.95, 0.96, 0.97, 0.98,\n",
       "       0.99, 1.  ])"
      ]
     },
     "execution_count": 116,
     "metadata": {},
     "output_type": "execute_result"
    }
   ],
   "source": [
    "np.unique(predictions)"
   ]
  },
  {
   "cell_type": "code",
   "execution_count": 121,
   "id": "19a45cd0-02aa-44d0-938b-c3facaaaa057",
   "metadata": {},
   "outputs": [
    {
     "data": {
      "text/html": [
       "<div>\n",
       "<style scoped>\n",
       "    .dataframe tbody tr th:only-of-type {\n",
       "        vertical-align: middle;\n",
       "    }\n",
       "\n",
       "    .dataframe tbody tr th {\n",
       "        vertical-align: top;\n",
       "    }\n",
       "\n",
       "    .dataframe thead th {\n",
       "        text-align: right;\n",
       "    }\n",
       "</style>\n",
       "<table border=\"1\" class=\"dataframe\">\n",
       "  <thead>\n",
       "    <tr style=\"text-align: right;\">\n",
       "      <th></th>\n",
       "      <th>r</th>\n",
       "      <th>g</th>\n",
       "      <th>b</th>\n",
       "      <th>nir</th>\n",
       "      <th>predictions</th>\n",
       "      <th>classified_as</th>\n",
       "    </tr>\n",
       "  </thead>\n",
       "  <tbody>\n",
       "    <tr>\n",
       "      <th>0</th>\n",
       "      <td>111</td>\n",
       "      <td>107</td>\n",
       "      <td>109</td>\n",
       "      <td>87</td>\n",
       "      <td>0.0</td>\n",
       "      <td>1.0</td>\n",
       "    </tr>\n",
       "    <tr>\n",
       "      <th>1</th>\n",
       "      <td>114</td>\n",
       "      <td>108</td>\n",
       "      <td>110</td>\n",
       "      <td>93</td>\n",
       "      <td>0.0</td>\n",
       "      <td>0.0</td>\n",
       "    </tr>\n",
       "    <tr>\n",
       "      <th>2</th>\n",
       "      <td>109</td>\n",
       "      <td>104</td>\n",
       "      <td>110</td>\n",
       "      <td>89</td>\n",
       "      <td>0.0</td>\n",
       "      <td>0.0</td>\n",
       "    </tr>\n",
       "    <tr>\n",
       "      <th>3</th>\n",
       "      <td>111</td>\n",
       "      <td>107</td>\n",
       "      <td>109</td>\n",
       "      <td>90</td>\n",
       "      <td>0.0</td>\n",
       "      <td>1.0</td>\n",
       "    </tr>\n",
       "    <tr>\n",
       "      <th>4</th>\n",
       "      <td>113</td>\n",
       "      <td>109</td>\n",
       "      <td>109</td>\n",
       "      <td>93</td>\n",
       "      <td>0.0</td>\n",
       "      <td>1.0</td>\n",
       "    </tr>\n",
       "    <tr>\n",
       "      <th>...</th>\n",
       "      <td>...</td>\n",
       "      <td>...</td>\n",
       "      <td>...</td>\n",
       "      <td>...</td>\n",
       "      <td>...</td>\n",
       "      <td>...</td>\n",
       "    </tr>\n",
       "    <tr>\n",
       "      <th>3782536</th>\n",
       "      <td>185</td>\n",
       "      <td>185</td>\n",
       "      <td>179</td>\n",
       "      <td>145</td>\n",
       "      <td>0.0</td>\n",
       "      <td>NaN</td>\n",
       "    </tr>\n",
       "    <tr>\n",
       "      <th>3782537</th>\n",
       "      <td>188</td>\n",
       "      <td>185</td>\n",
       "      <td>191</td>\n",
       "      <td>118</td>\n",
       "      <td>0.0</td>\n",
       "      <td>NaN</td>\n",
       "    </tr>\n",
       "    <tr>\n",
       "      <th>3782538</th>\n",
       "      <td>141</td>\n",
       "      <td>149</td>\n",
       "      <td>162</td>\n",
       "      <td>96</td>\n",
       "      <td>0.0</td>\n",
       "      <td>NaN</td>\n",
       "    </tr>\n",
       "    <tr>\n",
       "      <th>3782539</th>\n",
       "      <td>150</td>\n",
       "      <td>164</td>\n",
       "      <td>162</td>\n",
       "      <td>107</td>\n",
       "      <td>0.0</td>\n",
       "      <td>NaN</td>\n",
       "    </tr>\n",
       "    <tr>\n",
       "      <th>3782540</th>\n",
       "      <td>180</td>\n",
       "      <td>175</td>\n",
       "      <td>172</td>\n",
       "      <td>95</td>\n",
       "      <td>0.0</td>\n",
       "      <td>NaN</td>\n",
       "    </tr>\n",
       "  </tbody>\n",
       "</table>\n",
       "<p>3782541 rows × 6 columns</p>\n",
       "</div>"
      ],
      "text/plain": [
       "           r    g    b  nir  predictions  classified_as\n",
       "0        111  107  109   87          0.0            1.0\n",
       "1        114  108  110   93          0.0            0.0\n",
       "2        109  104  110   89          0.0            0.0\n",
       "3        111  107  109   90          0.0            1.0\n",
       "4        113  109  109   93          0.0            1.0\n",
       "...      ...  ...  ...  ...          ...            ...\n",
       "3782536  185  185  179  145          0.0            NaN\n",
       "3782537  188  185  191  118          0.0            NaN\n",
       "3782538  141  149  162   96          0.0            NaN\n",
       "3782539  150  164  162  107          0.0            NaN\n",
       "3782540  180  175  172   95          0.0            NaN\n",
       "\n",
       "[3782541 rows x 6 columns]"
      ]
     },
     "execution_count": 121,
     "metadata": {},
     "output_type": "execute_result"
    }
   ],
   "source": [
    "image_classification = pd.DataFrame(pixels,columns=['r','g','b','nir'])\n",
    "image_classification['prediction'] = predictions\n",
    "thresh = 0.6\n",
    "image_classification['classified_as'] = test.predictions.apply(lambda x : 1 if x>thresh else 0)\n",
    "image_classification"
   ]
  },
  {
   "cell_type": "code",
   "execution_count": 127,
   "id": "fe4ad97d-9f7c-4ec5-803a-6fff6e14601b",
   "metadata": {},
   "outputs": [
    {
     "data": {
      "text/plain": [
       "<matplotlib.image.AxesImage at 0x7fc950d4b640>"
      ]
     },
     "execution_count": 127,
     "metadata": {},
     "output_type": "execute_result"
    },
    {
     "data": {
      "image/png": "[encoded data removed]",
      "text/plain": [
       "<Figure size 432x288 with 1 Axes>"
      ]
     },
     "metadata": {
      "needs_background": "light"
     },
     "output_type": "display_data"
    }
   ],
   "source": [
    "plt.imshow(repredictions)"
   ]
  },
  {
   "cell_type": "code",
   "execution_count": null,
   "id": "f7f422b1-6f08-4303-b1c0-2efe8d3ce199",
   "metadata": {},
   "outputs": [],
   "source": []
  }
 ],
 "metadata": {
  "kernelspec": {
   "display_name": "Python 3 (ipykernel)",
   "language": "python",
   "name": "python3"
  },
  "language_info": {
   "codemirror_mode": {
    "name": "ipython",
    "version": 3
   },
   "file_extension": ".py",
   "mimetype": "text/x-python",
   "name": "python",
   "nbconvert_exporter": "python",
   "pygments_lexer": "ipython3",
   "version": "3.8.12"
  }
 },
 "nbformat": 4,
 "nbformat_minor": 5
}
