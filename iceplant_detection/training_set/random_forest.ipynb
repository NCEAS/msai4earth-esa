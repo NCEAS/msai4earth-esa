{
 "cells": [
  {
   "cell_type": "code",
   "execution_count": 15,
   "id": "3f6c5647-eddf-4f48-bf21-c850c4bd43e4",
   "metadata": {},
   "outputs": [],
   "source": [
    "import os\n",
    "import pandas as pd\n",
    "import numpy as np\n",
    "\n",
    "# Using Skicit-learn to split data into training and testing sets \n",
    "from sklearn.model_selection import train_test_split\n",
    "from sklearn.ensemble import RandomForestRegressor"
   ]
  },
  {
   "cell_type": "code",
   "execution_count": 2,
   "id": "8b9d3232-90f7-484c-9927-6ae492f66649",
   "metadata": {},
   "outputs": [
    {
     "data": {
      "text/html": [
       "<div>\n",
       "<style scoped>\n",
       "    .dataframe tbody tr th:only-of-type {\n",
       "        vertical-align: middle;\n",
       "    }\n",
       "\n",
       "    .dataframe tbody tr th {\n",
       "        vertical-align: top;\n",
       "    }\n",
       "\n",
       "    .dataframe thead th {\n",
       "        text-align: right;\n",
       "    }\n",
       "</style>\n",
       "<table border=\"1\" class=\"dataframe\">\n",
       "  <thead>\n",
       "    <tr style=\"text-align: right;\">\n",
       "      <th></th>\n",
       "      <th>Unnamed: 0</th>\n",
       "      <th>geometry</th>\n",
       "      <th>x</th>\n",
       "      <th>y</th>\n",
       "      <th>r</th>\n",
       "      <th>g</th>\n",
       "      <th>b</th>\n",
       "      <th>nifr</th>\n",
       "      <th>iceplant</th>\n",
       "    </tr>\n",
       "  </thead>\n",
       "  <tbody>\n",
       "    <tr>\n",
       "      <th>0</th>\n",
       "      <td>0</td>\n",
       "      <td>POINT (238534.77144037225 3810764.4391108337)</td>\n",
       "      <td>238534.771440</td>\n",
       "      <td>3.810764e+06</td>\n",
       "      <td>89</td>\n",
       "      <td>84</td>\n",
       "      <td>89</td>\n",
       "      <td>144</td>\n",
       "      <td>1</td>\n",
       "    </tr>\n",
       "    <tr>\n",
       "      <th>1</th>\n",
       "      <td>1</td>\n",
       "      <td>POINT (238516.67475820333 3810768.371394962)</td>\n",
       "      <td>238516.674758</td>\n",
       "      <td>3.810768e+06</td>\n",
       "      <td>100</td>\n",
       "      <td>88</td>\n",
       "      <td>93</td>\n",
       "      <td>148</td>\n",
       "      <td>1</td>\n",
       "    </tr>\n",
       "    <tr>\n",
       "      <th>2</th>\n",
       "      <td>2</td>\n",
       "      <td>POINT (238496.0413784355 3810771.828721741)</td>\n",
       "      <td>238496.041378</td>\n",
       "      <td>3.810772e+06</td>\n",
       "      <td>97</td>\n",
       "      <td>93</td>\n",
       "      <td>96</td>\n",
       "      <td>140</td>\n",
       "      <td>1</td>\n",
       "    </tr>\n",
       "    <tr>\n",
       "      <th>3</th>\n",
       "      <td>3</td>\n",
       "      <td>POINT (238497.93042821612 3810771.2369597284)</td>\n",
       "      <td>238497.930428</td>\n",
       "      <td>3.810771e+06</td>\n",
       "      <td>87</td>\n",
       "      <td>80</td>\n",
       "      <td>86</td>\n",
       "      <td>137</td>\n",
       "      <td>1</td>\n",
       "    </tr>\n",
       "  </tbody>\n",
       "</table>\n",
       "</div>"
      ],
      "text/plain": [
       "   Unnamed: 0                                       geometry              x  \\\n",
       "0           0  POINT (238534.77144037225 3810764.4391108337)  238534.771440   \n",
       "1           1   POINT (238516.67475820333 3810768.371394962)  238516.674758   \n",
       "2           2    POINT (238496.0413784355 3810771.828721741)  238496.041378   \n",
       "3           3  POINT (238497.93042821612 3810771.2369597284)  238497.930428   \n",
       "\n",
       "              y    r   g   b  nifr  iceplant  \n",
       "0  3.810764e+06   89  84  89   144         1  \n",
       "1  3.810768e+06  100  88  93   148         1  \n",
       "2  3.810772e+06   97  93  96   140         1  \n",
       "3  3.810771e+06   87  80  86   137         1  "
      ]
     },
     "execution_count": 2,
     "metadata": {},
     "output_type": "execute_result"
    }
   ],
   "source": [
    "train_fp = os.path.join(os.getcwd(),'aux_data','trainset.csv')\n",
    "features = pd.read_csv(train_fp)\n",
    "features.head(4)"
   ]
  },
  {
   "cell_type": "code",
   "execution_count": 4,
   "id": "33552d3b-d5e8-4622-ad09-7d4e4fe66b31",
   "metadata": {},
   "outputs": [],
   "source": [
    "features.drop(['geometry','Unnamed: 0'],axis=1,inplace=True)"
   ]
  },
  {
   "cell_type": "code",
   "execution_count": 3,
   "id": "f2244131-1687-427c-ad1a-a06671f5bbf3",
   "metadata": {},
   "outputs": [
    {
     "data": {
      "text/html": [
       "<div>\n",
       "<style scoped>\n",
       "    .dataframe tbody tr th:only-of-type {\n",
       "        vertical-align: middle;\n",
       "    }\n",
       "\n",
       "    .dataframe tbody tr th {\n",
       "        vertical-align: top;\n",
       "    }\n",
       "\n",
       "    .dataframe thead th {\n",
       "        text-align: right;\n",
       "    }\n",
       "</style>\n",
       "<table border=\"1\" class=\"dataframe\">\n",
       "  <thead>\n",
       "    <tr style=\"text-align: right;\">\n",
       "      <th></th>\n",
       "      <th>Unnamed: 0</th>\n",
       "      <th>x</th>\n",
       "      <th>y</th>\n",
       "      <th>r</th>\n",
       "      <th>g</th>\n",
       "      <th>b</th>\n",
       "      <th>nifr</th>\n",
       "      <th>iceplant</th>\n",
       "    </tr>\n",
       "  </thead>\n",
       "  <tbody>\n",
       "    <tr>\n",
       "      <th>count</th>\n",
       "      <td>224.000000</td>\n",
       "      <td>224.000000</td>\n",
       "      <td>2.240000e+02</td>\n",
       "      <td>224.000000</td>\n",
       "      <td>224.000000</td>\n",
       "      <td>224.000000</td>\n",
       "      <td>224.000000</td>\n",
       "      <td>224.000000</td>\n",
       "    </tr>\n",
       "    <tr>\n",
       "      <th>mean</th>\n",
       "      <td>111.500000</td>\n",
       "      <td>238829.471487</td>\n",
       "      <td>3.811296e+06</td>\n",
       "      <td>84.093750</td>\n",
       "      <td>91.187500</td>\n",
       "      <td>88.955357</td>\n",
       "      <td>146.495536</td>\n",
       "      <td>0.330357</td>\n",
       "    </tr>\n",
       "    <tr>\n",
       "      <th>std</th>\n",
       "      <td>64.807407</td>\n",
       "      <td>439.264247</td>\n",
       "      <td>4.880251e+02</td>\n",
       "      <td>32.576714</td>\n",
       "      <td>28.561485</td>\n",
       "      <td>21.804014</td>\n",
       "      <td>36.055015</td>\n",
       "      <td>0.471395</td>\n",
       "    </tr>\n",
       "    <tr>\n",
       "      <th>min</th>\n",
       "      <td>0.000000</td>\n",
       "      <td>238336.841599</td>\n",
       "      <td>3.810763e+06</td>\n",
       "      <td>29.000000</td>\n",
       "      <td>42.000000</td>\n",
       "      <td>59.000000</td>\n",
       "      <td>40.000000</td>\n",
       "      <td>0.000000</td>\n",
       "    </tr>\n",
       "    <tr>\n",
       "      <th>25%</th>\n",
       "      <td>55.750000</td>\n",
       "      <td>238517.198070</td>\n",
       "      <td>3.810854e+06</td>\n",
       "      <td>64.000000</td>\n",
       "      <td>76.000000</td>\n",
       "      <td>75.000000</td>\n",
       "      <td>126.000000</td>\n",
       "      <td>0.000000</td>\n",
       "    </tr>\n",
       "    <tr>\n",
       "      <th>50%</th>\n",
       "      <td>111.500000</td>\n",
       "      <td>238615.666834</td>\n",
       "      <td>3.811142e+06</td>\n",
       "      <td>81.000000</td>\n",
       "      <td>81.500000</td>\n",
       "      <td>83.500000</td>\n",
       "      <td>148.000000</td>\n",
       "      <td>0.000000</td>\n",
       "    </tr>\n",
       "    <tr>\n",
       "      <th>75%</th>\n",
       "      <td>167.250000</td>\n",
       "      <td>239273.141856</td>\n",
       "      <td>3.811881e+06</td>\n",
       "      <td>91.250000</td>\n",
       "      <td>100.000000</td>\n",
       "      <td>96.000000</td>\n",
       "      <td>170.000000</td>\n",
       "      <td>1.000000</td>\n",
       "    </tr>\n",
       "    <tr>\n",
       "      <th>max</th>\n",
       "      <td>223.000000</td>\n",
       "      <td>239970.680835</td>\n",
       "      <td>3.812162e+06</td>\n",
       "      <td>196.000000</td>\n",
       "      <td>192.000000</td>\n",
       "      <td>180.000000</td>\n",
       "      <td>213.000000</td>\n",
       "      <td>1.000000</td>\n",
       "    </tr>\n",
       "  </tbody>\n",
       "</table>\n",
       "</div>"
      ],
      "text/plain": [
       "       Unnamed: 0              x             y           r           g  \\\n",
       "count  224.000000     224.000000  2.240000e+02  224.000000  224.000000   \n",
       "mean   111.500000  238829.471487  3.811296e+06   84.093750   91.187500   \n",
       "std     64.807407     439.264247  4.880251e+02   32.576714   28.561485   \n",
       "min      0.000000  238336.841599  3.810763e+06   29.000000   42.000000   \n",
       "25%     55.750000  238517.198070  3.810854e+06   64.000000   76.000000   \n",
       "50%    111.500000  238615.666834  3.811142e+06   81.000000   81.500000   \n",
       "75%    167.250000  239273.141856  3.811881e+06   91.250000  100.000000   \n",
       "max    223.000000  239970.680835  3.812162e+06  196.000000  192.000000   \n",
       "\n",
       "                b        nifr    iceplant  \n",
       "count  224.000000  224.000000  224.000000  \n",
       "mean    88.955357  146.495536    0.330357  \n",
       "std     21.804014   36.055015    0.471395  \n",
       "min     59.000000   40.000000    0.000000  \n",
       "25%     75.000000  126.000000    0.000000  \n",
       "50%     83.500000  148.000000    0.000000  \n",
       "75%     96.000000  170.000000    1.000000  \n",
       "max    180.000000  213.000000    1.000000  "
      ]
     },
     "execution_count": 3,
     "metadata": {},
     "output_type": "execute_result"
    }
   ],
   "source": [
    "# Descriptive statistics for each column \n",
    "features.describe()"
   ]
  },
  {
   "cell_type": "code",
   "execution_count": 10,
   "id": "95bc5450-1a5f-4f1f-a8eb-82b23cda604e",
   "metadata": {},
   "outputs": [],
   "source": [
    "# Labels are the values we want to predict\n",
    "labels = np.array(features['iceplant'])\n",
    "\n",
    "# Remove the labels from the features\n",
    "features= features.drop('iceplant', axis = 1)\n",
    "features_names = list(features.columns)\n",
    "\n",
    "#Convert to numpy array\n",
    "features = np.array(features)"
   ]
  },
  {
   "cell_type": "code",
   "execution_count": 11,
   "id": "bf47c42d-b7f3-4b2d-9611-af73abdcc989",
   "metadata": {},
   "outputs": [
    {
     "data": {
      "text/plain": [
       "array([[2.38534771e+05, 3.81076444e+06, 8.90000000e+01, 8.40000000e+01,\n",
       "        8.90000000e+01, 1.44000000e+02],\n",
       "       [2.38516675e+05, 3.81076837e+06, 1.00000000e+02, 8.80000000e+01,\n",
       "        9.30000000e+01, 1.48000000e+02],\n",
       "       [2.38496041e+05, 3.81077183e+06, 9.70000000e+01, 9.30000000e+01,\n",
       "        9.60000000e+01, 1.40000000e+02],\n",
       "       ...,\n",
       "       [2.38340222e+05, 3.81085501e+06, 8.40000000e+01, 8.10000000e+01,\n",
       "        8.80000000e+01, 1.33000000e+02],\n",
       "       [2.39084641e+05, 3.81179102e+06, 1.07000000e+02, 9.70000000e+01,\n",
       "        9.40000000e+01, 1.57000000e+02],\n",
       "       [2.38527326e+05, 3.81082981e+06, 9.30000000e+01, 8.30000000e+01,\n",
       "        8.40000000e+01, 1.47000000e+02]])"
      ]
     },
     "execution_count": 11,
     "metadata": {},
     "output_type": "execute_result"
    }
   ],
   "source": []
  },
  {
   "cell_type": "code",
   "execution_count": 13,
   "id": "06489ce1-5fb5-4eb8-ad68-98b6bc19cb4d",
   "metadata": {},
   "outputs": [],
   "source": [
    "# Split the data into training and testing sets\n",
    "train_features, test_features, train_labels, test_labels = train_test_split(features, \n",
    "                                                                            labels, \n",
    "                                                                            test_size = 0.3, \n",
    "                                                                            random_state = 42)"
   ]
  },
  {
   "cell_type": "code",
   "execution_count": 14,
   "id": "091b9715-761a-4bb3-9910-c07f7351405f",
   "metadata": {},
   "outputs": [
    {
     "name": "stdout",
     "output_type": "stream",
     "text": [
      "Training Features Shape: (156, 6)\n",
      "Training Labels Shape: (156,)\n",
      "Testing Features Shape: (68, 6)\n",
      "Testing Labels Shape: (68,)\n"
     ]
    }
   ],
   "source": [
    "print('Training Features Shape:', train_features.shape) \n",
    "print('Training Labels Shape:', train_labels.shape) \n",
    "print('Testing Features Shape:', test_features.shape) \n",
    "print('Testing Labels Shape:', test_labels.shape)"
   ]
  },
  {
   "cell_type": "code",
   "execution_count": 16,
   "id": "84978d42-0f16-4a4a-99d0-5d76c3539d00",
   "metadata": {},
   "outputs": [],
   "source": [
    "## ----- COME UP WITH SOME BASELINE ERROR ------"
   ]
  },
  {
   "cell_type": "code",
   "execution_count": 16,
   "id": "fd8cdc25-828c-423d-b348-63591c54bbc2",
   "metadata": {},
   "outputs": [
    {
     "data": {
      "text/plain": [
       "RandomForestRegressor(n_estimators=1000, random_state=42)"
      ]
     },
     "execution_count": 16,
     "metadata": {},
     "output_type": "execute_result"
    }
   ],
   "source": [
    "# Instantiate model with 1000 decision trees\n",
    "rf = RandomForestRegressor(n_estimators = 1000, random_state = 42)\n",
    "# Train the model on training data \n",
    "rf.fit(train_features, train_labels) "
   ]
  },
  {
   "cell_type": "code",
   "execution_count": 25,
   "id": "f6a9dbf1-8d5e-41f6-9f68-254871645dce",
   "metadata": {},
   "outputs": [
    {
     "name": "stdout",
     "output_type": "stream",
     "text": [
      "Mean Absolute Error: 0.07\n"
     ]
    }
   ],
   "source": [
    "# Use the forest's predict method on the test data \n",
    "predictions = rf.predict(test_features)\n",
    "# Calculate the absolute errors\n",
    "errors = abs(predictions - test_labels)\n",
    "# Print out the mean absolute error (mae)\n",
    "print('Mean Absolute Error:', round(np.mean(errors), 2))"
   ]
  },
  {
   "cell_type": "code",
   "execution_count": 21,
   "id": "3db10228-7a90-4aa6-ae28-a809f6279d4e",
   "metadata": {},
   "outputs": [
    {
     "name": "stdout",
     "output_type": "stream",
     "text": [
      "Accuracy: 99.31 %.\n"
     ]
    }
   ],
   "source": [
    "# Calculate mean absolute percentage error (MAPE) \n",
    "mape = 100 * ( (errors) / (test_labels))\n",
    "# Calculate and display accuracy\n",
    "accuracy = 100 - np.mean(mape) \n",
    "print('Accuracy:', round(accuracy, 2), '%.')"
   ]
  },
  {
   "cell_type": "code",
   "execution_count": 23,
   "id": "09173d3c-4625-4296-874d-bab876229805",
   "metadata": {},
   "outputs": [
    {
     "data": {
      "text/plain": [
       "array([1.   , 0.   , 0.43 , 1.   , 0.948, 0.017, 0.   , 0.   , 0.   ,\n",
       "       0.33 , 0.001, 1.   , 0.002, 0.012, 0.   , 0.   , 0.   , 0.   ,\n",
       "       0.481, 0.   , 0.003, 1.   , 0.046, 1.   , 1.   , 0.998, 0.001,\n",
       "       0.   , 0.   , 0.109, 0.964, 0.   , 0.998, 0.05 , 0.997, 0.21 ,\n",
       "       0.961, 0.294, 0.008, 0.187, 0.001, 0.991, 0.049, 0.828, 0.996,\n",
       "       0.   , 0.001, 0.008, 0.   , 0.1  , 0.   , 0.507, 0.082, 0.366,\n",
       "       0.003, 1.   , 0.051, 0.003, 0.   , 0.991, 0.   , 0.999, 0.26 ,\n",
       "       0.978, 0.124, 0.996, 0.999, 0.001])"
      ]
     },
     "execution_count": 23,
     "metadata": {},
     "output_type": "execute_result"
    }
   ],
   "source": [
    "predictions"
   ]
  },
  {
   "cell_type": "code",
   "execution_count": 24,
   "id": "4c86f911-15fa-4bb7-983b-3bd9c7dcfe73",
   "metadata": {},
   "outputs": [
    {
     "data": {
      "text/plain": [
       "array([0.   , 0.   , 0.43 , 0.   , 0.052, 0.017, 0.   , 0.   , 0.   ,\n",
       "       0.33 , 0.001, 0.   , 0.002, 0.012, 0.   , 0.   , 0.   , 0.   ,\n",
       "       0.519, 0.   , 0.003, 0.   , 0.046, 0.   , 0.   , 0.002, 0.001,\n",
       "       0.   , 0.   , 0.109, 0.036, 0.   , 0.002, 0.05 , 0.003, 0.21 ,\n",
       "       0.039, 0.294, 0.008, 0.187, 0.001, 0.009, 0.049, 0.828, 0.004,\n",
       "       0.   , 0.001, 0.008, 0.   , 0.1  , 0.   , 0.493, 0.082, 0.366,\n",
       "       0.003, 0.   , 0.051, 0.003, 0.   , 0.009, 0.   , 0.001, 0.26 ,\n",
       "       0.022, 0.124, 0.004, 0.001, 0.001])"
      ]
     },
     "execution_count": 24,
     "metadata": {},
     "output_type": "execute_result"
    }
   ],
   "source": [
    "errors"
   ]
  },
  {
   "cell_type": "code",
   "execution_count": null,
   "id": "f01a7b3c-a68d-4ce7-b093-7c9cfe75cb45",
   "metadata": {},
   "outputs": [],
   "source": []
  }
 ],
 "metadata": {
  "kernelspec": {
   "display_name": "Python 3 (ipykernel)",
   "language": "python",
   "name": "python3"
  },
  "language_info": {
   "codemirror_mode": {
    "name": "ipython",
    "version": 3
   },
   "file_extension": ".py",
   "mimetype": "text/x-python",
   "name": "python",
   "nbconvert_exporter": "python",
   "pygments_lexer": "ipython3",
   "version": "3.8.12"
  }
 },
 "nbformat": 4,
 "nbformat_minor": 5
}
