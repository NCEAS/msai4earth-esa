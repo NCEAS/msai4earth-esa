{
 "cells": [
  {
   "cell_type": "markdown",
   "id": "21950e36-3c8a-4d77-97aa-d6dfb27fa126",
   "metadata": {},
   "source": [
    "# C. edulis observations in CA\n",
    "\n",
    "In this notebook we:\n",
    "\n",
    "- Search the latest GBIF snapshot in the Planetary Computer for pig (Sus scroga) sightings in California, US.\n",
    "- Count how many records there are per year\n",
    "- Plot a map with the occurrences\n",
    "- Export the complete observations dataset\n",
    "\n",
    "Since looking through all the GBIF observations takes some time (even with the Dask cluster) we do this step in the data access separately.\n",
    "\n",
    "\n",
    "More info on GBIF dataset:\n",
    "https://github.com/microsoft/AIforEarthDataSets/blob/main/data/gbif.md\n",
    "\n"
   ]
  },
  {
   "cell_type": "code",
   "execution_count": 3,
   "id": "b501cbd4-431c-4427-b01e-57b92cf4d891",
   "metadata": {},
   "outputs": [],
   "source": [
    "import pystac_client\n",
    "import planetary_computer as pc\n",
    "\n",
    "# accesing Azure storage using pystac client\n",
    "URL = \"https://planetarycomputer.microsoft.com/api/stac/v1\"\n",
    "catalog = pystac_client.Client.open(URL)\n",
    "\n",
    "from dask_gateway import GatewayCluster\n",
    "import dask.dataframe as dd # dataframe optimized for parallel computing\n",
    "\n",
    "import matplotlib.pyplot as plt\n",
    "\n",
    "# ----- access items in gbif catalog\n",
    "save_df = False"
   ]
  },
  {
   "cell_type": "code",
   "execution_count": 4,
   "id": "5343196d-26de-41ca-98c0-1eba6d120a56",
   "metadata": {},
   "outputs": [],
   "source": [
    "# ----- access items in gbif catalog\n",
    "items = catalog.search(collections=[\"gbif\"]).get_all_items()\n",
    "items = {x.id: x for x in items}\n",
    "\n",
    "\n",
    "# ---- select and sign first item\n",
    "# The snapshot includes all CC-BY licensed data published through GBIF that have coordinates which passed automated quality checks.\n",
    "gbifitem = list(items.values())[0]\n",
    "signed_asset = pc.sign(gbifitem).assets[\"data\"]"
   ]
  },
  {
   "cell_type": "code",
   "execution_count": 5,
   "id": "9d1a363f-588b-4774-a466-2072ac59cf69",
   "metadata": {},
   "outputs": [
    {
     "name": "stdout",
     "output_type": "stream",
     "text": [
      "https://pccompute.westeurope.cloudapp.azure.com/compute/services/dask-gateway/clusters/prod.0198d87086bf4611a1a308ac2e06a6fc/status\n"
     ]
    }
   ],
   "source": [
    "# ---- initialize dask cluster ---\n",
    "\n",
    "cluster = GatewayCluster()\n",
    "cluster.scale(16)\n",
    "client = cluster.get_client()\n",
    "print(cluster.dashboard_link)\n",
    "# click on link to look at dask cluster"
   ]
  },
  {
   "cell_type": "code",
   "execution_count": 6,
   "id": "cd1dba6c-3433-453a-9ddb-f92e781e1c93",
   "metadata": {},
   "outputs": [
    {
     "data": {
      "text/html": [
       "<div><strong>Dask DataFrame Structure:</strong></div>\n",
       "<div>\n",
       "<style scoped>\n",
       "    .dataframe tbody tr th:only-of-type {\n",
       "        vertical-align: middle;\n",
       "    }\n",
       "\n",
       "    .dataframe tbody tr th {\n",
       "        vertical-align: top;\n",
       "    }\n",
       "\n",
       "    .dataframe thead th {\n",
       "        text-align: right;\n",
       "    }\n",
       "</style>\n",
       "<table border=\"1\" class=\"dataframe\">\n",
       "  <thead>\n",
       "    <tr style=\"text-align: right;\">\n",
       "      <th></th>\n",
       "      <th>kingdom</th>\n",
       "      <th>family</th>\n",
       "      <th>genus</th>\n",
       "      <th>class</th>\n",
       "      <th>species</th>\n",
       "      <th>stateprovince</th>\n",
       "      <th>eventdate</th>\n",
       "      <th>year</th>\n",
       "      <th>month</th>\n",
       "      <th>day</th>\n",
       "      <th>decimallatitude</th>\n",
       "      <th>decimallongitude</th>\n",
       "      <th>institutioncode</th>\n",
       "    </tr>\n",
       "    <tr>\n",
       "      <th>npartitions=1105</th>\n",
       "      <th></th>\n",
       "      <th></th>\n",
       "      <th></th>\n",
       "      <th></th>\n",
       "      <th></th>\n",
       "      <th></th>\n",
       "      <th></th>\n",
       "      <th></th>\n",
       "      <th></th>\n",
       "      <th></th>\n",
       "      <th></th>\n",
       "      <th></th>\n",
       "      <th></th>\n",
       "    </tr>\n",
       "  </thead>\n",
       "  <tbody>\n",
       "    <tr>\n",
       "      <th></th>\n",
       "      <td>object</td>\n",
       "      <td>object</td>\n",
       "      <td>object</td>\n",
       "      <td>object</td>\n",
       "      <td>object</td>\n",
       "      <td>object</td>\n",
       "      <td>object</td>\n",
       "      <td>int32</td>\n",
       "      <td>int32</td>\n",
       "      <td>int32</td>\n",
       "      <td>float64</td>\n",
       "      <td>float64</td>\n",
       "      <td>object</td>\n",
       "    </tr>\n",
       "    <tr>\n",
       "      <th></th>\n",
       "      <td>...</td>\n",
       "      <td>...</td>\n",
       "      <td>...</td>\n",
       "      <td>...</td>\n",
       "      <td>...</td>\n",
       "      <td>...</td>\n",
       "      <td>...</td>\n",
       "      <td>...</td>\n",
       "      <td>...</td>\n",
       "      <td>...</td>\n",
       "      <td>...</td>\n",
       "      <td>...</td>\n",
       "      <td>...</td>\n",
       "    </tr>\n",
       "    <tr>\n",
       "      <th>...</th>\n",
       "      <td>...</td>\n",
       "      <td>...</td>\n",
       "      <td>...</td>\n",
       "      <td>...</td>\n",
       "      <td>...</td>\n",
       "      <td>...</td>\n",
       "      <td>...</td>\n",
       "      <td>...</td>\n",
       "      <td>...</td>\n",
       "      <td>...</td>\n",
       "      <td>...</td>\n",
       "      <td>...</td>\n",
       "      <td>...</td>\n",
       "    </tr>\n",
       "    <tr>\n",
       "      <th></th>\n",
       "      <td>...</td>\n",
       "      <td>...</td>\n",
       "      <td>...</td>\n",
       "      <td>...</td>\n",
       "      <td>...</td>\n",
       "      <td>...</td>\n",
       "      <td>...</td>\n",
       "      <td>...</td>\n",
       "      <td>...</td>\n",
       "      <td>...</td>\n",
       "      <td>...</td>\n",
       "      <td>...</td>\n",
       "      <td>...</td>\n",
       "    </tr>\n",
       "    <tr>\n",
       "      <th></th>\n",
       "      <td>...</td>\n",
       "      <td>...</td>\n",
       "      <td>...</td>\n",
       "      <td>...</td>\n",
       "      <td>...</td>\n",
       "      <td>...</td>\n",
       "      <td>...</td>\n",
       "      <td>...</td>\n",
       "      <td>...</td>\n",
       "      <td>...</td>\n",
       "      <td>...</td>\n",
       "      <td>...</td>\n",
       "      <td>...</td>\n",
       "    </tr>\n",
       "  </tbody>\n",
       "</table>\n",
       "</div>\n",
       "<div>Dask Name: read-parquet, 1105 tasks</div>"
      ],
      "text/plain": [
       "Dask DataFrame Structure:\n",
       "                 kingdom  family   genus   class species stateprovince eventdate   year  month    day decimallatitude decimallongitude institutioncode\n",
       "npartitions=1105                                                                                                                                      \n",
       "                  object  object  object  object  object        object    object  int32  int32  int32         float64          float64          object\n",
       "                     ...     ...     ...     ...     ...           ...       ...    ...    ...    ...             ...              ...             ...\n",
       "...                  ...     ...     ...     ...     ...           ...       ...    ...    ...    ...             ...              ...             ...\n",
       "                     ...     ...     ...     ...     ...           ...       ...    ...    ...    ...             ...              ...             ...\n",
       "                     ...     ...     ...     ...     ...           ...       ...    ...    ...    ...             ...              ...             ...\n",
       "Dask Name: read-parquet, 1105 tasks"
      ]
     },
     "execution_count": 6,
     "metadata": {},
     "output_type": "execute_result"
    }
   ],
   "source": [
    "# ---- access GBIF data selecting specific columns ----\n",
    "\n",
    "df = dd.read_parquet(\n",
    "    signed_asset.href,\n",
    "    columns=[\n",
    "            \"species\",\n",
    "            \"stateprovince\",\n",
    "            \"eventdate\",\n",
    "            \"year\",\n",
    "            \"month\",\n",
    "            \"day\",\n",
    "            \"decimallatitude\",\n",
    "            \"decimallongitude\",\n",
    "            \"institutioncode\",\n",
    "            \"coordinateuncertaintyinmeters\",\n",
    "            \"coordinateprecision\"],\n",
    "    storage_options=signed_asset.extra_fields[\"table:storage_options\"],\n",
    "    dataset={\"require_extension\": None},\n",
    ")\n",
    "df"
   ]
  },
  {
   "cell_type": "code",
   "execution_count": 7,
   "id": "a0014af9-51a4-4800-9700-6d36c17501e0",
   "metadata": {},
   "outputs": [],
   "source": [
    "# ---- filter through GBIF data and bring dataframe to memory ---\n",
    "obs = df.loc[\n",
    "    (df['species']=='Carpobrotus edulis') &\n",
    "    (df['stateprovince'] == 'California')\n",
    "    ].compute()"
   ]
  },
  {
   "cell_type": "code",
   "execution_count": 9,
   "id": "cce7c172-1cbc-4c9d-acc5-502930896821",
   "metadata": {},
   "outputs": [],
   "source": [
    "if (save_df):\n",
    "    root = '/home/jovyan/msai4earth-esa/iceplant_detection/training_set/'\n",
    "    obs.to_csv(root+'c_edulis_observations.csv')"
   ]
  },
  {
   "cell_type": "markdown",
   "id": "fbd13b4e-3d9a-4890-9140-69ef62a8484d",
   "metadata": {},
   "source": [
    "## Explore dataset"
   ]
  },
  {
   "cell_type": "code",
   "execution_count": 10,
   "id": "6f3a6c95-696a-49a5-bbdf-8a89147aee47",
   "metadata": {},
   "outputs": [
    {
     "data": {
      "text/plain": [
       "(427, 13)"
      ]
     },
     "execution_count": 10,
     "metadata": {},
     "output_type": "execute_result"
    }
   ],
   "source": [
    "print('There are', obs.shape[0], ' observations'.)"
   ]
  },
  {
   "cell_type": "markdown",
   "id": "2315c867-c208-44e9-8c40-1a8d387afb39",
   "metadata": {},
   "source": [
    "## Data by year"
   ]
  },
  {
   "cell_type": "code",
   "execution_count": 15,
   "id": "c5dd8eb5-da11-4fdb-acac-7b8039343f92",
   "metadata": {},
   "outputs": [
    {
     "name": "stdout",
     "output_type": "stream",
     "text": [
      "     year  count\n",
      "0  1950.0      1\n",
      "1  1954.0      1\n",
      "2  1961.0      1\n",
      "3  1962.0      1\n",
      "4  1970.0      1\n",
      "      year  count\n",
      "28  2018.0     62\n",
      "29  2019.0     35\n",
      "30  2020.0     21\n",
      "31  2021.0     43\n",
      "32  2022.0      1\n"
     ]
    }
   ],
   "source": [
    "obs_by_year = obs.filter(items=['year']).groupby(['year']).size().reset_index(name='count')\n",
    "print(obs_by_year.head(5))\n",
    "print(obs_by_year.tail(5))"
   ]
  },
  {
   "cell_type": "code",
   "execution_count": 14,
   "id": "50e131b5-c45a-4932-ac6c-c37aeef32adb",
   "metadata": {},
   "outputs": [
    {
     "data": {
      "image/png": "[encoded data removed]",
      "text/plain": [
       "<Figure size 720x720 with 1 Axes>"
      ]
     },
     "metadata": {
      "needs_background": "light"
     },
     "output_type": "display_data"
    }
   ],
   "source": [
    "# ---- HISTOGRAM ----\n",
    "\n",
    "fig, ax = plt.subplots(figsize =(10, 10))\n",
    "ax.hist(obs.filter(items=['year']), bins = range(1810,2021))\n",
    "plt.show()"
   ]
  },
  {
   "cell_type": "code",
   "execution_count": null,
   "id": "e1d19b2d-8d12-48a9-9f32-974c5cae663a",
   "metadata": {},
   "outputs": [],
   "source": []
  }
 ],
 "metadata": {
  "kernelspec": {
   "display_name": "Python 3 (ipykernel)",
   "language": "python",
   "name": "python3"
  },
  "language_info": {
   "codemirror_mode": {
    "name": "ipython",
    "version": 3
   },
   "file_extension": ".py",
   "mimetype": "text/x-python",
   "name": "python",
   "nbconvert_exporter": "python",
   "pygments_lexer": "ipython3",
   "version": "3.8.12"
  }
 },
 "nbformat": 4,
 "nbformat_minor": 5
}
