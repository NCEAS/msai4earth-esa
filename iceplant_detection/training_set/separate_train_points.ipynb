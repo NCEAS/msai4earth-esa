{
 "cells": [
  {
   "cell_type": "code",
   "execution_count": 1,
   "id": "593cf449-0a74-4916-9ab4-c3c2668bdc62",
   "metadata": {},
   "outputs": [],
   "source": [
    "import os\n",
    "import pandas as pd"
   ]
  },
  {
   "cell_type": "code",
   "execution_count": 3,
   "id": "4495e895-a7e3-40f8-99f9-38cc5430497c",
   "metadata": {},
   "outputs": [],
   "source": [
    "def separate_ndvi(df, thresh=0.2):    \n",
    "    df['ndvi']=(df.nifr.astype('int16') - df.r.astype('int16'))/(df.nifr.astype('int16') + df.r.astype('int16'))\n",
    "    veg = df[df.ndvi>thresh]\n",
    "    veg.drop(labels=['ndvi'],axis=1, inplace=True)\n",
    "    \n",
    "    non_veg = df[df.ndvi<=thresh]\n",
    "    non_veg.drop(labels=['ndvi'],axis=1, inplace=True)\n",
    "    return veg, non_veg"
   ]
  },
  {
   "cell_type": "code",
   "execution_count": 4,
   "id": "854c5885-cad2-4fdd-b993-e93dd09908ff",
   "metadata": {},
   "outputs": [
    {
     "name": "stdout",
     "output_type": "stream",
     "text": [
      "(193345, 9)\n"
     ]
    },
    {
     "name": "stderr",
     "output_type": "stream",
     "text": [
      "/tmp/ipykernel_3000/2861749146.py:4: SettingWithCopyWarning: \n",
      "A value is trying to be set on a copy of a slice from a DataFrame\n",
      "\n",
      "See the caveats in the documentation: https://pandas.pydata.org/pandas-docs/stable/user_guide/indexing.html#returning-a-view-versus-a-copy\n",
      "  veg.drop(labels=['ndvi'],axis=1, inplace=True)\n",
      "/tmp/ipykernel_3000/2861749146.py:7: SettingWithCopyWarning: \n",
      "A value is trying to be set on a copy of a slice from a DataFrame\n",
      "\n",
      "See the caveats in the documentation: https://pandas.pydata.org/pandas-docs/stable/user_guide/indexing.html#returning-a-view-versus-a-copy\n",
      "  non_veg.drop(labels=['ndvi'],axis=1, inplace=True)\n"
     ]
    }
   ],
   "source": [
    "fp = os.path.join(os.getcwd(),'aux_data','trainset_non_iceplant_vegetation.csv')\n",
    "df = pd.read_csv(fp)\n",
    "print(df.shape)\n",
    "veg, non_veg = separate_ndvi(df)"
   ]
  },
  {
   "cell_type": "code",
   "execution_count": 13,
   "id": "434acf0c-1e6b-4ee0-b462-ed528c264339",
   "metadata": {},
   "outputs": [
    {
     "name": "stdout",
     "output_type": "stream",
     "text": [
      "(112152, 9)\n",
      "(81193, 9)\n"
     ]
    }
   ],
   "source": [
    "print(veg.shape)\n",
    "print(non_veg.shape)"
   ]
  },
  {
   "cell_type": "code",
   "execution_count": 5,
   "id": "9cc6a678-0eff-41f5-b3c1-3662a14204f0",
   "metadata": {},
   "outputs": [
    {
     "data": {
      "text/plain": [
       "(4789, 9)"
      ]
     },
     "execution_count": 5,
     "metadata": {},
     "output_type": "execute_result"
    }
   ],
   "source": [
    "fp = os.path.join(os.getcwd(),'aux_data','trainset_BIG.csv')\n",
    "df2 = pd.read_csv(fp)\n",
    "df2.shape"
   ]
  },
  {
   "cell_type": "code",
   "execution_count": 6,
   "id": "401c6725-119e-4705-a711-6056ad3ac3c8",
   "metadata": {},
   "outputs": [
    {
     "name": "stdout",
     "output_type": "stream",
     "text": [
      "(3496, 9)\n",
      "(1293, 9)\n"
     ]
    },
    {
     "name": "stderr",
     "output_type": "stream",
     "text": [
      "/tmp/ipykernel_3000/2861749146.py:4: SettingWithCopyWarning: \n",
      "A value is trying to be set on a copy of a slice from a DataFrame\n",
      "\n",
      "See the caveats in the documentation: https://pandas.pydata.org/pandas-docs/stable/user_guide/indexing.html#returning-a-view-versus-a-copy\n",
      "  veg.drop(labels=['ndvi'],axis=1, inplace=True)\n",
      "/tmp/ipykernel_3000/2861749146.py:7: SettingWithCopyWarning: \n",
      "A value is trying to be set on a copy of a slice from a DataFrame\n",
      "\n",
      "See the caveats in the documentation: https://pandas.pydata.org/pandas-docs/stable/user_guide/indexing.html#returning-a-view-versus-a-copy\n",
      "  non_veg.drop(labels=['ndvi'],axis=1, inplace=True)\n"
     ]
    }
   ],
   "source": [
    "veg2, non_veg2 = separate_ndvi(df2)\n",
    "print(veg2.shape)\n",
    "print(non_veg2.shape)"
   ]
  },
  {
   "cell_type": "code",
   "execution_count": 9,
   "id": "9e624288-4a61-41a1-a77e-a025ec95a9b7",
   "metadata": {},
   "outputs": [],
   "source": [
    "iceplant_veg = veg2[veg2['iceplant']==1] "
   ]
  },
  {
   "cell_type": "code",
   "execution_count": 13,
   "id": "bd03dba0-1838-4e5e-b8ba-b6bc9e8d338f",
   "metadata": {},
   "outputs": [],
   "source": [
    "iceplant_veg.to_csv(os.path.join(os.getcwd(),'aux_data','iceplant_ndvi_geq02.csv'))"
   ]
  },
  {
   "cell_type": "code",
   "execution_count": 11,
   "id": "7f491f98-34c4-4610-a88a-b2bb66d0262d",
   "metadata": {},
   "outputs": [
    {
     "data": {
      "text/plain": [
       "'/home/jovyan/msai4earth-esa/iceplant_detection/training_set'"
      ]
     },
     "execution_count": 11,
     "metadata": {},
     "output_type": "execute_result"
    }
   ],
   "source": [
    "os.getcwd()"
   ]
  },
  {
   "cell_type": "code",
   "execution_count": null,
   "id": "397dc75c-047f-4a95-90af-4dc67f90e1c2",
   "metadata": {},
   "outputs": [],
   "source": []
  }
 ],
 "metadata": {
  "kernelspec": {
   "display_name": "Python 3 (ipykernel)",
   "language": "python",
   "name": "python3"
  },
  "language_info": {
   "codemirror_mode": {
    "name": "ipython",
    "version": 3
   },
   "file_extension": ".py",
   "mimetype": "text/x-python",
   "name": "python",
   "nbconvert_exporter": "python",
   "pygments_lexer": "ipython3",
   "version": "3.8.12"
  }
 },
 "nbformat": 4,
 "nbformat_minor": 5
}
