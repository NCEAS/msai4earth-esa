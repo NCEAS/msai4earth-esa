{
 "cells": [
  {
   "cell_type": "code",
   "execution_count": 1,
   "id": "593cf449-0a74-4916-9ab4-c3c2668bdc62",
   "metadata": {},
   "outputs": [],
   "source": [
    "import os\n",
    "import pandas as pd"
   ]
  },
  {
   "cell_type": "code",
   "execution_count": 8,
   "id": "854c5885-cad2-4fdd-b993-e93dd09908ff",
   "metadata": {},
   "outputs": [
    {
     "data": {
      "text/plain": [
       "(193345, 9)"
      ]
     },
     "execution_count": 8,
     "metadata": {},
     "output_type": "execute_result"
    }
   ],
   "source": [
    "fp = os.path.join(os.getcwd(),'aux_data','trainset_non_iceplant_vegetation.csv')\n",
    "df = pd.read_csv(fp)\n",
    "df.shape"
   ]
  },
  {
   "cell_type": "code",
   "execution_count": 6,
   "id": "4495e895-a7e3-40f8-99f9-38cc5430497c",
   "metadata": {},
   "outputs": [
    {
     "name": "stderr",
     "output_type": "stream",
     "text": [
      "/tmp/ipykernel_440/1171460632.py:4: SettingWithCopyWarning: \n",
      "A value is trying to be set on a copy of a slice from a DataFrame\n",
      "\n",
      "See the caveats in the documentation: https://pandas.pydata.org/pandas-docs/stable/user_guide/indexing.html#returning-a-view-versus-a-copy\n",
      "  veg.drop(labels=['ndvi'],axis=1, inplace=True)\n",
      "/tmp/ipykernel_440/1171460632.py:7: SettingWithCopyWarning: \n",
      "A value is trying to be set on a copy of a slice from a DataFrame\n",
      "\n",
      "See the caveats in the documentation: https://pandas.pydata.org/pandas-docs/stable/user_guide/indexing.html#returning-a-view-versus-a-copy\n",
      "  non_veg.drop(labels=['ndvi'],axis=1, inplace=True)\n"
     ]
    }
   ],
   "source": [
    "def separate_ndvi(df, thresh=0.2):    \n",
    "    df['ndvi']=(df.nifr.astype('int16') - df.r.astype('int16'))/(df.nifr.astype('int16') + df.r.astype('int16'))\n",
    "    veg = df[df.ndvi>thresh]\n",
    "    veg.drop(labels=['ndvi'],axis=1, inplace=True)\n",
    "    \n",
    "    non_veg = df[df.ndvi<=thresh]\n",
    "    non_veg.drop(labels=['ndvi'],axis=1, inplace=True)\n",
    "    return veg, non_veg\n",
    "\n",
    "veg, non_veg = separate_ndvi(df)\n"
   ]
  },
  {
   "cell_type": "code",
   "execution_count": 13,
   "id": "434acf0c-1e6b-4ee0-b462-ed528c264339",
   "metadata": {},
   "outputs": [
    {
     "name": "stdout",
     "output_type": "stream",
     "text": [
      "(112152, 9)\n",
      "(81193, 9)\n"
     ]
    }
   ],
   "source": [
    "print(veg.shape)\n",
    "print(non_veg.shape)"
   ]
  },
  {
   "cell_type": "code",
   "execution_count": 16,
   "id": "9cc6a678-0eff-41f5-b3c1-3662a14204f0",
   "metadata": {},
   "outputs": [
    {
     "data": {
      "text/plain": [
       "(4789, 9)"
      ]
     },
     "execution_count": 16,
     "metadata": {},
     "output_type": "execute_result"
    }
   ],
   "source": [
    "fp = os.path.join(os.getcwd(),'aux_data','trainset_BIG.csv')\n",
    "df2 = pd.read_csv(fp)\n",
    "df2.shape"
   ]
  },
  {
   "cell_type": "code",
   "execution_count": 17,
   "id": "401c6725-119e-4705-a711-6056ad3ac3c8",
   "metadata": {},
   "outputs": [
    {
     "name": "stdout",
     "output_type": "stream",
     "text": [
      "(3496, 9)\n",
      "(1293, 9)\n"
     ]
    },
    {
     "name": "stderr",
     "output_type": "stream",
     "text": [
      "/tmp/ipykernel_440/1171460632.py:4: SettingWithCopyWarning: \n",
      "A value is trying to be set on a copy of a slice from a DataFrame\n",
      "\n",
      "See the caveats in the documentation: https://pandas.pydata.org/pandas-docs/stable/user_guide/indexing.html#returning-a-view-versus-a-copy\n",
      "  veg.drop(labels=['ndvi'],axis=1, inplace=True)\n",
      "/tmp/ipykernel_440/1171460632.py:7: SettingWithCopyWarning: \n",
      "A value is trying to be set on a copy of a slice from a DataFrame\n",
      "\n",
      "See the caveats in the documentation: https://pandas.pydata.org/pandas-docs/stable/user_guide/indexing.html#returning-a-view-versus-a-copy\n",
      "  non_veg.drop(labels=['ndvi'],axis=1, inplace=True)\n"
     ]
    }
   ],
   "source": [
    "veg2, non_veg2 = separate_ndvi(df2)\n",
    "print(veg2.shape)\n",
    "print(non_veg2.shape)"
   ]
  },
  {
   "cell_type": "code",
   "execution_count": 25,
   "id": "9e624288-4a61-41a1-a77e-a025ec95a9b7",
   "metadata": {},
   "outputs": [
    {
     "data": {
      "text/html": [
       "<div>\n",
       "<style scoped>\n",
       "    .dataframe tbody tr th:only-of-type {\n",
       "        vertical-align: middle;\n",
       "    }\n",
       "\n",
       "    .dataframe tbody tr th {\n",
       "        vertical-align: top;\n",
       "    }\n",
       "\n",
       "    .dataframe thead th {\n",
       "        text-align: right;\n",
       "    }\n",
       "</style>\n",
       "<table border=\"1\" class=\"dataframe\">\n",
       "  <thead>\n",
       "    <tr style=\"text-align: right;\">\n",
       "      <th></th>\n",
       "      <th>Unnamed: 0</th>\n",
       "      <th>geometry</th>\n",
       "      <th>x</th>\n",
       "      <th>y</th>\n",
       "      <th>r</th>\n",
       "      <th>g</th>\n",
       "      <th>b</th>\n",
       "      <th>nifr</th>\n",
       "      <th>iceplant</th>\n",
       "    </tr>\n",
       "  </thead>\n",
       "  <tbody>\n",
       "    <tr>\n",
       "      <th>514</th>\n",
       "      <td>514</td>\n",
       "      <td>POINT (238634.8400041996 3811115.196324375)</td>\n",
       "      <td>238634.840004</td>\n",
       "      <td>3.811115e+06</td>\n",
       "      <td>152</td>\n",
       "      <td>150</td>\n",
       "      <td>131</td>\n",
       "      <td>186</td>\n",
       "      <td>0</td>\n",
       "    </tr>\n",
       "    <tr>\n",
       "      <th>516</th>\n",
       "      <td>516</td>\n",
       "      <td>POINT (238621.46901805964 3811122.8319731327)</td>\n",
       "      <td>238621.469018</td>\n",
       "      <td>3.811123e+06</td>\n",
       "      <td>148</td>\n",
       "      <td>151</td>\n",
       "      <td>120</td>\n",
       "      <td>199</td>\n",
       "      <td>0</td>\n",
       "    </tr>\n",
       "    <tr>\n",
       "      <th>517</th>\n",
       "      <td>517</td>\n",
       "      <td>POINT (238628.22799385208 3811120.2533952994)</td>\n",
       "      <td>238628.227994</td>\n",
       "      <td>3.811120e+06</td>\n",
       "      <td>140</td>\n",
       "      <td>145</td>\n",
       "      <td>115</td>\n",
       "      <td>200</td>\n",
       "      <td>0</td>\n",
       "    </tr>\n",
       "    <tr>\n",
       "      <th>521</th>\n",
       "      <td>521</td>\n",
       "      <td>POINT (238618.5247261528 3811134.7752551935)</td>\n",
       "      <td>238618.524726</td>\n",
       "      <td>3.811135e+06</td>\n",
       "      <td>120</td>\n",
       "      <td>118</td>\n",
       "      <td>115</td>\n",
       "      <td>159</td>\n",
       "      <td>0</td>\n",
       "    </tr>\n",
       "    <tr>\n",
       "      <th>522</th>\n",
       "      <td>522</td>\n",
       "      <td>POINT (238620.0870604761 3811117.7530296734)</td>\n",
       "      <td>238620.087060</td>\n",
       "      <td>3.811118e+06</td>\n",
       "      <td>175</td>\n",
       "      <td>165</td>\n",
       "      <td>139</td>\n",
       "      <td>195</td>\n",
       "      <td>0</td>\n",
       "    </tr>\n",
       "    <tr>\n",
       "      <th>...</th>\n",
       "      <td>...</td>\n",
       "      <td>...</td>\n",
       "      <td>...</td>\n",
       "      <td>...</td>\n",
       "      <td>...</td>\n",
       "      <td>...</td>\n",
       "      <td>...</td>\n",
       "      <td>...</td>\n",
       "      <td>...</td>\n",
       "    </tr>\n",
       "    <tr>\n",
       "      <th>4200</th>\n",
       "      <td>4200</td>\n",
       "      <td>POINT (238476.47667896186 3810885.3056512456)</td>\n",
       "      <td>238476.476679</td>\n",
       "      <td>3.810885e+06</td>\n",
       "      <td>38</td>\n",
       "      <td>51</td>\n",
       "      <td>68</td>\n",
       "      <td>52</td>\n",
       "      <td>0</td>\n",
       "    </tr>\n",
       "    <tr>\n",
       "      <th>4203</th>\n",
       "      <td>4203</td>\n",
       "      <td>POINT (238473.4132504686 3810880.2946738116)</td>\n",
       "      <td>238473.413250</td>\n",
       "      <td>3.810880e+06</td>\n",
       "      <td>28</td>\n",
       "      <td>39</td>\n",
       "      <td>62</td>\n",
       "      <td>24</td>\n",
       "      <td>0</td>\n",
       "    </tr>\n",
       "    <tr>\n",
       "      <th>4208</th>\n",
       "      <td>4208</td>\n",
       "      <td>POINT (238484.4827878885 3810893.0561570297)</td>\n",
       "      <td>238484.482788</td>\n",
       "      <td>3.810893e+06</td>\n",
       "      <td>30</td>\n",
       "      <td>40</td>\n",
       "      <td>60</td>\n",
       "      <td>29</td>\n",
       "      <td>0</td>\n",
       "    </tr>\n",
       "    <tr>\n",
       "      <th>4211</th>\n",
       "      <td>4211</td>\n",
       "      <td>POINT (238487.4304599261 3810894.980429139)</td>\n",
       "      <td>238487.430460</td>\n",
       "      <td>3.810895e+06</td>\n",
       "      <td>36</td>\n",
       "      <td>52</td>\n",
       "      <td>66</td>\n",
       "      <td>53</td>\n",
       "      <td>0</td>\n",
       "    </tr>\n",
       "    <tr>\n",
       "      <th>4216</th>\n",
       "      <td>4216</td>\n",
       "      <td>POINT (238474.88776929292 3810881.554253727)</td>\n",
       "      <td>238474.887769</td>\n",
       "      <td>3.810882e+06</td>\n",
       "      <td>30</td>\n",
       "      <td>39</td>\n",
       "      <td>61</td>\n",
       "      <td>21</td>\n",
       "      <td>0</td>\n",
       "    </tr>\n",
       "  </tbody>\n",
       "</table>\n",
       "<p>1198 rows × 9 columns</p>\n",
       "</div>"
      ],
      "text/plain": [
       "      Unnamed: 0                                       geometry  \\\n",
       "514          514    POINT (238634.8400041996 3811115.196324375)   \n",
       "516          516  POINT (238621.46901805964 3811122.8319731327)   \n",
       "517          517  POINT (238628.22799385208 3811120.2533952994)   \n",
       "521          521   POINT (238618.5247261528 3811134.7752551935)   \n",
       "522          522   POINT (238620.0870604761 3811117.7530296734)   \n",
       "...          ...                                            ...   \n",
       "4200        4200  POINT (238476.47667896186 3810885.3056512456)   \n",
       "4203        4203   POINT (238473.4132504686 3810880.2946738116)   \n",
       "4208        4208   POINT (238484.4827878885 3810893.0561570297)   \n",
       "4211        4211    POINT (238487.4304599261 3810894.980429139)   \n",
       "4216        4216   POINT (238474.88776929292 3810881.554253727)   \n",
       "\n",
       "                  x             y    r    g    b  nifr  iceplant  \n",
       "514   238634.840004  3.811115e+06  152  150  131   186         0  \n",
       "516   238621.469018  3.811123e+06  148  151  120   199         0  \n",
       "517   238628.227994  3.811120e+06  140  145  115   200         0  \n",
       "521   238618.524726  3.811135e+06  120  118  115   159         0  \n",
       "522   238620.087060  3.811118e+06  175  165  139   195         0  \n",
       "...             ...           ...  ...  ...  ...   ...       ...  \n",
       "4200  238476.476679  3.810885e+06   38   51   68    52         0  \n",
       "4203  238473.413250  3.810880e+06   28   39   62    24         0  \n",
       "4208  238484.482788  3.810893e+06   30   40   60    29         0  \n",
       "4211  238487.430460  3.810895e+06   36   52   66    53         0  \n",
       "4216  238474.887769  3.810882e+06   30   39   61    21         0  \n",
       "\n",
       "[1198 rows x 9 columns]"
      ]
     },
     "execution_count": 25,
     "metadata": {},
     "output_type": "execute_result"
    }
   ],
   "source": [
    "non_veg2[non_veg2['iceplant']==0] "
   ]
  },
  {
   "cell_type": "code",
   "execution_count": 23,
   "id": "bd03dba0-1838-4e5e-b8ba-b6bc9e8d338f",
   "metadata": {},
   "outputs": [
    {
     "data": {
      "text/plain": [
       "-1198"
      ]
     },
     "execution_count": 23,
     "metadata": {},
     "output_type": "execute_result"
    }
   ],
   "source": [
    "95-1293"
   ]
  },
  {
   "cell_type": "code",
   "execution_count": null,
   "id": "7f491f98-34c4-4610-a88a-b2bb66d0262d",
   "metadata": {},
   "outputs": [],
   "source": []
  }
 ],
 "metadata": {
  "kernelspec": {
   "display_name": "Python 3 (ipykernel)",
   "language": "python",
   "name": "python3"
  },
  "language_info": {
   "codemirror_mode": {
    "name": "ipython",
    "version": 3
   },
   "file_extension": ".py",
   "mimetype": "text/x-python",
   "name": "python",
   "nbconvert_exporter": "python",
   "pygments_lexer": "ipython3",
   "version": "3.8.12"
  }
 },
 "nbformat": 4,
 "nbformat_minor": 5
}
