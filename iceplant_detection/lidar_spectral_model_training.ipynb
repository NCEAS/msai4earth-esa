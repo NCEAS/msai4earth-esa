{
 "cells": [
  {
   "cell_type": "code",
   "execution_count": 1,
   "id": "49ac83f8-c841-4b74-9adb-265df16730da",
   "metadata": {},
   "outputs": [],
   "source": [
    "import os\n",
    "import time\n",
    "import pandas as pd\n",
    "\n",
    "from sklearn.ensemble import RandomForestClassifier\n",
    "from dask_ml.wrappers import ParallelPostFit  # wrapper so that model predicts using dask\n",
    "\n",
    "from sklearn.inspection import permutation_importance\n",
    "import matplotlib.pyplot as plt\n",
    "\n",
    "from joblib import dump\n",
    "\n",
    "import model_prep_and_evals as mpe # custom module"
   ]
  },
  {
   "cell_type": "code",
   "execution_count": 2,
   "id": "39d53ac1-a4a5-4927-b592-96e2a87fdafa",
   "metadata": {},
   "outputs": [],
   "source": [
    "# **************************************************************\n",
    "# whole_set = True => merge train+test sets and train model with combined dataset\n",
    "# whole_set = False => train model only with train set\n",
    "whole_set = False"
   ]
  },
  {
   "cell_type": "code",
   "execution_count": 3,
   "id": "e5700bed-f6e6-4124-a3db-8a020d9284a3",
   "metadata": {},
   "outputs": [],
   "source": [
    "# ------------------------------\n",
    "# Import train data\n",
    "\n",
    "root = os.path.join(os.getcwd(), 'data_sampling_workflow')\n",
    "\n",
    "# select features from red to avg_lidar\n",
    "# excludes the following features: geometry, aoi, naip_id, polygon_id and iceplant \n",
    "X_train = pd.read_csv(os.path.join(root,\n",
    "                                   'train_set.csv')).loc[:,'r':'avg_lidar']\n",
    "\n",
    "# select iceplant feature column\n",
    "y_train = pd.read_csv(os.path.join(root,\n",
    "                                   'train_set.csv')).loc[:,'iceplant'] \n",
    "\n",
    "# remove 2012 and 2014 since these years do not have LIDAR data\n",
    "X_train = X_train.loc[X_train.year != 2012]\n",
    "X_train = X_train.loc[X_train.year != 2014]\n",
    "\n",
    "y_train = y_train.iloc[X_train.index]\n",
    "\n",
    "# ------------------------------\n",
    "# Import test data\n",
    "\n",
    "# select features from r (Red band) to avg_lidar // excludes geometry, aoi, naip_id, polygon)id and iceplant features\n",
    "X_test = pd.read_csv(os.path.join(root,\n",
    "                                  'test_set.csv')).loc[:,'r':'avg_lidar']\n",
    "\n",
    "# select iceplant feature column\n",
    "y_test = pd.read_csv(os.path.join(root,\n",
    "                                  'test_set.csv')).loc[:,'iceplant'] \n",
    "\n",
    "# remove 2012 and 2014 since these years do not have LIDAR data\n",
    "X_test = X_test.loc[X_test.year != 2012]\n",
    "X_test = X_test.loc[X_test.year != 2014]\n",
    "\n",
    "y_test = y_test.iloc[X_test.index]\n",
    "\n",
    "# ------------------------------\n",
    "if whole_set == True:\n",
    "    X_train = pd.concat([X_train, X_test], axis = 0)\n",
    "    y_train = pd.concat([y_train, y_test], axis = 0)\n"
   ]
  },
  {
   "cell_type": "code",
   "execution_count": 4,
   "id": "47519ef8-39ef-4831-a42a-ab9f4bf11a24",
   "metadata": {},
   "outputs": [
    {
     "data": {
      "text/html": [
       "<div>\n",
       "<style scoped>\n",
       "    .dataframe tbody tr th:only-of-type {\n",
       "        vertical-align: middle;\n",
       "    }\n",
       "\n",
       "    .dataframe tbody tr th {\n",
       "        vertical-align: top;\n",
       "    }\n",
       "\n",
       "    .dataframe thead th {\n",
       "        text-align: right;\n",
       "    }\n",
       "</style>\n",
       "<table border=\"1\" class=\"dataframe\">\n",
       "  <thead>\n",
       "    <tr style=\"text-align: right;\">\n",
       "      <th></th>\n",
       "      <th>r</th>\n",
       "      <th>g</th>\n",
       "      <th>b</th>\n",
       "      <th>nir</th>\n",
       "      <th>ndvi</th>\n",
       "      <th>year</th>\n",
       "      <th>month</th>\n",
       "      <th>day_in_year</th>\n",
       "      <th>lidar</th>\n",
       "      <th>max_lidar</th>\n",
       "      <th>min_lidar</th>\n",
       "      <th>min_max_diff</th>\n",
       "      <th>avg_lidar</th>\n",
       "    </tr>\n",
       "  </thead>\n",
       "  <tbody>\n",
       "    <tr>\n",
       "      <th>0</th>\n",
       "      <td>51</td>\n",
       "      <td>49</td>\n",
       "      <td>49</td>\n",
       "      <td>142</td>\n",
       "      <td>0.471503</td>\n",
       "      <td>2016</td>\n",
       "      <td>7</td>\n",
       "      <td>195</td>\n",
       "      <td>19.0</td>\n",
       "      <td>22.0</td>\n",
       "      <td>2.0</td>\n",
       "      <td>20.0</td>\n",
       "      <td>13.777778</td>\n",
       "    </tr>\n",
       "    <tr>\n",
       "      <th>1</th>\n",
       "      <td>51</td>\n",
       "      <td>55</td>\n",
       "      <td>57</td>\n",
       "      <td>132</td>\n",
       "      <td>0.442623</td>\n",
       "      <td>2016</td>\n",
       "      <td>7</td>\n",
       "      <td>195</td>\n",
       "      <td>12.0</td>\n",
       "      <td>16.0</td>\n",
       "      <td>6.0</td>\n",
       "      <td>10.0</td>\n",
       "      <td>10.555555</td>\n",
       "    </tr>\n",
       "    <tr>\n",
       "      <th>2</th>\n",
       "      <td>64</td>\n",
       "      <td>74</td>\n",
       "      <td>65</td>\n",
       "      <td>152</td>\n",
       "      <td>0.407407</td>\n",
       "      <td>2016</td>\n",
       "      <td>7</td>\n",
       "      <td>195</td>\n",
       "      <td>9.0</td>\n",
       "      <td>9.0</td>\n",
       "      <td>2.0</td>\n",
       "      <td>7.0</td>\n",
       "      <td>6.888889</td>\n",
       "    </tr>\n",
       "    <tr>\n",
       "      <th>3</th>\n",
       "      <td>119</td>\n",
       "      <td>97</td>\n",
       "      <td>80</td>\n",
       "      <td>147</td>\n",
       "      <td>0.105263</td>\n",
       "      <td>2016</td>\n",
       "      <td>7</td>\n",
       "      <td>195</td>\n",
       "      <td>0.0</td>\n",
       "      <td>1.0</td>\n",
       "      <td>0.0</td>\n",
       "      <td>1.0</td>\n",
       "      <td>0.333333</td>\n",
       "    </tr>\n",
       "    <tr>\n",
       "      <th>4</th>\n",
       "      <td>52</td>\n",
       "      <td>54</td>\n",
       "      <td>55</td>\n",
       "      <td>108</td>\n",
       "      <td>0.350000</td>\n",
       "      <td>2016</td>\n",
       "      <td>7</td>\n",
       "      <td>195</td>\n",
       "      <td>1.0</td>\n",
       "      <td>1.0</td>\n",
       "      <td>0.0</td>\n",
       "      <td>1.0</td>\n",
       "      <td>0.777778</td>\n",
       "    </tr>\n",
       "  </tbody>\n",
       "</table>\n",
       "</div>"
      ],
      "text/plain": [
       "     r   g   b  nir      ndvi  year  month  day_in_year  lidar  max_lidar  \\\n",
       "0   51  49  49  142  0.471503  2016      7          195   19.0       22.0   \n",
       "1   51  55  57  132  0.442623  2016      7          195   12.0       16.0   \n",
       "2   64  74  65  152  0.407407  2016      7          195    9.0        9.0   \n",
       "3  119  97  80  147  0.105263  2016      7          195    0.0        1.0   \n",
       "4   52  54  55  108  0.350000  2016      7          195    1.0        1.0   \n",
       "\n",
       "   min_lidar  min_max_diff  avg_lidar  \n",
       "0        2.0          20.0  13.777778  \n",
       "1        6.0          10.0  10.555555  \n",
       "2        2.0           7.0   6.888889  \n",
       "3        0.0           1.0   0.333333  \n",
       "4        0.0           1.0   0.777778  "
      ]
     },
     "execution_count": 4,
     "metadata": {},
     "output_type": "execute_result"
    }
   ],
   "source": [
    "X_train.head()"
   ]
  },
  {
   "cell_type": "code",
   "execution_count": 5,
   "id": "dc2aa480-f261-42b9-ac4b-83dae21b7d7a",
   "metadata": {},
   "outputs": [],
   "source": [
    "# ------------------------------\n",
    "X_train = X_train.to_numpy()\n",
    "y_train = y_train.to_numpy()"
   ]
  },
  {
   "cell_type": "code",
   "execution_count": 6,
   "id": "943a03fe-4fc4-402a-987f-f469daa9ec09",
   "metadata": {},
   "outputs": [
    {
     "data": {
      "text/plain": [
       "['lidar_spectral_rfc.joblib']"
      ]
     },
     "execution_count": 6,
     "metadata": {},
     "output_type": "execute_result"
    }
   ],
   "source": [
    "rfc = ParallelPostFit(RandomForestClassifier(n_estimators = 100, \n",
    "                                             random_state = 42))\n",
    "rfc.fit(X_train, y_train)\n",
    "dump(rfc, 'lidar_spectral_rfc.joblib')"
   ]
  },
  {
   "cell_type": "code",
   "execution_count": 7,
   "id": "9c4cc357-1fa8-4ff2-bb41-b98218d32d06",
   "metadata": {},
   "outputs": [
    {
     "name": "stdout",
     "output_type": "stream",
     "text": [
      "true negatives: 100056     false positives: 1212\n",
      "false negatives: 944     true positives: 54708\n",
      "\n",
      "sensitivity (TP/P): 98.3 %\n",
      "specificity (TN/N): 98.8 %\n",
      "G-mean:  0.99\n",
      "\n",
      "precision (TP/(TP+FP)): 97.83 %\n",
      "\n",
      "MCC:  0.9700238623088451\n",
      "\n",
      "F1-measure:  0.98068\n",
      "F0.5-measure (min false positives):  0.97926\n",
      "F2-measure (min false negatives)  :  0.98209\n",
      "\n",
      "accuracy: 98.63 %\n"
     ]
    }
   ],
   "source": [
    "if whole_set == False:\n",
    "    preds = rfc.predict(X_test.to_numpy())\n",
    "    mpe.print_accuracy_info(y_test.to_numpy(), preds)"
   ]
  },
  {
   "cell_type": "code",
   "execution_count": 8,
   "id": "89ab30ad-a3fd-4945-8178-f4eb465a72d3",
   "metadata": {},
   "outputs": [],
   "source": [
    "result = permutation_importance(\n",
    "    rfc, \n",
    "#    X_test.drop('avg_lidar',  axis = 1,inplace=True),\n",
    "    X_test.to_numpy(),\n",
    "    y_test.to_numpy(),\n",
    "    n_repeats=10, \n",
    "    random_state=42, \n",
    "    n_jobs=2\n",
    ")"
   ]
  },
  {
   "cell_type": "code",
   "execution_count": 9,
   "id": "38d5edf7-13df-4b5b-8144-ab07799c7699",
   "metadata": {},
   "outputs": [
    {
     "data": {
      "image/png": "[encoded data removed]",
      "text/plain": [
       "<Figure size 640x480 with 1 Axes>"
      ]
     },
     "metadata": {},
     "output_type": "display_data"
    }
   ],
   "source": [
    "forest_importances = pd.Series(result.importances_mean, index=X_test.columns)\n",
    "\n",
    "fig, ax = plt.subplots()\n",
    "forest_importances.plot.bar(yerr=result.importances_std, ax=ax)\n",
    "ax.set_title(\"Feature importances using permutation on full model\")\n",
    "ax.set_ylabel(\"Mean accuracy decrease\")\n",
    "fig.tight_layout()\n",
    "plt.show()"
   ]
  },
  {
   "cell_type": "markdown",
   "id": "62321881-dd25-41a5-adf7-a82b9bef83bb",
   "metadata": {},
   "source": [
    "Note:\n",
    "There are some points in the training and test set that have negative values for min_lidar. \n",
    "This is most likely points near the coast where the 3x3 window around the point includes no-data pixels in the canopy height raster.\n",
    "No-data in the canopy height raster is represented by -999.\n",
    "However, as a percentage of the points in the total training and test set, these are very few points:\n",
    "\n",
    "0\t275\t(non-iceplant with negative min_lidar)\n",
    "1\t559\t(iceplant with negative min_lidar)"
   ]
  }
 ],
 "metadata": {
  "kernelspec": {
   "display_name": "Python 3 (ipykernel)",
   "language": "python",
   "name": "python3"
  },
  "language_info": {
   "codemirror_mode": {
    "name": "ipython",
    "version": 3
   },
   "file_extension": ".py",
   "mimetype": "text/x-python",
   "name": "python",
   "nbconvert_exporter": "python",
   "pygments_lexer": "ipython3",
   "version": "3.10.6"
  }
 },
 "nbformat": 4,
 "nbformat_minor": 5
}
