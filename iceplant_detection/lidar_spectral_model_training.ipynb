{
 "cells": [
  {
   "cell_type": "code",
   "execution_count": 1,
   "id": "49ac83f8-c841-4b74-9adb-265df16730da",
   "metadata": {},
   "outputs": [],
   "source": [
    "import os\n",
    "import time\n",
    "import pandas as pd\n",
    "\n",
    "from sklearn.ensemble import RandomForestClassifier\n",
    "from dask_ml.wrappers import ParallelPostFit  # wrapper so that model predicts using dask\n",
    "\n",
    "from joblib import dump\n",
    "\n",
    "import model_prep_and_evals as mpe # custom module"
   ]
  },
  {
   "cell_type": "code",
   "execution_count": 2,
   "id": "39d53ac1-a4a5-4927-b592-96e2a87fdafa",
   "metadata": {},
   "outputs": [],
   "source": [
    "whole_set = False"
   ]
  },
  {
   "cell_type": "code",
   "execution_count": 3,
   "id": "e5700bed-f6e6-4124-a3db-8a020d9284a3",
   "metadata": {},
   "outputs": [],
   "source": [
    "# ------------------------------\n",
    "# Import train data\n",
    "\n",
    "# select features from r (Red band) to avg_lidar // excludes geometry, aoi, naip_id, polygon)id and iceplant features\n",
    "X_train = pd.read_csv(os.path.join(os.getcwd(),'data_sampling_workflow','train_set.csv')).loc[:,'r':'avg_lidar']\n",
    "\n",
    "# select iceplant feature column\n",
    "y_train = pd.read_csv(os.path.join(os.getcwd(),'data_sampling_workflow','train_set.csv')).loc[:,'iceplant'] \n",
    "\n",
    "# remove 2012 and 2014 since these do not have LIDAR data of their own.\n",
    "X_train = X_train.loc[X_train.year != 2012]\n",
    "X_train = X_train.loc[X_train.year != 2014]\n",
    "\n",
    "y_train = y_train.iloc[X_train.index]\n",
    "\n",
    "# ------------------------------\n",
    "# Import test data\n",
    "\n",
    "# select features from r (Red band) to avg_lidar // excludes geometry, aoi, naip_id, polygon)id and iceplant features\n",
    "X_test = pd.read_csv(os.path.join(os.getcwd(),'data_sampling_workflow','test_set.csv')).loc[:,'r':'avg_lidar']\n",
    "\n",
    "# select iceplant feature column\n",
    "y_test = pd.read_csv(os.path.join(os.getcwd(),'data_sampling_workflow','test_set.csv')).loc[:,'iceplant'] \n",
    "\n",
    "# remove 2012 and 2014 since these do not have LIDAR data of their own.\n",
    "X_test = X_test.loc[X_test.year != 2012]\n",
    "X_test = X_test.loc[X_test.year != 2014]\n",
    "\n",
    "y_test = y_test.iloc[X_test.index]"
   ]
  },
  {
   "cell_type": "code",
   "execution_count": 4,
   "id": "3f228255-1229-45da-929c-a26d49e4bb96",
   "metadata": {},
   "outputs": [
    {
     "name": "stdout",
     "output_type": "stream",
     "text": [
      "['r', 'g', 'b', 'nir', 'ndvi', 'year', 'month', 'day_in_year', 'lidar', 'max_lidar', 'min_lidar', 'min_max_diff', 'avg_lidar']\n"
     ]
    }
   ],
   "source": [
    "if whole_set == True:\n",
    "    X_train = pd.concat([X_train, X_test], axis=0)\n",
    "    y_train = pd.concat([y_train, y_test], axis=0)\n",
    "\n",
    "feature_names = X_train.columns.to_list()\n",
    "print(feature_names)\n",
    "\n",
    "X_train = X_train.to_numpy()\n",
    "y_train = y_train.to_numpy()"
   ]
  },
  {
   "cell_type": "code",
   "execution_count": 5,
   "id": "943a03fe-4fc4-402a-987f-f469daa9ec09",
   "metadata": {},
   "outputs": [
    {
     "data": {
      "text/plain": [
       "['spectral_rfc.joblib']"
      ]
     },
     "execution_count": 5,
     "metadata": {},
     "output_type": "execute_result"
    }
   ],
   "source": [
    "rfc = ParallelPostFit(RandomForestClassifier(n_estimators = 100, \n",
    "                                             random_state = 42))\n",
    "rfc.fit(X_train, y_train)\n",
    "dump(rfc, 'lidar_spectral_rfc.joblib')"
   ]
  },
  {
   "cell_type": "code",
   "execution_count": null,
   "id": "ef6f4e76-c84a-4f95-8347-570b44958452",
   "metadata": {},
   "outputs": [],
   "source": []
  }
 ],
 "metadata": {
  "kernelspec": {
   "display_name": "Python 3 (ipykernel)",
   "language": "python",
   "name": "python3"
  },
  "language_info": {
   "codemirror_mode": {
    "name": "ipython",
    "version": 3
   },
   "file_extension": ".py",
   "mimetype": "text/x-python",
   "name": "python",
   "nbconvert_exporter": "python",
   "pygments_lexer": "ipython3",
   "version": "3.8.13"
  }
 },
 "nbformat": 4,
 "nbformat_minor": 5
}
