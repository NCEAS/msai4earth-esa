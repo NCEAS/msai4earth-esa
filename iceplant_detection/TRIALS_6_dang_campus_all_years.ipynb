{
 "cells": [
  {
   "cell_type": "code",
   "execution_count": 1,
   "id": "b9f67582-59bf-4a3b-9fac-d0802db4c432",
   "metadata": {},
   "outputs": [],
   "source": [
    "import os\n",
    "import pandas as pd\n",
    "import numpy as np\n",
    "import matplotlib.pyplot as plt\n",
    "\n",
    "from sklearn.model_selection import train_test_split\n",
    "from sklearn.ensemble import RandomForestClassifier\n",
    "\n",
    "import rasterio\n",
    "import geopandas as gpd\n",
    "\n",
    "from shapely.geometry import Polygon\n",
    "\n",
    "import iceplant_detection_functions as ipf"
   ]
  },
  {
   "cell_type": "code",
   "execution_count": 2,
   "id": "eb7a43c4-f8f3-422d-9ee8-4b49ee26ba72",
   "metadata": {},
   "outputs": [],
   "source": [
    "aois = gpd.read_file(os.path.join(os.getcwd(),'areas_of_interest','areas_of_interest.shp'))"
   ]
  },
  {
   "cell_type": "code",
   "execution_count": 10,
   "id": "8f62eb92-3c22-4f6f-b235-d25fa9e6668b",
   "metadata": {},
   "outputs": [
    {
     "data": {
      "text/html": [
       "<div>\n",
       "<style scoped>\n",
       "    .dataframe tbody tr th:only-of-type {\n",
       "        vertical-align: middle;\n",
       "    }\n",
       "\n",
       "    .dataframe tbody tr th {\n",
       "        vertical-align: top;\n",
       "    }\n",
       "\n",
       "    .dataframe thead th {\n",
       "        text-align: right;\n",
       "    }\n",
       "</style>\n",
       "<table border=\"1\" class=\"dataframe\">\n",
       "  <thead>\n",
       "    <tr style=\"text-align: right;\">\n",
       "      <th></th>\n",
       "      <th>r</th>\n",
       "      <th>g</th>\n",
       "      <th>b</th>\n",
       "      <th>nir</th>\n",
       "      <th>ndvi</th>\n",
       "      <th>year</th>\n",
       "      <th>month</th>\n",
       "      <th>day_in_year</th>\n",
       "      <th>iceplant</th>\n",
       "    </tr>\n",
       "  </thead>\n",
       "  <tbody>\n",
       "    <tr>\n",
       "      <th>0</th>\n",
       "      <td>134</td>\n",
       "      <td>125</td>\n",
       "      <td>103</td>\n",
       "      <td>170</td>\n",
       "      <td>0.118421</td>\n",
       "      <td>2012</td>\n",
       "      <td>5</td>\n",
       "      <td>126</td>\n",
       "      <td>1</td>\n",
       "    </tr>\n",
       "    <tr>\n",
       "      <th>1</th>\n",
       "      <td>130</td>\n",
       "      <td>114</td>\n",
       "      <td>101</td>\n",
       "      <td>164</td>\n",
       "      <td>0.115646</td>\n",
       "      <td>2012</td>\n",
       "      <td>5</td>\n",
       "      <td>126</td>\n",
       "      <td>1</td>\n",
       "    </tr>\n",
       "    <tr>\n",
       "      <th>2</th>\n",
       "      <td>132</td>\n",
       "      <td>110</td>\n",
       "      <td>98</td>\n",
       "      <td>160</td>\n",
       "      <td>0.095890</td>\n",
       "      <td>2012</td>\n",
       "      <td>5</td>\n",
       "      <td>126</td>\n",
       "      <td>1</td>\n",
       "    </tr>\n",
       "  </tbody>\n",
       "</table>\n",
       "</div>"
      ],
      "text/plain": [
       "     r    g    b  nir      ndvi  year  month  day_in_year  iceplant\n",
       "0  134  125  103  170  0.118421  2012      5          126         1\n",
       "1  130  114  101  164  0.115646  2012      5          126         1\n",
       "2  132  110   98  160  0.095890  2012      5          126         1"
      ]
     },
     "execution_count": 10,
     "metadata": {},
     "output_type": "execute_result"
    }
   ],
   "source": [
    "df = pd.read_csv(os.path.join(os.getcwd(),'feature_selection','samples_for_model.csv'))\n",
    "df.drop(['Unnamed: 0'],axis=1,inplace=True)\n",
    "df.head(3)"
   ]
  },
  {
   "cell_type": "code",
   "execution_count": 11,
   "id": "b0aaa422-5cb4-4ab6-a015-29192a801fc3",
   "metadata": {},
   "outputs": [
    {
     "name": "stdout",
     "output_type": "stream",
     "text": [
      "no-iceplant:iceplant ratio     1.9 :1\n",
      "          counts  percentage\n",
      "iceplant                    \n",
      "0         227474       66.04\n",
      "1         116954       33.96\n",
      "\n"
     ]
    }
   ],
   "source": [
    "ipf.iceplant_proportions(df.iceplant)"
   ]
  },
  {
   "cell_type": "code",
   "execution_count": 16,
   "id": "329f53ff-8f74-45a6-b64e-a8dd2d9c64d4",
   "metadata": {},
   "outputs": [
    {
     "name": "stdout",
     "output_type": "stream",
     "text": [
      "TRAIN SET COUNTS:\n",
      "no-iceplant:iceplant ratio     1.9 :1\n",
      "          counts  percentage\n",
      "iceplant                    \n",
      "0         159093       65.99\n",
      "1          82006       34.01\n",
      "\n",
      "TEST SET COUNTS:\n",
      "no-iceplant:iceplant ratio     2.0 :1\n",
      "          counts  percentage\n",
      "iceplant                    \n",
      "0          68381       66.18\n",
      "1          34948       33.82\n",
      "\n"
     ]
    }
   ],
   "source": [
    "X_train, X_test, y_train, y_test = ipf.test_train_from_df(df)\n",
    "ipf.test_train_proportions(y_train, y_test)"
   ]
  },
  {
   "cell_type": "code",
   "execution_count": 14,
   "id": "7e9a9726-f629-44f6-ba17-bb48125ac525",
   "metadata": {},
   "outputs": [
    {
     "data": {
      "text/plain": [
       "RandomForestClassifier(random_state=42)"
      ]
     },
     "execution_count": 14,
     "metadata": {},
     "output_type": "execute_result"
    }
   ],
   "source": [
    "rfc = RandomForestClassifier(n_estimators = 100, random_state = 42)\n",
    "rfc.fit(X_train, y_train)"
   ]
  },
  {
   "cell_type": "code",
   "execution_count": 15,
   "id": "28d97150-7e7b-491a-8a85-d8393430ae87",
   "metadata": {},
   "outputs": [
    {
     "name": "stdout",
     "output_type": "stream",
     "text": [
      "\n",
      "true negatives: 67103     false positives: 1278\n",
      "false negatives: 1230     true positives: 33718\n",
      "\n",
      "sensitivity (TP/P): 96.48 %\n",
      "specificity (TN/N): 98.13 %\n",
      "G-mean:  0.97\n",
      "\n",
      "precision (TP/(TP+FP)): 96.35 %\n",
      "\n",
      "MCC:  0.9457983987962804\n",
      "\n",
      "F1-measure:  0.96414\n",
      "F0.5-measure (min false positives):  0.96375\n",
      "F2-measure (min false negatives)  :  0.96454\n",
      "\n",
      "accuracy: 97.57 %\n",
      "\n"
     ]
    }
   ],
   "source": [
    "predictions = rfc.predict(X_test)\n",
    "ipf.print_threshold_metrics(y_test, predictions)"
   ]
  },
  {
   "cell_type": "code",
   "execution_count": 18,
   "id": "7733d4db-20a6-46e5-a304-9c6bb025fa2f",
   "metadata": {},
   "outputs": [],
   "source": [
    "# https://scikit-learn.org/stable/auto_examples/ensemble/plot_forest_importances.html\n",
    "from sklearn.inspection import permutation_importance\n",
    "\n",
    "result = permutation_importance(\n",
    "    rfc, X_test, y_test, n_repeats=10, random_state=42, n_jobs=2\n",
    ")"
   ]
  },
  {
   "cell_type": "code",
   "execution_count": 23,
   "id": "4500f088-efba-425c-b49b-867164a86869",
   "metadata": {},
   "outputs": [
    {
     "data": {
      "text/plain": [
       "r              0.228468\n",
       "g              0.089771\n",
       "b              0.122555\n",
       "nir            0.124716\n",
       "ndvi           0.064180\n",
       "year           0.065384\n",
       "month          0.009816\n",
       "day_in_year    0.049022\n",
       "dtype: float64"
      ]
     },
     "execution_count": 23,
     "metadata": {},
     "output_type": "execute_result"
    }
   ],
   "source": [
    "forest_importances = pd.Series(result.importances_mean, index=['r', 'g', 'b', 'nir', 'ndvi', 'year', 'month', 'day_in_year'])"
   ]
  },
  {
   "cell_type": "code",
   "execution_count": 24,
   "id": "7b2b394f-0741-48ba-a5a9-191d49f75099",
   "metadata": {},
   "outputs": [
    {
     "data": {
      "image/png": "[encoded data removed]",
      "text/plain": [
       "<Figure size 432x288 with 1 Axes>"
      ]
     },
     "metadata": {
      "needs_background": "light"
     },
     "output_type": "display_data"
    }
   ],
   "source": [
    "fig, ax = plt.subplots()\n",
    "forest_importances.plot.bar(yerr=result.importances_std, ax=ax)\n",
    "ax.set_title(\"Feature importances using permutation on full model\")\n",
    "ax.set_ylabel(\"Mean accuracy decrease\")\n",
    "fig.tight_layout()\n",
    "plt.show()"
   ]
  },
  {
   "cell_type": "code",
   "execution_count": null,
   "id": "34c773ea-7d63-4d3b-9142-b68056f8e278",
   "metadata": {},
   "outputs": [],
   "source": []
  }
 ],
 "metadata": {
  "kernelspec": {
   "display_name": "Python 3 (ipykernel)",
   "language": "python",
   "name": "python3"
  },
  "language_info": {
   "codemirror_mode": {
    "name": "ipython",
    "version": 3
   },
   "file_extension": ".py",
   "mimetype": "text/x-python",
   "name": "python",
   "nbconvert_exporter": "python",
   "pygments_lexer": "ipython3",
   "version": "3.8.13"
  }
 },
 "nbformat": 4,
 "nbformat_minor": 5
}
