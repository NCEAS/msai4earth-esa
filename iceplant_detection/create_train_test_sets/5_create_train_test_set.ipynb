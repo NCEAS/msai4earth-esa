{
 "cells": [
  {
   "cell_type": "code",
   "execution_count": 1,
   "id": "0d90a741-3a84-4bd3-acf0-bb36b0cdecdb",
   "metadata": {},
   "outputs": [],
   "source": [
    "import os\n",
    "import pandas as pd\n",
    "import numpy as np\n",
    "\n",
    "from sklearn.model_selection import train_test_split"
   ]
  },
  {
   "cell_type": "markdown",
   "id": "f8f45e46-5be2-49de-a3aa-09c5fb7e1552",
   "metadata": {},
   "source": [
    "This notebook samples the same specified percentage of points per scene, in an effort to keep the training and test sets unbiased towards scenes that have more points sampled from them."
   ]
  },
  {
   "cell_type": "code",
   "execution_count": 2,
   "id": "064d16db-91a8-414c-b6a5-1b99c29287d4",
   "metadata": {},
   "outputs": [],
   "source": [
    "samples = pd.read_csv(os.path.join(os.getcwd(),'samples_for_model.csv'))\n",
    "# created at feature_selection.ipynb"
   ]
  },
  {
   "cell_type": "code",
   "execution_count": 3,
   "id": "71913136-e2b1-4944-a5c4-d10abecfd3b2",
   "metadata": {},
   "outputs": [
    {
     "data": {
      "text/plain": [
       "(565184, 18)"
      ]
     },
     "execution_count": 3,
     "metadata": {},
     "output_type": "execute_result"
    }
   ],
   "source": [
    "samples.shape"
   ]
  },
  {
   "cell_type": "code",
   "execution_count": 4,
   "id": "746dd7fe-0e9b-4e51-9340-3d49e5239c2d",
   "metadata": {
    "tags": []
   },
   "outputs": [],
   "source": [
    "def iceplant_proportions(labels):\n",
    "    unique, counts = np.unique(labels, return_counts=True)\n",
    "    print('no-iceplant:iceplant ratio    ',round(counts[0]/counts[1],1),':1')\n",
    "    n = labels.shape[0]\n",
    "    perc = [round(counts[0]/n*100,2), round(counts[1]/n*100,2)]\n",
    "    df = pd.DataFrame({'iceplant':unique,\n",
    "             'counts':counts,\n",
    "             'percentage':perc}).set_index('iceplant')\n",
    "    print(df)\n",
    "    print()"
   ]
  },
  {
   "cell_type": "code",
   "execution_count": 5,
   "id": "169fcbe5-f1bf-43fb-a640-407ab323b108",
   "metadata": {},
   "outputs": [],
   "source": [
    "all_train = []\n",
    "all_test = []\n",
    "\n",
    "X_labels = samples.columns.drop('iceplant')\n",
    "\n",
    "aois = samples.aoi.unique()\n",
    "\n",
    "for aoi in aois:\n",
    "    # retrieve all scenes from  aoi\n",
    "    in_aoi = samples[samples.aoi == aoi]    \n",
    "    scenes = in_aoi.naip_id.unique()\n",
    "    for scene in scenes:\n",
    "        # get all pts in scene\n",
    "        in_scene = in_aoi[in_aoi.naip_id == scene]\n",
    "        \n",
    "        # sample 70% of pts in scene for training\n",
    "        # keep same iceplant/non-ice plant proportion in test an train sets\n",
    "        X = np.array(in_scene.drop('iceplant', axis = 1))\n",
    "        y = np.array(in_scene['iceplant'])\n",
    "        X_train, X_test, y_train, y_test = train_test_split(X, y, \n",
    "                                                            test_size = 0.3, \n",
    "                                                            random_state = 42)\n",
    "        \n",
    "        # reassemble train set into data frame\n",
    "        train = pd.DataFrame(X_train, columns = X_labels)\n",
    "        train['iceplant'] = y_train\n",
    "       \n",
    "        # reassemble test set into data \n",
    "        test = pd.DataFrame(X_test, columns = X_labels)\n",
    "        test['iceplant'] = y_test\n",
    "        \n",
    "        # add to rest of train/test pts\n",
    "        all_train.append(train)\n",
    "        all_test.append(test)\n",
    "        \n",
    "train = pd.concat(all_train, ignore_index=True)\n",
    "test = pd.concat(all_test, ignore_index=True)"
   ]
  },
  {
   "cell_type": "code",
   "execution_count": 6,
   "id": "be7d1966-53a1-434b-af30-cfdf56f5defd",
   "metadata": {},
   "outputs": [
    {
     "name": "stdout",
     "output_type": "stream",
     "text": [
      "no-iceplant:iceplant ratio     2.6 :1\n",
      "          counts  percentage\n",
      "iceplant                    \n",
      "0         285908       72.27\n",
      "1         109714       27.73\n",
      "\n"
     ]
    }
   ],
   "source": [
    "iceplant_proportions(np.array(train.iceplant))"
   ]
  },
  {
   "cell_type": "code",
   "execution_count": 7,
   "id": "f7ed6234-6fec-4fff-b162-7bb83d1c19f1",
   "metadata": {},
   "outputs": [
    {
     "name": "stdout",
     "output_type": "stream",
     "text": [
      "no-iceplant:iceplant ratio     2.6 :1\n",
      "          counts  percentage\n",
      "iceplant                    \n",
      "0         122776       72.41\n",
      "1          46786       27.59\n",
      "\n"
     ]
    }
   ],
   "source": [
    "iceplant_proportions(np.array(test.iceplant))"
   ]
  },
  {
   "cell_type": "code",
   "execution_count": 8,
   "id": "d5321c4a-ae36-4e03-8ee3-60b620ef5917",
   "metadata": {},
   "outputs": [
    {
     "data": {
      "text/html": [
       "<div>\n",
       "<style scoped>\n",
       "    .dataframe tbody tr th:only-of-type {\n",
       "        vertical-align: middle;\n",
       "    }\n",
       "\n",
       "    .dataframe tbody tr th {\n",
       "        vertical-align: top;\n",
       "    }\n",
       "\n",
       "    .dataframe thead th {\n",
       "        text-align: right;\n",
       "    }\n",
       "</style>\n",
       "<table border=\"1\" class=\"dataframe\">\n",
       "  <thead>\n",
       "    <tr style=\"text-align: right;\">\n",
       "      <th></th>\n",
       "      <th>r</th>\n",
       "      <th>g</th>\n",
       "      <th>b</th>\n",
       "      <th>nir</th>\n",
       "      <th>ndvi</th>\n",
       "      <th>year</th>\n",
       "      <th>month</th>\n",
       "      <th>day_in_year</th>\n",
       "      <th>lidar</th>\n",
       "      <th>max_lidar</th>\n",
       "      <th>min_lidar</th>\n",
       "      <th>min_max_diff</th>\n",
       "      <th>avg_lidar</th>\n",
       "      <th>geometry</th>\n",
       "      <th>aoi</th>\n",
       "      <th>naip_id</th>\n",
       "      <th>polygon_id</th>\n",
       "      <th>iceplant</th>\n",
       "    </tr>\n",
       "  </thead>\n",
       "  <tbody>\n",
       "    <tr>\n",
       "      <th>0</th>\n",
       "      <td>43</td>\n",
       "      <td>51</td>\n",
       "      <td>78</td>\n",
       "      <td>89</td>\n",
       "      <td>0.348485</td>\n",
       "      <td>2012</td>\n",
       "      <td>5</td>\n",
       "      <td>126</td>\n",
       "      <td>2</td>\n",
       "      <td>10</td>\n",
       "      <td>0</td>\n",
       "      <td>10</td>\n",
       "      <td>3.0</td>\n",
       "      <td>POINT (235774.86665080223 3811711.199119436)</td>\n",
       "      <td>campus_lagoon</td>\n",
       "      <td>ca_m_3411934_sw_11_1_20120505_20120730</td>\n",
       "      <td>15</td>\n",
       "      <td>0</td>\n",
       "    </tr>\n",
       "    <tr>\n",
       "      <th>1</th>\n",
       "      <td>65</td>\n",
       "      <td>59</td>\n",
       "      <td>84</td>\n",
       "      <td>79</td>\n",
       "      <td>0.097222</td>\n",
       "      <td>2012</td>\n",
       "      <td>5</td>\n",
       "      <td>126</td>\n",
       "      <td>0</td>\n",
       "      <td>6</td>\n",
       "      <td>0</td>\n",
       "      <td>6</td>\n",
       "      <td>1.0</td>\n",
       "      <td>POINT (238133.2205170226 3811247.685769488)</td>\n",
       "      <td>campus_lagoon</td>\n",
       "      <td>ca_m_3411934_sw_11_1_20120505_20120730</td>\n",
       "      <td>29</td>\n",
       "      <td>0</td>\n",
       "    </tr>\n",
       "    <tr>\n",
       "      <th>2</th>\n",
       "      <td>81</td>\n",
       "      <td>86</td>\n",
       "      <td>93</td>\n",
       "      <td>132</td>\n",
       "      <td>0.239437</td>\n",
       "      <td>2012</td>\n",
       "      <td>5</td>\n",
       "      <td>126</td>\n",
       "      <td>11</td>\n",
       "      <td>14</td>\n",
       "      <td>6</td>\n",
       "      <td>8</td>\n",
       "      <td>9.222222</td>\n",
       "      <td>POINT (236234.3014255809 3811420.479858158)</td>\n",
       "      <td>campus_lagoon</td>\n",
       "      <td>ca_m_3411934_sw_11_1_20120505_20120730</td>\n",
       "      <td>16</td>\n",
       "      <td>0</td>\n",
       "    </tr>\n",
       "  </tbody>\n",
       "</table>\n",
       "</div>"
      ],
      "text/plain": [
       "    r   g   b  nir      ndvi  year month day_in_year lidar max_lidar  \\\n",
       "0  43  51  78   89  0.348485  2012     5         126     2        10   \n",
       "1  65  59  84   79  0.097222  2012     5         126     0         6   \n",
       "2  81  86  93  132  0.239437  2012     5         126    11        14   \n",
       "\n",
       "  min_lidar min_max_diff avg_lidar  \\\n",
       "0         0           10       3.0   \n",
       "1         0            6       1.0   \n",
       "2         6            8  9.222222   \n",
       "\n",
       "                                       geometry            aoi  \\\n",
       "0  POINT (235774.86665080223 3811711.199119436)  campus_lagoon   \n",
       "1   POINT (238133.2205170226 3811247.685769488)  campus_lagoon   \n",
       "2   POINT (236234.3014255809 3811420.479858158)  campus_lagoon   \n",
       "\n",
       "                                  naip_id polygon_id  iceplant  \n",
       "0  ca_m_3411934_sw_11_1_20120505_20120730         15         0  \n",
       "1  ca_m_3411934_sw_11_1_20120505_20120730         29         0  \n",
       "2  ca_m_3411934_sw_11_1_20120505_20120730         16         0  "
      ]
     },
     "execution_count": 8,
     "metadata": {},
     "output_type": "execute_result"
    }
   ],
   "source": [
    "train.head(3)"
   ]
  },
  {
   "cell_type": "code",
   "execution_count": 9,
   "id": "5fb140df-87da-45d8-9b32-f2bcb76b5cee",
   "metadata": {},
   "outputs": [
    {
     "data": {
      "text/html": [
       "<div>\n",
       "<style scoped>\n",
       "    .dataframe tbody tr th:only-of-type {\n",
       "        vertical-align: middle;\n",
       "    }\n",
       "\n",
       "    .dataframe tbody tr th {\n",
       "        vertical-align: top;\n",
       "    }\n",
       "\n",
       "    .dataframe thead th {\n",
       "        text-align: right;\n",
       "    }\n",
       "</style>\n",
       "<table border=\"1\" class=\"dataframe\">\n",
       "  <thead>\n",
       "    <tr style=\"text-align: right;\">\n",
       "      <th></th>\n",
       "      <th>r</th>\n",
       "      <th>g</th>\n",
       "      <th>b</th>\n",
       "      <th>nir</th>\n",
       "      <th>ndvi</th>\n",
       "      <th>year</th>\n",
       "      <th>month</th>\n",
       "      <th>day_in_year</th>\n",
       "      <th>lidar</th>\n",
       "      <th>max_lidar</th>\n",
       "      <th>min_lidar</th>\n",
       "      <th>min_max_diff</th>\n",
       "      <th>avg_lidar</th>\n",
       "      <th>geometry</th>\n",
       "      <th>aoi</th>\n",
       "      <th>naip_id</th>\n",
       "      <th>polygon_id</th>\n",
       "      <th>iceplant</th>\n",
       "    </tr>\n",
       "  </thead>\n",
       "  <tbody>\n",
       "    <tr>\n",
       "      <th>0</th>\n",
       "      <td>124</td>\n",
       "      <td>104</td>\n",
       "      <td>99</td>\n",
       "      <td>154</td>\n",
       "      <td>0.107914</td>\n",
       "      <td>2012</td>\n",
       "      <td>5</td>\n",
       "      <td>126</td>\n",
       "      <td>0</td>\n",
       "      <td>0</td>\n",
       "      <td>0</td>\n",
       "      <td>0</td>\n",
       "      <td>0.0</td>\n",
       "      <td>POINT (238531.52353940875 3810778.486143305)</td>\n",
       "      <td>campus_lagoon</td>\n",
       "      <td>ca_m_3411934_sw_11_1_20120505_20120730</td>\n",
       "      <td>1</td>\n",
       "      <td>1</td>\n",
       "    </tr>\n",
       "    <tr>\n",
       "      <th>1</th>\n",
       "      <td>135</td>\n",
       "      <td>119</td>\n",
       "      <td>99</td>\n",
       "      <td>167</td>\n",
       "      <td>0.10596</td>\n",
       "      <td>2012</td>\n",
       "      <td>5</td>\n",
       "      <td>126</td>\n",
       "      <td>1</td>\n",
       "      <td>3</td>\n",
       "      <td>0</td>\n",
       "      <td>3</td>\n",
       "      <td>1.222222</td>\n",
       "      <td>POINT (238550.1707933048 3810782.096102707)</td>\n",
       "      <td>campus_lagoon</td>\n",
       "      <td>ca_m_3411934_sw_11_1_20120505_20120730</td>\n",
       "      <td>0</td>\n",
       "      <td>1</td>\n",
       "    </tr>\n",
       "    <tr>\n",
       "      <th>2</th>\n",
       "      <td>96</td>\n",
       "      <td>98</td>\n",
       "      <td>100</td>\n",
       "      <td>127</td>\n",
       "      <td>0.139013</td>\n",
       "      <td>2012</td>\n",
       "      <td>5</td>\n",
       "      <td>126</td>\n",
       "      <td>3</td>\n",
       "      <td>3</td>\n",
       "      <td>2</td>\n",
       "      <td>1</td>\n",
       "      <td>2.333333</td>\n",
       "      <td>POINT (238105.80866084044 3814676.1355223465)</td>\n",
       "      <td>campus_lagoon</td>\n",
       "      <td>ca_m_3411934_sw_11_1_20120505_20120730</td>\n",
       "      <td>23</td>\n",
       "      <td>0</td>\n",
       "    </tr>\n",
       "  </tbody>\n",
       "</table>\n",
       "</div>"
      ],
      "text/plain": [
       "     r    g    b  nir      ndvi  year month day_in_year lidar max_lidar  \\\n",
       "0  124  104   99  154  0.107914  2012     5         126     0         0   \n",
       "1  135  119   99  167   0.10596  2012     5         126     1         3   \n",
       "2   96   98  100  127  0.139013  2012     5         126     3         3   \n",
       "\n",
       "  min_lidar min_max_diff avg_lidar  \\\n",
       "0         0            0       0.0   \n",
       "1         0            3  1.222222   \n",
       "2         2            1  2.333333   \n",
       "\n",
       "                                        geometry            aoi  \\\n",
       "0   POINT (238531.52353940875 3810778.486143305)  campus_lagoon   \n",
       "1    POINT (238550.1707933048 3810782.096102707)  campus_lagoon   \n",
       "2  POINT (238105.80866084044 3814676.1355223465)  campus_lagoon   \n",
       "\n",
       "                                  naip_id polygon_id  iceplant  \n",
       "0  ca_m_3411934_sw_11_1_20120505_20120730          1         1  \n",
       "1  ca_m_3411934_sw_11_1_20120505_20120730          0         1  \n",
       "2  ca_m_3411934_sw_11_1_20120505_20120730         23         0  "
      ]
     },
     "execution_count": 9,
     "metadata": {},
     "output_type": "execute_result"
    }
   ],
   "source": [
    "test.head(3)"
   ]
  },
  {
   "cell_type": "code",
   "execution_count": 10,
   "id": "a6a0536b-7209-4c44-b786-b2f229e6f76e",
   "metadata": {},
   "outputs": [],
   "source": [
    "train.to_csv(os.path.join(os.getcwd(),'train_set.csv'), index=False)"
   ]
  },
  {
   "cell_type": "code",
   "execution_count": 11,
   "id": "bf256a81-6e81-4cb0-85f2-06de2a793186",
   "metadata": {},
   "outputs": [],
   "source": [
    "test.to_csv(os.path.join(os.getcwd(),'test_set.csv'), index=False)"
   ]
  },
  {
   "cell_type": "code",
   "execution_count": 13,
   "id": "4407fceb-c5c9-41ec-b4bc-6e50093e5f58",
   "metadata": {},
   "outputs": [],
   "source": [
    "os.remove(os.path.join(os.getcwd(),'samples_for_model.csv'))"
   ]
  },
  {
   "cell_type": "code",
   "execution_count": null,
   "id": "e6d27ffe-8ecb-4594-80c3-f6e412052398",
   "metadata": {},
   "outputs": [],
   "source": []
  }
 ],
 "metadata": {
  "kernelspec": {
   "display_name": "Python 3 (ipykernel)",
   "language": "python",
   "name": "python3"
  },
  "language_info": {
   "codemirror_mode": {
    "name": "ipython",
    "version": 3
   },
   "file_extension": ".py",
   "mimetype": "text/x-python",
   "name": "python",
   "nbconvert_exporter": "python",
   "pygments_lexer": "ipython3",
   "version": "3.8.13"
  }
 },
 "nbformat": 4,
 "nbformat_minor": 5
}
