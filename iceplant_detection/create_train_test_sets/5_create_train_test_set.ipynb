{
 "cells": [
  {
   "cell_type": "markdown",
   "id": "f8f45e46-5be2-49de-a3aa-09c5fb7e1552",
   "metadata": {},
   "source": [
    "# About\n",
    "\n",
    "This notebook samples the same specified percentage of points per scene to go into the training set. This is an effort to keep the training and test sets unbiased towards scenes that have more points sampled from them. The notebook assumes all the data points are in a csv file named `samples_for_model.csv`. \n",
    "\n",
    "**VARIABLES**\n",
    "- `test_size` (float in (0,1)): percentage of data samples that should go into test set. The notebook will sample this percentage of test points from each scene. \n",
    "\n",
    "- `delete_files` (bool): whether to delete the file with all original the sample data. \n",
    "\n",
    "**OUTPUT**\n",
    "The notebook generates two csv files one for the train set and another for the test set.\n"
   ]
  },
  {
   "cell_type": "code",
   "execution_count": 1,
   "id": "0d90a741-3a84-4bd3-acf0-bb36b0cdecdb",
   "metadata": {},
   "outputs": [],
   "source": [
    "import os\n",
    "import pandas as pd\n",
    "import numpy as np\n",
    "\n",
    "from sklearn.model_selection import train_test_split\n",
    "from extracting_points_from_polygons import iceplant_proportions"
   ]
  },
  {
   "cell_type": "markdown",
   "id": "dff1bff9-979e-442f-86ed-4f18a8c36773",
   "metadata": {},
   "source": [
    "# Specify notebook variables"
   ]
  },
  {
   "cell_type": "code",
   "execution_count": 2,
   "id": "27ddc6eb-84ca-416d-888a-1e4ab22f4b2a",
   "metadata": {},
   "outputs": [],
   "source": [
    "# ***************************************************\n",
    "# ************* NOTEBOOK VARIABLES ******************\n",
    "\n",
    "\n",
    "test_size = 0.3\n",
    "\n",
    "delete_files = True\n",
    "\n",
    "# ***************************************************\n",
    "# ***************************************************"
   ]
  },
  {
   "cell_type": "markdown",
   "id": "35161920-cf89-4b0a-8b1e-a9d0e80dfeb2",
   "metadata": {},
   "source": [
    "# Open data samples "
   ]
  },
  {
   "cell_type": "code",
   "execution_count": 3,
   "id": "064d16db-91a8-414c-b6a5-1b99c29287d4",
   "metadata": {},
   "outputs": [],
   "source": [
    "samples = pd.read_csv(os.path.join(os.getcwd(),'samples_for_model.csv'))"
   ]
  },
  {
   "cell_type": "markdown",
   "id": "f0194fac-0198-4d9c-bd9e-b941de781438",
   "metadata": {},
   "source": [
    "# Separate into train and test set keeping same proportion per scene"
   ]
  },
  {
   "cell_type": "code",
   "execution_count": 4,
   "id": "169fcbe5-f1bf-43fb-a640-407ab323b108",
   "metadata": {},
   "outputs": [],
   "source": [
    "# initialize empy train and test lists\n",
    "all_train = []\n",
    "all_test = []\n",
    "\n",
    "# save label names\n",
    "X_labels = samples.columns.drop('iceplant')\n",
    "\n",
    "# list of aois\n",
    "aois = samples.aoi.unique()\n",
    "\n",
    "for aoi in aois:\n",
    "    \n",
    "    # retrieve all scenes from  aoi\n",
    "    in_aoi = samples[samples.aoi == aoi]    \n",
    "    scenes = in_aoi.naip_id.unique()\n",
    "    \n",
    "    for scene in scenes:\n",
    "        # get all pts in scene\n",
    "        in_scene = in_aoi[in_aoi.naip_id == scene]\n",
    "        \n",
    "        # sample test_size fraction of pts in scene for testing\n",
    "        # keep same iceplant/non-ice plant proportion in test an train sets\n",
    "        X = np.array(in_scene.drop('iceplant', axis = 1))\n",
    "        y = np.array(in_scene['iceplant'])\n",
    "        X_train, X_test, y_train, y_test = train_test_split(X, y, \n",
    "                                                            test_size = test_size, \n",
    "                                                            random_state = 42)\n",
    "        \n",
    "        # reassemble train set into data frame\n",
    "        train = pd.DataFrame(X_train, columns = X_labels)\n",
    "        train['iceplant'] = y_train\n",
    "       \n",
    "        # reassemble test set into data \n",
    "        test = pd.DataFrame(X_test, columns = X_labels)\n",
    "        test['iceplant'] = y_test\n",
    "        \n",
    "        # add to rest of train/test pts\n",
    "        all_train.append(train)\n",
    "        all_test.append(test)\n",
    "        \n",
    "train = pd.concat(all_train, ignore_index=True)\n",
    "test = pd.concat(all_test, ignore_index=True)"
   ]
  },
  {
   "cell_type": "markdown",
   "id": "8acfd398-1b7f-4184-b83f-fc55d7774bd7",
   "metadata": {},
   "source": [
    "# Check sets"
   ]
  },
  {
   "cell_type": "code",
   "execution_count": 5,
   "id": "d5321c4a-ae36-4e03-8ee3-60b620ef5917",
   "metadata": {},
   "outputs": [
    {
     "data": {
      "text/html": [
       "<div>\n",
       "<style scoped>\n",
       "    .dataframe tbody tr th:only-of-type {\n",
       "        vertical-align: middle;\n",
       "    }\n",
       "\n",
       "    .dataframe tbody tr th {\n",
       "        vertical-align: top;\n",
       "    }\n",
       "\n",
       "    .dataframe thead th {\n",
       "        text-align: right;\n",
       "    }\n",
       "</style>\n",
       "<table border=\"1\" class=\"dataframe\">\n",
       "  <thead>\n",
       "    <tr style=\"text-align: right;\">\n",
       "      <th></th>\n",
       "      <th>r</th>\n",
       "      <th>g</th>\n",
       "      <th>b</th>\n",
       "      <th>nir</th>\n",
       "      <th>ndvi</th>\n",
       "      <th>year</th>\n",
       "      <th>month</th>\n",
       "      <th>day_in_year</th>\n",
       "      <th>lidar</th>\n",
       "      <th>max_lidar</th>\n",
       "      <th>min_lidar</th>\n",
       "      <th>min_max_diff</th>\n",
       "      <th>avg_lidar</th>\n",
       "      <th>geometry</th>\n",
       "      <th>aoi</th>\n",
       "      <th>naip_id</th>\n",
       "      <th>polygon_id</th>\n",
       "      <th>iceplant</th>\n",
       "    </tr>\n",
       "  </thead>\n",
       "  <tbody>\n",
       "    <tr>\n",
       "      <th>0</th>\n",
       "      <td>86</td>\n",
       "      <td>93</td>\n",
       "      <td>103</td>\n",
       "      <td>115</td>\n",
       "      <td>0.144279</td>\n",
       "      <td>2012</td>\n",
       "      <td>5</td>\n",
       "      <td>126</td>\n",
       "      <td>1</td>\n",
       "      <td>2</td>\n",
       "      <td>1</td>\n",
       "      <td>1</td>\n",
       "      <td>1.222222</td>\n",
       "      <td>POINT (237384.81492726543 3812901.816317874)</td>\n",
       "      <td>campus_lagoon</td>\n",
       "      <td>ca_m_3411934_sw_11_1_20120505_20120730</td>\n",
       "      <td>28</td>\n",
       "      <td>0</td>\n",
       "    </tr>\n",
       "    <tr>\n",
       "      <th>1</th>\n",
       "      <td>123</td>\n",
       "      <td>116</td>\n",
       "      <td>106</td>\n",
       "      <td>169</td>\n",
       "      <td>0.157534</td>\n",
       "      <td>2012</td>\n",
       "      <td>5</td>\n",
       "      <td>126</td>\n",
       "      <td>2</td>\n",
       "      <td>6</td>\n",
       "      <td>0</td>\n",
       "      <td>6</td>\n",
       "      <td>2.555556</td>\n",
       "      <td>POINT (239452.35860786948 3812008.182551823)</td>\n",
       "      <td>campus_lagoon</td>\n",
       "      <td>ca_m_3411934_sw_11_1_20120505_20120730</td>\n",
       "      <td>9</td>\n",
       "      <td>1</td>\n",
       "    </tr>\n",
       "    <tr>\n",
       "      <th>2</th>\n",
       "      <td>120</td>\n",
       "      <td>106</td>\n",
       "      <td>99</td>\n",
       "      <td>158</td>\n",
       "      <td>0.136691</td>\n",
       "      <td>2012</td>\n",
       "      <td>5</td>\n",
       "      <td>126</td>\n",
       "      <td>0</td>\n",
       "      <td>2</td>\n",
       "      <td>0</td>\n",
       "      <td>2</td>\n",
       "      <td>0.555556</td>\n",
       "      <td>POINT (238500.30868452237 3810836.327497523)</td>\n",
       "      <td>campus_lagoon</td>\n",
       "      <td>ca_m_3411934_sw_11_1_20120505_20120730</td>\n",
       "      <td>3</td>\n",
       "      <td>1</td>\n",
       "    </tr>\n",
       "  </tbody>\n",
       "</table>\n",
       "</div>"
      ],
      "text/plain": [
       "     r    g    b  nir      ndvi  year month day_in_year lidar max_lidar  \\\n",
       "0   86   93  103  115  0.144279  2012     5         126     1         2   \n",
       "1  123  116  106  169  0.157534  2012     5         126     2         6   \n",
       "2  120  106   99  158  0.136691  2012     5         126     0         2   \n",
       "\n",
       "  min_lidar min_max_diff avg_lidar  \\\n",
       "0         1            1  1.222222   \n",
       "1         0            6  2.555556   \n",
       "2         0            2  0.555556   \n",
       "\n",
       "                                       geometry            aoi  \\\n",
       "0  POINT (237384.81492726543 3812901.816317874)  campus_lagoon   \n",
       "1  POINT (239452.35860786948 3812008.182551823)  campus_lagoon   \n",
       "2  POINT (238500.30868452237 3810836.327497523)  campus_lagoon   \n",
       "\n",
       "                                  naip_id polygon_id  iceplant  \n",
       "0  ca_m_3411934_sw_11_1_20120505_20120730         28         0  \n",
       "1  ca_m_3411934_sw_11_1_20120505_20120730          9         1  \n",
       "2  ca_m_3411934_sw_11_1_20120505_20120730          3         1  "
      ]
     },
     "execution_count": 5,
     "metadata": {},
     "output_type": "execute_result"
    }
   ],
   "source": [
    "train.head(3)"
   ]
  },
  {
   "cell_type": "code",
   "execution_count": 6,
   "id": "5fb140df-87da-45d8-9b32-f2bcb76b5cee",
   "metadata": {},
   "outputs": [
    {
     "data": {
      "text/html": [
       "<div>\n",
       "<style scoped>\n",
       "    .dataframe tbody tr th:only-of-type {\n",
       "        vertical-align: middle;\n",
       "    }\n",
       "\n",
       "    .dataframe tbody tr th {\n",
       "        vertical-align: top;\n",
       "    }\n",
       "\n",
       "    .dataframe thead th {\n",
       "        text-align: right;\n",
       "    }\n",
       "</style>\n",
       "<table border=\"1\" class=\"dataframe\">\n",
       "  <thead>\n",
       "    <tr style=\"text-align: right;\">\n",
       "      <th></th>\n",
       "      <th>r</th>\n",
       "      <th>g</th>\n",
       "      <th>b</th>\n",
       "      <th>nir</th>\n",
       "      <th>ndvi</th>\n",
       "      <th>year</th>\n",
       "      <th>month</th>\n",
       "      <th>day_in_year</th>\n",
       "      <th>lidar</th>\n",
       "      <th>max_lidar</th>\n",
       "      <th>min_lidar</th>\n",
       "      <th>min_max_diff</th>\n",
       "      <th>avg_lidar</th>\n",
       "      <th>geometry</th>\n",
       "      <th>aoi</th>\n",
       "      <th>naip_id</th>\n",
       "      <th>polygon_id</th>\n",
       "      <th>iceplant</th>\n",
       "    </tr>\n",
       "  </thead>\n",
       "  <tbody>\n",
       "    <tr>\n",
       "      <th>0</th>\n",
       "      <td>84</td>\n",
       "      <td>81</td>\n",
       "      <td>99</td>\n",
       "      <td>147</td>\n",
       "      <td>0.272727</td>\n",
       "      <td>2012</td>\n",
       "      <td>5</td>\n",
       "      <td>126</td>\n",
       "      <td>9</td>\n",
       "      <td>25</td>\n",
       "      <td>0</td>\n",
       "      <td>25</td>\n",
       "      <td>8.555555</td>\n",
       "      <td>POINT (237704.5929384376 3811326.0729273846)</td>\n",
       "      <td>campus_lagoon</td>\n",
       "      <td>ca_m_3411934_sw_11_1_20120505_20120730</td>\n",
       "      <td>32</td>\n",
       "      <td>0</td>\n",
       "    </tr>\n",
       "    <tr>\n",
       "      <th>1</th>\n",
       "      <td>56</td>\n",
       "      <td>58</td>\n",
       "      <td>78</td>\n",
       "      <td>75</td>\n",
       "      <td>0.145038</td>\n",
       "      <td>2012</td>\n",
       "      <td>5</td>\n",
       "      <td>126</td>\n",
       "      <td>3</td>\n",
       "      <td>6</td>\n",
       "      <td>0</td>\n",
       "      <td>6</td>\n",
       "      <td>2.0</td>\n",
       "      <td>POINT (238152.31719737497 3811244.452314676)</td>\n",
       "      <td>campus_lagoon</td>\n",
       "      <td>ca_m_3411934_sw_11_1_20120505_20120730</td>\n",
       "      <td>29</td>\n",
       "      <td>0</td>\n",
       "    </tr>\n",
       "    <tr>\n",
       "      <th>2</th>\n",
       "      <td>57</td>\n",
       "      <td>60</td>\n",
       "      <td>83</td>\n",
       "      <td>126</td>\n",
       "      <td>0.377049</td>\n",
       "      <td>2012</td>\n",
       "      <td>5</td>\n",
       "      <td>126</td>\n",
       "      <td>0</td>\n",
       "      <td>7</td>\n",
       "      <td>0</td>\n",
       "      <td>7</td>\n",
       "      <td>1.666667</td>\n",
       "      <td>POINT (235775.6949041834 3811704.484703782)</td>\n",
       "      <td>campus_lagoon</td>\n",
       "      <td>ca_m_3411934_sw_11_1_20120505_20120730</td>\n",
       "      <td>15</td>\n",
       "      <td>0</td>\n",
       "    </tr>\n",
       "  </tbody>\n",
       "</table>\n",
       "</div>"
      ],
      "text/plain": [
       "    r   g   b  nir      ndvi  year month day_in_year lidar max_lidar  \\\n",
       "0  84  81  99  147  0.272727  2012     5         126     9        25   \n",
       "1  56  58  78   75  0.145038  2012     5         126     3         6   \n",
       "2  57  60  83  126  0.377049  2012     5         126     0         7   \n",
       "\n",
       "  min_lidar min_max_diff avg_lidar  \\\n",
       "0         0           25  8.555555   \n",
       "1         0            6       2.0   \n",
       "2         0            7  1.666667   \n",
       "\n",
       "                                       geometry            aoi  \\\n",
       "0  POINT (237704.5929384376 3811326.0729273846)  campus_lagoon   \n",
       "1  POINT (238152.31719737497 3811244.452314676)  campus_lagoon   \n",
       "2   POINT (235775.6949041834 3811704.484703782)  campus_lagoon   \n",
       "\n",
       "                                  naip_id polygon_id  iceplant  \n",
       "0  ca_m_3411934_sw_11_1_20120505_20120730         32         0  \n",
       "1  ca_m_3411934_sw_11_1_20120505_20120730         29         0  \n",
       "2  ca_m_3411934_sw_11_1_20120505_20120730         15         0  "
      ]
     },
     "execution_count": 6,
     "metadata": {},
     "output_type": "execute_result"
    }
   ],
   "source": [
    "test.head(3)"
   ]
  },
  {
   "cell_type": "markdown",
   "id": "ab48b3db-2b31-4cbe-9a4e-005d07acc979",
   "metadata": {},
   "source": [
    "# Check non-iceplant:iceplant ratio in train and test sets"
   ]
  },
  {
   "cell_type": "code",
   "execution_count": 7,
   "id": "be7d1966-53a1-434b-af30-cfdf56f5defd",
   "metadata": {},
   "outputs": [
    {
     "name": "stdout",
     "output_type": "stream",
     "text": [
      "no-iceplant:iceplant ratio     1.8 :1\n",
      "          counts  percentage\n",
      "iceplant                    \n",
      "0         219376       63.85\n",
      "1         124191       36.15\n",
      "\n"
     ]
    }
   ],
   "source": [
    "iceplant_proportions(np.array(train.iceplant))"
   ]
  },
  {
   "cell_type": "code",
   "execution_count": 8,
   "id": "f7ed6234-6fec-4fff-b162-7bb83d1c19f1",
   "metadata": {},
   "outputs": [
    {
     "name": "stdout",
     "output_type": "stream",
     "text": [
      "no-iceplant:iceplant ratio     1.8 :1\n",
      "          counts  percentage\n",
      "iceplant                    \n",
      "0          93756       63.67\n",
      "1          53500       36.33\n",
      "\n"
     ]
    }
   ],
   "source": [
    "iceplant_proportions(np.array(test.iceplant))"
   ]
  },
  {
   "cell_type": "markdown",
   "id": "eaaa4aab-b35c-4c6a-9225-e97db53621d0",
   "metadata": {},
   "source": [
    "# Save train and test sets"
   ]
  },
  {
   "cell_type": "code",
   "execution_count": 10,
   "id": "a6a0536b-7209-4c44-b786-b2f229e6f76e",
   "metadata": {},
   "outputs": [],
   "source": [
    "train.to_csv(os.path.join(os.getcwd(),'train_set.csv'), index=False)\n",
    "test.to_csv(os.path.join(os.getcwd(),'test_set.csv'), index=False)"
   ]
  },
  {
   "cell_type": "markdown",
   "id": "e951e7dd-398c-44fe-bf3c-5a64e3fee84f",
   "metadata": {},
   "source": [
    "# Delete original dataset"
   ]
  },
  {
   "cell_type": "code",
   "execution_count": 13,
   "id": "4407fceb-c5c9-41ec-b4bc-6e50093e5f58",
   "metadata": {},
   "outputs": [],
   "source": [
    "if delete_files == True:\n",
    "    os.remove(os.path.join(os.getcwd(),'samples_for_model.csv'))"
   ]
  }
 ],
 "metadata": {
  "kernelspec": {
   "display_name": "Python 3 (ipykernel)",
   "language": "python",
   "name": "python3"
  },
  "language_info": {
   "codemirror_mode": {
    "name": "ipython",
    "version": 3
   },
   "file_extension": ".py",
   "mimetype": "text/x-python",
   "name": "python",
   "nbconvert_exporter": "python",
   "pygments_lexer": "ipython3",
   "version": "3.8.13"
  }
 },
 "nbformat": 4,
 "nbformat_minor": 5
}
