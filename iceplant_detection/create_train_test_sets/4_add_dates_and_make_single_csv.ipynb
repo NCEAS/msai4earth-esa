{
 "cells": [
  {
   "cell_type": "code",
   "execution_count": 1,
   "id": "b7a7815d-4fe8-4c41-b3d6-9c10af6995e8",
   "metadata": {},
   "outputs": [],
   "source": [
    "import numpy as np\n",
    "import pandas as pd\n",
    "import os"
   ]
  },
  {
   "cell_type": "code",
   "execution_count": 2,
   "id": "419e2adc-a221-4f89-9cf9-8228db7a6b11",
   "metadata": {},
   "outputs": [],
   "source": [
    "def path_points_csv(aoi, year):\n",
    "    # root for all polygons collected on naip scenes\n",
    "    root = '/home/jovyan/msai4earth-esa/iceplant_detection/data_sampling/points_from_naip_images'\n",
    "    fp = os.path.join(root, \n",
    "                      aoi +'_points',\n",
    "                      aoi +'_pts_spectral_lidar_'+str(year)+'.csv')\n",
    "    return fp            "
   ]
  },
  {
   "cell_type": "code",
   "execution_count": 3,
   "id": "50bc0054-2998-46e6-8389-7e020f6f9a38",
   "metadata": {},
   "outputs": [],
   "source": [
    "import calendar\n",
    "\n",
    "def day_in_year(day,month,year):\n",
    "    days_in_month = [31,28,31,30,31,30,31,31,30,31,30,31]\n",
    "    n = 0\n",
    "    for i in range(0,month-1):\n",
    "        n = n+days_in_month[i]\n",
    "    n = n+day\n",
    "    if calendar.isleap(year) and month>2:\n",
    "        n = n+1\n",
    "    return n"
   ]
  },
  {
   "cell_type": "markdown",
   "id": "207d4a1a-7f56-4aec-8566-ddac8a30bf28",
   "metadata": {},
   "source": [
    "## Assemble data frame with all sampled points"
   ]
  },
  {
   "cell_type": "code",
   "execution_count": 4,
   "id": "0320313d-8692-49c0-ba8f-322c5f6ba452",
   "metadata": {},
   "outputs": [],
   "source": [
    "years = [2012,2014,2016,2018,2020]"
   ]
  },
  {
   "cell_type": "code",
   "execution_count": 5,
   "id": "4e2ab6bf-9951-43b9-9e9b-ca89dca9294a",
   "metadata": {},
   "outputs": [],
   "source": [
    "# initialize dataframe\n",
    "aoi = 'campus_lagoon'\n",
    "df = pd.read_csv(path_points_csv(aoi,2012))\n",
    "df['day_in_year'] = day_in_year(df.day[0], df.month[0], df.year[0])\n",
    "df['aoi'] = aoi\n",
    "\n",
    "# add other campus lagoon sample pts\n",
    "for i in range(1,5):\n",
    "    df2 = pd.read_csv(path_points_csv(aoi,years[i]))\n",
    "    df2['day_in_year'] = day_in_year(df2.day[0],df2.month[0], df2.year[0])\n",
    "    df2['aoi'] = aoi\n",
    "    df = pd.concat([df,df2])"
   ]
  },
  {
   "cell_type": "code",
   "execution_count": 6,
   "id": "36670a6d-566f-4a3a-bd47-cd208c7f753b",
   "metadata": {},
   "outputs": [],
   "source": [
    "# add point conception sample pts\n",
    "aoi = 'carpinteria'\n",
    "for i in range(0,5):\n",
    "    df2 = pd.read_csv(path_points_csv(aoi,years[i]))\n",
    "    df2['day_in_year'] = day_in_year(df2.day[0],df2.month[0], df2.year[0])\n",
    "    df2['aoi'] = aoi\n",
    "    df = pd.concat([df,df2])"
   ]
  },
  {
   "cell_type": "code",
   "execution_count": 7,
   "id": "5c1454ca-321d-4e17-b2dc-fdf26a1cbc15",
   "metadata": {},
   "outputs": [],
   "source": [
    "# add point conception sample pts\n",
    "aoi = 'gaviota'\n",
    "for i in range(0,5):\n",
    "    df2 = pd.read_csv(path_points_csv(aoi,years[i]))\n",
    "    df2['day_in_year'] = day_in_year(df2.day[0],df2.month[0], df2.year[0])\n",
    "    df2['aoi'] = aoi\n",
    "    df = pd.concat([df,df2])"
   ]
  },
  {
   "cell_type": "code",
   "execution_count": 8,
   "id": "98a7332f-2e0f-4263-a353-41e541ed9c91",
   "metadata": {},
   "outputs": [],
   "source": [
    "years = [2012,2014,2018,2020]\n",
    "\n",
    "# add point conception sample pts\n",
    "aoi = 'point_conception'\n",
    "for i in range(0,4):\n",
    "    df2 = pd.read_csv(path_points_csv(aoi,years[i]))\n",
    "    df2['day_in_year'] = day_in_year(df2.day[0],df2.month[0], df2.year[0])\n",
    "    df2['aoi'] = aoi\n",
    "    df = pd.concat([df,df2])"
   ]
  },
  {
   "cell_type": "code",
   "execution_count": 9,
   "id": "366e26d9-6f18-431d-b3f4-20a686cbf5f2",
   "metadata": {},
   "outputs": [],
   "source": [
    "df.reset_index(drop=True,inplace=True)"
   ]
  },
  {
   "cell_type": "code",
   "execution_count": 10,
   "id": "b19cd492-bbec-4120-8993-d3c6c23a437e",
   "metadata": {},
   "outputs": [
    {
     "data": {
      "text/html": [
       "<div>\n",
       "<style scoped>\n",
       "    .dataframe tbody tr th:only-of-type {\n",
       "        vertical-align: middle;\n",
       "    }\n",
       "\n",
       "    .dataframe tbody tr th {\n",
       "        vertical-align: top;\n",
       "    }\n",
       "\n",
       "    .dataframe thead th {\n",
       "        text-align: right;\n",
       "    }\n",
       "</style>\n",
       "<table border=\"1\" class=\"dataframe\">\n",
       "  <thead>\n",
       "    <tr style=\"text-align: right;\">\n",
       "      <th></th>\n",
       "      <th>iceplant</th>\n",
       "      <th>r</th>\n",
       "      <th>g</th>\n",
       "      <th>b</th>\n",
       "      <th>nir</th>\n",
       "      <th>year</th>\n",
       "      <th>month</th>\n",
       "      <th>day</th>\n",
       "      <th>naip_id</th>\n",
       "      <th>polygon_id</th>\n",
       "      <th>geometry</th>\n",
       "      <th>lidar</th>\n",
       "      <th>max_lidar</th>\n",
       "      <th>min_lidar</th>\n",
       "      <th>min_max_diff</th>\n",
       "      <th>avg_lidar</th>\n",
       "      <th>day_in_year</th>\n",
       "      <th>aoi</th>\n",
       "    </tr>\n",
       "  </thead>\n",
       "  <tbody>\n",
       "    <tr>\n",
       "      <th>0</th>\n",
       "      <td>1</td>\n",
       "      <td>134</td>\n",
       "      <td>125</td>\n",
       "      <td>103</td>\n",
       "      <td>170</td>\n",
       "      <td>2012</td>\n",
       "      <td>5</td>\n",
       "      <td>5</td>\n",
       "      <td>ca_m_3411934_sw_11_1_20120505_20120730</td>\n",
       "      <td>0</td>\n",
       "      <td>POINT (238565.79498225075 3810768.627232482)</td>\n",
       "      <td>2</td>\n",
       "      <td>2</td>\n",
       "      <td>0</td>\n",
       "      <td>2</td>\n",
       "      <td>1.111111</td>\n",
       "      <td>126</td>\n",
       "      <td>campus_lagoon</td>\n",
       "    </tr>\n",
       "    <tr>\n",
       "      <th>1</th>\n",
       "      <td>1</td>\n",
       "      <td>130</td>\n",
       "      <td>114</td>\n",
       "      <td>101</td>\n",
       "      <td>164</td>\n",
       "      <td>2012</td>\n",
       "      <td>5</td>\n",
       "      <td>5</td>\n",
       "      <td>ca_m_3411934_sw_11_1_20120505_20120730</td>\n",
       "      <td>0</td>\n",
       "      <td>POINT (238553.15545424985 3810802.7926417096)</td>\n",
       "      <td>2</td>\n",
       "      <td>3</td>\n",
       "      <td>0</td>\n",
       "      <td>3</td>\n",
       "      <td>0.888889</td>\n",
       "      <td>126</td>\n",
       "      <td>campus_lagoon</td>\n",
       "    </tr>\n",
       "    <tr>\n",
       "      <th>2</th>\n",
       "      <td>1</td>\n",
       "      <td>132</td>\n",
       "      <td>110</td>\n",
       "      <td>98</td>\n",
       "      <td>160</td>\n",
       "      <td>2012</td>\n",
       "      <td>5</td>\n",
       "      <td>5</td>\n",
       "      <td>ca_m_3411934_sw_11_1_20120505_20120730</td>\n",
       "      <td>0</td>\n",
       "      <td>POINT (238552.77597268307 3810773.0767946127)</td>\n",
       "      <td>1</td>\n",
       "      <td>3</td>\n",
       "      <td>0</td>\n",
       "      <td>3</td>\n",
       "      <td>1.222222</td>\n",
       "      <td>126</td>\n",
       "      <td>campus_lagoon</td>\n",
       "    </tr>\n",
       "  </tbody>\n",
       "</table>\n",
       "</div>"
      ],
      "text/plain": [
       "   iceplant    r    g    b  nir  year  month  day  \\\n",
       "0         1  134  125  103  170  2012      5    5   \n",
       "1         1  130  114  101  164  2012      5    5   \n",
       "2         1  132  110   98  160  2012      5    5   \n",
       "\n",
       "                                  naip_id  polygon_id  \\\n",
       "0  ca_m_3411934_sw_11_1_20120505_20120730           0   \n",
       "1  ca_m_3411934_sw_11_1_20120505_20120730           0   \n",
       "2  ca_m_3411934_sw_11_1_20120505_20120730           0   \n",
       "\n",
       "                                        geometry  lidar  max_lidar  min_lidar  \\\n",
       "0   POINT (238565.79498225075 3810768.627232482)      2          2          0   \n",
       "1  POINT (238553.15545424985 3810802.7926417096)      2          3          0   \n",
       "2  POINT (238552.77597268307 3810773.0767946127)      1          3          0   \n",
       "\n",
       "   min_max_diff  avg_lidar  day_in_year            aoi  \n",
       "0             2   1.111111          126  campus_lagoon  \n",
       "1             3   0.888889          126  campus_lagoon  \n",
       "2             3   1.222222          126  campus_lagoon  "
      ]
     },
     "execution_count": 10,
     "metadata": {},
     "output_type": "execute_result"
    }
   ],
   "source": [
    "df.drop(['Unnamed: 0'],axis=1, inplace=True)\n",
    "df.head(3)"
   ]
  },
  {
   "cell_type": "code",
   "execution_count": 12,
   "id": "80bfdf5e-57d6-4b8e-9c70-17985495957f",
   "metadata": {},
   "outputs": [
    {
     "data": {
      "text/plain": [
       "Index(['iceplant', 'r', 'g', 'b', 'nir', 'year', 'month', 'day', 'naip_id',\n",
       "       'polygon_id', 'geometry', 'lidar', 'max_lidar', 'min_lidar',\n",
       "       'min_max_diff', 'avg_lidar', 'day_in_year', 'aoi'],\n",
       "      dtype='object')"
      ]
     },
     "execution_count": 12,
     "metadata": {},
     "output_type": "execute_result"
    }
   ],
   "source": [
    "df.columns"
   ]
  },
  {
   "cell_type": "markdown",
   "id": "944e0ff3-8acc-42a8-b6f1-35dbf8932d62",
   "metadata": {},
   "source": [
    "## Stats about sample distribution among aois and scenes"
   ]
  },
  {
   "cell_type": "code",
   "execution_count": 13,
   "id": "6b34a791-4db3-43b5-a5e1-f1dcbb957eb8",
   "metadata": {},
   "outputs": [
    {
     "data": {
      "text/plain": [
       "point_conception    207450\n",
       "campus_lagoon       163518\n",
       "carpinteria         120476\n",
       "gaviota              73740\n",
       "Name: aoi, dtype: int64"
      ]
     },
     "execution_count": 13,
     "metadata": {},
     "output_type": "execute_result"
    }
   ],
   "source": [
    "#checking all data was loaded\n",
    "df.aoi.value_counts()"
   ]
  },
  {
   "cell_type": "code",
   "execution_count": 14,
   "id": "478f26de-fa69-4964-ac15-b742cefe6450",
   "metadata": {},
   "outputs": [
    {
     "data": {
      "text/plain": [
       "2020    160058\n",
       "2018    149962\n",
       "2014    101801\n",
       "2012     86932\n",
       "2016     66431\n",
       "Name: year, dtype: int64"
      ]
     },
     "execution_count": 14,
     "metadata": {},
     "output_type": "execute_result"
    }
   ],
   "source": [
    "df.year.value_counts()"
   ]
  },
  {
   "cell_type": "code",
   "execution_count": 15,
   "id": "6a0d6fb6-473b-42da-9863-0aa7d5936689",
   "metadata": {},
   "outputs": [
    {
     "data": {
      "text/plain": [
       "ca_m_3412037_nw_10_060_20200607             75414\n",
       "ca_m_3411934_sw_11_060_20180722_20190209    69391\n",
       "ca_m_3412037_nw_10_1_20140603_20141030      61529\n",
       "ca_m_3412037_nw_10_1_20120518_20120730      37126\n",
       "ca_m_3412037_nw_10_060_20180913_20190208    33381\n",
       "ca_m_3411934_sw_11_060_20200521             33293\n",
       "ca_m_3411936_se_11_060_20200521             32332\n",
       "ca_m_3411936_se_11_060_20180724_20190209    29081\n",
       "ca_m_3411934_sw_11_.6_20160713_20161004     26540\n",
       "ca_m_3411936_se_11_.6_20160713_20161004     23529\n",
       "ca_m_3411934_sw_11_1_20120505_20120730      19816\n",
       "ca_m_3411936_se_11_1_20120505_20120730      19020\n",
       "ca_m_3412039_nw_10_060_20200522             19019\n",
       "ca_m_3412039_nw_10_060_20180724_20190209    18109\n",
       "ca_m_3411936_se_11_1_20140901_20141030      16514\n",
       "ca_m_3412039_nw_10_.6_20160616_20161004     16362\n",
       "ca_m_3411934_sw_11_1_20140601_20141030      14478\n",
       "ca_m_3412039_nw_10_1_20120518_20120730      10970\n",
       "ca_m_3412039_nw_10_1_20140603_20141030       9280\n",
       "Name: naip_id, dtype: int64"
      ]
     },
     "execution_count": 15,
     "metadata": {},
     "output_type": "execute_result"
    }
   ],
   "source": [
    "df.naip_id.value_counts()"
   ]
  },
  {
   "cell_type": "markdown",
   "id": "057f6341-375d-434b-b99c-4e61fd10e5ec",
   "metadata": {},
   "source": [
    "## Add NDVI feature"
   ]
  },
  {
   "cell_type": "code",
   "execution_count": 16,
   "id": "9e1a49fd-099c-4d19-aaed-60534cccbfec",
   "metadata": {},
   "outputs": [
    {
     "data": {
      "text/html": [
       "<div>\n",
       "<style scoped>\n",
       "    .dataframe tbody tr th:only-of-type {\n",
       "        vertical-align: middle;\n",
       "    }\n",
       "\n",
       "    .dataframe tbody tr th {\n",
       "        vertical-align: top;\n",
       "    }\n",
       "\n",
       "    .dataframe thead th {\n",
       "        text-align: right;\n",
       "    }\n",
       "</style>\n",
       "<table border=\"1\" class=\"dataframe\">\n",
       "  <thead>\n",
       "    <tr style=\"text-align: right;\">\n",
       "      <th></th>\n",
       "      <th>iceplant</th>\n",
       "      <th>r</th>\n",
       "      <th>g</th>\n",
       "      <th>b</th>\n",
       "      <th>nir</th>\n",
       "      <th>year</th>\n",
       "      <th>month</th>\n",
       "      <th>day</th>\n",
       "      <th>naip_id</th>\n",
       "      <th>polygon_id</th>\n",
       "      <th>geometry</th>\n",
       "      <th>lidar</th>\n",
       "      <th>max_lidar</th>\n",
       "      <th>min_lidar</th>\n",
       "      <th>min_max_diff</th>\n",
       "      <th>avg_lidar</th>\n",
       "      <th>day_in_year</th>\n",
       "      <th>aoi</th>\n",
       "      <th>ndvi</th>\n",
       "    </tr>\n",
       "  </thead>\n",
       "  <tbody>\n",
       "    <tr>\n",
       "      <th>0</th>\n",
       "      <td>1</td>\n",
       "      <td>134</td>\n",
       "      <td>125</td>\n",
       "      <td>103</td>\n",
       "      <td>170</td>\n",
       "      <td>2012</td>\n",
       "      <td>5</td>\n",
       "      <td>5</td>\n",
       "      <td>ca_m_3411934_sw_11_1_20120505_20120730</td>\n",
       "      <td>0</td>\n",
       "      <td>POINT (238565.79498225075 3810768.627232482)</td>\n",
       "      <td>2</td>\n",
       "      <td>2</td>\n",
       "      <td>0</td>\n",
       "      <td>2</td>\n",
       "      <td>1.111111</td>\n",
       "      <td>126</td>\n",
       "      <td>campus_lagoon</td>\n",
       "      <td>0.118421</td>\n",
       "    </tr>\n",
       "    <tr>\n",
       "      <th>1</th>\n",
       "      <td>1</td>\n",
       "      <td>130</td>\n",
       "      <td>114</td>\n",
       "      <td>101</td>\n",
       "      <td>164</td>\n",
       "      <td>2012</td>\n",
       "      <td>5</td>\n",
       "      <td>5</td>\n",
       "      <td>ca_m_3411934_sw_11_1_20120505_20120730</td>\n",
       "      <td>0</td>\n",
       "      <td>POINT (238553.15545424985 3810802.7926417096)</td>\n",
       "      <td>2</td>\n",
       "      <td>3</td>\n",
       "      <td>0</td>\n",
       "      <td>3</td>\n",
       "      <td>0.888889</td>\n",
       "      <td>126</td>\n",
       "      <td>campus_lagoon</td>\n",
       "      <td>0.115646</td>\n",
       "    </tr>\n",
       "    <tr>\n",
       "      <th>2</th>\n",
       "      <td>1</td>\n",
       "      <td>132</td>\n",
       "      <td>110</td>\n",
       "      <td>98</td>\n",
       "      <td>160</td>\n",
       "      <td>2012</td>\n",
       "      <td>5</td>\n",
       "      <td>5</td>\n",
       "      <td>ca_m_3411934_sw_11_1_20120505_20120730</td>\n",
       "      <td>0</td>\n",
       "      <td>POINT (238552.77597268307 3810773.0767946127)</td>\n",
       "      <td>1</td>\n",
       "      <td>3</td>\n",
       "      <td>0</td>\n",
       "      <td>3</td>\n",
       "      <td>1.222222</td>\n",
       "      <td>126</td>\n",
       "      <td>campus_lagoon</td>\n",
       "      <td>0.095890</td>\n",
       "    </tr>\n",
       "  </tbody>\n",
       "</table>\n",
       "</div>"
      ],
      "text/plain": [
       "   iceplant    r    g    b  nir  year  month  day  \\\n",
       "0         1  134  125  103  170  2012      5    5   \n",
       "1         1  130  114  101  164  2012      5    5   \n",
       "2         1  132  110   98  160  2012      5    5   \n",
       "\n",
       "                                  naip_id  polygon_id  \\\n",
       "0  ca_m_3411934_sw_11_1_20120505_20120730           0   \n",
       "1  ca_m_3411934_sw_11_1_20120505_20120730           0   \n",
       "2  ca_m_3411934_sw_11_1_20120505_20120730           0   \n",
       "\n",
       "                                        geometry  lidar  max_lidar  min_lidar  \\\n",
       "0   POINT (238565.79498225075 3810768.627232482)      2          2          0   \n",
       "1  POINT (238553.15545424985 3810802.7926417096)      2          3          0   \n",
       "2  POINT (238552.77597268307 3810773.0767946127)      1          3          0   \n",
       "\n",
       "   min_max_diff  avg_lidar  day_in_year            aoi      ndvi  \n",
       "0             2   1.111111          126  campus_lagoon  0.118421  \n",
       "1             3   0.888889          126  campus_lagoon  0.115646  \n",
       "2             3   1.222222          126  campus_lagoon  0.095890  "
      ]
     },
     "execution_count": 16,
     "metadata": {},
     "output_type": "execute_result"
    }
   ],
   "source": [
    "df['ndvi']=(df.nir.astype('int16') - df.r.astype('int16'))/(df.nir.astype('int16') + df.r.astype('int16'))\n",
    "df.head(3)"
   ]
  },
  {
   "cell_type": "code",
   "execution_count": 18,
   "id": "e25686b8-bd53-4f96-9022-a96db3ef3d81",
   "metadata": {},
   "outputs": [
    {
     "data": {
      "text/html": [
       "<div>\n",
       "<style scoped>\n",
       "    .dataframe tbody tr th:only-of-type {\n",
       "        vertical-align: middle;\n",
       "    }\n",
       "\n",
       "    .dataframe tbody tr th {\n",
       "        vertical-align: top;\n",
       "    }\n",
       "\n",
       "    .dataframe thead th {\n",
       "        text-align: right;\n",
       "    }\n",
       "</style>\n",
       "<table border=\"1\" class=\"dataframe\">\n",
       "  <thead>\n",
       "    <tr style=\"text-align: right;\">\n",
       "      <th></th>\n",
       "      <th>r</th>\n",
       "      <th>g</th>\n",
       "      <th>b</th>\n",
       "      <th>nir</th>\n",
       "      <th>ndvi</th>\n",
       "      <th>year</th>\n",
       "      <th>month</th>\n",
       "      <th>day_in_year</th>\n",
       "      <th>lidar</th>\n",
       "      <th>max_lidar</th>\n",
       "      <th>min_lidar</th>\n",
       "      <th>min_max_diff</th>\n",
       "      <th>avg_lidar</th>\n",
       "      <th>iceplant</th>\n",
       "      <th>geometry</th>\n",
       "      <th>aoi</th>\n",
       "      <th>naip_id</th>\n",
       "      <th>polygon_id</th>\n",
       "    </tr>\n",
       "  </thead>\n",
       "  <tbody>\n",
       "    <tr>\n",
       "      <th>0</th>\n",
       "      <td>134</td>\n",
       "      <td>125</td>\n",
       "      <td>103</td>\n",
       "      <td>170</td>\n",
       "      <td>0.118421</td>\n",
       "      <td>2012</td>\n",
       "      <td>5</td>\n",
       "      <td>126</td>\n",
       "      <td>2</td>\n",
       "      <td>2</td>\n",
       "      <td>0</td>\n",
       "      <td>2</td>\n",
       "      <td>1.111111</td>\n",
       "      <td>1</td>\n",
       "      <td>POINT (238565.79498225075 3810768.627232482)</td>\n",
       "      <td>campus_lagoon</td>\n",
       "      <td>ca_m_3411934_sw_11_1_20120505_20120730</td>\n",
       "      <td>0</td>\n",
       "    </tr>\n",
       "    <tr>\n",
       "      <th>1</th>\n",
       "      <td>130</td>\n",
       "      <td>114</td>\n",
       "      <td>101</td>\n",
       "      <td>164</td>\n",
       "      <td>0.115646</td>\n",
       "      <td>2012</td>\n",
       "      <td>5</td>\n",
       "      <td>126</td>\n",
       "      <td>2</td>\n",
       "      <td>3</td>\n",
       "      <td>0</td>\n",
       "      <td>3</td>\n",
       "      <td>0.888889</td>\n",
       "      <td>1</td>\n",
       "      <td>POINT (238553.15545424985 3810802.7926417096)</td>\n",
       "      <td>campus_lagoon</td>\n",
       "      <td>ca_m_3411934_sw_11_1_20120505_20120730</td>\n",
       "      <td>0</td>\n",
       "    </tr>\n",
       "    <tr>\n",
       "      <th>2</th>\n",
       "      <td>132</td>\n",
       "      <td>110</td>\n",
       "      <td>98</td>\n",
       "      <td>160</td>\n",
       "      <td>0.095890</td>\n",
       "      <td>2012</td>\n",
       "      <td>5</td>\n",
       "      <td>126</td>\n",
       "      <td>1</td>\n",
       "      <td>3</td>\n",
       "      <td>0</td>\n",
       "      <td>3</td>\n",
       "      <td>1.222222</td>\n",
       "      <td>1</td>\n",
       "      <td>POINT (238552.77597268307 3810773.0767946127)</td>\n",
       "      <td>campus_lagoon</td>\n",
       "      <td>ca_m_3411934_sw_11_1_20120505_20120730</td>\n",
       "      <td>0</td>\n",
       "    </tr>\n",
       "  </tbody>\n",
       "</table>\n",
       "</div>"
      ],
      "text/plain": [
       "     r    g    b  nir      ndvi  year  month  day_in_year  lidar  max_lidar  \\\n",
       "0  134  125  103  170  0.118421  2012      5          126      2          2   \n",
       "1  130  114  101  164  0.115646  2012      5          126      2          3   \n",
       "2  132  110   98  160  0.095890  2012      5          126      1          3   \n",
       "\n",
       "   min_lidar  min_max_diff  avg_lidar  iceplant  \\\n",
       "0          0             2   1.111111         1   \n",
       "1          0             3   0.888889         1   \n",
       "2          0             3   1.222222         1   \n",
       "\n",
       "                                        geometry            aoi  \\\n",
       "0   POINT (238565.79498225075 3810768.627232482)  campus_lagoon   \n",
       "1  POINT (238553.15545424985 3810802.7926417096)  campus_lagoon   \n",
       "2  POINT (238552.77597268307 3810773.0767946127)  campus_lagoon   \n",
       "\n",
       "                                  naip_id  polygon_id  \n",
       "0  ca_m_3411934_sw_11_1_20120505_20120730           0  \n",
       "1  ca_m_3411934_sw_11_1_20120505_20120730           0  \n",
       "2  ca_m_3411934_sw_11_1_20120505_20120730           0  "
      ]
     },
     "execution_count": 18,
     "metadata": {},
     "output_type": "execute_result"
    }
   ],
   "source": [
    "# ORDER COLUMNS\n",
    "\n",
    "df = df[['r','g','b','nir','ndvi',     # spectral\n",
    "         'year','month','day_in_year', # date\n",
    "         'lidar', 'max_lidar', 'min_lidar', 'min_max_diff', 'avg_lidar', # lidar\n",
    "         'iceplant',                  \n",
    "         'geometry',         # point coords (CRS is one from scene in naip_id)\n",
    "         'aoi','naip_id', 'polygon_id']] #\n",
    "df.head(3)"
   ]
  },
  {
   "cell_type": "code",
   "execution_count": 19,
   "id": "a7bfe862-b8c3-4fd1-94a1-3dfce34f127a",
   "metadata": {},
   "outputs": [],
   "source": [
    "df.to_csv(os.path.join(os.getcwd(),'samples_for_model.csv'), index=False)"
   ]
  },
  {
   "cell_type": "code",
   "execution_count": null,
   "id": "e1ee260d-8842-47af-b45f-1113bde9fb7a",
   "metadata": {},
   "outputs": [],
   "source": []
  }
 ],
 "metadata": {
  "kernelspec": {
   "display_name": "Python 3 (ipykernel)",
   "language": "python",
   "name": "python3"
  },
  "language_info": {
   "codemirror_mode": {
    "name": "ipython",
    "version": 3
   },
   "file_extension": ".py",
   "mimetype": "text/x-python",
   "name": "python",
   "nbconvert_exporter": "python",
   "pygments_lexer": "ipython3",
   "version": "3.8.13"
  }
 },
 "nbformat": 4,
 "nbformat_minor": 5
}
