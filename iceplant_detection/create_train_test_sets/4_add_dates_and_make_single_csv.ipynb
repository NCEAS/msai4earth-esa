{
 "cells": [
  {
   "cell_type": "markdown",
   "id": "aa89fce3-0450-4190-a2ba-3af09e400f3e",
   "metadata": {},
   "source": [
    "# About\n",
    "\n",
    "This notebook adds canopy height information to the points sampled in the notebook `2_sample_pts_from_polygos.ipynb` (csvs with points information are located in the temp folder). The canopy height rasters for Santa Barbara County were obtained from the California Forest Observatory (CFO) using the `1_download_CFO_canopy_height_raster.ipynb` notebook and are located in the SantabarbaraCounty_lidar folder. \n",
    "\n",
    "\n",
    "This notebook creates four additional temporary rasters from the CFO canopy height layer *H* to obtain additional canopy height features. These layers are avg_lidar, max_lidar, min_lidar, and min_max_diff. For a given year, the avg_lidar layer is created by replacing the value of a pixel *p* in *H* by the average of the values of *H* in a 3x3 window centered at *p* (effectively a convolution of the raster *H* with a 3x3 matrix with constant weights 1/9). The max_lidar is created by replacing the value of a pixel *p* in *J* with the maximum value of *H* in a 3x3 window centered at *p*. The min_lidar layer is created similarly, now taking the minimum value over the window. Finally, the min_max_diff layer is the difference between the max_lidar and the min_lidar layers. All the functions to create these raster layers and sample information from them are in `lidar_sampling_functions`. \n",
    "\n",
    "\n",
    "**NOTEBOOK VARIABLES:**\n",
    "\n",
    "- `aoi_year` (int): the year of the points which will have lidar features added. Must be one of 2012, 2014, 2016, 2018 or 2020.\n",
    "\n",
    "- `aois` (array): the areas of interest of the points which will have lidar features added. Must be a subset of `['campus_lagoon','carpinteria','gaviota', 'point_conception']`.\n",
    "\n",
    "- `lidar_year` (int): the year of canopy height data from which to sample the lidar features for the points. Must be 2016, 2018, or 2020. Ideally, `aoi_year = lidar_year`, but due to data availability it is recommended to make `lidar_year=2016` when `aoi_year` equals 2014 or 2012. \n",
    "\n",
    "- `delete_pts` (bool): whether to delte the files with the original points or not\n",
    "\n",
    "Notes: there are no points sampled from point_conception on campus point. The notebook automatically excludes this option. \n",
    "\n",
    "\n",
    "**OUTPUT:**\n",
    "For each csv of points from the specified year and aoi, the notebook creates a dataframe with the original features from the intial points dataset (see notebook `2_sample_pts_from_polygons`) augmented with the canopy height, avg_lidar, max_lidar, min_lidar, and min_max_diff features sampled at the points location from the CFO canopy height raster from year `lidar_year`. \n",
    "The dataframes are then saved each as a csv file in the 'temp' folder."
   ]
  },
  {
   "cell_type": "code",
   "execution_count": 1,
   "id": "b7a7815d-4fe8-4c41-b3d6-9c10af6995e8",
   "metadata": {},
   "outputs": [],
   "source": [
    "import numpy as np\n",
    "import pandas as pd\n",
    "import os"
   ]
  },
  {
   "cell_type": "markdown",
   "id": "207d4a1a-7f56-4aec-8566-ddac8a30bf28",
   "metadata": {},
   "source": [
    "# Assemble data frame with all sampled points"
   ]
  },
  {
   "cell_type": "code",
   "execution_count": 2,
   "id": "419e2adc-a221-4f89-9cf9-8228db7a6b11",
   "metadata": {},
   "outputs": [],
   "source": [
    "def path_tp_points_csv(aoi, year):\n",
    "    # root for all polygons collected on naip scenes\n",
    "    fp = os.path.join(os.getcwd(), \n",
    "                      'temp',\n",
    "#                      aoi +'_pts_spectral_lidar_'+str(year)+'.csv')\n",
    "                      aoi +'_points_'+str(year)+'.csv')\n",
    "    return fp            "
   ]
  },
  {
   "cell_type": "code",
   "execution_count": 3,
   "id": "0320313d-8692-49c0-ba8f-322c5f6ba452",
   "metadata": {},
   "outputs": [],
   "source": [
    "years = [2012,2014,2016,2018,2020]\n",
    "aois = ['campus_lagoon','carpinteria','gaviota','point_conception']"
   ]
  },
  {
   "cell_type": "code",
   "execution_count": 4,
   "id": "81e434af-6251-46d7-8b7c-c180193f6f03",
   "metadata": {},
   "outputs": [],
   "source": [
    "li = []\n",
    "\n",
    "for aoi in aois:\n",
    "    for year in years:\n",
    "        if ('point_conception' != aoi) or (year != 2016):  #there's no data for Point Conception on 2016\n",
    "            sample = pd.read_csv(path_tp_points_csv(aoi,year))\n",
    "            li.append(sample)\n",
    "\n",
    "df = pd.concat(li, axis=0)"
   ]
  },
  {
   "cell_type": "code",
   "execution_count": 5,
   "id": "366e26d9-6f18-431d-b3f4-20a686cbf5f2",
   "metadata": {},
   "outputs": [],
   "source": [
    "df.reset_index(drop=True,inplace=True)"
   ]
  },
  {
   "cell_type": "code",
   "execution_count": 6,
   "id": "b19cd492-bbec-4120-8993-d3c6c23a437e",
   "metadata": {},
   "outputs": [
    {
     "data": {
      "text/html": [
       "<div>\n",
       "<style scoped>\n",
       "    .dataframe tbody tr th:only-of-type {\n",
       "        vertical-align: middle;\n",
       "    }\n",
       "\n",
       "    .dataframe tbody tr th {\n",
       "        vertical-align: top;\n",
       "    }\n",
       "\n",
       "    .dataframe thead th {\n",
       "        text-align: right;\n",
       "    }\n",
       "</style>\n",
       "<table border=\"1\" class=\"dataframe\">\n",
       "  <thead>\n",
       "    <tr style=\"text-align: right;\">\n",
       "      <th></th>\n",
       "      <th>geometry</th>\n",
       "      <th>iceplant</th>\n",
       "      <th>polygon_id</th>\n",
       "      <th>r</th>\n",
       "      <th>g</th>\n",
       "      <th>b</th>\n",
       "      <th>nir</th>\n",
       "      <th>x</th>\n",
       "      <th>y</th>\n",
       "      <th>year</th>\n",
       "      <th>month</th>\n",
       "      <th>day_in_year</th>\n",
       "      <th>naip_id</th>\n",
       "      <th>aoi</th>\n",
       "    </tr>\n",
       "  </thead>\n",
       "  <tbody>\n",
       "    <tr>\n",
       "      <th>0</th>\n",
       "      <td>POINT (238556.9134408507 3810784.7933008512)</td>\n",
       "      <td>1</td>\n",
       "      <td>0</td>\n",
       "      <td>142</td>\n",
       "      <td>121</td>\n",
       "      <td>100</td>\n",
       "      <td>173</td>\n",
       "      <td>238556.913441</td>\n",
       "      <td>3.810785e+06</td>\n",
       "      <td>2012</td>\n",
       "      <td>5</td>\n",
       "      <td>126</td>\n",
       "      <td>ca_m_3411934_sw_11_1_20120505_20120730</td>\n",
       "      <td>campus_lagoon</td>\n",
       "    </tr>\n",
       "    <tr>\n",
       "      <th>1</th>\n",
       "      <td>POINT (238557.1191380456 3810770.398440421)</td>\n",
       "      <td>1</td>\n",
       "      <td>0</td>\n",
       "      <td>138</td>\n",
       "      <td>121</td>\n",
       "      <td>104</td>\n",
       "      <td>158</td>\n",
       "      <td>238557.119138</td>\n",
       "      <td>3.810770e+06</td>\n",
       "      <td>2012</td>\n",
       "      <td>5</td>\n",
       "      <td>126</td>\n",
       "      <td>ca_m_3411934_sw_11_1_20120505_20120730</td>\n",
       "      <td>campus_lagoon</td>\n",
       "    </tr>\n",
       "    <tr>\n",
       "      <th>2</th>\n",
       "      <td>POINT (238564.35314380075 3810810.2954679746)</td>\n",
       "      <td>1</td>\n",
       "      <td>0</td>\n",
       "      <td>144</td>\n",
       "      <td>126</td>\n",
       "      <td>119</td>\n",
       "      <td>155</td>\n",
       "      <td>238564.353144</td>\n",
       "      <td>3.810810e+06</td>\n",
       "      <td>2012</td>\n",
       "      <td>5</td>\n",
       "      <td>126</td>\n",
       "      <td>ca_m_3411934_sw_11_1_20120505_20120730</td>\n",
       "      <td>campus_lagoon</td>\n",
       "    </tr>\n",
       "  </tbody>\n",
       "</table>\n",
       "</div>"
      ],
      "text/plain": [
       "                                        geometry  iceplant  polygon_id    r  \\\n",
       "0   POINT (238556.9134408507 3810784.7933008512)         1           0  142   \n",
       "1    POINT (238557.1191380456 3810770.398440421)         1           0  138   \n",
       "2  POINT (238564.35314380075 3810810.2954679746)         1           0  144   \n",
       "\n",
       "     g    b  nir              x             y  year  month  day_in_year  \\\n",
       "0  121  100  173  238556.913441  3.810785e+06  2012      5          126   \n",
       "1  121  104  158  238557.119138  3.810770e+06  2012      5          126   \n",
       "2  126  119  155  238564.353144  3.810810e+06  2012      5          126   \n",
       "\n",
       "                                  naip_id            aoi  \n",
       "0  ca_m_3411934_sw_11_1_20120505_20120730  campus_lagoon  \n",
       "1  ca_m_3411934_sw_11_1_20120505_20120730  campus_lagoon  \n",
       "2  ca_m_3411934_sw_11_1_20120505_20120730  campus_lagoon  "
      ]
     },
     "execution_count": 6,
     "metadata": {},
     "output_type": "execute_result"
    }
   ],
   "source": [
    "df.drop(['Unnamed: 0'],axis=1, inplace=True)\n",
    "df.head(3)"
   ]
  },
  {
   "cell_type": "code",
   "execution_count": 7,
   "id": "80bfdf5e-57d6-4b8e-9c70-17985495957f",
   "metadata": {},
   "outputs": [
    {
     "data": {
      "text/plain": [
       "Index(['geometry', 'iceplant', 'polygon_id', 'r', 'g', 'b', 'nir', 'x', 'y',\n",
       "       'year', 'month', 'day_in_year', 'naip_id', 'aoi'],\n",
       "      dtype='object')"
      ]
     },
     "execution_count": 7,
     "metadata": {},
     "output_type": "execute_result"
    }
   ],
   "source": [
    "df.columns"
   ]
  },
  {
   "cell_type": "code",
   "execution_count": 12,
   "id": "3676e87e-d074-439c-8ce4-ddb59427771a",
   "metadata": {},
   "outputs": [
    {
     "name": "stdout",
     "output_type": "stream",
     "text": [
      "no-iceplant:iceplant ratio     2.4 :1\n",
      "          counts  percentage\n",
      "iceplant                    \n",
      "0         418741       70.21\n",
      "1         177691       29.79\n",
      "\n"
     ]
    }
   ],
   "source": [
    "iceplant_proportions(df.iceplant)"
   ]
  },
  {
   "cell_type": "markdown",
   "id": "944e0ff3-8acc-42a8-b6f1-35dbf8932d62",
   "metadata": {},
   "source": [
    "## Stats about sample distribution among aois and scenes"
   ]
  },
  {
   "cell_type": "code",
   "execution_count": 8,
   "id": "6b34a791-4db3-43b5-a5e1-f1dcbb957eb8",
   "metadata": {},
   "outputs": [
    {
     "data": {
      "text/plain": [
       "point_conception    224311\n",
       "campus_lagoon       168714\n",
       "carpinteria         126141\n",
       "gaviota              77266\n",
       "Name: aoi, dtype: int64"
      ]
     },
     "execution_count": 8,
     "metadata": {},
     "output_type": "execute_result"
    }
   ],
   "source": [
    "#checking all data was loaded\n",
    "df.aoi.value_counts()"
   ]
  },
  {
   "cell_type": "code",
   "execution_count": 9,
   "id": "478f26de-fa69-4964-ac15-b742cefe6450",
   "metadata": {},
   "outputs": [
    {
     "data": {
      "text/plain": [
       "2020    178213\n",
       "2018    157560\n",
       "2014    105826\n",
       "2012     86932\n",
       "2016     67901\n",
       "Name: year, dtype: int64"
      ]
     },
     "execution_count": 9,
     "metadata": {},
     "output_type": "execute_result"
    }
   ],
   "source": [
    "df.year.value_counts()"
   ]
  },
  {
   "cell_type": "code",
   "execution_count": 10,
   "id": "6a0d6fb6-473b-42da-9863-0aa7d5936689",
   "metadata": {},
   "outputs": [
    {
     "data": {
      "text/plain": [
       "ca_m_3412037_nw_10_060_20200607             89506\n",
       "ca_m_3411934_sw_11_060_20180722_20190209    72441\n",
       "ca_m_3412037_nw_10_1_20140603_20141030      62414\n",
       "ca_m_3412037_nw_10_1_20120518_20120730      37126\n",
       "ca_m_3412037_nw_10_060_20180913_20190208    35265\n",
       "ca_m_3411936_se_11_060_20200521             34682\n",
       "ca_m_3411934_sw_11_060_20200521             34267\n",
       "ca_m_3411936_se_11_060_20180724_20190209    30523\n",
       "ca_m_3411934_sw_11_.6_20160713_20161004     26768\n",
       "ca_m_3411936_se_11_.6_20160713_20161004     24108\n",
       "ca_m_3411934_sw_11_1_20120505_20120730      19816\n",
       "ca_m_3412039_nw_10_060_20200522             19758\n",
       "ca_m_3412039_nw_10_060_20180724_20190209    19331\n",
       "ca_m_3411936_se_11_1_20120505_20120730      19020\n",
       "ca_m_3411936_se_11_1_20140901_20141030      17808\n",
       "ca_m_3412039_nw_10_.6_20160616_20161004     17025\n",
       "ca_m_3411934_sw_11_1_20140601_20141030      15422\n",
       "ca_m_3412039_nw_10_1_20120518_20120730      10970\n",
       "ca_m_3412039_nw_10_1_20140603_20141030      10182\n",
       "Name: naip_id, dtype: int64"
      ]
     },
     "execution_count": 10,
     "metadata": {},
     "output_type": "execute_result"
    }
   ],
   "source": [
    "df.naip_id.value_counts()"
   ]
  },
  {
   "cell_type": "code",
   "execution_count": 13,
   "id": "ad48241d-c5b9-4a61-82a2-d5a9e0d46d55",
   "metadata": {},
   "outputs": [
    {
     "data": {
      "text/plain": [
       "19"
      ]
     },
     "execution_count": 13,
     "metadata": {},
     "output_type": "execute_result"
    }
   ],
   "source": [
    "len(df.naip_id.value_counts())"
   ]
  },
  {
   "cell_type": "markdown",
   "id": "057f6341-375d-434b-b99c-4e61fd10e5ec",
   "metadata": {},
   "source": [
    "## Add NDVI feature"
   ]
  },
  {
   "cell_type": "code",
   "execution_count": 16,
   "id": "9e1a49fd-099c-4d19-aaed-60534cccbfec",
   "metadata": {},
   "outputs": [
    {
     "data": {
      "text/html": [
       "<div>\n",
       "<style scoped>\n",
       "    .dataframe tbody tr th:only-of-type {\n",
       "        vertical-align: middle;\n",
       "    }\n",
       "\n",
       "    .dataframe tbody tr th {\n",
       "        vertical-align: top;\n",
       "    }\n",
       "\n",
       "    .dataframe thead th {\n",
       "        text-align: right;\n",
       "    }\n",
       "</style>\n",
       "<table border=\"1\" class=\"dataframe\">\n",
       "  <thead>\n",
       "    <tr style=\"text-align: right;\">\n",
       "      <th></th>\n",
       "      <th>iceplant</th>\n",
       "      <th>r</th>\n",
       "      <th>g</th>\n",
       "      <th>b</th>\n",
       "      <th>nir</th>\n",
       "      <th>year</th>\n",
       "      <th>month</th>\n",
       "      <th>day</th>\n",
       "      <th>naip_id</th>\n",
       "      <th>polygon_id</th>\n",
       "      <th>geometry</th>\n",
       "      <th>lidar</th>\n",
       "      <th>max_lidar</th>\n",
       "      <th>min_lidar</th>\n",
       "      <th>min_max_diff</th>\n",
       "      <th>avg_lidar</th>\n",
       "      <th>day_in_year</th>\n",
       "      <th>aoi</th>\n",
       "      <th>ndvi</th>\n",
       "    </tr>\n",
       "  </thead>\n",
       "  <tbody>\n",
       "    <tr>\n",
       "      <th>0</th>\n",
       "      <td>1</td>\n",
       "      <td>134</td>\n",
       "      <td>125</td>\n",
       "      <td>103</td>\n",
       "      <td>170</td>\n",
       "      <td>2012</td>\n",
       "      <td>5</td>\n",
       "      <td>5</td>\n",
       "      <td>ca_m_3411934_sw_11_1_20120505_20120730</td>\n",
       "      <td>0</td>\n",
       "      <td>POINT (238565.79498225075 3810768.627232482)</td>\n",
       "      <td>2</td>\n",
       "      <td>2</td>\n",
       "      <td>0</td>\n",
       "      <td>2</td>\n",
       "      <td>1.111111</td>\n",
       "      <td>126</td>\n",
       "      <td>campus_lagoon</td>\n",
       "      <td>0.118421</td>\n",
       "    </tr>\n",
       "    <tr>\n",
       "      <th>1</th>\n",
       "      <td>1</td>\n",
       "      <td>130</td>\n",
       "      <td>114</td>\n",
       "      <td>101</td>\n",
       "      <td>164</td>\n",
       "      <td>2012</td>\n",
       "      <td>5</td>\n",
       "      <td>5</td>\n",
       "      <td>ca_m_3411934_sw_11_1_20120505_20120730</td>\n",
       "      <td>0</td>\n",
       "      <td>POINT (238553.15545424985 3810802.7926417096)</td>\n",
       "      <td>2</td>\n",
       "      <td>3</td>\n",
       "      <td>0</td>\n",
       "      <td>3</td>\n",
       "      <td>0.888889</td>\n",
       "      <td>126</td>\n",
       "      <td>campus_lagoon</td>\n",
       "      <td>0.115646</td>\n",
       "    </tr>\n",
       "    <tr>\n",
       "      <th>2</th>\n",
       "      <td>1</td>\n",
       "      <td>132</td>\n",
       "      <td>110</td>\n",
       "      <td>98</td>\n",
       "      <td>160</td>\n",
       "      <td>2012</td>\n",
       "      <td>5</td>\n",
       "      <td>5</td>\n",
       "      <td>ca_m_3411934_sw_11_1_20120505_20120730</td>\n",
       "      <td>0</td>\n",
       "      <td>POINT (238552.77597268307 3810773.0767946127)</td>\n",
       "      <td>1</td>\n",
       "      <td>3</td>\n",
       "      <td>0</td>\n",
       "      <td>3</td>\n",
       "      <td>1.222222</td>\n",
       "      <td>126</td>\n",
       "      <td>campus_lagoon</td>\n",
       "      <td>0.095890</td>\n",
       "    </tr>\n",
       "  </tbody>\n",
       "</table>\n",
       "</div>"
      ],
      "text/plain": [
       "   iceplant    r    g    b  nir  year  month  day  \\\n",
       "0         1  134  125  103  170  2012      5    5   \n",
       "1         1  130  114  101  164  2012      5    5   \n",
       "2         1  132  110   98  160  2012      5    5   \n",
       "\n",
       "                                  naip_id  polygon_id  \\\n",
       "0  ca_m_3411934_sw_11_1_20120505_20120730           0   \n",
       "1  ca_m_3411934_sw_11_1_20120505_20120730           0   \n",
       "2  ca_m_3411934_sw_11_1_20120505_20120730           0   \n",
       "\n",
       "                                        geometry  lidar  max_lidar  min_lidar  \\\n",
       "0   POINT (238565.79498225075 3810768.627232482)      2          2          0   \n",
       "1  POINT (238553.15545424985 3810802.7926417096)      2          3          0   \n",
       "2  POINT (238552.77597268307 3810773.0767946127)      1          3          0   \n",
       "\n",
       "   min_max_diff  avg_lidar  day_in_year            aoi      ndvi  \n",
       "0             2   1.111111          126  campus_lagoon  0.118421  \n",
       "1             3   0.888889          126  campus_lagoon  0.115646  \n",
       "2             3   1.222222          126  campus_lagoon  0.095890  "
      ]
     },
     "execution_count": 16,
     "metadata": {},
     "output_type": "execute_result"
    }
   ],
   "source": [
    "# df['ndvi']=(df.nir.astype('int16') - df.r.astype('int16'))/(df.nir.astype('int16') + df.r.astype('int16'))\n",
    "# df.head(3)"
   ]
  },
  {
   "cell_type": "code",
   "execution_count": 17,
   "id": "e25686b8-bd53-4f96-9022-a96db3ef3d81",
   "metadata": {},
   "outputs": [
    {
     "data": {
      "text/html": [
       "<div>\n",
       "<style scoped>\n",
       "    .dataframe tbody tr th:only-of-type {\n",
       "        vertical-align: middle;\n",
       "    }\n",
       "\n",
       "    .dataframe tbody tr th {\n",
       "        vertical-align: top;\n",
       "    }\n",
       "\n",
       "    .dataframe thead th {\n",
       "        text-align: right;\n",
       "    }\n",
       "</style>\n",
       "<table border=\"1\" class=\"dataframe\">\n",
       "  <thead>\n",
       "    <tr style=\"text-align: right;\">\n",
       "      <th></th>\n",
       "      <th>r</th>\n",
       "      <th>g</th>\n",
       "      <th>b</th>\n",
       "      <th>nir</th>\n",
       "      <th>ndvi</th>\n",
       "      <th>year</th>\n",
       "      <th>month</th>\n",
       "      <th>day_in_year</th>\n",
       "      <th>lidar</th>\n",
       "      <th>max_lidar</th>\n",
       "      <th>min_lidar</th>\n",
       "      <th>min_max_diff</th>\n",
       "      <th>avg_lidar</th>\n",
       "      <th>iceplant</th>\n",
       "      <th>geometry</th>\n",
       "      <th>aoi</th>\n",
       "      <th>naip_id</th>\n",
       "      <th>polygon_id</th>\n",
       "    </tr>\n",
       "  </thead>\n",
       "  <tbody>\n",
       "    <tr>\n",
       "      <th>0</th>\n",
       "      <td>134</td>\n",
       "      <td>125</td>\n",
       "      <td>103</td>\n",
       "      <td>170</td>\n",
       "      <td>0.118421</td>\n",
       "      <td>2012</td>\n",
       "      <td>5</td>\n",
       "      <td>126</td>\n",
       "      <td>2</td>\n",
       "      <td>2</td>\n",
       "      <td>0</td>\n",
       "      <td>2</td>\n",
       "      <td>1.111111</td>\n",
       "      <td>1</td>\n",
       "      <td>POINT (238565.79498225075 3810768.627232482)</td>\n",
       "      <td>campus_lagoon</td>\n",
       "      <td>ca_m_3411934_sw_11_1_20120505_20120730</td>\n",
       "      <td>0</td>\n",
       "    </tr>\n",
       "    <tr>\n",
       "      <th>1</th>\n",
       "      <td>130</td>\n",
       "      <td>114</td>\n",
       "      <td>101</td>\n",
       "      <td>164</td>\n",
       "      <td>0.115646</td>\n",
       "      <td>2012</td>\n",
       "      <td>5</td>\n",
       "      <td>126</td>\n",
       "      <td>2</td>\n",
       "      <td>3</td>\n",
       "      <td>0</td>\n",
       "      <td>3</td>\n",
       "      <td>0.888889</td>\n",
       "      <td>1</td>\n",
       "      <td>POINT (238553.15545424985 3810802.7926417096)</td>\n",
       "      <td>campus_lagoon</td>\n",
       "      <td>ca_m_3411934_sw_11_1_20120505_20120730</td>\n",
       "      <td>0</td>\n",
       "    </tr>\n",
       "    <tr>\n",
       "      <th>2</th>\n",
       "      <td>132</td>\n",
       "      <td>110</td>\n",
       "      <td>98</td>\n",
       "      <td>160</td>\n",
       "      <td>0.095890</td>\n",
       "      <td>2012</td>\n",
       "      <td>5</td>\n",
       "      <td>126</td>\n",
       "      <td>1</td>\n",
       "      <td>3</td>\n",
       "      <td>0</td>\n",
       "      <td>3</td>\n",
       "      <td>1.222222</td>\n",
       "      <td>1</td>\n",
       "      <td>POINT (238552.77597268307 3810773.0767946127)</td>\n",
       "      <td>campus_lagoon</td>\n",
       "      <td>ca_m_3411934_sw_11_1_20120505_20120730</td>\n",
       "      <td>0</td>\n",
       "    </tr>\n",
       "  </tbody>\n",
       "</table>\n",
       "</div>"
      ],
      "text/plain": [
       "     r    g    b  nir      ndvi  year  month  day_in_year  lidar  max_lidar  \\\n",
       "0  134  125  103  170  0.118421  2012      5          126      2          2   \n",
       "1  130  114  101  164  0.115646  2012      5          126      2          3   \n",
       "2  132  110   98  160  0.095890  2012      5          126      1          3   \n",
       "\n",
       "   min_lidar  min_max_diff  avg_lidar  iceplant  \\\n",
       "0          0             2   1.111111         1   \n",
       "1          0             3   0.888889         1   \n",
       "2          0             3   1.222222         1   \n",
       "\n",
       "                                        geometry            aoi  \\\n",
       "0   POINT (238565.79498225075 3810768.627232482)  campus_lagoon   \n",
       "1  POINT (238553.15545424985 3810802.7926417096)  campus_lagoon   \n",
       "2  POINT (238552.77597268307 3810773.0767946127)  campus_lagoon   \n",
       "\n",
       "                                  naip_id  polygon_id  \n",
       "0  ca_m_3411934_sw_11_1_20120505_20120730           0  \n",
       "1  ca_m_3411934_sw_11_1_20120505_20120730           0  \n",
       "2  ca_m_3411934_sw_11_1_20120505_20120730           0  "
      ]
     },
     "execution_count": 17,
     "metadata": {},
     "output_type": "execute_result"
    }
   ],
   "source": [
    "# ORDER COLUMNS\n",
    "\n",
    "df = df[['r','g','b','nir','ndvi',     # spectral\n",
    "         'year','month','day_in_year', # date\n",
    "         'lidar', 'max_lidar', 'min_lidar', 'min_max_diff', 'avg_lidar', # lidar\n",
    "         'iceplant',                  \n",
    "         'geometry',         # point coords (CRS is one from scene in naip_id)\n",
    "         'aoi','naip_id', 'polygon_id']] #\n",
    "df.head(3)"
   ]
  },
  {
   "cell_type": "code",
   "execution_count": 18,
   "id": "a7bfe862-b8c3-4fd1-94a1-3dfce34f127a",
   "metadata": {},
   "outputs": [],
   "source": [
    "df.to_csv(os.path.join(os.getcwd(),'samples_for_model.csv'), index=False)"
   ]
  },
  {
   "cell_type": "code",
   "execution_count": 11,
   "id": "e1ee260d-8842-47af-b45f-1113bde9fb7a",
   "metadata": {},
   "outputs": [],
   "source": [
    "def iceplant_proportions(labels):\n",
    "    unique, counts = np.unique(labels, return_counts=True)\n",
    "    print('no-iceplant:iceplant ratio    ',round(counts[0]/counts[1],1),':1')\n",
    "    n = labels.shape[0]\n",
    "    perc = [round(counts[0]/n*100,2), round(counts[1]/n*100,2)]\n",
    "    df = pd.DataFrame({'iceplant':unique,\n",
    "             'counts':counts,\n",
    "             'percentage':perc}).set_index('iceplant')\n",
    "    print(df)\n",
    "    print()"
   ]
  },
  {
   "cell_type": "code",
   "execution_count": null,
   "id": "2f8d4c4b-e3a3-448c-9b34-032e6871e453",
   "metadata": {},
   "outputs": [],
   "source": []
  }
 ],
 "metadata": {
  "kernelspec": {
   "display_name": "Python 3 (ipykernel)",
   "language": "python",
   "name": "python3"
  },
  "language_info": {
   "codemirror_mode": {
    "name": "ipython",
    "version": 3
   },
   "file_extension": ".py",
   "mimetype": "text/x-python",
   "name": "python",
   "nbconvert_exporter": "python",
   "pygments_lexer": "ipython3",
   "version": "3.8.13"
  }
 },
 "nbformat": 4,
 "nbformat_minor": 5
}
