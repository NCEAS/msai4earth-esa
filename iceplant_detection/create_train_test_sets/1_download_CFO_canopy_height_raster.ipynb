{
 "cells": [
  {
   "cell_type": "markdown",
   "id": "55d5e5fd-da07-4c61-b6c7-9bff43270a9f",
   "metadata": {},
   "source": [
    "# Install CFO API package if not available"
   ]
  },
  {
   "cell_type": "code",
   "execution_count": 2,
   "id": "d000db60-a04b-4f00-9ec5-11a147e880a3",
   "metadata": {},
   "outputs": [],
   "source": [
    "#pip install cfo"
   ]
  },
  {
   "cell_type": "code",
   "execution_count": 3,
   "id": "38b34689-7311-490a-80a6-aaf7c845e6c9",
   "metadata": {},
   "outputs": [],
   "source": [
    "import os\n",
    "import pandas as pd\n",
    "import geopandas as gpd\n",
    "import rioxarray as riox\n",
    "from shapely.geometry import box\n",
    "\n",
    "import json\n",
    "import rasterio\n",
    "from rasterio.mask import mask\n",
    "\n",
    "import matplotlib.pyplot as plt\n",
    "\n",
    "import cfo\n",
    "\n",
    "#https://automating-gis-processes.github.io/CSC18/lessons/L6/clipping-raster.html"
   ]
  },
  {
   "cell_type": "markdown",
   "id": "a0d989c4-75a7-49c4-a27b-30873e63cfbf",
   "metadata": {},
   "source": [
    "# About\n",
    "\n",
    "This notebook uses the California Forest Observatory (CFO) API to download canopy height data for Santa Barbara County from the CFO data repository. See more about the API here:\n",
    "https://github.com/forestobservatory/cfo-api\n",
    "\n",
    "CFO's canopy height data is only available for the years 2016, 2018 and 2020. \n",
    "\n",
    "To use the notebook you will need to create CFO account. "
   ]
  },
  {
   "cell_type": "markdown",
   "id": "bd914fb1-791d-4942-b270-0b297065ca82",
   "metadata": {},
   "source": [
    "# Specify year and fp for canopy height data"
   ]
  },
  {
   "cell_type": "code",
   "execution_count": 5,
   "id": "2b55d4f4-91fa-45bc-a469-6b209092831b",
   "metadata": {},
   "outputs": [],
   "source": [
    "# ************* NOTEBOOK VARIABLES ******************\n",
    "# year shuold be 2016, 2018 or 2020\n",
    "year = 2016\n",
    "\n",
    "# file path where raster will be saved\n",
    "fp = os.path.join(os.getcwd(),\n",
    "                  'SantaBarbaraCounty_lidar',\n",
    "                  'SantaBarbaraCounty_lidar'+str(year)+'.tif')"
   ]
  },
  {
   "cell_type": "markdown",
   "id": "36afe34a-048a-4250-9dfa-36a13b83de9c",
   "metadata": {},
   "source": [
    "# Authenticate "
   ]
  },
  {
   "cell_type": "code",
   "execution_count": 6,
   "id": "993f0c15-06b1-4c71-9db9-3923f94d16b6",
   "metadata": {},
   "outputs": [
    {
     "name": "stdin",
     "output_type": "stream",
     "text": [
      "CFO E-mail:  c_galazgarcia@ucsb.edu\n",
      "CFO Password:  ············\n"
     ]
    },
    {
     "data": {
      "text/plain": [
       "200"
      ]
     },
     "execution_count": 6,
     "metadata": {},
     "output_type": "execute_result"
    }
   ],
   "source": [
    "forest_api = cfo.api()\n",
    "forest_api.authenticate()"
   ]
  },
  {
   "cell_type": "markdown",
   "id": "aeff361b-64dd-4784-988c-0e030b9634d4",
   "metadata": {},
   "source": [
    "# Download and open CA canopy height raster"
   ]
  },
  {
   "cell_type": "code",
   "execution_count": null,
   "id": "cbe95a46-fca4-4616-b8e8-d9850e410254",
   "metadata": {},
   "outputs": [],
   "source": [
    "# find item id\n",
    "ca_canopy_itemid = forest_api.search(geography='California', metric='CanopyHeight', year=year)[0]\n",
    "\n",
    "# filepath to temporary folder\n",
    "ca_canopy_fp = os.path.join(os.getcwd(), \n",
    "                            'temp',\n",
    "                            'ca_canopyheight_'+str(year)+'.tif')\n",
    "\n",
    "# download\n",
    "forest_api.download(ca_canopy_itemid, ca_canopy_fp)\n",
    "\n",
    "# open raster reader\n",
    "ca_canopy = rasterio.open(ca_canopy_fp)"
   ]
  },
  {
   "cell_type": "code",
   "execution_count": 5,
   "id": "dd6f0beb-70e5-4f05-b4e8-a4bd7b8177a4",
   "metadata": {},
   "outputs": [
    {
     "data": {
      "text/plain": [
       "'/home/jovyan/msai4earth-esa/iceplant_detection/model_with_lidar/ca_canopyheight_2016.tif'"
      ]
     },
     "execution_count": 5,
     "metadata": {},
     "output_type": "execute_result"
    }
   ],
   "source": [
    "# year = 2016\n",
    "# ca_canopy_fp = os.path.join(os.getcwd(), 'ca_canopyheight_'+str(year)+'.tif')\n",
    "# ca_canopy_fp"
   ]
  },
  {
   "cell_type": "code",
   "execution_count": null,
   "id": "ca6ddff2-c69d-4df5-9182-102127c0399a",
   "metadata": {},
   "outputs": [],
   "source": [
    "# ca_canopy = riox.open_rasterio(ca_canopy_fp, masked =True)\n",
    "# ca_canopy"
   ]
  },
  {
   "cell_type": "code",
   "execution_count": 6,
   "id": "261dff23-380d-410d-b71a-17f0c3a70cc4",
   "metadata": {},
   "outputs": [],
   "source": [
    "# ca_canopy = rasterio.open(ca_canopy_fp)"
   ]
  },
  {
   "cell_type": "markdown",
   "id": "ec3413f0-723a-4894-a753-9f5c0d2bdabf",
   "metadata": {},
   "source": [
    "# Mask CA canopy height raster with Santa Barbara County bounding box"
   ]
  },
  {
   "cell_type": "code",
   "execution_count": null,
   "id": "4ea57c3c-2081-4789-a022-e9a28ca41e0d",
   "metadata": {},
   "outputs": [],
   "source": [
    "# path to SB county shapefile\n",
    "sb_fp = '/home/jovyan/msai4earth-esa/shapefiles_n_rasters/SB_geometry/SB_only.shp'\n",
    "sb = gpd.read_file(sb_fp)\n",
    "sb = sb.to_crs(ca_canopy.crs)"
   ]
  },
  {
   "cell_type": "code",
   "execution_count": 9,
   "id": "d773c143-9d60-4453-b148-c7e05d2ffff2",
   "metadata": {},
   "outputs": [
    {
     "data": {
      "text/plain": [
       "minx    7.127352e+05\n",
       "miny    3.809115e+06\n",
       "maxx    8.270871e+05\n",
       "maxy    3.889656e+06\n",
       "Name: 0, dtype: float64"
      ]
     },
     "execution_count": 9,
     "metadata": {},
     "output_type": "execute_result"
    }
   ],
   "source": [
    "sb_mainland_bounds = sb.bounds.iloc[0]\n",
    "\n",
    "bbox = box(sb_mainland_bounds.minx,\n",
    "           sb_mainland_bounds.miny,\n",
    "           sb_mainland_bounds.maxx,\n",
    "           sb_mainland_bounds.maxy)\n",
    "#bbox"
   ]
  },
  {
   "cell_type": "code",
   "execution_count": 11,
   "id": "9b3b3144-08f3-4616-8734-7c59e587a9f0",
   "metadata": {},
   "outputs": [
    {
     "data": {
      "text/html": [
       "<div>\n",
       "<style scoped>\n",
       "    .dataframe tbody tr th:only-of-type {\n",
       "        vertical-align: middle;\n",
       "    }\n",
       "\n",
       "    .dataframe tbody tr th {\n",
       "        vertical-align: top;\n",
       "    }\n",
       "\n",
       "    .dataframe thead th {\n",
       "        text-align: right;\n",
       "    }\n",
       "</style>\n",
       "<table border=\"1\" class=\"dataframe\">\n",
       "  <thead>\n",
       "    <tr style=\"text-align: right;\">\n",
       "      <th></th>\n",
       "      <th>geometry</th>\n",
       "    </tr>\n",
       "  </thead>\n",
       "  <tbody>\n",
       "    <tr>\n",
       "      <th>0</th>\n",
       "      <td>POLYGON ((827087.109 3809115.024, 827087.109 3...</td>\n",
       "    </tr>\n",
       "  </tbody>\n",
       "</table>\n",
       "</div>"
      ],
      "text/plain": [
       "                                            geometry\n",
       "0  POLYGON ((827087.109 3809115.024, 827087.109 3..."
      ]
     },
     "execution_count": 11,
     "metadata": {},
     "output_type": "execute_result"
    }
   ],
   "source": [
    "bbox_df = gpd.GeoDataFrame({'geometry':bbox}, index=[0], crs = sb.crs)\n",
    "bbox_df"
   ]
  },
  {
   "cell_type": "code",
   "execution_count": 10,
   "id": "3e5ebdff-c001-4f8a-a6de-5da9fe288436",
   "metadata": {},
   "outputs": [
    {
     "data": {
      "image/svg+xml": [
       "<svg xmlns=\"http://www.w3.org/2000/svg\" xmlns:xlink=\"http://www.w3.org/1999/xlink\" width=\"300\" height=\"300\" viewBox=\"708161.0768244484 3804540.9462045603 123500.11029330594 89689.42208263464\" preserveAspectRatio=\"xMinYMin meet\"><g transform=\"matrix(1,0,0,-1,0,7698771.314491755)\"><path fill-rule=\"evenodd\" fill=\"#66cc99\" stroke=\"#555555\" stroke-width=\"823.3340686220396\" opacity=\"0.6\" d=\"M 827087.108958743,3809115.024363572 L 827087.108958743,3889656.2901281836 L 712735.1549834597,3889656.2901281836 L 712735.1549834597,3809115.024363572 L 827087.108958743,3809115.024363572 z\" /></g></svg>"
      ],
      "text/plain": [
       "<shapely.geometry.polygon.Polygon at 0x7eff6b601550>"
      ]
     },
     "execution_count": 10,
     "metadata": {},
     "output_type": "execute_result"
    }
   ],
   "source": []
  },
  {
   "cell_type": "code",
   "execution_count": 12,
   "id": "277d9f2a-8ade-403d-a777-6cfc04324d40",
   "metadata": {},
   "outputs": [
    {
     "ename": "AttributeError",
     "evalue": "'DatasetReader' object has no attribute 'rio'",
     "output_type": "error",
     "traceback": [
      "\u001b[0;31m---------------------------------------------------------------------------\u001b[0m",
      "\u001b[0;31mAttributeError\u001b[0m                            Traceback (most recent call last)",
      "Input \u001b[0;32mIn [12]\u001b[0m, in \u001b[0;36m<cell line: 1>\u001b[0;34m()\u001b[0m\n\u001b[0;32m----> 1\u001b[0m sb_canopy \u001b[38;5;241m=\u001b[39m \u001b[43mca_canopy\u001b[49m\u001b[38;5;241;43m.\u001b[39;49m\u001b[43mrio\u001b[49m\u001b[38;5;241m.\u001b[39mclip([sb_mainland\u001b[38;5;241m.\u001b[39menvelope], sb\u001b[38;5;241m.\u001b[39mcrs)\n",
      "\u001b[0;31mAttributeError\u001b[0m: 'DatasetReader' object has no attribute 'rio'"
     ]
    }
   ],
   "source": [
    "# sb_canopy = ca_canopy.rio.clip([sb_mainland.envelope], sb.crs)"
   ]
  },
  {
   "cell_type": "code",
   "execution_count": 13,
   "id": "8949d187-f532-48da-b813-73250b8f523e",
   "metadata": {},
   "outputs": [],
   "source": [
    "def getFeatures(gdf):\n",
    "    \"\"\"Function to parse features from GeoDataFrame in such a manner that rasterio wants them\"\"\"\n",
    "    return [json.loads(gdf.to_json())['features'][0]['geometry']]\n"
   ]
  },
  {
   "cell_type": "code",
   "execution_count": 14,
   "id": "3115b22d-e665-43a5-ae7a-1ab41abcf5fe",
   "metadata": {},
   "outputs": [
    {
     "data": {
      "text/plain": [
       "[{'type': 'Polygon',\n",
       "  'coordinates': [[[827087.108958743, 3809115.024363572],\n",
       "    [827087.108958743, 3889656.2901281836],\n",
       "    [712735.1549834597, 3889656.2901281836],\n",
       "    [712735.1549834597, 3809115.024363572],\n",
       "    [827087.108958743, 3809115.024363572]]]}]"
      ]
     },
     "execution_count": 14,
     "metadata": {},
     "output_type": "execute_result"
    }
   ],
   "source": [
    "coords = getFeatures(bbox_df)\n",
    "coords"
   ]
  },
  {
   "cell_type": "code",
   "execution_count": 16,
   "id": "95f08e8b-af2b-4abd-a70f-0e97d82ae9c9",
   "metadata": {},
   "outputs": [],
   "source": [
    "out_img, out_transform = mask(dataset=ca_canopy, shapes=coords, crop=True)"
   ]
  },
  {
   "cell_type": "code",
   "execution_count": 17,
   "id": "c58ade32-020c-4333-a76b-6cc9631a50ff",
   "metadata": {},
   "outputs": [
    {
     "data": {
      "text/plain": [
       "array([[[-9999, -9999, -9999, ...,     0,     0,     0],\n",
       "        [-9999, -9999, -9999, ...,     0,     0,     0],\n",
       "        [-9999, -9999, -9999, ...,     0,     0,     0],\n",
       "        ...,\n",
       "        [-9999, -9999, -9999, ...,     4,     3,     1],\n",
       "        [-9999, -9999, -9999, ...,     3,     3,     1],\n",
       "        [-9999, -9999, -9999, ..., -9999, -9999, -9999]]], dtype=int16)"
      ]
     },
     "execution_count": 17,
     "metadata": {},
     "output_type": "execute_result"
    }
   ],
   "source": [
    "out_img"
   ]
  },
  {
   "cell_type": "code",
   "execution_count": 18,
   "id": "db756ccd-3e60-4621-933a-4c07d659c0d6",
   "metadata": {},
   "outputs": [
    {
     "data": {
      "text/plain": [
       "(8055, 11436)"
      ]
     },
     "execution_count": 18,
     "metadata": {},
     "output_type": "execute_result"
    }
   ],
   "source": [
    "out_img = out_img.squeeze()\n",
    "out_img.shape"
   ]
  },
  {
   "cell_type": "code",
   "execution_count": 19,
   "id": "08dc750a-282b-47b1-af95-768d344194be",
   "metadata": {},
   "outputs": [],
   "source": []
  },
  {
   "cell_type": "code",
   "execution_count": 20,
   "id": "27bab3b1-622e-4a56-853f-9caf0996eea1",
   "metadata": {},
   "outputs": [],
   "source": [
    "with rasterio.open(\n",
    "        fp,  # file path\n",
    "        'w',           # w = write\n",
    "        driver='GTiff', # format\n",
    "        height = out_img.shape[0], \n",
    "        width = out_img.shape[1],\n",
    "        count = 1,  # number of raster bands in the dataset\n",
    "        dtype = 'int16',\n",
    "        crs = sb.crs,\n",
    "        transform = out_transform,\n",
    ") as dst:\n",
    "    dst.write(out_img, 1)"
   ]
  },
  {
   "cell_type": "code",
   "execution_count": 22,
   "id": "b93b285f-3146-44cc-838f-b53db7378e85",
   "metadata": {},
   "outputs": [],
   "source": [
    "clip = rasterio.open(fp).read([1]).squeeze()"
   ]
  },
  {
   "cell_type": "code",
   "execution_count": 24,
   "id": "5113bc17-24a5-483e-b29c-9120ecab61a8",
   "metadata": {},
   "outputs": [
    {
     "data": {
      "image/png": "[encoded data removed]",
      "text/plain": [
       "<Figure size 1080x1080 with 1 Axes>"
      ]
     },
     "metadata": {
      "needs_background": "light"
     },
     "output_type": "display_data"
    }
   ],
   "source": [
    "fig, ax = plt.subplots(figsize=(15, 15))\n",
    "ax.imshow(clip)\n",
    "plt.show()"
   ]
  },
  {
   "cell_type": "code",
   "execution_count": null,
   "id": "5d7c563b-738d-43f5-8935-cb767735f0ab",
   "metadata": {},
   "outputs": [],
   "source": [
    "os.reomve(ca_canopy_fp)"
   ]
  },
  {
   "cell_type": "code",
   "execution_count": null,
   "id": "b3035623-41e6-4b61-8871-74cbe03a604d",
   "metadata": {},
   "outputs": [],
   "source": [
    "#from osgeo import gdal"
   ]
  },
  {
   "cell_type": "code",
   "execution_count": null,
   "id": "7b25f3e9-bd80-4ece-8f0b-ea2f0e1fdc6f",
   "metadata": {},
   "outputs": [],
   "source": []
  },
  {
   "cell_type": "code",
   "execution_count": null,
   "id": "2d3bc3e2-026b-41f2-a020-e8c1575add1e",
   "metadata": {},
   "outputs": [],
   "source": []
  }
 ],
 "metadata": {
  "kernelspec": {
   "display_name": "Python 3 (ipykernel)",
   "language": "python",
   "name": "python3"
  },
  "language_info": {
   "codemirror_mode": {
    "name": "ipython",
    "version": 3
   },
   "file_extension": ".py",
   "mimetype": "text/x-python",
   "name": "python",
   "nbconvert_exporter": "python",
   "pygments_lexer": "ipython3",
   "version": "3.8.13"
  }
 },
 "nbformat": 4,
 "nbformat_minor": 5
}
