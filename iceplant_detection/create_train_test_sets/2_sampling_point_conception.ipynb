{
 "cells": [
  {
   "cell_type": "code",
   "execution_count": 1,
   "id": "4d21b9a0-c9a8-44fb-9f3f-b07fa5cf2a68",
   "metadata": {
    "collapsed": true,
    "jupyter": {
     "outputs_hidden": true
    }
   },
   "outputs": [],
   "source": [
    "import numpy as np\n",
    "import pandas as pd\n",
    "import matplotlib.pyplot as plt\n",
    "\n",
    "import os\n",
    "import geopandas as gpd\n",
    "\n",
    "import extracting_points_from_polygons as pp"
   ]
  },
  {
   "cell_type": "code",
   "execution_count": 2,
   "id": "5b948ba8-5ebb-4bc7-a7eb-faa920d634b8",
   "metadata": {
    "collapsed": true,
    "jupyter": {
     "outputs_hidden": true
    }
   },
   "outputs": [],
   "source": [
    "def iceplant_proportions(labels):\n",
    "    unique, counts = np.unique(labels, return_counts=True)\n",
    "    print('no-iceplant:iceplant ratio    ',round(counts[0]/counts[1],1),':1')\n",
    "    n = labels.shape[0]\n",
    "    perc = [round(counts[0]/n*100,2), round(counts[1]/n*100,2)]\n",
    "    df = pd.DataFrame({'iceplant':unique,\n",
    "             'counts':counts,\n",
    "             'percentage':perc}).set_index('iceplant')\n",
    "    print(df)\n",
    "    print()"
   ]
  },
  {
   "cell_type": "code",
   "execution_count": 3,
   "id": "23a1d84e-4b5d-4606-aea2-a14747078dd6",
   "metadata": {
    "tags": []
   },
   "outputs": [],
   "source": [
    "aoi = 'point_conception'"
   ]
  },
  {
   "cell_type": "markdown",
   "id": "c2a05253-ada9-4ee8-911a-0199229ca7b6",
   "metadata": {},
   "source": [
    "# Sample 2012\n",
    "1. Iceplant 80% of points in polygons\n",
    "2. Non-iceplant 80% of small ones up to 1500 pixels"
   ]
  },
  {
   "cell_type": "code",
   "execution_count": 16,
   "id": "fe370a44-d3b2-4099-85e3-5f69fd15b727",
   "metadata": {
    "collapsed": true,
    "jupyter": {
     "outputs_hidden": true
    }
   },
   "outputs": [],
   "source": [
    "fp = pp.path_to_polygons(aoi,2012)\n",
    "polys12 = gpd.read_file(fp)"
   ]
  },
  {
   "cell_type": "code",
   "execution_count": 17,
   "id": "1be67d3d-b04e-42f3-b51c-288749fbad0a",
   "metadata": {
    "collapsed": true,
    "jupyter": {
     "outputs_hidden": true
    }
   },
   "outputs": [
    {
     "name": "stdout",
     "output_type": "stream",
     "text": [
      "14518\n"
     ]
    },
    {
     "data": {
      "text/plain": [
       "6     1170\n",
       "14    1079\n",
       "13     839\n",
       "15     824\n",
       "0      786\n",
       "22     756\n",
       "1      672\n",
       "4      671\n",
       "8      581\n",
       "21     563\n",
       "2      531\n",
       "24     500\n",
       "17     469\n",
       "27     463\n",
       "18     427\n",
       "29     410\n",
       "9      406\n",
       "7      396\n",
       "16     381\n",
       "23     359\n",
       "5      326\n",
       "10     318\n",
       "19     310\n",
       "3      272\n",
       "20     238\n",
       "25     209\n",
       "11     174\n",
       "28     168\n",
       "12     165\n",
       "26      55\n",
       "Name: polygon_id, dtype: int64"
      ]
     },
     "execution_count": 17,
     "metadata": {},
     "output_type": "execute_result"
    }
   ],
   "source": [
    "polys_ice12 = polys12.loc[polys12.iceplant==1]\n",
    "polys_ice12.reset_index(inplace=True, drop=True)\n",
    "pts_ice12 = pp.naip_sample_proportion_no_warnings(polys_ice12, polys12.naip_id[0], 0.9)\n",
    "\n",
    "print(pts_ice12.shape[0])\n",
    "pts_ice12.polygon_id.value_counts()"
   ]
  },
  {
   "cell_type": "code",
   "execution_count": 18,
   "id": "638716d3-d779-4be2-bec7-db2076c05dd3",
   "metadata": {
    "collapsed": true,
    "jupyter": {
     "outputs_hidden": true
    }
   },
   "outputs": [
    {
     "name": "stdout",
     "output_type": "stream",
     "text": [
      "22608\n"
     ]
    },
    {
     "data": {
      "text/plain": [
       "42    1500\n",
       "47    1500\n",
       "46    1500\n",
       "38    1500\n",
       "41    1500\n",
       "40    1500\n",
       "32    1500\n",
       "43    1465\n",
       "48    1403\n",
       "35    1374\n",
       "44    1345\n",
       "37    1038\n",
       "39    1036\n",
       "49     999\n",
       "33     846\n",
       "36     757\n",
       "45     658\n",
       "31     438\n",
       "30     405\n",
       "34     344\n",
       "Name: polygon_id, dtype: int64"
      ]
     },
     "execution_count": 18,
     "metadata": {},
     "output_type": "execute_result"
    }
   ],
   "source": [
    "polys_nonice12 = polys12.loc[polys12.iceplant==0]\n",
    "polys_nonice12.reset_index(inplace=True, drop=True)\n",
    "pts_nonice12 = pp.naip_sample_sliding_no_warnings(polys_nonice12, polys12.naip_id[0], 0.9, 1500)\n",
    "\n",
    "print(pts_nonice12.shape[0])\n",
    "pts_nonice12.polygon_id.value_counts()"
   ]
  },
  {
   "cell_type": "code",
   "execution_count": 19,
   "id": "3016ffa2-40c7-473e-a43d-c8db81572b36",
   "metadata": {
    "tags": []
   },
   "outputs": [
    {
     "name": "stdout",
     "output_type": "stream",
     "text": [
      "no-iceplant:iceplant ratio     1.6 :1\n",
      "          counts  percentage\n",
      "iceplant                    \n",
      "0          22608        60.9\n",
      "1          14518        39.1\n",
      "\n"
     ]
    }
   ],
   "source": [
    "pts12 = pd.concat([pts_ice12,pts_nonice12])\n",
    "pts12['aoi'] = aoi\n",
    "iceplant_proportions(pts12.iceplant)"
   ]
  },
  {
   "cell_type": "markdown",
   "id": "ffef6b3f-d131-406f-8338-e84e337d9f4e",
   "metadata": {},
   "source": [
    "# Sample 2014"
   ]
  },
  {
   "cell_type": "code",
   "execution_count": 12,
   "id": "57bbd795-4518-49f7-82eb-bc05add2d72e",
   "metadata": {
    "collapsed": true,
    "jupyter": {
     "outputs_hidden": true
    }
   },
   "outputs": [],
   "source": [
    "fp = pp.path_to_polygons(aoi,2014)\n",
    "polys14 = gpd.read_file(fp)"
   ]
  },
  {
   "cell_type": "code",
   "execution_count": 13,
   "id": "91daddbb-67eb-461f-a493-a37ab0b04ed4",
   "metadata": {
    "collapsed": true,
    "jupyter": {
     "outputs_hidden": true
    },
    "tags": []
   },
   "outputs": [
    {
     "name": "stdout",
     "output_type": "stream",
     "text": [
      "22942\n"
     ]
    },
    {
     "data": {
      "text/plain": [
       "53    2715\n",
       "6     2331\n",
       "10    1615\n",
       "54    1544\n",
       "23    1280\n",
       "1     1231\n",
       "4     1137\n",
       "18    1016\n",
       "20    1006\n",
       "5     1003\n",
       "15     940\n",
       "3      825\n",
       "13     732\n",
       "16     677\n",
       "19     602\n",
       "21     574\n",
       "7      571\n",
       "2      471\n",
       "0      446\n",
       "9      439\n",
       "12     373\n",
       "17     336\n",
       "11     311\n",
       "22     308\n",
       "8      231\n",
       "14     228\n",
       "Name: polygon_id, dtype: int64"
      ]
     },
     "execution_count": 13,
     "metadata": {},
     "output_type": "execute_result"
    }
   ],
   "source": [
    "polys_ice14 = polys14.loc[polys14.iceplant==1]\n",
    "polys_ice14.reset_index(inplace=True, drop=True)\n",
    "pts_ice14 = pp.naip_sample_proportion_no_warnings(polys_ice14, polys14.naip_id[0], 0.9)\n",
    "\n",
    "print(pts_ice14.shape[0])\n",
    "pts_ice14.polygon_id.value_counts()"
   ]
  },
  {
   "cell_type": "code",
   "execution_count": 14,
   "id": "d49a296d-7c96-44e3-9772-83fe8f2dbe5c",
   "metadata": {
    "collapsed": true,
    "jupyter": {
     "outputs_hidden": true
    }
   },
   "outputs": [
    {
     "name": "stdout",
     "output_type": "stream",
     "text": [
      "38587\n"
     ]
    },
    {
     "data": {
      "text/plain": [
       "55    1500\n",
       "43    1500\n",
       "44    1500\n",
       "35    1500\n",
       "36    1500\n",
       "34    1500\n",
       "57    1500\n",
       "42    1500\n",
       "31    1500\n",
       "41    1500\n",
       "38    1500\n",
       "45    1500\n",
       "49    1500\n",
       "47    1500\n",
       "46    1500\n",
       "51    1500\n",
       "50    1500\n",
       "52    1500\n",
       "48    1500\n",
       "40    1500\n",
       "56    1500\n",
       "37    1324\n",
       "30    1275\n",
       "39    1003\n",
       "26     898\n",
       "32     844\n",
       "27     556\n",
       "29     501\n",
       "28     244\n",
       "33     241\n",
       "25     137\n",
       "24      64\n",
       "Name: polygon_id, dtype: int64"
      ]
     },
     "execution_count": 14,
     "metadata": {},
     "output_type": "execute_result"
    }
   ],
   "source": [
    "polys_nonice14 = polys14.loc[polys14.iceplant==0]\n",
    "polys_nonice14.reset_index(inplace=True, drop=True)\n",
    "pts_nonice14 = pp.naip_sample_sliding_no_warnings(polys_nonice14, polys14.naip_id[0], 0.8, 1500)\n",
    "\n",
    "print(pts_nonice14.shape[0])\n",
    "pts_nonice14.polygon_id.value_counts()"
   ]
  },
  {
   "cell_type": "code",
   "execution_count": 15,
   "id": "0c654330-c855-4eff-b072-bd3cb6adca85",
   "metadata": {
    "collapsed": true,
    "jupyter": {
     "outputs_hidden": true
    }
   },
   "outputs": [
    {
     "name": "stdout",
     "output_type": "stream",
     "text": [
      "no-iceplant:iceplant ratio     1.7 :1\n",
      "          counts  percentage\n",
      "iceplant                    \n",
      "0          38587       62.71\n",
      "1          22942       37.29\n",
      "\n"
     ]
    }
   ],
   "source": [
    "pts14 = pd.concat([pts_ice14,pts_nonice14])\n",
    "pts14['aoi']=aoi\n",
    "iceplant_proportions(pts14.iceplant)"
   ]
  },
  {
   "cell_type": "markdown",
   "id": "70e77914-6a2c-4c4e-9ff5-691cdcdf4440",
   "metadata": {},
   "source": [
    "## Sampling 2018"
   ]
  },
  {
   "cell_type": "code",
   "execution_count": 4,
   "id": "8b6b22d2-a430-4679-999c-ee8c75ff99ed",
   "metadata": {
    "tags": []
   },
   "outputs": [],
   "source": [
    "fp = pp.path_to_polygons(aoi,2018)\n",
    "polys18 = gpd.read_file(fp)"
   ]
  },
  {
   "cell_type": "code",
   "execution_count": 5,
   "id": "59e044d2-976e-4369-9e45-27bfc303a22d",
   "metadata": {
    "collapsed": true,
    "jupyter": {
     "outputs_hidden": true
    }
   },
   "outputs": [
    {
     "name": "stdout",
     "output_type": "stream",
     "text": [
      "9512\n"
     ]
    },
    {
     "data": {
      "text/plain": [
       "23    849\n",
       "35    740\n",
       "24    680\n",
       "25    602\n",
       "30    552\n",
       "40    438\n",
       "43    429\n",
       "44    409\n",
       "34    398\n",
       "32    353\n",
       "26    334\n",
       "27    334\n",
       "42    316\n",
       "41    268\n",
       "36    268\n",
       "22    251\n",
       "20    249\n",
       "21    249\n",
       "47    247\n",
       "46    235\n",
       "28    217\n",
       "39    207\n",
       "31    182\n",
       "29    181\n",
       "19    144\n",
       "38    135\n",
       "33    105\n",
       "37     97\n",
       "45     43\n",
       "Name: polygon_id, dtype: int64"
      ]
     },
     "execution_count": 5,
     "metadata": {},
     "output_type": "execute_result"
    }
   ],
   "source": [
    "polys_ice18 = polys18.loc[polys18.iceplant==1]\n",
    "polys_ice18.reset_index(inplace=True, drop=True)\n",
    "pts_ice18 = pp.naip_sample_proportion_no_warnings(polys_ice18, \n",
    "                                                  polys18.naip_id[0], \n",
    "                                                  0.8, \n",
    "                                                  aoi)\n",
    "\n",
    "print(pts_ice18.shape[0])\n",
    "pts_ice18.polygon_id.value_counts()"
   ]
  },
  {
   "cell_type": "code",
   "execution_count": 6,
   "id": "f63b22f0-a4c1-4b90-9806-1ae8ebd0bf13",
   "metadata": {
    "collapsed": true,
    "jupyter": {
     "outputs_hidden": true
    },
    "tags": []
   },
   "outputs": [
    {
     "name": "stdout",
     "output_type": "stream",
     "text": [
      "23869\n"
     ]
    },
    {
     "data": {
      "text/plain": [
       "12    1500\n",
       "18    1500\n",
       "8     1500\n",
       "16    1500\n",
       "15    1500\n",
       "3     1500\n",
       "7     1500\n",
       "10    1500\n",
       "14    1500\n",
       "11    1500\n",
       "13    1500\n",
       "9     1500\n",
       "5     1369\n",
       "1     1207\n",
       "2      972\n",
       "17     936\n",
       "6      645\n",
       "0      404\n",
       "4      336\n",
       "Name: polygon_id, dtype: int64"
      ]
     },
     "execution_count": 6,
     "metadata": {},
     "output_type": "execute_result"
    }
   ],
   "source": [
    "polys_nonice18 = polys18.loc[polys18.iceplant==0]\n",
    "polys_nonice18.reset_index(inplace=True, drop=True)\n",
    "pts_nonice18 = pp.naip_sample_sliding_no_warnings(polys_nonice18, \n",
    "                                                  polys18.naip_id[0], \n",
    "                                                  0.8, \n",
    "                                                  1500)\n",
    "\n",
    "print(pts_nonice18.shape[0])\n",
    "pts_nonice18.polygon_id.value_counts()"
   ]
  },
  {
   "cell_type": "code",
   "execution_count": 7,
   "id": "65ae3d58-ea38-4799-a647-d203c20d8e93",
   "metadata": {
    "collapsed": true,
    "jupyter": {
     "outputs_hidden": true
    }
   },
   "outputs": [
    {
     "name": "stdout",
     "output_type": "stream",
     "text": [
      "no-iceplant:iceplant ratio     2.5 :1\n",
      "          counts  percentage\n",
      "iceplant                    \n",
      "0          23869        71.5\n",
      "1           9512        28.5\n",
      "\n"
     ]
    }
   ],
   "source": [
    "pts18 = pd.concat([pts_ice18,pts_nonice18])\n",
    "pts18['aoi']=aoi\n",
    "iceplant_proportions(pts18.iceplant)"
   ]
  },
  {
   "cell_type": "markdown",
   "id": "3e9d54a7-0fac-40da-8b06-65be2b498089",
   "metadata": {},
   "source": [
    "# Sample 2020"
   ]
  },
  {
   "cell_type": "code",
   "execution_count": 8,
   "id": "9def681d-25c2-4ab4-a39e-9e9ec6941778",
   "metadata": {
    "collapsed": true,
    "jupyter": {
     "outputs_hidden": true
    }
   },
   "outputs": [],
   "source": [
    "fp = pp.path_to_polygons(aoi,2020)\n",
    "polys20 = gpd.read_file(fp)"
   ]
  },
  {
   "cell_type": "code",
   "execution_count": 9,
   "id": "5a7f383a-7ee3-4a1a-8a54-2f12b959422f",
   "metadata": {
    "collapsed": true,
    "jupyter": {
     "outputs_hidden": true
    }
   },
   "outputs": [
    {
     "name": "stdout",
     "output_type": "stream",
     "text": [
      "49314\n"
     ]
    },
    {
     "data": {
      "text/plain": [
       "15    12883\n",
       "16     6009\n",
       "14     5930\n",
       "10     3441\n",
       "3      3001\n",
       "5      2516\n",
       "1      2459\n",
       "2      2092\n",
       "9      2026\n",
       "6      1858\n",
       "0      1475\n",
       "4      1365\n",
       "12     1216\n",
       "8      1138\n",
       "11      591\n",
       "36      590\n",
       "7       443\n",
       "13      281\n",
       "Name: polygon_id, dtype: int64"
      ]
     },
     "execution_count": 9,
     "metadata": {},
     "output_type": "execute_result"
    }
   ],
   "source": [
    "polys_ice20 = polys20.loc[polys20.iceplant==1]\n",
    "polys_ice20.reset_index(inplace=True, drop=True)\n",
    "pts_ice20 = pp.naip_sample_proportion_no_warnings(polys_ice20, polys20.naip_id[0], 0.7)\n",
    "\n",
    "print(pts_ice20.shape[0])\n",
    "pts_ice20.polygon_id.value_counts()"
   ]
  },
  {
   "cell_type": "code",
   "execution_count": 10,
   "id": "f43fb460-f4ae-4eeb-bd57-bd36804b8d67",
   "metadata": {
    "collapsed": true,
    "jupyter": {
     "outputs_hidden": true
    }
   },
   "outputs": [
    {
     "name": "stdout",
     "output_type": "stream",
     "text": [
      "26100\n"
     ]
    },
    {
     "data": {
      "text/plain": [
       "34    1500\n",
       "23    1500\n",
       "30    1500\n",
       "27    1500\n",
       "21    1500\n",
       "20    1500\n",
       "28    1500\n",
       "35    1500\n",
       "29    1500\n",
       "24    1500\n",
       "25    1500\n",
       "26    1500\n",
       "32    1500\n",
       "33    1500\n",
       "31    1500\n",
       "17    1401\n",
       "22     902\n",
       "18     814\n",
       "19     483\n",
       "Name: polygon_id, dtype: int64"
      ]
     },
     "execution_count": 10,
     "metadata": {},
     "output_type": "execute_result"
    }
   ],
   "source": [
    "polys_nonice20 = polys20.loc[polys20.iceplant==0]\n",
    "polys_nonice20.reset_index(inplace=True, drop=True)\n",
    "pts_nonice20 = pp.naip_sample_sliding_no_warnings(polys_nonice20, polys20.naip_id[0], 0.9, 1500)\n",
    "\n",
    "print(pts_nonice20.shape[0])\n",
    "pts_nonice20.polygon_id.value_counts()"
   ]
  },
  {
   "cell_type": "code",
   "execution_count": 11,
   "id": "90e558d2-e45e-4d16-8deb-9efda6183826",
   "metadata": {
    "collapsed": true,
    "jupyter": {
     "outputs_hidden": true
    }
   },
   "outputs": [
    {
     "name": "stdout",
     "output_type": "stream",
     "text": [
      "no-iceplant:iceplant ratio     0.5 :1\n",
      "          counts  percentage\n",
      "iceplant                    \n",
      "0          26100       34.61\n",
      "1          49314       65.39\n",
      "\n"
     ]
    }
   ],
   "source": [
    "pts20 = pd.concat([pts_ice20,pts_nonice20])\n",
    "pts20['aoi']=aoi\n",
    "iceplant_proportions(pts20.iceplant)"
   ]
  },
  {
   "cell_type": "code",
   "execution_count": 20,
   "id": "7c950ba6-30b6-466b-ab19-1b3eccceaf9f",
   "metadata": {
    "collapsed": true,
    "jupyter": {
     "outputs_hidden": true
    }
   },
   "outputs": [],
   "source": [
    "pts = [pts12,pts14,pts18,pts20]\n",
    "years = [2012,2014,2018,2020]\n",
    "for i in range(0,4):\n",
    "    fp = pp.path_points_csv(aoi,years[i])\n",
    "    pts[i].to_csv(fp)"
   ]
  },
  {
   "cell_type": "code",
   "execution_count": null,
   "id": "ef090a4a-cbba-4f5b-b036-98f851f462ae",
   "metadata": {
    "collapsed": true,
    "jupyter": {
     "outputs_hidden": true
    }
   },
   "outputs": [],
   "source": []
  }
 ],
 "metadata": {
  "kernelspec": {
   "display_name": "Python 3 (ipykernel)",
   "language": "python",
   "name": "python3"
  },
  "language_info": {
   "codemirror_mode": {
    "name": "ipython",
    "version": 3
   },
   "file_extension": ".py",
   "mimetype": "text/x-python",
   "name": "python",
   "nbconvert_exporter": "python",
   "pygments_lexer": "ipython3",
   "version": "3.8.13"
  }
 },
 "nbformat": 4,
 "nbformat_minor": 5
}
