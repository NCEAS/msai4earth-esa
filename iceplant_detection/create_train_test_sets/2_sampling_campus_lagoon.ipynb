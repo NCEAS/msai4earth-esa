{
 "cells": [
  {
   "cell_type": "code",
   "execution_count": 7,
   "id": "4d21b9a0-c9a8-44fb-9f3f-b07fa5cf2a68",
   "metadata": {
    "tags": []
   },
   "outputs": [],
   "source": [
    "import numpy as np\n",
    "import pandas as pd\n",
    "import matplotlib.pyplot as plt\n",
    "\n",
    "import os\n",
    "import geopandas as gpd\n",
    "\n",
    "import extracting_points_from_polygons as pp"
   ]
  },
  {
   "cell_type": "code",
   "execution_count": 8,
   "id": "23a1d84e-4b5d-4606-aea2-a14747078dd6",
   "metadata": {
    "tags": []
   },
   "outputs": [],
   "source": [
    "aoi = 'campus_lagoon'"
   ]
  },
  {
   "cell_type": "markdown",
   "id": "c2a05253-ada9-4ee8-911a-0199229ca7b6",
   "metadata": {},
   "source": [
    "# Sample 2012\n",
    "1. Iceplant 80% of points in polygons\n",
    "2. Non-iceplant 80% of small ones up to 1500 pixels\n"
   ]
  },
  {
   "cell_type": "code",
   "execution_count": 16,
   "id": "fe370a44-d3b2-4099-85e3-5f69fd15b727",
   "metadata": {
    "collapsed": true,
    "jupyter": {
     "outputs_hidden": true
    }
   },
   "outputs": [],
   "source": [
    "fp = pp.path_to_polygons(aoi,2012)\n",
    "polys12 = gpd.read_file(fp)"
   ]
  },
  {
   "cell_type": "code",
   "execution_count": 17,
   "id": "1be67d3d-b04e-42f3-b51c-288749fbad0a",
   "metadata": {
    "collapsed": true,
    "jupyter": {
     "outputs_hidden": true
    }
   },
   "outputs": [
    {
     "name": "stdout",
     "output_type": "stream",
     "text": [
      "4013\n"
     ]
    },
    {
     "data": {
      "text/plain": [
       "0     1384\n",
       "1      774\n",
       "9      394\n",
       "2      323\n",
       "6      257\n",
       "8      188\n",
       "7      165\n",
       "3      149\n",
       "5      141\n",
       "10     119\n",
       "4       67\n",
       "11      52\n",
       "Name: polygon_id, dtype: int64"
      ]
     },
     "execution_count": 17,
     "metadata": {},
     "output_type": "execute_result"
    }
   ],
   "source": [
    "polys_ice12 = polys12.loc[polys12.iceplant==1]\n",
    "polys_ice12.reset_index(inplace=True, drop=True)\n",
    "pts_ice12 = pp.naip_sample_proportion_no_warnings(polys_ice12, polys12.naip_id[0], 0.9)\n",
    "\n",
    "print(pts_ice12.shape[0])\n",
    "pts_ice12.polygon_id.value_counts()"
   ]
  },
  {
   "cell_type": "code",
   "execution_count": 18,
   "id": "638716d3-d779-4be2-bec7-db2076c05dd3",
   "metadata": {
    "collapsed": true,
    "jupyter": {
     "outputs_hidden": true
    }
   },
   "outputs": [
    {
     "name": "stdout",
     "output_type": "stream",
     "text": [
      "15803\n"
     ]
    },
    {
     "data": {
      "text/plain": [
       "20    1500\n",
       "13    1422\n",
       "29    1206\n",
       "15    1107\n",
       "12    1106\n",
       "14    1096\n",
       "32     753\n",
       "33     735\n",
       "30     681\n",
       "27     675\n",
       "21     626\n",
       "28     580\n",
       "18     580\n",
       "16     553\n",
       "31     514\n",
       "17     494\n",
       "25     429\n",
       "23     424\n",
       "24     402\n",
       "26     360\n",
       "19     290\n",
       "22     270\n",
       "Name: polygon_id, dtype: int64"
      ]
     },
     "execution_count": 18,
     "metadata": {},
     "output_type": "execute_result"
    }
   ],
   "source": [
    "polys_nonice12 = polys12.loc[polys12.iceplant==0]\n",
    "polys_nonice12.reset_index(inplace=True, drop=True)\n",
    "pts_nonice12 = pp.naip_sample_sliding_no_warnings(polys_nonice12, polys12.naip_id[0], 0.9, 1500)\n",
    "\n",
    "print(pts_nonice12.shape[0])\n",
    "pts_nonice12.polygon_id.value_counts()"
   ]
  },
  {
   "cell_type": "code",
   "execution_count": 19,
   "id": "3016ffa2-40c7-473e-a43d-c8db81572b36",
   "metadata": {
    "collapsed": true,
    "jupyter": {
     "outputs_hidden": true
    }
   },
   "outputs": [
    {
     "name": "stdout",
     "output_type": "stream",
     "text": [
      "no-iceplant:iceplant ratio     3.9 :1\n",
      "          counts  percentage\n",
      "iceplant                    \n",
      "0          15803       79.75\n",
      "1           4013       20.25\n",
      "\n"
     ]
    }
   ],
   "source": [
    "pts12 = pd.concat([pts_ice12,pts_nonice12])\n",
    "pp.iceplant_proportions(pts12.iceplant)"
   ]
  },
  {
   "cell_type": "markdown",
   "id": "ffef6b3f-d131-406f-8338-e84e337d9f4e",
   "metadata": {},
   "source": [
    "# Sample 2014"
   ]
  },
  {
   "cell_type": "code",
   "execution_count": 12,
   "id": "57bbd795-4518-49f7-82eb-bc05add2d72e",
   "metadata": {
    "collapsed": true,
    "jupyter": {
     "outputs_hidden": true
    }
   },
   "outputs": [],
   "source": [
    "fp = pp.path_to_polygons(aoi,2014)\n",
    "polys14 = gpd.read_file(fp)"
   ]
  },
  {
   "cell_type": "code",
   "execution_count": 13,
   "id": "91daddbb-67eb-461f-a493-a37ab0b04ed4",
   "metadata": {
    "collapsed": true,
    "jupyter": {
     "outputs_hidden": true
    }
   },
   "outputs": [
    {
     "name": "stdout",
     "output_type": "stream",
     "text": [
      "2413\n"
     ]
    },
    {
     "data": {
      "text/plain": [
       "0     789\n",
       "7     286\n",
       "1     271\n",
       "10    250\n",
       "4     191\n",
       "5     170\n",
       "2     133\n",
       "6     133\n",
       "3     118\n",
       "8      44\n",
       "9      28\n",
       "Name: polygon_id, dtype: int64"
      ]
     },
     "execution_count": 13,
     "metadata": {},
     "output_type": "execute_result"
    }
   ],
   "source": [
    "polys_ice14 = polys14.loc[polys14.iceplant==1]\n",
    "polys_ice14.reset_index(inplace=True, drop=True)\n",
    "pts_ice14 = pp.naip_sample_proportion_no_warnings(polys_ice14, polys14.naip_id[0], 0.9)\n",
    "\n",
    "print(pts_ice14.shape[0])\n",
    "pts_ice14.polygon_id.value_counts()"
   ]
  },
  {
   "cell_type": "code",
   "execution_count": 14,
   "id": "d49a296d-7c96-44e3-9772-83fe8f2dbe5c",
   "metadata": {
    "collapsed": true,
    "jupyter": {
     "outputs_hidden": true
    }
   },
   "outputs": [
    {
     "name": "stdout",
     "output_type": "stream",
     "text": [
      "12065\n"
     ]
    },
    {
     "data": {
      "text/plain": [
       "22    1500\n",
       "24    1500\n",
       "23    1500\n",
       "21    1320\n",
       "17     827\n",
       "16     815\n",
       "11     731\n",
       "19     721\n",
       "13     683\n",
       "12     656\n",
       "20     602\n",
       "18     554\n",
       "14     475\n",
       "15     181\n",
       "Name: polygon_id, dtype: int64"
      ]
     },
     "execution_count": 14,
     "metadata": {},
     "output_type": "execute_result"
    }
   ],
   "source": [
    "polys_nonice14 = polys14.loc[polys14.iceplant==0]\n",
    "polys_nonice14.reset_index(inplace=True, drop=True)\n",
    "pts_nonice14 = pp.naip_sample_sliding_no_warnings(polys_nonice14, polys14.naip_id[0], 0.8, 1500)\n",
    "\n",
    "print(pts_nonice14.shape[0])\n",
    "pts_nonice14.polygon_id.value_counts()"
   ]
  },
  {
   "cell_type": "code",
   "execution_count": 15,
   "id": "0c654330-c855-4eff-b072-bd3cb6adca85",
   "metadata": {
    "collapsed": true,
    "jupyter": {
     "outputs_hidden": true
    }
   },
   "outputs": [
    {
     "name": "stdout",
     "output_type": "stream",
     "text": [
      "no-iceplant:iceplant ratio     5.0 :1\n",
      "          counts  percentage\n",
      "iceplant                    \n",
      "0          12065       83.33\n",
      "1           2413       16.67\n",
      "\n"
     ]
    }
   ],
   "source": [
    "pts14 = pd.concat([pts_ice14,pts_nonice14])\n",
    "pp.iceplant_proportions(pts14.iceplant)"
   ]
  },
  {
   "cell_type": "markdown",
   "id": "723ca1b4-a819-4698-8e6a-da8b7078b588",
   "metadata": {},
   "source": [
    "# Sample 2016"
   ]
  },
  {
   "cell_type": "code",
   "execution_count": 9,
   "id": "6766ee6d-3d94-4fef-94cf-bd5f3ee576bc",
   "metadata": {
    "tags": []
   },
   "outputs": [],
   "source": [
    "fp = pp.path_to_polygons(aoi,2016)\n",
    "polys16 = gpd.read_file(fp)"
   ]
  },
  {
   "cell_type": "code",
   "execution_count": 10,
   "id": "bff3761b-81aa-42ab-80e2-a6d3b340d57f",
   "metadata": {},
   "outputs": [
    {
     "data": {
      "text/html": [
       "<div>\n",
       "<style scoped>\n",
       "    .dataframe tbody tr th:only-of-type {\n",
       "        vertical-align: middle;\n",
       "    }\n",
       "\n",
       "    .dataframe tbody tr th {\n",
       "        vertical-align: top;\n",
       "    }\n",
       "\n",
       "    .dataframe thead th {\n",
       "        text-align: right;\n",
       "    }\n",
       "</style>\n",
       "<table border=\"1\" class=\"dataframe\">\n",
       "  <thead>\n",
       "    <tr style=\"text-align: right;\">\n",
       "      <th></th>\n",
       "      <th>id</th>\n",
       "      <th>iceplant</th>\n",
       "      <th>year</th>\n",
       "      <th>month</th>\n",
       "      <th>day</th>\n",
       "      <th>naip_id</th>\n",
       "      <th>geometry</th>\n",
       "    </tr>\n",
       "  </thead>\n",
       "  <tbody>\n",
       "    <tr>\n",
       "      <th>0</th>\n",
       "      <td>0</td>\n",
       "      <td>1</td>\n",
       "      <td>2016</td>\n",
       "      <td>7</td>\n",
       "      <td>13</td>\n",
       "      <td>ca_m_3411934_sw_11_.6_20160713_20161004</td>\n",
       "      <td>POLYGON ((-119.84450 34.40549, -119.84438 34.4...</td>\n",
       "    </tr>\n",
       "    <tr>\n",
       "      <th>1</th>\n",
       "      <td>1</td>\n",
       "      <td>1</td>\n",
       "      <td>2016</td>\n",
       "      <td>7</td>\n",
       "      <td>13</td>\n",
       "      <td>ca_m_3411934_sw_11_.6_20160713_20161004</td>\n",
       "      <td>POLYGON ((-119.84508 34.40552, -119.84500 34.4...</td>\n",
       "    </tr>\n",
       "    <tr>\n",
       "      <th>2</th>\n",
       "      <td>2</td>\n",
       "      <td>1</td>\n",
       "      <td>2016</td>\n",
       "      <td>7</td>\n",
       "      <td>13</td>\n",
       "      <td>ca_m_3411934_sw_11_.6_20160713_20161004</td>\n",
       "      <td>POLYGON ((-119.84487 34.40605, -119.84492 34.4...</td>\n",
       "    </tr>\n",
       "  </tbody>\n",
       "</table>\n",
       "</div>"
      ],
      "text/plain": [
       "   id  iceplant  year  month  day                                  naip_id  \\\n",
       "0   0         1  2016      7   13  ca_m_3411934_sw_11_.6_20160713_20161004   \n",
       "1   1         1  2016      7   13  ca_m_3411934_sw_11_.6_20160713_20161004   \n",
       "2   2         1  2016      7   13  ca_m_3411934_sw_11_.6_20160713_20161004   \n",
       "\n",
       "                                            geometry  \n",
       "0  POLYGON ((-119.84450 34.40549, -119.84438 34.4...  \n",
       "1  POLYGON ((-119.84508 34.40552, -119.84500 34.4...  \n",
       "2  POLYGON ((-119.84487 34.40605, -119.84492 34.4...  "
      ]
     },
     "execution_count": 10,
     "metadata": {},
     "output_type": "execute_result"
    }
   ],
   "source": [
    "polys16.head(3)"
   ]
  },
  {
   "cell_type": "code",
   "execution_count": 11,
   "id": "d6f08bf8-e760-4d4c-89b3-0942074b9380",
   "metadata": {
    "tags": []
   },
   "outputs": [
    {
     "name": "stdout",
     "output_type": "stream",
     "text": [
      "6714\n"
     ]
    },
    {
     "data": {
      "text/plain": [
       "0     2193\n",
       "7      797\n",
       "1      753\n",
       "10     696\n",
       "4      533\n",
       "5      472\n",
       "2      369\n",
       "6      369\n",
       "3      329\n",
       "8      123\n",
       "9       80\n",
       "Name: polygon_id, dtype: int64"
      ]
     },
     "execution_count": 11,
     "metadata": {},
     "output_type": "execute_result"
    }
   ],
   "source": [
    "polys_ice16 = polys16.loc[polys16.iceplant==1]\n",
    "polys_ice16.reset_index(inplace=True, drop=True)\n",
    "pts_ice16 = pp.naip_sample_proportion_no_warnings(polys_ice16, polys16.naip_id[0], 0.9)\n",
    "\n",
    "print(pts_ice16.shape[0])\n",
    "pts_ice16.polygon_id.value_counts()"
   ]
  },
  {
   "cell_type": "code",
   "execution_count": 12,
   "id": "ed63331a-5259-4fb7-9f11-142ff6808750",
   "metadata": {
    "tags": []
   },
   "outputs": [
    {
     "name": "stdout",
     "output_type": "stream",
     "text": [
      "19826\n"
     ]
    },
    {
     "data": {
      "text/plain": [
       "22    1500\n",
       "24    1500\n",
       "23    1500\n",
       "21    1500\n",
       "17    1500\n",
       "16    1500\n",
       "11    1500\n",
       "19    1500\n",
       "13    1500\n",
       "12    1500\n",
       "20    1500\n",
       "18    1500\n",
       "14    1320\n",
       "15     506\n",
       "Name: polygon_id, dtype: int64"
      ]
     },
     "execution_count": 12,
     "metadata": {},
     "output_type": "execute_result"
    }
   ],
   "source": [
    "polys_nonice16 = polys16.loc[polys16.iceplant==0]\n",
    "polys_nonice16.reset_index(inplace=True, drop=True)\n",
    "pts_nonice16 = pp.naip_sample_sliding_no_warnings(polys_nonice16, polys16.naip_id[0], 0.8, 1500)\n",
    "\n",
    "print(pts_nonice16.shape[0])\n",
    "pts_nonice16.polygon_id.value_counts()"
   ]
  },
  {
   "cell_type": "code",
   "execution_count": 13,
   "id": "efd89ea0-4a0a-4df7-b994-a54c3f4adeea",
   "metadata": {
    "tags": []
   },
   "outputs": [
    {
     "name": "stdout",
     "output_type": "stream",
     "text": [
      "no-iceplant:iceplant ratio     3.0 :1\n",
      "          counts  percentage\n",
      "iceplant                    \n",
      "0          19826        74.7\n",
      "1           6714        25.3\n",
      "\n"
     ]
    }
   ],
   "source": [
    "pts16 = pd.concat([pts_ice16,pts_nonice16])\n",
    "pp.iceplant_proportions(pts16.iceplant)"
   ]
  },
  {
   "cell_type": "markdown",
   "id": "70e77914-6a2c-4c4e-9ff5-691cdcdf4440",
   "metadata": {},
   "source": [
    "# Sampling 2018"
   ]
  },
  {
   "cell_type": "code",
   "execution_count": 4,
   "id": "8b6b22d2-a430-4679-999c-ee8c75ff99ed",
   "metadata": {
    "collapsed": true,
    "jupyter": {
     "outputs_hidden": true
    }
   },
   "outputs": [],
   "source": [
    "fp = pp.path_to_polygons(aoi,2018)\n",
    "polys18 = gpd.read_file(fp)"
   ]
  },
  {
   "cell_type": "code",
   "execution_count": 5,
   "id": "59e044d2-976e-4369-9e45-27bfc303a22d",
   "metadata": {
    "collapsed": true,
    "jupyter": {
     "outputs_hidden": true
    }
   },
   "outputs": [
    {
     "name": "stdout",
     "output_type": "stream",
     "text": [
      "6449\n"
     ]
    },
    {
     "data": {
      "text/plain": [
       "1    2056\n",
       "3    1105\n",
       "6    1090\n",
       "7     785\n",
       "8     501\n",
       "4     387\n",
       "0     237\n",
       "5     158\n",
       "2     130\n",
       "Name: polygon_id, dtype: int64"
      ]
     },
     "execution_count": 5,
     "metadata": {},
     "output_type": "execute_result"
    }
   ],
   "source": [
    "polys_ice18 = polys18.loc[polys18.iceplant==1]\n",
    "polys_ice18.reset_index(inplace=True, drop=True)\n",
    "pts_ice18 = pp.naip_sample_proportion_no_warnings(polys_ice18, polys18.naip_id[0], 0.8)\n",
    "\n",
    "print(pts_ice18.shape[0])\n",
    "pts_ice18.polygon_id.value_counts()"
   ]
  },
  {
   "cell_type": "code",
   "execution_count": 6,
   "id": "f63b22f0-a4c1-4b90-9806-1ae8ebd0bf13",
   "metadata": {
    "collapsed": true,
    "jupyter": {
     "outputs_hidden": true
    }
   },
   "outputs": [
    {
     "name": "stdout",
     "output_type": "stream",
     "text": [
      "62942\n"
     ]
    },
    {
     "data": {
      "text/plain": [
       "57    1500\n",
       "30    1500\n",
       "13    1500\n",
       "16    1500\n",
       "12    1500\n",
       "28    1500\n",
       "51    1500\n",
       "39    1500\n",
       "45    1500\n",
       "27    1500\n",
       "43    1500\n",
       "26    1500\n",
       "44    1500\n",
       "34    1500\n",
       "38    1500\n",
       "15    1500\n",
       "37    1500\n",
       "41    1500\n",
       "54    1500\n",
       "58    1500\n",
       "52    1500\n",
       "55    1500\n",
       "42    1500\n",
       "53    1500\n",
       "62    1500\n",
       "36    1500\n",
       "32    1500\n",
       "40    1500\n",
       "33    1500\n",
       "35    1500\n",
       "17    1327\n",
       "61    1312\n",
       "48    1191\n",
       "59    1160\n",
       "19    1140\n",
       "14    1060\n",
       "46    1025\n",
       "11     988\n",
       "50     961\n",
       "47     940\n",
       "10     834\n",
       "56     828\n",
       "24     792\n",
       "29     763\n",
       "60     695\n",
       "21     666\n",
       "22     583\n",
       "18     552\n",
       "23     486\n",
       "49     435\n",
       "25     204\n",
       "Name: polygon_id, dtype: int64"
      ]
     },
     "execution_count": 6,
     "metadata": {},
     "output_type": "execute_result"
    }
   ],
   "source": [
    "polys_nonice18 = polys18.loc[polys18.iceplant==0]\n",
    "polys_nonice18.reset_index(inplace=True, drop=True)\n",
    "pts_nonice18 = pp.naip_sample_sliding_no_warnings(polys_nonice18, polys18.naip_id[0], 0.8, 1500)\n",
    "\n",
    "print(pts_nonice18.shape[0])\n",
    "pts_nonice18.polygon_id.value_counts()"
   ]
  },
  {
   "cell_type": "code",
   "execution_count": 7,
   "id": "65ae3d58-ea38-4799-a647-d203c20d8e93",
   "metadata": {
    "collapsed": true,
    "jupyter": {
     "outputs_hidden": true
    }
   },
   "outputs": [
    {
     "name": "stdout",
     "output_type": "stream",
     "text": [
      "no-iceplant:iceplant ratio     9.8 :1\n",
      "          counts  percentage\n",
      "iceplant                    \n",
      "0          62942       90.71\n",
      "1           6449        9.29\n",
      "\n"
     ]
    }
   ],
   "source": [
    "pts18 = pd.concat([pts_ice18,pts_nonice18])\n",
    "pp.iceplant_proportions(pts18.iceplant)"
   ]
  },
  {
   "cell_type": "markdown",
   "id": "3e9d54a7-0fac-40da-8b06-65be2b498089",
   "metadata": {},
   "source": [
    "# Sample 2020"
   ]
  },
  {
   "cell_type": "code",
   "execution_count": 8,
   "id": "9def681d-25c2-4ab4-a39e-9e9ec6941778",
   "metadata": {
    "collapsed": true,
    "jupyter": {
     "outputs_hidden": true
    }
   },
   "outputs": [],
   "source": [
    "fp = pp.path_to_polygons(aoi,2020)\n",
    "polys20 = gpd.read_file(fp)"
   ]
  },
  {
   "cell_type": "code",
   "execution_count": 9,
   "id": "5a7f383a-7ee3-4a1a-8a54-2f12b959422f",
   "metadata": {
    "collapsed": true,
    "jupyter": {
     "outputs_hidden": true
    }
   },
   "outputs": [
    {
     "name": "stdout",
     "output_type": "stream",
     "text": [
      "7793\n"
     ]
    },
    {
     "data": {
      "text/plain": [
       "0     2323\n",
       "10    1580\n",
       "11     795\n",
       "1      416\n",
       "9      414\n",
       "4      410\n",
       "5      403\n",
       "2      402\n",
       "7      361\n",
       "6      326\n",
       "8      186\n",
       "3      177\n",
       "Name: polygon_id, dtype: int64"
      ]
     },
     "execution_count": 9,
     "metadata": {},
     "output_type": "execute_result"
    }
   ],
   "source": [
    "polys_ice20 = polys20.loc[polys20.iceplant==1]\n",
    "polys_ice20.reset_index(inplace=True, drop=True)\n",
    "pts_ice20 = pp.naip_sample_proportion_no_warnings(polys_ice20, polys20.naip_id[0], 0.8)\n",
    "\n",
    "print(pts_ice20.shape[0])\n",
    "pts_ice20.polygon_id.value_counts()"
   ]
  },
  {
   "cell_type": "code",
   "execution_count": 10,
   "id": "f43fb460-f4ae-4eeb-bd57-bd36804b8d67",
   "metadata": {
    "collapsed": true,
    "jupyter": {
     "outputs_hidden": true
    }
   },
   "outputs": [
    {
     "name": "stdout",
     "output_type": "stream",
     "text": [
      "25500\n"
     ]
    },
    {
     "data": {
      "text/plain": [
       "26    1500\n",
       "22    1500\n",
       "14    1500\n",
       "16    1500\n",
       "19    1500\n",
       "23    1500\n",
       "13    1500\n",
       "18    1500\n",
       "15    1500\n",
       "21    1500\n",
       "12    1500\n",
       "24    1500\n",
       "25    1500\n",
       "20    1500\n",
       "27    1500\n",
       "28    1500\n",
       "17    1500\n",
       "Name: polygon_id, dtype: int64"
      ]
     },
     "execution_count": 10,
     "metadata": {},
     "output_type": "execute_result"
    }
   ],
   "source": [
    "polys_nonice20 = polys20.loc[polys20.iceplant==0]\n",
    "polys_nonice20.reset_index(inplace=True, drop=True)\n",
    "pts_nonice20 = pp.naip_sample_sliding_no_warnings(polys_nonice20, polys20.naip_id[0], 0.8, 1500)\n",
    "\n",
    "print(pts_nonice20.shape[0])\n",
    "pts_nonice20.polygon_id.value_counts()"
   ]
  },
  {
   "cell_type": "code",
   "execution_count": 11,
   "id": "90e558d2-e45e-4d16-8deb-9efda6183826",
   "metadata": {
    "collapsed": true,
    "jupyter": {
     "outputs_hidden": true
    }
   },
   "outputs": [
    {
     "name": "stdout",
     "output_type": "stream",
     "text": [
      "no-iceplant:iceplant ratio     3.3 :1\n",
      "          counts  percentage\n",
      "iceplant                    \n",
      "0          25500       76.59\n",
      "1           7793       23.41\n",
      "\n"
     ]
    }
   ],
   "source": [
    "pts20 = pd.concat([pts_ice20,pts_nonice20])\n",
    "pp.iceplant_proportions(pts20.iceplant)"
   ]
  },
  {
   "cell_type": "markdown",
   "id": "cb6e34b7-9c91-41fc-9e75-c0ea8d513d03",
   "metadata": {},
   "source": [
    "# Save points"
   ]
  },
  {
   "cell_type": "code",
   "execution_count": null,
   "id": "7c950ba6-30b6-466b-ab19-1b3eccceaf9f",
   "metadata": {
    "tags": []
   },
   "outputs": [],
   "source": [
    "pts = [pts12, pts14, pts16, pts18, pts20]\n",
    "years = [2012, 2014, 2016, 2018, 2020]\n",
    "for i in range(0,5):\n",
    "    fp = pp.path_points_csv(aoi,years[i])\n",
    "    pts[i].to_csv(fp)\n",
    "        \n"
   ]
  },
  {
   "cell_type": "code",
   "execution_count": 14,
   "id": "4586c87d-d25a-40fb-952e-8941ffa731cb",
   "metadata": {},
   "outputs": [],
   "source": [
    "fp = pp.path_points_csv(aoi,2016)\n",
    "pts16.to_csv(fp)"
   ]
  },
  {
   "cell_type": "code",
   "execution_count": null,
   "id": "95d3a2c6-fb1d-415b-bfa2-1bf568172045",
   "metadata": {},
   "outputs": [],
   "source": []
  }
 ],
 "metadata": {
  "kernelspec": {
   "display_name": "Python 3 (ipykernel)",
   "language": "python",
   "name": "python3"
  },
  "language_info": {
   "codemirror_mode": {
    "name": "ipython",
    "version": 3
   },
   "file_extension": ".py",
   "mimetype": "text/x-python",
   "name": "python",
   "nbconvert_exporter": "python",
   "pygments_lexer": "ipython3",
   "version": "3.8.13"
  }
 },
 "nbformat": 4,
 "nbformat_minor": 5
}
