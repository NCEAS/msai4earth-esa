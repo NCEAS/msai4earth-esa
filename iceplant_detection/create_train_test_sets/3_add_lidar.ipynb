{
 "cells": [
  {
   "cell_type": "code",
   "execution_count": 1,
   "id": "49807a07-64cf-4a78-b3df-143806fa04d4",
   "metadata": {},
   "outputs": [],
   "source": [
    "import os\n",
    "import pandas as pd\n",
    "import geopandas as gpd\n",
    "import rioxarray as riox\n",
    "\n",
    "import rasterio\n",
    "\n",
    "import pystac_client\n",
    "import planetary_computer as pc\n",
    "\n",
    "import lidar_sampling_functions as lsf"
   ]
  },
  {
   "cell_type": "markdown",
   "id": "680808f1-007a-4c73-98e5-ddaf154b6ada",
   "metadata": {},
   "source": [
    "Open lidar and create auxiliary min, max, avg, diff lidar rasters"
   ]
  },
  {
   "cell_type": "code",
   "execution_count": 2,
   "id": "f2d13149-cc58-4a50-bfd1-19ec19148fc7",
   "metadata": {},
   "outputs": [],
   "source": [
    "lidar_year = 2016 # must be 2016, 2018 or 2020\n",
    "\n",
    "lidar_rast_r = rasterio.open(lsf.path_to_lidar(lidar_year))\n",
    "\n",
    "lsf.save_min_max_rasters(rast_reader = lidar_rast_r, \n",
    "                              folder_path = os.path.join(os.getcwd(),'temp'),\n",
    "                              year = lidar_year)\n",
    "\n",
    "lsf.save_avg_rasters(rast_reader = lidar_rast_r, \n",
    "                              folder_path = os.path.join(os.getcwd(),'temp'),\n",
    "                              year = lidar_year)"
   ]
  },
  {
   "cell_type": "markdown",
   "id": "9cdf0795-010d-4ce3-a806-50efd303fdd5",
   "metadata": {},
   "source": [
    "\n",
    "Add canopy heigh data from year `lidar_year` to points from all aois in year `aoi_year`."
   ]
  },
  {
   "cell_type": "code",
   "execution_count": 3,
   "id": "2baec4f8-a355-490c-bf9e-13fa0ccc7113",
   "metadata": {},
   "outputs": [],
   "source": [
    "aoi_year = 2016\n",
    "lidar_year = 2016\n",
    "\n",
    "# If aoi_year=2016, then use aois without point_conception (there are no 2016 polygons in that aoi)\n",
    "aois = ['campus_lagoon','carpinteria','gaviota']\n",
    "if aoi_year != 2016:\n",
    "    aois.append('point_conception')\n",
    "\n",
    "lidar_rast_r = rasterio.open(lsf.path_to_lidar(lidar_year))"
   ]
  },
  {
   "cell_type": "code",
   "execution_count": 6,
   "id": "e190a0b3-010c-435b-ac7c-7cb31a70e443",
   "metadata": {},
   "outputs": [
    {
     "name": "stderr",
     "output_type": "stream",
     "text": [
      "/srv/conda/envs/notebook/lib/python3.8/site-packages/pandas/core/dtypes/cast.py:122: ShapelyDeprecationWarning: The array interface is deprecated and will no longer work in Shapely 2.0. Convert the '.coords' to a numpy array instead.\n",
      "  arr = construct_1d_object_array_from_listlike(values)\n",
      "/srv/conda/envs/notebook/lib/python3.8/site-packages/pandas/core/dtypes/cast.py:122: ShapelyDeprecationWarning: The array interface is deprecated and will no longer work in Shapely 2.0. Convert the '.coords' to a numpy array instead.\n",
      "  arr = construct_1d_object_array_from_listlike(values)\n",
      "/srv/conda/envs/notebook/lib/python3.8/site-packages/pandas/core/dtypes/cast.py:122: ShapelyDeprecationWarning: The array interface is deprecated and will no longer work in Shapely 2.0. Convert the '.coords' to a numpy array instead.\n",
      "  arr = construct_1d_object_array_from_listlike(values)\n"
     ]
    }
   ],
   "source": [
    "for aoi in aois:\n",
    "    pts_fp = os.path.join('/home/jovyan/msai4earth-esa/iceplant_detection/data_sampling/points_from_naip_images/',\n",
    "                         aoi+'_points',\n",
    "                         aoi+'_points_'+str(aoi_year)+'.csv')\n",
    "\n",
    "    ## Obtain CRS from itemid and create geodataframe from points\n",
    "    itemid = pd.read_csv(pts_fp).naip_id[0]\n",
    "    pts = lsf.geodataframe_from_csv(pts_fp, lsf.crs_from_itemid(itemid))\n",
    "\n",
    "    ## Sample LIDAR\n",
    "    pts_xy = lsf.pts_for_lidar_sampling(pts, lidar_rast_r.crs)\n",
    "    lidar_samples = lsf.sample_raster(pts_xy, lidar_rast_r)\n",
    "    \n",
    "    # file paths to auxiliary LIDAR rasters\n",
    "    lidar_fps = []\n",
    "    for tag in ['maxs_', 'mins_', 'avgs_']:\n",
    "        lidar_fps.append(os.path.join(os.getcwd(),\n",
    "                                     'temp',\n",
    "                                     'lidar_'+tag+ str(lidar_year)+'.tif'))\n",
    "\n",
    "    ## Sample mmax, min and avg LIDAR\n",
    "    maxs_rast_r = rasterio.open(lidar_fps[0])\n",
    "    max_samples = lsf.sample_raster(pts_xy, maxs_rast_r)\n",
    "\n",
    "    mins_rast_r = rasterio.open(lidar_fps[1])\n",
    "    min_samples = lsf.sample_raster(pts_xy, mins_rast_r)\n",
    "\n",
    "    avg_rast_r = rasterio.open(lidar_fps[2])\n",
    "    avg_samples = lsf.sample_raster(pts_xy, avg_rast_r)\n",
    "    \n",
    "    ## Add all LIDAR data to pts dataframe\n",
    "    pts['lidar'] = lidar_samples\n",
    "    pts['max_lidar']= max_samples\n",
    "    pts['min_lidar'] = min_samples\n",
    "    pts['min_max_diff'] = pts.max_lidar - pts.min_lidar  # include difference\n",
    "    pts['avg_lidar'] = avg_samples\n",
    "\n",
    "    ## Save points with added LIDAR data\n",
    "    ptslidar_fp = os.path.join('/home/jovyan/msai4earth-esa/iceplant_detection/data_sampling/points_from_naip_images/',\n",
    "                         aoi +'_points',\n",
    "                         aoi +'_pts_spectral_lidar_'+str(aoi_year)+'.csv')\n",
    "    pts.to_csv(ptslidar_fp)"
   ]
  },
  {
   "cell_type": "markdown",
   "id": "a782cbc9-f50c-433c-b23b-3cf122b869f1",
   "metadata": {},
   "source": [
    "Delete auxiliary LIDAR rasters created in the beginning "
   ]
  },
  {
   "cell_type": "code",
   "execution_count": 7,
   "id": "5816ef91-0f73-403b-9970-5bf8dbbb6735",
   "metadata": {},
   "outputs": [],
   "source": [
    "for fp in lidar_fps:\n",
    "    os.remove(fp)"
   ]
  },
  {
   "cell_type": "code",
   "execution_count": null,
   "id": "557ef988-662c-4be9-9aab-23b041ff5d4f",
   "metadata": {},
   "outputs": [],
   "source": []
  }
 ],
 "metadata": {
  "kernelspec": {
   "display_name": "Python 3 (ipykernel)",
   "language": "python",
   "name": "python3"
  },
  "language_info": {
   "codemirror_mode": {
    "name": "ipython",
    "version": 3
   },
   "file_extension": ".py",
   "mimetype": "text/x-python",
   "name": "python",
   "nbconvert_exporter": "python",
   "pygments_lexer": "ipython3",
   "version": "3.8.13"
  }
 },
 "nbformat": 4,
 "nbformat_minor": 5
}
