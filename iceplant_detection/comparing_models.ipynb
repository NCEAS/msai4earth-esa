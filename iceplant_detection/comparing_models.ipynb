{
 "cells": [
  {
   "cell_type": "code",
   "execution_count": 2,
   "id": "a51946d9-f85b-4d33-a30f-9bb37c011c2e",
   "metadata": {},
   "outputs": [],
   "source": [
    "import os\n",
    "import time\n",
    "import pandas as pd\n",
    "import numpy as np\n",
    "\n",
    "from joblib import load\n",
    "\n",
    "import model_prep_and_evals as mpe # custom module"
   ]
  },
  {
   "cell_type": "code",
   "execution_count": 3,
   "id": "8eda6b70-93c8-4a3e-ab78-735f162cee8e",
   "metadata": {},
   "outputs": [],
   "source": [
    "# Import test data\n",
    "\n",
    "# select features from r (Red band) to avg_lidar // excludes geometry, aoi, naip_id, polygon)id and iceplant features\n",
    "X_test = pd.read_csv(os.path.join(os.getcwd(),\n",
    "                                  'data_sampling_workflow',\n",
    "                                  'test_set.csv')).loc[:,'r':'avg_lidar']\n",
    "\n",
    "# select iceplant feature column\n",
    "y_test = pd.read_csv(os.path.join(os.getcwd(),\n",
    "                                  'data_sampling_workflow',\n",
    "                                  'test_set.csv')).loc[:,'iceplant'] \n",
    "\n",
    "# remove 2012 and 2014 since these years do not have LIDAR data\n",
    "X_test = X_test.loc[X_test.year != 2012]\n",
    "X_test = X_test.loc[X_test.year != 2014]\n",
    "\n",
    "y_test = y_test.iloc[X_test.index]"
   ]
  },
  {
   "cell_type": "code",
   "execution_count": 4,
   "id": "e35b5d17-6cb2-4d7e-a3ab-2a04c84f2d48",
   "metadata": {},
   "outputs": [],
   "source": [
    "rfc_spectral = load('spectral_rfc.joblib') \n",
    "rfc_lidar = load('lidar_spectral_rfc.joblib') "
   ]
  },
  {
   "cell_type": "code",
   "execution_count": 6,
   "id": "4fcb1638-197e-410d-8f75-8c7e193366f4",
   "metadata": {},
   "outputs": [
    {
     "name": "stdout",
     "output_type": "stream",
     "text": [
      "true negatives: 100056     false positives: 1212\n",
      "false negatives: 944     true positives: 54708\n",
      "\n",
      "sensitivity (TP/P): 98.3 %\n",
      "specificity (TN/N): 98.8 %\n",
      "G-mean:  0.99\n",
      "\n",
      "precision (TP/(TP+FP)): 97.83 %\n",
      "\n",
      "MCC:  0.9700238623088451\n",
      "\n",
      "F1-measure:  0.98068\n",
      "F0.5-measure (min false positives):  0.97926\n",
      "F2-measure (min false negatives)  :  0.98209\n",
      "\n",
      "accuracy: 98.63 %\n"
     ]
    }
   ],
   "source": [
    "preds_lidar = rfc_lidar.predict(X_test.to_numpy())\n",
    "mpe.print_accuracy_info(y_test.to_numpy(), preds_lidar)"
   ]
  },
  {
   "cell_type": "code",
   "execution_count": 11,
   "id": "b50ce954-98c1-45d4-81c5-0b8429df8184",
   "metadata": {},
   "outputs": [
    {
     "name": "stdout",
     "output_type": "stream",
     "text": [
      "true negatives: 97155     false positives: 4113\n",
      "false negatives: 3962     true positives: 51690\n",
      "\n",
      "sensitivity (TP/P): 92.88 %\n",
      "specificity (TN/N): 95.94 %\n",
      "G-mean:  0.94\n",
      "\n",
      "precision (TP/(TP+FP)): 92.63 %\n",
      "\n",
      "MCC:  0.8876521056344187\n",
      "\n",
      "F1-measure:  0.92755\n",
      "F0.5-measure (min false positives):  0.9268\n",
      "F2-measure (min false negatives)  :  0.9283\n",
      "\n",
      "accuracy: 94.85 %\n"
     ]
    }
   ],
   "source": [
    "sub_X_test = X_test.loc[:,:'day_in_year']\n",
    "\n",
    "preds_spectral = rfc_spectral.predict(sub_X_test.to_numpy())\n",
    "mpe.print_accuracy_info(y_test.to_numpy(), preds_spectral)"
   ]
  },
  {
   "cell_type": "code",
   "execution_count": null,
   "id": "421fd620-0c06-4d29-a24e-efe0e708b328",
   "metadata": {},
   "outputs": [],
   "source": []
  }
 ],
 "metadata": {
  "kernelspec": {
   "display_name": "Python 3 (ipykernel)",
   "language": "python",
   "name": "python3"
  },
  "language_info": {
   "codemirror_mode": {
    "name": "ipython",
    "version": 3
   },
   "file_extension": ".py",
   "mimetype": "text/x-python",
   "name": "python",
   "nbconvert_exporter": "python",
   "pygments_lexer": "ipython3",
   "version": "3.10.6"
  }
 },
 "nbformat": 4,
 "nbformat_minor": 5
}
