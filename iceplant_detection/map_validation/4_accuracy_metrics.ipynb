{
 "cells": [
  {
   "cell_type": "code",
   "execution_count": 29,
   "metadata": {},
   "outputs": [],
   "source": [
    "import pandas as pd\n",
    "import os\n",
    "import numpy as np\n",
    "import math\n",
    "from skimpy import clean_columns\n",
    "\n",
    "from sklearn.metrics import confusion_matrix\n",
    "from sklearn.utils.multiclass import unique_labels"
   ]
  },
  {
   "cell_type": "code",
   "execution_count": 3,
   "metadata": {},
   "outputs": [
    {
     "data": {
      "text/html": [
       "<pre style=\"white-space:pre;overflow-x:auto;line-height:normal;font-family:Menlo,'DejaVu Sans Mono',consolas,'Courier New',monospace\"><span style=\"color: #008080; text-decoration-color: #008080; font-weight: bold\">6</span> column names have been cleaned\n",
       "</pre>\n"
      ],
      "text/plain": [
       "\u001b[1;36m6\u001b[0m column names have been cleaned\n"
      ]
     },
     "metadata": {},
     "output_type": "display_data"
    }
   ],
   "source": [
    "df = clean_columns(pd.read_csv(os.path.join(os.getcwd(),'ceo-iceplant_validation_points_2020-plot-data-2022-11.csv')))\n",
    "df = df[df['flagged'] == False]"
   ]
  },
  {
   "cell_type": "code",
   "execution_count": 35,
   "metadata": {},
   "outputs": [],
   "source": [
    "map_class = df.pl_class\n",
    "\n",
    "ref_class = []\n",
    "\n",
    "for i in map_class.index:\n",
    "    if df.category_non_iceplant_vegetation.loc[i] == 100:\n",
    "        ref_class.append(0)\n",
    "    elif df.category_iceplant.loc[i] == 100:\n",
    "        ref_class.append(1)\n",
    "    elif df.category_low_ndvi_impervious_surface.loc[i] == 100:\n",
    "        ref_class.append(2)\n",
    "    elif df.category_water.loc[i] == 100:\n",
    "        ref_class.append(3)\n",
    "    else:\n",
    "        ref_class[j]= 100"
   ]
  },
  {
   "cell_type": "code",
   "execution_count": 36,
   "metadata": {},
   "outputs": [
    {
     "data": {
      "text/plain": [
       "array([0, 1, 2, 3])"
      ]
     },
     "execution_count": 36,
     "metadata": {},
     "output_type": "execute_result"
    }
   ],
   "source": [
    "unique_labels(ref_class, map_class)"
   ]
  },
  {
   "cell_type": "code",
   "execution_count": 37,
   "metadata": {},
   "outputs": [
    {
     "data": {
      "text/plain": [
       "(array([0, 1, 2, 3]), array([55, 50, 19, 18]))"
      ]
     },
     "execution_count": 37,
     "metadata": {},
     "output_type": "execute_result"
    }
   ],
   "source": [
    "np.unique(ref_class, return_counts=True)"
   ]
  },
  {
   "cell_type": "code",
   "execution_count": 38,
   "metadata": {},
   "outputs": [
    {
     "data": {
      "text/plain": [
       "(array([0, 1, 2, 3]), array([78, 49,  2, 13]))"
      ]
     },
     "execution_count": 38,
     "metadata": {},
     "output_type": "execute_result"
    }
   ],
   "source": [
    "np.unique(map_class, return_counts=True)"
   ]
  },
  {
   "cell_type": "code",
   "execution_count": 40,
   "metadata": {},
   "outputs": [
    {
     "data": {
      "text/plain": [
       "array([[53,  8, 13,  4],\n",
       "       [ 2, 42,  3,  2],\n",
       "       [ 0,  0,  2,  0],\n",
       "       [ 0,  0,  1, 12]])"
      ]
     },
     "execution_count": 40,
     "metadata": {},
     "output_type": "execute_result"
    }
   ],
   "source": [
    "# https://scikit-learn.org/stable/modules/generated/sklearn.metrics.confusion_matrix.html\n",
    "# using confusion_matrix directly we get a matrix C such that\n",
    "# C_{i,j} = known to be i, predicted as  j \n",
    "# The notation in the paper is \n",
    "# n_{i,j} = predicted as i, known to be j \n",
    "# so we need to take the transpose\n",
    "\n",
    "n = confusion_matrix(ref_class, map_class, labels=range(0,4)).T\n",
    "n"
   ]
  },
  {
   "cell_type": "code",
   "execution_count": 41,
   "metadata": {},
   "outputs": [],
   "source": [
    "pix_counts = pd.read_csv(os.path.join(os.getcwd(), 'rasters_2020_pixel_counts.csv'))\n",
    "total_pix = sum([sum(pix_counts.n_nonice_20),\n",
    "                  sum(pix_counts.n_ice_20),\n",
    "                  sum(pix_counts.n_ground_20),\n",
    "                  sum(pix_counts.n_water_20)])\n",
    "\n",
    "W = []      # proportion of area mapped as class i\n",
    "n_idot = [] # pixels in sample that had class i in map (predicted as i, any true class j)\n",
    "U_hat = []  # estimated users' accuracy (precision for each class: TP/(TP+FP))\n",
    "P_hat = []  # estimated producer's accurace (sensitiviy for each class TP/(TP+FN))\n",
    "\n",
    "for i in range(0,4):\n",
    "    W.append( sum(pix_counts.iloc[:,i]) / total_pix)\n",
    "    n_idot.append(sum(n[i,:]))\n",
    "    U_hat.append(n[i,i] / n_idot[i])\n",
    "    "
   ]
  },
  {
   "cell_type": "code",
   "execution_count": 56,
   "metadata": {},
   "outputs": [
    {
     "data": {
      "text/plain": [
       "89.39047358082178"
      ]
     },
     "execution_count": 56,
     "metadata": {},
     "output_type": "execute_result"
    }
   ],
   "source": [
    "O = sum([W[i]*n[i,i]/n_idot[i] for i in range(0,4)])\n",
    "O*100"
   ]
  },
  {
   "cell_type": "code",
   "execution_count": 55,
   "metadata": {},
   "outputs": [
    {
     "data": {
      "text/plain": [
       "3.7179841729531313"
      ]
     },
     "execution_count": 55,
     "metadata": {},
     "output_type": "execute_result"
    }
   ],
   "source": [
    "var_O = sum([ W[i]**2 * U_hat[i] * (1-U_hat[i])/(n_idot[i]-1) for i in range(0,4)])\n",
    "# std error of estimated overall accuracy -- paper equation (5)\n",
    "np.sqrt(var_O)*100"
   ]
  },
  {
   "cell_type": "code",
   "execution_count": 50,
   "metadata": {},
   "outputs": [
    {
     "data": {
      "text/plain": [
       "[5.318240510717429, 5.050762722761054, 0.0, 7.69230769230769]"
      ]
     },
     "execution_count": 50,
     "metadata": {},
     "output_type": "execute_result"
    }
   ],
   "source": [
    "var_U_hat = [np.sqrt(U_hat[i] * (1-U_hat[i])/(n_idot[i]-1))*100 for i in range(0,4)]\n",
    "var_U_hat"
   ]
  },
  {
   "cell_type": "code",
   "execution_count": 58,
   "metadata": {},
   "outputs": [
    {
     "data": {
      "text/plain": [
       "[0.6794871794871795, 0.8571428571428571, 1.0, 0.9230769230769231]"
      ]
     },
     "execution_count": 58,
     "metadata": {},
     "output_type": "execute_result"
    }
   ],
   "source": [
    "U_hat"
   ]
  },
  {
   "cell_type": "code",
   "execution_count": null,
   "metadata": {},
   "outputs": [],
   "source": []
  }
 ],
 "metadata": {
  "kernelspec": {
   "display_name": "Python 3 (ipykernel)",
   "language": "python",
   "name": "python3"
  },
  "language_info": {
   "codemirror_mode": {
    "name": "ipython",
    "version": 3
   },
   "file_extension": ".py",
   "mimetype": "text/x-python",
   "name": "python",
   "nbconvert_exporter": "python",
   "pygments_lexer": "ipython3",
   "version": "3.8.10"
  }
 },
 "nbformat": 4,
 "nbformat_minor": 4
}
