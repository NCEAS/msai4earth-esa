{
 "cells": [
  {
   "cell_type": "code",
   "execution_count": 1,
   "metadata": {},
   "outputs": [],
   "source": [
    "import pandas as pd\n",
    "import os\n",
    "import numpy as np\n",
    "import math\n",
    "from skimpy import clean_columns\n",
    "\n",
    "from sklearn.metrics import confusion_matrix\n",
    "from sklearn.utils.multiclass import unique_labels"
   ]
  },
  {
   "cell_type": "code",
   "execution_count": 2,
   "metadata": {},
   "outputs": [
    {
     "data": {
      "text/html": [
       "<pre style=\"white-space:pre;overflow-x:auto;line-height:normal;font-family:Menlo,'DejaVu Sans Mono',consolas,'Courier New',monospace\"><span style=\"color: #008080; text-decoration-color: #008080; font-weight: bold\">6</span> column names have been cleaned\n",
       "</pre>\n"
      ],
      "text/plain": [
       "\u001b[1;36m6\u001b[0m column names have been cleaned\n"
      ]
     },
     "metadata": {},
     "output_type": "display_data"
    },
    {
     "data": {
      "text/html": [
       "<div>\n",
       "<style scoped>\n",
       "    .dataframe tbody tr th:only-of-type {\n",
       "        vertical-align: middle;\n",
       "    }\n",
       "\n",
       "    .dataframe tbody tr th {\n",
       "        vertical-align: top;\n",
       "    }\n",
       "\n",
       "    .dataframe thead th {\n",
       "        text-align: right;\n",
       "    }\n",
       "</style>\n",
       "<table border=\"1\" class=\"dataframe\">\n",
       "  <thead>\n",
       "    <tr style=\"text-align: right;\">\n",
       "      <th></th>\n",
       "      <th>plotid</th>\n",
       "      <th>center_lon</th>\n",
       "      <th>center_lat</th>\n",
       "      <th>shape</th>\n",
       "      <th>size_m</th>\n",
       "      <th>sample_points</th>\n",
       "      <th>email</th>\n",
       "      <th>flagged</th>\n",
       "      <th>flagged_reason</th>\n",
       "      <th>collection_time</th>\n",
       "      <th>...</th>\n",
       "      <th>common_securewatch_date</th>\n",
       "      <th>total_securewatch_dates</th>\n",
       "      <th>pl_class</th>\n",
       "      <th>pl_which_raster</th>\n",
       "      <th>category_low_ndvi_impervious_surface</th>\n",
       "      <th>category_non_iceplant_vegetation</th>\n",
       "      <th>category_iceplant</th>\n",
       "      <th>category_water</th>\n",
       "      <th>validation_finished_yes_high_confidence</th>\n",
       "      <th>validation_finished_no_low_confidence</th>\n",
       "    </tr>\n",
       "  </thead>\n",
       "  <tbody>\n",
       "    <tr>\n",
       "      <th>0</th>\n",
       "      <td>0</td>\n",
       "      <td>-120.373228</td>\n",
       "      <td>34.454063</td>\n",
       "      <td>square</td>\n",
       "      <td>20.0</td>\n",
       "      <td>1</td>\n",
       "      <td>galaz-garcia@nceas.ucsb.edu</td>\n",
       "      <td>False</td>\n",
       "      <td>NaN</td>\n",
       "      <td>2022-11-05 00:30</td>\n",
       "      <td>...</td>\n",
       "      <td>NaN</td>\n",
       "      <td>0</td>\n",
       "      <td>3</td>\n",
       "      <td>0</td>\n",
       "      <td>0.0</td>\n",
       "      <td>0.0</td>\n",
       "      <td>0.0</td>\n",
       "      <td>100.0</td>\n",
       "      <td>100.0</td>\n",
       "      <td>0.0</td>\n",
       "    </tr>\n",
       "    <tr>\n",
       "      <th>1</th>\n",
       "      <td>1</td>\n",
       "      <td>-119.585374</td>\n",
       "      <td>34.424282</td>\n",
       "      <td>square</td>\n",
       "      <td>20.0</td>\n",
       "      <td>1</td>\n",
       "      <td>galaz-garcia@nceas.ucsb.edu</td>\n",
       "      <td>False</td>\n",
       "      <td>NaN</td>\n",
       "      <td>2022-11-05 00:31</td>\n",
       "      <td>...</td>\n",
       "      <td>NaN</td>\n",
       "      <td>0</td>\n",
       "      <td>1</td>\n",
       "      <td>2</td>\n",
       "      <td>0.0</td>\n",
       "      <td>100.0</td>\n",
       "      <td>0.0</td>\n",
       "      <td>0.0</td>\n",
       "      <td>100.0</td>\n",
       "      <td>0.0</td>\n",
       "    </tr>\n",
       "    <tr>\n",
       "      <th>2</th>\n",
       "      <td>2</td>\n",
       "      <td>-120.169518</td>\n",
       "      <td>34.471802</td>\n",
       "      <td>square</td>\n",
       "      <td>20.0</td>\n",
       "      <td>1</td>\n",
       "      <td>galaz-garcia@nceas.ucsb.edu</td>\n",
       "      <td>False</td>\n",
       "      <td>NaN</td>\n",
       "      <td>2022-11-08 20:05</td>\n",
       "      <td>...</td>\n",
       "      <td>NaN</td>\n",
       "      <td>0</td>\n",
       "      <td>0</td>\n",
       "      <td>0</td>\n",
       "      <td>0.0</td>\n",
       "      <td>100.0</td>\n",
       "      <td>0.0</td>\n",
       "      <td>0.0</td>\n",
       "      <td>100.0</td>\n",
       "      <td>0.0</td>\n",
       "    </tr>\n",
       "    <tr>\n",
       "      <th>3</th>\n",
       "      <td>3</td>\n",
       "      <td>-120.008978</td>\n",
       "      <td>34.466743</td>\n",
       "      <td>square</td>\n",
       "      <td>20.0</td>\n",
       "      <td>1</td>\n",
       "      <td>galaz-garcia@nceas.ucsb.edu</td>\n",
       "      <td>False</td>\n",
       "      <td>NaN</td>\n",
       "      <td>2022-11-08 18:00</td>\n",
       "      <td>...</td>\n",
       "      <td>NaN</td>\n",
       "      <td>0</td>\n",
       "      <td>1</td>\n",
       "      <td>0</td>\n",
       "      <td>0.0</td>\n",
       "      <td>100.0</td>\n",
       "      <td>0.0</td>\n",
       "      <td>0.0</td>\n",
       "      <td>100.0</td>\n",
       "      <td>0.0</td>\n",
       "    </tr>\n",
       "    <tr>\n",
       "      <th>4</th>\n",
       "      <td>4</td>\n",
       "      <td>-119.977029</td>\n",
       "      <td>34.457047</td>\n",
       "      <td>square</td>\n",
       "      <td>20.0</td>\n",
       "      <td>1</td>\n",
       "      <td>galaz-garcia@nceas.ucsb.edu</td>\n",
       "      <td>False</td>\n",
       "      <td>NaN</td>\n",
       "      <td>2022-11-08 18:03</td>\n",
       "      <td>...</td>\n",
       "      <td>NaN</td>\n",
       "      <td>0</td>\n",
       "      <td>0</td>\n",
       "      <td>2</td>\n",
       "      <td>0.0</td>\n",
       "      <td>100.0</td>\n",
       "      <td>0.0</td>\n",
       "      <td>0.0</td>\n",
       "      <td>0.0</td>\n",
       "      <td>100.0</td>\n",
       "    </tr>\n",
       "  </tbody>\n",
       "</table>\n",
       "<p>5 rows × 21 columns</p>\n",
       "</div>"
      ],
      "text/plain": [
       "   plotid  center_lon  center_lat   shape  size_m  sample_points  \\\n",
       "0       0 -120.373228   34.454063  square    20.0              1   \n",
       "1       1 -119.585374   34.424282  square    20.0              1   \n",
       "2       2 -120.169518   34.471802  square    20.0              1   \n",
       "3       3 -120.008978   34.466743  square    20.0              1   \n",
       "4       4 -119.977029   34.457047  square    20.0              1   \n",
       "\n",
       "                         email  flagged  flagged_reason   collection_time  \\\n",
       "0  galaz-garcia@nceas.ucsb.edu    False             NaN  2022-11-05 00:30   \n",
       "1  galaz-garcia@nceas.ucsb.edu    False             NaN  2022-11-05 00:31   \n",
       "2  galaz-garcia@nceas.ucsb.edu    False             NaN  2022-11-08 20:05   \n",
       "3  galaz-garcia@nceas.ucsb.edu    False             NaN  2022-11-08 18:00   \n",
       "4  galaz-garcia@nceas.ucsb.edu    False             NaN  2022-11-08 18:03   \n",
       "\n",
       "   ... common_securewatch_date  total_securewatch_dates  pl_class  \\\n",
       "0  ...                     NaN                        0         3   \n",
       "1  ...                     NaN                        0         1   \n",
       "2  ...                     NaN                        0         0   \n",
       "3  ...                     NaN                        0         1   \n",
       "4  ...                     NaN                        0         0   \n",
       "\n",
       "   pl_which_raster  category_low_ndvi_impervious_surface  \\\n",
       "0                0                                   0.0   \n",
       "1                2                                   0.0   \n",
       "2                0                                   0.0   \n",
       "3                0                                   0.0   \n",
       "4                2                                   0.0   \n",
       "\n",
       "   category_non_iceplant_vegetation  category_iceplant  category_water  \\\n",
       "0                               0.0                0.0           100.0   \n",
       "1                             100.0                0.0             0.0   \n",
       "2                             100.0                0.0             0.0   \n",
       "3                             100.0                0.0             0.0   \n",
       "4                             100.0                0.0             0.0   \n",
       "\n",
       "   validation_finished_yes_high_confidence  \\\n",
       "0                                    100.0   \n",
       "1                                    100.0   \n",
       "2                                    100.0   \n",
       "3                                    100.0   \n",
       "4                                      0.0   \n",
       "\n",
       "   validation_finished_no_low_confidence  \n",
       "0                                    0.0  \n",
       "1                                    0.0  \n",
       "2                                    0.0  \n",
       "3                                    0.0  \n",
       "4                                  100.0  \n",
       "\n",
       "[5 rows x 21 columns]"
      ]
     },
     "execution_count": 2,
     "metadata": {},
     "output_type": "execute_result"
    }
   ],
   "source": [
    "df = clean_columns(pd.read_csv(os.path.join(os.getcwd(),'validation_results_2020.csv')))\n",
    "df.head()"
   ]
  },
  {
   "cell_type": "code",
   "execution_count": 3,
   "metadata": {},
   "outputs": [],
   "source": [
    "def ref_class_column(df):\n",
    "\n",
    "    map_class = df.pl_class\n",
    "    ref_class = []\n",
    "\n",
    "    for i in map_class.index:\n",
    "        if df.category_non_iceplant_vegetation.loc[i] == 100:\n",
    "            ref_class.append(0)\n",
    "        elif df.category_iceplant.loc[i] == 100:\n",
    "            ref_class.append(1)\n",
    "        elif df.category_low_ndvi_impervious_surface.loc[i] == 100:\n",
    "            ref_class.append(2)\n",
    "        elif df.category_water.loc[i] == 100:\n",
    "            ref_class.append(3)\n",
    "        else:\n",
    "            ref_class[j]= 100\n",
    "            \n",
    "    return ref_class"
   ]
  },
  {
   "cell_type": "code",
   "execution_count": 4,
   "metadata": {},
   "outputs": [],
   "source": [
    "df['ref_class'] = ref_class_column(df)\n",
    "df = df.drop(['center_lon', 'center_lat', 'shape', 'size_m', 'sample_points',\n",
    "        'flagged', 'flagged_reason', 'collection_time', \n",
    "         'total_securewatch_dates', 'common_securewatch_date',\n",
    "        'pl_which_raster', \n",
    "         'validation_finished_yes_high_confidence',\n",
    "         'analysis_duration',\n",
    "         'category_low_ndvi_impervious_surface','category_non_iceplant_vegetation',\n",
    "         'category_iceplant', 'category_water',], axis =1)\n",
    "df = df.rename( columns = {'pl_class':'map_class',\n",
    "                       'validation_finished_no_low_confidence':'low_confidence'})"
   ]
  },
  {
   "cell_type": "code",
   "execution_count": 5,
   "metadata": {},
   "outputs": [
    {
     "data": {
      "text/plain": [
       "(array([0, 1, 2, 3]), array([136,  53, 143, 133]))"
      ]
     },
     "execution_count": 5,
     "metadata": {},
     "output_type": "execute_result"
    }
   ],
   "source": [
    "np.unique(df.ref_class, return_counts=True)"
   ]
  },
  {
   "cell_type": "code",
   "execution_count": 6,
   "metadata": {},
   "outputs": [
    {
     "data": {
      "text/plain": [
       "(array([0, 1, 2, 3]), array([100, 100, 150, 115]))"
      ]
     },
     "execution_count": 6,
     "metadata": {},
     "output_type": "execute_result"
    }
   ],
   "source": [
    "np.unique(df.map_class, return_counts=True)"
   ]
  },
  {
   "cell_type": "code",
   "execution_count": 9,
   "metadata": {
    "tags": []
   },
   "outputs": [
    {
     "data": {
      "text/plain": [
       "array([[ 79,   2,  14,   5],\n",
       "       [ 37,  49,   9,   5],\n",
       "       [ 20,   2, 117,  11],\n",
       "       [  0,   0,   3, 112]])"
      ]
     },
     "execution_count": 9,
     "metadata": {},
     "output_type": "execute_result"
    }
   ],
   "source": [
    "# https://scikit-learn.org/stable/modules/generated/sklearn.metrics.confusion_matrix.html\n",
    "# using confusion_matrix directly we get a matrix C such that\n",
    "# C_{i,j} = known to be i, predicted as  j \n",
    "# The notation in the paper is \n",
    "# n_{i,j} = predicted as i, known to be j \n",
    "# so we need to take the transpose\n",
    "\n",
    "n = confusion_matrix(df.ref_class, df.map_class, labels=range(0,4)).T\n",
    "n"
   ]
  },
  {
   "cell_type": "code",
   "execution_count": 10,
   "metadata": {
    "tags": []
   },
   "outputs": [],
   "source": [
    "pix_counts = pd.read_csv(os.path.join(os.getcwd(), 'rasters_2020_pixel_counts.csv'))\n",
    "total_pix = sum([sum(pix_counts.n_nonice_20),\n",
    "                  sum(pix_counts.n_ice_20),\n",
    "                  sum(pix_counts.n_ground_20),\n",
    "                  sum(pix_counts.n_water_20)])\n",
    "\n",
    "W = []      # proportion of area mapped as class i\n",
    "n_idot = [] # pixels in sample that had class i in map (predicted as i, any true class j)\n",
    "U_hat = []  # estimated users' accuracy (precision for each class: TP/(TP+FP))\n",
    "#P_hat = []  # estimated producer's accurace (sensitiviy for each class TP/(TP+FN))\n",
    "\n",
    "for i in range(0,4):\n",
    "    W.append( sum(pix_counts.iloc[:,i]) / total_pix)\n",
    "    n_idot.append(sum(n[i,:]))\n",
    "    U_hat.append(n[i,i] / n_idot[i])\n",
    "    "
   ]
  },
  {
   "cell_type": "code",
   "execution_count": 21,
   "metadata": {
    "tags": []
   },
   "outputs": [
    {
     "name": "stdout",
     "output_type": "stream",
     "text": [
      "overall accuracy: 83.34944453527964\n",
      "overall accuracy std error: 1.8087344195503947 \n",
      "\n",
      "users accuracy: [0.79, 0.49, 0.78, 0.9739130434782609]\n",
      "users accuracies std errors: [4.09360181 5.02418394 3.39363795 1.492861  ]\n"
     ]
    }
   ],
   "source": [
    "O = sum([W[i]*n[i,i]/n_idot[i] for i in range(0,4)])\n",
    "print('overall accuracy:', O*100)\n",
    "\n",
    "var_O = sum([ W[i]**2 * U_hat[i] * (1-U_hat[i])/(n_idot[i]-1) for i in range(0,4)])\n",
    "# std error of estimated overall accuracy -- paper equation (5)\n",
    "print('overall accuracy std error:', np.sqrt(var_O)*100, '\\n')\n",
    "\n",
    "print('users accuracy:', U_hat)\n",
    "\n",
    "var_U_hat = [U_hat[i] * (1-U_hat[i])/(n_idot[i]-1) for i in range(0,4)]\n",
    "print('users accuracies std errors:', np.sqrt(var_U_hat)*100)"
   ]
  },
  {
   "cell_type": "code",
   "execution_count": 15,
   "metadata": {},
   "outputs": [
    {
     "data": {
      "text/html": [
       "<div>\n",
       "<style scoped>\n",
       "    .dataframe tbody tr th:only-of-type {\n",
       "        vertical-align: middle;\n",
       "    }\n",
       "\n",
       "    .dataframe tbody tr th {\n",
       "        vertical-align: top;\n",
       "    }\n",
       "\n",
       "    .dataframe thead th {\n",
       "        text-align: right;\n",
       "    }\n",
       "</style>\n",
       "<table border=\"1\" class=\"dataframe\">\n",
       "  <thead>\n",
       "    <tr style=\"text-align: right;\">\n",
       "      <th></th>\n",
       "      <th>plotid</th>\n",
       "      <th>email</th>\n",
       "      <th>map_class</th>\n",
       "      <th>low_confidence</th>\n",
       "      <th>ref_class</th>\n",
       "    </tr>\n",
       "  </thead>\n",
       "  <tbody>\n",
       "    <tr>\n",
       "      <th>0</th>\n",
       "      <td>0</td>\n",
       "      <td>galaz-garcia@nceas.ucsb.edu</td>\n",
       "      <td>3</td>\n",
       "      <td>0.0</td>\n",
       "      <td>3</td>\n",
       "    </tr>\n",
       "    <tr>\n",
       "      <th>1</th>\n",
       "      <td>1</td>\n",
       "      <td>galaz-garcia@nceas.ucsb.edu</td>\n",
       "      <td>1</td>\n",
       "      <td>0.0</td>\n",
       "      <td>0</td>\n",
       "    </tr>\n",
       "    <tr>\n",
       "      <th>2</th>\n",
       "      <td>2</td>\n",
       "      <td>galaz-garcia@nceas.ucsb.edu</td>\n",
       "      <td>0</td>\n",
       "      <td>0.0</td>\n",
       "      <td>0</td>\n",
       "    </tr>\n",
       "    <tr>\n",
       "      <th>3</th>\n",
       "      <td>3</td>\n",
       "      <td>galaz-garcia@nceas.ucsb.edu</td>\n",
       "      <td>1</td>\n",
       "      <td>0.0</td>\n",
       "      <td>0</td>\n",
       "    </tr>\n",
       "    <tr>\n",
       "      <th>5</th>\n",
       "      <td>5</td>\n",
       "      <td>galaz-garcia@nceas.ucsb.edu</td>\n",
       "      <td>2</td>\n",
       "      <td>0.0</td>\n",
       "      <td>0</td>\n",
       "    </tr>\n",
       "    <tr>\n",
       "      <th>...</th>\n",
       "      <td>...</td>\n",
       "      <td>...</td>\n",
       "      <td>...</td>\n",
       "      <td>...</td>\n",
       "      <td>...</td>\n",
       "    </tr>\n",
       "    <tr>\n",
       "      <th>460</th>\n",
       "      <td>460</td>\n",
       "      <td>galaz-garcia@nceas.ucsb.edu</td>\n",
       "      <td>0</td>\n",
       "      <td>0.0</td>\n",
       "      <td>0</td>\n",
       "    </tr>\n",
       "    <tr>\n",
       "      <th>461</th>\n",
       "      <td>461</td>\n",
       "      <td>galaz-garcia@nceas.ucsb.edu</td>\n",
       "      <td>2</td>\n",
       "      <td>0.0</td>\n",
       "      <td>2</td>\n",
       "    </tr>\n",
       "    <tr>\n",
       "      <th>462</th>\n",
       "      <td>462</td>\n",
       "      <td>galaz-garcia@nceas.ucsb.edu</td>\n",
       "      <td>0</td>\n",
       "      <td>0.0</td>\n",
       "      <td>0</td>\n",
       "    </tr>\n",
       "    <tr>\n",
       "      <th>463</th>\n",
       "      <td>463</td>\n",
       "      <td>galaz-garcia@nceas.ucsb.edu</td>\n",
       "      <td>2</td>\n",
       "      <td>0.0</td>\n",
       "      <td>0</td>\n",
       "    </tr>\n",
       "    <tr>\n",
       "      <th>464</th>\n",
       "      <td>464</td>\n",
       "      <td>galaz-garcia@nceas.ucsb.edu</td>\n",
       "      <td>0</td>\n",
       "      <td>0.0</td>\n",
       "      <td>0</td>\n",
       "    </tr>\n",
       "  </tbody>\n",
       "</table>\n",
       "<p>405 rows × 5 columns</p>\n",
       "</div>"
      ],
      "text/plain": [
       "     plotid                        email  map_class  low_confidence  ref_class\n",
       "0         0  galaz-garcia@nceas.ucsb.edu          3             0.0          3\n",
       "1         1  galaz-garcia@nceas.ucsb.edu          1             0.0          0\n",
       "2         2  galaz-garcia@nceas.ucsb.edu          0             0.0          0\n",
       "3         3  galaz-garcia@nceas.ucsb.edu          1             0.0          0\n",
       "5         5  galaz-garcia@nceas.ucsb.edu          2             0.0          0\n",
       "..      ...                          ...        ...             ...        ...\n",
       "460     460  galaz-garcia@nceas.ucsb.edu          0             0.0          0\n",
       "461     461  galaz-garcia@nceas.ucsb.edu          2             0.0          2\n",
       "462     462  galaz-garcia@nceas.ucsb.edu          0             0.0          0\n",
       "463     463  galaz-garcia@nceas.ucsb.edu          2             0.0          0\n",
       "464     464  galaz-garcia@nceas.ucsb.edu          0             0.0          0\n",
       "\n",
       "[405 rows x 5 columns]"
      ]
     },
     "execution_count": 15,
     "metadata": {},
     "output_type": "execute_result"
    }
   ],
   "source": [
    "high_confidence = df[df.low_confidence == 0]\n",
    "high_confidence"
   ]
  },
  {
   "cell_type": "code",
   "execution_count": 22,
   "metadata": {},
   "outputs": [
    {
     "data": {
      "text/plain": [
       "array([[ 73,   1,   7,   5],\n",
       "       [ 21,  42,   7,   5],\n",
       "       [ 14,   0, 107,  10],\n",
       "       [  0,   0,   3, 110]])"
      ]
     },
     "execution_count": 22,
     "metadata": {},
     "output_type": "execute_result"
    }
   ],
   "source": [
    "n = confusion_matrix(high_confidence.ref_class, high_confidence.map_class, labels=range(0,4)).T\n",
    "n"
   ]
  },
  {
   "cell_type": "code",
   "execution_count": 26,
   "metadata": {},
   "outputs": [
    {
     "name": "stdout",
     "output_type": "stream",
     "text": [
      "overall accuracy: 86.59108061798332\n",
      "overall accuracy std error: 1.7778445287918678 \n",
      "\n",
      "users accuracy: [0.8488372093023255, 0.56, 0.816793893129771, 0.9734513274336283]\n",
      "users accuracies std errors: [3.88530567 5.77038104 3.39277093 1.51904107]\n"
     ]
    }
   ],
   "source": [
    "n_idot = [] # pixels in sample that had class i in map (predicted as i, any true class j)\n",
    "U_hat = []  # estimated users' accuracy (precision for each class: TP/(TP+FP))\n",
    "\n",
    "for i in range(0,4):\n",
    "    n_idot.append(sum(n[i,:]))\n",
    "    U_hat.append(n[i,i] / n_idot[i])\n",
    "\n",
    "O = sum([W[i]*n[i,i]/n_idot[i] for i in range(0,4)])\n",
    "print('overall accuracy:', O*100)\n",
    "\n",
    "var_O = sum([ W[i]**2 * U_hat[i] * (1-U_hat[i])/(n_idot[i]-1) for i in range(0,4)])\n",
    "# std error of estimated overall accuracy -- paper equation (5)\n",
    "print('overall accuracy std error:', np.sqrt(var_O)*100, '\\n')\n",
    "\n",
    "print('users accuracy:', U_hat)\n",
    "\n",
    "var_U_hat = [U_hat[i] * (1-U_hat[i])/(n_idot[i]-1)for i in range(0,4)]\n",
    "var_U_hat\n",
    "print('users accuracies std errors:', np.sqrt(var_U_hat)*100)"
   ]
  },
  {
   "cell_type": "code",
   "execution_count": 27,
   "metadata": {},
   "outputs": [
    {
     "data": {
      "text/plain": [
       "array([ 7.61519912, 11.30994683,  6.64983102,  2.97732049])"
      ]
     },
     "execution_count": 27,
     "metadata": {},
     "output_type": "execute_result"
    }
   ],
   "source": [
    "196*np.sqrt(var_U_hat)"
   ]
  },
  {
   "cell_type": "code",
   "execution_count": 28,
   "metadata": {},
   "outputs": [
    {
     "data": {
      "text/plain": [
       "3.484575276432061"
      ]
     },
     "execution_count": 28,
     "metadata": {},
     "output_type": "execute_result"
    }
   ],
   "source": [
    "np.sqrt(var_O)*196"
   ]
  },
  {
   "cell_type": "code",
   "execution_count": null,
   "metadata": {},
   "outputs": [],
   "source": []
  }
 ],
 "metadata": {
  "kernelspec": {
   "display_name": "Python 3 (ipykernel)",
   "language": "python",
   "name": "python3"
  },
  "language_info": {
   "codemirror_mode": {
    "name": "ipython",
    "version": 3
   },
   "file_extension": ".py",
   "mimetype": "text/x-python",
   "name": "python",
   "nbconvert_exporter": "python",
   "pygments_lexer": "ipython3",
   "version": "3.10.6"
  }
 },
 "nbformat": 4,
 "nbformat_minor": 4
}
