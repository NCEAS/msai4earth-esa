{
 "cells": [
  {
   "cell_type": "code",
   "execution_count": 1,
   "metadata": {},
   "outputs": [],
   "source": [
    "import pandas as pd\n",
    "import os\n",
    "import numpy as np\n",
    "import math\n",
    "from skimpy import clean_columns\n",
    "\n",
    "from sklearn.metrics import confusion_matrix\n",
    "from sklearn.utils.multiclass import unique_labels"
   ]
  },
  {
   "cell_type": "code",
   "execution_count": 2,
   "metadata": {},
   "outputs": [
    {
     "data": {
      "text/html": [
       "<pre style=\"white-space:pre;overflow-x:auto;line-height:normal;font-family:Menlo,'DejaVu Sans Mono',consolas,'Courier New',monospace\"><span style=\"color: #008080; text-decoration-color: #008080; font-weight: bold\">6</span> column names have been cleaned\n",
       "</pre>\n"
      ],
      "text/plain": [
       "\u001b[1;36m6\u001b[0m column names have been cleaned\n"
      ]
     },
     "metadata": {},
     "output_type": "display_data"
    },
    {
     "data": {
      "text/html": [
       "<div>\n",
       "<style scoped>\n",
       "    .dataframe tbody tr th:only-of-type {\n",
       "        vertical-align: middle;\n",
       "    }\n",
       "\n",
       "    .dataframe tbody tr th {\n",
       "        vertical-align: top;\n",
       "    }\n",
       "\n",
       "    .dataframe thead th {\n",
       "        text-align: right;\n",
       "    }\n",
       "</style>\n",
       "<table border=\"1\" class=\"dataframe\">\n",
       "  <thead>\n",
       "    <tr style=\"text-align: right;\">\n",
       "      <th></th>\n",
       "      <th>plotid</th>\n",
       "      <th>center_lon</th>\n",
       "      <th>center_lat</th>\n",
       "      <th>shape</th>\n",
       "      <th>size_m</th>\n",
       "      <th>sample_points</th>\n",
       "      <th>email</th>\n",
       "      <th>flagged</th>\n",
       "      <th>flagged_reason</th>\n",
       "      <th>collection_time</th>\n",
       "      <th>...</th>\n",
       "      <th>common_securewatch_date</th>\n",
       "      <th>total_securewatch_dates</th>\n",
       "      <th>pl_class</th>\n",
       "      <th>pl_which_raster</th>\n",
       "      <th>category_low_ndvi_impervious_surface</th>\n",
       "      <th>category_non_iceplant_vegetation</th>\n",
       "      <th>category_iceplant</th>\n",
       "      <th>category_water</th>\n",
       "      <th>validation_finished_yes_high_confidence</th>\n",
       "      <th>validation_finished_no_low_confidence</th>\n",
       "    </tr>\n",
       "  </thead>\n",
       "  <tbody>\n",
       "    <tr>\n",
       "      <th>0</th>\n",
       "      <td>0</td>\n",
       "      <td>-119.742562</td>\n",
       "      <td>34.407042</td>\n",
       "      <td>square</td>\n",
       "      <td>20.0</td>\n",
       "      <td>1</td>\n",
       "      <td>brun@nceas.ucsb.edu</td>\n",
       "      <td>False</td>\n",
       "      <td>NaN</td>\n",
       "      <td>2022-11-15 04:43</td>\n",
       "      <td>...</td>\n",
       "      <td>NaN</td>\n",
       "      <td>0</td>\n",
       "      <td>0</td>\n",
       "      <td>2</td>\n",
       "      <td>0.0</td>\n",
       "      <td>100.0</td>\n",
       "      <td>0.0</td>\n",
       "      <td>0.0</td>\n",
       "      <td>100.0</td>\n",
       "      <td>0.0</td>\n",
       "    </tr>\n",
       "    <tr>\n",
       "      <th>1</th>\n",
       "      <td>1</td>\n",
       "      <td>-119.505269</td>\n",
       "      <td>34.384257</td>\n",
       "      <td>square</td>\n",
       "      <td>20.0</td>\n",
       "      <td>1</td>\n",
       "      <td>brun@nceas.ucsb.edu</td>\n",
       "      <td>False</td>\n",
       "      <td>NaN</td>\n",
       "      <td>2022-11-14 19:57</td>\n",
       "      <td>...</td>\n",
       "      <td>NaN</td>\n",
       "      <td>0</td>\n",
       "      <td>3</td>\n",
       "      <td>2</td>\n",
       "      <td>0.0</td>\n",
       "      <td>0.0</td>\n",
       "      <td>0.0</td>\n",
       "      <td>100.0</td>\n",
       "      <td>100.0</td>\n",
       "      <td>0.0</td>\n",
       "    </tr>\n",
       "    <tr>\n",
       "      <th>2</th>\n",
       "      <td>2</td>\n",
       "      <td>-119.639609</td>\n",
       "      <td>34.413251</td>\n",
       "      <td>square</td>\n",
       "      <td>20.0</td>\n",
       "      <td>1</td>\n",
       "      <td>brun@nceas.ucsb.edu</td>\n",
       "      <td>False</td>\n",
       "      <td>NaN</td>\n",
       "      <td>2022-11-14 19:57</td>\n",
       "      <td>...</td>\n",
       "      <td>NaN</td>\n",
       "      <td>0</td>\n",
       "      <td>3</td>\n",
       "      <td>2</td>\n",
       "      <td>0.0</td>\n",
       "      <td>0.0</td>\n",
       "      <td>0.0</td>\n",
       "      <td>100.0</td>\n",
       "      <td>100.0</td>\n",
       "      <td>0.0</td>\n",
       "    </tr>\n",
       "    <tr>\n",
       "      <th>3</th>\n",
       "      <td>3</td>\n",
       "      <td>-119.866794</td>\n",
       "      <td>34.409054</td>\n",
       "      <td>square</td>\n",
       "      <td>20.0</td>\n",
       "      <td>1</td>\n",
       "      <td>brun@nceas.ucsb.edu</td>\n",
       "      <td>False</td>\n",
       "      <td>NaN</td>\n",
       "      <td>2022-11-14 19:57</td>\n",
       "      <td>...</td>\n",
       "      <td>NaN</td>\n",
       "      <td>0</td>\n",
       "      <td>3</td>\n",
       "      <td>2</td>\n",
       "      <td>0.0</td>\n",
       "      <td>0.0</td>\n",
       "      <td>0.0</td>\n",
       "      <td>100.0</td>\n",
       "      <td>100.0</td>\n",
       "      <td>0.0</td>\n",
       "    </tr>\n",
       "    <tr>\n",
       "      <th>4</th>\n",
       "      <td>4</td>\n",
       "      <td>-120.488476</td>\n",
       "      <td>34.495967</td>\n",
       "      <td>square</td>\n",
       "      <td>20.0</td>\n",
       "      <td>1</td>\n",
       "      <td>brun@nceas.ucsb.edu</td>\n",
       "      <td>False</td>\n",
       "      <td>NaN</td>\n",
       "      <td>2022-11-14 19:59</td>\n",
       "      <td>...</td>\n",
       "      <td>NaN</td>\n",
       "      <td>0</td>\n",
       "      <td>2</td>\n",
       "      <td>0</td>\n",
       "      <td>100.0</td>\n",
       "      <td>0.0</td>\n",
       "      <td>0.0</td>\n",
       "      <td>0.0</td>\n",
       "      <td>100.0</td>\n",
       "      <td>0.0</td>\n",
       "    </tr>\n",
       "  </tbody>\n",
       "</table>\n",
       "<p>5 rows × 21 columns</p>\n",
       "</div>"
      ],
      "text/plain": [
       "   plotid  center_lon  center_lat   shape  size_m  sample_points  \\\n",
       "0       0 -119.742562   34.407042  square    20.0              1   \n",
       "1       1 -119.505269   34.384257  square    20.0              1   \n",
       "2       2 -119.639609   34.413251  square    20.0              1   \n",
       "3       3 -119.866794   34.409054  square    20.0              1   \n",
       "4       4 -120.488476   34.495967  square    20.0              1   \n",
       "\n",
       "                 email  flagged  flagged_reason   collection_time  ...  \\\n",
       "0  brun@nceas.ucsb.edu    False             NaN  2022-11-15 04:43  ...   \n",
       "1  brun@nceas.ucsb.edu    False             NaN  2022-11-14 19:57  ...   \n",
       "2  brun@nceas.ucsb.edu    False             NaN  2022-11-14 19:57  ...   \n",
       "3  brun@nceas.ucsb.edu    False             NaN  2022-11-14 19:57  ...   \n",
       "4  brun@nceas.ucsb.edu    False             NaN  2022-11-14 19:59  ...   \n",
       "\n",
       "  common_securewatch_date  total_securewatch_dates  pl_class  pl_which_raster  \\\n",
       "0                     NaN                        0         0                2   \n",
       "1                     NaN                        0         3                2   \n",
       "2                     NaN                        0         3                2   \n",
       "3                     NaN                        0         3                2   \n",
       "4                     NaN                        0         2                0   \n",
       "\n",
       "   category_low_ndvi_impervious_surface  category_non_iceplant_vegetation  \\\n",
       "0                                   0.0                             100.0   \n",
       "1                                   0.0                               0.0   \n",
       "2                                   0.0                               0.0   \n",
       "3                                   0.0                               0.0   \n",
       "4                                 100.0                               0.0   \n",
       "\n",
       "   category_iceplant  category_water  validation_finished_yes_high_confidence  \\\n",
       "0                0.0             0.0                                    100.0   \n",
       "1                0.0           100.0                                    100.0   \n",
       "2                0.0           100.0                                    100.0   \n",
       "3                0.0           100.0                                    100.0   \n",
       "4                0.0             0.0                                    100.0   \n",
       "\n",
       "   validation_finished_no_low_confidence  \n",
       "0                                    0.0  \n",
       "1                                    0.0  \n",
       "2                                    0.0  \n",
       "3                                    0.0  \n",
       "4                                    0.0  \n",
       "\n",
       "[5 rows x 21 columns]"
      ]
     },
     "execution_count": 2,
     "metadata": {},
     "output_type": "execute_result"
    }
   ],
   "source": [
    "year = 2018\n",
    "df = clean_columns(pd.read_csv(os.path.join(os.getcwd(),'validation_results_'+str(year)+'.csv')))\n",
    "df.head()"
   ]
  },
  {
   "cell_type": "code",
   "execution_count": 3,
   "metadata": {},
   "outputs": [],
   "source": [
    "def ref_class_column(df):\n",
    "\n",
    "    map_class = df.pl_class\n",
    "    ref_class = []\n",
    "\n",
    "    for i in map_class.index:\n",
    "        if df.category_non_iceplant_vegetation.loc[i] == 100:\n",
    "            ref_class.append(0)\n",
    "        elif df.category_iceplant.loc[i] == 100:\n",
    "            ref_class.append(1)\n",
    "        elif df.category_low_ndvi_impervious_surface.loc[i] == 100:\n",
    "            ref_class.append(2)\n",
    "        elif df.category_water.loc[i] == 100:\n",
    "            ref_class.append(3)\n",
    "        else:\n",
    "            ref_class[j]= 100\n",
    "            \n",
    "    return ref_class"
   ]
  },
  {
   "cell_type": "code",
   "execution_count": 4,
   "metadata": {},
   "outputs": [
    {
     "data": {
      "text/html": [
       "<div>\n",
       "<style scoped>\n",
       "    .dataframe tbody tr th:only-of-type {\n",
       "        vertical-align: middle;\n",
       "    }\n",
       "\n",
       "    .dataframe tbody tr th {\n",
       "        vertical-align: top;\n",
       "    }\n",
       "\n",
       "    .dataframe thead th {\n",
       "        text-align: right;\n",
       "    }\n",
       "</style>\n",
       "<table border=\"1\" class=\"dataframe\">\n",
       "  <thead>\n",
       "    <tr style=\"text-align: right;\">\n",
       "      <th></th>\n",
       "      <th>plotid</th>\n",
       "      <th>email</th>\n",
       "      <th>map_class</th>\n",
       "      <th>low_confidence</th>\n",
       "      <th>ref_class</th>\n",
       "    </tr>\n",
       "  </thead>\n",
       "  <tbody>\n",
       "    <tr>\n",
       "      <th>0</th>\n",
       "      <td>0</td>\n",
       "      <td>brun@nceas.ucsb.edu</td>\n",
       "      <td>0</td>\n",
       "      <td>0.0</td>\n",
       "      <td>0</td>\n",
       "    </tr>\n",
       "    <tr>\n",
       "      <th>1</th>\n",
       "      <td>1</td>\n",
       "      <td>brun@nceas.ucsb.edu</td>\n",
       "      <td>3</td>\n",
       "      <td>0.0</td>\n",
       "      <td>3</td>\n",
       "    </tr>\n",
       "    <tr>\n",
       "      <th>2</th>\n",
       "      <td>2</td>\n",
       "      <td>brun@nceas.ucsb.edu</td>\n",
       "      <td>3</td>\n",
       "      <td>0.0</td>\n",
       "      <td>3</td>\n",
       "    </tr>\n",
       "    <tr>\n",
       "      <th>3</th>\n",
       "      <td>3</td>\n",
       "      <td>brun@nceas.ucsb.edu</td>\n",
       "      <td>3</td>\n",
       "      <td>0.0</td>\n",
       "      <td>3</td>\n",
       "    </tr>\n",
       "    <tr>\n",
       "      <th>4</th>\n",
       "      <td>4</td>\n",
       "      <td>brun@nceas.ucsb.edu</td>\n",
       "      <td>2</td>\n",
       "      <td>0.0</td>\n",
       "      <td>2</td>\n",
       "    </tr>\n",
       "    <tr>\n",
       "      <th>...</th>\n",
       "      <td>...</td>\n",
       "      <td>...</td>\n",
       "      <td>...</td>\n",
       "      <td>...</td>\n",
       "      <td>...</td>\n",
       "    </tr>\n",
       "    <tr>\n",
       "      <th>445</th>\n",
       "      <td>445</td>\n",
       "      <td>brun@nceas.ucsb.edu</td>\n",
       "      <td>2</td>\n",
       "      <td>100.0</td>\n",
       "      <td>3</td>\n",
       "    </tr>\n",
       "    <tr>\n",
       "      <th>446</th>\n",
       "      <td>446</td>\n",
       "      <td>brun@nceas.ucsb.edu</td>\n",
       "      <td>2</td>\n",
       "      <td>0.0</td>\n",
       "      <td>2</td>\n",
       "    </tr>\n",
       "    <tr>\n",
       "      <th>447</th>\n",
       "      <td>447</td>\n",
       "      <td>brun@nceas.ucsb.edu</td>\n",
       "      <td>0</td>\n",
       "      <td>0.0</td>\n",
       "      <td>0</td>\n",
       "    </tr>\n",
       "    <tr>\n",
       "      <th>448</th>\n",
       "      <td>448</td>\n",
       "      <td>brun@nceas.ucsb.edu</td>\n",
       "      <td>1</td>\n",
       "      <td>0.0</td>\n",
       "      <td>0</td>\n",
       "    </tr>\n",
       "    <tr>\n",
       "      <th>449</th>\n",
       "      <td>449</td>\n",
       "      <td>brun@nceas.ucsb.edu</td>\n",
       "      <td>1</td>\n",
       "      <td>100.0</td>\n",
       "      <td>2</td>\n",
       "    </tr>\n",
       "  </tbody>\n",
       "</table>\n",
       "<p>450 rows × 5 columns</p>\n",
       "</div>"
      ],
      "text/plain": [
       "     plotid                email  map_class  low_confidence  ref_class\n",
       "0         0  brun@nceas.ucsb.edu          0             0.0          0\n",
       "1         1  brun@nceas.ucsb.edu          3             0.0          3\n",
       "2         2  brun@nceas.ucsb.edu          3             0.0          3\n",
       "3         3  brun@nceas.ucsb.edu          3             0.0          3\n",
       "4         4  brun@nceas.ucsb.edu          2             0.0          2\n",
       "..      ...                  ...        ...             ...        ...\n",
       "445     445  brun@nceas.ucsb.edu          2           100.0          3\n",
       "446     446  brun@nceas.ucsb.edu          2             0.0          2\n",
       "447     447  brun@nceas.ucsb.edu          0             0.0          0\n",
       "448     448  brun@nceas.ucsb.edu          1             0.0          0\n",
       "449     449  brun@nceas.ucsb.edu          1           100.0          2\n",
       "\n",
       "[450 rows x 5 columns]"
      ]
     },
     "execution_count": 4,
     "metadata": {},
     "output_type": "execute_result"
    }
   ],
   "source": [
    "df['ref_class'] = ref_class_column(df)\n",
    "df = df.drop(['center_lon', 'center_lat', 'shape', 'size_m', 'sample_points',\n",
    "        'flagged', 'flagged_reason', 'collection_time', \n",
    "         'total_securewatch_dates', 'common_securewatch_date',\n",
    "        'pl_which_raster', \n",
    "         'validation_finished_yes_high_confidence',\n",
    "         'analysis_duration',\n",
    "         'category_low_ndvi_impervious_surface','category_non_iceplant_vegetation',\n",
    "         'category_iceplant', 'category_water',], axis =1)\n",
    "df = df.rename( columns = {'pl_class':'map_class',\n",
    "                       'validation_finished_no_low_confidence':'low_confidence'})\n",
    "df"
   ]
  },
  {
   "cell_type": "code",
   "execution_count": 5,
   "metadata": {},
   "outputs": [
    {
     "data": {
      "text/plain": [
       "(array([0, 1, 2, 3]), array([111,  58, 159, 122]))"
      ]
     },
     "execution_count": 5,
     "metadata": {},
     "output_type": "execute_result"
    }
   ],
   "source": [
    "np.unique(df.ref_class, return_counts=True)"
   ]
  },
  {
   "cell_type": "code",
   "execution_count": 6,
   "metadata": {},
   "outputs": [
    {
     "data": {
      "text/plain": [
       "(array([0, 1, 2, 3]), array([100, 100, 150, 100]))"
      ]
     },
     "execution_count": 6,
     "metadata": {},
     "output_type": "execute_result"
    }
   ],
   "source": [
    "np.unique(df.map_class, return_counts=True)"
   ]
  },
  {
   "cell_type": "code",
   "execution_count": 7,
   "metadata": {
    "tags": []
   },
   "outputs": [
    {
     "data": {
      "text/plain": [
       "array([[ 63,   5,  30,   2],\n",
       "       [ 36,  53,  11,   0],\n",
       "       [ 12,   0, 116,  22],\n",
       "       [  0,   0,   2,  98]])"
      ]
     },
     "execution_count": 7,
     "metadata": {},
     "output_type": "execute_result"
    }
   ],
   "source": [
    "# https://scikit-learn.org/stable/modules/generated/sklearn.metrics.confusion_matrix.html\n",
    "# using confusion_matrix directly we get a matrix C such that\n",
    "# C_{i,j} = known to be i, predicted as  j \n",
    "# The notation in the paper is \n",
    "# n_{i,j} = predicted as i, known to be j \n",
    "# so we need to take the transpose\n",
    "\n",
    "n = confusion_matrix(df.ref_class, df.map_class, labels=range(0,4)).T\n",
    "n"
   ]
  },
  {
   "cell_type": "code",
   "execution_count": 8,
   "metadata": {
    "tags": []
   },
   "outputs": [
    {
     "data": {
      "text/html": [
       "<div>\n",
       "<style scoped>\n",
       "    .dataframe tbody tr th:only-of-type {\n",
       "        vertical-align: middle;\n",
       "    }\n",
       "\n",
       "    .dataframe tbody tr th {\n",
       "        vertical-align: top;\n",
       "    }\n",
       "\n",
       "    .dataframe thead th {\n",
       "        text-align: right;\n",
       "    }\n",
       "</style>\n",
       "<table border=\"1\" class=\"dataframe\">\n",
       "  <thead>\n",
       "    <tr style=\"text-align: right;\">\n",
       "      <th></th>\n",
       "      <th>n_nonice_2018</th>\n",
       "      <th>n_ice_2018</th>\n",
       "      <th>n_ground_2018</th>\n",
       "      <th>n_water_2018</th>\n",
       "      <th>raster</th>\n",
       "    </tr>\n",
       "  </thead>\n",
       "  <tbody>\n",
       "    <tr>\n",
       "      <th>0</th>\n",
       "      <td>35863561</td>\n",
       "      <td>5897584</td>\n",
       "      <td>113626707</td>\n",
       "      <td>59950901</td>\n",
       "      <td>LS_merged_crs26910_S_2018</td>\n",
       "    </tr>\n",
       "    <tr>\n",
       "      <th>1</th>\n",
       "      <td>6730191</td>\n",
       "      <td>899027</td>\n",
       "      <td>24887840</td>\n",
       "      <td>16301218</td>\n",
       "      <td>LS_merged_crs26910_W_2018</td>\n",
       "    </tr>\n",
       "    <tr>\n",
       "      <th>2</th>\n",
       "      <td>79013822</td>\n",
       "      <td>3880728</td>\n",
       "      <td>73808926</td>\n",
       "      <td>66038443</td>\n",
       "      <td>LS_merged_crs26911_2018</td>\n",
       "    </tr>\n",
       "  </tbody>\n",
       "</table>\n",
       "</div>"
      ],
      "text/plain": [
       "   n_nonice_2018  n_ice_2018  n_ground_2018  n_water_2018  \\\n",
       "0       35863561     5897584      113626707      59950901   \n",
       "1        6730191      899027       24887840      16301218   \n",
       "2       79013822     3880728       73808926      66038443   \n",
       "\n",
       "                      raster  \n",
       "0  LS_merged_crs26910_S_2018  \n",
       "1  LS_merged_crs26910_W_2018  \n",
       "2    LS_merged_crs26911_2018  "
      ]
     },
     "execution_count": 8,
     "metadata": {},
     "output_type": "execute_result"
    }
   ],
   "source": [
    "pix_counts = pd.read_csv(os.path.join(os.getcwd(), 'rasters_'+str(year)+'_pixel_counts.csv'))\n",
    "pix_counts"
   ]
  },
  {
   "cell_type": "code",
   "execution_count": 9,
   "metadata": {
    "tags": []
   },
   "outputs": [],
   "source": [
    "total_pix = sum([sum(pix_counts.n_nonice_2018),\n",
    "                  sum(pix_counts.n_ice_2018),\n",
    "                  sum(pix_counts.n_ground_2018),\n",
    "                  sum(pix_counts.n_water_2018)])"
   ]
  },
  {
   "cell_type": "code",
   "execution_count": 10,
   "metadata": {
    "tags": []
   },
   "outputs": [],
   "source": [
    "W = []      # proportion of area mapped as class i\n",
    "n_idot = [] # pixels in sample that had class i in map (predicted as i, any true class j)\n",
    "U_hat = []  # estimated users' accuracy (precision for each class: TP/(TP+FP))\n",
    "\n",
    "for i in range(0,4):\n",
    "    W.append( sum(pix_counts.iloc[:,i]) / total_pix)\n",
    "    n_idot.append(sum(n[i,:]))\n",
    "    U_hat.append(n[i,i] / n_idot[i])"
   ]
  },
  {
   "cell_type": "code",
   "execution_count": 12,
   "metadata": {
    "tags": []
   },
   "outputs": [
    {
     "name": "stdout",
     "output_type": "stream",
     "text": [
      "overall accuracy: 79.25943006350468\n",
      "overall accuracy std error: 1.9715593227663106 \n",
      "\n",
      "users accuracy: [0.63, 0.53, 0.7733333333333333, 0.98]\n",
      "users accuracies std errors: [4.85236587 5.01613558 3.42992055 1.40705294]\n"
     ]
    }
   ],
   "source": [
    "O = sum([W[i]*n[i,i]/n_idot[i] for i in range(0,4)])\n",
    "print('overall accuracy:', O*100)\n",
    "\n",
    "var_O = sum([ W[i]**2 * U_hat[i] * (1-U_hat[i])/(n_idot[i]-1) for i in range(0,4)])\n",
    "# std error of estimated overall accuracy -- paper equation (5)\n",
    "print('overall accuracy std error:', np.sqrt(var_O)*100, '\\n')\n",
    "\n",
    "print('users accuracy:', U_hat)\n",
    "\n",
    "var_U_hat = [U_hat[i] * (1-U_hat[i])/(n_idot[i]-1) for i in range(0,4)]\n",
    "print('users accuracies std errors:', np.sqrt(var_U_hat)*100)"
   ]
  },
  {
   "cell_type": "code",
   "execution_count": 14,
   "metadata": {
    "tags": []
   },
   "outputs": [
    {
     "name": "stdout",
     "output_type": "stream",
     "text": [
      "producers accuracy: [0.7862357626600711, 0.48205231249592345, 0.8021362603845338, 0.8059566637712716]\n"
     ]
    }
   ],
   "source": [
    "p_dotk_hat = []\n",
    "P_hat = []  # estimated producer's accurace (sensitiviy for each class TP/(TP+FN))\n",
    "\n",
    "for k in range(0,4):\n",
    "    partial = [ W[i]*n[i,k]/n_idot[i] for i in range(0,4) ]\n",
    "    p_dotk_hat.append( sum(partial))  # equation (9)\n",
    "p_dotk_hat\n",
    "\n",
    "for i in range(0,4):\n",
    "    P_hat.append( (W[i]*n[i,i]/n_idot[i]) / p_dotk_hat[i])\n",
    "\n",
    "print('producers accuracy:', P_hat)"
   ]
  },
  {
   "cell_type": "code",
   "execution_count": null,
   "metadata": {},
   "outputs": [],
   "source": [
    "high_confidence = df[df.low_confidence == 0]\n",
    "high_confidence"
   ]
  },
  {
   "cell_type": "code",
   "execution_count": null,
   "metadata": {},
   "outputs": [],
   "source": [
    "n = confusion_matrix(high_confidence.ref_class, high_confidence.map_class, labels=range(0,4)).T\n",
    "n"
   ]
  },
  {
   "cell_type": "code",
   "execution_count": null,
   "metadata": {},
   "outputs": [],
   "source": [
    "n_idot = [] # pixels in sample that had class i in map (predicted as i, any true class j)\n",
    "U_hat = []  # estimated users' accuracy (precision for each class: TP/(TP+FP))\n",
    "\n",
    "for i in range(0,4):\n",
    "    n_idot.append(sum(n[i,:]))\n",
    "    U_hat.append(n[i,i] / n_idot[i])\n",
    "\n",
    "O = sum([W[i]*n[i,i]/n_idot[i] for i in range(0,4)])\n",
    "print('overall accuracy:', O*100)\n",
    "\n",
    "var_O = sum([ W[i]**2 * U_hat[i] * (1-U_hat[i])/(n_idot[i]-1) for i in range(0,4)])\n",
    "# std error of estimated overall accuracy -- paper equation (5)\n",
    "print('overall accuracy std error:', np.sqrt(var_O)*100, '\\n')\n",
    "\n",
    "print('users accuracy:', U_hat)\n",
    "\n",
    "var_U_hat = [U_hat[i] * (1-U_hat[i])/(n_idot[i]-1)for i in range(0,4)]\n",
    "var_U_hat\n",
    "print('users accuracies std errors:', np.sqrt(var_U_hat)*100)"
   ]
  },
  {
   "cell_type": "code",
   "execution_count": null,
   "metadata": {},
   "outputs": [],
   "source": [
    "196*np.sqrt(var_U_hat)"
   ]
  },
  {
   "cell_type": "code",
   "execution_count": null,
   "metadata": {},
   "outputs": [],
   "source": [
    "np.sqrt(var_O)*196"
   ]
  },
  {
   "cell_type": "code",
   "execution_count": null,
   "metadata": {},
   "outputs": [],
   "source": []
  }
 ],
 "metadata": {
  "kernelspec": {
   "display_name": "Python 3 (ipykernel)",
   "language": "python",
   "name": "python3"
  },
  "language_info": {
   "codemirror_mode": {
    "name": "ipython",
    "version": 3
   },
   "file_extension": ".py",
   "mimetype": "text/x-python",
   "name": "python",
   "nbconvert_exporter": "python",
   "pygments_lexer": "ipython3",
   "version": "3.10.6"
  }
 },
 "nbformat": 4,
 "nbformat_minor": 4
}
