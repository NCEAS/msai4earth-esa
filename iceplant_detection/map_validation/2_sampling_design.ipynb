{
 "cells": [
  {
   "cell_type": "markdown",
   "id": "ac9d6906-12d0-48d8-b9ea-6aec995973f2",
   "metadata": {},
   "source": [
    "Following P. Olofsson et al.:\n",
    "\n",
    "(page 52 sect. 5)\n",
    "\n",
    "This accuracy asessment is designed for the objectives of:\n",
    "- estimating overall and class-specific accuracies\n",
    "- areas of the individual classes (as determined by the reference classification), and\n",
    "- confidence intervals for each accuracy and area parameter\n",
    "\n",
    "\n",
    "This sampling design follows a stratified random design per ap class (iceplant, other vegetation, low ndvi, water)."
   ]
  },
  {
   "cell_type": "code",
   "execution_count": 1,
   "id": "74936454-4a69-4838-809f-2bce3d5b840e",
   "metadata": {},
   "outputs": [],
   "source": [
    "import os\n",
    "import numpy as np\n",
    "import pandas as pd"
   ]
  },
  {
   "cell_type": "markdown",
   "id": "70457843-8aa6-4622-a998-04a4c62df9fc",
   "metadata": {},
   "source": [
    "### Pixels per class in full map of SB coast"
   ]
  },
  {
   "cell_type": "code",
   "execution_count": 2,
   "id": "286728e3-e5ab-467e-b16f-5c8923221bd6",
   "metadata": {},
   "outputs": [
    {
     "data": {
      "text/html": [
       "<div>\n",
       "<style scoped>\n",
       "    .dataframe tbody tr th:only-of-type {\n",
       "        vertical-align: middle;\n",
       "    }\n",
       "\n",
       "    .dataframe tbody tr th {\n",
       "        vertical-align: top;\n",
       "    }\n",
       "\n",
       "    .dataframe thead th {\n",
       "        text-align: right;\n",
       "    }\n",
       "</style>\n",
       "<table border=\"1\" class=\"dataframe\">\n",
       "  <thead>\n",
       "    <tr style=\"text-align: right;\">\n",
       "      <th></th>\n",
       "      <th>n_nonice_2020</th>\n",
       "      <th>n_ice_2020</th>\n",
       "      <th>n_ground_2020</th>\n",
       "      <th>n_water_2020</th>\n",
       "      <th>raster</th>\n",
       "    </tr>\n",
       "  </thead>\n",
       "  <tbody>\n",
       "    <tr>\n",
       "      <th>0</th>\n",
       "      <td>36271293</td>\n",
       "      <td>5382187</td>\n",
       "      <td>111150412</td>\n",
       "      <td>62968690</td>\n",
       "      <td>modelAE5_FP_2020_merged_crs26910_S_2020</td>\n",
       "    </tr>\n",
       "    <tr>\n",
       "      <th>1</th>\n",
       "      <td>1122203</td>\n",
       "      <td>30004</td>\n",
       "      <td>1891593</td>\n",
       "      <td>2893071</td>\n",
       "      <td>modelAE5_FP_2020_merged_crs26910_W_2020</td>\n",
       "    </tr>\n",
       "    <tr>\n",
       "      <th>2</th>\n",
       "      <td>89669636</td>\n",
       "      <td>1123921</td>\n",
       "      <td>62587031</td>\n",
       "      <td>69125241</td>\n",
       "      <td>modelAE5_FP_2020_merged_crs26911_2020</td>\n",
       "    </tr>\n",
       "  </tbody>\n",
       "</table>\n",
       "</div>"
      ],
      "text/plain": [
       "   n_nonice_2020  n_ice_2020  n_ground_2020  n_water_2020  \\\n",
       "0       36271293     5382187      111150412      62968690   \n",
       "1        1122203       30004        1891593       2893071   \n",
       "2       89669636     1123921       62587031      69125241   \n",
       "\n",
       "                                    raster  \n",
       "0  modelAE5_FP_2020_merged_crs26910_S_2020  \n",
       "1  modelAE5_FP_2020_merged_crs26910_W_2020  \n",
       "2    modelAE5_FP_2020_merged_crs26911_2020  "
      ]
     },
     "execution_count": 2,
     "metadata": {},
     "output_type": "execute_result"
    }
   ],
   "source": [
    "year = 2020\n",
    "prefix = 'modelAE5_FP_2020'\n",
    "pixel_count = pd.read_csv(os.path.join(os.getcwd(), prefix+'_rasters_'+str(year)+'_pixel_counts.csv'))\n",
    "pixel_count"
   ]
  },
  {
   "cell_type": "code",
   "execution_count": 3,
   "id": "21b6fb31-7b7d-4249-9408-b5a2fc804be1",
   "metadata": {},
   "outputs": [
    {
     "data": {
      "text/plain": [
       "[127063132, 6536112, 175629036, 134987002]"
      ]
     },
     "execution_count": 3,
     "metadata": {},
     "output_type": "execute_result"
    }
   ],
   "source": [
    "# total number of pixels in neach category\n",
    "n_pix = [sum(pixel_count.iloc[:,c]) for c in range(0,4)]\n",
    "n_pix"
   ]
  },
  {
   "cell_type": "markdown",
   "id": "766cfa8e-97f3-47a0-994f-958669133da7",
   "metadata": {},
   "source": [
    "### 5.1.1  Determining the sample size\n",
    "\n",
    "For stratified random sampling Cochran (1977 eq 5.25) suggests the following sample size formula:\n",
    "\n",
    "$n \\approx \\left( \\frac{\\sum W_iS_i}{S(\\hat{O})}\\right)^2$, where\n",
    "\n",
    "$S(\\hat{O})$ is the standard error of the estimated overall accuracy that we would like to achieve\n",
    "\n",
    "$W_i$ is the fraction of the map labeled as class $i$\n",
    "\n",
    "$S_i = \\sqrt{U_i(1-U_i)}$ is the standard deviation of class $i$.\n",
    "\n",
    "\n",
    "In this last formula, $U_i$ are the user's accuracies for class $i$, i.e. the precision for each class: TP/(TP+FP).\n",
    "\n",
    "Recall that the square root of the estimated variance results in the standard error of the estimator. For example, in the case of the estimated overall accuracy of the map $\\hat{O}$ we have that $\\hat{S}(\\hat{O}) = \\sqrt{\\hat{V}(\\hat{O})}$ (see eq. 5). Also, the standard error is used to get confidence intervals for the estimated statistic:the 95% confidence interval is estimated as $\\hat{O} \\pm 1.96 \\hat{S}(\\hat{O}) = \\hat{O} \\pm 1.96 \\sqrt{\\hat{V}(\\hat{O})}$.\n",
    "\n",
    "For determining the sample size then we have to estimate the user's accuracies $U_i$ and the std error of the estimated overall accuracy $S(\\hat{O})$. The class fractions $W_i$ are not estimated since they come from counting the number of pixels in each class in the map. \n",
    "\n",
    "To estimate $U_i$ (and thus obtain the standard deviations) we can use the precisions obtained from applying the model on the test set. Take into account $U_i$ from the model testing might still be optimistic. For low ndvi and water we use 0.95 and 0.9 respectively.\n",
    "\n",
    "To find a value of $S(\\hat{O})$ we feel comfortable with, we need to take into account the following: suppose we want an overall accuracy ((TP + TN)/(P+N)) of 0.9, meaning 90% of the pixels were correctly classified. A std error of 0.01 would mean that the confidence interval around this estimated overall accuracy is $0.9 \\pm 0.01*1.96 = 0.9 \\pm 0.0196$, so OA is betwee 88% and 92%. If we increase std error to 0.015, OA would be (approx) between 87% and 93%. \n",
    "\n"
   ]
  },
  {
   "cell_type": "code",
   "execution_count": 6,
   "id": "eb20f937-8f0d-4aa0-82b9-2fe88453d051",
   "metadata": {},
   "outputs": [
    {
     "data": {
      "text/plain": [
       "363.07223806454977"
      ]
     },
     "execution_count": 6,
     "metadata": {},
     "output_type": "execute_result"
    }
   ],
   "source": [
    "# Recreation of sampling design by SEPAL\n",
    "\n",
    "# ---------------------------------------------\n",
    "# --------------- PARAMETERS ------------------\n",
    "# standard error for all the points\n",
    "std_error = 0.015\n",
    "\n",
    "# user's accuracies TP/(TP+FP) (estimates)\n",
    "# classes are: [other vegetation, iceplant, low ndvi, water]\n",
    "U = [0.87, 0.89, 0.9, 0.95]\n",
    "# ---------------------------------------------\n",
    "\n",
    "# fraction of pixels with a given class in total pixels\n",
    "total_pix = sum(n_pix)\n",
    "pix_prop = [n/total_pix for n in n_pix]\n",
    "\n",
    "# standard deviation of user's accuracies\n",
    "stdv = [ np.sqrt(u*(1-u)) for u in U]\n",
    "\n",
    "X = [ x*y for x,y in zip(pix_prop, stdv)]\n",
    "\n",
    "sample_size = (sum(X)/std_error)**2\n",
    "sample_size\n",
    "\n",
    "# distributing sample size among classes\n",
    "#[...]"
   ]
  },
  {
   "cell_type": "code",
   "execution_count": 7,
   "id": "38b0da5e-2122-49b9-906d-a333d4c89354",
   "metadata": {},
   "outputs": [],
   "source": [
    "errors_U =[]\n",
    "strat_samples = []\n",
    "strat_title = []\n",
    "\n",
    "def strat_stderror(U, strat_sample):\n",
    "    return [ np.sqrt(u*(1-u)/(n-1)) for u,n in zip(U, strat_sample) ]"
   ]
  },
  {
   "cell_type": "code",
   "execution_count": 8,
   "id": "fc5e5a50-22d2-4751-acb8-4ef90bd80066",
   "metadata": {},
   "outputs": [],
   "source": [
    "# Distributing sample size among classes\n",
    "\n",
    "# ---------------------------------------------\n",
    "strat_title.append('equal')\n",
    "sample_equal = [sample_size/4 for i in range(0,4)]\n",
    "strat_samples.append(sample_equal)\n",
    "errors_U.append(strat_stderror(U, sample_equal))\n",
    "\n",
    "# ---------------------------------------------\n",
    "class2_prop = n_pix[2]/(n_pix[2]+n_pix[3])\n",
    "class3_prop = n_pix[3]/(n_pix[2]+n_pix[3])\n",
    "\n",
    "# ---------------------------------------------\n",
    "strat_title.append('120')\n",
    "sample_120 = [120, 120, (sample_size-240)*class2_prop, (sample_size-240)*class3_prop] \n",
    "strat_samples.append(sample_120)\n",
    "errors_U.append(strat_stderror(U, sample_120))\n",
    "\n",
    "# ---------------------------------------------\n",
    "strat_title.append('100')\n",
    "sample_100 = [100, 100, (sample_size-200)*class2_prop, (sample_size-200)*class3_prop] \n",
    "strat_samples.append(sample_100)\n",
    "errors_U.append(strat_stderror(U, sample_100))\n",
    "\n",
    "# ---------------------------------------------\n",
    "strat_title.append('87')\n",
    "sample_87 = [87, 87, (sample_size-174)*class2_prop, (sample_size-174)*class3_prop] \n",
    "strat_samples.append(sample_87)\n",
    "errors_U.append(strat_stderror(U, sample_87))\n",
    "\n",
    "# ---------------------------------------------\n",
    "strat_title.append('75')\n",
    "sample_75 = [75, 75, (sample_size-150)*class2_prop, (sample_size-150)*class3_prop] \n",
    "strat_samples.append(sample_75)\n",
    "errors_U.append(strat_stderror(U, sample_75))\n",
    "\n",
    "# ---------------------------------------------\n",
    "strat_title.append('prop')\n",
    "sample_prop = [sample_size*x for x in pix_prop]\n",
    "strat_samples.append(sample_prop)\n",
    "errors_U.append(strat_stderror(U, sample_prop))\n"
   ]
  },
  {
   "cell_type": "code",
   "execution_count": 9,
   "id": "b0fb1f1f-ffa6-4a51-b6df-267fdc5038b8",
   "metadata": {},
   "outputs": [
    {
     "data": {
      "text/html": [
       "<div>\n",
       "<style scoped>\n",
       "    .dataframe tbody tr th:only-of-type {\n",
       "        vertical-align: middle;\n",
       "    }\n",
       "\n",
       "    .dataframe tbody tr th {\n",
       "        vertical-align: top;\n",
       "    }\n",
       "\n",
       "    .dataframe thead th {\n",
       "        text-align: right;\n",
       "    }\n",
       "</style>\n",
       "<table border=\"1\" class=\"dataframe\">\n",
       "  <thead>\n",
       "    <tr style=\"text-align: right;\">\n",
       "      <th></th>\n",
       "      <th>equal</th>\n",
       "      <th>120</th>\n",
       "      <th>100</th>\n",
       "      <th>87</th>\n",
       "      <th>75</th>\n",
       "      <th>prop</th>\n",
       "    </tr>\n",
       "  </thead>\n",
       "  <tbody>\n",
       "    <tr>\n",
       "      <th>0</th>\n",
       "      <td>90.76806</td>\n",
       "      <td>120.000000</td>\n",
       "      <td>100.000000</td>\n",
       "      <td>87.000000</td>\n",
       "      <td>75.000000</td>\n",
       "      <td>103.853014</td>\n",
       "    </tr>\n",
       "    <tr>\n",
       "      <th>1</th>\n",
       "      <td>90.76806</td>\n",
       "      <td>120.000000</td>\n",
       "      <td>100.000000</td>\n",
       "      <td>87.000000</td>\n",
       "      <td>75.000000</td>\n",
       "      <td>5.342186</td>\n",
       "    </tr>\n",
       "    <tr>\n",
       "      <th>2</th>\n",
       "      <td>90.76806</td>\n",
       "      <td>69.587709</td>\n",
       "      <td>92.204576</td>\n",
       "      <td>106.905539</td>\n",
       "      <td>120.475659</td>\n",
       "      <td>143.547576</td>\n",
       "    </tr>\n",
       "    <tr>\n",
       "      <th>3</th>\n",
       "      <td>90.76806</td>\n",
       "      <td>53.484529</td>\n",
       "      <td>70.867662</td>\n",
       "      <td>82.166699</td>\n",
       "      <td>92.596579</td>\n",
       "      <td>110.329462</td>\n",
       "    </tr>\n",
       "  </tbody>\n",
       "</table>\n",
       "</div>"
      ],
      "text/plain": [
       "      equal         120         100          87          75        prop\n",
       "0  90.76806  120.000000  100.000000   87.000000   75.000000  103.853014\n",
       "1  90.76806  120.000000  100.000000   87.000000   75.000000    5.342186\n",
       "2  90.76806   69.587709   92.204576  106.905539  120.475659  143.547576\n",
       "3  90.76806   53.484529   70.867662   82.166699   92.596579  110.329462"
      ]
     },
     "execution_count": 9,
     "metadata": {},
     "output_type": "execute_result"
    }
   ],
   "source": [
    "strat_df = pd.DataFrame(strat_samples).T\n",
    "strat_df.columns  = strat_title\n",
    "strat_df"
   ]
  },
  {
   "cell_type": "code",
   "execution_count": 10,
   "id": "2fd0b9f3-008d-43a5-8573-cf034d520b04",
   "metadata": {},
   "outputs": [
    {
     "data": {
      "text/html": [
       "<div>\n",
       "<style scoped>\n",
       "    .dataframe tbody tr th:only-of-type {\n",
       "        vertical-align: middle;\n",
       "    }\n",
       "\n",
       "    .dataframe tbody tr th {\n",
       "        vertical-align: top;\n",
       "    }\n",
       "\n",
       "    .dataframe thead th {\n",
       "        text-align: right;\n",
       "    }\n",
       "</style>\n",
       "<table border=\"1\" class=\"dataframe\">\n",
       "  <thead>\n",
       "    <tr style=\"text-align: right;\">\n",
       "      <th></th>\n",
       "      <th>equal</th>\n",
       "      <th>120</th>\n",
       "      <th>100</th>\n",
       "      <th>87</th>\n",
       "      <th>75</th>\n",
       "      <th>prop</th>\n",
       "    </tr>\n",
       "  </thead>\n",
       "  <tbody>\n",
       "    <tr>\n",
       "      <th>0</th>\n",
       "      <td>0.035495</td>\n",
       "      <td>0.030829</td>\n",
       "      <td>0.033800</td>\n",
       "      <td>0.036265</td>\n",
       "      <td>0.039094</td>\n",
       "      <td>0.033161</td>\n",
       "    </tr>\n",
       "    <tr>\n",
       "      <th>1</th>\n",
       "      <td>0.034298</td>\n",
       "      <td>0.029789</td>\n",
       "      <td>0.032660</td>\n",
       "      <td>0.035042</td>\n",
       "      <td>0.037776</td>\n",
       "      <td>0.155947</td>\n",
       "    </tr>\n",
       "    <tr>\n",
       "      <th>2</th>\n",
       "      <td>0.031664</td>\n",
       "      <td>0.036224</td>\n",
       "      <td>0.031413</td>\n",
       "      <td>0.029152</td>\n",
       "      <td>0.027446</td>\n",
       "      <td>0.025127</td>\n",
       "    </tr>\n",
       "    <tr>\n",
       "      <th>3</th>\n",
       "      <td>0.023003</td>\n",
       "      <td>0.030084</td>\n",
       "      <td>0.026074</td>\n",
       "      <td>0.024191</td>\n",
       "      <td>0.022772</td>\n",
       "      <td>0.020844</td>\n",
       "    </tr>\n",
       "  </tbody>\n",
       "</table>\n",
       "</div>"
      ],
      "text/plain": [
       "      equal       120       100        87        75      prop\n",
       "0  0.035495  0.030829  0.033800  0.036265  0.039094  0.033161\n",
       "1  0.034298  0.029789  0.032660  0.035042  0.037776  0.155947\n",
       "2  0.031664  0.036224  0.031413  0.029152  0.027446  0.025127\n",
       "3  0.023003  0.030084  0.026074  0.024191  0.022772  0.020844"
      ]
     },
     "execution_count": 10,
     "metadata": {},
     "output_type": "execute_result"
    }
   ],
   "source": [
    "errors_df = pd.DataFrame(errors_U).T\n",
    "errors_df.columns = strat_title\n",
    "errors_df"
   ]
  },
  {
   "cell_type": "code",
   "execution_count": 11,
   "id": "f4a93237-fff7-448d-b593-d032f2dc2df4",
   "metadata": {},
   "outputs": [
    {
     "data": {
      "text/html": [
       "<div>\n",
       "<style scoped>\n",
       "    .dataframe tbody tr th:only-of-type {\n",
       "        vertical-align: middle;\n",
       "    }\n",
       "\n",
       "    .dataframe tbody tr th {\n",
       "        vertical-align: top;\n",
       "    }\n",
       "\n",
       "    .dataframe thead th {\n",
       "        text-align: right;\n",
       "    }\n",
       "</style>\n",
       "<table border=\"1\" class=\"dataframe\">\n",
       "  <thead>\n",
       "    <tr style=\"text-align: right;\">\n",
       "      <th></th>\n",
       "      <th>equal</th>\n",
       "      <th>120</th>\n",
       "      <th>100</th>\n",
       "      <th>87</th>\n",
       "      <th>75</th>\n",
       "      <th>prop</th>\n",
       "    </tr>\n",
       "  </thead>\n",
       "  <tbody>\n",
       "    <tr>\n",
       "      <th>0</th>\n",
       "      <td>6.957071</td>\n",
       "      <td>6.042462</td>\n",
       "      <td>6.624754</td>\n",
       "      <td>7.107848</td>\n",
       "      <td>7.662518</td>\n",
       "      <td>6.499484</td>\n",
       "    </tr>\n",
       "    <tr>\n",
       "      <th>1</th>\n",
       "      <td>6.722443</td>\n",
       "      <td>5.838678</td>\n",
       "      <td>6.401333</td>\n",
       "      <td>6.868135</td>\n",
       "      <td>7.404098</td>\n",
       "      <td>30.565662</td>\n",
       "    </tr>\n",
       "    <tr>\n",
       "      <th>2</th>\n",
       "      <td>6.206066</td>\n",
       "      <td>7.099932</td>\n",
       "      <td>6.156998</td>\n",
       "      <td>5.713707</td>\n",
       "      <td>5.379447</td>\n",
       "      <td>4.924900</td>\n",
       "    </tr>\n",
       "    <tr>\n",
       "      <th>3</th>\n",
       "      <td>4.508603</td>\n",
       "      <td>5.896404</td>\n",
       "      <td>5.110516</td>\n",
       "      <td>4.741480</td>\n",
       "      <td>4.463374</td>\n",
       "      <td>4.085397</td>\n",
       "    </tr>\n",
       "  </tbody>\n",
       "</table>\n",
       "</div>"
      ],
      "text/plain": [
       "      equal       120       100        87        75       prop\n",
       "0  6.957071  6.042462  6.624754  7.107848  7.662518   6.499484\n",
       "1  6.722443  5.838678  6.401333  6.868135  7.404098  30.565662\n",
       "2  6.206066  7.099932  6.156998  5.713707  5.379447   4.924900\n",
       "3  4.508603  5.896404  5.110516  4.741480  4.463374   4.085397"
      ]
     },
     "execution_count": 11,
     "metadata": {},
     "output_type": "execute_result"
    }
   ],
   "source": [
    "196*errors_df"
   ]
  },
  {
   "cell_type": "code",
   "execution_count": 25,
   "id": "2689cf7e-e12b-439d-88fe-f633223345c4",
   "metadata": {},
   "outputs": [
    {
     "data": {
      "text/plain": [
       "465"
      ]
     },
     "execution_count": 25,
     "metadata": {},
     "output_type": "execute_result"
    }
   ],
   "source": [
    "100 + 100 + 150 + 115\n",
    "# GOING FOR THE 100 PER MINORITY CLASS"
   ]
  },
  {
   "cell_type": "code",
   "execution_count": null,
   "id": "a3286d85-3054-47d2-84ae-c7696b96662f",
   "metadata": {},
   "outputs": [],
   "source": [
    "100 + 100 + 150 + 100"
   ]
  }
 ],
 "metadata": {
  "kernelspec": {
   "display_name": "Python 3 (ipykernel)",
   "language": "python",
   "name": "python3"
  },
  "language_info": {
   "codemirror_mode": {
    "name": "ipython",
    "version": 3
   },
   "file_extension": ".py",
   "mimetype": "text/x-python",
   "name": "python",
   "nbconvert_exporter": "python",
   "pygments_lexer": "ipython3",
   "version": "3.10.6"
  }
 },
 "nbformat": 4,
 "nbformat_minor": 5
}
