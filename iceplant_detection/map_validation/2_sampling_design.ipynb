{
 "cells": [
  {
   "cell_type": "code",
   "execution_count": 1,
   "id": "74936454-4a69-4838-809f-2bce3d5b840e",
   "metadata": {},
   "outputs": [],
   "source": [
    "import numpy as np\n",
    "import os\n",
    "import pandas as pd"
   ]
  },
  {
   "cell_type": "code",
   "execution_count": 2,
   "id": "286728e3-e5ab-467e-b16f-5c8923221bd6",
   "metadata": {},
   "outputs": [
    {
     "data": {
      "text/html": [
       "<div>\n",
       "<style scoped>\n",
       "    .dataframe tbody tr th:only-of-type {\n",
       "        vertical-align: middle;\n",
       "    }\n",
       "\n",
       "    .dataframe tbody tr th {\n",
       "        vertical-align: top;\n",
       "    }\n",
       "\n",
       "    .dataframe thead th {\n",
       "        text-align: right;\n",
       "    }\n",
       "</style>\n",
       "<table border=\"1\" class=\"dataframe\">\n",
       "  <thead>\n",
       "    <tr style=\"text-align: right;\">\n",
       "      <th></th>\n",
       "      <th>n_nonice_2018</th>\n",
       "      <th>n_ice_2018</th>\n",
       "      <th>n_ground_2018</th>\n",
       "      <th>n_water_2018</th>\n",
       "      <th>raster</th>\n",
       "    </tr>\n",
       "  </thead>\n",
       "  <tbody>\n",
       "    <tr>\n",
       "      <th>0</th>\n",
       "      <td>35863561</td>\n",
       "      <td>5897584</td>\n",
       "      <td>113626707</td>\n",
       "      <td>59950901</td>\n",
       "      <td>LS_merged_crs26910_S_2018</td>\n",
       "    </tr>\n",
       "    <tr>\n",
       "      <th>1</th>\n",
       "      <td>6730191</td>\n",
       "      <td>899027</td>\n",
       "      <td>24887840</td>\n",
       "      <td>16301218</td>\n",
       "      <td>LS_merged_crs26910_W_2018</td>\n",
       "    </tr>\n",
       "    <tr>\n",
       "      <th>2</th>\n",
       "      <td>79013822</td>\n",
       "      <td>3880728</td>\n",
       "      <td>73808926</td>\n",
       "      <td>66038443</td>\n",
       "      <td>LS_merged_crs26911_2018</td>\n",
       "    </tr>\n",
       "  </tbody>\n",
       "</table>\n",
       "</div>"
      ],
      "text/plain": [
       "   n_nonice_2018  n_ice_2018  n_ground_2018  n_water_2018  \\\n",
       "0       35863561     5897584      113626707      59950901   \n",
       "1        6730191      899027       24887840      16301218   \n",
       "2       79013822     3880728       73808926      66038443   \n",
       "\n",
       "                      raster  \n",
       "0  LS_merged_crs26910_S_2018  \n",
       "1  LS_merged_crs26910_W_2018  \n",
       "2    LS_merged_crs26911_2018  "
      ]
     },
     "execution_count": 2,
     "metadata": {},
     "output_type": "execute_result"
    }
   ],
   "source": [
    "year = 2018\n",
    "pixel_count = pd.read_csv(os.path.join(os.getcwd(), 'rasters_'+str(year)+'_pixel_counts.csv'))\n",
    "pixel_count"
   ]
  },
  {
   "cell_type": "code",
   "execution_count": 3,
   "id": "21b6fb31-7b7d-4249-9408-b5a2fc804be1",
   "metadata": {},
   "outputs": [
    {
     "data": {
      "text/plain": [
       "[121607574, 10677339, 212323473, 142290562]"
      ]
     },
     "execution_count": 3,
     "metadata": {},
     "output_type": "execute_result"
    }
   ],
   "source": [
    "# total number of pixels in neach category\n",
    "n_pix = [sum(pixel_count.iloc[:,c]) for c in range(0,4)]\n",
    "n_pix"
   ]
  },
  {
   "cell_type": "code",
   "execution_count": 4,
   "id": "eb20f937-8f0d-4aa0-82b9-2fe88453d051",
   "metadata": {},
   "outputs": [
    {
     "data": {
      "text/plain": [
       "454.2894327376922"
      ]
     },
     "execution_count": 4,
     "metadata": {},
     "output_type": "execute_result"
    }
   ],
   "source": [
    "# Recreation of sampling design by SEPAL\n",
    "\n",
    "# ---------------------------------------------\n",
    "# --------------- PARAMETERS ------------------\n",
    "# standard error for all the points\n",
    "std_error = 0.015\n",
    "\n",
    "# user's accuracies TP/(TP+FP) (estimates)\n",
    "U = [0.7, 0.6, 0.9, 0.95]\n",
    "# ---------------------------------------------\n",
    "\n",
    "# fraction of pixels with a given class in total pixels\n",
    "total_pix = sum(n_pix)\n",
    "pix_prop = [n/total_pix for n in n_pix]\n",
    "\n",
    "# standard deviation of user's accuracies\n",
    "stdv = [ np.sqrt(u*(1-u)) for u in U]\n",
    "\n",
    "X = [ x*y for x,y in zip(pix_prop, stdv)]\n",
    "\n",
    "sample_size = (sum(X)/std_error)**2\n",
    "sample_size\n",
    "\n",
    "# distributing sample size among classes\n",
    "#[...]"
   ]
  },
  {
   "cell_type": "code",
   "execution_count": 5,
   "id": "38b0da5e-2122-49b9-906d-a333d4c89354",
   "metadata": {},
   "outputs": [],
   "source": [
    "errors_U =[]\n",
    "strat_samples = []\n",
    "strat_title = []\n",
    "\n",
    "def strat_stderror(U, strat_sample):\n",
    "    return [ np.sqrt(u*(1-u)/(n-1)) for u,n in zip(U, strat_sample) ]"
   ]
  },
  {
   "cell_type": "code",
   "execution_count": 6,
   "id": "fc5e5a50-22d2-4751-acb8-4ef90bd80066",
   "metadata": {},
   "outputs": [],
   "source": [
    "# Distributing sample size among classes\n",
    "\n",
    "# ---------------------------------------------\n",
    "strat_title.append('equal')\n",
    "sample_equal = [sample_size/4 for i in range(0,4)]\n",
    "strat_samples.append(sample_equal)\n",
    "errors_U.append(strat_stderror(U, sample_equal))\n",
    "\n",
    "# ---------------------------------------------\n",
    "class2_prop = n_pix[2]/(n_pix[2]+n_pix[3])\n",
    "class3_prop = n_pix[3]/(n_pix[2]+n_pix[3])\n",
    "\n",
    "# ---------------------------------------------\n",
    "strat_title.append('120')\n",
    "sample_120 = [120, 120, (sample_size-240)*class2_prop, (sample_size-240)*class3_prop] \n",
    "strat_samples.append(sample_120)\n",
    "errors_U.append(strat_stderror(U, sample_120))\n",
    "\n",
    "# ---------------------------------------------\n",
    "strat_title.append('100')\n",
    "sample_100 = [100, 100, (sample_size-200)*class2_prop, (sample_size-200)*class3_prop] \n",
    "strat_samples.append(sample_100)\n",
    "errors_U.append(strat_stderror(U, sample_100))\n",
    "\n",
    "# ---------------------------------------------\n",
    "strat_title.append('87')\n",
    "sample_87 = [87, 87, (sample_size-174)*class2_prop, (sample_size-174)*class3_prop] \n",
    "strat_samples.append(sample_87)\n",
    "errors_U.append(strat_stderror(U, sample_87))\n",
    "\n",
    "# ---------------------------------------------\n",
    "strat_title.append('75')\n",
    "sample_75 = [75, 75, (sample_size-150)*class2_prop, (sample_size-150)*class3_prop] \n",
    "strat_samples.append(sample_75)\n",
    "errors_U.append(strat_stderror(U, sample_75))\n",
    "\n",
    "# ---------------------------------------------\n",
    "strat_title.append('prop')\n",
    "sample_prop = [sample_size*x for x in pix_prop]\n",
    "strat_samples.append(sample_prop)\n",
    "errors_U.append(strat_stderror(U, sample_prop))\n"
   ]
  },
  {
   "cell_type": "code",
   "execution_count": 7,
   "id": "b0fb1f1f-ffa6-4a51-b6df-267fdc5038b8",
   "metadata": {},
   "outputs": [
    {
     "data": {
      "text/html": [
       "<div>\n",
       "<style scoped>\n",
       "    .dataframe tbody tr th:only-of-type {\n",
       "        vertical-align: middle;\n",
       "    }\n",
       "\n",
       "    .dataframe tbody tr th {\n",
       "        vertical-align: top;\n",
       "    }\n",
       "\n",
       "    .dataframe thead th {\n",
       "        text-align: right;\n",
       "    }\n",
       "</style>\n",
       "<table border=\"1\" class=\"dataframe\">\n",
       "  <thead>\n",
       "    <tr style=\"text-align: right;\">\n",
       "      <th></th>\n",
       "      <th>equal</th>\n",
       "      <th>120</th>\n",
       "      <th>100</th>\n",
       "      <th>87</th>\n",
       "      <th>75</th>\n",
       "      <th>prop</th>\n",
       "    </tr>\n",
       "  </thead>\n",
       "  <tbody>\n",
       "    <tr>\n",
       "      <th>0</th>\n",
       "      <td>113.572358</td>\n",
       "      <td>120.000000</td>\n",
       "      <td>100.000000</td>\n",
       "      <td>87.000000</td>\n",
       "      <td>75.000000</td>\n",
       "      <td>113.463042</td>\n",
       "    </tr>\n",
       "    <tr>\n",
       "      <th>1</th>\n",
       "      <td>113.572358</td>\n",
       "      <td>120.000000</td>\n",
       "      <td>100.000000</td>\n",
       "      <td>87.000000</td>\n",
       "      <td>75.000000</td>\n",
       "      <td>9.962236</td>\n",
       "    </tr>\n",
       "    <tr>\n",
       "      <th>2</th>\n",
       "      <td>113.572358</td>\n",
       "      <td>128.304782</td>\n",
       "      <td>152.254593</td>\n",
       "      <td>167.821970</td>\n",
       "      <td>182.191856</td>\n",
       "      <td>198.103345</td>\n",
       "    </tr>\n",
       "    <tr>\n",
       "      <th>3</th>\n",
       "      <td>113.572358</td>\n",
       "      <td>85.984650</td>\n",
       "      <td>102.034840</td>\n",
       "      <td>112.467463</td>\n",
       "      <td>122.097577</td>\n",
       "      <td>132.760810</td>\n",
       "    </tr>\n",
       "  </tbody>\n",
       "</table>\n",
       "</div>"
      ],
      "text/plain": [
       "        equal         120         100          87          75        prop\n",
       "0  113.572358  120.000000  100.000000   87.000000   75.000000  113.463042\n",
       "1  113.572358  120.000000  100.000000   87.000000   75.000000    9.962236\n",
       "2  113.572358  128.304782  152.254593  167.821970  182.191856  198.103345\n",
       "3  113.572358   85.984650  102.034840  112.467463  122.097577  132.760810"
      ]
     },
     "execution_count": 7,
     "metadata": {},
     "output_type": "execute_result"
    }
   ],
   "source": [
    "strat_df = pd.DataFrame(strat_samples).T\n",
    "strat_df.columns  = strat_title\n",
    "strat_df"
   ]
  },
  {
   "cell_type": "code",
   "execution_count": 8,
   "id": "2fd0b9f3-008d-43a5-8573-cf034d520b04",
   "metadata": {},
   "outputs": [
    {
     "data": {
      "text/html": [
       "<div>\n",
       "<style scoped>\n",
       "    .dataframe tbody tr th:only-of-type {\n",
       "        vertical-align: middle;\n",
       "    }\n",
       "\n",
       "    .dataframe tbody tr th {\n",
       "        vertical-align: top;\n",
       "    }\n",
       "\n",
       "    .dataframe thead th {\n",
       "        text-align: right;\n",
       "    }\n",
       "</style>\n",
       "<table border=\"1\" class=\"dataframe\">\n",
       "  <thead>\n",
       "    <tr style=\"text-align: right;\">\n",
       "      <th></th>\n",
       "      <th>equal</th>\n",
       "      <th>120</th>\n",
       "      <th>100</th>\n",
       "      <th>87</th>\n",
       "      <th>75</th>\n",
       "      <th>prop</th>\n",
       "    </tr>\n",
       "  </thead>\n",
       "  <tbody>\n",
       "    <tr>\n",
       "      <th>0</th>\n",
       "      <td>0.043191</td>\n",
       "      <td>0.042008</td>\n",
       "      <td>0.046057</td>\n",
       "      <td>0.049415</td>\n",
       "      <td>0.053271</td>\n",
       "      <td>0.043212</td>\n",
       "    </tr>\n",
       "    <tr>\n",
       "      <th>1</th>\n",
       "      <td>0.046173</td>\n",
       "      <td>0.044909</td>\n",
       "      <td>0.049237</td>\n",
       "      <td>0.052827</td>\n",
       "      <td>0.056949</td>\n",
       "      <td>0.163643</td>\n",
       "    </tr>\n",
       "    <tr>\n",
       "      <th>2</th>\n",
       "      <td>0.028275</td>\n",
       "      <td>0.026589</td>\n",
       "      <td>0.024393</td>\n",
       "      <td>0.023227</td>\n",
       "      <td>0.022287</td>\n",
       "      <td>0.021369</td>\n",
       "    </tr>\n",
       "    <tr>\n",
       "      <th>3</th>\n",
       "      <td>0.020541</td>\n",
       "      <td>0.023642</td>\n",
       "      <td>0.021683</td>\n",
       "      <td>0.020643</td>\n",
       "      <td>0.019805</td>\n",
       "      <td>0.018987</td>\n",
       "    </tr>\n",
       "  </tbody>\n",
       "</table>\n",
       "</div>"
      ],
      "text/plain": [
       "      equal       120       100        87        75      prop\n",
       "0  0.043191  0.042008  0.046057  0.049415  0.053271  0.043212\n",
       "1  0.046173  0.044909  0.049237  0.052827  0.056949  0.163643\n",
       "2  0.028275  0.026589  0.024393  0.023227  0.022287  0.021369\n",
       "3  0.020541  0.023642  0.021683  0.020643  0.019805  0.018987"
      ]
     },
     "execution_count": 8,
     "metadata": {},
     "output_type": "execute_result"
    }
   ],
   "source": [
    "errors_df = pd.DataFrame(errors_U).T\n",
    "errors_df.columns = strat_title\n",
    "errors_df"
   ]
  },
  {
   "cell_type": "code",
   "execution_count": 9,
   "id": "f4a93237-fff7-448d-b593-d032f2dc2df4",
   "metadata": {},
   "outputs": [
    {
     "data": {
      "text/html": [
       "<div>\n",
       "<style scoped>\n",
       "    .dataframe tbody tr th:only-of-type {\n",
       "        vertical-align: middle;\n",
       "    }\n",
       "\n",
       "    .dataframe tbody tr th {\n",
       "        vertical-align: top;\n",
       "    }\n",
       "\n",
       "    .dataframe thead th {\n",
       "        text-align: right;\n",
       "    }\n",
       "</style>\n",
       "<table border=\"1\" class=\"dataframe\">\n",
       "  <thead>\n",
       "    <tr style=\"text-align: right;\">\n",
       "      <th></th>\n",
       "      <th>equal</th>\n",
       "      <th>120</th>\n",
       "      <th>100</th>\n",
       "      <th>87</th>\n",
       "      <th>75</th>\n",
       "      <th>prop</th>\n",
       "    </tr>\n",
       "  </thead>\n",
       "  <tbody>\n",
       "    <tr>\n",
       "      <th>0</th>\n",
       "      <td>8.465446</td>\n",
       "      <td>8.233647</td>\n",
       "      <td>9.027097</td>\n",
       "      <td>9.685376</td>\n",
       "      <td>10.441187</td>\n",
       "      <td>8.469559</td>\n",
       "    </tr>\n",
       "    <tr>\n",
       "      <th>1</th>\n",
       "      <td>9.049942</td>\n",
       "      <td>8.802139</td>\n",
       "      <td>9.650373</td>\n",
       "      <td>10.354103</td>\n",
       "      <td>11.162098</td>\n",
       "      <td>32.074028</td>\n",
       "    </tr>\n",
       "    <tr>\n",
       "      <th>2</th>\n",
       "      <td>5.541935</td>\n",
       "      <td>5.211407</td>\n",
       "      <td>4.781047</td>\n",
       "      <td>4.552508</td>\n",
       "      <td>4.368255</td>\n",
       "      <td>4.188228</td>\n",
       "    </tr>\n",
       "    <tr>\n",
       "      <th>3</th>\n",
       "      <td>4.026123</td>\n",
       "      <td>4.633750</td>\n",
       "      <td>4.249788</td>\n",
       "      <td>4.046027</td>\n",
       "      <td>3.881818</td>\n",
       "      <td>3.721429</td>\n",
       "    </tr>\n",
       "  </tbody>\n",
       "</table>\n",
       "</div>"
      ],
      "text/plain": [
       "      equal       120       100         87         75       prop\n",
       "0  8.465446  8.233647  9.027097   9.685376  10.441187   8.469559\n",
       "1  9.049942  8.802139  9.650373  10.354103  11.162098  32.074028\n",
       "2  5.541935  5.211407  4.781047   4.552508   4.368255   4.188228\n",
       "3  4.026123  4.633750  4.249788   4.046027   3.881818   3.721429"
      ]
     },
     "execution_count": 9,
     "metadata": {},
     "output_type": "execute_result"
    }
   ],
   "source": [
    "196*errors_df"
   ]
  },
  {
   "cell_type": "code",
   "execution_count": 25,
   "id": "2689cf7e-e12b-439d-88fe-f633223345c4",
   "metadata": {},
   "outputs": [
    {
     "data": {
      "text/plain": [
       "465"
      ]
     },
     "execution_count": 25,
     "metadata": {},
     "output_type": "execute_result"
    }
   ],
   "source": [
    "100 + 100 + 150 + 115\n",
    "# GOING FOR THE 100 PER MINORITY CLASS"
   ]
  },
  {
   "cell_type": "code",
   "execution_count": null,
   "id": "a3286d85-3054-47d2-84ae-c7696b96662f",
   "metadata": {},
   "outputs": [],
   "source": [
    "100 + 100 + 150 + 100"
   ]
  }
 ],
 "metadata": {
  "kernelspec": {
   "display_name": "Python 3 (ipykernel)",
   "language": "python",
   "name": "python3"
  },
  "language_info": {
   "codemirror_mode": {
    "name": "ipython",
    "version": 3
   },
   "file_extension": ".py",
   "mimetype": "text/x-python",
   "name": "python",
   "nbconvert_exporter": "python",
   "pygments_lexer": "ipython3",
   "version": "3.10.6"
  }
 },
 "nbformat": 4,
 "nbformat_minor": 5
}
