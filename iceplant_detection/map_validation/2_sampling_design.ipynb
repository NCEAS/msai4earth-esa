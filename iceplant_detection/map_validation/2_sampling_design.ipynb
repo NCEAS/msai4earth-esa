{
 "cells": [
  {
   "cell_type": "markdown",
   "id": "ac9d6906-12d0-48d8-b9ea-6aec995973f2",
   "metadata": {},
   "source": [
    "Following P. Olofsson et al.:\n",
    "\n",
    "(page 52 sect. 5)\n",
    "\n",
    "This accuracy asessment is designed for the objectives of:\n",
    "- estimating overall and class-specific accuracies\n",
    "- areas of the individual classes (as determined by the reference classification), and\n",
    "- confidence intervals for each accuracy and area parameter\n",
    "\n",
    "\n",
    "This sampling design follows a stratified random design per ap class (iceplant, other vegetation, low ndvi, water)."
   ]
  },
  {
   "cell_type": "code",
   "execution_count": 1,
   "id": "74936454-4a69-4838-809f-2bce3d5b840e",
   "metadata": {},
   "outputs": [],
   "source": [
    "import os\n",
    "import numpy as np\n",
    "import pandas as pd"
   ]
  },
  {
   "cell_type": "markdown",
   "id": "70457843-8aa6-4622-a998-04a4c62df9fc",
   "metadata": {},
   "source": [
    "### Pixels per class in full map of SB coast"
   ]
  },
  {
   "cell_type": "code",
   "execution_count": 2,
   "id": "286728e3-e5ab-467e-b16f-5c8923221bd6",
   "metadata": {},
   "outputs": [
    {
     "data": {
      "text/html": [
       "<div>\n",
       "<style scoped>\n",
       "    .dataframe tbody tr th:only-of-type {\n",
       "        vertical-align: middle;\n",
       "    }\n",
       "\n",
       "    .dataframe tbody tr th {\n",
       "        vertical-align: top;\n",
       "    }\n",
       "\n",
       "    .dataframe thead th {\n",
       "        text-align: right;\n",
       "    }\n",
       "</style>\n",
       "<table border=\"1\" class=\"dataframe\">\n",
       "  <thead>\n",
       "    <tr style=\"text-align: right;\">\n",
       "      <th></th>\n",
       "      <th>n_nonice_2020</th>\n",
       "      <th>n_ice_2020</th>\n",
       "      <th>n_ground_2020</th>\n",
       "      <th>n_water_2020</th>\n",
       "      <th>raster</th>\n",
       "    </tr>\n",
       "  </thead>\n",
       "  <tbody>\n",
       "    <tr>\n",
       "      <th>0</th>\n",
       "      <td>36271293</td>\n",
       "      <td>5382187</td>\n",
       "      <td>111150412</td>\n",
       "      <td>62968690</td>\n",
       "      <td>modelAE5_FP_2020_merged_crs26910_S_2020</td>\n",
       "    </tr>\n",
       "    <tr>\n",
       "      <th>1</th>\n",
       "      <td>1122203</td>\n",
       "      <td>30004</td>\n",
       "      <td>1891593</td>\n",
       "      <td>2893071</td>\n",
       "      <td>modelAE5_FP_2020_merged_crs26910_W_2020</td>\n",
       "    </tr>\n",
       "    <tr>\n",
       "      <th>2</th>\n",
       "      <td>89669636</td>\n",
       "      <td>1123921</td>\n",
       "      <td>62587031</td>\n",
       "      <td>69125241</td>\n",
       "      <td>modelAE5_FP_2020_merged_crs26911_2020</td>\n",
       "    </tr>\n",
       "  </tbody>\n",
       "</table>\n",
       "</div>"
      ],
      "text/plain": [
       "   n_nonice_2020  n_ice_2020  n_ground_2020  n_water_2020  \\\n",
       "0       36271293     5382187      111150412      62968690   \n",
       "1        1122203       30004        1891593       2893071   \n",
       "2       89669636     1123921       62587031      69125241   \n",
       "\n",
       "                                    raster  \n",
       "0  modelAE5_FP_2020_merged_crs26910_S_2020  \n",
       "1  modelAE5_FP_2020_merged_crs26910_W_2020  \n",
       "2    modelAE5_FP_2020_merged_crs26911_2020  "
      ]
     },
     "execution_count": 2,
     "metadata": {},
     "output_type": "execute_result"
    }
   ],
   "source": [
    "year = 2020\n",
    "prefix = 'modelAE5_FP_2020'\n",
    "pixel_count = pd.read_csv(os.path.join(os.getcwd(), prefix+'_rasters_'+str(year)+'_pixel_counts.csv'))\n",
    "pixel_count"
   ]
  },
  {
   "cell_type": "code",
   "execution_count": 3,
   "id": "21b6fb31-7b7d-4249-9408-b5a2fc804be1",
   "metadata": {},
   "outputs": [
    {
     "data": {
      "text/plain": [
       "[127063132, 6536112, 175629036, 134987002]"
      ]
     },
     "execution_count": 3,
     "metadata": {},
     "output_type": "execute_result"
    }
   ],
   "source": [
    "# total number of pixels in neach category\n",
    "n_pix = [sum(pixel_count.iloc[:,c]) for c in range(0,4)]\n",
    "n_pix"
   ]
  },
  {
   "cell_type": "markdown",
   "id": "766cfa8e-97f3-47a0-994f-958669133da7",
   "metadata": {},
   "source": [
    "### 5.1.1  Determining the sample size\n",
    "\n",
    "For stratified random sampling Cochran (1977 eq 5.25) suggests the following sample size formula:\n",
    "\n",
    "$n \\approx \\left( \\frac{\\sum W_iS_i}{S(\\hat{O})}\\right)^2$, where\n",
    "\n",
    "$S(\\hat{O})$ is the standard error of the estimated overall accuracy that we would like to achieve\n",
    "\n",
    "$W_i$ is the fraction of the map labeled as class $i$\n",
    "\n",
    "$S_i = \\sqrt{U_i(1-U_i)}$ is the standard deviation of class $i$.\n",
    "\n",
    "\n",
    "In this last formula, $U_i$ are the user's accuracies for class $i$, i.e. the precision for each class: TP/(TP+FP).\n",
    "\n",
    "Recall that the square root of the estimated variance results in the standard error of the estimator. For example, in the case of the estimated overall accuracy of the map $\\hat{O}$ we have that $\\hat{S}(\\hat{O}) = \\sqrt{\\hat{V}(\\hat{O})}$ (see eq. 5). Also, the standard error is used to get confidence intervals for the estimated statistic:the 95% confidence interval is estimated as $\\hat{O} \\pm 1.96 \\hat{S}(\\hat{O}) = \\hat{O} \\pm 1.96 \\sqrt{\\hat{V}(\\hat{O})}$.\n",
    "\n",
    "For determining the sample size then we have to estimate the user's accuracies $U_i$ and the std error of the estimated overall accuracy $S(\\hat{O})$. The class fractions $W_i$ are not estimated since they come from counting the number of pixels in each class in the map. \n",
    "\n",
    "To estimate $U_i$ (and thus obtain the standard deviations) we can use the precisions obtained from applying the model on the test set. Take into account $U_i$ from the model testing might still be optimistic. For low ndvi and water we use 0.95 and 0.9 respectively.\n",
    "\n",
    "To find a value of $S(\\hat{O})$ we feel comfortable with, we need to take into account the following: suppose we want an overall accuracy ((TP + TN)/(P+N)) of 0.9, meaning 90% of the pixels were correctly classified. A std error of 0.01 would mean that the confidence interval around this estimated overall accuracy is $0.9 \\pm 0.01*1.96 = 0.9 \\pm 0.0196$, so OA is betwee 88% and 92%. If we increase std error to 0.015, OA would be (approx) between 87% and 93%. \n",
    "\n"
   ]
  },
  {
   "cell_type": "code",
   "execution_count": 4,
   "id": "eb20f937-8f0d-4aa0-82b9-2fe88453d051",
   "metadata": {},
   "outputs": [
    {
     "data": {
      "text/plain": [
       "413.8258717046335"
      ]
     },
     "execution_count": 4,
     "metadata": {},
     "output_type": "execute_result"
    }
   ],
   "source": [
    "# Recreation of sampling design by SEPAL\n",
    "\n",
    "# ---------------------------------------------\n",
    "# --------------- PARAMETERS ------------------\n",
    "# standard error for all the points\n",
    "std_error = 0.015\n",
    "\n",
    "# user's accuracies TP/(TP+FP) (estimates)\n",
    "# classes are: [other vegetation, iceplant, low ndvi, water]\n",
    "U = [0.8, 0.8, 0.9, 0.95]\n",
    "# ---------------------------------------------\n",
    "\n",
    "# fraction of pixels with a given class in total pixels\n",
    "total_pix = sum(n_pix)\n",
    "pix_prop = [n/total_pix for n in n_pix]\n",
    "\n",
    "# standard deviation of user's accuracies\n",
    "stdv = [ np.sqrt(u*(1-u)) for u in U]\n",
    "\n",
    "X = [ x*y for x,y in zip(pix_prop, stdv)]\n",
    "\n",
    "sample_size = (sum(X)/std_error)**2\n",
    "sample_size\n",
    "\n",
    "# distributing sample size among classes\n",
    "#[...]"
   ]
  },
  {
   "cell_type": "markdown",
   "id": "099913e1-6ce3-4e34-a672-165f84a77fd7",
   "metadata": {},
   "source": [
    "### 5.1.2 Determine sample allocation to strata\n",
    "\n",
    "\"Once the overall samle size is chosen, we determine the allocation of the sample to strata.\"\n",
    "\n",
    "Roughly speaking, there are two poles for the sample allocation: \n",
    "\n",
    "(1) propotional: allocate sample sizes proportionally to the area covered by each class\n",
    "\n",
    "(2) equal: divide the sample size equally among strata. \n",
    "\n",
    "The tradeoffs are that proportional allocation will have few samples in rare classes (such as iceplant) and thus will give imprecise estimates of user's accuracy of these rare classes. On the other hand, equal allocation \"is not optimized for estimating area and overall accuracy\". A suggested middle point in P. Olofsson et al. is to first allocate a fixed sample size of 50-100 to rare classes, calibrating the sample size according to what standard error we would want to achieve based on the assumed user's accuracies for those classes. After rare classes have a specified sample size, then we distribute the remaining points from the sample proportionally among the remaining classes. The the estimated std errors and accuracies can be computed.\n",
    "\n"
   ]
  },
  {
   "cell_type": "code",
   "execution_count": 26,
   "id": "38b0da5e-2122-49b9-906d-a333d4c89354",
   "metadata": {},
   "outputs": [],
   "source": [
    "errors_U =[]\n",
    "strat_samples = []\n",
    "strat_title = []\n",
    "\n",
    "def strat_stderror(U, strat_sample):\n",
    "    \" estimated standard error of estimated user's accuracies (U) per class (see eq. 6 P. Oloffson et al.) \"\n",
    "    return [ np.sqrt(u*(1-u)/(n-1)) for u,n in zip(U, strat_sample) ]\n",
    "\n",
    "\n",
    "def sample_allocation(fixed_n, fix_veg, sample_size, n_pix):\n",
    "    \" sample allocation per class giving either (other veg and iceplant) or only iceplant a fixed number of sample points and distributing the rest proportionally\"\n",
    "    if fix_veg:\n",
    "        d = n_pix[2]+n_pix[3] # total pixels of water + low ndvi\n",
    "        prop2 = n_pix[2]/d\n",
    "        prop3 = n_pix[3]/d\n",
    "        remain = sample_size-(fixed_n*2)\n",
    "        return [fixed_n, fixed_n, int(remain*prop2), int(remain*prop3)] \n",
    "    \n",
    "    d = n_pix[0] + n_pix[2] + n_pix[3] # total pixels of other vegetation + water + low ndvi\n",
    "    prop0 = n_pix[0]/d\n",
    "    prop2 = n_pix[2]/d\n",
    "    prop3 = n_pix[3]/d\n",
    "    remain = sample_size-fixed_n\n",
    "    return [int(remain*prop0), fixed_n, int(remain*prop2), int(remain*prop3)] \n",
    "\n",
    "\n",
    "def confidence_intervals(U, strat_sample):\n",
    "    \" radius of confidence interval (as percentage) around estimated user's accuracies (U) with given stratied sample allocation\"\n",
    "    se = strat_stderror(U, strat_sample)\n",
    "    return [np.round(196*x,2) for x in se]\n",
    "    "
   ]
  },
  {
   "cell_type": "code",
   "execution_count": 27,
   "id": "cdac69ed-9b34-49d1-bebb-48e2025c4053",
   "metadata": {},
   "outputs": [
    {
     "data": {
      "text/plain": [
       "[7.19, 7.19, 5.96, 4.95]"
      ]
     },
     "execution_count": 27,
     "metadata": {},
     "output_type": "execute_result"
    }
   ],
   "source": [
    "confidence_intervals(U,sample_120)"
   ]
  },
  {
   "cell_type": "code",
   "execution_count": null,
   "id": "720615f9-94f6-409e-9e4f-90a85c47726b",
   "metadata": {},
   "outputs": [],
   "source": []
  },
  {
   "cell_type": "code",
   "execution_count": 16,
   "id": "70172cee-92d2-4c76-b4fe-58b70ccda9cd",
   "metadata": {},
   "outputs": [
    {
     "data": {
      "text/plain": [
       "[91, 100, 125, 96]"
      ]
     },
     "execution_count": 16,
     "metadata": {},
     "output_type": "execute_result"
    }
   ],
   "source": [
    "sample_allocation(100,False,sample_size, n_pix)"
   ]
  },
  {
   "cell_type": "code",
   "execution_count": 22,
   "id": "fc5e5a50-22d2-4751-acb8-4ef90bd80066",
   "metadata": {},
   "outputs": [],
   "source": [
    "# Distributing sample size among classes\n",
    "\n",
    "# ---------------------------------------------\n",
    "strat_title.append('equal')\n",
    "sample_equal = [sample_size/4 for i in range(0,4)]\n",
    "strat_samples.append(sample_equal)\n",
    "errors_U.append(strat_stderror(U, sample_equal))\n",
    "\n",
    "# ---------------------------------------------\n",
    "class2_prop = n_pix[2]/(n_pix[2]+n_pix[3])\n",
    "class3_prop = n_pix[3]/(n_pix[2]+n_pix[3])\n",
    "\n",
    "# ---------------------------------------------\n",
    "strat_title.append('120')\n",
    "sample_120 = [120, 120, (sample_size-240)*class2_prop, (sample_size-240)*class3_prop] \n",
    "strat_samples.append(sample_120)\n",
    "errors_U.append(strat_stderror(U, sample_120))\n",
    "\n",
    "# ---------------------------------------------\n",
    "strat_title.append('100')\n",
    "sample_100 = [100, 100, (sample_size-200)*class2_prop, (sample_size-200)*class3_prop] \n",
    "strat_samples.append(sample_100)\n",
    "errors_U.append(strat_stderror(U, sample_100))\n",
    "\n",
    "# ---------------------------------------------\n",
    "strat_title.append('87')\n",
    "sample_87 = [87, 87, (sample_size-174)*class2_prop, (sample_size-174)*class3_prop] \n",
    "strat_samples.append(sample_87)\n",
    "errors_U.append(strat_stderror(U, sample_87))\n",
    "\n",
    "# ---------------------------------------------\n",
    "strat_title.append('75')\n",
    "sample_75 = [75, 75, (sample_size-150)*class2_prop, (sample_size-150)*class3_prop] \n",
    "strat_samples.append(sample_75)\n",
    "errors_U.append(strat_stderror(U, sample_75))\n",
    "\n",
    "# ---------------------------------------------\n",
    "strat_title.append('prop')\n",
    "sample_prop = [sample_size*x for x in pix_prop]\n",
    "strat_samples.append(sample_prop)\n",
    "errors_U.append(strat_stderror(U, sample_prop))\n"
   ]
  },
  {
   "cell_type": "code",
   "execution_count": 23,
   "id": "b0fb1f1f-ffa6-4a51-b6df-267fdc5038b8",
   "metadata": {},
   "outputs": [
    {
     "data": {
      "text/html": [
       "<div>\n",
       "<style scoped>\n",
       "    .dataframe tbody tr th:only-of-type {\n",
       "        vertical-align: middle;\n",
       "    }\n",
       "\n",
       "    .dataframe tbody tr th {\n",
       "        vertical-align: top;\n",
       "    }\n",
       "\n",
       "    .dataframe thead th {\n",
       "        text-align: right;\n",
       "    }\n",
       "</style>\n",
       "<table border=\"1\" class=\"dataframe\">\n",
       "  <thead>\n",
       "    <tr style=\"text-align: right;\">\n",
       "      <th></th>\n",
       "      <th>equal</th>\n",
       "      <th>120</th>\n",
       "      <th>100</th>\n",
       "      <th>87</th>\n",
       "      <th>75</th>\n",
       "      <th>prop</th>\n",
       "    </tr>\n",
       "  </thead>\n",
       "  <tbody>\n",
       "    <tr>\n",
       "      <th>0</th>\n",
       "      <td>103.456468</td>\n",
       "      <td>120.000000</td>\n",
       "      <td>100.000000</td>\n",
       "      <td>87.000000</td>\n",
       "      <td>75.000000</td>\n",
       "      <td>118.370559</td>\n",
       "    </tr>\n",
       "    <tr>\n",
       "      <th>1</th>\n",
       "      <td>103.456468</td>\n",
       "      <td>120.000000</td>\n",
       "      <td>100.000000</td>\n",
       "      <td>87.000000</td>\n",
       "      <td>75.000000</td>\n",
       "      <td>6.088967</td>\n",
       "    </tr>\n",
       "    <tr>\n",
       "      <th>2</th>\n",
       "      <td>103.456468</td>\n",
       "      <td>98.284913</td>\n",
       "      <td>120.901779</td>\n",
       "      <td>135.602743</td>\n",
       "      <td>149.172862</td>\n",
       "      <td>163.613999</td>\n",
       "    </tr>\n",
       "    <tr>\n",
       "      <th>3</th>\n",
       "      <td>103.456468</td>\n",
       "      <td>75.540959</td>\n",
       "      <td>92.924092</td>\n",
       "      <td>104.223129</td>\n",
       "      <td>114.653009</td>\n",
       "      <td>125.752346</td>\n",
       "    </tr>\n",
       "  </tbody>\n",
       "</table>\n",
       "</div>"
      ],
      "text/plain": [
       "        equal         120         100          87          75        prop\n",
       "0  103.456468  120.000000  100.000000   87.000000   75.000000  118.370559\n",
       "1  103.456468  120.000000  100.000000   87.000000   75.000000    6.088967\n",
       "2  103.456468   98.284913  120.901779  135.602743  149.172862  163.613999\n",
       "3  103.456468   75.540959   92.924092  104.223129  114.653009  125.752346"
      ]
     },
     "execution_count": 23,
     "metadata": {},
     "output_type": "execute_result"
    }
   ],
   "source": [
    "strat_df = pd.DataFrame(strat_samples).T\n",
    "strat_df.columns  = strat_title\n",
    "strat_df"
   ]
  },
  {
   "cell_type": "code",
   "execution_count": 24,
   "id": "2fd0b9f3-008d-43a5-8573-cf034d520b04",
   "metadata": {},
   "outputs": [
    {
     "data": {
      "text/html": [
       "<div>\n",
       "<style scoped>\n",
       "    .dataframe tbody tr th:only-of-type {\n",
       "        vertical-align: middle;\n",
       "    }\n",
       "\n",
       "    .dataframe tbody tr th {\n",
       "        vertical-align: top;\n",
       "    }\n",
       "\n",
       "    .dataframe thead th {\n",
       "        text-align: right;\n",
       "    }\n",
       "</style>\n",
       "<table border=\"1\" class=\"dataframe\">\n",
       "  <thead>\n",
       "    <tr style=\"text-align: right;\">\n",
       "      <th></th>\n",
       "      <th>equal</th>\n",
       "      <th>120</th>\n",
       "      <th>100</th>\n",
       "      <th>87</th>\n",
       "      <th>75</th>\n",
       "      <th>prop</th>\n",
       "    </tr>\n",
       "  </thead>\n",
       "  <tbody>\n",
       "    <tr>\n",
       "      <th>0</th>\n",
       "      <td>0.039518</td>\n",
       "      <td>0.036668</td>\n",
       "      <td>0.040202</td>\n",
       "      <td>0.043133</td>\n",
       "      <td>0.046499</td>\n",
       "      <td>0.036922</td>\n",
       "    </tr>\n",
       "    <tr>\n",
       "      <th>1</th>\n",
       "      <td>0.039518</td>\n",
       "      <td>0.036668</td>\n",
       "      <td>0.040202</td>\n",
       "      <td>0.043133</td>\n",
       "      <td>0.046499</td>\n",
       "      <td>0.177315</td>\n",
       "    </tr>\n",
       "    <tr>\n",
       "      <th>2</th>\n",
       "      <td>0.029638</td>\n",
       "      <td>0.030416</td>\n",
       "      <td>0.027397</td>\n",
       "      <td>0.025858</td>\n",
       "      <td>0.024645</td>\n",
       "      <td>0.023526</td>\n",
       "    </tr>\n",
       "    <tr>\n",
       "      <th>3</th>\n",
       "      <td>0.021532</td>\n",
       "      <td>0.025243</td>\n",
       "      <td>0.022732</td>\n",
       "      <td>0.021452</td>\n",
       "      <td>0.020444</td>\n",
       "      <td>0.019513</td>\n",
       "    </tr>\n",
       "  </tbody>\n",
       "</table>\n",
       "</div>"
      ],
      "text/plain": [
       "      equal       120       100        87        75      prop\n",
       "0  0.039518  0.036668  0.040202  0.043133  0.046499  0.036922\n",
       "1  0.039518  0.036668  0.040202  0.043133  0.046499  0.177315\n",
       "2  0.029638  0.030416  0.027397  0.025858  0.024645  0.023526\n",
       "3  0.021532  0.025243  0.022732  0.021452  0.020444  0.019513"
      ]
     },
     "execution_count": 24,
     "metadata": {},
     "output_type": "execute_result"
    }
   ],
   "source": [
    "errors_df = pd.DataFrame(errors_U).T\n",
    "errors_df.columns = strat_title\n",
    "errors_df"
   ]
  },
  {
   "cell_type": "code",
   "execution_count": 25,
   "id": "f4a93237-fff7-448d-b593-d032f2dc2df4",
   "metadata": {},
   "outputs": [
    {
     "data": {
      "text/html": [
       "<div>\n",
       "<style scoped>\n",
       "    .dataframe tbody tr th:only-of-type {\n",
       "        vertical-align: middle;\n",
       "    }\n",
       "\n",
       "    .dataframe tbody tr th {\n",
       "        vertical-align: top;\n",
       "    }\n",
       "\n",
       "    .dataframe thead th {\n",
       "        text-align: right;\n",
       "    }\n",
       "</style>\n",
       "<table border=\"1\" class=\"dataframe\">\n",
       "  <thead>\n",
       "    <tr style=\"text-align: right;\">\n",
       "      <th></th>\n",
       "      <th>equal</th>\n",
       "      <th>120</th>\n",
       "      <th>100</th>\n",
       "      <th>87</th>\n",
       "      <th>75</th>\n",
       "      <th>prop</th>\n",
       "    </tr>\n",
       "  </thead>\n",
       "  <tbody>\n",
       "    <tr>\n",
       "      <th>0</th>\n",
       "      <td>7.745445</td>\n",
       "      <td>7.186916</td>\n",
       "      <td>7.879496</td>\n",
       "      <td>8.454089</td>\n",
       "      <td>9.113815</td>\n",
       "      <td>7.236632</td>\n",
       "    </tr>\n",
       "    <tr>\n",
       "      <th>1</th>\n",
       "      <td>7.745445</td>\n",
       "      <td>7.186916</td>\n",
       "      <td>7.879496</td>\n",
       "      <td>8.454089</td>\n",
       "      <td>9.113815</td>\n",
       "      <td>34.753715</td>\n",
       "    </tr>\n",
       "    <tr>\n",
       "      <th>2</th>\n",
       "      <td>5.809084</td>\n",
       "      <td>5.961487</td>\n",
       "      <td>5.369879</td>\n",
       "      <td>5.068161</td>\n",
       "      <td>4.830510</td>\n",
       "      <td>4.611034</td>\n",
       "    </tr>\n",
       "    <tr>\n",
       "      <th>3</th>\n",
       "      <td>4.220201</td>\n",
       "      <td>4.947723</td>\n",
       "      <td>4.455415</td>\n",
       "      <td>4.204500</td>\n",
       "      <td>4.006936</td>\n",
       "      <td>3.824534</td>\n",
       "    </tr>\n",
       "  </tbody>\n",
       "</table>\n",
       "</div>"
      ],
      "text/plain": [
       "      equal       120       100        87        75       prop\n",
       "0  7.745445  7.186916  7.879496  8.454089  9.113815   7.236632\n",
       "1  7.745445  7.186916  7.879496  8.454089  9.113815  34.753715\n",
       "2  5.809084  5.961487  5.369879  5.068161  4.830510   4.611034\n",
       "3  4.220201  4.947723  4.455415  4.204500  4.006936   3.824534"
      ]
     },
     "execution_count": 25,
     "metadata": {},
     "output_type": "execute_result"
    }
   ],
   "source": [
    "196*errors_df"
   ]
  },
  {
   "cell_type": "code",
   "execution_count": 25,
   "id": "2689cf7e-e12b-439d-88fe-f633223345c4",
   "metadata": {},
   "outputs": [
    {
     "data": {
      "text/plain": [
       "465"
      ]
     },
     "execution_count": 25,
     "metadata": {},
     "output_type": "execute_result"
    }
   ],
   "source": [
    "100 + 100 + 150 + 115\n",
    "# GOING FOR THE 100 PER MINORITY CLASS"
   ]
  },
  {
   "cell_type": "code",
   "execution_count": null,
   "id": "a3286d85-3054-47d2-84ae-c7696b96662f",
   "metadata": {},
   "outputs": [],
   "source": [
    "100 + 100 + 150 + 100"
   ]
  }
 ],
 "metadata": {
  "kernelspec": {
   "display_name": "Python 3 (ipykernel)",
   "language": "python",
   "name": "python3"
  },
  "language_info": {
   "codemirror_mode": {
    "name": "ipython",
    "version": 3
   },
   "file_extension": ".py",
   "mimetype": "text/x-python",
   "name": "python",
   "nbconvert_exporter": "python",
   "pygments_lexer": "ipython3",
   "version": "3.10.6"
  }
 },
 "nbformat": 4,
 "nbformat_minor": 5
}
