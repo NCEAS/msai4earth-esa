{
 "cells": [
  {
   "cell_type": "code",
   "execution_count": 1,
   "id": "14d0cd6f-b78d-404d-90cf-8386bf83378e",
   "metadata": {},
   "outputs": [],
   "source": [
    "import os\n",
    "import rioxarray as rioxr\n",
    "import numpy as np\n",
    "import pandas as pd"
   ]
  },
  {
   "cell_type": "code",
   "execution_count": 2,
   "id": "ae4f6806-cdc5-47cf-b164-bddcbcbf8e38",
   "metadata": {},
   "outputs": [],
   "source": [
    "# Load raster\n",
    "year = 2020\n",
    "\n",
    "root = '/home/jovyan/msai4earth-esa/iceplant_detection/temp/' + os.path.join('LS_filter_clip_preds_' + str(year))\n",
    "\n",
    "fp = os.path.join(root, 'LS_merged_crs26910_S_'+str(year)+'.tif')\n",
    "r_26910_S = rioxr.open_rasterio(fp).squeeze()\n",
    "\n",
    "fp = os.path.join(root, 'LS_merged_crs26910_W_'+str(year)+'.tif')\n",
    "r_26910_W = rioxr.open_rasterio(fp).squeeze()\n",
    "\n",
    "fp = os.path.join(root, 'LS_merged_crs26911_'+str(year)+'_clip.tif')\n",
    "r_26911 = rioxr.open_rasterio(fp).squeeze()\n",
    "\n",
    "rasters = [r_26910_S, r_26910_W, r_26911]"
   ]
  },
  {
   "cell_type": "code",
   "execution_count": 3,
   "id": "f5dd6985-13ae-4851-b28c-3453bf8693b9",
   "metadata": {},
   "outputs": [],
   "source": [
    "n_nonice = []\n",
    "n_ice = []\n",
    "n_ground = []\n",
    "n_water = []\n",
    "\n",
    "for raster in rasters:\n",
    "    n_nonice.append(len(np.where(raster == 0)[0]))\n",
    "    n_ice.append(len(np.where(raster == 1)[0]))\n",
    "    n_ground.append(len(np.where(raster == 2)[0]))\n",
    "    n_water.append(len(np.where(raster == 3)[0]))\n",
    "    \n"
   ]
  },
  {
   "cell_type": "code",
   "execution_count": 4,
   "id": "24ff61a3-2230-43c1-8b84-6875a79800a1",
   "metadata": {},
   "outputs": [],
   "source": [
    "D = { 'n_nonice_20': n_nonice,\n",
    "      'n_ice_20' : n_ice,\n",
    "      'n_ground_20' : n_ground, \n",
    "      'n_water_20' : n_water}\n",
    "\n",
    "df = pd.DataFrame(D)"
   ]
  },
  {
   "cell_type": "code",
   "execution_count": 13,
   "id": "c69057f0-aa2c-4ecb-8302-921f5964f2c8",
   "metadata": {},
   "outputs": [],
   "source": [
    "df['raster'] = ['LS_merged_crs26910_S_'+str(year),\n",
    "                'LS_merged_crs26910_W_'+str(year), \n",
    "                'LS_merged_crs26911_'+str(year)+'_clip']"
   ]
  },
  {
   "cell_type": "code",
   "execution_count": 15,
   "id": "15da1786-4410-49d2-8d77-607657a9aee3",
   "metadata": {},
   "outputs": [],
   "source": [
    "df.to_csv('rasters_2020_pixel_counts.csv', index=False)#, index_label='PLOTID')"
   ]
  },
  {
   "cell_type": "code",
   "execution_count": 14,
   "id": "d715d16c-a7e5-490b-b4e9-a7b798199202",
   "metadata": {},
   "outputs": [
    {
     "data": {
      "text/html": [
       "<div>\n",
       "<style scoped>\n",
       "    .dataframe tbody tr th:only-of-type {\n",
       "        vertical-align: middle;\n",
       "    }\n",
       "\n",
       "    .dataframe tbody tr th {\n",
       "        vertical-align: top;\n",
       "    }\n",
       "\n",
       "    .dataframe thead th {\n",
       "        text-align: right;\n",
       "    }\n",
       "</style>\n",
       "<table border=\"1\" class=\"dataframe\">\n",
       "  <thead>\n",
       "    <tr style=\"text-align: right;\">\n",
       "      <th></th>\n",
       "      <th>n_nonice_20</th>\n",
       "      <th>n_ice_20</th>\n",
       "      <th>n_ground_20</th>\n",
       "      <th>n_water_20</th>\n",
       "      <th>raster</th>\n",
       "    </tr>\n",
       "  </thead>\n",
       "  <tbody>\n",
       "    <tr>\n",
       "      <th>0</th>\n",
       "      <td>33222542</td>\n",
       "      <td>9359285</td>\n",
       "      <td>113802445</td>\n",
       "      <td>126328228</td>\n",
       "      <td>LS_merged_crs26910_S_2020</td>\n",
       "    </tr>\n",
       "    <tr>\n",
       "      <th>1</th>\n",
       "      <td>1005498</td>\n",
       "      <td>626950</td>\n",
       "      <td>3058661</td>\n",
       "      <td>6139494</td>\n",
       "      <td>LS_merged_crs26910_W_2020</td>\n",
       "    </tr>\n",
       "    <tr>\n",
       "      <th>2</th>\n",
       "      <td>89606257</td>\n",
       "      <td>2915223</td>\n",
       "      <td>63428879</td>\n",
       "      <td>138290707</td>\n",
       "      <td>LS_merged_crs26911_2020_clip</td>\n",
       "    </tr>\n",
       "  </tbody>\n",
       "</table>\n",
       "</div>"
      ],
      "text/plain": [
       "   n_nonice_20  n_ice_20  n_ground_20  n_water_20  \\\n",
       "0     33222542   9359285    113802445   126328228   \n",
       "1      1005498    626950      3058661     6139494   \n",
       "2     89606257   2915223     63428879   138290707   \n",
       "\n",
       "                         raster  \n",
       "0     LS_merged_crs26910_S_2020  \n",
       "1     LS_merged_crs26910_W_2020  \n",
       "2  LS_merged_crs26911_2020_clip  "
      ]
     },
     "execution_count": 14,
     "metadata": {},
     "output_type": "execute_result"
    }
   ],
   "source": [
    "df"
   ]
  },
  {
   "cell_type": "code",
   "execution_count": null,
   "id": "cd8de1e6-a76e-4676-9949-d9f3d5577526",
   "metadata": {},
   "outputs": [],
   "source": []
  }
 ],
 "metadata": {
  "kernelspec": {
   "display_name": "Python 3 (ipykernel)",
   "language": "python",
   "name": "python3"
  },
  "language_info": {
   "codemirror_mode": {
    "name": "ipython",
    "version": 3
   },
   "file_extension": ".py",
   "mimetype": "text/x-python",
   "name": "python",
   "nbconvert_exporter": "python",
   "pygments_lexer": "ipython3",
   "version": "3.10.6"
  }
 },
 "nbformat": 4,
 "nbformat_minor": 5
}
