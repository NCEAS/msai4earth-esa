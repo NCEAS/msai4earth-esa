{
 "cells": [
  {
   "cell_type": "code",
   "execution_count": 1,
   "id": "74936454-4a69-4838-809f-2bce3d5b840e",
   "metadata": {},
   "outputs": [],
   "source": [
    "import os\n",
    "import numpy as np\n",
    "import pandas as pd\n",
    "\n",
    "import geopandas as gpd\n",
    "import rioxarray as rioxr\n",
    "from random import sample\n",
    "\n",
    "from shapely.geometry import Point \n",
    "\n",
    "from rasterio.crs import CRS"
   ]
  },
  {
   "cell_type": "code",
   "execution_count": 3,
   "id": "265b0f69-90b8-40c4-829e-a7ec2b7cdb80",
   "metadata": {},
   "outputs": [],
   "source": [
    "# Load raster\n",
    "year = 2020\n",
    "\n",
    "root = '/home/jovyan/msai4earth-esa/iceplant_detection/processing_results/' + os.path.join('LS_filter_clip_preds_' + str(year))\n",
    "\n",
    "fp = os.path.join(root, 'LS_merged_crs26910_S_'+str(year)+'.tif')\n",
    "r_26910_S = rioxr.open_rasterio(fp).squeeze()\n",
    "\n",
    "fp = os.path.join(root, 'LS_merged_crs26910_W_'+str(year)+'.tif')\n",
    "r_26910_W = rioxr.open_rasterio(fp).squeeze()\n",
    "\n",
    "fp = os.path.join(root, 'LS_merged_crs26911_'+str(year)+'.tif')\n",
    "r_26911 = rioxr.open_rasterio(fp).squeeze()\n",
    "\n",
    "rasters = [r_26910_S, r_26910_W, r_26911]"
   ]
  },
  {
   "cell_type": "code",
   "execution_count": 4,
   "id": "28413bf6-bcd1-49e9-96c4-66c73caa5054",
   "metadata": {},
   "outputs": [
    {
     "data": {
      "text/html": [
       "<div>\n",
       "<style scoped>\n",
       "    .dataframe tbody tr th:only-of-type {\n",
       "        vertical-align: middle;\n",
       "    }\n",
       "\n",
       "    .dataframe tbody tr th {\n",
       "        vertical-align: top;\n",
       "    }\n",
       "\n",
       "    .dataframe thead th {\n",
       "        text-align: right;\n",
       "    }\n",
       "</style>\n",
       "<table border=\"1\" class=\"dataframe\">\n",
       "  <thead>\n",
       "    <tr style=\"text-align: right;\">\n",
       "      <th></th>\n",
       "      <th>n_nonice_20</th>\n",
       "      <th>n_ice_20</th>\n",
       "      <th>n_ground_20</th>\n",
       "      <th>n_water_20</th>\n",
       "      <th>raster</th>\n",
       "    </tr>\n",
       "  </thead>\n",
       "  <tbody>\n",
       "    <tr>\n",
       "      <th>0</th>\n",
       "      <td>32334429</td>\n",
       "      <td>9319051</td>\n",
       "      <td>111150412</td>\n",
       "      <td>62968690</td>\n",
       "      <td>LS_merged_crs26910_S_2020</td>\n",
       "    </tr>\n",
       "    <tr>\n",
       "      <th>1</th>\n",
       "      <td>887994</td>\n",
       "      <td>264213</td>\n",
       "      <td>1891593</td>\n",
       "      <td>2893071</td>\n",
       "      <td>LS_merged_crs26910_W_2020</td>\n",
       "    </tr>\n",
       "    <tr>\n",
       "      <th>2</th>\n",
       "      <td>87881212</td>\n",
       "      <td>2912345</td>\n",
       "      <td>62587031</td>\n",
       "      <td>69125241</td>\n",
       "      <td>LS_merged_crs26911_2020_clip</td>\n",
       "    </tr>\n",
       "  </tbody>\n",
       "</table>\n",
       "</div>"
      ],
      "text/plain": [
       "   n_nonice_20  n_ice_20  n_ground_20  n_water_20  \\\n",
       "0     32334429   9319051    111150412    62968690   \n",
       "1       887994    264213      1891593     2893071   \n",
       "2     87881212   2912345     62587031    69125241   \n",
       "\n",
       "                         raster  \n",
       "0     LS_merged_crs26910_S_2020  \n",
       "1     LS_merged_crs26910_W_2020  \n",
       "2  LS_merged_crs26911_2020_clip  "
      ]
     },
     "execution_count": 4,
     "metadata": {},
     "output_type": "execute_result"
    }
   ],
   "source": [
    "pixel_count = pd.read_csv(os.path.join(os.getcwd(), 'rasters_2020_pixel_counts.csv'))\n",
    "pixel_count"
   ]
  },
  {
   "cell_type": "code",
   "execution_count": 6,
   "id": "778eaa9d-cc77-4938-9388-7aa52169b365",
   "metadata": {},
   "outputs": [
    {
     "data": {
      "text/plain": [
       "[[24, 0, 76], [73, 3, 24], [90, 1, 59], [49, 0, 66]]"
      ]
     },
     "execution_count": 6,
     "metadata": {},
     "output_type": "execute_result"
    }
   ],
   "source": [
    "# STRATIFIED RANDOM SAMPLING\n",
    "cats = [0, 1, 2, 3]\n",
    "samples_per_class = [100, 100, 150, 115]\n",
    "dist = []\n",
    "\n",
    "for c in cats:\n",
    "    \n",
    "    # pixels in each raster from specified class\n",
    "    n1 = list(pixel_count.iloc[:,c])[0]\n",
    "    n2 = list(pixel_count.iloc[:,c])[1]\n",
    "    n3 = list(pixel_count.iloc[:,c])[2]\n",
    "    s = n1 + n2 + n3\n",
    "     \n",
    "    # randomly specify number of samples per raster\n",
    "    where_to_sample = np.random.choice([0,1,2], size=samples_per_class[c], p=[n1/s, n2/s, n3/s])\n",
    "\n",
    "    dist.append([len(np.where(where_to_sample == 0)[0]), \n",
    "                 len(np.where(where_to_sample == 1)[0]), \n",
    "                 len(np.where(where_to_sample == 2)[0])])\n",
    "    \n",
    "dist"
   ]
  },
  {
   "cell_type": "code",
   "execution_count": null,
   "id": "5ce55fdb-0be8-4d55-bc82-ed4f1106026c",
   "metadata": {},
   "outputs": [
    {
     "name": "stdout",
     "output_type": "stream",
     "text": [
      " STARTED COLLECTING FOR RASTER  0\n",
      "sampled cat  0\n",
      "sampled cat  1\n",
      "sampled cat  2\n",
      "sampled cat  3\n",
      " \n",
      " STARTED COLLECTING FOR RASTER  1\n",
      "sampled cat  1\n",
      "sampled cat  2\n",
      " \n",
      " STARTED COLLECTING FOR RASTER  2\n",
      "sampled cat  0\n",
      "sampled cat  1\n"
     ]
    }
   ],
   "source": [
    "all_points = []\n",
    "\n",
    "for i in range(0,3):\n",
    "\n",
    "    points = []\n",
    "    which_class = []\n",
    "    which_raster = []\n",
    "    sampled_raster = False\n",
    "    print(' STARTED COLLECTING FOR RASTER ', i)\n",
    "    \n",
    "    for c in cats:\n",
    "        n_samples = dist[c][i]\n",
    "\n",
    "        if n_samples != 0:\n",
    "            sampled_raster = True\n",
    "\n",
    "            raster = rasters[i]\n",
    "\n",
    "            # arrays with indices where condition is True\n",
    "            c_raster = np.where(raster == c)\n",
    "\n",
    "            # sample random (y,x) pairs from list\n",
    "            indices = sample(list(zip(c_raster[0], c_raster[1])), n_samples)\n",
    "\n",
    "            # unzip into y and x coordinates\n",
    "            y, x = list(zip(*indices))\n",
    "\n",
    "            # x and y coordinates in raster CRS corresponding to sampled points\n",
    "            x_coord = raster.x[np.asarray(x)]\n",
    "            y_coord = raster.y[np.asarray(y)]\n",
    "\n",
    "            # make points \n",
    "            points = points + [Point(m,n) for m,n in zip(x_coord, y_coord)]\n",
    "\n",
    "            which_class = which_class + [c]*n_samples\n",
    "            which_raster = which_raster + [i]*n_samples\n",
    "            print('sampled cat ', c)\n",
    "            \n",
    "    if sampled_raster:\n",
    "        points_df = gpd.GeoDataFrame({'geometry': points,\n",
    "                                      'class' : which_class,\n",
    "                                      'which_raster' : which_raster},\n",
    "                                     crs = raster.rio.crs)\n",
    "        all_points.append(points_df.to_crs(CRS.from_epsg(4326)))  # change to lat/lon crs\n",
    "    print(' ')\n",
    "        "
   ]
  },
  {
   "cell_type": "code",
   "execution_count": null,
   "id": "76e968fc-7132-44d8-8fe0-d8c23c0e916a",
   "metadata": {},
   "outputs": [],
   "source": [
    "points_df = pd.concat(all_points, ignore_index=True)\n",
    "points_df['LON'] = points_df.geometry.x\n",
    "points_df['LAT'] = points_df.geometry.y\n",
    "points_df = points_df.drop(['geometry'], axis=1)\n",
    "points_df"
   ]
  },
  {
   "cell_type": "code",
   "execution_count": 7,
   "id": "fc5e5a50-22d2-4751-acb8-4ef90bd80066",
   "metadata": {},
   "outputs": [],
   "source": [
    "points_df.to_csv('validation_sample_2020.csv', index_label='PLOTID')"
   ]
  },
  {
   "cell_type": "code",
   "execution_count": 12,
   "id": "ac4a824f-6d34-48ec-95df-9aaa13f302d4",
   "metadata": {},
   "outputs": [
    {
     "data": {
      "text/plain": [
       "(array([0, 1, 2, 3]), array([ 87,  87,  91, 135]))"
      ]
     },
     "execution_count": 12,
     "metadata": {},
     "output_type": "execute_result"
    }
   ],
   "source": [
    "np.unique(points_df['class'], return_counts=True)"
   ]
  },
  {
   "cell_type": "code",
   "execution_count": 13,
   "id": "5e9fdaa3-dc9f-45f8-aef4-1251b077a9fe",
   "metadata": {},
   "outputs": [
    {
     "data": {
      "text/plain": [
       "(array([0, 1, 2]), array([210,  11, 179]))"
      ]
     },
     "execution_count": 13,
     "metadata": {},
     "output_type": "execute_result"
    }
   ],
   "source": [
    "np.unique(points_df['which_raster'], return_counts=True)"
   ]
  },
  {
   "cell_type": "code",
   "execution_count": null,
   "id": "b3015209-935d-4759-b96b-6a266d7ab645",
   "metadata": {},
   "outputs": [],
   "source": []
  }
 ],
 "metadata": {
  "kernelspec": {
   "display_name": "Python 3 (ipykernel)",
   "language": "python",
   "name": "python3"
  },
  "language_info": {
   "codemirror_mode": {
    "name": "ipython",
    "version": 3
   },
   "file_extension": ".py",
   "mimetype": "text/x-python",
   "name": "python",
   "nbconvert_exporter": "python",
   "pygments_lexer": "ipython3",
   "version": "3.10.6"
  }
 },
 "nbformat": 4,
 "nbformat_minor": 5
}
