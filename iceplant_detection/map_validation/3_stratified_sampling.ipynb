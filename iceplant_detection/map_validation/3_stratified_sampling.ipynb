{
 "cells": [
  {
   "cell_type": "markdown",
   "id": "427dc2b7-26a7-44b8-be0d-106b15951137",
   "metadata": {},
   "source": [
    "This notebook does a stratified random sampling of points from the three rasters that make up the Santa Barbara Coast. \n",
    "The number of samples per class is specified by user. \n",
    "The ouput points are given in CRS from EPSG(4326) and can be directly used as input for the validation platform Collect Earth Online."
   ]
  },
  {
   "cell_type": "code",
   "execution_count": 1,
   "id": "74936454-4a69-4838-809f-2bce3d5b840e",
   "metadata": {},
   "outputs": [],
   "source": [
    "import os\n",
    "import numpy as np\n",
    "import pandas as pd\n",
    "\n",
    "import geopandas as gpd\n",
    "import rioxarray as rioxr\n",
    "from random import sample\n",
    "\n",
    "from shapely.geometry import Point \n",
    "\n",
    "from rasterio.crs import CRS"
   ]
  },
  {
   "cell_type": "code",
   "execution_count": 2,
   "id": "01b80fc8-f1d4-44c1-b08f-b426ace9393e",
   "metadata": {},
   "outputs": [],
   "source": [
    "# Load raster\n",
    "year = 2020\n",
    "prefix = 'modelAE5_FP_2020'\n",
    "root = '/home/jovyan/msai4earth-esa/iceplant_detection/processing_results/' + prefix +'/' + prefix +'_filter_clip_preds_' + str(year)\n",
    "\n",
    "# classes in raster\n",
    "# 0 = other vegetation 1 = iceplant, 2 = low ndvi, 3 = water\n",
    "cats = [0, 1, 2, 3]\n",
    "\n",
    "# required number of random samples per class\n",
    "samples_per_class = [200, 200, 110, 85]\n",
    "\n",
    "#whether to save the sampled points\n",
    "save_pts = True"
   ]
  },
  {
   "cell_type": "code",
   "execution_count": 3,
   "id": "182e6454-423e-4a3d-ba6b-7c52256d1bfa",
   "metadata": {},
   "outputs": [
    {
     "data": {
      "text/html": [
       "<div>\n",
       "<style scoped>\n",
       "    .dataframe tbody tr th:only-of-type {\n",
       "        vertical-align: middle;\n",
       "    }\n",
       "\n",
       "    .dataframe tbody tr th {\n",
       "        vertical-align: top;\n",
       "    }\n",
       "\n",
       "    .dataframe thead th {\n",
       "        text-align: right;\n",
       "    }\n",
       "</style>\n",
       "<table border=\"1\" class=\"dataframe\">\n",
       "  <thead>\n",
       "    <tr style=\"text-align: right;\">\n",
       "      <th></th>\n",
       "      <th>n_nonice_2020</th>\n",
       "      <th>n_ice_2020</th>\n",
       "      <th>n_ground_2020</th>\n",
       "      <th>n_water_2020</th>\n",
       "      <th>raster</th>\n",
       "    </tr>\n",
       "  </thead>\n",
       "  <tbody>\n",
       "    <tr>\n",
       "      <th>0</th>\n",
       "      <td>36271293</td>\n",
       "      <td>5382187</td>\n",
       "      <td>111150412</td>\n",
       "      <td>62968690</td>\n",
       "      <td>modelAE5_FP_2020_merged_crs26910_S_2020</td>\n",
       "    </tr>\n",
       "    <tr>\n",
       "      <th>1</th>\n",
       "      <td>1122203</td>\n",
       "      <td>30004</td>\n",
       "      <td>1891593</td>\n",
       "      <td>2893071</td>\n",
       "      <td>modelAE5_FP_2020_merged_crs26910_W_2020</td>\n",
       "    </tr>\n",
       "    <tr>\n",
       "      <th>2</th>\n",
       "      <td>89669636</td>\n",
       "      <td>1123921</td>\n",
       "      <td>62587031</td>\n",
       "      <td>69125241</td>\n",
       "      <td>modelAE5_FP_2020_merged_crs26911_2020</td>\n",
       "    </tr>\n",
       "  </tbody>\n",
       "</table>\n",
       "</div>"
      ],
      "text/plain": [
       "   n_nonice_2020  n_ice_2020  n_ground_2020  n_water_2020  \\\n",
       "0       36271293     5382187      111150412      62968690   \n",
       "1        1122203       30004        1891593       2893071   \n",
       "2       89669636     1123921       62587031      69125241   \n",
       "\n",
       "                                    raster  \n",
       "0  modelAE5_FP_2020_merged_crs26910_S_2020  \n",
       "1  modelAE5_FP_2020_merged_crs26910_W_2020  \n",
       "2    modelAE5_FP_2020_merged_crs26911_2020  "
      ]
     },
     "execution_count": 3,
     "metadata": {},
     "output_type": "execute_result"
    }
   ],
   "source": [
    "# load rasters\n",
    "fp = os.path.join(root, prefix+'_merged_crs26910_S_'+str(year)+'.tif')\n",
    "r_26910_S = rioxr.open_rasterio(fp).squeeze()\n",
    "\n",
    "fp = os.path.join(root, prefix+'_merged_crs26910_W_'+str(year)+'.tif')\n",
    "r_26910_W = rioxr.open_rasterio(fp).squeeze()\n",
    "\n",
    "fp = os.path.join(root, prefix+'_merged_crs26911_'+str(year)+'.tif')\n",
    "r_26911 = rioxr.open_rasterio(fp).squeeze()\n",
    "\n",
    "rasters = [r_26910_S, r_26910_W, r_26911]\n",
    "\n",
    "# load previously calculated pixel counts\n",
    "pixel_count = pd.read_csv(os.path.join(os.getcwd(), prefix+'_rasters_'+str(year)+'_pixel_counts.csv'))\n",
    "pixel_count"
   ]
  },
  {
   "cell_type": "code",
   "execution_count": 4,
   "id": "778eaa9d-cc77-4938-9388-7aa52169b365",
   "metadata": {},
   "outputs": [
    {
     "data": {
      "text/plain": [
       "[[56, 2, 142], [165, 2, 33], [65, 5, 40], [36, 1, 48]]"
      ]
     },
     "execution_count": 4,
     "metadata": {},
     "output_type": "execute_result"
    }
   ],
   "source": [
    "# STRATIFIED RANDOM SAMPLING\n",
    "\n",
    "# nxm array where n=number of classes, m=number of rasters \n",
    "# dist[n,m] = number of samples of class n from raster m\n",
    "dist = []\n",
    "\n",
    "for c in cats:\n",
    "    \n",
    "    # number of pixels in each raster from specified class\n",
    "    n1 = list(pixel_count.iloc[:,c])[0]\n",
    "    n2 = list(pixel_count.iloc[:,c])[1]\n",
    "    n3 = list(pixel_count.iloc[:,c])[2]\n",
    "    s = n1 + n2 + n3\n",
    "     \n",
    "    # allocate number of samples frpm this class per raster\n",
    "    # each pixel from the class has the same probability of being selected, regardless of the raster it is in\n",
    "    where_to_sample = np.random.choice([0,1,2], size=samples_per_class[c], p=[n1/s, n2/s, n3/s])\n",
    "\n",
    "    dist.append([len(np.where(where_to_sample == 0)[0]), \n",
    "                 len(np.where(where_to_sample == 1)[0]), \n",
    "                 len(np.where(where_to_sample == 2)[0])])\n",
    "    \n",
    "dist"
   ]
  },
  {
   "cell_type": "code",
   "execution_count": 5,
   "id": "5ce55fdb-0be8-4d55-bc82-ed4f1106026c",
   "metadata": {},
   "outputs": [
    {
     "name": "stdout",
     "output_type": "stream",
     "text": [
      " STARTED COLLECTING FOR RASTER  0\n",
      "sampled cat  0\n",
      "sampled cat  1\n",
      "sampled cat  2\n",
      "sampled cat  3\n",
      " \n",
      " STARTED COLLECTING FOR RASTER  1\n",
      "sampled cat  0\n",
      "sampled cat  1\n",
      "sampled cat  2\n",
      "sampled cat  3\n",
      " \n",
      " STARTED COLLECTING FOR RASTER  2\n",
      "sampled cat  0\n",
      "sampled cat  1\n",
      "sampled cat  2\n",
      "sampled cat  3\n",
      " \n"
     ]
    }
   ],
   "source": [
    "# sample points from rasters\n",
    "# resulting points have crs EPSG(4326)\n",
    "all_points = []\n",
    "\n",
    "for i in range(0,3):\n",
    "\n",
    "    points = []\n",
    "    which_class = []\n",
    "    which_raster = []\n",
    "    sampled_raster = False\n",
    "    print(' STARTED COLLECTING FOR RASTER ', i)\n",
    "    \n",
    "    for c in cats:\n",
    "        n_samples = dist[c][i]\n",
    "\n",
    "        if n_samples != 0:\n",
    "            sampled_raster = True\n",
    "\n",
    "            raster = rasters[i]\n",
    "\n",
    "            # arrays with indices where condition is True\n",
    "            c_raster = np.where(raster == c)\n",
    "\n",
    "            # sample random (y,x) pairs from list\n",
    "            indices = sample(list(zip(c_raster[0], c_raster[1])), n_samples)\n",
    "\n",
    "            # unzip into y and x coordinates\n",
    "            y, x = list(zip(*indices))\n",
    "\n",
    "            # x and y coordinates in raster CRS corresponding to sampled points\n",
    "            x_coord = raster.x[np.asarray(x)]\n",
    "            y_coord = raster.y[np.asarray(y)]\n",
    "\n",
    "            # make points \n",
    "            points = points + [Point(m,n) for m,n in zip(x_coord, y_coord)]\n",
    "\n",
    "            which_class = which_class + [c]*n_samples\n",
    "            which_raster = which_raster + [i]*n_samples\n",
    "            print('sampled cat ', c)\n",
    "            \n",
    "    if sampled_raster:\n",
    "        points_df = gpd.GeoDataFrame({'geometry': points,\n",
    "                                      'class' : which_class,\n",
    "                                      'which_raster' : which_raster},\n",
    "                                     crs = raster.rio.crs)\n",
    "        all_points.append(points_df.to_crs(CRS.from_epsg(4326)))  # change to lat/lon crs\n",
    "    print(' ')\n",
    "\n",
    "# assemble points in dataframe compatible with Collect Earth Online \n",
    "points_df = pd.concat(all_points, ignore_index=True)\n",
    "points_df['LON'] = points_df.geometry.x\n",
    "points_df['LAT'] = points_df.geometry.y\n",
    "points_df = points_df.drop(['geometry'], axis=1)\n",
    "\n",
    "# randomize points\n",
    "points_df = points_df.sample(frac=1).reset_index(drop=True)"
   ]
  },
  {
   "cell_type": "code",
   "execution_count": 6,
   "id": "76e968fc-7132-44d8-8fe0-d8c23c0e916a",
   "metadata": {},
   "outputs": [
    {
     "data": {
      "text/html": [
       "<div>\n",
       "<style scoped>\n",
       "    .dataframe tbody tr th:only-of-type {\n",
       "        vertical-align: middle;\n",
       "    }\n",
       "\n",
       "    .dataframe tbody tr th {\n",
       "        vertical-align: top;\n",
       "    }\n",
       "\n",
       "    .dataframe thead th {\n",
       "        text-align: right;\n",
       "    }\n",
       "</style>\n",
       "<table border=\"1\" class=\"dataframe\">\n",
       "  <thead>\n",
       "    <tr style=\"text-align: right;\">\n",
       "      <th></th>\n",
       "      <th>class</th>\n",
       "      <th>which_raster</th>\n",
       "      <th>LON</th>\n",
       "      <th>LAT</th>\n",
       "    </tr>\n",
       "  </thead>\n",
       "  <tbody>\n",
       "    <tr>\n",
       "      <th>0</th>\n",
       "      <td>1</td>\n",
       "      <td>0</td>\n",
       "      <td>-120.465232</td>\n",
       "      <td>34.462486</td>\n",
       "    </tr>\n",
       "    <tr>\n",
       "      <th>1</th>\n",
       "      <td>1</td>\n",
       "      <td>0</td>\n",
       "      <td>-119.997217</td>\n",
       "      <td>34.459656</td>\n",
       "    </tr>\n",
       "    <tr>\n",
       "      <th>2</th>\n",
       "      <td>3</td>\n",
       "      <td>2</td>\n",
       "      <td>-119.969810</td>\n",
       "      <td>34.438493</td>\n",
       "    </tr>\n",
       "    <tr>\n",
       "      <th>3</th>\n",
       "      <td>1</td>\n",
       "      <td>0</td>\n",
       "      <td>-120.469599</td>\n",
       "      <td>34.465779</td>\n",
       "    </tr>\n",
       "    <tr>\n",
       "      <th>4</th>\n",
       "      <td>2</td>\n",
       "      <td>0</td>\n",
       "      <td>-120.266262</td>\n",
       "      <td>34.471258</td>\n",
       "    </tr>\n",
       "    <tr>\n",
       "      <th>...</th>\n",
       "      <td>...</td>\n",
       "      <td>...</td>\n",
       "      <td>...</td>\n",
       "      <td>...</td>\n",
       "    </tr>\n",
       "    <tr>\n",
       "      <th>590</th>\n",
       "      <td>0</td>\n",
       "      <td>2</td>\n",
       "      <td>-119.864898</td>\n",
       "      <td>34.410694</td>\n",
       "    </tr>\n",
       "    <tr>\n",
       "      <th>591</th>\n",
       "      <td>1</td>\n",
       "      <td>0</td>\n",
       "      <td>-120.472786</td>\n",
       "      <td>34.472076</td>\n",
       "    </tr>\n",
       "    <tr>\n",
       "      <th>592</th>\n",
       "      <td>1</td>\n",
       "      <td>0</td>\n",
       "      <td>-120.463615</td>\n",
       "      <td>34.450510</td>\n",
       "    </tr>\n",
       "    <tr>\n",
       "      <th>593</th>\n",
       "      <td>0</td>\n",
       "      <td>2</td>\n",
       "      <td>-119.798882</td>\n",
       "      <td>34.422402</td>\n",
       "    </tr>\n",
       "    <tr>\n",
       "      <th>594</th>\n",
       "      <td>1</td>\n",
       "      <td>0</td>\n",
       "      <td>-120.471364</td>\n",
       "      <td>34.470278</td>\n",
       "    </tr>\n",
       "  </tbody>\n",
       "</table>\n",
       "<p>595 rows × 4 columns</p>\n",
       "</div>"
      ],
      "text/plain": [
       "     class  which_raster         LON        LAT\n",
       "0        1             0 -120.465232  34.462486\n",
       "1        1             0 -119.997217  34.459656\n",
       "2        3             2 -119.969810  34.438493\n",
       "3        1             0 -120.469599  34.465779\n",
       "4        2             0 -120.266262  34.471258\n",
       "..     ...           ...         ...        ...\n",
       "590      0             2 -119.864898  34.410694\n",
       "591      1             0 -120.472786  34.472076\n",
       "592      1             0 -120.463615  34.450510\n",
       "593      0             2 -119.798882  34.422402\n",
       "594      1             0 -120.471364  34.470278\n",
       "\n",
       "[595 rows x 4 columns]"
      ]
     },
     "execution_count": 6,
     "metadata": {},
     "output_type": "execute_result"
    }
   ],
   "source": [
    "points_df"
   ]
  },
  {
   "cell_type": "code",
   "execution_count": 7,
   "id": "ac4a824f-6d34-48ec-95df-9aaa13f302d4",
   "metadata": {},
   "outputs": [
    {
     "data": {
      "text/plain": [
       "(array([0, 1, 2, 3]), array([200, 200, 110,  85]))"
      ]
     },
     "execution_count": 7,
     "metadata": {},
     "output_type": "execute_result"
    }
   ],
   "source": [
    "np.unique(points_df['class'], return_counts=True)"
   ]
  },
  {
   "cell_type": "code",
   "execution_count": 8,
   "id": "5e9fdaa3-dc9f-45f8-aef4-1251b077a9fe",
   "metadata": {},
   "outputs": [
    {
     "data": {
      "text/plain": [
       "(array([0, 1, 2]), array([322,  10, 263]))"
      ]
     },
     "execution_count": 8,
     "metadata": {},
     "output_type": "execute_result"
    }
   ],
   "source": [
    "np.unique(points_df['which_raster'], return_counts=True)"
   ]
  },
  {
   "cell_type": "code",
   "execution_count": 9,
   "id": "34db34fb-a6d1-499c-92a7-ce04103b2031",
   "metadata": {},
   "outputs": [],
   "source": [
    "if save_pts:\n",
    "    points_df.to_csv(prefix+'_validation_sample_'+str(year)+'.csv', index_label='PLOTID')"
   ]
  },
  {
   "cell_type": "code",
   "execution_count": null,
   "id": "b3015209-935d-4759-b96b-6a266d7ab645",
   "metadata": {},
   "outputs": [],
   "source": []
  }
 ],
 "metadata": {
  "kernelspec": {
   "display_name": "Python 3 (ipykernel)",
   "language": "python",
   "name": "python3"
  },
  "language_info": {
   "codemirror_mode": {
    "name": "ipython",
    "version": 3
   },
   "file_extension": ".py",
   "mimetype": "text/x-python",
   "name": "python",
   "nbconvert_exporter": "python",
   "pygments_lexer": "ipython3",
   "version": "3.10.6"
  }
 },
 "nbformat": 4,
 "nbformat_minor": 5
}
