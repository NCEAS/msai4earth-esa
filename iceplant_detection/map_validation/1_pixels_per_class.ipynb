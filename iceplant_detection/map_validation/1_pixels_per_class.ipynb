{
 "cells": [
  {
   "cell_type": "code",
   "execution_count": 1,
   "id": "14d0cd6f-b78d-404d-90cf-8386bf83378e",
   "metadata": {},
   "outputs": [],
   "source": [
    "import os\n",
    "import rioxarray as rioxr\n",
    "import numpy as np\n",
    "import pandas as pd"
   ]
  },
  {
   "cell_type": "code",
   "execution_count": 2,
   "id": "64d0e5fc-5049-4608-bcbf-09014edbb781",
   "metadata": {},
   "outputs": [],
   "source": [
    "year = 2018"
   ]
  },
  {
   "cell_type": "code",
   "execution_count": 3,
   "id": "dbf7b223-4479-4040-8bab-8e0154cc448a",
   "metadata": {},
   "outputs": [],
   "source": [
    "# -----------------------------------------------\n",
    "# Load rasters\n",
    "root = '/home/jovyan/msai4earth-esa/iceplant_detection/processing_results/' + os.path.join('LS_filter_clip_preds_' + str(year))\n",
    "\n",
    "fp = os.path.join(root, 'LS_merged_crs26910_S_'+str(year)+'.tif')\n",
    "r_26910_S = rioxr.open_rasterio(fp).squeeze()\n",
    "\n",
    "fp = os.path.join(root, 'LS_merged_crs26910_W_'+str(year)+'.tif')\n",
    "r_26910_W = rioxr.open_rasterio(fp).squeeze()\n",
    "\n",
    "fp = os.path.join(root, 'LS_merged_crs26911_'+str(year)+'.tif')\n",
    "r_26911 = rioxr.open_rasterio(fp).squeeze()\n",
    "\n",
    "rasters = [r_26910_S, r_26910_W, r_26911]\n",
    "\n",
    "# -----------------------------------------------\n",
    "# count total number of pixels per category in combined rasters\n",
    "n_nonice = []\n",
    "n_ice = []\n",
    "n_ground = []\n",
    "n_water = []\n",
    "\n",
    "for raster in rasters:\n",
    "    n_nonice.append(len(np.where(raster == 0)[0]))\n",
    "    n_ice.append(len(np.where(raster == 1)[0]))\n",
    "    n_ground.append(len(np.where(raster == 2)[0]))\n",
    "    n_water.append(len(np.where(raster == 3)[0]))\n",
    "    "
   ]
  },
  {
   "cell_type": "code",
   "execution_count": 4,
   "id": "e8f31f32-0f90-4dd6-987b-980a792b3890",
   "metadata": {},
   "outputs": [
    {
     "data": {
      "text/html": [
       "<div>\n",
       "<style scoped>\n",
       "    .dataframe tbody tr th:only-of-type {\n",
       "        vertical-align: middle;\n",
       "    }\n",
       "\n",
       "    .dataframe tbody tr th {\n",
       "        vertical-align: top;\n",
       "    }\n",
       "\n",
       "    .dataframe thead th {\n",
       "        text-align: right;\n",
       "    }\n",
       "</style>\n",
       "<table border=\"1\" class=\"dataframe\">\n",
       "  <thead>\n",
       "    <tr style=\"text-align: right;\">\n",
       "      <th></th>\n",
       "      <th>n_nonice_2018</th>\n",
       "      <th>n_ice_2018</th>\n",
       "      <th>n_ground_2018</th>\n",
       "      <th>n_water_2018</th>\n",
       "      <th>raster</th>\n",
       "    </tr>\n",
       "  </thead>\n",
       "  <tbody>\n",
       "    <tr>\n",
       "      <th>0</th>\n",
       "      <td>35863561</td>\n",
       "      <td>5897584</td>\n",
       "      <td>113626707</td>\n",
       "      <td>59950901</td>\n",
       "      <td>LS_merged_crs26910_S_2018</td>\n",
       "    </tr>\n",
       "    <tr>\n",
       "      <th>1</th>\n",
       "      <td>6730191</td>\n",
       "      <td>899027</td>\n",
       "      <td>24887840</td>\n",
       "      <td>16301218</td>\n",
       "      <td>LS_merged_crs26910_W_2018</td>\n",
       "    </tr>\n",
       "    <tr>\n",
       "      <th>2</th>\n",
       "      <td>79013822</td>\n",
       "      <td>3880728</td>\n",
       "      <td>73808926</td>\n",
       "      <td>66038443</td>\n",
       "      <td>LS_merged_crs26911_2018</td>\n",
       "    </tr>\n",
       "  </tbody>\n",
       "</table>\n",
       "</div>"
      ],
      "text/plain": [
       "   n_nonice_2018  n_ice_2018  n_ground_2018  n_water_2018  \\\n",
       "0       35863561     5897584      113626707      59950901   \n",
       "1        6730191      899027       24887840      16301218   \n",
       "2       79013822     3880728       73808926      66038443   \n",
       "\n",
       "                      raster  \n",
       "0  LS_merged_crs26910_S_2018  \n",
       "1  LS_merged_crs26910_W_2018  \n",
       "2    LS_merged_crs26911_2018  "
      ]
     },
     "execution_count": 4,
     "metadata": {},
     "output_type": "execute_result"
    }
   ],
   "source": [
    "# -----------------------------------------------\n",
    "# assemble and save dataframe with pixel counts\n",
    "D = { 'n_nonice_'+str(year): n_nonice,\n",
    "      'n_ice_'+str(year) : n_ice,\n",
    "      'n_ground_'+str(year) : n_ground, \n",
    "      'n_water_'+str(year) : n_water}\n",
    "\n",
    "df = pd.DataFrame(D)\n",
    "\n",
    "df['raster'] = ['LS_merged_crs26910_S_'+str(year),\n",
    "                'LS_merged_crs26910_W_'+str(year), \n",
    "                'LS_merged_crs26911_'+str(year)]\n",
    "\n",
    "df.to_csv('rasters_'+str(year)+'_pixel_counts.csv', index=False)#, index_label='PLOTID')\n",
    "\n",
    "# -----------------------------------------------\n",
    "df"
   ]
  },
  {
   "cell_type": "code",
   "execution_count": null,
   "id": "cd8de1e6-a76e-4676-9949-d9f3d5577526",
   "metadata": {},
   "outputs": [],
   "source": []
  }
 ],
 "metadata": {
  "kernelspec": {
   "display_name": "Python 3 (ipykernel)",
   "language": "python",
   "name": "python3"
  },
  "language_info": {
   "codemirror_mode": {
    "name": "ipython",
    "version": 3
   },
   "file_extension": ".py",
   "mimetype": "text/x-python",
   "name": "python",
   "nbconvert_exporter": "python",
   "pygments_lexer": "ipython3",
   "version": "3.10.6"
  }
 },
 "nbformat": 4,
 "nbformat_minor": 5
}
