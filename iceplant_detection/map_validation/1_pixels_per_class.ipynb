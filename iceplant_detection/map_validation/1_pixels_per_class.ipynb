{
 "cells": [
  {
   "cell_type": "code",
   "execution_count": 1,
   "id": "14d0cd6f-b78d-404d-90cf-8386bf83378e",
   "metadata": {},
   "outputs": [],
   "source": [
    "import os\n",
    "import rioxarray as rioxr\n",
    "import numpy as np\n",
    "import pandas as pd"
   ]
  },
  {
   "cell_type": "code",
   "execution_count": 2,
   "id": "64d0e5fc-5049-4608-bcbf-09014edbb781",
   "metadata": {},
   "outputs": [],
   "source": [
    "year = 2020"
   ]
  },
  {
   "cell_type": "code",
   "execution_count": 3,
   "id": "97f2d1ed-2567-4e44-ba18-e63d6c460dbc",
   "metadata": {},
   "outputs": [
    {
     "data": {
      "text/html": [
       "<div>\n",
       "<style scoped>\n",
       "    .dataframe tbody tr th:only-of-type {\n",
       "        vertical-align: middle;\n",
       "    }\n",
       "\n",
       "    .dataframe tbody tr th {\n",
       "        vertical-align: top;\n",
       "    }\n",
       "\n",
       "    .dataframe thead th {\n",
       "        text-align: right;\n",
       "    }\n",
       "</style>\n",
       "<table border=\"1\" class=\"dataframe\">\n",
       "  <thead>\n",
       "    <tr style=\"text-align: right;\">\n",
       "      <th></th>\n",
       "      <th>n_nonice_20</th>\n",
       "      <th>n_ice_20</th>\n",
       "      <th>n_ground_20</th>\n",
       "      <th>n_water_20</th>\n",
       "      <th>raster</th>\n",
       "    </tr>\n",
       "  </thead>\n",
       "  <tbody>\n",
       "    <tr>\n",
       "      <th>0</th>\n",
       "      <td>32334429</td>\n",
       "      <td>9319051</td>\n",
       "      <td>111150412</td>\n",
       "      <td>62968690</td>\n",
       "      <td>LS_merged_crs26910_S_2020</td>\n",
       "    </tr>\n",
       "    <tr>\n",
       "      <th>1</th>\n",
       "      <td>887994</td>\n",
       "      <td>264213</td>\n",
       "      <td>1891593</td>\n",
       "      <td>2893071</td>\n",
       "      <td>LS_merged_crs26910_W_2020</td>\n",
       "    </tr>\n",
       "    <tr>\n",
       "      <th>2</th>\n",
       "      <td>87881212</td>\n",
       "      <td>2912345</td>\n",
       "      <td>62587031</td>\n",
       "      <td>69125241</td>\n",
       "      <td>LS_merged_crs26911_2020_clip</td>\n",
       "    </tr>\n",
       "  </tbody>\n",
       "</table>\n",
       "</div>"
      ],
      "text/plain": [
       "   n_nonice_20  n_ice_20  n_ground_20  n_water_20  \\\n",
       "0     32334429   9319051    111150412    62968690   \n",
       "1       887994    264213      1891593     2893071   \n",
       "2     87881212   2912345     62587031    69125241   \n",
       "\n",
       "                         raster  \n",
       "0     LS_merged_crs26910_S_2020  \n",
       "1     LS_merged_crs26910_W_2020  \n",
       "2  LS_merged_crs26911_2020_clip  "
      ]
     },
     "execution_count": 3,
     "metadata": {},
     "output_type": "execute_result"
    }
   ],
   "source": [
    "# -----------------------------------------------\n",
    "# Load rasters\n",
    "root = '/home/jovyan/msai4earth-esa/iceplant_detection/processing_results/' + os.path.join('LS_filter_clip_preds_' + str(year))\n",
    "\n",
    "fp = os.path.join(root, 'LS_merged_crs26910_S_'+str(year)+'.tif')\n",
    "r_26910_S = rioxr.open_rasterio(fp).squeeze()\n",
    "\n",
    "fp = os.path.join(root, 'LS_merged_crs26910_W_'+str(year)+'.tif')\n",
    "r_26910_W = rioxr.open_rasterio(fp).squeeze()\n",
    "\n",
    "fp = os.path.join(root, 'LS_merged_crs26911_'+str(year)+'.tif')\n",
    "r_26911 = rioxr.open_rasterio(fp).squeeze()\n",
    "\n",
    "rasters = [r_26910_S, r_26910_W, r_26911]\n",
    "\n",
    "# -----------------------------------------------\n",
    "# count total number of pixels per category in combined rasters\n",
    "n_nonice = []\n",
    "n_ice = []\n",
    "n_ground = []\n",
    "n_water = []\n",
    "\n",
    "for raster in rasters:\n",
    "    n_nonice.append(len(np.where(raster == 0)[0]))\n",
    "    n_ice.append(len(np.where(raster == 1)[0]))\n",
    "    n_ground.append(len(np.where(raster == 2)[0]))\n",
    "    n_water.append(len(np.where(raster == 3)[0]))\n",
    "    \n",
    "# -----------------------------------------------\n",
    "# assemble and save dataframe with pixel counts\n",
    "D = { 'n_nonice_20': n_nonice,\n",
    "      'n_ice_20' : n_ice,\n",
    "      'n_ground_20' : n_ground, \n",
    "      'n_water_20' : n_water}\n",
    "\n",
    "df = pd.DataFrame(D)\n",
    "\n",
    "df['raster'] = ['LS_merged_crs26910_S_'+str(year),\n",
    "                'LS_merged_crs26910_W_'+str(year), \n",
    "                'LS_merged_crs26911_'+str(year)]\n",
    "\n",
    "df.to_csv('rasters_2020_pixel_counts.csv', index=False)#, index_label='PLOTID')\n",
    "\n",
    "# -----------------------------------------------\n",
    "df"
   ]
  },
  {
   "cell_type": "code",
   "execution_count": null,
   "id": "cd8de1e6-a76e-4676-9949-d9f3d5577526",
   "metadata": {},
   "outputs": [],
   "source": []
  }
 ],
 "metadata": {
  "kernelspec": {
   "display_name": "Python 3 (ipykernel)",
   "language": "python",
   "name": "python3"
  },
  "language_info": {
   "codemirror_mode": {
    "name": "ipython",
    "version": 3
   },
   "file_extension": ".py",
   "mimetype": "text/x-python",
   "name": "python",
   "nbconvert_exporter": "python",
   "pygments_lexer": "ipython3",
   "version": "3.10.6"
  }
 },
 "nbformat": 4,
 "nbformat_minor": 5
}
