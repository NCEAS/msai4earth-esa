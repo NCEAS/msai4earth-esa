{
 "cells": [
  {
   "cell_type": "code",
   "execution_count": 1,
   "id": "14d0cd6f-b78d-404d-90cf-8386bf83378e",
   "metadata": {},
   "outputs": [],
   "source": [
    "import os\n",
    "import rioxarray as rioxr\n",
    "import numpy as np\n",
    "import pandas as pd"
   ]
  },
  {
   "cell_type": "code",
   "execution_count": 2,
   "id": "64d0e5fc-5049-4608-bcbf-09014edbb781",
   "metadata": {},
   "outputs": [],
   "source": [
    "year = 2020\n",
    "prefix = 'LSWE'"
   ]
  },
  {
   "cell_type": "code",
   "execution_count": 3,
   "id": "dbf7b223-4479-4040-8bab-8e0154cc448a",
   "metadata": {},
   "outputs": [],
   "source": [
    "# -----------------------------------------------\n",
    "# Load rasters\n",
    "root = '/home/jovyan/msai4earth-esa/iceplant_detection/processing_results/' + os.path.join(prefix + '_filter_clip_preds_' + str(year))\n",
    "\n",
    "fp = os.path.join(root, prefix+'_merged_crs26910_S_'+str(year)+'.tif')\n",
    "r_26910_S = rioxr.open_rasterio(fp).squeeze()\n",
    "\n",
    "fp = os.path.join(root, prefix+'_merged_crs26910_W_'+str(year)+'.tif')\n",
    "r_26910_W = rioxr.open_rasterio(fp).squeeze()\n",
    "\n",
    "fp = os.path.join(root, prefix+'_merged_crs26911_'+str(year)+'.tif')\n",
    "r_26911 = rioxr.open_rasterio(fp).squeeze()\n",
    "\n",
    "rasters = [r_26910_S, r_26910_W, r_26911]\n",
    "\n",
    "# -----------------------------------------------\n",
    "# count total number of pixels per category in combined rasters\n",
    "n_nonice = []\n",
    "n_ice = []\n",
    "n_ground = []\n",
    "n_water = []\n",
    "\n",
    "for raster in rasters:\n",
    "    n_nonice.append(len(np.where(raster == 0)[0]))\n",
    "    n_ice.append(len(np.where(raster == 1)[0]))\n",
    "    n_ground.append(len(np.where(raster == 2)[0]))\n",
    "    n_water.append(len(np.where(raster == 3)[0]))\n",
    "    "
   ]
  },
  {
   "cell_type": "code",
   "execution_count": 4,
   "id": "e8f31f32-0f90-4dd6-987b-980a792b3890",
   "metadata": {},
   "outputs": [
    {
     "data": {
      "text/html": [
       "<div>\n",
       "<style scoped>\n",
       "    .dataframe tbody tr th:only-of-type {\n",
       "        vertical-align: middle;\n",
       "    }\n",
       "\n",
       "    .dataframe tbody tr th {\n",
       "        vertical-align: top;\n",
       "    }\n",
       "\n",
       "    .dataframe thead th {\n",
       "        text-align: right;\n",
       "    }\n",
       "</style>\n",
       "<table border=\"1\" class=\"dataframe\">\n",
       "  <thead>\n",
       "    <tr style=\"text-align: right;\">\n",
       "      <th></th>\n",
       "      <th>n_nonice_2020</th>\n",
       "      <th>n_ice_2020</th>\n",
       "      <th>n_ground_2020</th>\n",
       "      <th>n_water_2020</th>\n",
       "      <th>raster</th>\n",
       "    </tr>\n",
       "  </thead>\n",
       "  <tbody>\n",
       "    <tr>\n",
       "      <th>0</th>\n",
       "      <td>33934167</td>\n",
       "      <td>7670064</td>\n",
       "      <td>111150234</td>\n",
       "      <td>62968752</td>\n",
       "      <td>LSWE_merged_crs26910_S_2020</td>\n",
       "    </tr>\n",
       "    <tr>\n",
       "      <th>1</th>\n",
       "      <td>929332</td>\n",
       "      <td>220034</td>\n",
       "      <td>1891543</td>\n",
       "      <td>2893072</td>\n",
       "      <td>LSWE_merged_crs26910_W_2020</td>\n",
       "    </tr>\n",
       "    <tr>\n",
       "      <th>2</th>\n",
       "      <td>88304400</td>\n",
       "      <td>2417441</td>\n",
       "      <td>62586735</td>\n",
       "      <td>69125515</td>\n",
       "      <td>LSWE_merged_crs26911_2020</td>\n",
       "    </tr>\n",
       "  </tbody>\n",
       "</table>\n",
       "</div>"
      ],
      "text/plain": [
       "   n_nonice_2020  n_ice_2020  n_ground_2020  n_water_2020  \\\n",
       "0       33934167     7670064      111150234      62968752   \n",
       "1         929332      220034        1891543       2893072   \n",
       "2       88304400     2417441       62586735      69125515   \n",
       "\n",
       "                        raster  \n",
       "0  LSWE_merged_crs26910_S_2020  \n",
       "1  LSWE_merged_crs26910_W_2020  \n",
       "2    LSWE_merged_crs26911_2020  "
      ]
     },
     "execution_count": 4,
     "metadata": {},
     "output_type": "execute_result"
    }
   ],
   "source": [
    "# -----------------------------------------------\n",
    "# assemble and save dataframe with pixel counts\n",
    "D = { 'n_nonice_'+str(year): n_nonice,\n",
    "      'n_ice_'+str(year) : n_ice,\n",
    "      'n_ground_'+str(year) : n_ground, \n",
    "      'n_water_'+str(year) : n_water}\n",
    "\n",
    "df = pd.DataFrame(D)\n",
    "\n",
    "df['raster'] = [prefix+'_merged_crs26910_S_'+str(year),\n",
    "                prefix+'_merged_crs26910_W_'+str(year), \n",
    "                prefix+'_merged_crs26911_'+str(year)]\n",
    "\n",
    "df.to_csv(prefix+'_rasters_'+str(year)+'_pixel_counts.csv', index=False)#, index_label='PLOTID')\n",
    "\n",
    "# -----------------------------------------------\n",
    "df"
   ]
  },
  {
   "cell_type": "code",
   "execution_count": null,
   "id": "a3deef6e-d2fe-4a31-8dbc-744afa32971c",
   "metadata": {},
   "outputs": [],
   "source": []
  }
 ],
 "metadata": {
  "kernelspec": {
   "display_name": "Python 3 (ipykernel)",
   "language": "python",
   "name": "python3"
  },
  "language_info": {
   "codemirror_mode": {
    "name": "ipython",
    "version": 3
   },
   "file_extension": ".py",
   "mimetype": "text/x-python",
   "name": "python",
   "nbconvert_exporter": "python",
   "pygments_lexer": "ipython3",
   "version": "3.10.6"
  }
 },
 "nbformat": 4,
 "nbformat_minor": 5
}
