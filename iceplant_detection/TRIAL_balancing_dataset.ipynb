{
 "cells": [
  {
   "cell_type": "code",
   "execution_count": 1,
   "id": "1a7f9808-7f1f-4d40-b8bb-af4e29291c04",
   "metadata": {},
   "outputs": [],
   "source": [
    "import os\n",
    "import pandas as pd\n",
    "import numpy as np\n",
    "from sklearn.ensemble import RandomForestClassifier\n",
    "import model_prep_and_evals as mpe\n",
    "\n",
    "import time\n",
    "from sklearn.metrics import confusion_matrix"
   ]
  },
  {
   "cell_type": "code",
   "execution_count": 2,
   "id": "053d16a7-2c4c-47e3-95a2-903566a0c68d",
   "metadata": {},
   "outputs": [],
   "source": [
    "X_test = pd.read_csv(os.path.join(os.getcwd(),'data_sampling_workflow','test_set.csv')).loc[:,'r':'day_in_year']\n",
    "y_test = pd.read_csv(os.path.join(os.getcwd(),'data_sampling_workflow','test_set.csv')).loc[:,'iceplant'] "
   ]
  },
  {
   "cell_type": "code",
   "execution_count": 3,
   "id": "ed45a95a-de31-47a8-8120-a84a4dc1abf6",
   "metadata": {},
   "outputs": [],
   "source": [
    "df = pd.read_csv(os.path.join(os.getcwd(),'data_sampling_workflow','train_set.csv'))\n",
    "ice = df.loc[df.iceplant == 1]\n",
    "nonice = df.loc[df.iceplant == 0]"
   ]
  },
  {
   "cell_type": "code",
   "execution_count": 4,
   "id": "dec8b440-42f7-4444-8a12-30413668d0a1",
   "metadata": {},
   "outputs": [],
   "source": [
    "n_ice = len(ice)\n",
    "n_nonice = len(nonice)\n",
    "\n",
    "perc = [10, 20, 30, 40, 50]\n",
    "samples = [ int(p*n_nonice / (100-p) ) for p in perc]\n",
    "samples[4] = n_ice"
   ]
  },
  {
   "cell_type": "code",
   "execution_count": 5,
   "id": "ef935f5c-aef9-46af-8498-af7b38e9d162",
   "metadata": {},
   "outputs": [],
   "source": [
    "TN = []\n",
    "FN = []\n",
    "FP = []\n",
    "TP = []\n",
    "sens = []\n",
    "spec = []\n",
    "prec = []\n",
    "acc= []\n",
    "times = []\n",
    "#gmean = []\n",
    "#mcc = []\n",
    "#f1 = []\n",
    "#f2 = []"
   ]
  },
  {
   "cell_type": "code",
   "execution_count": 6,
   "id": "d9d2385d-0395-4504-8050-4b7b5aca42c9",
   "metadata": {},
   "outputs": [
    {
     "name": "stdout",
     "output_type": "stream",
     "text": [
      "working\n",
      "working\n",
      "working\n",
      "working\n",
      "working\n"
     ]
    }
   ],
   "source": [
    "for n in samples:\n",
    "    ice_sample = ice.sample(n = n, random_state=21)\n",
    "\n",
    "    X_train = pd.concat([ice_sample, nonice],axis=0).loc[:,'r':'day_in_year'].to_numpy()\n",
    "    y_train = pd.concat([ice_sample, nonice],axis=0).loc[:,'iceplant'].to_numpy()\n",
    "\n",
    "    t0 =  time.time()\n",
    "    rfc = RandomForestClassifier(n_estimators = 100, random_state = 42)\n",
    "    rfc.fit(X_train, y_train)\n",
    "    times.append(time.time() - t0)    \n",
    "\n",
    "    # ------------------------------------------------------    \n",
    "    y_pred = rfc.predict(X_test.to_numpy())\n",
    "    y_true = y_test.to_numpy()\n",
    "    \n",
    "    confmtx = confusion_matrix(y_true, y_pred)\n",
    "    TN.append(confmtx[0,0])\n",
    "    FP.append(confmtx[0,1])\n",
    "    FN.append(confmtx[1,0])\n",
    "    TP.append(confmtx[1,1])\n",
    "\n",
    "    prec.append( np.round(confmtx[1,1]/(confmtx[1,1]+confmtx[0,1])*100, 2))\n",
    "    acc.append( np.round( (confmtx[1,1] + confmtx[0,0])/y_true.shape[0]*100, 2))    \n",
    "    \n",
    "    unique, counts = np.unique(y_true, return_counts = True)\n",
    "    sens.append(np.round(confmtx[1,1]/counts[1]*100, 2))\n",
    "    spec.append(np.round(confmtx[0,0]/counts[0]*100, 2))\n",
    "    # ------------------------------------------------------  \n",
    "    print('working')\n"
   ]
  },
  {
   "cell_type": "code",
   "execution_count": 7,
   "id": "c7f8bd18-dbaf-4f4f-b99f-4d588e44f5a0",
   "metadata": {},
   "outputs": [],
   "source": [
    "# print('G-mean: ', round(np.sqrt(sens*spec),2))\n",
    "# print('MCC: ', matthews_corrcoef(y_true,y_pred))\n",
    "# print('F1-measure: ',  round(fbeta_score(y_true, y_pred, beta=1.0),5))\n",
    "# print('F0.5-measure (min false positives): ',  round(fbeta_score(y_true, y_pred, beta=0.5),5))\n",
    "# print('F2-measure (min false negatives)  : ',  round(fbeta_score(y_true, y_pred, beta=2.0),5))\n",
    "\n"
   ]
  },
  {
   "cell_type": "code",
   "execution_count": 12,
   "id": "1ecdaca6-39f7-4467-b622-1657db453565",
   "metadata": {},
   "outputs": [],
   "source": [
    "D = { 'TN' : TN,\n",
    "     'FP' : FP,\n",
    "     'FN' : FN,\n",
    "     'TP' : TP,\n",
    "     'prec' : prec,\n",
    "     'acc' : acc, \n",
    "     'sens' : sens,\n",
    "     'spec' : spec,\n",
    "     'times' : times,\n",
    "     'n_ice' : samples\n",
    "    }\n",
    "stats =  pd.DataFrame(D)\n",
    "\n",
    "stats['n_nonice'] = n_nonice\n",
    "\n",
    "stats['perc_ice'] = np.round(stats.n_ice/(stats.n_ice + stats.n_nonice)*100)\n",
    "stats"
   ]
  },
  {
   "cell_type": "code",
   "execution_count": 21,
   "id": "67b7d804-08a6-4be8-be1e-c775c4bed5c4",
   "metadata": {},
   "outputs": [],
   "source": [
    "stats.to_csv(os.path.join(os.getcwd(),'temp','stats.csv'))"
   ]
  },
  {
   "cell_type": "code",
   "execution_count": null,
   "id": "31b8f7f1-bb49-43eb-b655-5c9d40b7fd65",
   "metadata": {},
   "outputs": [],
   "source": [
    "#sensitivity (TP/P)\n",
    "#specificity (TN/N)\n",
    "#precision   (TP/(TP+FP))\n",
    "#accuracy    (TP + TN)/(P + N)"
   ]
  },
  {
   "cell_type": "code",
   "execution_count": 25,
   "id": "fbbbfd6b-2cee-4925-8071-27271413e9ac",
   "metadata": {},
   "outputs": [
    {
     "name": "stdout",
     "output_type": "stream",
     "text": [
      "true negatives: 82285     false positives: 3545\n",
      "false negatives: 7631     true positives: 69641\n",
      "\n",
      "sensitivity (TP/P): 90.12 %\n",
      "specificity (TN/N): 95.87 %\n",
      "G-mean:  0.93\n",
      "\n",
      "precision (TP/(TP+FP)): 95.16 %\n",
      "\n",
      "MCC:  0.863311426951114\n",
      "\n",
      "F1-measure:  0.92572\n",
      "F0.5-measure (min false positives):  0.94105\n",
      "F2-measure (min false negatives)  :  0.91088\n",
      "\n",
      "accuracy: 93.15 %\n",
      "working\n"
     ]
    }
   ],
   "source": [
    "p = 33\n",
    "n = int(p*n_nonice / (100-p))\n",
    "\n",
    "ice_sample = ice.sample(n = n, random_state=21)\n",
    "\n",
    "X_train = pd.concat([ice_sample, nonice],axis=0).loc[:,'r':'day_in_year'].to_numpy()\n",
    "y_train = pd.concat([ice_sample, nonice],axis=0).loc[:,'iceplant'].to_numpy()\n",
    "\n",
    "t0 =  time.time()\n",
    "rfc = RandomForestClassifier(n_estimators = 100, random_state = 42)\n",
    "rfc.fit(X_train, y_train)    \n",
    "\n",
    "# ------------------------------------------------------    \n",
    "y_pred = rfc.predict(X_test.to_numpy())\n",
    "y_true = y_test.to_numpy()\n",
    "\n",
    "        \n",
    "mpe.print_accuracy_info(y_true, y_pred)\n",
    "# confmtx = confusion_matrix(y_true, y_pred)\n",
    "# TN.append(confmtx[0,0])\n",
    "# FP.append(confmtx[0,1])\n",
    "# FN.append(confmtx[1,0])\n",
    "# TP.append(confmtx[1,1])\n",
    "\n",
    "# prec.append( np.round(confmtx[1,1]/(confmtx[1,1]+confmtx[0,1])*100, 2))\n",
    "# acc.append( np.round( (confmtx[1,1] + confmtx[0,0])/y_true.shape[0]*100, 2))    \n",
    "\n",
    "# unique, counts = np.unique(y_true, return_counts = True)\n",
    "# sens.append(np.round(confmtx[1,1]/counts[1]*100, 2))\n",
    "# spec.append(np.round(confmtx[0,0]/counts[0]*100, 2))\n",
    "        \n",
    "\n",
    "# ------------------------------------------------------  \n",
    "print('working')\n"
   ]
  },
  {
   "cell_type": "code",
   "execution_count": null,
   "id": "57ebef60-1e6e-45b8-987d-4e32aa2f1982",
   "metadata": {},
   "outputs": [],
   "source": []
  }
 ],
 "metadata": {
  "kernelspec": {
   "display_name": "Python 3 (ipykernel)",
   "language": "python",
   "name": "python3"
  },
  "language_info": {
   "codemirror_mode": {
    "name": "ipython",
    "version": 3
   },
   "file_extension": ".py",
   "mimetype": "text/x-python",
   "name": "python",
   "nbconvert_exporter": "python",
   "pygments_lexer": "ipython3",
   "version": "3.10.6"
  }
 },
 "nbformat": 4,
 "nbformat_minor": 5
}
