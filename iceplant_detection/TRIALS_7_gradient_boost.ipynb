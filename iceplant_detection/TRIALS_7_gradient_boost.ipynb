{
 "cells": [
  {
   "cell_type": "code",
   "execution_count": 1,
   "id": "fa3f0f35-05ec-4ed6-81e1-595fd656713c",
   "metadata": {},
   "outputs": [],
   "source": [
    "import os\n",
    "import pandas as pd\n",
    "import numpy as np\n",
    "import matplotlib.pyplot as plt\n",
    "\n",
    "from sklearn.model_selection import train_test_split\n",
    "from sklearn.ensemble import GradientBoostingClassifier\n",
    "\n",
    "import rasterio\n",
    "import geopandas as gpd\n",
    "\n",
    "from shapely.geometry import Polygon\n",
    "\n",
    "import iceplant_detection_functions as ipf\n",
    "import model_prep_and_evals as mpe\n",
    "\n",
    "import warnings"
   ]
  },
  {
   "cell_type": "code",
   "execution_count": 2,
   "id": "26521c0c-2a64-4e18-8db7-f7a735b7494e",
   "metadata": {},
   "outputs": [
    {
     "data": {
      "text/html": [
       "<div>\n",
       "<style scoped>\n",
       "    .dataframe tbody tr th:only-of-type {\n",
       "        vertical-align: middle;\n",
       "    }\n",
       "\n",
       "    .dataframe tbody tr th {\n",
       "        vertical-align: top;\n",
       "    }\n",
       "\n",
       "    .dataframe thead th {\n",
       "        text-align: right;\n",
       "    }\n",
       "</style>\n",
       "<table border=\"1\" class=\"dataframe\">\n",
       "  <thead>\n",
       "    <tr style=\"text-align: right;\">\n",
       "      <th></th>\n",
       "      <th>r</th>\n",
       "      <th>g</th>\n",
       "      <th>b</th>\n",
       "      <th>nir</th>\n",
       "      <th>ndvi</th>\n",
       "      <th>year</th>\n",
       "      <th>month</th>\n",
       "      <th>day_in_year</th>\n",
       "      <th>iceplant</th>\n",
       "    </tr>\n",
       "  </thead>\n",
       "  <tbody>\n",
       "    <tr>\n",
       "      <th>0</th>\n",
       "      <td>134</td>\n",
       "      <td>125</td>\n",
       "      <td>103</td>\n",
       "      <td>170</td>\n",
       "      <td>0.118421</td>\n",
       "      <td>2012</td>\n",
       "      <td>5</td>\n",
       "      <td>126</td>\n",
       "      <td>1</td>\n",
       "    </tr>\n",
       "    <tr>\n",
       "      <th>1</th>\n",
       "      <td>130</td>\n",
       "      <td>114</td>\n",
       "      <td>101</td>\n",
       "      <td>164</td>\n",
       "      <td>0.115646</td>\n",
       "      <td>2012</td>\n",
       "      <td>5</td>\n",
       "      <td>126</td>\n",
       "      <td>1</td>\n",
       "    </tr>\n",
       "    <tr>\n",
       "      <th>2</th>\n",
       "      <td>132</td>\n",
       "      <td>110</td>\n",
       "      <td>98</td>\n",
       "      <td>160</td>\n",
       "      <td>0.095890</td>\n",
       "      <td>2012</td>\n",
       "      <td>5</td>\n",
       "      <td>126</td>\n",
       "      <td>1</td>\n",
       "    </tr>\n",
       "  </tbody>\n",
       "</table>\n",
       "</div>"
      ],
      "text/plain": [
       "     r    g    b  nir      ndvi  year  month  day_in_year  iceplant\n",
       "0  134  125  103  170  0.118421  2012      5          126         1\n",
       "1  130  114  101  164  0.115646  2012      5          126         1\n",
       "2  132  110   98  160  0.095890  2012      5          126         1"
      ]
     },
     "execution_count": 2,
     "metadata": {},
     "output_type": "execute_result"
    }
   ],
   "source": [
    "df = pd.read_csv(os.path.join(os.getcwd(),'feature_selection','samples_for_model.csv'))\n",
    "df.drop(['Unnamed: 0'], axis=1, inplace=True)\n",
    "df.head(3)"
   ]
  },
  {
   "cell_type": "code",
   "execution_count": 3,
   "id": "8a33bbad-d1a2-4095-b696-c5435e540be7",
   "metadata": {},
   "outputs": [
    {
     "name": "stdout",
     "output_type": "stream",
     "text": [
      "TRAIN SET COUNTS:\n",
      "no-iceplant:iceplant ratio     1.9 :1\n",
      "          counts  percentage\n",
      "iceplant                    \n",
      "0         159093       65.99\n",
      "1          82006       34.01\n",
      "\n",
      "TEST SET COUNTS:\n",
      "no-iceplant:iceplant ratio     2.0 :1\n",
      "          counts  percentage\n",
      "iceplant                    \n",
      "0          68381       66.18\n",
      "1          34948       33.82\n",
      "\n"
     ]
    }
   ],
   "source": [
    "X_train, X_test, y_train, y_test = mpe.test_train_from_df(df)\n",
    "mpe.test_train_proportions(y_train, y_test)"
   ]
  },
  {
   "cell_type": "code",
   "execution_count": 8,
   "id": "c6a7c844-6d5b-4ad7-bcb8-6ca0e540124f",
   "metadata": {},
   "outputs": [
    {
     "name": "stdout",
     "output_type": "stream",
     "text": [
      "      Iter       Train Loss   Remaining Time \n",
      "         1           1.2059            1.13m\n",
      "         2           1.1429            1.12m\n",
      "         3           1.0832            1.10m\n",
      "         4           1.0321            1.10m\n",
      "         5           0.9931            1.10m\n",
      "         6           0.9549            1.11m\n",
      "         7           0.9203            1.11m\n",
      "         8           0.8917            1.12m\n",
      "         9           0.8651            1.10m\n",
      "        10           0.8407            1.09m\n",
      "        20           0.6649            1.01m\n",
      "        30           0.5730           57.46s\n",
      "        40           0.5133           54.39s\n",
      "        50           0.4712           50.97s\n",
      "        60           0.4385           47.67s\n",
      "        70           0.4129           44.27s\n",
      "        80           0.3929           40.93s\n",
      "        90           0.3765           37.60s\n",
      "       100           0.3619           34.20s\n",
      "       200           0.2913            0.00s\n"
     ]
    },
    {
     "data": {
      "text/plain": [
       "GradientBoostingClassifier(n_estimators=200, random_state=0, verbose=1)"
      ]
     },
     "execution_count": 8,
     "metadata": {},
     "output_type": "execute_result"
    }
   ],
   "source": [
    "gbc = GradientBoostingClassifier(n_estimators = 200, \n",
    "                                 learning_rate = 0.1,\n",
    "                                 max_depth = 3,\n",
    "#                                 validation_fraction = 0.2,\n",
    "#                                 n_iter_no_change = 10,\n",
    "                                 random_state=0,\n",
    "                                 verbose=1)\n",
    "gbc.fit(X_train, y_train)"
   ]
  },
  {
   "cell_type": "code",
   "execution_count": 9,
   "id": "f1285edc-848a-48c9-9660-3d346a489b35",
   "metadata": {},
   "outputs": [
    {
     "name": "stdout",
     "output_type": "stream",
     "text": [
      "\n",
      "true negatives: 65956     false positives: 2425\n",
      "false negatives: 3085     true positives: 31863\n",
      "\n",
      "sensitivity (TP/P): 91.17 %\n",
      "specificity (TN/N): 96.45 %\n",
      "G-mean:  0.94\n",
      "\n",
      "precision (TP/(TP+FP)): 92.93 %\n",
      "\n",
      "MCC:  0.8804175907331317\n",
      "\n",
      "F1-measure:  0.92042\n",
      "F0.5-measure (min false positives):  0.92571\n",
      "F2-measure (min false negatives)  :  0.91518\n",
      "\n",
      "accuracy: 94.67 %\n",
      "\n"
     ]
    }
   ],
   "source": [
    "predictions = gbc.predict(X_test)\n",
    "mpe.print_threshold_metrics(y_test, predictions)"
   ]
  },
  {
   "cell_type": "code",
   "execution_count": null,
   "id": "47938932-d9e5-44c9-b144-20a8db0c1f2a",
   "metadata": {},
   "outputs": [],
   "source": []
  }
 ],
 "metadata": {
  "kernelspec": {
   "display_name": "Python 3 (ipykernel)",
   "language": "python",
   "name": "python3"
  },
  "language_info": {
   "codemirror_mode": {
    "name": "ipython",
    "version": 3
   },
   "file_extension": ".py",
   "mimetype": "text/x-python",
   "name": "python",
   "nbconvert_exporter": "python",
   "pygments_lexer": "ipython3",
   "version": "3.8.13"
  }
 },
 "nbformat": 4,
 "nbformat_minor": 5
}
