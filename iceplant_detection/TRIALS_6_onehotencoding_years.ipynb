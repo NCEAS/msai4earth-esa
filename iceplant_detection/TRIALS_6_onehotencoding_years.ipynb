{
 "cells": [
  {
   "cell_type": "code",
   "execution_count": 1,
   "id": "2401a730-6d42-4658-a29c-acdda2195888",
   "metadata": {},
   "outputs": [],
   "source": [
    "import os\n",
    "import pandas as pd\n",
    "import numpy as np\n",
    "import matplotlib.pyplot as plt\n",
    "\n",
    "from sklearn.model_selection import train_test_split\n",
    "from sklearn.ensemble import RandomForestClassifier\n",
    "\n",
    "import rasterio\n",
    "import geopandas as gpd\n",
    "\n",
    "from shapely.geometry import Polygon\n",
    "\n",
    "import iceplant_detection_functions as ipf\n",
    "import model_prep_and_evals as mpe\n",
    "\n",
    "import warnings"
   ]
  },
  {
   "cell_type": "code",
   "execution_count": 2,
   "id": "9e35504d-097f-46d6-b99c-106e62a84f3b",
   "metadata": {},
   "outputs": [
    {
     "data": {
      "text/html": [
       "<div>\n",
       "<style scoped>\n",
       "    .dataframe tbody tr th:only-of-type {\n",
       "        vertical-align: middle;\n",
       "    }\n",
       "\n",
       "    .dataframe tbody tr th {\n",
       "        vertical-align: top;\n",
       "    }\n",
       "\n",
       "    .dataframe thead th {\n",
       "        text-align: right;\n",
       "    }\n",
       "</style>\n",
       "<table border=\"1\" class=\"dataframe\">\n",
       "  <thead>\n",
       "    <tr style=\"text-align: right;\">\n",
       "      <th></th>\n",
       "      <th>r</th>\n",
       "      <th>g</th>\n",
       "      <th>b</th>\n",
       "      <th>nir</th>\n",
       "      <th>ndvi</th>\n",
       "      <th>year</th>\n",
       "      <th>month</th>\n",
       "      <th>day_in_year</th>\n",
       "      <th>iceplant</th>\n",
       "    </tr>\n",
       "  </thead>\n",
       "  <tbody>\n",
       "    <tr>\n",
       "      <th>0</th>\n",
       "      <td>134</td>\n",
       "      <td>125</td>\n",
       "      <td>103</td>\n",
       "      <td>170</td>\n",
       "      <td>0.118421</td>\n",
       "      <td>2012</td>\n",
       "      <td>5</td>\n",
       "      <td>126</td>\n",
       "      <td>1</td>\n",
       "    </tr>\n",
       "    <tr>\n",
       "      <th>1</th>\n",
       "      <td>130</td>\n",
       "      <td>114</td>\n",
       "      <td>101</td>\n",
       "      <td>164</td>\n",
       "      <td>0.115646</td>\n",
       "      <td>2012</td>\n",
       "      <td>5</td>\n",
       "      <td>126</td>\n",
       "      <td>1</td>\n",
       "    </tr>\n",
       "    <tr>\n",
       "      <th>2</th>\n",
       "      <td>132</td>\n",
       "      <td>110</td>\n",
       "      <td>98</td>\n",
       "      <td>160</td>\n",
       "      <td>0.095890</td>\n",
       "      <td>2012</td>\n",
       "      <td>5</td>\n",
       "      <td>126</td>\n",
       "      <td>1</td>\n",
       "    </tr>\n",
       "  </tbody>\n",
       "</table>\n",
       "</div>"
      ],
      "text/plain": [
       "     r    g    b  nir      ndvi  year  month  day_in_year  iceplant\n",
       "0  134  125  103  170  0.118421  2012      5          126         1\n",
       "1  130  114  101  164  0.115646  2012      5          126         1\n",
       "2  132  110   98  160  0.095890  2012      5          126         1"
      ]
     },
     "execution_count": 2,
     "metadata": {},
     "output_type": "execute_result"
    }
   ],
   "source": [
    "df = pd.read_csv(os.path.join(os.getcwd(),'feature_selection','samples_for_model.csv'))\n",
    "df.drop(['Unnamed: 0'],axis=1,inplace=True)\n",
    "df.head(3)"
   ]
  },
  {
   "cell_type": "code",
   "execution_count": 3,
   "id": "36f8a3fd-4877-46d9-ae20-7fc353bfba44",
   "metadata": {},
   "outputs": [
    {
     "data": {
      "text/html": [
       "<div>\n",
       "<style scoped>\n",
       "    .dataframe tbody tr th:only-of-type {\n",
       "        vertical-align: middle;\n",
       "    }\n",
       "\n",
       "    .dataframe tbody tr th {\n",
       "        vertical-align: top;\n",
       "    }\n",
       "\n",
       "    .dataframe thead th {\n",
       "        text-align: right;\n",
       "    }\n",
       "</style>\n",
       "<table border=\"1\" class=\"dataframe\">\n",
       "  <thead>\n",
       "    <tr style=\"text-align: right;\">\n",
       "      <th></th>\n",
       "      <th>r</th>\n",
       "      <th>g</th>\n",
       "      <th>b</th>\n",
       "      <th>nir</th>\n",
       "      <th>ndvi</th>\n",
       "      <th>month</th>\n",
       "      <th>day_in_year</th>\n",
       "      <th>iceplant</th>\n",
       "      <th>year_2012</th>\n",
       "      <th>year_2014</th>\n",
       "      <th>year_2018</th>\n",
       "      <th>year_2020</th>\n",
       "    </tr>\n",
       "  </thead>\n",
       "  <tbody>\n",
       "    <tr>\n",
       "      <th>0</th>\n",
       "      <td>134</td>\n",
       "      <td>125</td>\n",
       "      <td>103</td>\n",
       "      <td>170</td>\n",
       "      <td>0.118421</td>\n",
       "      <td>5</td>\n",
       "      <td>126</td>\n",
       "      <td>1</td>\n",
       "      <td>1</td>\n",
       "      <td>0</td>\n",
       "      <td>0</td>\n",
       "      <td>0</td>\n",
       "    </tr>\n",
       "    <tr>\n",
       "      <th>1</th>\n",
       "      <td>130</td>\n",
       "      <td>114</td>\n",
       "      <td>101</td>\n",
       "      <td>164</td>\n",
       "      <td>0.115646</td>\n",
       "      <td>5</td>\n",
       "      <td>126</td>\n",
       "      <td>1</td>\n",
       "      <td>1</td>\n",
       "      <td>0</td>\n",
       "      <td>0</td>\n",
       "      <td>0</td>\n",
       "    </tr>\n",
       "    <tr>\n",
       "      <th>2</th>\n",
       "      <td>132</td>\n",
       "      <td>110</td>\n",
       "      <td>98</td>\n",
       "      <td>160</td>\n",
       "      <td>0.095890</td>\n",
       "      <td>5</td>\n",
       "      <td>126</td>\n",
       "      <td>1</td>\n",
       "      <td>1</td>\n",
       "      <td>0</td>\n",
       "      <td>0</td>\n",
       "      <td>0</td>\n",
       "    </tr>\n",
       "    <tr>\n",
       "      <th>3</th>\n",
       "      <td>136</td>\n",
       "      <td>122</td>\n",
       "      <td>106</td>\n",
       "      <td>148</td>\n",
       "      <td>0.042254</td>\n",
       "      <td>5</td>\n",
       "      <td>126</td>\n",
       "      <td>1</td>\n",
       "      <td>1</td>\n",
       "      <td>0</td>\n",
       "      <td>0</td>\n",
       "      <td>0</td>\n",
       "    </tr>\n",
       "    <tr>\n",
       "      <th>4</th>\n",
       "      <td>137</td>\n",
       "      <td>115</td>\n",
       "      <td>108</td>\n",
       "      <td>139</td>\n",
       "      <td>0.007246</td>\n",
       "      <td>5</td>\n",
       "      <td>126</td>\n",
       "      <td>1</td>\n",
       "      <td>1</td>\n",
       "      <td>0</td>\n",
       "      <td>0</td>\n",
       "      <td>0</td>\n",
       "    </tr>\n",
       "    <tr>\n",
       "      <th>...</th>\n",
       "      <td>...</td>\n",
       "      <td>...</td>\n",
       "      <td>...</td>\n",
       "      <td>...</td>\n",
       "      <td>...</td>\n",
       "      <td>...</td>\n",
       "      <td>...</td>\n",
       "      <td>...</td>\n",
       "      <td>...</td>\n",
       "      <td>...</td>\n",
       "      <td>...</td>\n",
       "      <td>...</td>\n",
       "    </tr>\n",
       "    <tr>\n",
       "      <th>344423</th>\n",
       "      <td>52</td>\n",
       "      <td>72</td>\n",
       "      <td>52</td>\n",
       "      <td>134</td>\n",
       "      <td>0.440860</td>\n",
       "      <td>6</td>\n",
       "      <td>159</td>\n",
       "      <td>0</td>\n",
       "      <td>0</td>\n",
       "      <td>0</td>\n",
       "      <td>0</td>\n",
       "      <td>1</td>\n",
       "    </tr>\n",
       "    <tr>\n",
       "      <th>344424</th>\n",
       "      <td>64</td>\n",
       "      <td>78</td>\n",
       "      <td>52</td>\n",
       "      <td>153</td>\n",
       "      <td>0.410138</td>\n",
       "      <td>6</td>\n",
       "      <td>159</td>\n",
       "      <td>0</td>\n",
       "      <td>0</td>\n",
       "      <td>0</td>\n",
       "      <td>0</td>\n",
       "      <td>1</td>\n",
       "    </tr>\n",
       "    <tr>\n",
       "      <th>344425</th>\n",
       "      <td>60</td>\n",
       "      <td>82</td>\n",
       "      <td>54</td>\n",
       "      <td>161</td>\n",
       "      <td>0.457014</td>\n",
       "      <td>6</td>\n",
       "      <td>159</td>\n",
       "      <td>0</td>\n",
       "      <td>0</td>\n",
       "      <td>0</td>\n",
       "      <td>0</td>\n",
       "      <td>1</td>\n",
       "    </tr>\n",
       "    <tr>\n",
       "      <th>344426</th>\n",
       "      <td>55</td>\n",
       "      <td>73</td>\n",
       "      <td>49</td>\n",
       "      <td>154</td>\n",
       "      <td>0.473684</td>\n",
       "      <td>6</td>\n",
       "      <td>159</td>\n",
       "      <td>0</td>\n",
       "      <td>0</td>\n",
       "      <td>0</td>\n",
       "      <td>0</td>\n",
       "      <td>1</td>\n",
       "    </tr>\n",
       "    <tr>\n",
       "      <th>344427</th>\n",
       "      <td>56</td>\n",
       "      <td>71</td>\n",
       "      <td>49</td>\n",
       "      <td>157</td>\n",
       "      <td>0.474178</td>\n",
       "      <td>6</td>\n",
       "      <td>159</td>\n",
       "      <td>0</td>\n",
       "      <td>0</td>\n",
       "      <td>0</td>\n",
       "      <td>0</td>\n",
       "      <td>1</td>\n",
       "    </tr>\n",
       "  </tbody>\n",
       "</table>\n",
       "<p>344428 rows × 12 columns</p>\n",
       "</div>"
      ],
      "text/plain": [
       "          r    g    b  nir      ndvi  month  day_in_year  iceplant  year_2012  \\\n",
       "0       134  125  103  170  0.118421      5          126         1          1   \n",
       "1       130  114  101  164  0.115646      5          126         1          1   \n",
       "2       132  110   98  160  0.095890      5          126         1          1   \n",
       "3       136  122  106  148  0.042254      5          126         1          1   \n",
       "4       137  115  108  139  0.007246      5          126         1          1   \n",
       "...     ...  ...  ...  ...       ...    ...          ...       ...        ...   \n",
       "344423   52   72   52  134  0.440860      6          159         0          0   \n",
       "344424   64   78   52  153  0.410138      6          159         0          0   \n",
       "344425   60   82   54  161  0.457014      6          159         0          0   \n",
       "344426   55   73   49  154  0.473684      6          159         0          0   \n",
       "344427   56   71   49  157  0.474178      6          159         0          0   \n",
       "\n",
       "        year_2014  year_2018  year_2020  \n",
       "0               0          0          0  \n",
       "1               0          0          0  \n",
       "2               0          0          0  \n",
       "3               0          0          0  \n",
       "4               0          0          0  \n",
       "...           ...        ...        ...  \n",
       "344423          0          0          1  \n",
       "344424          0          0          1  \n",
       "344425          0          0          1  \n",
       "344426          0          0          1  \n",
       "344427          0          0          1  \n",
       "\n",
       "[344428 rows x 12 columns]"
      ]
     },
     "execution_count": 3,
     "metadata": {},
     "output_type": "execute_result"
    }
   ],
   "source": [
    "df_encoded = pd.get_dummies(df,columns=['year'])\n",
    "df_encoded"
   ]
  },
  {
   "cell_type": "code",
   "execution_count": 4,
   "id": "118f9dcb-1aee-49c0-90bb-c0748a7bb4e3",
   "metadata": {},
   "outputs": [
    {
     "name": "stdout",
     "output_type": "stream",
     "text": [
      "TRAIN SET COUNTS:\n",
      "no-iceplant:iceplant ratio     1.9 :1\n",
      "          counts  percentage\n",
      "iceplant                    \n",
      "0         159093       65.99\n",
      "1          82006       34.01\n",
      "\n",
      "TEST SET COUNTS:\n",
      "no-iceplant:iceplant ratio     2.0 :1\n",
      "          counts  percentage\n",
      "iceplant                    \n",
      "0          68381       66.18\n",
      "1          34948       33.82\n",
      "\n"
     ]
    }
   ],
   "source": [
    "X_train, X_test, y_train, y_test = mpe.test_train_from_df(df_encoded)\n",
    "mpe.test_train_proportions(y_train, y_test)"
   ]
  },
  {
   "cell_type": "code",
   "execution_count": 5,
   "id": "14a75af8-2767-495a-bfce-3fc4e97ce415",
   "metadata": {},
   "outputs": [
    {
     "data": {
      "text/plain": [
       "RandomForestClassifier(random_state=42)"
      ]
     },
     "execution_count": 5,
     "metadata": {},
     "output_type": "execute_result"
    }
   ],
   "source": [
    "rfc = RandomForestClassifier(n_estimators = 100, random_state = 42)\n",
    "rfc.fit(X_train, y_train)"
   ]
  },
  {
   "cell_type": "code",
   "execution_count": 6,
   "id": "0706e35d-aa48-431d-8a7c-175c22eeebc0",
   "metadata": {},
   "outputs": [
    {
     "name": "stdout",
     "output_type": "stream",
     "text": [
      "\n",
      "true negatives: 67094     false positives: 1287\n",
      "false negatives: 1216     true positives: 33732\n",
      "\n",
      "sensitivity (TP/P): 96.52 %\n",
      "specificity (TN/N): 98.12 %\n",
      "G-mean:  0.97\n",
      "\n",
      "precision (TP/(TP+FP)): 96.32 %\n",
      "\n",
      "MCC:  0.9459157601425896\n",
      "\n",
      "F1-measure:  0.96423\n",
      "F0.5-measure (min false positives):  0.96364\n",
      "F2-measure (min false negatives)  :  0.96481\n",
      "\n",
      "accuracy: 97.58 %\n",
      "\n"
     ]
    }
   ],
   "source": [
    "predictions = rfc.predict(X_test)\n",
    "mpe.print_threshold_metrics(y_test, predictions)"
   ]
  },
  {
   "cell_type": "code",
   "execution_count": 7,
   "id": "ae8312b9-2710-41f7-843c-25f3a4b56769",
   "metadata": {},
   "outputs": [],
   "source": [
    "# https://scikit-learn.org/stable/auto_examples/ensemble/plot_forest_importances.html\n",
    "from sklearn.inspection import permutation_importance\n",
    "\n",
    "result = permutation_importance(\n",
    "    rfc, X_test, y_test, n_repeats=10, random_state=42, n_jobs=2\n",
    ")"
   ]
  },
  {
   "cell_type": "code",
   "execution_count": 10,
   "id": "6f85a71b-df44-4791-9c48-abcd422213cf",
   "metadata": {},
   "outputs": [
    {
     "data": {
      "text/plain": [
       "r              0.233157\n",
       "g              0.089580\n",
       "b              0.123849\n",
       "nir            0.123359\n",
       "ndvi           0.053569\n",
       "month          0.008804\n",
       "day_in_year    0.030558\n",
       "year_2012      0.002291\n",
       "year_2014      0.014710\n",
       "year_2018      0.000611\n",
       "year_2020      0.023085\n",
       "dtype: float64"
      ]
     },
     "execution_count": 10,
     "metadata": {},
     "output_type": "execute_result"
    }
   ],
   "source": [
    "forest_importances = pd.Series(result.importances_mean, index=['r', 'g', 'b', 'nir', 'ndvi', 'month', 'day_in_year', 'year_2012', 'year_2014','year_2018', 'year_2020' ])\n",
    "forest_importances"
   ]
  },
  {
   "cell_type": "code",
   "execution_count": 11,
   "id": "177f27d9-faa1-4d71-9dfd-245089618b0d",
   "metadata": {},
   "outputs": [
    {
     "data": {
      "image/png": "[encoded data removed]",
      "text/plain": [
       "<Figure size 432x288 with 1 Axes>"
      ]
     },
     "metadata": {
      "needs_background": "light"
     },
     "output_type": "display_data"
    }
   ],
   "source": [
    "fig, ax = plt.subplots()\n",
    "forest_importances.plot.bar(yerr=result.importances_std, ax=ax)\n",
    "ax.set_title(\"Feature importances using permutation on full model\")\n",
    "ax.set_ylabel(\"Mean accuracy decrease\")\n",
    "fig.tight_layout()\n",
    "plt.show()"
   ]
  },
  {
   "cell_type": "markdown",
   "id": "59c3b6c7-7773-4a4b-bf73-70a8e33df0b5",
   "metadata": {},
   "source": [
    "## Predictions over aois"
   ]
  },
  {
   "cell_type": "code",
   "execution_count": 44,
   "id": "3bdcc2f4-e8b7-4879-8273-2ad48c501431",
   "metadata": {},
   "outputs": [],
   "source": [
    "def add_onehot_years(veg, year):\n",
    "    year_labels = ['year_2012','year_2014','year_2018','year_2020']\n",
    "    d = {'label': year_labels}\n",
    "    years = [2012, 2014, 2018, 2020]\n",
    "    df = pd.DataFrame(data = d, index = years)\n",
    "    \n",
    "    # to later reorder columns to match RF features order\n",
    "    cols = list(veg) + year_labels\n",
    "    \n",
    "    one_column = df.loc[year].label\n",
    "    veg[one_column] = 1\n",
    "    \n",
    "    zero_columns = df[df.index!= year].label.to_list()\n",
    "    for i in range(0,len(zero_columns)):\n",
    "        veg[zero_columns[i]] = 0\n",
    "    veg = veg[cols]\n",
    "    return veg"
   ]
  },
  {
   "cell_type": "code",
   "execution_count": 42,
   "id": "c0780c69-941a-490c-8f89-4ddc48ed13de",
   "metadata": {},
   "outputs": [],
   "source": [
    "def features_over_aoi(item, image):\n",
    "\n",
    "    veg = ipf.select_ndvi_df(image)\n",
    "    \n",
    "    veg['ndvi']=(veg.nir.astype('int16') - veg.r.astype('int16'))/(veg.nir.astype('int16') + veg.r.astype('int16'))\n",
    "    veg['month'] = item.datetime.month\n",
    "    veg['day_in_year'] = ipf.day_in_year(item.datetime.day, item.datetime.month, item.datetime.year)\n",
    "    \n",
    "    veg = veg[['r','g','b','nir','ndvi','month','day_in_year']] # order features\n",
    "    \n",
    "    veg = add_onehot_years(veg, item.datetime.year)\n",
    "    return veg\n",
    "\n",
    "# -----------------------------------------------\n",
    "\n",
    "def predict_df(veg,rfc):\n",
    "\n",
    "    index = veg.index\n",
    "    features = np.array(veg)\n",
    "\n",
    "    predictions_class = rfc.predict(features)\n",
    "    c = {'prediction': predictions_class}\n",
    "    predictions_df = pd.DataFrame(c, index = index)\n",
    "    \n",
    "    return predictions_df\n",
    "\n",
    "\n",
    "def predict_over_aoi(itemid, aoi, rfc):\n",
    "    image = ipf.open_window_in_scene(itemid, aoi)\n",
    "    item = ipf.get_item_from_id(itemid)    \n",
    "\n",
    "    veg = features_over_aoi(item, image)\n",
    "    df = predict_df(veg, rfc)\n",
    "    \n",
    "    nrows = image.shape[1]\n",
    "    ncols = image.shape[2]\n",
    "    index = df[df.prediction == 1].index.to_numpy()\n",
    "    \n",
    "    return ipf.indices_backto_image(nrows, ncols, index)\n",
    "\n"
   ]
  },
  {
   "cell_type": "code",
   "execution_count": 14,
   "id": "fe9d8aa9-d2bb-41a6-9fd5-a86192daa509",
   "metadata": {},
   "outputs": [
    {
     "data": {
      "text/plain": [
       "name                                              campus point\n",
       "region                                                  goleta\n",
       "itemid_12               ca_m_3411934_sw_11_1_20120505_20120730\n",
       "itemid_14               ca_m_3411934_sw_11_1_20140601_20141030\n",
       "itemid_16              ca_m_3411934_sw_11_.6_20160713_20161004\n",
       "itemid_18             ca_m_3411934_sw_11_060_20180722_20190209\n",
       "itemid_20                      ca_m_3411934_sw_11_060_20200521\n",
       "geometry     POLYGON ((-119.8534713523 34.4028697719, -119....\n",
       "Name: 4, dtype: object"
      ]
     },
     "execution_count": 14,
     "metadata": {},
     "output_type": "execute_result"
    }
   ],
   "source": [
    "aois = gpd.read_file(os.path.join(os.getcwd(),'areas_of_interest','areas_of_interest.shp'))\n",
    "lagoon = aois.iloc[4]\n",
    "lagoon"
   ]
  },
  {
   "cell_type": "code",
   "execution_count": 41,
   "id": "3cfb1961-a3b8-45e3-b00a-9a99e5e0924d",
   "metadata": {},
   "outputs": [],
   "source": [
    "image = ipf.open_window_in_scene(lagoon.itemid_14, lagoon.geometry)\n",
    "item = ipf.get_item_from_id(lagoon.itemid_14)    "
   ]
  },
  {
   "cell_type": "code",
   "execution_count": 46,
   "id": "19af8191-4b53-4b19-b078-1c5c3643fca3",
   "metadata": {},
   "outputs": [
    {
     "name": "stdout",
     "output_type": "stream",
     "text": [
      "['r', 'g', 'b', 'nir', 'ndvi', 'month', 'day_in_year', 'year_2014', 'year_2012', 'year_2018', 'year_2020', ['year_2012', 'year_2014', 'year_2018', 'year_2020']]\n"
     ]
    }
   ],
   "source": [
    "with warnings.catch_warnings():\n",
    "    warnings.simplefilter(\"ignore\")\n",
    "    veg = features_over_aoi(item, image)\n",
    "    veg"
   ]
  },
  {
   "cell_type": "code",
   "execution_count": null,
   "id": "1dbd664f-7852-41a0-8043-4857e054e8f4",
   "metadata": {},
   "outputs": [],
   "source": [
    "with warnings.catch_warnings():\n",
    "    warnings.simplefilter(\"ignore\")\n",
    "    preds = predict_over_aoi(conc.itemid_20, conc.geometry, rfc)\n",
    "    plot_preds_vs_original(preds20, conc.itemid_20, conc.geometry, 2020)"
   ]
  },
  {
   "cell_type": "code",
   "execution_count": null,
   "id": "d8a34859-7a50-448c-9f82-8c7cc80be45d",
   "metadata": {},
   "outputs": [],
   "source": []
  }
 ],
 "metadata": {
  "kernelspec": {
   "display_name": "Python 3 (ipykernel)",
   "language": "python",
   "name": "python3"
  },
  "language_info": {
   "codemirror_mode": {
    "name": "ipython",
    "version": 3
   },
   "file_extension": ".py",
   "mimetype": "text/x-python",
   "name": "python",
   "nbconvert_exporter": "python",
   "pygments_lexer": "ipython3",
   "version": "3.8.13"
  }
 },
 "nbformat": 4,
 "nbformat_minor": 5
}
