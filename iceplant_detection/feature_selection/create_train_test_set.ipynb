{
 "cells": [
  {
   "cell_type": "code",
   "execution_count": 1,
   "id": "0d90a741-3a84-4bd3-acf0-bb36b0cdecdb",
   "metadata": {},
   "outputs": [],
   "source": [
    "import os\n",
    "import pandas as pd\n",
    "import numpy as np\n",
    "\n",
    "from sklearn.model_selection import train_test_split"
   ]
  },
  {
   "cell_type": "code",
   "execution_count": 2,
   "id": "064d16db-91a8-414c-b6a5-1b99c29287d4",
   "metadata": {},
   "outputs": [],
   "source": [
    "samples = pd.read_csv(os.path.join(os.getcwd(),'samples_for_model.csv'))"
   ]
  },
  {
   "cell_type": "code",
   "execution_count": null,
   "id": "584b36c2-f080-4120-8ae0-a654d6edde19",
   "metadata": {},
   "outputs": [],
   "source": [
    "aois = samples.aoi.unique()\n",
    "scenes = samples.naip_id.unique()"
   ]
  },
  {
   "cell_type": "code",
   "execution_count": null,
   "id": "50343a80-8639-4c75-90e4-79fc7cd28185",
   "metadata": {},
   "outputs": [],
   "source": [
    "scenes"
   ]
  },
  {
   "cell_type": "code",
   "execution_count": 7,
   "id": "b8828167-1727-41ce-8415-41a8dca2ddbf",
   "metadata": {
    "tags": []
   },
   "outputs": [
    {
     "name": "stdout",
     "output_type": "stream",
     "text": [
      "['ca_m_3411934_sw_11_1_20120505_20120730'\n",
      " 'ca_m_3411934_sw_11_1_20140601_20141030'\n",
      " 'ca_m_3411934_sw_11_060_20180722_20190209'\n",
      " 'ca_m_3411934_sw_11_060_20200521']\n"
     ]
    }
   ],
   "source": [
    "df = samples[samples.aoi == 'campus_lagoon']\n",
    "print(df.naip_id.unique())\n",
    "#df = df[df.naip_id == 'ca_m_3411934_sw_11_1_20140601_20141030']"
   ]
  },
  {
   "cell_type": "code",
   "execution_count": null,
   "id": "ceef6f26-30c7-4daf-a48e-9eb8c9d4ce04",
   "metadata": {
    "jupyter": {
     "source_hidden": true
    },
    "tags": []
   },
   "outputs": [],
   "source": [
    "#sub = sub.loc[:,'r':'iceplant']\n",
    "#sub"
   ]
  },
  {
   "cell_type": "code",
   "execution_count": null,
   "id": "445e03f2-8887-4bef-8517-33554cbdcc42",
   "metadata": {
    "jupyter": {
     "source_hidden": true
    },
    "tags": []
   },
   "outputs": [],
   "source": [
    "# y = np.array(sub['iceplant'])\n",
    "# X = np.array(sub.drop('iceplant', axis = 1))\n",
    "# X_train, X_test, y_train, y_test = train_test_split(X, y, \n",
    "#                                                     test_size = 0.3, \n",
    "#                                                     random_state = 42)"
   ]
  },
  {
   "cell_type": "code",
   "execution_count": null,
   "id": "07c0a658-660d-4b7d-a20b-1507cc462794",
   "metadata": {
    "tags": []
   },
   "outputs": [],
   "source": [
    "# X_labels = sub.columns.drop('iceplant')\n",
    "\n",
    "# train = pd.DataFrame(X_train, columns = X_labels)\n",
    "# train['iceplant'] = y_train\n",
    "\n",
    "# test = pd.DataFrame(X_test, columns = X_labels)\n",
    "# test['iceplant'] = y_test\n",
    "\n"
   ]
  },
  {
   "cell_type": "code",
   "execution_count": 10,
   "id": "746dd7fe-0e9b-4e51-9340-3d49e5239c2d",
   "metadata": {
    "tags": []
   },
   "outputs": [],
   "source": [
    "def iceplant_proportions(labels):\n",
    "    unique, counts = np.unique(labels, return_counts=True)\n",
    "    print('no-iceplant:iceplant ratio    ',round(counts[0]/counts[1],1),':1')\n",
    "    n = labels.shape[0]\n",
    "    perc = [round(counts[0]/n*100,2), round(counts[1]/n*100,2)]\n",
    "    df = pd.DataFrame({'iceplant':unique,\n",
    "             'counts':counts,\n",
    "             'percentage':perc}).set_index('iceplant')\n",
    "    print(df)\n",
    "    print()"
   ]
  },
  {
   "cell_type": "code",
   "execution_count": 8,
   "id": "169fcbe5-f1bf-43fb-a640-407ab323b108",
   "metadata": {},
   "outputs": [
    {
     "name": "stdout",
     "output_type": "stream",
     "text": [
      "['ca_m_3411934_sw_11_1_20120505_20120730'\n",
      " 'ca_m_3411934_sw_11_1_20140601_20141030'\n",
      " 'ca_m_3411934_sw_11_060_20180722_20190209'\n",
      " 'ca_m_3411934_sw_11_060_20200521']\n",
      "campus_lagoon ca_m_3411934_sw_11_1_20120505_20120730\n",
      ".... train_test\n",
      "campus_lagoon ca_m_3411934_sw_11_1_20140601_20141030\n",
      ".... train_test\n",
      "campus_lagoon ca_m_3411934_sw_11_060_20180722_20190209\n",
      ".... train_test\n",
      "campus_lagoon ca_m_3411934_sw_11_060_20200521\n",
      ".... train_test\n",
      "['ca_m_3412037_nw_10_1_20120518_20120730'\n",
      " 'ca_m_3412037_nw_10_1_20140603_20141030'\n",
      " 'ca_m_3412037_nw_10_060_20180913_20190208'\n",
      " 'ca_m_3412037_nw_10_060_20200607']\n",
      "point_conception ca_m_3412037_nw_10_1_20120518_20120730\n",
      ".... train_test\n",
      "point_conception ca_m_3412037_nw_10_1_20140603_20141030\n",
      ".... train_test\n",
      "point_conception ca_m_3412037_nw_10_060_20180913_20190208\n",
      ".... train_test\n",
      "point_conception ca_m_3412037_nw_10_060_20200607\n",
      ".... train_test\n",
      "['ca_m_3412039_nw_10_1_20120518_20120730'\n",
      " 'ca_m_3412039_nw_10_1_20140603_20141030'\n",
      " 'ca_m_3412039_nw_10_060_20180724_20190209'\n",
      " 'ca_m_3412039_nw_10_060_20200522']\n",
      "gaviota ca_m_3412039_nw_10_1_20120518_20120730\n",
      ".... train_test\n",
      "gaviota ca_m_3412039_nw_10_1_20140603_20141030\n",
      ".... train_test\n",
      "gaviota ca_m_3412039_nw_10_060_20180724_20190209\n",
      ".... train_test\n",
      "gaviota ca_m_3412039_nw_10_060_20200522\n",
      ".... train_test\n",
      "['ca_m_3411936_se_11_1_20120505_20120730'\n",
      " 'ca_m_3411936_se_11_1_20140901_20141030'\n",
      " 'ca_m_3411936_se_11_060_20180724_20190209'\n",
      " 'ca_m_3411936_se_11_060_20200521']\n",
      "carpinteria ca_m_3411936_se_11_1_20120505_20120730\n",
      ".... train_test\n",
      "carpinteria ca_m_3411936_se_11_1_20140901_20141030\n",
      ".... train_test\n",
      "carpinteria ca_m_3411936_se_11_060_20180724_20190209\n",
      ".... train_test\n",
      "carpinteria ca_m_3411936_se_11_060_20200521\n",
      ".... train_test\n"
     ]
    }
   ],
   "source": [
    "all_train = []\n",
    "all_test = []\n",
    "\n",
    "X_labels = samples.columns.drop('iceplant')\n",
    "\n",
    "aois = samples.aoi.unique()\n",
    "\n",
    "for aoi in aois:\n",
    "    in_aoi = samples[samples.aoi == aoi]    \n",
    "    scenes = in_aoi.naip_id.unique()\n",
    "    print(scenes)\n",
    "    for scene in scenes:\n",
    "        in_scene = in_aoi[in_aoi.naip_id == scene]\n",
    "        \n",
    "        X = np.array(in_scene.drop('iceplant', axis = 1))\n",
    "        y = np.array(in_scene['iceplant'])\n",
    "        X_train, X_test, y_train, y_test = train_test_split(X, y, \n",
    "                                                            test_size = 0.3, \n",
    "                                                            random_state = 42)\n",
    "        train = pd.DataFrame(X_train, columns = X_labels)\n",
    "        train['iceplant'] = y_train\n",
    "\n",
    "        test = pd.DataFrame(X_test, columns = X_labels)\n",
    "        test['iceplant'] = y_test\n",
    "        \n",
    "        all_train.append(train)\n",
    "        all_test.append(test)\n",
    "        \n",
    "train = pd.concat(all_train, ignore_index=True)\n",
    "test = pd.concat(all_test, ignore_index=True)"
   ]
  },
  {
   "cell_type": "code",
   "execution_count": null,
   "id": "be7d1966-53a1-434b-af30-cfdf56f5defd",
   "metadata": {},
   "outputs": [],
   "source": [
    "iceplant_proportions(np.array(train.iceplant))"
   ]
  },
  {
   "cell_type": "code",
   "execution_count": null,
   "id": "f7ed6234-6fec-4fff-b162-7bb83d1c19f1",
   "metadata": {},
   "outputs": [],
   "source": [
    "iceplant_proportions(np.array(test.iceplant))"
   ]
  },
  {
   "cell_type": "code",
   "execution_count": null,
   "id": "8099b8c9-e285-42b1-83d1-95a06a79d6a9",
   "metadata": {},
   "outputs": [],
   "source": []
  }
 ],
 "metadata": {
  "kernelspec": {
   "display_name": "Python 3 (ipykernel)",
   "language": "python",
   "name": "python3"
  },
  "language_info": {
   "codemirror_mode": {
    "name": "ipython",
    "version": 3
   },
   "file_extension": ".py",
   "mimetype": "text/x-python",
   "name": "python",
   "nbconvert_exporter": "python",
   "pygments_lexer": "ipython3",
   "version": "3.8.13"
  }
 },
 "nbformat": 4,
 "nbformat_minor": 5
}
