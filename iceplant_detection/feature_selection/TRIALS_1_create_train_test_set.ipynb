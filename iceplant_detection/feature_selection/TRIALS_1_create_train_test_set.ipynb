{
 "cells": [
  {
   "cell_type": "code",
   "execution_count": 1,
   "id": "0d90a741-3a84-4bd3-acf0-bb36b0cdecdb",
   "metadata": {},
   "outputs": [],
   "source": [
    "import os\n",
    "import pandas as pd\n",
    "import numpy as np\n",
    "\n",
    "from sklearn.model_selection import train_test_split"
   ]
  },
  {
   "cell_type": "code",
   "execution_count": 2,
   "id": "064d16db-91a8-414c-b6a5-1b99c29287d4",
   "metadata": {},
   "outputs": [],
   "source": [
    "samples = pd.read_csv(os.path.join(os.getcwd(),'samples_for_model.csv'))"
   ]
  },
  {
   "cell_type": "code",
   "execution_count": 3,
   "id": "71913136-e2b1-4944-a5c4-d10abecfd3b2",
   "metadata": {},
   "outputs": [
    {
     "data": {
      "text/plain": [
       "(498753, 15)"
      ]
     },
     "execution_count": 3,
     "metadata": {},
     "output_type": "execute_result"
    }
   ],
   "source": [
    "samples.shape"
   ]
  },
  {
   "cell_type": "code",
   "execution_count": 4,
   "id": "584b36c2-f080-4120-8ae0-a654d6edde19",
   "metadata": {},
   "outputs": [],
   "source": [
    "# aois = samples.aoi.unique()\n",
    "# scenes = samples.naip_id.unique()"
   ]
  },
  {
   "cell_type": "code",
   "execution_count": 5,
   "id": "50343a80-8639-4c75-90e4-79fc7cd28185",
   "metadata": {},
   "outputs": [],
   "source": [
    "#scenes"
   ]
  },
  {
   "cell_type": "code",
   "execution_count": 6,
   "id": "b8828167-1727-41ce-8415-41a8dca2ddbf",
   "metadata": {
    "tags": []
   },
   "outputs": [],
   "source": [
    "# df = samples[samples.aoi == 'campus_lagoon']\n",
    "# print(df.naip_id.unique())\n",
    "#df = df[df.naip_id == 'ca_m_3411934_sw_11_1_20140601_20141030']"
   ]
  },
  {
   "cell_type": "code",
   "execution_count": 7,
   "id": "445e03f2-8887-4bef-8517-33554cbdcc42",
   "metadata": {
    "jupyter": {
     "source_hidden": true
    },
    "tags": []
   },
   "outputs": [],
   "source": [
    "# y = np.array(sub['iceplant'])\n",
    "# X = np.array(sub.drop('iceplant', axis = 1))\n",
    "# X_train, X_test, y_train, y_test = train_test_split(X, y, \n",
    "#                                                     test_size = 0.3, \n",
    "#                                                     random_state = 42)"
   ]
  },
  {
   "cell_type": "code",
   "execution_count": 8,
   "id": "07c0a658-660d-4b7d-a20b-1507cc462794",
   "metadata": {
    "tags": []
   },
   "outputs": [],
   "source": [
    "# X_labels = sub.columns.drop('iceplant')\n",
    "\n",
    "# train = pd.DataFrame(X_train, columns = X_labels)\n",
    "# train['iceplant'] = y_train\n",
    "\n",
    "# test = pd.DataFrame(X_test, columns = X_labels)\n",
    "# test['iceplant'] = y_test\n",
    "\n"
   ]
  },
  {
   "cell_type": "code",
   "execution_count": 9,
   "id": "746dd7fe-0e9b-4e51-9340-3d49e5239c2d",
   "metadata": {
    "tags": []
   },
   "outputs": [],
   "source": [
    "def iceplant_proportions(labels):\n",
    "    unique, counts = np.unique(labels, return_counts=True)\n",
    "    print('no-iceplant:iceplant ratio    ',round(counts[0]/counts[1],1),':1')\n",
    "    n = labels.shape[0]\n",
    "    perc = [round(counts[0]/n*100,2), round(counts[1]/n*100,2)]\n",
    "    df = pd.DataFrame({'iceplant':unique,\n",
    "             'counts':counts,\n",
    "             'percentage':perc}).set_index('iceplant')\n",
    "    print(df)\n",
    "    print()"
   ]
  },
  {
   "cell_type": "code",
   "execution_count": 10,
   "id": "169fcbe5-f1bf-43fb-a640-407ab323b108",
   "metadata": {},
   "outputs": [],
   "source": [
    "all_train = []\n",
    "all_test = []\n",
    "\n",
    "X_labels = samples.columns.drop('iceplant')\n",
    "\n",
    "aois = samples.aoi.unique()\n",
    "\n",
    "for aoi in aois:\n",
    "    in_aoi = samples[samples.aoi == aoi]    \n",
    "    scenes = in_aoi.naip_id.unique()\n",
    "    for scene in scenes:\n",
    "        in_scene = in_aoi[in_aoi.naip_id == scene]\n",
    "        \n",
    "        X = np.array(in_scene.drop('iceplant', axis = 1))\n",
    "        y = np.array(in_scene['iceplant'])\n",
    "        X_train, X_test, y_train, y_test = train_test_split(X, y, \n",
    "                                                            test_size = 0.3, \n",
    "                                                            random_state = 42)\n",
    "        train = pd.DataFrame(X_train, columns = X_labels)\n",
    "        train['iceplant'] = y_train\n",
    "\n",
    "        test = pd.DataFrame(X_test, columns = X_labels)\n",
    "        test['iceplant'] = y_test\n",
    "        \n",
    "        all_train.append(train)\n",
    "        all_test.append(test)\n",
    "        \n",
    "train = pd.concat(all_train, ignore_index=True)\n",
    "test = pd.concat(all_test, ignore_index=True)"
   ]
  },
  {
   "cell_type": "code",
   "execution_count": 11,
   "id": "be7d1966-53a1-434b-af30-cfdf56f5defd",
   "metadata": {},
   "outputs": [
    {
     "name": "stdout",
     "output_type": "stream",
     "text": [
      "no-iceplant:iceplant ratio     2.4 :1\n",
      "          counts  percentage\n",
      "iceplant                    \n",
      "0         247696       70.95\n",
      "1         101425       29.05\n",
      "\n"
     ]
    }
   ],
   "source": [
    "iceplant_proportions(np.array(train.iceplant))"
   ]
  },
  {
   "cell_type": "code",
   "execution_count": 12,
   "id": "f7ed6234-6fec-4fff-b162-7bb83d1c19f1",
   "metadata": {},
   "outputs": [
    {
     "name": "stdout",
     "output_type": "stream",
     "text": [
      "no-iceplant:iceplant ratio     2.5 :1\n",
      "          counts  percentage\n",
      "iceplant                    \n",
      "0         106302       71.04\n",
      "1          43330       28.96\n",
      "\n"
     ]
    }
   ],
   "source": [
    "iceplant_proportions(np.array(test.iceplant))"
   ]
  },
  {
   "cell_type": "code",
   "execution_count": 13,
   "id": "d5321c4a-ae36-4e03-8ee3-60b620ef5917",
   "metadata": {},
   "outputs": [
    {
     "data": {
      "text/html": [
       "<div>\n",
       "<style scoped>\n",
       "    .dataframe tbody tr th:only-of-type {\n",
       "        vertical-align: middle;\n",
       "    }\n",
       "\n",
       "    .dataframe tbody tr th {\n",
       "        vertical-align: top;\n",
       "    }\n",
       "\n",
       "    .dataframe thead th {\n",
       "        text-align: right;\n",
       "    }\n",
       "</style>\n",
       "<table border=\"1\" class=\"dataframe\">\n",
       "  <thead>\n",
       "    <tr style=\"text-align: right;\">\n",
       "      <th></th>\n",
       "      <th>r</th>\n",
       "      <th>g</th>\n",
       "      <th>b</th>\n",
       "      <th>nir</th>\n",
       "      <th>ndvi</th>\n",
       "      <th>year</th>\n",
       "      <th>month</th>\n",
       "      <th>day_in_year</th>\n",
       "      <th>geometry</th>\n",
       "      <th>x</th>\n",
       "      <th>y</th>\n",
       "      <th>aoi</th>\n",
       "      <th>naip_id</th>\n",
       "      <th>polygon_id</th>\n",
       "      <th>iceplant</th>\n",
       "    </tr>\n",
       "  </thead>\n",
       "  <tbody>\n",
       "    <tr>\n",
       "      <th>0</th>\n",
       "      <td>43</td>\n",
       "      <td>51</td>\n",
       "      <td>78</td>\n",
       "      <td>89</td>\n",
       "      <td>0.348485</td>\n",
       "      <td>2012</td>\n",
       "      <td>5</td>\n",
       "      <td>126</td>\n",
       "      <td>POINT (235774.86665080223 3811711.199119436)</td>\n",
       "      <td>235774.866651</td>\n",
       "      <td>3811711.199119</td>\n",
       "      <td>campus_lagoon</td>\n",
       "      <td>ca_m_3411934_sw_11_1_20120505_20120730</td>\n",
       "      <td>15</td>\n",
       "      <td>0</td>\n",
       "    </tr>\n",
       "    <tr>\n",
       "      <th>1</th>\n",
       "      <td>65</td>\n",
       "      <td>59</td>\n",
       "      <td>84</td>\n",
       "      <td>79</td>\n",
       "      <td>0.097222</td>\n",
       "      <td>2012</td>\n",
       "      <td>5</td>\n",
       "      <td>126</td>\n",
       "      <td>POINT (238133.2205170226 3811247.6857694876)</td>\n",
       "      <td>238133.220517</td>\n",
       "      <td>3811247.685769</td>\n",
       "      <td>campus_lagoon</td>\n",
       "      <td>ca_m_3411934_sw_11_1_20120505_20120730</td>\n",
       "      <td>29</td>\n",
       "      <td>0</td>\n",
       "    </tr>\n",
       "    <tr>\n",
       "      <th>2</th>\n",
       "      <td>81</td>\n",
       "      <td>86</td>\n",
       "      <td>93</td>\n",
       "      <td>132</td>\n",
       "      <td>0.239437</td>\n",
       "      <td>2012</td>\n",
       "      <td>5</td>\n",
       "      <td>126</td>\n",
       "      <td>POINT (236234.3014255809 3811420.479858158)</td>\n",
       "      <td>236234.301426</td>\n",
       "      <td>3811420.479858</td>\n",
       "      <td>campus_lagoon</td>\n",
       "      <td>ca_m_3411934_sw_11_1_20120505_20120730</td>\n",
       "      <td>16</td>\n",
       "      <td>0</td>\n",
       "    </tr>\n",
       "  </tbody>\n",
       "</table>\n",
       "</div>"
      ],
      "text/plain": [
       "    r   g   b  nir      ndvi  year month day_in_year  \\\n",
       "0  43  51  78   89  0.348485  2012     5         126   \n",
       "1  65  59  84   79  0.097222  2012     5         126   \n",
       "2  81  86  93  132  0.239437  2012     5         126   \n",
       "\n",
       "                                       geometry              x  \\\n",
       "0  POINT (235774.86665080223 3811711.199119436)  235774.866651   \n",
       "1  POINT (238133.2205170226 3811247.6857694876)  238133.220517   \n",
       "2   POINT (236234.3014255809 3811420.479858158)  236234.301426   \n",
       "\n",
       "                y            aoi                                 naip_id  \\\n",
       "0  3811711.199119  campus_lagoon  ca_m_3411934_sw_11_1_20120505_20120730   \n",
       "1  3811247.685769  campus_lagoon  ca_m_3411934_sw_11_1_20120505_20120730   \n",
       "2  3811420.479858  campus_lagoon  ca_m_3411934_sw_11_1_20120505_20120730   \n",
       "\n",
       "  polygon_id  iceplant  \n",
       "0         15         0  \n",
       "1         29         0  \n",
       "2         16         0  "
      ]
     },
     "execution_count": 13,
     "metadata": {},
     "output_type": "execute_result"
    }
   ],
   "source": [
    "train.head(3)"
   ]
  },
  {
   "cell_type": "code",
   "execution_count": 14,
   "id": "5fb140df-87da-45d8-9b32-f2bcb76b5cee",
   "metadata": {},
   "outputs": [
    {
     "data": {
      "text/html": [
       "<div>\n",
       "<style scoped>\n",
       "    .dataframe tbody tr th:only-of-type {\n",
       "        vertical-align: middle;\n",
       "    }\n",
       "\n",
       "    .dataframe tbody tr th {\n",
       "        vertical-align: top;\n",
       "    }\n",
       "\n",
       "    .dataframe thead th {\n",
       "        text-align: right;\n",
       "    }\n",
       "</style>\n",
       "<table border=\"1\" class=\"dataframe\">\n",
       "  <thead>\n",
       "    <tr style=\"text-align: right;\">\n",
       "      <th></th>\n",
       "      <th>r</th>\n",
       "      <th>g</th>\n",
       "      <th>b</th>\n",
       "      <th>nir</th>\n",
       "      <th>ndvi</th>\n",
       "      <th>year</th>\n",
       "      <th>month</th>\n",
       "      <th>day_in_year</th>\n",
       "      <th>geometry</th>\n",
       "      <th>x</th>\n",
       "      <th>y</th>\n",
       "      <th>aoi</th>\n",
       "      <th>naip_id</th>\n",
       "      <th>polygon_id</th>\n",
       "      <th>iceplant</th>\n",
       "    </tr>\n",
       "  </thead>\n",
       "  <tbody>\n",
       "    <tr>\n",
       "      <th>0</th>\n",
       "      <td>124</td>\n",
       "      <td>104</td>\n",
       "      <td>99</td>\n",
       "      <td>154</td>\n",
       "      <td>0.107914</td>\n",
       "      <td>2012</td>\n",
       "      <td>5</td>\n",
       "      <td>126</td>\n",
       "      <td>POINT (238531.52353940875 3810778.4861433045)</td>\n",
       "      <td>238531.523539</td>\n",
       "      <td>3810778.486143</td>\n",
       "      <td>campus_lagoon</td>\n",
       "      <td>ca_m_3411934_sw_11_1_20120505_20120730</td>\n",
       "      <td>1</td>\n",
       "      <td>1</td>\n",
       "    </tr>\n",
       "    <tr>\n",
       "      <th>1</th>\n",
       "      <td>135</td>\n",
       "      <td>119</td>\n",
       "      <td>99</td>\n",
       "      <td>167</td>\n",
       "      <td>0.10596</td>\n",
       "      <td>2012</td>\n",
       "      <td>5</td>\n",
       "      <td>126</td>\n",
       "      <td>POINT (238550.1707933048 3810782.096102707)</td>\n",
       "      <td>238550.170793</td>\n",
       "      <td>3810782.096103</td>\n",
       "      <td>campus_lagoon</td>\n",
       "      <td>ca_m_3411934_sw_11_1_20120505_20120730</td>\n",
       "      <td>0</td>\n",
       "      <td>1</td>\n",
       "    </tr>\n",
       "    <tr>\n",
       "      <th>2</th>\n",
       "      <td>96</td>\n",
       "      <td>98</td>\n",
       "      <td>100</td>\n",
       "      <td>127</td>\n",
       "      <td>0.139013</td>\n",
       "      <td>2012</td>\n",
       "      <td>5</td>\n",
       "      <td>126</td>\n",
       "      <td>POINT (238105.80866084044 3814676.1355223465)</td>\n",
       "      <td>238105.808661</td>\n",
       "      <td>3814676.135522</td>\n",
       "      <td>campus_lagoon</td>\n",
       "      <td>ca_m_3411934_sw_11_1_20120505_20120730</td>\n",
       "      <td>23</td>\n",
       "      <td>0</td>\n",
       "    </tr>\n",
       "  </tbody>\n",
       "</table>\n",
       "</div>"
      ],
      "text/plain": [
       "     r    g    b  nir      ndvi  year month day_in_year  \\\n",
       "0  124  104   99  154  0.107914  2012     5         126   \n",
       "1  135  119   99  167   0.10596  2012     5         126   \n",
       "2   96   98  100  127  0.139013  2012     5         126   \n",
       "\n",
       "                                        geometry              x  \\\n",
       "0  POINT (238531.52353940875 3810778.4861433045)  238531.523539   \n",
       "1    POINT (238550.1707933048 3810782.096102707)  238550.170793   \n",
       "2  POINT (238105.80866084044 3814676.1355223465)  238105.808661   \n",
       "\n",
       "                y            aoi                                 naip_id  \\\n",
       "0  3810778.486143  campus_lagoon  ca_m_3411934_sw_11_1_20120505_20120730   \n",
       "1  3810782.096103  campus_lagoon  ca_m_3411934_sw_11_1_20120505_20120730   \n",
       "2  3814676.135522  campus_lagoon  ca_m_3411934_sw_11_1_20120505_20120730   \n",
       "\n",
       "  polygon_id  iceplant  \n",
       "0          1         1  \n",
       "1          0         1  \n",
       "2         23         0  "
      ]
     },
     "execution_count": 14,
     "metadata": {},
     "output_type": "execute_result"
    }
   ],
   "source": [
    "test.head(3)"
   ]
  },
  {
   "cell_type": "code",
   "execution_count": 15,
   "id": "bffefe2f-aa58-4c9c-9871-c78b4d4c1601",
   "metadata": {
    "tags": []
   },
   "outputs": [],
   "source": [
    "#keep = [True]*8 + [False]*6 + [True]"
   ]
  },
  {
   "cell_type": "code",
   "execution_count": 16,
   "id": "6efeac23-d71a-4f7d-8874-a190dbb5a1b7",
   "metadata": {},
   "outputs": [],
   "source": [
    "# train = train.loc[:,keep]\n",
    "# train.head(3)"
   ]
  },
  {
   "cell_type": "code",
   "execution_count": 17,
   "id": "0bbd6909-61aa-40af-ad5a-46a37624ef51",
   "metadata": {},
   "outputs": [],
   "source": [
    "# test = test.loc[:,keep]\n",
    "# test.head(3)"
   ]
  },
  {
   "cell_type": "code",
   "execution_count": 18,
   "id": "a6a0536b-7209-4c44-b786-b2f229e6f76e",
   "metadata": {},
   "outputs": [],
   "source": [
    "#train.to_csv(os.path.join(os.getcwd(),'train_set.csv'), index=False)"
   ]
  },
  {
   "cell_type": "code",
   "execution_count": 19,
   "id": "bf256a81-6e81-4cb0-85f2-06de2a793186",
   "metadata": {},
   "outputs": [],
   "source": [
    "#test.to_csv(os.path.join(os.getcwd(),'test_set.csv'), index=False)"
   ]
  }
 ],
 "metadata": {
  "kernelspec": {
   "display_name": "Python 3 (ipykernel)",
   "language": "python",
   "name": "python3"
  },
  "language_info": {
   "codemirror_mode": {
    "name": "ipython",
    "version": 3
   },
   "file_extension": ".py",
   "mimetype": "text/x-python",
   "name": "python",
   "nbconvert_exporter": "python",
   "pygments_lexer": "ipython3",
   "version": "3.8.13"
  }
 },
 "nbformat": 4,
 "nbformat_minor": 5
}
