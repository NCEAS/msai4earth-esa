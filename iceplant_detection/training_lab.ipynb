{
 "cells": [
  {
   "cell_type": "code",
   "execution_count": null,
   "id": "49ac83f8-c841-4b74-9adb-265df16730da",
   "metadata": {},
   "outputs": [],
   "source": [
    "import os\n",
    "import time\n",
    "import pandas as pd\n",
    "\n",
    "from sklearn.ensemble import RandomForestClassifier\n",
    "# wrapper so that model predicts using dask\n",
    "from dask_ml.wrappers import ParallelPostFit  \n",
    "\n",
    "from sklearn.inspection import permutation_importance\n",
    "import matplotlib.pyplot as plt\n",
    "\n",
    "from joblib import dump\n",
    "\n",
    "import model_prep_and_evals as mpe "
   ]
  },
  {
   "cell_type": "code",
   "execution_count": null,
   "id": "39d53ac1-a4a5-4927-b592-96e2a87fdafa",
   "metadata": {},
   "outputs": [],
   "source": [
    "# **************************************************************\n",
    "# whole_set = True => merge train+test sets and train model with combined dataset\n",
    "# whole_set = False => train model only with train set\n",
    "\n",
    "whole_set = False\n",
    "\n",
    "#root = os.path.join(os.getcwd(), 'processing_results', 'glcm_model_2020')\n",
    "model_name = 'model_feb14'\n",
    "root = os.path.join(os.getcwd(),'models',model_name)\n",
    "train_name = 'model_feb14_train.csv'\n",
    "test_name = 'model_feb14_test.csv'\n",
    "\n",
    "# root = os.getcwd()\n",
    "# train_name = 'glcm_spectral_window_model3070FP_train_2020.csv'\n",
    "# test_name = 'glcm_spectral_window_model3070FP_test_2020.csv'\n",
    "\n",
    "# first_feature = 'r'\n",
    "# last_feature = 'nir_corrE'\n",
    "label_name = 'iceplant'\n",
    "\n",
    "# drops this feature\n",
    "filter_year = False\n",
    "year = 2020\n",
    "\n",
    "save_model = True\n",
    "model_name = 'model_feb14_rfc'\n",
    "\n",
    "calculate_feature_importance = True"
   ]
  },
  {
   "cell_type": "code",
   "execution_count": null,
   "id": "87dec7bb-d65a-4e1c-8dc9-b538266a1a36",
   "metadata": {},
   "outputs": [],
   "source": [
    "cols = ['r', \n",
    "       # 'r_max7', 'r_min7', \n",
    "       # 'r_avg7', 'r_entr7', \n",
    "        'r_max11', 'r_min11', \n",
    "        'r_avg11', \n",
    "        'r_entr11', \n",
    "        'g',\n",
    "       # 'g_max7', 'g_min7', \n",
    "       # 'g_avg7', 'g_entr7', \n",
    "        'g_max11', 'g_min11', \n",
    "        'g_avg11', \n",
    "        'g_entr11',        \n",
    "        'b',\n",
    "       # 'b_max7', 'b_min7', \n",
    "       # 'b_avg7', 'b_entr7', \n",
    "        'b_max11', 'b_min11', \n",
    "        'b_avg11', \n",
    "        'b_entr11',        \n",
    "        'nir',\n",
    "       # 'nir_max7', 'nir_min7', \n",
    "       # 'nir_avg7','nir_entr7', \n",
    "        'nir_max11', 'nir_min11', \n",
    "        'nir_avg11', \n",
    "        'nir_entr11',         \n",
    "        'ndvi',\n",
    "       # 'ndvi_max7', 'ndvi_min7', \n",
    "       # 'ndvi_avg7', 'ndvi_entr7',\n",
    "        'ndvi_max11', 'ndvi_min11', \n",
    "        'ndvi_avg11', \n",
    "        'ndvi_entr11',\n",
    "        'month', \n",
    "        'day_in_year']\n"
   ]
  },
  {
   "cell_type": "code",
   "execution_count": null,
   "id": "bbd32b9a-a57a-472d-b586-252025b2bae6",
   "metadata": {},
   "outputs": [],
   "source": [
    "# ------------------------------\n",
    "# IMPORT TRAIN DATA\n",
    "X_train = pd.read_csv(os.path.join(root, train_name))#.loc[:, first_feature:last_feature]\n",
    "y_train = pd.read_csv(os.path.join(root, train_name)).loc[:,label_name] \n",
    "\n",
    "# ------------------------------\n",
    "# IMPORT TEST DATA\n",
    "X_test = pd.read_csv(os.path.join(root, test_name))#.loc[:, first_feature:last_feature]\n",
    "y_test = pd.read_csv(os.path.join(root, test_name)).loc[:,label_name] \n",
    "\n",
    "\n",
    "\n",
    "X_test = X_test[cols]\n",
    "X_train = X_train[cols] "
   ]
  },
  {
   "cell_type": "code",
   "execution_count": null,
   "id": "6c5a3bda-3cf4-4653-9c99-f0e2dd57177e",
   "metadata": {},
   "outputs": [],
   "source": [
    "# ------------------------------\n",
    "if filter_year:\n",
    "    \n",
    "    X_train = X_train.loc[X_train.year == year]\n",
    "    X_train = X_train.drop(['year'], axis =1)\n",
    "    y_train = y_train.iloc[X_train.index]\n",
    "\n",
    "    \n",
    "    X_test = X_test.loc[X_test.year == year]\n",
    "    X_test = X_test.drop(['year'], axis =1)\n",
    "    y_test = y_test.iloc[X_test.index]\n",
    "    \n",
    "# ------------------------------\n",
    "if whole_set == True:\n",
    "    X_train = pd.concat([X_train, X_test], axis = 0)\n",
    "    y_train = pd.concat([y_train, y_test], axis = 0)\n",
    "\n",
    "\n",
    "X_test.columns == X_train.columns"
   ]
  },
  {
   "cell_type": "code",
   "execution_count": null,
   "id": "fbdcde2e-c629-4402-828b-0af37646cecc",
   "metadata": {},
   "outputs": [],
   "source": [
    "X_train.columns"
   ]
  },
  {
   "cell_type": "code",
   "execution_count": null,
   "id": "8d257585-3ad9-45dd-93f4-b0b38c590c90",
   "metadata": {},
   "outputs": [],
   "source": [
    "mpe.test_train_proportions(y_train, y_test)"
   ]
  },
  {
   "cell_type": "code",
   "execution_count": null,
   "id": "971ed3de-db85-489e-8c4b-48a49acca255",
   "metadata": {},
   "outputs": [],
   "source": [
    "# ------------------------------\n",
    "X_train = X_train.to_numpy()\n",
    "y_train = y_train.to_numpy()"
   ]
  },
  {
   "cell_type": "code",
   "execution_count": null,
   "id": "943a03fe-4fc4-402a-987f-f469daa9ec09",
   "metadata": {},
   "outputs": [],
   "source": [
    "t0 = time.time()\n",
    "rfc = ParallelPostFit(RandomForestClassifier(n_estimators = 100, \n",
    "                                             random_state = 42))\n",
    "rfc.fit(X_train, y_train)\n",
    "print(time.time() - t0)\n",
    "\n",
    "if save_model:\n",
    "    dump(rfc, model_name +'.joblib')"
   ]
  },
  {
   "cell_type": "code",
   "execution_count": null,
   "id": "9c4cc357-1fa8-4ff2-bb41-b98218d32d06",
   "metadata": {},
   "outputs": [],
   "source": [
    "if whole_set == False:\n",
    "    preds = rfc.predict(X_test.to_numpy())\n",
    "    mpe.print_accuracy_info(y_test.to_numpy(), preds)"
   ]
  },
  {
   "cell_type": "code",
   "execution_count": null,
   "id": "a178f65e-2cd4-4084-8128-4f69e05942b6",
   "metadata": {},
   "outputs": [],
   "source": [
    "result = permutation_importance(\n",
    "    rfc, \n",
    "    X_test.to_numpy(),\n",
    "    y_test.to_numpy(),\n",
    "    n_repeats=10, \n",
    "    random_state=42, \n",
    "    n_jobs=2\n",
    ")\n",
    "\n",
    "forest_importances = pd.Series(result.importances_mean, index=X_test.columns)\n",
    "\n",
    "fig, ax = plt.subplots()\n",
    "forest_importances.plot.bar(yerr=result.importances_std, ax=ax)\n",
    "ax.set_title(\"Feature importances using permutation on full model\")\n",
    "ax.set_ylabel(\"Mean accuracy decrease\")\n",
    "fig.tight_layout()\n",
    "plt.show()"
   ]
  },
  {
   "cell_type": "code",
   "execution_count": null,
   "id": "2fe11588-5395-46ec-9f06-527c1449449d",
   "metadata": {},
   "outputs": [],
   "source": []
  }
 ],
 "metadata": {
  "kernelspec": {
   "display_name": "Python 3 (ipykernel)",
   "language": "python",
   "name": "python3"
  },
  "language_info": {
   "codemirror_mode": {
    "name": "ipython",
    "version": 3
   },
   "file_extension": ".py",
   "mimetype": "text/x-python",
   "name": "python",
   "nbconvert_exporter": "python",
   "pygments_lexer": "ipython3",
   "version": "3.10.6"
  }
 },
 "nbformat": 4,
 "nbformat_minor": 5
}
