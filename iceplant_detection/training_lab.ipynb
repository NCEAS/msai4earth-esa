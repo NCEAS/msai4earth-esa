{
 "cells": [
  {
   "cell_type": "code",
   "execution_count": 1,
   "id": "49ac83f8-c841-4b74-9adb-265df16730da",
   "metadata": {},
   "outputs": [],
   "source": [
    "import os\n",
    "import time\n",
    "import pandas as pd\n",
    "\n",
    "from sklearn.ensemble import RandomForestClassifier\n",
    "# wrapper so that model predicts using dask\n",
    "from dask_ml.wrappers import ParallelPostFit  \n",
    "\n",
    "from sklearn.inspection import permutation_importance\n",
    "import matplotlib.pyplot as plt\n",
    "\n",
    "from joblib import dump\n",
    "\n",
    "import model_prep_and_evals as mpe "
   ]
  },
  {
   "cell_type": "code",
   "execution_count": 2,
   "id": "39d53ac1-a4a5-4927-b592-96e2a87fdafa",
   "metadata": {},
   "outputs": [],
   "source": [
    "# **************************************************************\n",
    "# whole_set = True => merge train+test sets and train model with combined dataset\n",
    "# whole_set = False => train model only with train set\n",
    "\n",
    "whole_set = False\n",
    "\n",
    "#root = os.path.join(os.getcwd(), 'processing_results', 'glcm_model_2020')\n",
    "model_name = 'glcmTRIAL'\n",
    "root = os.path.join(os.getcwd(),'models',model_name)\n",
    "train_name = 'glcmAE5_train_2020.csv'\n",
    "test_name = 'glcmAE5_test_2020.csv'\n",
    "\n",
    "# root = os.getcwd()\n",
    "# train_name = 'glcm_spectral_window_model3070FP_train_2020.csv'\n",
    "# test_name = 'glcm_spectral_window_model3070FP_test_2020.csv'\n",
    "\n",
    "first_feature = 'r'\n",
    "last_feature = 'nir_corrE'\n",
    "label_name = 'iceplant'\n",
    "\n",
    "# drops this feature\n",
    "filter_year = False\n",
    "year = 2020\n",
    "\n",
    "save_model = True\n",
    "model_name = 'glcmTRIAL_rfc'\n",
    "\n",
    "calculate_feature_importance = True"
   ]
  },
  {
   "cell_type": "code",
   "execution_count": 3,
   "id": "87dec7bb-d65a-4e1c-8dc9-b538266a1a36",
   "metadata": {},
   "outputs": [],
   "source": [
    "# cols = ['r','r_avg5', 'r_entr5', 'r_contN', 'r_contE', 'r_corrN', #'r_corrN', \n",
    "#         'g','g_avg5', 'g_entr5', #'g_contN',  'g_corrN', #'g_corrN',\n",
    "#         'b','b_avg5', 'b_entr5', 'b_contN', 'b_contE', 'b_corrN', #'b_corrN',\n",
    "#         'nir', 'nir_avg5', 'nir_entr5', 'nir_contN', 'nir_contE','nir_corrN',# 'nir_corrN',\n",
    "#           'month', 'day_in_year' # date\n",
    "#              ]\n",
    "\n",
    "# cols = ['r', 'r_avg5', 'r_entr5', 'r_contN', 'r_corrN', \n",
    "#         'g', 'g_avg5', 'g_entr5', 'g_contN', 'g_corrN', \n",
    "#         'b', 'b_avg5', 'b_entr5', 'b_contN', 'b_corrN', \n",
    "#         'nir', 'nir_avg5', 'nir_entr5', 'nir_contN', 'nir_corrN', \n",
    "#         'month', 'day_in_year']\n",
    "\n",
    "cols = ['r', 'r_avg5', 'r_entr5', 'r_contE', 'r_corrE', \n",
    "       'g', 'g_avg5', 'g_entr5', #'g_contE', 'g_corrE', \n",
    "        'b', 'b_avg5', 'b_entr5', 'b_contE', 'b_corrE', \n",
    "        'nir', 'nir_avg5', 'nir_entr5', 'nir_contE', 'nir_corrE', \n",
    "        'month', 'day_in_year']\n",
    "\n",
    "# cols = ['r', 'r_avg5', 'r_entr5', \n",
    "# 'g', 'g_avg5', 'g_entr5', \n",
    "# 'b', 'b_avg5', 'b_entr5',\n",
    "#  'nir', 'nir_avg5', 'nir_entr5',\n",
    "# 'month', 'day_in_year']\n",
    "\n"
   ]
  },
  {
   "cell_type": "code",
   "execution_count": 4,
   "id": "aa44efe3-009f-4b19-8ec8-20b878339d2a",
   "metadata": {},
   "outputs": [
    {
     "data": {
      "text/plain": [
       "array([ True,  True,  True,  True,  True,  True,  True,  True,  True,\n",
       "        True,  True,  True,  True,  True,  True,  True,  True,  True,\n",
       "        True,  True])"
      ]
     },
     "execution_count": 4,
     "metadata": {},
     "output_type": "execute_result"
    }
   ],
   "source": [
    "# ------------------------------\n",
    "# IMPORT TRAIN DATA\n",
    "X_train = pd.read_csv(os.path.join(root, train_name)).loc[:, first_feature:last_feature]\n",
    "y_train = pd.read_csv(os.path.join(root, train_name)).loc[:,label_name] \n",
    "\n",
    "# ------------------------------\n",
    "# IMPORT TEST DATA\n",
    "X_test = pd.read_csv(os.path.join(root, test_name)).loc[:, first_feature:last_feature]\n",
    "y_test = pd.read_csv(os.path.join(root, test_name)).loc[:,label_name] \n",
    "\n",
    "\n",
    "\n",
    "X_test = X_test[cols]\n",
    "X_train = X_train[cols] \n",
    "\n",
    "\n",
    "# ------------------------------\n",
    "if filter_year:\n",
    "    \n",
    "    X_train = X_train.loc[X_train.year == year]\n",
    "    X_train = X_train.drop(['year'], axis =1)\n",
    "    y_train = y_train.iloc[X_train.index]\n",
    "\n",
    "    \n",
    "    X_test = X_test.loc[X_test.year == year]\n",
    "    X_test = X_test.drop(['year'], axis =1)\n",
    "    y_test = y_test.iloc[X_test.index]\n",
    "    \n",
    "# ------------------------------\n",
    "if whole_set == True:\n",
    "    X_train = pd.concat([X_train, X_test], axis = 0)\n",
    "    y_train = pd.concat([y_train, y_test], axis = 0)\n",
    "\n",
    "\n",
    "X_test.columns == X_train.columns"
   ]
  },
  {
   "cell_type": "code",
   "execution_count": 5,
   "id": "fbdcde2e-c629-4402-828b-0af37646cecc",
   "metadata": {},
   "outputs": [
    {
     "data": {
      "text/plain": [
       "Index(['r', 'r_avg5', 'r_entr5', 'r_contE', 'r_corrE', 'g', 'g_avg5',\n",
       "       'g_entr5', 'b', 'b_avg5', 'b_entr5', 'b_contE', 'b_corrE', 'nir',\n",
       "       'nir_avg5', 'nir_entr5', 'nir_contE', 'nir_corrE', 'month',\n",
       "       'day_in_year'],\n",
       "      dtype='object')"
      ]
     },
     "execution_count": 5,
     "metadata": {},
     "output_type": "execute_result"
    }
   ],
   "source": [
    "X_train.columns"
   ]
  },
  {
   "cell_type": "code",
   "execution_count": 6,
   "id": "8d257585-3ad9-45dd-93f4-b0b38c590c90",
   "metadata": {},
   "outputs": [
    {
     "name": "stdout",
     "output_type": "stream",
     "text": [
      "TRAIN SET COUNTS:\n",
      "no-iceplant:iceplant ratio     2.4 :1\n",
      "          counts  percentage\n",
      "iceplant                    \n",
      "0.0         1208       70.23\n",
      "1.0          512       29.77\n",
      "\n",
      "TEST SET COUNTS:\n",
      "no-iceplant:iceplant ratio     2.4 :1\n",
      "          counts  percentage\n",
      "iceplant                    \n",
      "0.0          521        70.5\n",
      "1.0          218        29.5\n",
      "\n"
     ]
    }
   ],
   "source": [
    "mpe.test_train_proportions(y_train, y_test)"
   ]
  },
  {
   "cell_type": "code",
   "execution_count": 7,
   "id": "971ed3de-db85-489e-8c4b-48a49acca255",
   "metadata": {},
   "outputs": [],
   "source": [
    "# ------------------------------\n",
    "X_train = X_train.to_numpy()\n",
    "y_train = y_train.to_numpy()"
   ]
  },
  {
   "cell_type": "code",
   "execution_count": 8,
   "id": "943a03fe-4fc4-402a-987f-f469daa9ec09",
   "metadata": {},
   "outputs": [
    {
     "name": "stdout",
     "output_type": "stream",
     "text": [
      "0.5163638591766357\n"
     ]
    }
   ],
   "source": [
    "t0 = time.time()\n",
    "rfc = ParallelPostFit(RandomForestClassifier(n_estimators = 100, \n",
    "                                             random_state = 42))\n",
    "rfc.fit(X_train, y_train)\n",
    "print(time.time() - t0)\n",
    "\n",
    "if save_model:\n",
    "    dump(rfc, model_name +'.joblib')"
   ]
  },
  {
   "cell_type": "code",
   "execution_count": 9,
   "id": "9c4cc357-1fa8-4ff2-bb41-b98218d32d06",
   "metadata": {},
   "outputs": [
    {
     "name": "stdout",
     "output_type": "stream",
     "text": [
      "true negatives: 500     false positives: 21\n",
      "false negatives: 49     true positives: 169\n",
      "\n",
      "sensitivity (TP/P): 77.52 %\n",
      "specificity (TN/N): 95.97 %\n",
      "G-mean:  0.86\n",
      "\n",
      "precision (TP/(TP+FP)): 88.95 %\n",
      "\n",
      "MCC:  0.7668766867709987\n",
      "\n",
      "F1-measure:  0.82843\n",
      "F0.5-measure (min false positives):  0.86401\n",
      "F2-measure (min false negatives)  :  0.79567\n",
      "\n",
      "accuracy: 90.53 %\n"
     ]
    }
   ],
   "source": [
    "if whole_set == False:\n",
    "    preds = rfc.predict(X_test.to_numpy())\n",
    "    mpe.print_accuracy_info(y_test.to_numpy(), preds)"
   ]
  },
  {
   "cell_type": "code",
   "execution_count": 10,
   "id": "a178f65e-2cd4-4084-8128-4f69e05942b6",
   "metadata": {},
   "outputs": [
    {
     "data": {
      "image/png": "[encoded data removed]",
      "text/plain": [
       "<Figure size 640x480 with 1 Axes>"
      ]
     },
     "metadata": {},
     "output_type": "display_data"
    }
   ],
   "source": [
    "result = permutation_importance(\n",
    "    rfc, \n",
    "    X_test.to_numpy(),\n",
    "    y_test.to_numpy(),\n",
    "    n_repeats=10, \n",
    "    random_state=42, \n",
    "    n_jobs=2\n",
    ")\n",
    "\n",
    "forest_importances = pd.Series(result.importances_mean, index=X_test.columns)\n",
    "\n",
    "fig, ax = plt.subplots()\n",
    "forest_importances.plot.bar(yerr=result.importances_std, ax=ax)\n",
    "ax.set_title(\"Feature importances using permutation on full model\")\n",
    "ax.set_ylabel(\"Mean accuracy decrease\")\n",
    "fig.tight_layout()\n",
    "plt.show()"
   ]
  },
  {
   "cell_type": "code",
   "execution_count": null,
   "id": "2cc26102-ffed-49ca-a1ba-b9e3fae7bfc2",
   "metadata": {},
   "outputs": [],
   "source": []
  }
 ],
 "metadata": {
  "kernelspec": {
   "display_name": "Python 3 (ipykernel)",
   "language": "python",
   "name": "python3"
  },
  "language_info": {
   "codemirror_mode": {
    "name": "ipython",
    "version": 3
   },
   "file_extension": ".py",
   "mimetype": "text/x-python",
   "name": "python",
   "nbconvert_exporter": "python",
   "pygments_lexer": "ipython3",
   "version": "3.10.6"
  }
 },
 "nbformat": 4,
 "nbformat_minor": 5
}
