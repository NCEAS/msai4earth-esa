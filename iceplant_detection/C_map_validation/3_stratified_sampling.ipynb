{
 "cells": [
  {
   "cell_type": "markdown",
   "id": "427dc2b7-26a7-44b8-be0d-106b15951137",
   "metadata": {},
   "source": [
    "This notebook does a stratified random sampling of points from the three rasters that make up the Santa Barbara County Coast. \n",
    "The number of samples per class is specified by the user. \n",
    "The ouput points are given in the EPSG(4326) CRS and can be directly used as input for the validation platform Collect Earth Online."
   ]
  },
  {
   "cell_type": "code",
   "execution_count": null,
   "id": "74936454-4a69-4838-809f-2bce3d5b840e",
   "metadata": {},
   "outputs": [],
   "source": [
    "import os\n",
    "import numpy as np\n",
    "import pandas as pd\n",
    "\n",
    "import geopandas as gpd\n",
    "import rioxarray as rioxr\n",
    "from random import sample\n",
    "\n",
    "from shapely.geometry import Point \n",
    "\n",
    "from rasterio.crs import CRS"
   ]
  },
  {
   "cell_type": "code",
   "execution_count": null,
   "id": "01b80fc8-f1d4-44c1-b08f-b426ace9393e",
   "metadata": {},
   "outputs": [],
   "source": [
    "# Load raster\n",
    "year = 2020\n",
    "prefix = 'salt13_p30'\n",
    "root = '/home/jovyan/msai4earth-esa/iceplant_detection/processing_results/' + prefix +'_clip_preds_' + str(year)\n",
    "\n",
    "# pixel classes in raster\n",
    "# 0 = other vegetation 1 = iceplant, 2 = low ndvi, 3 = water\n",
    "cats = [0, 1, 2, 3]\n",
    "\n",
    "# -----------------------------------------------------\n",
    "# different strata in stratfified random sampling and \n",
    "# # 0 = other vegetation 1 = iceplant, 2 = non-vegetation\n",
    "stratum = [0, 1, 2]\n",
    "# number of samples per strata\n",
    "samples_per_strata = [300, 300, 410]\n",
    "\n",
    "# -----------------------------------------------------\n",
    "# whether to save the sampled points\n",
    "save_pts = False\n",
    "\n",
    "# -----------------------------------------------------\n",
    "# number of pixels per pixel class in each raster\n",
    "pixel_count = pd.read_csv('salt13_p30_2020_combined_pixel_counts_per_raster.csv')\n",
    "\n",
    "# counts of pixels per strata (pixel clases 2 and 3 are merged)  in each raster\n",
    "pixel_count_unmerged = pd.read_csv('salt13_p30_2020_pixel_counts_per_raster.csv')"
   ]
  },
  {
   "cell_type": "code",
   "execution_count": null,
   "id": "182e6454-423e-4a3d-ba6b-7c52256d1bfa",
   "metadata": {},
   "outputs": [],
   "source": [
    "# load rasters\n",
    "fp = os.path.join(root, prefix+'_merged_crs26910_S_'+str(year)+'.tif')\n",
    "r_26910_S = rioxr.open_rasterio(fp).squeeze()\n",
    "\n",
    "fp = os.path.join(root, prefix+'_merged_crs26910_W_'+str(year)+'.tif')\n",
    "r_26910_W = rioxr.open_rasterio(fp).squeeze()\n",
    "\n",
    "fp = os.path.join(root, prefix+'_merged_crs26911_'+str(year)+'.tif')\n",
    "r_26911 = rioxr.open_rasterio(fp).squeeze()\n",
    "\n",
    "rasters = [r_26910_S, r_26910_W, r_26911]"
   ]
  },
  {
   "cell_type": "code",
   "execution_count": null,
   "id": "778eaa9d-cc77-4938-9388-7aa52169b365",
   "metadata": {},
   "outputs": [],
   "source": [
    "# STRATIFIED RANDOM SAMPLING\n",
    "# this cell creates an nxm array where \n",
    "# n=number of stratum in stratified sample, m=number of rasters \n",
    "# dist[n,m] = number of samples of strata n in raster m\n",
    "dist = []\n",
    "\n",
    "for c in stratum:\n",
    "    \n",
    "    # number of pixels in each raster from specified class\n",
    "    n1 = list(pixel_count.iloc[:,c])[0]\n",
    "    n2 = list(pixel_count.iloc[:,c])[1]\n",
    "    n3 = list(pixel_count.iloc[:,c])[2]\n",
    "    s = n1 + n2 + n3\n",
    "     \n",
    "    # allocate number of samples from this class per raster\n",
    "    # each pixel from the class has the same probability of being selected, \n",
    "    # regardless of the raster it is in\n",
    "    where_to_sample = np.random.choice([0,1,2],   # the raster to sample from (1st, 2nd, or 3rd)\n",
    "                                       size = samples_per_strata[c], \n",
    "                                       # the probabilty to sample from each raster\n",
    "                                       # (proportional to the # of pixels from that class in the raster)\n",
    "                                       p = [n1/s, n2/s, n3/s])\n",
    "    \n",
    "    # count how many times each raster appeared in the sample\n",
    "    dist.append([len(np.where(where_to_sample == 0)[0]), \n",
    "                 len(np.where(where_to_sample == 1)[0]), \n",
    "                 len(np.where(where_to_sample == 2)[0])])\n",
    "    \n",
    "dist"
   ]
  },
  {
   "cell_type": "code",
   "execution_count": null,
   "id": "335dd111-7b68-450c-9b9f-004f6ec440f7",
   "metadata": {},
   "outputs": [],
   "source": [
    "# Distribute the number of points per raster among the two merged pixel classes\n",
    "# 2 = low-NDVI (ground)\n",
    "# 3 = water\n",
    "merged_pixel_classes = [2,3]\n",
    "\n",
    "ground_samples = []\n",
    "water_samples = []\n",
    "for r in range(3):\n",
    "\n",
    "    # number of pixels in raster from specified class\n",
    "    n2 = pixel_count_unmerged.iloc[r,2]\n",
    "    n3 = pixel_count_unmerged.iloc[r,3]\n",
    "    s = n2 + n3\n",
    "\n",
    "    which_to_sample = np.random.choice(merged_pixel_classes,   # the class to sample from\n",
    "                                       size = dist[2][r], \n",
    "                                       # the probabilty to sample from each raster\n",
    "                                       # (proportional to the # of pixels from that class in the raster)\n",
    "                                       p = [n2/s, n3/s])\n",
    "    ground_samples.append(len(np.where(which_to_sample == 2)[0]))\n",
    "    water_samples.append(len(np.where(which_to_sample == 3)[0]))\n",
    "\n",
    "# replace last row (3rd strata) with the samples distributed to each class\n",
    "dist.pop()\n",
    "dist += [ground_samples, water_samples]\n",
    "dist"
   ]
  },
  {
   "cell_type": "code",
   "execution_count": null,
   "id": "5ce55fdb-0be8-4d55-bc82-ed4f1106026c",
   "metadata": {},
   "outputs": [],
   "source": [
    "# sample points from rasters\n",
    "# resulting points have crs EPSG(4326)\n",
    "all_points = []\n",
    "\n",
    "# cycle through rasters, then strata sample\n",
    "for i in range(3):\n",
    "\n",
    "    points = []\n",
    "    which_class = []\n",
    "    which_raster = []\n",
    "    sampled_raster = False\n",
    "    print('STARTED COLLECTION FOR RASTER ', i)\n",
    "    \n",
    "    for c in cats:\n",
    "        n_samples = dist[c][i]\n",
    "\n",
    "        if n_samples != 0:\n",
    "            sampled_raster = True\n",
    "\n",
    "            raster = rasters[i]\n",
    "\n",
    "            # arrays with indices where condition is True\n",
    "            c_raster = np.where(raster == c)\n",
    "\n",
    "            # sample random (y,x) pairs from list\n",
    "            indices = sample(list(zip(c_raster[0], c_raster[1])), n_samples)\n",
    "\n",
    "            # unzip into y and x coordinates\n",
    "            y, x = list(zip(*indices))\n",
    "\n",
    "            # x and y coordinates in raster CRS corresponding to sampled points\n",
    "            x_coord = raster.x[np.asarray(x)]\n",
    "            y_coord = raster.y[np.asarray(y)]\n",
    "\n",
    "            # make points \n",
    "            points = points + [Point(m,n) for m,n in zip(x_coord, y_coord)]\n",
    "\n",
    "            which_class = which_class + [c]*n_samples\n",
    "            which_raster = which_raster + [i]*n_samples\n",
    "            print('sampled cat ', c)\n",
    "            \n",
    "    if sampled_raster:\n",
    "        points_df = gpd.GeoDataFrame({'geometry': points,\n",
    "                                      'class' : which_class,\n",
    "                                      'which_raster' : which_raster},\n",
    "                                     crs = raster.rio.crs)\n",
    "        all_points.append(points_df.to_crs(CRS.from_epsg(4326)))  # change to lat/lon crs\n",
    "    print(' ')\n",
    "\n",
    "# assemble points in dataframe compatible with Collect Earth Online \n",
    "points_df = pd.concat(all_points, ignore_index=True)\n",
    "points_df['LON'] = points_df.geometry.x\n",
    "points_df['LAT'] = points_df.geometry.y\n",
    "points_df = points_df.drop(['geometry'], axis=1)\n",
    "\n",
    "# randomize points\n",
    "points_df = points_df.sample(frac=1).reset_index(drop=True)"
   ]
  },
  {
   "cell_type": "code",
   "execution_count": null,
   "id": "76e968fc-7132-44d8-8fe0-d8c23c0e916a",
   "metadata": {},
   "outputs": [],
   "source": [
    "points_df"
   ]
  },
  {
   "cell_type": "code",
   "execution_count": null,
   "id": "ac4a824f-6d34-48ec-95df-9aaa13f302d4",
   "metadata": {},
   "outputs": [],
   "source": [
    "np.unique(points_df['class'], return_counts=True)"
   ]
  },
  {
   "cell_type": "code",
   "execution_count": null,
   "id": "5e9fdaa3-dc9f-45f8-aef4-1251b077a9fe",
   "metadata": {},
   "outputs": [],
   "source": [
    "np.unique(points_df['which_raster'], return_counts=True)"
   ]
  },
  {
   "cell_type": "code",
   "execution_count": null,
   "id": "34db34fb-a6d1-499c-92a7-ce04103b2031",
   "metadata": {},
   "outputs": [],
   "source": [
    "if save_pts:\n",
    "    points_df.to_csv(prefix+'_validation_sample_'+str(year)+'.csv', index_label='PLOTID')"
   ]
  },
  {
   "cell_type": "code",
   "execution_count": null,
   "id": "b3015209-935d-4759-b96b-6a266d7ab645",
   "metadata": {},
   "outputs": [],
   "source": []
  }
 ],
 "metadata": {
  "kernelspec": {
   "display_name": "Python 3 (ipykernel)",
   "language": "python",
   "name": "python3"
  },
  "language_info": {
   "codemirror_mode": {
    "name": "ipython",
    "version": 3
   },
   "file_extension": ".py",
   "mimetype": "text/x-python",
   "name": "python",
   "nbconvert_exporter": "python",
   "pygments_lexer": "ipython3",
   "version": "3.11.4"
  }
 },
 "nbformat": 4,
 "nbformat_minor": 5
}
