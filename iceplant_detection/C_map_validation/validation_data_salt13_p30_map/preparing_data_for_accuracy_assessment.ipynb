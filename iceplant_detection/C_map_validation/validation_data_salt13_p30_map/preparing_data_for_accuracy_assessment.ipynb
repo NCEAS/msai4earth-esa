{
 "cells": [
  {
   "cell_type": "code",
   "execution_count": 1,
   "metadata": {},
   "outputs": [],
   "source": [
    "import pandas as pd\n",
    "import numpy as np"
   ]
  },
  {
   "cell_type": "code",
   "execution_count": 3,
   "metadata": {},
   "outputs": [],
   "source": [
    "# read data\n",
    "car = pd.read_csv('ceo-salt13_p30_2020-map-validation---CARMEN-sample-data-2023-07-28.csv')\n",
    "jul = pd.read_csv('ceo-salt13_p30_2020-map-validation---JULIEN-sample-data-2023-07-28.csv')"
   ]
  },
  {
   "cell_type": "code",
   "execution_count": 2,
   "metadata": {},
   "outputs": [],
   "source": [
    "def ref_class_column(s):\n",
    "    ref_class = []\n",
    "\n",
    "    for i in s.index:\n",
    "        if s.loc[i] == 'non-iceplant vegetation':\n",
    "            ref_class.append(0)\n",
    "\n",
    "        elif s.loc[i] == 'iceplant':\n",
    "            ref_class.append(1)\n",
    "\n",
    "        elif s.loc[i] == 'non-vegetation':\n",
    "            ref_class.append(2)\n",
    "        else:\n",
    "            #print(i)\n",
    "            ref_class.append(100)\n",
    "\n",
    "    return ref_class"
   ]
  },
  {
   "cell_type": "code",
   "execution_count": 12,
   "metadata": {},
   "outputs": [
    {
     "name": "stdout",
     "output_type": "stream",
     "text": [
      "missmatch counts:  (array([False,  True]), array([975,  35]))\n"
     ]
    },
    {
     "data": {
      "text/html": [
       "<div>\n",
       "<style scoped>\n",
       "    .dataframe tbody tr th:only-of-type {\n",
       "        vertical-align: middle;\n",
       "    }\n",
       "\n",
       "    .dataframe tbody tr th {\n",
       "        vertical-align: top;\n",
       "    }\n",
       "\n",
       "    .dataframe thead th {\n",
       "        text-align: right;\n",
       "    }\n",
       "</style>\n",
       "<table border=\"1\" class=\"dataframe\">\n",
       "  <thead>\n",
       "    <tr style=\"text-align: right;\">\n",
       "      <th></th>\n",
       "      <th>map_class</th>\n",
       "      <th>ref_class</th>\n",
       "    </tr>\n",
       "  </thead>\n",
       "  <tbody>\n",
       "    <tr>\n",
       "      <th>0</th>\n",
       "      <td>2</td>\n",
       "      <td>2</td>\n",
       "    </tr>\n",
       "    <tr>\n",
       "      <th>1</th>\n",
       "      <td>0</td>\n",
       "      <td>0</td>\n",
       "    </tr>\n",
       "    <tr>\n",
       "      <th>2</th>\n",
       "      <td>2</td>\n",
       "      <td>0</td>\n",
       "    </tr>\n",
       "    <tr>\n",
       "      <th>3</th>\n",
       "      <td>0</td>\n",
       "      <td>0</td>\n",
       "    </tr>\n",
       "    <tr>\n",
       "      <th>4</th>\n",
       "      <td>1</td>\n",
       "      <td>1</td>\n",
       "    </tr>\n",
       "    <tr>\n",
       "      <th>...</th>\n",
       "      <td>...</td>\n",
       "      <td>...</td>\n",
       "    </tr>\n",
       "    <tr>\n",
       "      <th>1005</th>\n",
       "      <td>1</td>\n",
       "      <td>1</td>\n",
       "    </tr>\n",
       "    <tr>\n",
       "      <th>1006</th>\n",
       "      <td>2</td>\n",
       "      <td>0</td>\n",
       "    </tr>\n",
       "    <tr>\n",
       "      <th>1007</th>\n",
       "      <td>1</td>\n",
       "      <td>1</td>\n",
       "    </tr>\n",
       "    <tr>\n",
       "      <th>1008</th>\n",
       "      <td>1</td>\n",
       "      <td>1</td>\n",
       "    </tr>\n",
       "    <tr>\n",
       "      <th>1009</th>\n",
       "      <td>0</td>\n",
       "      <td>0</td>\n",
       "    </tr>\n",
       "  </tbody>\n",
       "</table>\n",
       "<p>975 rows × 2 columns</p>\n",
       "</div>"
      ],
      "text/plain": [
       "      map_class  ref_class\n",
       "0             2          2\n",
       "1             0          0\n",
       "2             2          0\n",
       "3             0          0\n",
       "4             1          1\n",
       "...         ...        ...\n",
       "1005          1          1\n",
       "1006          2          0\n",
       "1007          1          1\n",
       "1008          1          1\n",
       "1009          0          0\n",
       "\n",
       "[975 rows x 2 columns]"
      ]
     },
     "execution_count": 12,
     "metadata": {},
     "output_type": "execute_result"
    }
   ],
   "source": [
    "# find points with different classification\n",
    "disagree = car['Category?'] != jul['Category?']\n",
    "print('missmatch counts: ', np.unique(disagree, return_counts=True))\n",
    "\n",
    "# -----------------------------------\n",
    "# get indices of missmatch to remove these pts from validation data\n",
    "remove_index = pd.DataFrame({'disagree':disagree})[df['disagree']==True].index\n",
    "\n",
    "# -----------------------------------\n",
    "# create df with map class and reference class for kept pts\n",
    "# change string classes to numbers\n",
    "ref_class = ref_class_column(car.drop(remove_index)['Category?'])\n",
    "\n",
    "# group map classes 2 and 3\n",
    "map_class = car.drop(remove_index)['pl_class'].replace(3,2)\n",
    "\n",
    "val_data = pd.DataFrame({'map_class' : map_class,\n",
    "                         'ref_class' : ref_class})\n",
    "val_data"
   ]
  },
  {
   "cell_type": "code",
   "execution_count": 13,
   "metadata": {},
   "outputs": [
    {
     "name": "stdout",
     "output_type": "stream",
     "text": [
      "map class:  (array([0, 1, 2]), array([288, 291, 396]))\n",
      "ref class:  (array([0, 1, 2]), array([313, 263, 399]))\n"
     ]
    }
   ],
   "source": [
    "print('map class: ', np.unique(val_data.map_class, return_counts=True))\n",
    "print('ref class: ', np.unique(val_data.ref_class, return_counts=True))"
   ]
  },
  {
   "cell_type": "code",
   "execution_count": 15,
   "metadata": {
    "tags": []
   },
   "outputs": [],
   "source": [
    "val_data.to_csv('salt13_p30_map_and_reference_classes.csv', index_label='point_id')"
   ]
  },
  {
   "cell_type": "code",
   "execution_count": null,
   "metadata": {},
   "outputs": [],
   "source": []
  }
 ],
 "metadata": {
  "kernelspec": {
   "display_name": "Python 3 (ipykernel)",
   "language": "python",
   "name": "python3"
  },
  "language_info": {
   "codemirror_mode": {
    "name": "ipython",
    "version": 3
   },
   "file_extension": ".py",
   "mimetype": "text/x-python",
   "name": "python",
   "nbconvert_exporter": "python",
   "pygments_lexer": "ipython3",
   "version": "3.11.4"
  }
 },
 "nbformat": 4,
 "nbformat_minor": 4
}
