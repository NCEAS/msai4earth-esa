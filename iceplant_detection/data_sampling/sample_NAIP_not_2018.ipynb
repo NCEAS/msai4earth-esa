{
 "cells": [
  {
   "cell_type": "code",
   "execution_count": 1,
   "id": "4d21b9a0-c9a8-44fb-9f3f-b07fa5cf2a68",
   "metadata": {},
   "outputs": [],
   "source": [
    "import os\n",
    "import geopandas as gpd\n",
    "\n",
    "import extracting_points_from_polygons as pp"
   ]
  },
  {
   "cell_type": "code",
   "execution_count": 7,
   "id": "23a1d84e-4b5d-4606-aea2-a14747078dd6",
   "metadata": {},
   "outputs": [],
   "source": [
    "def iceplant_counts(df):\n",
    "    return df.filter(items=['iceplant']).groupby(['iceplant']).size().reset_index(name='count')\n",
    "\n",
    "\n",
    "def itemid_to_samples(itemid):\n",
    "    # root for all polygons collected on naip scenes\n",
    "    root = os.path.join(os.getcwd(),'aux_data','polygons_from_naip_images')\n",
    "\n",
    "    file = itemid +'_polygons/'+itemid+'_polygons.shp'\n",
    "    polys = gpd.read_file(os.path.join(root,file))\n",
    "    points = pp.naip_sample_no_warnings(polys,itemid)\n",
    "    return points"
   ]
  },
  {
   "cell_type": "code",
   "execution_count": 8,
   "id": "8e88f68d-4db3-4ebb-b7b9-645871165738",
   "metadata": {},
   "outputs": [],
   "source": [
    "itemid = 'ca_m_3412037_nw_10_060_20200607'\n",
    "points = itemid_to_samples(itemid)"
   ]
  },
  {
   "cell_type": "code",
   "execution_count": 10,
   "id": "4e137f52-fffa-46bb-ba2b-09830db6dff9",
   "metadata": {},
   "outputs": [
    {
     "data": {
      "text/html": [
       "<div>\n",
       "<style scoped>\n",
       "    .dataframe tbody tr th:only-of-type {\n",
       "        vertical-align: middle;\n",
       "    }\n",
       "\n",
       "    .dataframe tbody tr th {\n",
       "        vertical-align: top;\n",
       "    }\n",
       "\n",
       "    .dataframe thead th {\n",
       "        text-align: right;\n",
       "    }\n",
       "</style>\n",
       "<table border=\"1\" class=\"dataframe\">\n",
       "  <thead>\n",
       "    <tr style=\"text-align: right;\">\n",
       "      <th></th>\n",
       "      <th>iceplant</th>\n",
       "      <th>count</th>\n",
       "    </tr>\n",
       "  </thead>\n",
       "  <tbody>\n",
       "    <tr>\n",
       "      <th>0</th>\n",
       "      <td>0</td>\n",
       "      <td>33307</td>\n",
       "    </tr>\n",
       "    <tr>\n",
       "      <th>1</th>\n",
       "      <td>1</td>\n",
       "      <td>14084</td>\n",
       "    </tr>\n",
       "  </tbody>\n",
       "</table>\n",
       "</div>"
      ],
      "text/plain": [
       "   iceplant  count\n",
       "0         0  33307\n",
       "1         1  14084"
      ]
     },
     "execution_count": 10,
     "metadata": {},
     "output_type": "execute_result"
    }
   ],
   "source": [
    "iceplant_counts(points)"
   ]
  },
  {
   "cell_type": "code",
   "execution_count": 11,
   "id": "96c1b72a-f1a4-4d47-a449-3c52d5fce6eb",
   "metadata": {},
   "outputs": [],
   "source": [
    "points.to_csv(os.path.join(os.getcwd(),'aux_data','naip_point_samples',itemid+'_points.csv'))"
   ]
  },
  {
   "cell_type": "code",
   "execution_count": 12,
   "id": "5c71ba98-6f0c-479b-b29b-104f703f2cd1",
   "metadata": {},
   "outputs": [
    {
     "data": {
      "text/html": [
       "<div>\n",
       "<style scoped>\n",
       "    .dataframe tbody tr th:only-of-type {\n",
       "        vertical-align: middle;\n",
       "    }\n",
       "\n",
       "    .dataframe tbody tr th {\n",
       "        vertical-align: top;\n",
       "    }\n",
       "\n",
       "    .dataframe thead th {\n",
       "        text-align: right;\n",
       "    }\n",
       "</style>\n",
       "<table border=\"1\" class=\"dataframe\">\n",
       "  <thead>\n",
       "    <tr style=\"text-align: right;\">\n",
       "      <th></th>\n",
       "      <th>iceplant</th>\n",
       "      <th>count</th>\n",
       "    </tr>\n",
       "  </thead>\n",
       "  <tbody>\n",
       "    <tr>\n",
       "      <th>0</th>\n",
       "      <td>0</td>\n",
       "      <td>82505</td>\n",
       "    </tr>\n",
       "    <tr>\n",
       "      <th>1</th>\n",
       "      <td>1</td>\n",
       "      <td>1943</td>\n",
       "    </tr>\n",
       "  </tbody>\n",
       "</table>\n",
       "</div>"
      ],
      "text/plain": [
       "   iceplant  count\n",
       "0         0  82505\n",
       "1         1   1943"
      ]
     },
     "execution_count": 12,
     "metadata": {},
     "output_type": "execute_result"
    }
   ],
   "source": [
    "itemid = 'ca_m_3411934_sw_11_060_20200521'\n",
    "points = itemid_to_samples(itemid)\n",
    "iceplant_counts(points)"
   ]
  },
  {
   "cell_type": "code",
   "execution_count": 13,
   "id": "795a0015-897e-43fd-a755-275fb36af14a",
   "metadata": {},
   "outputs": [],
   "source": [
    "points.to_csv(os.path.join(os.getcwd(),'aux_data','naip_point_samples',itemid+'_points.csv'))"
   ]
  },
  {
   "cell_type": "code",
   "execution_count": null,
   "id": "25bd0b75-4ec7-448d-adb2-a8d2b9297a7d",
   "metadata": {},
   "outputs": [],
   "source": [
    "# itemid = 'ca_m_3412037_nw_10_1_20140603_20141030'\n",
    "# points = itemid_to_samples(itemid)\n",
    "# iceplant_counts(points)"
   ]
  }
 ],
 "metadata": {
  "kernelspec": {
   "display_name": "Python 3 (ipykernel)",
   "language": "python",
   "name": "python3"
  },
  "language_info": {
   "codemirror_mode": {
    "name": "ipython",
    "version": 3
   },
   "file_extension": ".py",
   "mimetype": "text/x-python",
   "name": "python",
   "nbconvert_exporter": "python",
   "pygments_lexer": "ipython3",
   "version": "3.8.13"
  }
 },
 "nbformat": 4,
 "nbformat_minor": 5
}
