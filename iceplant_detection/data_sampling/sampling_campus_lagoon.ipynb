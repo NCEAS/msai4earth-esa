{
 "cells": [
  {
   "cell_type": "code",
   "execution_count": 1,
   "id": "4d21b9a0-c9a8-44fb-9f3f-b07fa5cf2a68",
   "metadata": {},
   "outputs": [],
   "source": [
    "import numpy as np\n",
    "import pandas as pd\n",
    "import matplotlib.pyplot as plt\n",
    "\n",
    "import os\n",
    "import geopandas as gpd\n",
    "\n",
    "import extracting_points_from_polygons as pp"
   ]
  },
  {
   "cell_type": "code",
   "execution_count": 2,
   "id": "23a1d84e-4b5d-4606-aea2-a14747078dd6",
   "metadata": {},
   "outputs": [],
   "source": [
    "def iceplant_counts(df):\n",
    "    return df.filter(items=['iceplant']).groupby(['iceplant']).size().reset_index(name='count')\n",
    "\n",
    "\n",
    "def aoi_to_samples(root,aoi,year):\n",
    "    # root for all polygons collected on naip scenes\n",
    "    fp = os.path.join(root, \n",
    "                      aoi+'_polygons', \n",
    "                      aoi+'_polygons_'+str(year), \n",
    "                      aoi+'_polygons_'+str(year)+'.shp')\n",
    "    polys = gpd.read_file(fp)\n",
    "    itemid = polys['naip_id'][0]\n",
    "    points = pp.naip_sample_no_warnings(polys,itemid)\n",
    "    return points\n",
    "\n",
    "root = os.path.join(os.getcwd(),'polygons_from_naip_images')\n",
    "aoi = 'campus_lagoon'"
   ]
  },
  {
   "cell_type": "code",
   "execution_count": null,
   "id": "8b6b22d2-a430-4679-999c-ee8c75ff99ed",
   "metadata": {},
   "outputs": [],
   "source": [
    "year = 2018\n",
    "fp = os.path.join(root, \n",
    "                      aoi+'_polygons', \n",
    "                      aoi+'_polygons_'+str(year), \n",
    "                      aoi+'_polygons_'+str(year)+'.shp')\n",
    "polys = gpd.read_file(fp)"
   ]
  },
  {
   "cell_type": "code",
   "execution_count": null,
   "id": "5aee9e7e-2cfd-4daa-bdd9-453fb075d5d2",
   "metadata": {},
   "outputs": [
    {
     "name": "stdout",
     "output_type": "stream",
     "text": [
      "POLYGON ((-119.84653448212836 34.40602232490822, -119.84649196638797 34.405969854468324, -119.84652880275748 34.40595492811301, -119.84660098949459 34.405981384183455, -119.84668487746353 34.406052587073596, -119.84655965627965 34.40606394432973, -119.84653448212836 34.40602232490822))\n"
     ]
    }
   ],
   "source": []
  },
  {
   "cell_type": "code",
   "execution_count": 3,
   "id": "8e88f68d-4db3-4ebb-b7b9-645871165738",
   "metadata": {},
   "outputs": [
    {
     "data": {
      "text/html": [
       "<div>\n",
       "<style scoped>\n",
       "    .dataframe tbody tr th:only-of-type {\n",
       "        vertical-align: middle;\n",
       "    }\n",
       "\n",
       "    .dataframe tbody tr th {\n",
       "        vertical-align: top;\n",
       "    }\n",
       "\n",
       "    .dataframe thead th {\n",
       "        text-align: right;\n",
       "    }\n",
       "</style>\n",
       "<table border=\"1\" class=\"dataframe\">\n",
       "  <thead>\n",
       "    <tr style=\"text-align: right;\">\n",
       "      <th></th>\n",
       "      <th>iceplant</th>\n",
       "      <th>count</th>\n",
       "    </tr>\n",
       "  </thead>\n",
       "  <tbody>\n",
       "    <tr>\n",
       "      <th>0</th>\n",
       "      <td>0</td>\n",
       "      <td>3508</td>\n",
       "    </tr>\n",
       "    <tr>\n",
       "      <th>1</th>\n",
       "      <td>1</td>\n",
       "      <td>887</td>\n",
       "    </tr>\n",
       "  </tbody>\n",
       "</table>\n",
       "</div>"
      ],
      "text/plain": [
       "   iceplant  count\n",
       "0         0   3508\n",
       "1         1    887"
      ]
     },
     "execution_count": 3,
     "metadata": {},
     "output_type": "execute_result"
    }
   ],
   "source": [
    "pts12 = aoi_to_samples(root, aoi, 2012)\n",
    "iceplant_counts(pts12)"
   ]
  },
  {
   "cell_type": "code",
   "execution_count": 4,
   "id": "f63b22f0-a4c1-4b90-9806-1ae8ebd0bf13",
   "metadata": {},
   "outputs": [
    {
     "data": {
      "text/plain": [
       "Text(0.5, 1.0, 'point samples by polygon id --- 2012')"
      ]
     },
     "execution_count": 4,
     "metadata": {},
     "output_type": "execute_result"
    },
    {
     "data": {
      "image/png": "[encoded data removed]",
      "text/plain": [
       "<Figure size 432x288 with 1 Axes>"
      ]
     },
     "metadata": {
      "needs_background": "light"
     },
     "output_type": "display_data"
    }
   ],
   "source": [
    "plt.hist(pts12.polygon_id,bins=33)\n",
    "plt.title('point samples by polygon id --- 2012')"
   ]
  },
  {
   "cell_type": "code",
   "execution_count": 5,
   "id": "fdf2500d-27d5-4385-ac76-765d2d2063e9",
   "metadata": {},
   "outputs": [
    {
     "data": {
      "text/html": [
       "<div>\n",
       "<style scoped>\n",
       "    .dataframe tbody tr th:only-of-type {\n",
       "        vertical-align: middle;\n",
       "    }\n",
       "\n",
       "    .dataframe tbody tr th {\n",
       "        vertical-align: top;\n",
       "    }\n",
       "\n",
       "    .dataframe thead th {\n",
       "        text-align: right;\n",
       "    }\n",
       "</style>\n",
       "<table border=\"1\" class=\"dataframe\">\n",
       "  <thead>\n",
       "    <tr style=\"text-align: right;\">\n",
       "      <th></th>\n",
       "      <th>iceplant</th>\n",
       "      <th>count</th>\n",
       "    </tr>\n",
       "  </thead>\n",
       "  <tbody>\n",
       "    <tr>\n",
       "      <th>0</th>\n",
       "      <td>0</td>\n",
       "      <td>3771</td>\n",
       "    </tr>\n",
       "    <tr>\n",
       "      <th>1</th>\n",
       "      <td>1</td>\n",
       "      <td>531</td>\n",
       "    </tr>\n",
       "  </tbody>\n",
       "</table>\n",
       "</div>"
      ],
      "text/plain": [
       "   iceplant  count\n",
       "0         0   3771\n",
       "1         1    531"
      ]
     },
     "execution_count": 5,
     "metadata": {},
     "output_type": "execute_result"
    }
   ],
   "source": [
    "pts14 = aoi_to_samples(root, aoi, 2014)\n",
    "iceplant_counts(pts14)"
   ]
  },
  {
   "cell_type": "code",
   "execution_count": 6,
   "id": "8a273707-e348-450d-832e-a32e7d7683d1",
   "metadata": {},
   "outputs": [
    {
     "data": {
      "text/plain": [
       "Text(0.5, 1.0, 'point samples by polygon id --- 2014')"
      ]
     },
     "execution_count": 6,
     "metadata": {},
     "output_type": "execute_result"
    },
    {
     "data": {
      "image/png": "[encoded data removed]",
      "text/plain": [
       "<Figure size 432x288 with 1 Axes>"
      ]
     },
     "metadata": {
      "needs_background": "light"
     },
     "output_type": "display_data"
    }
   ],
   "source": [
    "plt.hist(pts14.polygon_id,bins=24)\n",
    "plt.title('point samples by polygon id --- 2014')"
   ]
  },
  {
   "cell_type": "code",
   "execution_count": 7,
   "id": "187fe4ac-d8fd-491f-829c-e1c311ee646b",
   "metadata": {},
   "outputs": [
    {
     "data": {
      "text/html": [
       "<div>\n",
       "<style scoped>\n",
       "    .dataframe tbody tr th:only-of-type {\n",
       "        vertical-align: middle;\n",
       "    }\n",
       "\n",
       "    .dataframe tbody tr th {\n",
       "        vertical-align: top;\n",
       "    }\n",
       "\n",
       "    .dataframe thead th {\n",
       "        text-align: right;\n",
       "    }\n",
       "</style>\n",
       "<table border=\"1\" class=\"dataframe\">\n",
       "  <thead>\n",
       "    <tr style=\"text-align: right;\">\n",
       "      <th></th>\n",
       "      <th>poly_id</th>\n",
       "      <th>count</th>\n",
       "    </tr>\n",
       "  </thead>\n",
       "  <tbody>\n",
       "    <tr>\n",
       "      <th>0</th>\n",
       "      <td>0</td>\n",
       "      <td>175</td>\n",
       "    </tr>\n",
       "    <tr>\n",
       "      <th>1</th>\n",
       "      <td>1</td>\n",
       "      <td>60</td>\n",
       "    </tr>\n",
       "    <tr>\n",
       "      <th>2</th>\n",
       "      <td>2</td>\n",
       "      <td>29</td>\n",
       "    </tr>\n",
       "    <tr>\n",
       "      <th>3</th>\n",
       "      <td>3</td>\n",
       "      <td>26</td>\n",
       "    </tr>\n",
       "    <tr>\n",
       "      <th>4</th>\n",
       "      <td>4</td>\n",
       "      <td>42</td>\n",
       "    </tr>\n",
       "    <tr>\n",
       "      <th>5</th>\n",
       "      <td>5</td>\n",
       "      <td>37</td>\n",
       "    </tr>\n",
       "    <tr>\n",
       "      <th>6</th>\n",
       "      <td>6</td>\n",
       "      <td>29</td>\n",
       "    </tr>\n",
       "    <tr>\n",
       "      <th>7</th>\n",
       "      <td>7</td>\n",
       "      <td>63</td>\n",
       "    </tr>\n",
       "    <tr>\n",
       "      <th>8</th>\n",
       "      <td>8</td>\n",
       "      <td>9</td>\n",
       "    </tr>\n",
       "    <tr>\n",
       "      <th>9</th>\n",
       "      <td>9</td>\n",
       "      <td>6</td>\n",
       "    </tr>\n",
       "    <tr>\n",
       "      <th>10</th>\n",
       "      <td>10</td>\n",
       "      <td>55</td>\n",
       "    </tr>\n",
       "    <tr>\n",
       "      <th>11</th>\n",
       "      <td>11</td>\n",
       "      <td>182</td>\n",
       "    </tr>\n",
       "    <tr>\n",
       "      <th>12</th>\n",
       "      <td>12</td>\n",
       "      <td>164</td>\n",
       "    </tr>\n",
       "    <tr>\n",
       "      <th>13</th>\n",
       "      <td>13</td>\n",
       "      <td>170</td>\n",
       "    </tr>\n",
       "    <tr>\n",
       "      <th>14</th>\n",
       "      <td>14</td>\n",
       "      <td>118</td>\n",
       "    </tr>\n",
       "    <tr>\n",
       "      <th>15</th>\n",
       "      <td>15</td>\n",
       "      <td>45</td>\n",
       "    </tr>\n",
       "    <tr>\n",
       "      <th>16</th>\n",
       "      <td>16</td>\n",
       "      <td>203</td>\n",
       "    </tr>\n",
       "    <tr>\n",
       "      <th>17</th>\n",
       "      <td>17</td>\n",
       "      <td>206</td>\n",
       "    </tr>\n",
       "    <tr>\n",
       "      <th>18</th>\n",
       "      <td>18</td>\n",
       "      <td>138</td>\n",
       "    </tr>\n",
       "    <tr>\n",
       "      <th>19</th>\n",
       "      <td>19</td>\n",
       "      <td>180</td>\n",
       "    </tr>\n",
       "    <tr>\n",
       "      <th>20</th>\n",
       "      <td>20</td>\n",
       "      <td>150</td>\n",
       "    </tr>\n",
       "    <tr>\n",
       "      <th>21</th>\n",
       "      <td>21</td>\n",
       "      <td>330</td>\n",
       "    </tr>\n",
       "    <tr>\n",
       "      <th>22</th>\n",
       "      <td>22</td>\n",
       "      <td>853</td>\n",
       "    </tr>\n",
       "    <tr>\n",
       "      <th>23</th>\n",
       "      <td>23</td>\n",
       "      <td>503</td>\n",
       "    </tr>\n",
       "    <tr>\n",
       "      <th>24</th>\n",
       "      <td>24</td>\n",
       "      <td>529</td>\n",
       "    </tr>\n",
       "  </tbody>\n",
       "</table>\n",
       "</div>"
      ],
      "text/plain": [
       "    poly_id  count\n",
       "0         0    175\n",
       "1         1     60\n",
       "2         2     29\n",
       "3         3     26\n",
       "4         4     42\n",
       "5         5     37\n",
       "6         6     29\n",
       "7         7     63\n",
       "8         8      9\n",
       "9         9      6\n",
       "10       10     55\n",
       "11       11    182\n",
       "12       12    164\n",
       "13       13    170\n",
       "14       14    118\n",
       "15       15     45\n",
       "16       16    203\n",
       "17       17    206\n",
       "18       18    138\n",
       "19       19    180\n",
       "20       20    150\n",
       "21       21    330\n",
       "22       22    853\n",
       "23       23    503\n",
       "24       24    529"
      ]
     },
     "execution_count": 7,
     "metadata": {},
     "output_type": "execute_result"
    }
   ],
   "source": [
    "counts = np.unique(pts14.polygon_id.to_numpy(), return_counts=True)\n",
    "pd.DataFrame({'poly_id':counts[0], 'count':counts[1]})"
   ]
  },
  {
   "cell_type": "code",
   "execution_count": 27,
   "id": "848b68ed-6aa6-4dfb-a1fb-4069e34a7b36",
   "metadata": {},
   "outputs": [
    {
     "data": {
      "text/html": [
       "<div>\n",
       "<style scoped>\n",
       "    .dataframe tbody tr th:only-of-type {\n",
       "        vertical-align: middle;\n",
       "    }\n",
       "\n",
       "    .dataframe tbody tr th {\n",
       "        vertical-align: top;\n",
       "    }\n",
       "\n",
       "    .dataframe thead th {\n",
       "        text-align: right;\n",
       "    }\n",
       "</style>\n",
       "<table border=\"1\" class=\"dataframe\">\n",
       "  <thead>\n",
       "    <tr style=\"text-align: right;\">\n",
       "      <th></th>\n",
       "      <th>iceplant</th>\n",
       "      <th>count</th>\n",
       "    </tr>\n",
       "  </thead>\n",
       "  <tbody>\n",
       "    <tr>\n",
       "      <th>0</th>\n",
       "      <td>0</td>\n",
       "      <td>100632</td>\n",
       "    </tr>\n",
       "    <tr>\n",
       "      <th>1</th>\n",
       "      <td>1</td>\n",
       "      <td>1609</td>\n",
       "    </tr>\n",
       "  </tbody>\n",
       "</table>\n",
       "</div>"
      ],
      "text/plain": [
       "   iceplant   count\n",
       "0         0  100632\n",
       "1         1    1609"
      ]
     },
     "execution_count": 27,
     "metadata": {},
     "output_type": "execute_result"
    }
   ],
   "source": [
    "pts18 = aoi_to_samples(root, aoi, 2018)\n",
    "iceplant_counts(pts18)"
   ]
  },
  {
   "cell_type": "code",
   "execution_count": null,
   "id": "e1f7f4d9-9a39-475b-97c4-2d97f92b2440",
   "metadata": {},
   "outputs": [],
   "source": [
    "plt.hist(pts18.polygon_id,bins=61)\n",
    "plt.title('point samples by polygon id --- 2018')"
   ]
  },
  {
   "cell_type": "code",
   "execution_count": null,
   "id": "4852cdc7-7b5a-4823-9543-d3166710aed8",
   "metadata": {},
   "outputs": [],
   "source": [
    "counts = np.unique(pts18.polygon_id.to_numpy(), return_counts=True)\n",
    "pd.DataFrame({'poly_id':counts[0], 'count':counts[1]})"
   ]
  },
  {
   "cell_type": "code",
   "execution_count": null,
   "id": "adab588b-b4c4-41f3-9c06-b7fdd125ff91",
   "metadata": {},
   "outputs": [],
   "source": [
    "pts20 = aoi_to_samples(root, aoi, 2020)\n",
    "iceplant_counts(pts20)"
   ]
  },
  {
   "cell_type": "code",
   "execution_count": null,
   "id": "31f4ea5a-9a6a-4e5f-a419-e491a4416d3d",
   "metadata": {},
   "outputs": [],
   "source": [
    "plt.hist(pts20.polygon_id,bins=28)\n",
    "plt.title('point samples by polygon id --- 2020')"
   ]
  },
  {
   "cell_type": "code",
   "execution_count": null,
   "id": "96c1b72a-f1a4-4d47-a449-3c52d5fce6eb",
   "metadata": {},
   "outputs": [],
   "source": [
    "points.to_csv(os.path.join(os.getcwd(),'aux_data','naip_point_samples',itemid+'_points.csv'))"
   ]
  },
  {
   "cell_type": "code",
   "execution_count": null,
   "id": "a7c75549-7c88-42b6-a7bc-001d240654e4",
   "metadata": {},
   "outputs": [],
   "source": [
    "aoi = 'point_conception'\n",
    "cp12 = aoi_to_samples(root, aoi, 2012)\n",
    "iceplant_counts(cp12)"
   ]
  },
  {
   "cell_type": "code",
   "execution_count": null,
   "id": "34ddba3c-e48d-4e86-b8de-6528792affff",
   "metadata": {},
   "outputs": [],
   "source": [
    "cp14 = aoi_to_samples(root, aoi, 2014)\n",
    "iceplant_counts(cp14)"
   ]
  },
  {
   "cell_type": "code",
   "execution_count": null,
   "id": "cb724183-ddb3-4d39-a7ec-1d270efb722b",
   "metadata": {},
   "outputs": [],
   "source": [
    "cp18 = aoi_to_samples(root, aoi, 2018)\n",
    "iceplant_counts(cp18)"
   ]
  },
  {
   "cell_type": "code",
   "execution_count": null,
   "id": "d182ce80-96ff-44c9-944d-a48746687b77",
   "metadata": {},
   "outputs": [],
   "source": [
    "cp20 = aoi_to_samples(root, aoi, 2020)\n",
    "iceplant_counts(cp20)"
   ]
  },
  {
   "cell_type": "code",
   "execution_count": null,
   "id": "fe370a44-d3b2-4099-85e3-5f69fd15b727",
   "metadata": {},
   "outputs": [],
   "source": []
  }
 ],
 "metadata": {
  "kernelspec": {
   "display_name": "Python 3 (ipykernel)",
   "language": "python",
   "name": "python3"
  },
  "language_info": {
   "codemirror_mode": {
    "name": "ipython",
    "version": 3
   },
   "file_extension": ".py",
   "mimetype": "text/x-python",
   "name": "python",
   "nbconvert_exporter": "python",
   "pygments_lexer": "ipython3",
   "version": "3.8.13"
  }
 },
 "nbformat": 4,
 "nbformat_minor": 5
}
