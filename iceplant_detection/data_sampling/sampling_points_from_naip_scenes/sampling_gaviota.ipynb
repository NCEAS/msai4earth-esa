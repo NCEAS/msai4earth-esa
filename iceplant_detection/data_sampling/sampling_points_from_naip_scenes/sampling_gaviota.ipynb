{
 "cells": [
  {
   "cell_type": "code",
   "execution_count": 1,
   "id": "4d21b9a0-c9a8-44fb-9f3f-b07fa5cf2a68",
   "metadata": {},
   "outputs": [],
   "source": [
    "import numpy as np\n",
    "import pandas as pd\n",
    "import matplotlib.pyplot as plt\n",
    "\n",
    "import os\n",
    "import geopandas as gpd\n",
    "\n",
    "import extracting_points_from_polygons as pp"
   ]
  },
  {
   "cell_type": "code",
   "execution_count": 2,
   "id": "5b948ba8-5ebb-4bc7-a7eb-faa920d634b8",
   "metadata": {},
   "outputs": [],
   "source": [
    "def iceplant_proportions(labels):\n",
    "    unique, counts = np.unique(labels, return_counts=True)\n",
    "    print('no-iceplant:iceplant ratio    ',round(counts[0]/counts[1],1),':1')\n",
    "    n = labels.shape[0]\n",
    "    perc = [round(counts[0]/n*100,2), round(counts[1]/n*100,2)]\n",
    "    df = pd.DataFrame({'iceplant':unique,\n",
    "             'counts':counts,\n",
    "             'percentage':perc}).set_index('iceplant')\n",
    "    print(df)\n",
    "    print()"
   ]
  },
  {
   "cell_type": "code",
   "execution_count": 3,
   "id": "23a1d84e-4b5d-4606-aea2-a14747078dd6",
   "metadata": {},
   "outputs": [],
   "source": [
    "aoi = 'gaviota'"
   ]
  },
  {
   "cell_type": "markdown",
   "id": "c2a05253-ada9-4ee8-911a-0199229ca7b6",
   "metadata": {},
   "source": [
    "# Sample 2012"
   ]
  },
  {
   "cell_type": "code",
   "execution_count": 4,
   "id": "fe370a44-d3b2-4099-85e3-5f69fd15b727",
   "metadata": {
    "tags": []
   },
   "outputs": [],
   "source": [
    "fp = pp.path_to_polygons(aoi,2012)\n",
    "polys12 = gpd.read_file(fp)"
   ]
  },
  {
   "cell_type": "code",
   "execution_count": 5,
   "id": "1be67d3d-b04e-42f3-b51c-288749fbad0a",
   "metadata": {
    "tags": []
   },
   "outputs": [
    {
     "name": "stdout",
     "output_type": "stream",
     "text": [
      "2248\n"
     ]
    },
    {
     "data": {
      "text/plain": [
       "3    487\n",
       "4    336\n",
       "5    255\n",
       "9    227\n",
       "7    206\n",
       "0    191\n",
       "2    147\n",
       "6    145\n",
       "8    142\n",
       "1    112\n",
       "Name: polygon_id, dtype: int64"
      ]
     },
     "execution_count": 5,
     "metadata": {},
     "output_type": "execute_result"
    }
   ],
   "source": [
    "polys_ice12 = polys12.loc[polys12.iceplant==1]\n",
    "polys_ice12.reset_index(inplace=True, drop=True)\n",
    "pts_ice12 = pp.naip_sample_proportion_no_warnings(polys_ice12, polys12.naip_id[0], 0.9)\n",
    "\n",
    "print(pts_ice12.shape[0])\n",
    "pts_ice12.polygon_id.value_counts()"
   ]
  },
  {
   "cell_type": "code",
   "execution_count": 6,
   "id": "638716d3-d779-4be2-bec7-db2076c05dd3",
   "metadata": {
    "tags": []
   },
   "outputs": [
    {
     "name": "stdout",
     "output_type": "stream",
     "text": [
      "8722\n"
     ]
    },
    {
     "data": {
      "text/plain": [
       "17    1500\n",
       "22    1143\n",
       "21     884\n",
       "20     662\n",
       "16     640\n",
       "11     639\n",
       "19     578\n",
       "10     530\n",
       "12     519\n",
       "13     442\n",
       "18     431\n",
       "15     381\n",
       "14     373\n",
       "Name: polygon_id, dtype: int64"
      ]
     },
     "execution_count": 6,
     "metadata": {},
     "output_type": "execute_result"
    }
   ],
   "source": [
    "polys_nonice12 = polys12.loc[polys12.iceplant==0]\n",
    "polys_nonice12.reset_index(inplace=True, drop=True)\n",
    "pts_nonice12 = pp.naip_sample_sliding_no_warnings(polys_nonice12, polys12.naip_id[0], 0.9, 1500)\n",
    "\n",
    "print(pts_nonice12.shape[0])\n",
    "pts_nonice12.polygon_id.value_counts()"
   ]
  },
  {
   "cell_type": "code",
   "execution_count": 7,
   "id": "3016ffa2-40c7-473e-a43d-c8db81572b36",
   "metadata": {
    "tags": []
   },
   "outputs": [
    {
     "name": "stdout",
     "output_type": "stream",
     "text": [
      "no-iceplant:iceplant ratio     3.9 :1\n",
      "          counts  percentage\n",
      "iceplant                    \n",
      "0           8722       79.51\n",
      "1           2248       20.49\n",
      "\n"
     ]
    }
   ],
   "source": [
    "pts12 = pd.concat([pts_ice12,pts_nonice12])\n",
    "iceplant_proportions(pts12.iceplant)"
   ]
  },
  {
   "cell_type": "markdown",
   "id": "ffef6b3f-d131-406f-8338-e84e337d9f4e",
   "metadata": {},
   "source": [
    "# Sample 2014"
   ]
  },
  {
   "cell_type": "code",
   "execution_count": 8,
   "id": "57bbd795-4518-49f7-82eb-bc05add2d72e",
   "metadata": {
    "tags": []
   },
   "outputs": [],
   "source": [
    "fp = pp.path_to_polygons(aoi,2014)\n",
    "polys14 = gpd.read_file(fp)"
   ]
  },
  {
   "cell_type": "code",
   "execution_count": 9,
   "id": "91daddbb-67eb-461f-a493-a37ab0b04ed4",
   "metadata": {
    "tags": []
   },
   "outputs": [
    {
     "name": "stdout",
     "output_type": "stream",
     "text": [
      "883\n"
     ]
    },
    {
     "data": {
      "text/plain": [
       "4    227\n",
       "3    206\n",
       "0    191\n",
       "2    147\n",
       "1    112\n",
       "Name: polygon_id, dtype: int64"
      ]
     },
     "execution_count": 9,
     "metadata": {},
     "output_type": "execute_result"
    }
   ],
   "source": [
    "polys_ice14 = polys14.loc[polys14.iceplant==1]\n",
    "polys_ice14.reset_index(inplace=True, drop=True)\n",
    "pts_ice14 = pp.naip_sample_proportion_no_warnings(polys_ice14, polys14.naip_id[0], 0.9)\n",
    "\n",
    "print(pts_ice14.shape[0])\n",
    "pts_ice14.polygon_id.value_counts()"
   ]
  },
  {
   "cell_type": "code",
   "execution_count": 10,
   "id": "d49a296d-7c96-44e3-9772-83fe8f2dbe5c",
   "metadata": {
    "tags": []
   },
   "outputs": [
    {
     "name": "stdout",
     "output_type": "stream",
     "text": [
      "8397\n"
     ]
    },
    {
     "data": {
      "text/plain": [
       "10    1464\n",
       "15    1016\n",
       "16     851\n",
       "14     786\n",
       "17     701\n",
       "13     588\n",
       "9      569\n",
       "12     514\n",
       "5      461\n",
       "6      393\n",
       "11     383\n",
       "8      339\n",
       "7      332\n",
       "Name: polygon_id, dtype: int64"
      ]
     },
     "execution_count": 10,
     "metadata": {},
     "output_type": "execute_result"
    }
   ],
   "source": [
    "polys_nonice14 = polys14.loc[polys14.iceplant==0]\n",
    "polys_nonice14.reset_index(inplace=True, drop=True)\n",
    "pts_nonice14 = pp.naip_sample_sliding_no_warnings(polys_nonice14, polys14.naip_id[0], 0.8, 1500)\n",
    "\n",
    "print(pts_nonice14.shape[0])\n",
    "pts_nonice14.polygon_id.value_counts()"
   ]
  },
  {
   "cell_type": "code",
   "execution_count": 11,
   "id": "0c654330-c855-4eff-b072-bd3cb6adca85",
   "metadata": {
    "tags": []
   },
   "outputs": [
    {
     "name": "stdout",
     "output_type": "stream",
     "text": [
      "no-iceplant:iceplant ratio     9.5 :1\n",
      "          counts  percentage\n",
      "iceplant                    \n",
      "0           8397       90.48\n",
      "1            883        9.52\n",
      "\n"
     ]
    }
   ],
   "source": [
    "pts14 = pd.concat([pts_ice14,pts_nonice14])\n",
    "iceplant_proportions(pts14.iceplant)"
   ]
  },
  {
   "cell_type": "markdown",
   "id": "70e77914-6a2c-4c4e-9ff5-691cdcdf4440",
   "metadata": {},
   "source": [
    "## Sampling 2018\n",
    "1. Iceplant 80% of points in polygons\n",
    "2. Non-iceplant 80% of small ones up to 1500 pixels"
   ]
  },
  {
   "cell_type": "code",
   "execution_count": 12,
   "id": "8b6b22d2-a430-4679-999c-ee8c75ff99ed",
   "metadata": {
    "tags": []
   },
   "outputs": [],
   "source": [
    "fp = pp.path_to_polygons(aoi,2018)\n",
    "polys18 = gpd.read_file(fp)"
   ]
  },
  {
   "cell_type": "code",
   "execution_count": 13,
   "id": "59e044d2-976e-4369-9e45-27bfc303a22d",
   "metadata": {
    "tags": []
   },
   "outputs": [
    {
     "name": "stdout",
     "output_type": "stream",
     "text": [
      "2566\n"
     ]
    },
    {
     "data": {
      "text/plain": [
       "7    562\n",
       "5    509\n",
       "0    472\n",
       "3    281\n",
       "2    229\n",
       "1    208\n",
       "4    165\n",
       "6    140\n",
       "Name: polygon_id, dtype: int64"
      ]
     },
     "execution_count": 13,
     "metadata": {},
     "output_type": "execute_result"
    }
   ],
   "source": [
    "polys_ice18 = polys18.loc[polys18.iceplant==1]\n",
    "polys_ice18.reset_index(inplace=True, drop=True)\n",
    "pts_ice18 = pp.naip_sample_proportion_no_warnings(polys_ice18, polys18.naip_id[0], 0.8)\n",
    "\n",
    "print(pts_ice18.shape[0])\n",
    "pts_ice18.polygon_id.value_counts()"
   ]
  },
  {
   "cell_type": "code",
   "execution_count": 14,
   "id": "f63b22f0-a4c1-4b90-9806-1ae8ebd0bf13",
   "metadata": {
    "tags": []
   },
   "outputs": [
    {
     "name": "stdout",
     "output_type": "stream",
     "text": [
      "15543\n"
     ]
    },
    {
     "data": {
      "text/plain": [
       "8     1500\n",
       "15    1500\n",
       "19    1500\n",
       "18    1500\n",
       "14    1500\n",
       "17    1429\n",
       "9     1310\n",
       "10    1283\n",
       "11    1093\n",
       "16    1064\n",
       "13     942\n",
       "12     922\n",
       "Name: polygon_id, dtype: int64"
      ]
     },
     "execution_count": 14,
     "metadata": {},
     "output_type": "execute_result"
    }
   ],
   "source": [
    "polys_nonice18 = polys18.loc[polys18.iceplant==0]\n",
    "polys_nonice18.reset_index(inplace=True, drop=True)\n",
    "pts_nonice18 = pp.naip_sample_sliding_no_warnings(polys_nonice18, polys18.naip_id[0], 0.8, 1500)\n",
    "\n",
    "print(pts_nonice18.shape[0])\n",
    "pts_nonice18.polygon_id.value_counts()"
   ]
  },
  {
   "cell_type": "code",
   "execution_count": 15,
   "id": "65ae3d58-ea38-4799-a647-d203c20d8e93",
   "metadata": {
    "tags": []
   },
   "outputs": [
    {
     "name": "stdout",
     "output_type": "stream",
     "text": [
      "no-iceplant:iceplant ratio     6.1 :1\n",
      "          counts  percentage\n",
      "iceplant                    \n",
      "0          15543       85.83\n",
      "1           2566       14.17\n",
      "\n"
     ]
    }
   ],
   "source": [
    "pts18 = pd.concat([pts_ice18,pts_nonice18])\n",
    "iceplant_proportions(pts18.iceplant)"
   ]
  },
  {
   "cell_type": "markdown",
   "id": "3e9d54a7-0fac-40da-8b06-65be2b498089",
   "metadata": {},
   "source": [
    "# Sample 2020"
   ]
  },
  {
   "cell_type": "code",
   "execution_count": 16,
   "id": "9def681d-25c2-4ab4-a39e-9e9ec6941778",
   "metadata": {
    "tags": []
   },
   "outputs": [],
   "source": [
    "fp = pp.path_to_polygons(aoi,2020)\n",
    "polys20 = gpd.read_file(fp)"
   ]
  },
  {
   "cell_type": "code",
   "execution_count": 17,
   "id": "5a7f383a-7ee3-4a1a-8a54-2f12b959422f",
   "metadata": {
    "tags": []
   },
   "outputs": [
    {
     "name": "stdout",
     "output_type": "stream",
     "text": [
      "2578\n"
     ]
    },
    {
     "data": {
      "text/plain": [
       "7     492\n",
       "5     445\n",
       "0     413\n",
       "20    332\n",
       "3     246\n",
       "2     201\n",
       "1     182\n",
       "4     144\n",
       "6     123\n",
       "Name: polygon_id, dtype: int64"
      ]
     },
     "execution_count": 17,
     "metadata": {},
     "output_type": "execute_result"
    }
   ],
   "source": [
    "polys_ice20 = polys20.loc[polys20.iceplant==1]\n",
    "polys_ice20.reset_index(inplace=True, drop=True)\n",
    "pts_ice20 = pp.naip_sample_proportion_no_warnings(polys_ice20, polys20.naip_id[0], 0.7)\n",
    "\n",
    "print(pts_ice20.shape[0])\n",
    "pts_ice20.polygon_id.value_counts()"
   ]
  },
  {
   "cell_type": "code",
   "execution_count": 18,
   "id": "f43fb460-f4ae-4eeb-bd57-bd36804b8d67",
   "metadata": {
    "tags": []
   },
   "outputs": [
    {
     "name": "stdout",
     "output_type": "stream",
     "text": [
      "16441\n"
     ]
    },
    {
     "data": {
      "text/plain": [
       "8     1500\n",
       "15    1500\n",
       "19    1500\n",
       "18    1500\n",
       "14    1500\n",
       "17    1500\n",
       "9     1474\n",
       "10    1443\n",
       "11    1230\n",
       "16    1197\n",
       "13    1060\n",
       "12    1037\n",
       "Name: polygon_id, dtype: int64"
      ]
     },
     "execution_count": 18,
     "metadata": {},
     "output_type": "execute_result"
    }
   ],
   "source": [
    "polys_nonice20 = polys20.loc[polys20.iceplant==0]\n",
    "polys_nonice20.reset_index(inplace=True, drop=True)\n",
    "pts_nonice20 = pp.naip_sample_sliding_no_warnings(polys_nonice20, polys20.naip_id[0], 0.9, 1500)\n",
    "\n",
    "print(pts_nonice20.shape[0])\n",
    "pts_nonice20.polygon_id.value_counts()"
   ]
  },
  {
   "cell_type": "code",
   "execution_count": 19,
   "id": "90e558d2-e45e-4d16-8deb-9efda6183826",
   "metadata": {
    "tags": []
   },
   "outputs": [
    {
     "name": "stdout",
     "output_type": "stream",
     "text": [
      "no-iceplant:iceplant ratio     6.4 :1\n",
      "          counts  percentage\n",
      "iceplant                    \n",
      "0          16441       86.45\n",
      "1           2578       13.55\n",
      "\n"
     ]
    }
   ],
   "source": [
    "pts20 = pd.concat([pts_ice20,pts_nonice20])\n",
    "iceplant_proportions(pts20.iceplant)"
   ]
  },
  {
   "cell_type": "markdown",
   "id": "c9257dd0-177b-4d44-849a-4d72dabaf758",
   "metadata": {
    "tags": []
   },
   "source": [
    "# Save samples"
   ]
  },
  {
   "cell_type": "code",
   "execution_count": 21,
   "id": "7c950ba6-30b6-466b-ab19-1b3eccceaf9f",
   "metadata": {
    "tags": []
   },
   "outputs": [],
   "source": [
    "pts = [pts12,pts14,pts18,pts20]\n",
    "years = [2012,2014,2018,2020]\n",
    "for i in range(0,4):\n",
    "    fp = pp.path_points_csv(aoi,years[i])\n",
    "    pts[i].to_csv(fp)"
   ]
  },
  {
   "cell_type": "code",
   "execution_count": null,
   "id": "390eac62-ffb7-495c-9793-a6eb3b6f457f",
   "metadata": {},
   "outputs": [],
   "source": []
  }
 ],
 "metadata": {
  "kernelspec": {
   "display_name": "Python 3 (ipykernel)",
   "language": "python",
   "name": "python3"
  },
  "language_info": {
   "codemirror_mode": {
    "name": "ipython",
    "version": 3
   },
   "file_extension": ".py",
   "mimetype": "text/x-python",
   "name": "python",
   "nbconvert_exporter": "python",
   "pygments_lexer": "ipython3",
   "version": "3.8.13"
  }
 },
 "nbformat": 4,
 "nbformat_minor": 5
}
