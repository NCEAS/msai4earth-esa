{
 "cells": [
  {
   "cell_type": "code",
   "execution_count": 1,
   "id": "4d21b9a0-c9a8-44fb-9f3f-b07fa5cf2a68",
   "metadata": {
    "collapsed": true,
    "jupyter": {
     "outputs_hidden": true
    }
   },
   "outputs": [],
   "source": [
    "import numpy as np\n",
    "import pandas as pd\n",
    "import matplotlib.pyplot as plt\n",
    "\n",
    "import os\n",
    "import geopandas as gpd\n",
    "\n",
    "import extracting_points_from_polygons as pp"
   ]
  },
  {
   "cell_type": "code",
   "execution_count": 2,
   "id": "5b948ba8-5ebb-4bc7-a7eb-faa920d634b8",
   "metadata": {
    "collapsed": true,
    "jupyter": {
     "outputs_hidden": true
    }
   },
   "outputs": [],
   "source": [
    "def iceplant_proportions(labels):\n",
    "    unique, counts = np.unique(labels, return_counts=True)\n",
    "    print('no-iceplant:iceplant ratio    ',round(counts[0]/counts[1],1),':1')\n",
    "    n = labels.shape[0]\n",
    "    perc = [round(counts[0]/n*100,2), round(counts[1]/n*100,2)]\n",
    "    df = pd.DataFrame({'iceplant':unique,\n",
    "             'counts':counts,\n",
    "             'percentage':perc}).set_index('iceplant')\n",
    "    print(df)\n",
    "    print()"
   ]
  },
  {
   "cell_type": "code",
   "execution_count": 3,
   "id": "23a1d84e-4b5d-4606-aea2-a14747078dd6",
   "metadata": {
    "collapsed": true,
    "jupyter": {
     "outputs_hidden": true
    }
   },
   "outputs": [],
   "source": [
    "aoi = 'carpinteria'"
   ]
  },
  {
   "cell_type": "markdown",
   "id": "c2a05253-ada9-4ee8-911a-0199229ca7b6",
   "metadata": {},
   "source": [
    "# Sample 2012"
   ]
  },
  {
   "cell_type": "code",
   "execution_count": 4,
   "id": "fe370a44-d3b2-4099-85e3-5f69fd15b727",
   "metadata": {
    "tags": []
   },
   "outputs": [],
   "source": [
    "fp = pp.path_to_polygons(aoi,2012)\n",
    "polys12 = gpd.read_file(fp)"
   ]
  },
  {
   "cell_type": "code",
   "execution_count": 5,
   "id": "1be67d3d-b04e-42f3-b51c-288749fbad0a",
   "metadata": {
    "tags": []
   },
   "outputs": [
    {
     "name": "stdout",
     "output_type": "stream",
     "text": [
      "3433\n"
     ]
    },
    {
     "data": {
      "text/plain": [
       "22    691\n",
       "20    472\n",
       "0     350\n",
       "9     276\n",
       "19    204\n",
       "17    191\n",
       "18    163\n",
       "1     117\n",
       "7     109\n",
       "21     93\n",
       "2      85\n",
       "3      78\n",
       "24     75\n",
       "23     67\n",
       "25     62\n",
       "16     59\n",
       "26     54\n",
       "12     52\n",
       "5      43\n",
       "27     35\n",
       "28     32\n",
       "4      25\n",
       "14     20\n",
       "10     18\n",
       "13     15\n",
       "15     13\n",
       "8      13\n",
       "11     11\n",
       "6      10\n",
       "Name: polygon_id, dtype: int64"
      ]
     },
     "execution_count": 5,
     "metadata": {},
     "output_type": "execute_result"
    }
   ],
   "source": [
    "polys_ice12 = polys12.loc[polys12.iceplant==1]\n",
    "polys_ice12.reset_index(inplace=True, drop=True)\n",
    "pts_ice12 = pp.naip_sample_proportion_no_warnings(polys_ice12, polys12.naip_id[0], 0.9)\n",
    "\n",
    "print(pts_ice12.shape[0])\n",
    "pts_ice12.polygon_id.value_counts()"
   ]
  },
  {
   "cell_type": "code",
   "execution_count": 6,
   "id": "638716d3-d779-4be2-bec7-db2076c05dd3",
   "metadata": {
    "tags": []
   },
   "outputs": [
    {
     "name": "stdout",
     "output_type": "stream",
     "text": [
      "15587\n"
     ]
    },
    {
     "data": {
      "text/plain": [
       "46    1500\n",
       "36    1500\n",
       "35    1500\n",
       "34    1500\n",
       "30    1430\n",
       "40    1014\n",
       "45     963\n",
       "41     956\n",
       "29     899\n",
       "44     789\n",
       "42     741\n",
       "43     581\n",
       "37     547\n",
       "31     420\n",
       "32     366\n",
       "38     306\n",
       "39     297\n",
       "33     278\n",
       "Name: polygon_id, dtype: int64"
      ]
     },
     "execution_count": 6,
     "metadata": {},
     "output_type": "execute_result"
    }
   ],
   "source": [
    "polys_nonice12 = polys12.loc[polys12.iceplant==0]\n",
    "polys_nonice12.reset_index(inplace=True, drop=True)\n",
    "pts_nonice12 = pp.naip_sample_sliding_no_warnings(polys_nonice12, polys12.naip_id[0], 0.9, 1500)\n",
    "\n",
    "print(pts_nonice12.shape[0])\n",
    "pts_nonice12.polygon_id.value_counts()"
   ]
  },
  {
   "cell_type": "code",
   "execution_count": 7,
   "id": "3016ffa2-40c7-473e-a43d-c8db81572b36",
   "metadata": {
    "tags": []
   },
   "outputs": [
    {
     "name": "stdout",
     "output_type": "stream",
     "text": [
      "no-iceplant:iceplant ratio     4.5 :1\n",
      "          counts  percentage\n",
      "iceplant                    \n",
      "0          15587       81.95\n",
      "1           3433       18.05\n",
      "\n"
     ]
    }
   ],
   "source": [
    "pts12 = pd.concat([pts_ice12,pts_nonice12])\n",
    "iceplant_proportions(pts12.iceplant)"
   ]
  },
  {
   "cell_type": "markdown",
   "id": "ffef6b3f-d131-406f-8338-e84e337d9f4e",
   "metadata": {},
   "source": [
    "# Sample 2014"
   ]
  },
  {
   "cell_type": "code",
   "execution_count": 8,
   "id": "57bbd795-4518-49f7-82eb-bc05add2d72e",
   "metadata": {
    "tags": []
   },
   "outputs": [],
   "source": [
    "fp = pp.path_to_polygons(aoi,2014)\n",
    "polys14 = gpd.read_file(fp)"
   ]
  },
  {
   "cell_type": "code",
   "execution_count": 9,
   "id": "91daddbb-67eb-461f-a493-a37ab0b04ed4",
   "metadata": {
    "tags": []
   },
   "outputs": [
    {
     "name": "stdout",
     "output_type": "stream",
     "text": [
      "2221\n"
     ]
    },
    {
     "data": {
      "text/plain": [
       "15    904\n",
       "14    407\n",
       "12    126\n",
       "0     118\n",
       "1     103\n",
       "9      80\n",
       "2      68\n",
       "11     61\n",
       "5      55\n",
       "16     54\n",
       "13     38\n",
       "17     35\n",
       "4      34\n",
       "18     32\n",
       "3      29\n",
       "7      22\n",
       "6      19\n",
       "19     16\n",
       "10     13\n",
       "8       7\n",
       "Name: polygon_id, dtype: int64"
      ]
     },
     "execution_count": 9,
     "metadata": {},
     "output_type": "execute_result"
    }
   ],
   "source": [
    "polys_ice14 = polys14.loc[polys14.iceplant==1]\n",
    "polys_ice14.reset_index(inplace=True, drop=True)\n",
    "pts_ice14 = pp.naip_sample_proportion_no_warnings(polys_ice14, polys14.naip_id[0], 0.9)\n",
    "\n",
    "print(pts_ice14.shape[0])\n",
    "pts_ice14.polygon_id.value_counts()"
   ]
  },
  {
   "cell_type": "code",
   "execution_count": 10,
   "id": "d49a296d-7c96-44e3-9772-83fe8f2dbe5c",
   "metadata": {
    "tags": []
   },
   "outputs": [
    {
     "name": "stdout",
     "output_type": "stream",
     "text": [
      "14293\n"
     ]
    },
    {
     "data": {
      "text/plain": [
       "37    1500\n",
       "27    1500\n",
       "26    1428\n",
       "25    1345\n",
       "21    1271\n",
       "31     901\n",
       "36     856\n",
       "32     850\n",
       "20     799\n",
       "35     701\n",
       "33     659\n",
       "34     516\n",
       "28     486\n",
       "22     373\n",
       "23     325\n",
       "29     272\n",
       "30     264\n",
       "24     247\n",
       "Name: polygon_id, dtype: int64"
      ]
     },
     "execution_count": 10,
     "metadata": {},
     "output_type": "execute_result"
    }
   ],
   "source": [
    "polys_nonice14 = polys14.loc[polys14.iceplant==0]\n",
    "polys_nonice14.reset_index(inplace=True, drop=True)\n",
    "pts_nonice14 = pp.naip_sample_sliding_no_warnings(polys_nonice14, polys14.naip_id[0], 0.8, 1500)\n",
    "\n",
    "print(pts_nonice14.shape[0])\n",
    "pts_nonice14.polygon_id.value_counts()"
   ]
  },
  {
   "cell_type": "code",
   "execution_count": 11,
   "id": "0c654330-c855-4eff-b072-bd3cb6adca85",
   "metadata": {
    "tags": []
   },
   "outputs": [
    {
     "name": "stdout",
     "output_type": "stream",
     "text": [
      "no-iceplant:iceplant ratio     6.4 :1\n",
      "          counts  percentage\n",
      "iceplant                    \n",
      "0          14293       86.55\n",
      "1           2221       13.45\n",
      "\n"
     ]
    }
   ],
   "source": [
    "pts14 = pd.concat([pts_ice14,pts_nonice14])\n",
    "iceplant_proportions(pts14.iceplant)"
   ]
  },
  {
   "cell_type": "markdown",
   "id": "70e77914-6a2c-4c4e-9ff5-691cdcdf4440",
   "metadata": {},
   "source": [
    "## Sampling 2018\n",
    "1. Iceplant 80% of points in polygons\n",
    "2. Non-iceplant 80% of small ones up to 1500 pixels"
   ]
  },
  {
   "cell_type": "code",
   "execution_count": 12,
   "id": "8b6b22d2-a430-4679-999c-ee8c75ff99ed",
   "metadata": {
    "tags": []
   },
   "outputs": [],
   "source": [
    "fp = pp.path_to_polygons(aoi,2018)\n",
    "polys18 = gpd.read_file(fp)"
   ]
  },
  {
   "cell_type": "code",
   "execution_count": 13,
   "id": "59e044d2-976e-4369-9e45-27bfc303a22d",
   "metadata": {
    "tags": []
   },
   "outputs": [
    {
     "name": "stdout",
     "output_type": "stream",
     "text": [
      "5675\n"
     ]
    },
    {
     "data": {
      "text/plain": [
       "36    2117\n",
       "0      698\n",
       "34     440\n",
       "31     231\n",
       "33     206\n",
       "41     195\n",
       "35     172\n",
       "2      162\n",
       "37     135\n",
       "5      113\n",
       "8       98\n",
       "38      87\n",
       "11      86\n",
       "1       81\n",
       "39      80\n",
       "4       60\n",
       "40      54\n",
       "25      53\n",
       "7       51\n",
       "14      51\n",
       "32      51\n",
       "16      43\n",
       "10      41\n",
       "3       39\n",
       "28      35\n",
       "9       32\n",
       "24      29\n",
       "17      29\n",
       "26      26\n",
       "21      25\n",
       "15      23\n",
       "23      18\n",
       "20      18\n",
       "27      17\n",
       "13      17\n",
       "22      15\n",
       "12      13\n",
       "6        9\n",
       "30       8\n",
       "29       6\n",
       "19       6\n",
       "18       5\n",
       "Name: polygon_id, dtype: int64"
      ]
     },
     "execution_count": 13,
     "metadata": {},
     "output_type": "execute_result"
    }
   ],
   "source": [
    "polys_ice18 = polys18.loc[polys18.iceplant==1]\n",
    "polys_ice18.reset_index(inplace=True, drop=True)\n",
    "pts_ice18 = pp.naip_sample_proportion_no_warnings(polys_ice18, polys18.naip_id[0], 0.8)\n",
    "\n",
    "print(pts_ice18.shape[0])\n",
    "pts_ice18.polygon_id.value_counts()"
   ]
  },
  {
   "cell_type": "code",
   "execution_count": 14,
   "id": "f63b22f0-a4c1-4b90-9806-1ae8ebd0bf13",
   "metadata": {
    "tags": []
   },
   "outputs": [
    {
     "name": "stdout",
     "output_type": "stream",
     "text": [
      "23406\n"
     ]
    },
    {
     "data": {
      "text/plain": [
       "59    1500\n",
       "58    1500\n",
       "55    1500\n",
       "49    1500\n",
       "42    1500\n",
       "54    1500\n",
       "57    1500\n",
       "53    1500\n",
       "43    1500\n",
       "47    1500\n",
       "48    1500\n",
       "56    1436\n",
       "50    1350\n",
       "44    1039\n",
       "45     905\n",
       "51     756\n",
       "52     733\n",
       "46     687\n",
       "Name: polygon_id, dtype: int64"
      ]
     },
     "execution_count": 14,
     "metadata": {},
     "output_type": "execute_result"
    }
   ],
   "source": [
    "polys_nonice18 = polys18.loc[polys18.iceplant==0]\n",
    "polys_nonice18.reset_index(inplace=True, drop=True)\n",
    "pts_nonice18 = pp.naip_sample_sliding_no_warnings(polys_nonice18, polys18.naip_id[0], 0.8, 1500)\n",
    "\n",
    "print(pts_nonice18.shape[0])\n",
    "pts_nonice18.polygon_id.value_counts()"
   ]
  },
  {
   "cell_type": "code",
   "execution_count": 15,
   "id": "65ae3d58-ea38-4799-a647-d203c20d8e93",
   "metadata": {
    "tags": []
   },
   "outputs": [
    {
     "name": "stdout",
     "output_type": "stream",
     "text": [
      "no-iceplant:iceplant ratio     4.1 :1\n",
      "          counts  percentage\n",
      "iceplant                    \n",
      "0          23406       80.49\n",
      "1           5675       19.51\n",
      "\n"
     ]
    }
   ],
   "source": [
    "pts18 = pd.concat([pts_ice18,pts_nonice18])\n",
    "iceplant_proportions(pts18.iceplant)"
   ]
  },
  {
   "cell_type": "markdown",
   "id": "3e9d54a7-0fac-40da-8b06-65be2b498089",
   "metadata": {},
   "source": [
    "# Sample 2020"
   ]
  },
  {
   "cell_type": "code",
   "execution_count": 16,
   "id": "9def681d-25c2-4ab4-a39e-9e9ec6941778",
   "metadata": {
    "tags": []
   },
   "outputs": [],
   "source": [
    "fp = pp.path_to_polygons(aoi,2020)\n",
    "polys20 = gpd.read_file(fp)"
   ]
  },
  {
   "cell_type": "code",
   "execution_count": 17,
   "id": "5a7f383a-7ee3-4a1a-8a54-2f12b959422f",
   "metadata": {
    "tags": []
   },
   "outputs": [
    {
     "name": "stdout",
     "output_type": "stream",
     "text": [
      "8197\n"
     ]
    },
    {
     "data": {
      "text/plain": [
       "44    1954\n",
       "41    1023\n",
       "0      555\n",
       "40     442\n",
       "38     412\n",
       "39     305\n",
       "33     275\n",
       "42     201\n",
       "37     180\n",
       "47     162\n",
       "2      158\n",
       "46     151\n",
       "45     146\n",
       "50     134\n",
       "51     118\n",
       "49     106\n",
       "5      103\n",
       "11      94\n",
       "3       92\n",
       "48      90\n",
       "4       81\n",
       "14      78\n",
       "7       78\n",
       "52      76\n",
       "28      75\n",
       "1       71\n",
       "53      70\n",
       "27      67\n",
       "43      65\n",
       "34      63\n",
       "10      58\n",
       "22      58\n",
       "13      57\n",
       "8       52\n",
       "16      40\n",
       "18      38\n",
       "30      38\n",
       "15      36\n",
       "26      33\n",
       "36      32\n",
       "21      31\n",
       "12      30\n",
       "29      30\n",
       "9       29\n",
       "20      26\n",
       "24      26\n",
       "35      26\n",
       "17      25\n",
       "23      23\n",
       "6       19\n",
       "32      16\n",
       "31      16\n",
       "54      16\n",
       "19      10\n",
       "25       7\n",
       "Name: polygon_id, dtype: int64"
      ]
     },
     "execution_count": 17,
     "metadata": {},
     "output_type": "execute_result"
    }
   ],
   "source": [
    "polys_ice20 = polys20.loc[polys20.iceplant==1]\n",
    "polys_ice20.reset_index(inplace=True, drop=True)\n",
    "pts_ice20 = pp.naip_sample_proportion_no_warnings(polys_ice20, polys20.naip_id[0], 0.7)\n",
    "\n",
    "print(pts_ice20.shape[0])\n",
    "pts_ice20.polygon_id.value_counts()"
   ]
  },
  {
   "cell_type": "code",
   "execution_count": 18,
   "id": "f43fb460-f4ae-4eeb-bd57-bd36804b8d67",
   "metadata": {
    "tags": []
   },
   "outputs": [
    {
     "name": "stdout",
     "output_type": "stream",
     "text": [
      "24135\n"
     ]
    },
    {
     "data": {
      "text/plain": [
       "72    1500\n",
       "67    1500\n",
       "63    1500\n",
       "69    1500\n",
       "68    1500\n",
       "62    1500\n",
       "55    1500\n",
       "70    1500\n",
       "71    1500\n",
       "66    1500\n",
       "56    1500\n",
       "60    1500\n",
       "61    1500\n",
       "57    1169\n",
       "58    1018\n",
       "64     850\n",
       "65     825\n",
       "59     773\n",
       "Name: polygon_id, dtype: int64"
      ]
     },
     "execution_count": 18,
     "metadata": {},
     "output_type": "execute_result"
    }
   ],
   "source": [
    "polys_nonice20 = polys20.loc[polys20.iceplant==0]\n",
    "polys_nonice20.reset_index(inplace=True, drop=True)\n",
    "pts_nonice20 = pp.naip_sample_sliding_no_warnings(polys_nonice20, polys20.naip_id[0], 0.9, 1500)\n",
    "\n",
    "print(pts_nonice20.shape[0])\n",
    "pts_nonice20.polygon_id.value_counts()"
   ]
  },
  {
   "cell_type": "code",
   "execution_count": 19,
   "id": "90e558d2-e45e-4d16-8deb-9efda6183826",
   "metadata": {
    "tags": []
   },
   "outputs": [
    {
     "name": "stdout",
     "output_type": "stream",
     "text": [
      "no-iceplant:iceplant ratio     2.9 :1\n",
      "          counts  percentage\n",
      "iceplant                    \n",
      "0          24135       74.65\n",
      "1           8197       25.35\n",
      "\n"
     ]
    }
   ],
   "source": [
    "pts20 = pd.concat([pts_ice20,pts_nonice20])\n",
    "iceplant_proportions(pts20.iceplant)"
   ]
  },
  {
   "cell_type": "markdown",
   "id": "c9257dd0-177b-4d44-849a-4d72dabaf758",
   "metadata": {
    "tags": []
   },
   "source": [
    "# Save samples"
   ]
  },
  {
   "cell_type": "code",
   "execution_count": 20,
   "id": "7c950ba6-30b6-466b-ab19-1b3eccceaf9f",
   "metadata": {
    "tags": []
   },
   "outputs": [],
   "source": [
    "pts = [pts12,pts14,pts18,pts20]\n",
    "years = [2012,2014,2018,2020]\n",
    "for i in range(0,4):\n",
    "    fp = pp.path_points_csv(aoi,years[i])\n",
    "    pts[i].to_csv(fp)"
   ]
  },
  {
   "cell_type": "code",
   "execution_count": null,
   "id": "390eac62-ffb7-495c-9793-a6eb3b6f457f",
   "metadata": {},
   "outputs": [],
   "source": []
  }
 ],
 "metadata": {
  "kernelspec": {
   "display_name": "Python 3 (ipykernel)",
   "language": "python",
   "name": "python3"
  },
  "language_info": {
   "codemirror_mode": {
    "name": "ipython",
    "version": 3
   },
   "file_extension": ".py",
   "mimetype": "text/x-python",
   "name": "python",
   "nbconvert_exporter": "python",
   "pygments_lexer": "ipython3",
   "version": "3.8.13"
  }
 },
 "nbformat": 4,
 "nbformat_minor": 5
}
