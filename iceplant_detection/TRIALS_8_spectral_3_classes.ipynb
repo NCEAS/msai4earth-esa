{
 "cells": [
  {
   "cell_type": "code",
   "execution_count": null,
   "id": "b6a16b75-1dfb-4240-b710-6eec22cd7e6e",
   "metadata": {},
   "outputs": [],
   "source": [
    "import os\n",
    "import time\n",
    "import pandas as pd\n",
    "import numpy as np\n",
    "import matplotlib.pyplot as plt\n",
    "\n",
    "from sklearn.ensemble import RandomForestClassifier\n",
    "\n",
    "import rasterio\n",
    "import rioxarray as rioxr\n",
    "import geopandas as gpd\n",
    "\n",
    "import warnings\n",
    "\n",
    "import planetary_computer as pc\n",
    "\n",
    "import gc # garbage collector\n",
    "\n",
    "import dask\n",
    "import dask_gateway\n",
    "import dask.array as da\n",
    "from dask_ml.wrappers import ParallelPostFit\n",
    "\n",
    "import iceplant_detection_functions as ipf\n",
    "import model_prep_and_evals as mpe"
   ]
  },
  {
   "cell_type": "code",
   "execution_count": null,
   "id": "4d4d2014-8e99-4656-adc4-4bbf653a1a43",
   "metadata": {},
   "outputs": [],
   "source": [
    "t_alpha = time.time()"
   ]
  },
  {
   "cell_type": "markdown",
   "id": "c2e33c04-8fcc-4c16-bcf1-264ff8f81c16",
   "metadata": {},
   "source": [
    "# Import train/test sets"
   ]
  },
  {
   "cell_type": "code",
   "execution_count": null,
   "id": "360cad6f-55cd-4a50-a77d-24fd7cff4697",
   "metadata": {},
   "outputs": [],
   "source": [
    "# select features from r (Red band) to avg_lidar // excludes geometry, aoi, naip_id, polygon)id and iceplant features\n",
    "X_train = pd.read_csv(os.path.join(os.getcwd(),'data_sampling_workflow','train_set.csv')).loc[:,'r':'avg_lidar']\n",
    "\n",
    "# select iceplant feature column\n",
    "y_train = pd.read_csv(os.path.join(os.getcwd(),'data_sampling_workflow','train_set.csv')).loc[:,'iceplant'] "
   ]
  },
  {
   "cell_type": "code",
   "execution_count": null,
   "id": "bb867190-a4ea-4ded-84f2-a4ea6ec085a2",
   "metadata": {},
   "outputs": [],
   "source": [
    "# drop lidar features\n",
    "X_train = X_train.drop(['lidar','max_lidar','min_lidar','min_max_diff','avg_lidar'],axis=1)\n",
    "X_train.head(3)"
   ]
  },
  {
   "cell_type": "code",
   "execution_count": null,
   "id": "9bc06825-3de4-4bbe-bef4-bde931fa5304",
   "metadata": {},
   "outputs": [],
   "source": [
    "mpe.iceplant_proportions(y_train)"
   ]
  },
  {
   "cell_type": "markdown",
   "id": "330914f3-36eb-47d3-82cd-54df9b7c0561",
   "metadata": {},
   "source": [
    "## Train model"
   ]
  },
  {
   "cell_type": "code",
   "execution_count": null,
   "id": "4f84a7d7-d0c6-4f33-9c26-a968cbac2cfc",
   "metadata": {},
   "outputs": [],
   "source": [
    "t0 = time.time()\n",
    "\n",
    "rfc = ParallelPostFit(RandomForestClassifier(n_estimators = 100, \n",
    "                                             random_state = 42))\n",
    "rfc.fit(X_train, y_train)\n",
    "\n",
    "print('time to train: ', (time.time()-t0))"
   ]
  },
  {
   "cell_type": "markdown",
   "id": "1142e000-2620-42c1-8c27-4f99dff0b86e",
   "metadata": {},
   "source": [
    "# Select NAIP scene and LIDAR year"
   ]
  },
  {
   "cell_type": "code",
   "execution_count": null,
   "id": "2386e4f9-59da-4fb3-ad87-f647f20a0f9c",
   "metadata": {},
   "outputs": [],
   "source": [
    "campus_itemids = ['ca_m_3411934_sw_11_060_20200521',\n",
    "                  'ca_m_3411934_sw_11_060_20180722_20190209',\n",
    "                  'ca_m_3411934_sw_11_.6_20160713_20161004',\n",
    "                  'ca_m_3411934_sw_11_1_20140601_20141030',\n",
    "                  'ca_m_3411934_sw_11_1_20120505_20120730']"
   ]
  },
  {
   "cell_type": "code",
   "execution_count": null,
   "id": "463cf6bd-29cc-4575-8d9f-792cd5dd5ecb",
   "metadata": {},
   "outputs": [],
   "source": [
    "# **************************************************************\n",
    "# ********* SPECIFY ITEMID AND LIDAR YEAR TO MATCH HERE ********\n",
    "\n",
    "itemid = campus_itemids[0] # NAIP scene over Conception Point\n",
    "year = 2020\n",
    "\n",
    "save_raster = False\n",
    "filename = 'SPECTRAL_campus_'+str(year)+'_predictions.tif'\n",
    "\n",
    "plot_predictions = True\n",
    "graph_title = \"SPECTRAL PREDICTIONS : \"+str(year)+\" campus point NAIP scene\"\n",
    "\n",
    "# **************************************************************\n",
    "# **************************************************************"
   ]
  },
  {
   "cell_type": "markdown",
   "id": "be3c043e-4db8-4562-9163-02d3477edb09",
   "metadata": {},
   "source": [
    "# Pre-process NAIP scene for prediction"
   ]
  },
  {
   "cell_type": "code",
   "execution_count": null,
   "id": "f8326f3f-cabe-40da-9dfa-098b6609d6d4",
   "metadata": {},
   "outputs": [],
   "source": [
    "t0 = time.time()\n",
    "item = ipf.get_item_from_id(itemid)\n",
    "print('retrieved itemid. time:', (time.time()-t0))"
   ]
  },
  {
   "cell_type": "code",
   "execution_count": null,
   "id": "678eefb1-c1fd-4dc1-b879-5e758e7f4ca8",
   "metadata": {
    "tags": []
   },
   "outputs": [],
   "source": [
    "df = ipf.features_over_aoi(item, \n",
    "                           ipf.get_raster_from_item(item).read([1,2,3,4]), \n",
    "                           thresh=0.05)\n",
    "df.head(3)"
   ]
  },
  {
   "cell_type": "markdown",
   "id": "6a593b9a-0b98-450e-b326-1124472df603",
   "metadata": {},
   "source": [
    "This array is REALLU BIG. Mostly because the NDVI feature is a float and is making the whole array into a float. Maybe rescale the NDVI to make it uint16? Not sure if this would affect the model's predictions."
   ]
  },
  {
   "cell_type": "markdown",
   "id": "91de9131-8994-4695-be87-b98f6f4ac4d4",
   "metadata": {},
   "source": [
    "# Make dask data array of pixel values from NAIP scene raster"
   ]
  },
  {
   "cell_type": "code",
   "execution_count": null,
   "id": "933ef0a6-3da2-4e38-9dce-68a83c96f035",
   "metadata": {},
   "outputs": [],
   "source": [
    "da_pixels = da.from_array(np.array(df), chunks=728802)\n",
    "da_pixels"
   ]
  },
  {
   "cell_type": "markdown",
   "id": "66ceb00b-1fce-4575-82ed-7439da18dcc3",
   "metadata": {},
   "source": [
    "# Predict using dask"
   ]
  },
  {
   "cell_type": "code",
   "execution_count": null,
   "id": "171e2ead-6436-4c76-b425-62083da404f8",
   "metadata": {},
   "outputs": [],
   "source": [
    "cluster = dask_gateway.GatewayCluster()\n",
    "client = cluster.get_client()\n",
    "#cluster.adapt(minimum=4, maximum=50)\n",
    "cluster.scale(30)\n",
    "client"
   ]
  },
  {
   "cell_type": "code",
   "execution_count": null,
   "id": "30757be7-09e0-4a0e-b5d7-d229a2d4a666",
   "metadata": {},
   "outputs": [],
   "source": [
    "scene_preds = rfc.predict(da_pixels)\n",
    "scene_preds"
   ]
  },
  {
   "cell_type": "code",
   "execution_count": null,
   "id": "c307c184-142c-47aa-b11e-58faa589c7e3",
   "metadata": {},
   "outputs": [],
   "source": [
    "t0 = time.time()\n",
    "preds = scene_preds.compute()\n",
    "print((time.time()-t0))"
   ]
  },
  {
   "cell_type": "markdown",
   "id": "6a68c48f-a5c0-4bfd-86a7-283b04e58718",
   "metadata": {},
   "source": [
    "# Convert predictions back to image"
   ]
  },
  {
   "cell_type": "code",
   "execution_count": null,
   "id": "81628d8e-6afd-4d6d-9ab3-089ec2121bb7",
   "metadata": {},
   "outputs": [],
   "source": [
    "shape = item.properties['proj:shape']\n",
    "with warnings.catch_warnings():\n",
    "    warnings.simplefilter(\"ignore\")\n",
    "    \n",
    "    nrows = shape[0]\n",
    "    ncols = shape[1]\n",
    "#    index = predictions_df[predictions_df.prediction == 1].index.to_numpy()\n",
    "    preds = ipf.preds_to_image_3labels(nrows, ncols, df.index, preds)\n",
    "    print('converted back to image')"
   ]
  },
  {
   "cell_type": "markdown",
   "id": "ad53cc4c-23b7-40fd-9717-c9767da5bee2",
   "metadata": {},
   "source": [
    "## Plot predictions if required"
   ]
  },
  {
   "cell_type": "code",
   "execution_count": null,
   "id": "3f98b27e-fea5-45f1-b375-b8f204a10624",
   "metadata": {},
   "outputs": [],
   "source": [
    "if plot_predictions == True:\n",
    "    fig, ax = plt.subplots(figsize=(15, 15))\n",
    "    plt.title(graph_title)\n",
    "    ax.imshow(preds)\n",
    "    plt.show()"
   ]
  },
  {
   "cell_type": "markdown",
   "id": "352f19f0-80d1-4268-b548-dfc7c668dc9a",
   "metadata": {},
   "source": [
    "## Save predictions if required"
   ]
  },
  {
   "cell_type": "code",
   "execution_count": null,
   "id": "db259ef5-3a7e-4c0d-bb11-80f32c5eec1f",
   "metadata": {},
   "outputs": [],
   "source": [
    "if save_raster == True:\n",
    "\n",
    "    rast = ipf.get_raster_from_item(item)\n",
    "    \n",
    "    with rasterio.open(\n",
    "        os.path.join(os.getcwd(),'temp',filename),  # file path\n",
    "        'w',           # w = write\n",
    "        driver = 'GTiff', # format\n",
    "        height = preds.shape[0], \n",
    "        width = preds.shape[1],\n",
    "        count = 1,  # number of raster bands in the dataset\n",
    "        dtype = rasterio.uint8,\n",
    "        crs = rast.crs,\n",
    "        transform = rast.transform,\n",
    "    ) as dst:\n",
    "        dst.write(preds.astype(rasterio.uint8), 1)"
   ]
  },
  {
   "cell_type": "code",
   "execution_count": null,
   "id": "19e99851-d424-479c-957e-f07a28687a8e",
   "metadata": {},
   "outputs": [],
   "source": [
    "print('total time:', time.time() - t_alpha )\n"
   ]
  },
  {
   "cell_type": "code",
   "execution_count": null,
   "id": "05f15cd7-f59b-422e-bfe0-f3dacb9b970b",
   "metadata": {},
   "outputs": [],
   "source": []
  }
 ],
 "metadata": {
  "kernelspec": {
   "display_name": "Python 3 (ipykernel)",
   "language": "python",
   "name": "python3"
  },
  "language_info": {
   "codemirror_mode": {
    "name": "ipython",
    "version": 3
   },
   "file_extension": ".py",
   "mimetype": "text/x-python",
   "name": "python",
   "nbconvert_exporter": "python",
   "pygments_lexer": "ipython3",
   "version": "3.8.13"
  }
 },
 "nbformat": 4,
 "nbformat_minor": 5
}
