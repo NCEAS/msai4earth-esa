{
 "cells": [
  {
   "cell_type": "code",
   "execution_count": 1,
   "id": "b6a16b75-1dfb-4240-b710-6eec22cd7e6e",
   "metadata": {},
   "outputs": [],
   "source": [
    "import os\n",
    "import time\n",
    "import pandas as pd\n",
    "import numpy as np\n",
    "import matplotlib.pyplot as plt\n",
    "\n",
    "from sklearn.model_selection import train_test_split\n",
    "from sklearn.ensemble import RandomForestClassifier\n",
    "\n",
    "import rasterio\n",
    "import geopandas as gpd\n",
    "\n",
    "from shapely.geometry import Polygon\n",
    "\n",
    "import iceplant_detection_functions as ipf\n",
    "import model_prep_and_evals as mpe\n",
    "\n",
    "import warnings\n",
    "import sys"
   ]
  },
  {
   "cell_type": "markdown",
   "id": "ca340e36-74c9-40a7-8210-60be4a68722f",
   "metadata": {},
   "source": [
    "https://jakevdp.github.io/PythonDataScienceHandbook/02.01-understanding-data-types.html"
   ]
  },
  {
   "cell_type": "markdown",
   "id": "c2e33c04-8fcc-4c16-bcf1-264ff8f81c16",
   "metadata": {},
   "source": [
    "## Create test/train set from samples"
   ]
  },
  {
   "cell_type": "code",
   "execution_count": 16,
   "id": "360cad6f-55cd-4a50-a77d-24fd7cff4697",
   "metadata": {},
   "outputs": [
    {
     "data": {
      "text/html": [
       "<div>\n",
       "<style scoped>\n",
       "    .dataframe tbody tr th:only-of-type {\n",
       "        vertical-align: middle;\n",
       "    }\n",
       "\n",
       "    .dataframe tbody tr th {\n",
       "        vertical-align: top;\n",
       "    }\n",
       "\n",
       "    .dataframe thead th {\n",
       "        text-align: right;\n",
       "    }\n",
       "</style>\n",
       "<table border=\"1\" class=\"dataframe\">\n",
       "  <thead>\n",
       "    <tr style=\"text-align: right;\">\n",
       "      <th></th>\n",
       "      <th>r</th>\n",
       "      <th>g</th>\n",
       "      <th>b</th>\n",
       "      <th>nir</th>\n",
       "      <th>ndvi</th>\n",
       "      <th>year</th>\n",
       "      <th>month</th>\n",
       "      <th>day_in_year</th>\n",
       "      <th>iceplant</th>\n",
       "      <th>geometry</th>\n",
       "      <th>x</th>\n",
       "      <th>y</th>\n",
       "      <th>aoi</th>\n",
       "      <th>naip_id</th>\n",
       "      <th>polygon_id</th>\n",
       "    </tr>\n",
       "  </thead>\n",
       "  <tbody>\n",
       "    <tr>\n",
       "      <th>0</th>\n",
       "      <td>134</td>\n",
       "      <td>125</td>\n",
       "      <td>103</td>\n",
       "      <td>170</td>\n",
       "      <td>0.118421</td>\n",
       "      <td>2012</td>\n",
       "      <td>5</td>\n",
       "      <td>126</td>\n",
       "      <td>1</td>\n",
       "      <td>POINT (238565.79498225075 3810768.627232482)</td>\n",
       "      <td>238565.794982</td>\n",
       "      <td>3.810769e+06</td>\n",
       "      <td>campus_lagoon</td>\n",
       "      <td>ca_m_3411934_sw_11_1_20120505_20120730</td>\n",
       "      <td>0</td>\n",
       "    </tr>\n",
       "    <tr>\n",
       "      <th>1</th>\n",
       "      <td>130</td>\n",
       "      <td>114</td>\n",
       "      <td>101</td>\n",
       "      <td>164</td>\n",
       "      <td>0.115646</td>\n",
       "      <td>2012</td>\n",
       "      <td>5</td>\n",
       "      <td>126</td>\n",
       "      <td>1</td>\n",
       "      <td>POINT (238553.15545424985 3810802.7926417096)</td>\n",
       "      <td>238553.155454</td>\n",
       "      <td>3.810803e+06</td>\n",
       "      <td>campus_lagoon</td>\n",
       "      <td>ca_m_3411934_sw_11_1_20120505_20120730</td>\n",
       "      <td>0</td>\n",
       "    </tr>\n",
       "    <tr>\n",
       "      <th>2</th>\n",
       "      <td>132</td>\n",
       "      <td>110</td>\n",
       "      <td>98</td>\n",
       "      <td>160</td>\n",
       "      <td>0.095890</td>\n",
       "      <td>2012</td>\n",
       "      <td>5</td>\n",
       "      <td>126</td>\n",
       "      <td>1</td>\n",
       "      <td>POINT (238552.77597268307 3810773.0767946127)</td>\n",
       "      <td>238552.775973</td>\n",
       "      <td>3.810773e+06</td>\n",
       "      <td>campus_lagoon</td>\n",
       "      <td>ca_m_3411934_sw_11_1_20120505_20120730</td>\n",
       "      <td>0</td>\n",
       "    </tr>\n",
       "  </tbody>\n",
       "</table>\n",
       "</div>"
      ],
      "text/plain": [
       "     r    g    b  nir      ndvi  year  month  day_in_year  iceplant  \\\n",
       "0  134  125  103  170  0.118421  2012      5          126         1   \n",
       "1  130  114  101  164  0.115646  2012      5          126         1   \n",
       "2  132  110   98  160  0.095890  2012      5          126         1   \n",
       "\n",
       "                                        geometry              x             y  \\\n",
       "0   POINT (238565.79498225075 3810768.627232482)  238565.794982  3.810769e+06   \n",
       "1  POINT (238553.15545424985 3810802.7926417096)  238553.155454  3.810803e+06   \n",
       "2  POINT (238552.77597268307 3810773.0767946127)  238552.775973  3.810773e+06   \n",
       "\n",
       "             aoi                                 naip_id  polygon_id  \n",
       "0  campus_lagoon  ca_m_3411934_sw_11_1_20120505_20120730           0  \n",
       "1  campus_lagoon  ca_m_3411934_sw_11_1_20120505_20120730           0  \n",
       "2  campus_lagoon  ca_m_3411934_sw_11_1_20120505_20120730           0  "
      ]
     },
     "execution_count": 16,
     "metadata": {},
     "output_type": "execute_result"
    }
   ],
   "source": [
    "samples_fp = os.path.join(os.getcwd(),'feature_selection','samples_for_model.csv')\n",
    "samples = pd.read_csv(os.path.join(os.getcwd(),'feature_selection','samples_for_model.csv'))\n",
    "samples.head(3)"
   ]
  },
  {
   "cell_type": "code",
   "execution_count": 17,
   "id": "42158d74-05ba-4e84-a784-60b12f50a6e5",
   "metadata": {},
   "outputs": [
    {
     "name": "stdout",
     "output_type": "stream",
     "text": [
      "<class 'numpy.int64'>\n"
     ]
    },
    {
     "data": {
      "text/plain": [
       "32"
      ]
     },
     "execution_count": 17,
     "metadata": {},
     "output_type": "execute_result"
    }
   ],
   "source": [
    "print(type(samples.r[0]))\n",
    "sys.getsizeof(samples.r[0])"
   ]
  },
  {
   "cell_type": "code",
   "execution_count": 42,
   "id": "febe984e-c553-4214-84d0-828d79712824",
   "metadata": {},
   "outputs": [
    {
     "data": {
      "text/plain": [
       "32"
      ]
     },
     "execution_count": 42,
     "metadata": {},
     "output_type": "execute_result"
    }
   ],
   "source": [
    "deep_getsizeof(samples.r[0],set())"
   ]
  },
  {
   "cell_type": "code",
   "execution_count": 18,
   "id": "46c23e6a-ae3d-4858-baf1-bec24bda9bd0",
   "metadata": {},
   "outputs": [
    {
     "name": "stdout",
     "output_type": "stream",
     "text": [
      "<class 'numpy.float64'>\n"
     ]
    },
    {
     "data": {
      "text/plain": [
       "32"
      ]
     },
     "execution_count": 18,
     "metadata": {},
     "output_type": "execute_result"
    }
   ],
   "source": [
    "print(type(samples.ndvi[0]))\n",
    "sys.getsizeof(samples.ndvi[0])"
   ]
  },
  {
   "cell_type": "code",
   "execution_count": 41,
   "id": "30114de9-9b4c-42f7-b9a0-325f140d63b4",
   "metadata": {},
   "outputs": [
    {
     "data": {
      "text/plain": [
       "32"
      ]
     },
     "execution_count": 41,
     "metadata": {},
     "output_type": "execute_result"
    }
   ],
   "source": [
    "deep_getsizeof(samples.ndvi[0],set())"
   ]
  },
  {
   "cell_type": "code",
   "execution_count": 20,
   "id": "81941fa6-cc44-49dc-9574-88a9f892e887",
   "metadata": {},
   "outputs": [],
   "source": [
    "train, test = mpe.test_train_aois_scenes(pd.read_csv(samples_fp))"
   ]
  },
  {
   "cell_type": "code",
   "execution_count": 21,
   "id": "7c2148a2-3bdb-4f24-8dbf-c1320c6435c6",
   "metadata": {},
   "outputs": [
    {
     "data": {
      "text/plain": [
       "array([[43, 51, 78, ..., 2012, 5, 126],\n",
       "       [65, 59, 84, ..., 2012, 5, 126],\n",
       "       [81, 86, 93, ..., 2012, 5, 126],\n",
       "       ...,\n",
       "       [84, 100, 71, ..., 2020, 5, 142],\n",
       "       [65, 77, 72, ..., 2020, 5, 142],\n",
       "       [87, 93, 84, ..., 2020, 5, 142]], dtype=object)"
      ]
     },
     "execution_count": 21,
     "metadata": {},
     "output_type": "execute_result"
    }
   ],
   "source": [
    "X_train = np.array(np.array(train.loc[:,'r':'day_in_year']))\n",
    "X_train"
   ]
  },
  {
   "cell_type": "code",
   "execution_count": 22,
   "id": "343a321d-529e-4738-a93a-94e34329f13d",
   "metadata": {},
   "outputs": [
    {
     "name": "stdout",
     "output_type": "stream",
     "text": [
      "43\n",
      "<class 'int'>\n"
     ]
    },
    {
     "data": {
      "text/plain": [
       "28"
      ]
     },
     "execution_count": 22,
     "metadata": {},
     "output_type": "execute_result"
    }
   ],
   "source": [
    "print(X_train[0,0])\n",
    "print(type((X_train[0,0])))\n",
    "sys.getsizeof(X_train[0,0])"
   ]
  },
  {
   "cell_type": "code",
   "execution_count": 23,
   "id": "1af51e26-1441-4c12-aea3-6acde7fc4ef9",
   "metadata": {},
   "outputs": [
    {
     "name": "stdout",
     "output_type": "stream",
     "text": [
      "0.3484848484848485\n",
      "<class 'float'>\n"
     ]
    },
    {
     "data": {
      "text/plain": [
       "24"
      ]
     },
     "execution_count": 23,
     "metadata": {},
     "output_type": "execute_result"
    }
   ],
   "source": [
    "print(X_train[0,4])\n",
    "print(type((X_train[0,4])))\n",
    "sys.getsizeof(X_train[0,4])"
   ]
  },
  {
   "cell_type": "code",
   "execution_count": null,
   "id": "75d5e010-484f-4c9d-a584-df90b7e616d0",
   "metadata": {},
   "outputs": [],
   "source": [
    "# X_test = np.array(np.array(test.loc[:,'r':'day_in_year']))\n",
    "# X_test"
   ]
  },
  {
   "cell_type": "code",
   "execution_count": null,
   "id": "ca94b466-64b8-43f1-ac43-3a44ad43b2df",
   "metadata": {},
   "outputs": [],
   "source": [
    "y_train = np.array(train['iceplant'])\n",
    "y_train"
   ]
  },
  {
   "cell_type": "code",
   "execution_count": null,
   "id": "fef7cdf4-f55c-40c6-9970-c478fa373970",
   "metadata": {},
   "outputs": [],
   "source": [
    "# y_test = np.array(test['iceplant'])\n",
    "# y_test"
   ]
  },
  {
   "cell_type": "code",
   "execution_count": null,
   "id": "9bc06825-3de4-4bbe-bef4-bde931fa5304",
   "metadata": {},
   "outputs": [],
   "source": [
    "mpe.iceplant_proportions(y_train)"
   ]
  },
  {
   "cell_type": "markdown",
   "id": "330914f3-36eb-47d3-82cd-54df9b7c0561",
   "metadata": {},
   "source": [
    "## Train model"
   ]
  },
  {
   "cell_type": "code",
   "execution_count": null,
   "id": "012a7329-b0e7-4f9f-83e3-cbbbec80efaa",
   "metadata": {},
   "outputs": [],
   "source": [
    "from dask_ml.wrappers import ParallelPostFit"
   ]
  },
  {
   "cell_type": "code",
   "execution_count": null,
   "id": "4f84a7d7-d0c6-4f33-9c26-a968cbac2cfc",
   "metadata": {},
   "outputs": [],
   "source": [
    "t0 = time.time()\n",
    "\n",
    "rfc = ParallelPostFit(RandomForestClassifier(n_estimators = 100, random_state = 42))\n",
    "rfc.fit(X_train, y_train)\n",
    "\n",
    "print('time to train: ', (time.time()-t0))"
   ]
  },
  {
   "cell_type": "code",
   "execution_count": null,
   "id": "a8951c12-5d1e-4a10-a2a2-b7ce51c1417c",
   "metadata": {},
   "outputs": [],
   "source": [
    "# predictions = rfc.predict(X_test)\n",
    "# mpe.print_threshold_metrics(y_test, predictions)"
   ]
  },
  {
   "cell_type": "code",
   "execution_count": 38,
   "id": "db9b361a-88e3-4816-8c41-c38ba8839843",
   "metadata": {},
   "outputs": [],
   "source": [
    "# https://code.tutsplus.com/tutorials/understand-how-much-memory-your-python-objects-use--cms-25609\n",
    "from collections.abc import Mapping, Container\n",
    "from sys import getsizeof\n",
    " \n",
    "def deep_getsizeof(o, ids):\n",
    "    \n",
    "    \"\"\"Find the memory footprint of a Python object\n",
    " \n",
    "    This is a recursive function that drills down a Python object graph\n",
    "    like a dictionary holding nested dictionaries with lists of lists\n",
    "    and tuples and sets.\n",
    " \n",
    "    The sys.getsizeof function does a shallow size of only. It counts each\n",
    "    object inside a container as pointer only regardless of how big it\n",
    "    really is.\n",
    " \n",
    "    :param o: the object\n",
    "    :param ids:\n",
    "    :return:\n",
    "    \"\"\"\n",
    "    d = deep_getsizeof\n",
    "    if id(o) in ids:\n",
    "        return 0\n",
    " \n",
    "    r = getsizeof(o)\n",
    "    ids.add(id(o))\n",
    " \n",
    "    if isinstance(o, str) or isinstance(0, str):\n",
    "        return r\n",
    " \n",
    "    if isinstance(o, Mapping):\n",
    "        return r + sum(d(k, ids) + d(v, ids) for k, v in o.iteritems())\n",
    " \n",
    "    if isinstance(o, Container):\n",
    "        return r + sum(d(x, ids) for x in o)\n",
    " \n",
    "    return r "
   ]
  },
  {
   "cell_type": "markdown",
   "id": "be3c043e-4db8-4562-9163-02d3477edb09",
   "metadata": {},
   "source": [
    "# Pre-process NAIP scene for prediction"
   ]
  },
  {
   "cell_type": "code",
   "execution_count": 2,
   "id": "f8326f3f-cabe-40da-9dfa-098b6609d6d4",
   "metadata": {},
   "outputs": [
    {
     "name": "stdout",
     "output_type": "stream",
     "text": [
      "time to retrieve itemid:  1.569197177886963\n"
     ]
    }
   ],
   "source": [
    "itemid = 'ca_m_3412037_nw_10_060_20200607'\n",
    "item = ipf.get_item_from_id(itemid)\n",
    "#scene = ipf.get_raster_from_item(item).read([1,2,3,4])"
   ]
  },
  {
   "cell_type": "markdown",
   "id": "1a93685b-c7f2-4328-a593-ad04ab452fed",
   "metadata": {},
   "source": [
    "## Data frame"
   ]
  },
  {
   "cell_type": "code",
   "execution_count": 3,
   "id": "678eefb1-c1fd-4dc1-b879-5e758e7f4ca8",
   "metadata": {
    "tags": []
   },
   "outputs": [
    {
     "data": {
      "text/html": [
       "<div>\n",
       "<style scoped>\n",
       "    .dataframe tbody tr th:only-of-type {\n",
       "        vertical-align: middle;\n",
       "    }\n",
       "\n",
       "    .dataframe tbody tr th {\n",
       "        vertical-align: top;\n",
       "    }\n",
       "\n",
       "    .dataframe thead th {\n",
       "        text-align: right;\n",
       "    }\n",
       "</style>\n",
       "<table border=\"1\" class=\"dataframe\">\n",
       "  <thead>\n",
       "    <tr style=\"text-align: right;\">\n",
       "      <th></th>\n",
       "      <th>r</th>\n",
       "      <th>g</th>\n",
       "      <th>b</th>\n",
       "      <th>nir</th>\n",
       "      <th>ndvi</th>\n",
       "      <th>year</th>\n",
       "      <th>month</th>\n",
       "      <th>day_in_year</th>\n",
       "    </tr>\n",
       "  </thead>\n",
       "  <tbody>\n",
       "    <tr>\n",
       "      <th>580</th>\n",
       "      <td>92</td>\n",
       "      <td>91</td>\n",
       "      <td>82</td>\n",
       "      <td>102</td>\n",
       "      <td>0.051546</td>\n",
       "      <td>2020</td>\n",
       "      <td>6</td>\n",
       "      <td>159</td>\n",
       "    </tr>\n",
       "    <tr>\n",
       "      <th>588</th>\n",
       "      <td>76</td>\n",
       "      <td>75</td>\n",
       "      <td>71</td>\n",
       "      <td>85</td>\n",
       "      <td>0.055901</td>\n",
       "      <td>2020</td>\n",
       "      <td>6</td>\n",
       "      <td>159</td>\n",
       "    </tr>\n",
       "    <tr>\n",
       "      <th>591</th>\n",
       "      <td>96</td>\n",
       "      <td>95</td>\n",
       "      <td>82</td>\n",
       "      <td>107</td>\n",
       "      <td>0.054187</td>\n",
       "      <td>2020</td>\n",
       "      <td>6</td>\n",
       "      <td>159</td>\n",
       "    </tr>\n",
       "  </tbody>\n",
       "</table>\n",
       "</div>"
      ],
      "text/plain": [
       "      r   g   b  nir      ndvi  year  month  day_in_year\n",
       "580  92  91  82  102  0.051546  2020      6          159\n",
       "588  76  75  71   85  0.055901  2020      6          159\n",
       "591  96  95  82  107  0.054187  2020      6          159"
      ]
     },
     "execution_count": 3,
     "metadata": {},
     "output_type": "execute_result"
    }
   ],
   "source": [
    "df = ipf.features_over_aoi(item, \n",
    "                           ipf.get_raster_from_item(item).read([1,2,3,4]), \n",
    "                           thresh=0.05)\n",
    "df.head(3)"
   ]
  },
  {
   "cell_type": "code",
   "execution_count": 33,
   "id": "12ab1c36-c82f-484a-81c0-7444147c97c9",
   "metadata": {},
   "outputs": [
    {
     "data": {
      "text/plain": [
       "1017036062"
      ]
     },
     "execution_count": 33,
     "metadata": {},
     "output_type": "execute_result"
    }
   ],
   "source": [
    "deep_getsizeof(df, set())/10**6"
   ]
  },
  {
   "cell_type": "code",
   "execution_count": 7,
   "id": "b0ab5f89-18fd-4daa-855a-0323b8ea4bb9",
   "metadata": {},
   "outputs": [
    {
     "data": {
      "text/plain": [
       "1017.03564"
      ]
     },
     "execution_count": 7,
     "metadata": {},
     "output_type": "execute_result"
    }
   ],
   "source": [
    "sys.getsizeof(df)/10**6"
   ]
  },
  {
   "cell_type": "code",
   "execution_count": 5,
   "id": "8e2d5215-a1e1-4e56-910a-939d43ad101c",
   "metadata": {},
   "outputs": [
    {
     "name": "stdout",
     "output_type": "stream",
     "text": [
      "<class 'numpy.uint8'>\n"
     ]
    },
    {
     "data": {
      "text/plain": [
       "25"
      ]
     },
     "execution_count": 5,
     "metadata": {},
     "output_type": "execute_result"
    }
   ],
   "source": [
    "print(type(df.r.iloc[0]))\n",
    "sys.getsizeof(df.r.iloc[0])"
   ]
  },
  {
   "cell_type": "code",
   "execution_count": 6,
   "id": "5b90f306-c2e6-4db3-ac54-495a8edd18c0",
   "metadata": {},
   "outputs": [
    {
     "name": "stdout",
     "output_type": "stream",
     "text": [
      "<class 'numpy.float64'>\n"
     ]
    },
    {
     "data": {
      "text/plain": [
       "32"
      ]
     },
     "execution_count": 6,
     "metadata": {},
     "output_type": "execute_result"
    }
   ],
   "source": [
    "print(type(df.ndvi.iloc[0]))\n",
    "sys.getsizeof(df.ndvi.iloc[0])"
   ]
  },
  {
   "cell_type": "markdown",
   "id": "9cd58f51-9304-4227-b783-b4338a7d0a92",
   "metadata": {},
   "source": [
    "## Naive np array"
   ]
  },
  {
   "cell_type": "code",
   "execution_count": 8,
   "id": "8666c4d2-4b3d-4782-85f8-a59eb92446b8",
   "metadata": {},
   "outputs": [],
   "source": [
    "pixels_raw = np.array(df)"
   ]
  },
  {
   "cell_type": "code",
   "execution_count": 9,
   "id": "d8ba4265-5569-4f86-901c-98898b856667",
   "metadata": {},
   "outputs": [
    {
     "data": {
      "text/plain": [
       "1479.324672"
      ]
     },
     "execution_count": 9,
     "metadata": {},
     "output_type": "execute_result"
    }
   ],
   "source": [
    "sys.getsizeof(pixels_raw)/10**6"
   ]
  },
  {
   "cell_type": "code",
   "execution_count": 37,
   "id": "51331036-8b13-4da6-a1f0-111db1dc56f7",
   "metadata": {},
   "outputs": [
    {
     "data": {
      "text/plain": [
       "1479.326128"
      ]
     },
     "execution_count": 37,
     "metadata": {},
     "output_type": "execute_result"
    }
   ],
   "source": [
    "deep_getsizeof(pixels_raw, set())/10**6"
   ]
  },
  {
   "cell_type": "code",
   "execution_count": 10,
   "id": "17becbf6-03d0-4f54-a3ef-8785f73ce510",
   "metadata": {},
   "outputs": [
    {
     "name": "stdout",
     "output_type": "stream",
     "text": [
      "<class 'numpy.float64'>\n"
     ]
    },
    {
     "data": {
      "text/plain": [
       "32"
      ]
     },
     "execution_count": 10,
     "metadata": {},
     "output_type": "execute_result"
    }
   ],
   "source": [
    "print(type(pixels_raw[0,0]))\n",
    "sys.getsizeof(pixels_raw[0,0])"
   ]
  },
  {
   "cell_type": "code",
   "execution_count": 11,
   "id": "08fe40d4-fb6b-45d7-90ad-e319015291fc",
   "metadata": {},
   "outputs": [
    {
     "name": "stdout",
     "output_type": "stream",
     "text": [
      "<class 'numpy.float64'>\n"
     ]
    },
    {
     "data": {
      "text/plain": [
       "32"
      ]
     },
     "execution_count": 11,
     "metadata": {},
     "output_type": "execute_result"
    }
   ],
   "source": [
    "print(type(pixels_raw[0,4]))\n",
    "sys.getsizeof(pixels_raw[0,4])"
   ]
  },
  {
   "cell_type": "markdown",
   "id": "e3b9bb92-d8ac-480e-aa26-854a7bebfe59",
   "metadata": {},
   "source": [
    "## Object type np array"
   ]
  },
  {
   "cell_type": "code",
   "execution_count": 12,
   "id": "0af1337c-32e5-49e4-81af-d61ee6f5d07a",
   "metadata": {},
   "outputs": [],
   "source": [
    "pixels_obj = np.array(df, dtype=object)"
   ]
  },
  {
   "cell_type": "code",
   "execution_count": 13,
   "id": "5805c16b-2749-4d42-b260-152e1fa369b1",
   "metadata": {},
   "outputs": [
    {
     "data": {
      "text/plain": [
       "1479.324672"
      ]
     },
     "execution_count": 13,
     "metadata": {},
     "output_type": "execute_result"
    }
   ],
   "source": [
    "sys.getsizeof(pixels_obj)/10**6"
   ]
  },
  {
   "cell_type": "code",
   "execution_count": 36,
   "id": "0bb40577-6a2f-4561-9026-4fddab8ab54f",
   "metadata": {},
   "outputs": [
    {
     "data": {
      "text/plain": [
       "1479.326192"
      ]
     },
     "execution_count": 36,
     "metadata": {},
     "output_type": "execute_result"
    }
   ],
   "source": [
    "deep_getsizeof(pixels_obj, set())/10**6"
   ]
  },
  {
   "cell_type": "code",
   "execution_count": 14,
   "id": "6027f9f2-78c8-4528-945b-8537da4a3d11",
   "metadata": {},
   "outputs": [
    {
     "name": "stdout",
     "output_type": "stream",
     "text": [
      "<class 'float'>\n"
     ]
    },
    {
     "data": {
      "text/plain": [
       "24"
      ]
     },
     "execution_count": 14,
     "metadata": {},
     "output_type": "execute_result"
    }
   ],
   "source": [
    "print(type(pixels_obj[0,0]))\n",
    "sys.getsizeof(pixels_obj[0,0])"
   ]
  },
  {
   "cell_type": "code",
   "execution_count": 15,
   "id": "5f1ab3d4-3e76-4da5-83ad-b912d3b123a6",
   "metadata": {},
   "outputs": [
    {
     "name": "stdout",
     "output_type": "stream",
     "text": [
      "<class 'float'>\n"
     ]
    },
    {
     "data": {
      "text/plain": [
       "24"
      ]
     },
     "execution_count": 15,
     "metadata": {},
     "output_type": "execute_result"
    }
   ],
   "source": [
    "print(type(pixels_obj[0,4]))\n",
    "sys.getsizeof(pixels_obj[0,4])"
   ]
  },
  {
   "cell_type": "code",
   "execution_count": null,
   "id": "db259ef5-3a7e-4c0d-bb11-80f32c5eec1f",
   "metadata": {},
   "outputs": [],
   "source": []
  }
 ],
 "metadata": {
  "kernelspec": {
   "display_name": "Python 3 (ipykernel)",
   "language": "python",
   "name": "python3"
  },
  "language_info": {
   "codemirror_mode": {
    "name": "ipython",
    "version": 3
   },
   "file_extension": ".py",
   "mimetype": "text/x-python",
   "name": "python",
   "nbconvert_exporter": "python",
   "pygments_lexer": "ipython3",
   "version": "3.8.13"
  }
 },
 "nbformat": 4,
 "nbformat_minor": 5
}
