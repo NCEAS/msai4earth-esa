{
 "cells": [
  {
   "cell_type": "code",
   "execution_count": null,
   "id": "b6a16b75-1dfb-4240-b710-6eec22cd7e6e",
   "metadata": {},
   "outputs": [],
   "source": [
    "import os\n",
    "import time\n",
    "import pandas as pd\n",
    "import numpy as np\n",
    "import matplotlib.pyplot as plt\n",
    "\n",
    "from sklearn.ensemble import RandomForestClassifier\n",
    "\n",
    "import rasterio\n",
    "import geopandas as gpd\n",
    "\n",
    "import iceplant_detection_functions as ipf\n",
    "import model_prep_and_evals as mpe\n",
    "\n",
    "import warnings\n",
    "\n",
    "import planetary_computer as pc\n",
    "import rioxarray as rioxr\n",
    "\n",
    "import gc # garbage collector\n",
    "\n",
    "import dask\n",
    "import dask_gateway\n",
    "import dask.array as da\n",
    "from dask_ml.wrappers import ParallelPostFit\n",
    "\n",
    "from shapely.geometry import Polygon"
   ]
  },
  {
   "cell_type": "markdown",
   "id": "c2e33c04-8fcc-4c16-bcf1-264ff8f81c16",
   "metadata": {},
   "source": [
    "# Import train set"
   ]
  },
  {
   "cell_type": "code",
   "execution_count": null,
   "id": "360cad6f-55cd-4a50-a77d-24fd7cff4697",
   "metadata": {},
   "outputs": [],
   "source": [
    "X_train = pd.read_csv(os.path.join(os.getcwd(),'data_sampling_workflow','train_set.csv')).loc[:,'r':'avg_lidar']\n",
    "y_train = pd.read_csv(os.path.join(os.getcwd(),'data_sampling_workflow','train_set.csv')).loc[:,'iceplant'] "
   ]
  },
  {
   "cell_type": "code",
   "execution_count": null,
   "id": "bb867190-a4ea-4ded-84f2-a4ea6ec085a2",
   "metadata": {},
   "outputs": [],
   "source": [
    "X_train = X_train.drop(['lidar','max_lidar','min_lidar','min_max_diff','avg_lidar'],axis=1)\n",
    "X_train.head(3)"
   ]
  },
  {
   "cell_type": "markdown",
   "id": "330914f3-36eb-47d3-82cd-54df9b7c0561",
   "metadata": {},
   "source": [
    "## Train model"
   ]
  },
  {
   "cell_type": "code",
   "execution_count": null,
   "id": "4f84a7d7-d0c6-4f33-9c26-a968cbac2cfc",
   "metadata": {},
   "outputs": [],
   "source": [
    "t0 = time.time()\n",
    "\n",
    "rfc = ParallelPostFit(RandomForestClassifier(n_estimators = 100, random_state = 42))\n",
    "rfc.fit(X_train, y_train)\n",
    "\n",
    "print('time to train: ', (time.time()-t0))"
   ]
  },
  {
   "cell_type": "markdown",
   "id": "23984c2d-3c74-47bb-83be-013fcdfdef35",
   "metadata": {},
   "source": [
    "# Probabilities over aoi\n",
    "\n",
    "## Specify aoi"
   ]
  },
  {
   "cell_type": "code",
   "execution_count": null,
   "id": "507cd22c-b248-4f2f-abf9-1948550a53c3",
   "metadata": {},
   "outputs": [],
   "source": [
    "aois = gpd.read_file(os.path.join(os.getcwd(),'areas_of_interest','areas_of_interest.shp'))\n",
    "aois"
   ]
  },
  {
   "cell_type": "code",
   "execution_count": null,
   "id": "388d1e68-ac3f-48cf-9370-c3ef1c0e7514",
   "metadata": {},
   "outputs": [],
   "source": [
    "# Fields next to Goleta Slough\n",
    "reduce_box = Polygon([[-119.8284196946,34.4162731913],\n",
    "                       [-119.8101541026,34.4162731913],\n",
    "                       [-119.8101541026,34.4353838099],\n",
    "                       [-119.8284196946,34.4353838099],\n",
    "                       [-119.8284196946,34.4162731913]])"
   ]
  },
  {
   "cell_type": "code",
   "execution_count": null,
   "id": "8f2f93fb-4e9a-4bcd-8aa5-4a8f504ffd57",
   "metadata": {},
   "outputs": [],
   "source": [
    "aoi = aois.iloc[4] # Campus Lagoon aoi\n",
    "itemid = aoi.itemid_12\n",
    "geometry = reduce_box\n",
    "image = ipf.open_window_in_scene(itemid, geometry)"
   ]
  },
  {
   "cell_type": "code",
   "execution_count": null,
   "id": "054f8bf9-b32b-43e7-af19-541fd8cbe23f",
   "metadata": {},
   "outputs": [],
   "source": [
    "save_raster = True\n",
    "year = 2012\n",
    "aoi = 'goleta_fields'\n",
    "filename = 'SPECTRAL_'+aoi+'_'+str(year)+'_probabilities.tif'"
   ]
  },
  {
   "cell_type": "markdown",
   "id": "be3c043e-4db8-4562-9163-02d3477edb09",
   "metadata": {},
   "source": [
    "## Add features for prediction"
   ]
  },
  {
   "cell_type": "code",
   "execution_count": null,
   "id": "6d277966-46d2-4eaf-a9bf-e494a2730d74",
   "metadata": {},
   "outputs": [],
   "source": [
    "veg_df = ipf.features_over_aoi(ipf.get_item_from_id(itemid), \n",
    "                           image, \n",
    "                           thresh=0.05)\n",
    "veg_df.head(3)"
   ]
  },
  {
   "cell_type": "markdown",
   "id": "4bdf3578-da43-4bf4-9685-f0fde8953689",
   "metadata": {},
   "source": [
    "## Calculate probabilities"
   ]
  },
  {
   "cell_type": "code",
   "execution_count": null,
   "id": "1f1b403e-1896-4f49-92d4-27d891077caf",
   "metadata": {},
   "outputs": [],
   "source": [
    "scene_probs = rfc.predict_proba(veg_df.to_numpy())\n",
    "scene_probs"
   ]
  },
  {
   "cell_type": "markdown",
   "id": "a857f47b-eaa0-4c17-bf7a-fd2dceff533d",
   "metadata": {},
   "source": [
    "## Assemble dataframe with iceplant and non-iceplant probabilities"
   ]
  },
  {
   "cell_type": "code",
   "execution_count": null,
   "id": "14b14f07-6d1e-416c-9478-1942d91b932d",
   "metadata": {},
   "outputs": [],
   "source": [
    "ip_probs = np.reshape(scene_probs, scene_probs.shape[0]*2)[1::2] * 100\n",
    "ip_probs = ip_probs.astype('int16')\n",
    "#np.unique(ip_probs)"
   ]
  },
  {
   "cell_type": "code",
   "execution_count": null,
   "id": "05f15cd7-f59b-422e-bfe0-f3dacb9b970b",
   "metadata": {},
   "outputs": [],
   "source": [
    "ip_probs"
   ]
  },
  {
   "cell_type": "code",
   "execution_count": null,
   "id": "29ef7175-ad20-41c1-8c32-b6218dc93d44",
   "metadata": {},
   "outputs": [],
   "source": [
    "nonip_probs = np.reshape(scene_probs, scene_probs.shape[0]*2)[::2] * 100\n",
    "nonip_probs = nonip_probs.astype('int16')\n",
    "#np.unique(nonip_probs)"
   ]
  },
  {
   "cell_type": "code",
   "execution_count": null,
   "id": "e81d9198-e9b8-4742-9260-a5cd1f63d386",
   "metadata": {},
   "outputs": [],
   "source": [
    "nonip_probs"
   ]
  },
  {
   "cell_type": "code",
   "execution_count": null,
   "id": "766f6002-85ae-42dd-b25a-73109e27d35d",
   "metadata": {},
   "outputs": [],
   "source": [
    "d = {'ip_prob': ip_probs,\n",
    "     'non_ip_prob' : nonip_probs}\n",
    "probs_df = pd.DataFrame(data = d)\n",
    "probs_df"
   ]
  },
  {
   "cell_type": "code",
   "execution_count": null,
   "id": "29e5345c-ed5e-4af9-a5ce-c6b5bd21748c",
   "metadata": {},
   "outputs": [],
   "source": [
    "x = probs_df.ip_prob + probs_df.non_ip_prob\n",
    "x.unique()"
   ]
  },
  {
   "cell_type": "markdown",
   "id": "b280918f-88cc-45e3-8747-5d240545a3ed",
   "metadata": {},
   "source": [
    "## Reconstruct iceplant probs into raster"
   ]
  },
  {
   "cell_type": "code",
   "execution_count": null,
   "id": "ed51a60f-bef5-45b9-a0b7-11043e02cd24",
   "metadata": {},
   "outputs": [],
   "source": [
    "def probs_backto_image(nrows, ncols, index, probs):\n",
    "    reconstruct = np.zeros((nrows,ncols))\n",
    "    m=0\n",
    "    for n in index:\n",
    "        if probs[m]!=0:\n",
    "            i = int(n / ncols)\n",
    "            j = n % ncols\n",
    "            reconstruct[i][j] = probs[m]\n",
    "        m = m+1\n",
    "    return reconstruct"
   ]
  },
  {
   "cell_type": "code",
   "execution_count": null,
   "id": "2d8ce3fc-2191-4b23-948a-fcb56a4bdd7c",
   "metadata": {},
   "outputs": [],
   "source": [
    "probs_image = probs_backto_image(image.shape[1], image.shape[2], veg_df.index, ip_probs)"
   ]
  },
  {
   "cell_type": "code",
   "execution_count": null,
   "id": "b1d1abc3-4cee-47bd-8a18-e03a4d80e0e3",
   "metadata": {},
   "outputs": [],
   "source": [
    "fig, ax = plt.subplots(figsize=(15, 15))\n",
    "plt.title(\"PREDICTIONS : 2020 whole naip scene\")\n",
    "ax.imshow(probs_image)\n",
    "plt.show()"
   ]
  },
  {
   "cell_type": "code",
   "execution_count": null,
   "id": "6031d7a0-80f5-4e89-8182-1e7fe6e3dc3a",
   "metadata": {},
   "outputs": [],
   "source": [
    "def small_raster(itemid, reduce_box):\n",
    "    item = ipf.get_item_from_id(itemid)\n",
    "    href = pc.sign(item.assets[\"image\"].href)\n",
    "    \n",
    "    rast = rioxr.open_rasterio(href)\n",
    "    \n",
    "    reduce = gpd.GeoDataFrame({'geometry':[reduce_box]}, crs=\"EPSG:4326\")\n",
    "    reduce = reduce.to_crs(rast.rio.crs)    \n",
    "    \n",
    "    rast_small = rast.rio.clip_box(*reduce.total_bounds)\n",
    "    return rast_small"
   ]
  },
  {
   "cell_type": "code",
   "execution_count": null,
   "id": "14303cf7-2e6e-4af9-bd84-71b08db123eb",
   "metadata": {},
   "outputs": [],
   "source": [
    "# save if necessary\n",
    "\n",
    "if save_raster == True:\n",
    "    \n",
    "    small = small_raster(itemid,  geometry)\n",
    "    \n",
    "    with rasterio.open(\n",
    "        os.path.join(os.getcwd(),'temp',filename),  # file path\n",
    "        'w',           # w = write\n",
    "        driver='GTiff', # format\n",
    "        height = probs_image.shape[0], \n",
    "        width = probs_image.shape[1],\n",
    "        count = 1,  # number of raster bands in the dataset\n",
    "        dtype = rasterio.uint8,\n",
    "        crs = small.rio.crs,\n",
    "        transform = small.rio.transform(),\n",
    "    ) as dst:\n",
    "        dst.write(probs_image.astype(rasterio.uint8), 1)"
   ]
  },
  {
   "cell_type": "code",
   "execution_count": null,
   "id": "c503cbe5-8ae4-41b3-b433-8f495615340c",
   "metadata": {},
   "outputs": [],
   "source": []
  }
 ],
 "metadata": {
  "kernelspec": {
   "display_name": "Python 3 (ipykernel)",
   "language": "python",
   "name": "python3"
  },
  "language_info": {
   "codemirror_mode": {
    "name": "ipython",
    "version": 3
   },
   "file_extension": ".py",
   "mimetype": "text/x-python",
   "name": "python",
   "nbconvert_exporter": "python",
   "pygments_lexer": "ipython3",
   "version": "3.8.13"
  }
 },
 "nbformat": 4,
 "nbformat_minor": 5
}
