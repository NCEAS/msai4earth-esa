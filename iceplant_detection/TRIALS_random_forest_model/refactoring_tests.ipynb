{
 "cells": [
  {
   "cell_type": "code",
   "execution_count": 1,
   "id": "513edea3-6e10-48cc-b6f2-57fd65628e09",
   "metadata": {
    "tags": []
   },
   "outputs": [],
   "source": [
    "import os\n",
    "import pandas as pd\n",
    "import numpy as np\n",
    "import matplotlib.pyplot as plt\n",
    "\n",
    "import time\n",
    "\n",
    "import rasterio\n",
    "import rioxarray as rioxr\n",
    "import geopandas as gpd\n",
    "\n",
    "import planetary_computer as pc\n",
    "\n",
    "from shapely.geometry import Polygon\n",
    "\n",
    "import data_sampling_workflow.utility as utility"
   ]
  },
  {
   "cell_type": "code",
   "execution_count": 2,
   "id": "03529bdd-7b27-4fd9-91b0-a38c92becdd3",
   "metadata": {},
   "outputs": [],
   "source": [
    "import iceplant_detection_functions as ipf\n",
    "import refactoring_modules as rm"
   ]
  },
  {
   "cell_type": "code",
   "execution_count": null,
   "id": "1965fc23-f442-4606-ae6b-bd55a2afd881",
   "metadata": {},
   "outputs": [],
   "source": [
    "itemid = 'ca_m_3411934_sw_11_060_20200521'\n",
    "# Fields next to Goleta Slough\n",
    "reduce_box = Polygon([[-119.8284196946,34.4162731913],\n",
    "                       [-119.8101541026,34.4162731913],\n",
    "                       [-119.8101541026,34.4353838099],\n",
    "                       [-119.8284196946,34.4353838099],\n",
    "                       [-119.8284196946,34.4162731913]])\n",
    "\n",
    "reduce_box_crs=\"EPSG:4326\""
   ]
  },
  {
   "cell_type": "code",
   "execution_count": null,
   "id": "69edf7d8-e5f7-44d0-83cb-f04a1fd1358b",
   "metadata": {},
   "outputs": [],
   "source": [
    "item = utility.get_item_from_id(itemid)\n",
    "item.datetime"
   ]
  },
  {
   "cell_type": "code",
   "execution_count": null,
   "id": "16faca10-e53b-42d8-a478-12f4545f5708",
   "metadata": {},
   "outputs": [],
   "source": [
    "type(item.datetime)"
   ]
  },
  {
   "cell_type": "code",
   "execution_count": null,
   "id": "79f1e8dd-166a-4a34-9d59-14f67ead7124",
   "metadata": {},
   "outputs": [],
   "source": [
    "type(item.datetime.date())"
   ]
  },
  {
   "cell_type": "code",
   "execution_count": null,
   "id": "182055a8-1725-4e2f-b525-fcbe3dfb4c6b",
   "metadata": {},
   "outputs": [],
   "source": [
    "rast = rm.rioxr_from_itemid(itemid)\n",
    "rast"
   ]
  },
  {
   "cell_type": "code",
   "execution_count": null,
   "id": "4a835915-366c-46b5-9e16-68ec79567b84",
   "metadata": {},
   "outputs": [],
   "source": [
    "rast.attrs['datetime'] == item.datetime"
   ]
  },
  {
   "cell_type": "code",
   "execution_count": null,
   "id": "0c61adc6-bd2d-40d7-9734-9b9c35900a03",
   "metadata": {},
   "outputs": [],
   "source": [
    "type(rast)"
   ]
  },
  {
   "cell_type": "code",
   "execution_count": null,
   "id": "e7f2094c-6434-449d-9d61-1808a69fe368",
   "metadata": {},
   "outputs": [],
   "source": [
    "rast.rio.crs"
   ]
  },
  {
   "cell_type": "code",
   "execution_count": null,
   "id": "7ad7a7d1-8309-403a-948d-c66f3aa48a71",
   "metadata": {},
   "outputs": [],
   "source": [
    "rast.rio.transform()"
   ]
  },
  {
   "cell_type": "code",
   "execution_count": null,
   "id": "b040911d-4f2f-4309-97a5-c2e84225e35e",
   "metadata": {},
   "outputs": [],
   "source": [
    "rast_small = rioxr_from_itemid(itemid, reduce_box, reduce_box_crs)\n",
    "rast_small"
   ]
  },
  {
   "cell_type": "code",
   "execution_count": null,
   "id": "2f7d74bc-8135-41ef-81d8-999016a99610",
   "metadata": {},
   "outputs": [],
   "source": [
    "rast_small.rio.crs"
   ]
  },
  {
   "cell_type": "code",
   "execution_count": null,
   "id": "1049d93b-6628-46f0-88fe-fd2e4bd98f87",
   "metadata": {},
   "outputs": [],
   "source": [
    "rast_small.rio.transform()"
   ]
  },
  {
   "cell_type": "code",
   "execution_count": null,
   "id": "1358e2d6-2485-466a-a0c8-1441e93c6e64",
   "metadata": {},
   "outputs": [],
   "source": [
    "pixels = rm.raster_as_df(rast.to_numpy(),  ['r','g','b','nir'])"
   ]
  },
  {
   "cell_type": "code",
   "execution_count": null,
   "id": "c2ebadc0-a077-4f0c-87cb-366d9483d2f6",
   "metadata": {},
   "outputs": [],
   "source": [
    "type(pixels)"
   ]
  },
  {
   "cell_type": "code",
   "execution_count": null,
   "id": "76afa2f6-a7c1-4135-8849-5438d917721f",
   "metadata": {},
   "outputs": [],
   "source": [
    "# ***************************************************************************************************\n",
    "# ***************************************************************************************************\n",
    "\n",
    "def normalized_difference_index(df, *args):\n",
    "    m = args[0]\n",
    "    n = args[1]\n",
    "    \n",
    "    x = df.iloc[:, m].astype('int16')  \n",
    "    y = df.iloc[:, n].astype('int16')\n",
    "    return (x-y) / (x+y)"
   ]
  },
  {
   "cell_type": "code",
   "execution_count": null,
   "id": "34290968-1b64-47e9-a1f7-9f7ce22f66ff",
   "metadata": {},
   "outputs": [],
   "source": [
    "ndvi = normalized_difference_index(pixels,3,0)\n",
    "ndvi"
   ]
  },
  {
   "cell_type": "code",
   "execution_count": null,
   "id": "b6d4ac80-d902-42df-8115-84452b98ab8a",
   "metadata": {},
   "outputs": [],
   "source": [
    "# ***************************************************************************************************\n",
    "# ***************************************************************************************************\n",
    "\n",
    "def feature_df_treshold(df, feature_name, thresh, keep_gr, func, *args):\n",
    "    \n",
    "    df[feature_name] = func(df, *args)\n",
    "    \n",
    "    if keep_gr == True:\n",
    "        keep = df[df[feature_name] > thresh]\n",
    "        deleted_indices = df[df[feature_name] <= thresh].index\n",
    "    else : \n",
    "        keep = df[df[feature_name] < thresh]\n",
    "        deleted_indices = df[df[feature_name] >= thresh].index\n",
    "        \n",
    "    deleted_indices = deleted_indices.to_numpy()\n",
    "    \n",
    "    return keep, deleted_indices"
   ]
  },
  {
   "cell_type": "code",
   "execution_count": null,
   "id": "44f15692-3c8b-41d3-9fe8-b0f0c0f74884",
   "metadata": {},
   "outputs": [],
   "source": [
    "not_water, water_index = feature_df_treshold(pixels, 'ndwi', 0.3, False, normalized_difference_index, 1,3)"
   ]
  },
  {
   "cell_type": "code",
   "execution_count": null,
   "id": "e78306c1-f82c-43d5-950b-c2e25e4a74fa",
   "metadata": {},
   "outputs": [],
   "source": [
    "is_veg, non_veg_index = feature_df_treshold(not_water, 'ndvi', 0.05, True, normalized_difference_index, 3,0)"
   ]
  },
  {
   "cell_type": "code",
   "execution_count": null,
   "id": "c1191dd5-397e-4e0c-b3ca-645c5fa08613",
   "metadata": {},
   "outputs": [],
   "source": [
    "is_veg"
   ]
  },
  {
   "cell_type": "code",
   "execution_count": null,
   "id": "32e0633b-2986-479c-8f04-148b79f4f749",
   "metadata": {},
   "outputs": [],
   "source": [
    "water_index"
   ]
  },
  {
   "cell_type": "code",
   "execution_count": null,
   "id": "401d4937-dd37-45d4-9c82-ab447edac813",
   "metadata": {},
   "outputs": [],
   "source": [
    "non_veg_index"
   ]
  },
  {
   "cell_type": "code",
   "execution_count": null,
   "id": "255d5c4b-dc85-4174-9843-3dd67ce71f40",
   "metadata": {},
   "outputs": [],
   "source": [
    "def indices_to_image(nrows, ncols, indices_list, values, back_value):\n",
    "    # background, any pixel not in the union of indices will be given this value\n",
    "    reconstruct = np.ones((nrows,ncols))*back_value \n",
    "\n",
    "    # TO DO: check indices list and values lengths are the same?\n",
    "    for k in range(0,len(indices_list)):\n",
    "        i = indices_list[k] / ncols\n",
    "        i = i.astype(int)\n",
    "        j = indices_list[k] % ncols\n",
    "        reconstruct[i,j] = values[k]\n",
    "    \n",
    "    return reconstruct"
   ]
  },
  {
   "cell_type": "code",
   "execution_count": null,
   "id": "92e91048-ca15-4fca-a25b-08e0b67aa01d",
   "metadata": {},
   "outputs": [],
   "source": [
    "reconstruct = indices_to_image(12500, 10580, [water_index, non_veg_index], [3,2], back_value=1)"
   ]
  },
  {
   "cell_type": "code",
   "execution_count": null,
   "id": "b7b8cbb2-c04a-45db-b2fc-09c8fd4124ca",
   "metadata": {},
   "outputs": [],
   "source": [
    "utility.save_raster(reconstruct, \n",
    "                    os.getcwd()+'/trial.tif', \n",
    "                    (rast.shape[1],rast.shape[2]), \n",
    "                    1, \n",
    "                    rast.rio.crs, \n",
    "                    rast.rio.transform(), 'int16' )\n"
   ]
  },
  {
   "cell_type": "code",
   "execution_count": null,
   "id": "5a7e5f7e-9ed4-45ee-8245-acc7bac841b3",
   "metadata": {},
   "outputs": [],
   "source": [
    "# ***************************************************************************************************\n",
    "# ***************************************************************************************************\n",
    "\n",
    "def add_date_features(df, date): \n",
    "    kwargs = {'year' : date.year,\n",
    "             'month' : date.month,\n",
    "             'day_in_year' : utility.day_in_year(date.day, date.month, date.year)}\n",
    "    \n",
    "    return df.assign(**kwargs)"
   ]
  },
  {
   "cell_type": "code",
   "execution_count": null,
   "id": "2f0625f3-c22e-4682-9265-1b2a64a76185",
   "metadata": {},
   "outputs": [],
   "source": [
    "is_veg = add_date_features(pixels, rast.attrs['datetime'])"
   ]
  },
  {
   "cell_type": "code",
   "execution_count": null,
   "id": "a35d5b6e-340a-487c-bc1a-73e74d7deb7e",
   "metadata": {},
   "outputs": [],
   "source": [
    "is_veg"
   ]
  },
  {
   "cell_type": "code",
   "execution_count": null,
   "id": "c3a1bb30-b31f-4d08-9db5-0440f1667b74",
   "metadata": {},
   "outputs": [],
   "source": [
    "# TO DO: figure out warning about setting values on copy"
   ]
  },
  {
   "cell_type": "markdown",
   "id": "707a12d3-3868-43aa-979b-ac85d8a7c091",
   "metadata": {},
   "source": [
    "TIMING OLD VS NEW"
   ]
  },
  {
   "cell_type": "code",
   "execution_count": null,
   "id": "7af9bbdc-f698-4153-87c1-c799f76253de",
   "metadata": {},
   "outputs": [],
   "source": [
    "# # ORIGINAL METHOD\n",
    "\n",
    "# itemid = 'ca_m_3411934_sw_11_060_20200521'\n",
    "# t0 = time.time()\n",
    "# item = utility.get_item_from_id(itemid)\n",
    "\n",
    "# df = ipf.features_over_aoi(item, \n",
    "#                            utility.get_raster_from_item(item).read([1,2,3,4]), \n",
    "#                            thresh=0.05)\n",
    "# print('time to make features df: ', (time.time()-t0))\n",
    "# # memory 2.14 GB\n",
    "# # time to make features df:  13.830940961837769"
   ]
  },
  {
   "cell_type": "code",
   "execution_count": null,
   "id": "45fe0fe8-4de1-4f08-b755-c98b22418cba",
   "metadata": {},
   "outputs": [],
   "source": [
    "# def add_spectral_features(df, ndwi_thresh, ndvi_thresh):\n",
    "    \n",
    "#     not_water, water_index = rm.feature_df_treshold(df, \n",
    "#                                              'ndwi', ndwi_thresh, False, \n",
    "#                                              rm.normalized_difference_index, 1,3)   \n",
    "#     is_veg, not_veg_index = rm.feature_df_treshold(not_water, \n",
    "#                                                    'ndvi', ndvi_thresh, True, \n",
    "#                                                    rm.normalized_difference_index, 3,0)\n",
    "#     return is_veg, water_index, not_veg_index\n"
   ]
  },
  {
   "cell_type": "code",
   "execution_count": null,
   "id": "fd8d5bfb-f674-43cc-b47f-0f685d89f8dd",
   "metadata": {},
   "outputs": [],
   "source": [
    "itemid = 'ca_m_3411934_sw_11_060_20200521'\n",
    "\n",
    "t0 = time.time()\n",
    "raster = rm.rioxr_from_itemid(itemid)\n",
    "\n",
    "is_veg, water_index, not_veg_index = rm.add_spectral_features(df = rm.raster_as_df(raster.to_numpy(), ['r','g','b','nir']), \n",
    "                                                           ndwi_thresh = 0.3, \n",
    "                                                           ndvi_thresh = 0.05) \n",
    "is_veg.drop('ndwi', axis=1, inplace=True)\n",
    "\n",
    "\n",
    "is_veg = rm.add_date_features(is_veg, raster.datetime)\n",
    "\n",
    "print('time to make features df: ', (time.time()-t0))\n",
    "# time to make features df:  19.167106866836548\n",
    "# memory usage after: 3.43 GB"
   ]
  },
  {
   "cell_type": "markdown",
   "id": "a61ba110-a1c9-4bc4-b04d-e8aade0be653",
   "metadata": {},
   "source": [
    "# SAVING MODEL"
   ]
  },
  {
   "cell_type": "code",
   "execution_count": 10,
   "id": "973422be-a0b4-4b54-bb3c-8e1c53058913",
   "metadata": {},
   "outputs": [],
   "source": [
    "import model_prep_and_evals as mpe"
   ]
  },
  {
   "cell_type": "code",
   "execution_count": 3,
   "id": "23fd9408-d6da-4a1f-a320-b76f7cc9249d",
   "metadata": {},
   "outputs": [],
   "source": [
    "# select features from r (Red band) to avg_lidar\n",
    "# excludes x,y, pts_crs, aoi, naip_id, polygon_id, iceplant and lidar features\n",
    "X_train = pd.read_csv(os.path.join(os.getcwd(),'data_sampling_workflow','train_set.csv')).loc[:,'r':'day_in_year']\n",
    "\n",
    "# select iceplant feature column\n",
    "y_train = pd.read_csv(os.path.join(os.getcwd(),'data_sampling_workflow','train_set.csv')).loc[:,'iceplant'] "
   ]
  },
  {
   "cell_type": "code",
   "execution_count": 9,
   "id": "15f1b74e-493f-4284-a40d-b86cf584b638",
   "metadata": {},
   "outputs": [],
   "source": [
    "# select test features and labels\n",
    "X_test = pd.read_csv(os.path.join(os.getcwd(),'data_sampling_workflow','test_set.csv')).loc[:,'r':'day_in_year']\n",
    "y_test = pd.read_csv(os.path.join(os.getcwd(),'data_sampling_workflow','test_set.csv')).loc[:,'iceplant'] "
   ]
  },
  {
   "cell_type": "code",
   "execution_count": 4,
   "id": "ea857854-602a-4bbf-930a-bbddb9ba1160",
   "metadata": {},
   "outputs": [],
   "source": [
    "from sklearn.ensemble import RandomForestClassifier"
   ]
  },
  {
   "cell_type": "code",
   "execution_count": 5,
   "id": "0fa2e436-5053-4fb9-acf5-531aef61de6a",
   "metadata": {},
   "outputs": [
    {
     "data": {
      "text/plain": [
       "RandomForestClassifier(random_state=42)"
      ]
     },
     "execution_count": 5,
     "metadata": {},
     "output_type": "execute_result"
    }
   ],
   "source": [
    "rfc = RandomForestClassifier(n_estimators = 100, \n",
    "                                             random_state = 42)\n",
    "rfc.fit(X_train, y_train)"
   ]
  },
  {
   "cell_type": "code",
   "execution_count": 11,
   "id": "0d894a0d-1519-4501-bbfb-3a8d8736b252",
   "metadata": {},
   "outputs": [
    {
     "name": "stdout",
     "output_type": "stream",
     "text": [
      "\n",
      "true negatives: 91504     false positives: 2336\n",
      "false negatives: 2478     true positives: 50514\n",
      "\n",
      "sensitivity (TP/P): 95.32 %\n",
      "specificity (TN/N): 97.51 %\n",
      "G-mean:  0.96\n",
      "\n",
      "precision (TP/(TP+FP)): 95.58 %\n",
      "\n",
      "MCC:  0.9288885758749532\n",
      "\n",
      "F1-measure:  0.95452\n",
      "F0.5-measure (min false positives):  0.95529\n",
      "F2-measure (min false negatives)  :  0.95375\n",
      "\n",
      "accuracy: 96.72 %\n",
      "\n"
     ]
    }
   ],
   "source": [
    "predictions = rfc.predict(X_test)\n",
    "mpe.print_threshold_metrics(y_test, predictions)"
   ]
  },
  {
   "cell_type": "markdown",
   "id": "db60733c-64af-4098-b858-e2cb68d911c5",
   "metadata": {},
   "source": [
    "https://scikit-learn.org/stable/model_persistence.html\n",
    "In order to rebuild a similar model with future versions of scikit-learn, additional metadata should be saved along the pickled model:\n",
    "\n",
    "- The training data, e.g. a reference to an immutable snapshot\n",
    "- The python source code used to generate the model\n",
    "- The versions of scikit-learn and its dependencies\n",
    "- The cross validation score obtained on the training data"
   ]
  },
  {
   "cell_type": "code",
   "execution_count": 6,
   "id": "435adf55-c13d-41bb-9626-31df1769cc28",
   "metadata": {},
   "outputs": [],
   "source": [
    "from joblib import dump, load"
   ]
  },
  {
   "cell_type": "code",
   "execution_count": 7,
   "id": "a42a45f6-5da6-48f4-8cd4-00293446a781",
   "metadata": {},
   "outputs": [
    {
     "data": {
      "text/plain": [
       "['rfc_trial.joblib']"
      ]
     },
     "execution_count": 7,
     "metadata": {},
     "output_type": "execute_result"
    }
   ],
   "source": [
    "dump(rfc, 'rfc_trial.joblib')"
   ]
  },
  {
   "cell_type": "code",
   "execution_count": 12,
   "id": "7afa65aa-e49e-4cf7-b873-2aa9c548036a",
   "metadata": {},
   "outputs": [],
   "source": [
    "rfc_reopen = load('rfc_trial.joblib') "
   ]
  },
  {
   "cell_type": "code",
   "execution_count": 13,
   "id": "73372b53-59a7-45c6-9d7c-ec148565855e",
   "metadata": {},
   "outputs": [
    {
     "name": "stdout",
     "output_type": "stream",
     "text": [
      "\n",
      "true negatives: 91504     false positives: 2336\n",
      "false negatives: 2478     true positives: 50514\n",
      "\n",
      "sensitivity (TP/P): 95.32 %\n",
      "specificity (TN/N): 97.51 %\n",
      "G-mean:  0.96\n",
      "\n",
      "precision (TP/(TP+FP)): 95.58 %\n",
      "\n",
      "MCC:  0.9288885758749532\n",
      "\n",
      "F1-measure:  0.95452\n",
      "F0.5-measure (min false positives):  0.95529\n",
      "F2-measure (min false negatives)  :  0.95375\n",
      "\n",
      "accuracy: 96.72 %\n",
      "\n"
     ]
    }
   ],
   "source": [
    "predictions_reopen = rfc_reopen.predict(X_test)\n",
    "mpe.print_threshold_metrics(y_test, predictions_reopen)"
   ]
  },
  {
   "cell_type": "code",
   "execution_count": null,
   "id": "87e1904e-8bec-4652-b888-8643f59c303f",
   "metadata": {},
   "outputs": [],
   "source": [
    "## TRY DOING IT WITH PARALLEL POST-FIT"
   ]
  },
  {
   "cell_type": "code",
   "execution_count": 2,
   "id": "cf6941bb-b729-4fe1-a269-075cee528046",
   "metadata": {},
   "outputs": [],
   "source": [
    "from sklearn.ensemble import RandomForestClassifier\n",
    "from dask_ml.wrappers import ParallelPostFit\n",
    "from joblib import dump, load\n",
    "import model_prep_and_evals as mpe"
   ]
  },
  {
   "cell_type": "code",
   "execution_count": 3,
   "id": "7e5cc493-4fe9-463e-861f-fae6a1a2086d",
   "metadata": {},
   "outputs": [],
   "source": [
    "# select train features and labels\n",
    "X_train = pd.read_csv(os.path.join(os.getcwd(),'data_sampling_workflow','train_set.csv')).loc[:,'r':'day_in_year']\n",
    "y_train = pd.read_csv(os.path.join(os.getcwd(),'data_sampling_workflow','train_set.csv')).loc[:,'iceplant'] \n",
    "\n",
    "# select test features and labels\n",
    "X_test = pd.read_csv(os.path.join(os.getcwd(),'data_sampling_workflow','test_set.csv')).loc[:,'r':'day_in_year']\n",
    "y_test = pd.read_csv(os.path.join(os.getcwd(),'data_sampling_workflow','test_set.csv')).loc[:,'iceplant'] "
   ]
  },
  {
   "cell_type": "code",
   "execution_count": 4,
   "id": "b7b69f93-714f-4698-89c9-a0088bd2e163",
   "metadata": {},
   "outputs": [
    {
     "data": {
      "text/plain": [
       "ParallelPostFit(estimator=RandomForestClassifier(random_state=42))"
      ]
     },
     "execution_count": 4,
     "metadata": {},
     "output_type": "execute_result"
    }
   ],
   "source": [
    "rfc = ParallelPostFit(RandomForestClassifier(n_estimators = 100, \n",
    "                                             random_state = 42))\n",
    "rfc.fit(X_train, y_train)"
   ]
  },
  {
   "cell_type": "code",
   "execution_count": 5,
   "id": "a425c7b4-ddb2-4ec8-92cb-42cd0f800d32",
   "metadata": {},
   "outputs": [],
   "source": [
    "#predictions = rfc.predict(X_test)\n",
    "#mpe.print_threshold_metrics(y_test, predictions)"
   ]
  },
  {
   "cell_type": "code",
   "execution_count": 7,
   "id": "d7ed5097-e978-448d-89e2-356d85c24d9d",
   "metadata": {},
   "outputs": [
    {
     "data": {
      "text/plain": [
       "['rfc_trial.joblib']"
      ]
     },
     "execution_count": 7,
     "metadata": {},
     "output_type": "execute_result"
    }
   ],
   "source": [
    "dump(rfc, 'rfc_trial.joblib')"
   ]
  },
  {
   "cell_type": "code",
   "execution_count": 9,
   "id": "cc2dc0ac-af25-4f69-906e-ef429d658627",
   "metadata": {},
   "outputs": [],
   "source": [
    "rfc_reopen = load('rfc_trial.joblib') "
   ]
  },
  {
   "cell_type": "code",
   "execution_count": 10,
   "id": "8c39bfed-7e6d-4f07-8b21-d0d806a8693b",
   "metadata": {},
   "outputs": [
    {
     "name": "stdout",
     "output_type": "stream",
     "text": [
      "\n",
      "true negatives: 91504     false positives: 2336\n",
      "false negatives: 2478     true positives: 50514\n",
      "\n",
      "sensitivity (TP/P): 95.32 %\n",
      "specificity (TN/N): 97.51 %\n",
      "G-mean:  0.96\n",
      "\n",
      "precision (TP/(TP+FP)): 95.58 %\n",
      "\n",
      "MCC:  0.9288885758749532\n",
      "\n",
      "F1-measure:  0.95452\n",
      "F0.5-measure (min false positives):  0.95529\n",
      "F2-measure (min false negatives)  :  0.95375\n",
      "\n",
      "accuracy: 96.72 %\n",
      "\n"
     ]
    }
   ],
   "source": [
    "predictions_reopen = rfc_reopen.predict(X_test)\n",
    "mpe.print_threshold_metrics(y_test, predictions_reopen)"
   ]
  },
  {
   "cell_type": "code",
   "execution_count": null,
   "id": "253bff2a-1553-4269-8bc5-40477ad2c1a1",
   "metadata": {},
   "outputs": [],
   "source": [
    "# SEEMS OK..."
   ]
  }
 ],
 "metadata": {
  "kernelspec": {
   "display_name": "Python 3 (ipykernel)",
   "language": "python",
   "name": "python3"
  },
  "language_info": {
   "codemirror_mode": {
    "name": "ipython",
    "version": 3
   },
   "file_extension": ".py",
   "mimetype": "text/x-python",
   "name": "python",
   "nbconvert_exporter": "python",
   "pygments_lexer": "ipython3",
   "version": "3.8.13"
  }
 },
 "nbformat": 4,
 "nbformat_minor": 5
}
