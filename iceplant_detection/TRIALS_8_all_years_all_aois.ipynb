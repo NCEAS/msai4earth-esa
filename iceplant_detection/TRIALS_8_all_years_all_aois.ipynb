{
 "cells": [
  {
   "cell_type": "code",
   "execution_count": 11,
   "id": "b6a16b75-1dfb-4240-b710-6eec22cd7e6e",
   "metadata": {},
   "outputs": [],
   "source": [
    "import os\n",
    "import time\n",
    "import pandas as pd\n",
    "import numpy as np\n",
    "import matplotlib.pyplot as plt\n",
    "\n",
    "from sklearn.model_selection import train_test_split\n",
    "from sklearn.ensemble import RandomForestClassifier\n",
    "\n",
    "import rasterio\n",
    "import geopandas as gpd\n",
    "\n",
    "from shapely.geometry import Polygon\n",
    "\n",
    "import iceplant_detection_functions as ipf\n",
    "import model_prep_and_evals as mpe\n",
    "\n",
    "import warnings"
   ]
  },
  {
   "cell_type": "markdown",
   "id": "c2e33c04-8fcc-4c16-bcf1-264ff8f81c16",
   "metadata": {},
   "source": [
    "## Create test/train set from samples"
   ]
  },
  {
   "cell_type": "code",
   "execution_count": 2,
   "id": "360cad6f-55cd-4a50-a77d-24fd7cff4697",
   "metadata": {},
   "outputs": [
    {
     "data": {
      "text/html": [
       "<div>\n",
       "<style scoped>\n",
       "    .dataframe tbody tr th:only-of-type {\n",
       "        vertical-align: middle;\n",
       "    }\n",
       "\n",
       "    .dataframe tbody tr th {\n",
       "        vertical-align: top;\n",
       "    }\n",
       "\n",
       "    .dataframe thead th {\n",
       "        text-align: right;\n",
       "    }\n",
       "</style>\n",
       "<table border=\"1\" class=\"dataframe\">\n",
       "  <thead>\n",
       "    <tr style=\"text-align: right;\">\n",
       "      <th></th>\n",
       "      <th>r</th>\n",
       "      <th>g</th>\n",
       "      <th>b</th>\n",
       "      <th>nir</th>\n",
       "      <th>ndvi</th>\n",
       "      <th>year</th>\n",
       "      <th>month</th>\n",
       "      <th>day_in_year</th>\n",
       "      <th>iceplant</th>\n",
       "      <th>geometry</th>\n",
       "      <th>x</th>\n",
       "      <th>y</th>\n",
       "      <th>aoi</th>\n",
       "      <th>naip_id</th>\n",
       "      <th>polygon_id</th>\n",
       "    </tr>\n",
       "  </thead>\n",
       "  <tbody>\n",
       "    <tr>\n",
       "      <th>0</th>\n",
       "      <td>134</td>\n",
       "      <td>125</td>\n",
       "      <td>103</td>\n",
       "      <td>170</td>\n",
       "      <td>0.118421</td>\n",
       "      <td>2012</td>\n",
       "      <td>5</td>\n",
       "      <td>126</td>\n",
       "      <td>1</td>\n",
       "      <td>POINT (238565.79498225075 3810768.627232482)</td>\n",
       "      <td>238565.794982</td>\n",
       "      <td>3.810769e+06</td>\n",
       "      <td>campus_lagoon</td>\n",
       "      <td>ca_m_3411934_sw_11_1_20120505_20120730</td>\n",
       "      <td>0</td>\n",
       "    </tr>\n",
       "    <tr>\n",
       "      <th>1</th>\n",
       "      <td>130</td>\n",
       "      <td>114</td>\n",
       "      <td>101</td>\n",
       "      <td>164</td>\n",
       "      <td>0.115646</td>\n",
       "      <td>2012</td>\n",
       "      <td>5</td>\n",
       "      <td>126</td>\n",
       "      <td>1</td>\n",
       "      <td>POINT (238553.15545424985 3810802.7926417096)</td>\n",
       "      <td>238553.155454</td>\n",
       "      <td>3.810803e+06</td>\n",
       "      <td>campus_lagoon</td>\n",
       "      <td>ca_m_3411934_sw_11_1_20120505_20120730</td>\n",
       "      <td>0</td>\n",
       "    </tr>\n",
       "    <tr>\n",
       "      <th>2</th>\n",
       "      <td>132</td>\n",
       "      <td>110</td>\n",
       "      <td>98</td>\n",
       "      <td>160</td>\n",
       "      <td>0.095890</td>\n",
       "      <td>2012</td>\n",
       "      <td>5</td>\n",
       "      <td>126</td>\n",
       "      <td>1</td>\n",
       "      <td>POINT (238552.77597268307 3810773.0767946127)</td>\n",
       "      <td>238552.775973</td>\n",
       "      <td>3.810773e+06</td>\n",
       "      <td>campus_lagoon</td>\n",
       "      <td>ca_m_3411934_sw_11_1_20120505_20120730</td>\n",
       "      <td>0</td>\n",
       "    </tr>\n",
       "  </tbody>\n",
       "</table>\n",
       "</div>"
      ],
      "text/plain": [
       "     r    g    b  nir      ndvi  year  month  day_in_year  iceplant  \\\n",
       "0  134  125  103  170  0.118421  2012      5          126         1   \n",
       "1  130  114  101  164  0.115646  2012      5          126         1   \n",
       "2  132  110   98  160  0.095890  2012      5          126         1   \n",
       "\n",
       "                                        geometry              x             y  \\\n",
       "0   POINT (238565.79498225075 3810768.627232482)  238565.794982  3.810769e+06   \n",
       "1  POINT (238553.15545424985 3810802.7926417096)  238553.155454  3.810803e+06   \n",
       "2  POINT (238552.77597268307 3810773.0767946127)  238552.775973  3.810773e+06   \n",
       "\n",
       "             aoi                                 naip_id  polygon_id  \n",
       "0  campus_lagoon  ca_m_3411934_sw_11_1_20120505_20120730           0  \n",
       "1  campus_lagoon  ca_m_3411934_sw_11_1_20120505_20120730           0  \n",
       "2  campus_lagoon  ca_m_3411934_sw_11_1_20120505_20120730           0  "
      ]
     },
     "execution_count": 2,
     "metadata": {},
     "output_type": "execute_result"
    }
   ],
   "source": [
    "samples = pd.read_csv(os.path.join(os.getcwd(),'feature_selection','samples_for_model.csv'))\n",
    "samples.head(3)"
   ]
  },
  {
   "cell_type": "code",
   "execution_count": 3,
   "id": "81941fa6-cc44-49dc-9574-88a9f892e887",
   "metadata": {},
   "outputs": [],
   "source": [
    "train, test = mpe.test_train_aois_scenes(samples)"
   ]
  },
  {
   "cell_type": "code",
   "execution_count": 14,
   "id": "7c2148a2-3bdb-4f24-8dbf-c1320c6435c6",
   "metadata": {},
   "outputs": [
    {
     "data": {
      "text/plain": [
       "array([[43, 51, 78, ..., 2012, 5, 126],\n",
       "       [65, 59, 84, ..., 2012, 5, 126],\n",
       "       [81, 86, 93, ..., 2012, 5, 126],\n",
       "       ...,\n",
       "       [84, 100, 71, ..., 2020, 5, 142],\n",
       "       [65, 77, 72, ..., 2020, 5, 142],\n",
       "       [87, 93, 84, ..., 2020, 5, 142]], dtype=object)"
      ]
     },
     "execution_count": 14,
     "metadata": {},
     "output_type": "execute_result"
    }
   ],
   "source": [
    "X_train = np.array(np.array(train.loc[:,'r':'day_in_year']))\n",
    "X_train"
   ]
  },
  {
   "cell_type": "code",
   "execution_count": 15,
   "id": "75d5e010-484f-4c9d-a584-df90b7e616d0",
   "metadata": {},
   "outputs": [
    {
     "data": {
      "text/plain": [
       "array([[124, 104, 99, ..., 2012, 5, 126],\n",
       "       [135, 119, 99, ..., 2012, 5, 126],\n",
       "       [96, 98, 100, ..., 2012, 5, 126],\n",
       "       ...,\n",
       "       [58, 81, 68, ..., 2020, 5, 142],\n",
       "       [48, 61, 61, ..., 2020, 5, 142],\n",
       "       [56, 84, 63, ..., 2020, 5, 142]], dtype=object)"
      ]
     },
     "execution_count": 15,
     "metadata": {},
     "output_type": "execute_result"
    }
   ],
   "source": [
    "X_test = np.array(np.array(test.loc[:,'r':'day_in_year']))\n",
    "X_test"
   ]
  },
  {
   "cell_type": "code",
   "execution_count": 16,
   "id": "ca94b466-64b8-43f1-ac43-3a44ad43b2df",
   "metadata": {},
   "outputs": [
    {
     "data": {
      "text/plain": [
       "array([0, 0, 0, ..., 1, 0, 0])"
      ]
     },
     "execution_count": 16,
     "metadata": {},
     "output_type": "execute_result"
    }
   ],
   "source": [
    "y_train = np.array(train['iceplant'])\n",
    "y_train"
   ]
  },
  {
   "cell_type": "code",
   "execution_count": 17,
   "id": "fef7cdf4-f55c-40c6-9970-c478fa373970",
   "metadata": {},
   "outputs": [
    {
     "data": {
      "text/plain": [
       "array([1, 1, 0, ..., 0, 0, 1])"
      ]
     },
     "execution_count": 17,
     "metadata": {},
     "output_type": "execute_result"
    }
   ],
   "source": [
    "y_test = np.array(test['iceplant'])\n",
    "y_test"
   ]
  },
  {
   "cell_type": "code",
   "execution_count": 8,
   "id": "9bc06825-3de4-4bbe-bef4-bde931fa5304",
   "metadata": {},
   "outputs": [
    {
     "name": "stdout",
     "output_type": "stream",
     "text": [
      "no-iceplant:iceplant ratio     2.4 :1\n",
      "          counts  percentage\n",
      "iceplant                    \n",
      "0         247696       70.95\n",
      "1         101425       29.05\n",
      "\n"
     ]
    }
   ],
   "source": [
    "mpe.iceplant_proportions(y_train)"
   ]
  },
  {
   "cell_type": "code",
   "execution_count": 9,
   "id": "f9064098-2673-4531-8015-f0a4591f141b",
   "metadata": {},
   "outputs": [
    {
     "name": "stdout",
     "output_type": "stream",
     "text": [
      "no-iceplant:iceplant ratio     2.5 :1\n",
      "          counts  percentage\n",
      "iceplant                    \n",
      "0         106302       71.04\n",
      "1          43330       28.96\n",
      "\n"
     ]
    }
   ],
   "source": [
    "mpe.iceplant_proportions(y_test)"
   ]
  },
  {
   "cell_type": "code",
   "execution_count": null,
   "id": "e87df390-3060-488b-aba5-fbd596e922a2",
   "metadata": {},
   "outputs": [],
   "source": [
    "## "
   ]
  },
  {
   "cell_type": "code",
   "execution_count": 20,
   "id": "4f84a7d7-d0c6-4f33-9c26-a968cbac2cfc",
   "metadata": {},
   "outputs": [
    {
     "name": "stdout",
     "output_type": "stream",
     "text": [
      "time to train:  35.77524161338806\n"
     ]
    }
   ],
   "source": [
    "t0 = time.time()\n",
    "\n",
    "rfc = RandomForestClassifier(n_estimators = 100, random_state = 42)\n",
    "rfc.fit(X_train, y_train)\n",
    "\n",
    "print('time to train: ', (time.time()-t0))"
   ]
  },
  {
   "cell_type": "code",
   "execution_count": 21,
   "id": "a8951c12-5d1e-4a10-a2a2-b7ce51c1417c",
   "metadata": {},
   "outputs": [
    {
     "name": "stdout",
     "output_type": "stream",
     "text": [
      "\n",
      "true negatives: 104377     false positives: 1925\n",
      "false negatives: 2295     true positives: 41035\n",
      "\n",
      "sensitivity (TP/P): 94.7 %\n",
      "specificity (TN/N): 98.19 %\n",
      "G-mean:  0.96\n",
      "\n",
      "precision (TP/(TP+FP)): 95.52 %\n",
      "\n",
      "MCC:  0.9312979351222674\n",
      "\n",
      "F1-measure:  0.9511\n",
      "F0.5-measure (min false positives):  0.95355\n",
      "F2-measure (min false negatives)  :  0.94865\n",
      "\n",
      "accuracy: 97.18 %\n",
      "\n"
     ]
    }
   ],
   "source": [
    "predictions = rfc.predict(X_test)\n",
    "mpe.print_threshold_metrics(y_test, predictions)"
   ]
  },
  {
   "cell_type": "code",
   "execution_count": 22,
   "id": "db62795a-f4bd-47fd-8cfe-ae5ea3d2e7dc",
   "metadata": {},
   "outputs": [],
   "source": [
    "# https://scikit-learn.org/stable/auto_examples/ensemble/plot_forest_importances.html\n",
    "from sklearn.inspection import permutation_importance\n",
    "\n",
    "result = permutation_importance(\n",
    "    rfc, X_test, y_test, n_repeats=10, random_state=42, n_jobs=2\n",
    ")"
   ]
  },
  {
   "cell_type": "code",
   "execution_count": 23,
   "id": "dd312fb1-4de0-432b-81a4-2ed7a7127fd4",
   "metadata": {},
   "outputs": [],
   "source": [
    "forest_importances = pd.Series(result.importances_mean, index=['r', 'g', 'b', 'nir', 'ndvi', 'year', 'month', 'day_in_year'])"
   ]
  },
  {
   "cell_type": "code",
   "execution_count": 24,
   "id": "7663d87b-478d-48ca-aa9f-3910238f60ee",
   "metadata": {},
   "outputs": [
    {
     "data": {
      "image/png": "[encoded data removed]",
      "text/plain": [
       "<Figure size 432x288 with 1 Axes>"
      ]
     },
     "metadata": {
      "needs_background": "light"
     },
     "output_type": "display_data"
    }
   ],
   "source": [
    "fig, ax = plt.subplots()\n",
    "forest_importances.plot.bar(yerr=result.importances_std, ax=ax)\n",
    "ax.set_title(\"Feature importances using permutation on full model\")\n",
    "ax.set_ylabel(\"Mean accuracy decrease\")\n",
    "fig.tight_layout()\n",
    "plt.show()"
   ]
  },
  {
   "cell_type": "markdown",
   "id": "be3c043e-4db8-4562-9163-02d3477edb09",
   "metadata": {},
   "source": [
    "# Pre-process NAIP scene for prediction"
   ]
  },
  {
   "cell_type": "code",
   "execution_count": null,
   "id": "f8326f3f-cabe-40da-9dfa-098b6609d6d4",
   "metadata": {},
   "outputs": [],
   "source": [
    "itemid = 'ca_m_3412037_nw_10_060_20200607'\n",
    "\n",
    "item = ipf.get_item_from_id(itemid)\n",
    "scene = ipf.get_raster_from_item(item).read([1,2,3,4])\n",
    "scene.shape"
   ]
  },
  {
   "cell_type": "code",
   "execution_count": null,
   "id": "61e992d7-e89b-433b-b84f-88c5308c0ef6",
   "metadata": {},
   "outputs": [],
   "source": [
    "ndvi = ipf.ndvi(scene)"
   ]
  },
  {
   "cell_type": "markdown",
   "id": "66ceb00b-1fce-4575-82ed-7439da18dcc3",
   "metadata": {},
   "source": [
    "# Predict using dask"
   ]
  },
  {
   "cell_type": "code",
   "execution_count": null,
   "id": "171e2ead-6436-4c76-b425-62083da404f8",
   "metadata": {},
   "outputs": [],
   "source": [
    "import dask\n",
    "import dask_gateway\n",
    "\n",
    "cluster = dask_gateway.GatewayCluster()\n",
    "client = cluster.get_client()\n",
    "#cluster.adapt(minimum=4, maximum=50)\n",
    "cluster.scale(30)\n",
    "client"
   ]
  }
 ],
 "metadata": {
  "kernelspec": {
   "display_name": "Python 3 (ipykernel)",
   "language": "python",
   "name": "python3"
  },
  "language_info": {
   "codemirror_mode": {
    "name": "ipython",
    "version": 3
   },
   "file_extension": ".py",
   "mimetype": "text/x-python",
   "name": "python",
   "nbconvert_exporter": "python",
   "pygments_lexer": "ipython3",
   "version": "3.8.13"
  }
 },
 "nbformat": 4,
 "nbformat_minor": 5
}
