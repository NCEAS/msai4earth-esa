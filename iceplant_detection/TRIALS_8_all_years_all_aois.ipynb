{
 "cells": [
  {
   "cell_type": "code",
   "execution_count": 1,
   "id": "b6a16b75-1dfb-4240-b710-6eec22cd7e6e",
   "metadata": {},
   "outputs": [],
   "source": [
    "import os\n",
    "import time\n",
    "import pandas as pd\n",
    "import numpy as np\n",
    "import matplotlib.pyplot as plt\n",
    "\n",
    "from sklearn.model_selection import train_test_split\n",
    "from sklearn.ensemble import RandomForestClassifier\n",
    "\n",
    "import rasterio\n",
    "import geopandas as gpd\n",
    "\n",
    "from shapely.geometry import Polygon\n",
    "\n",
    "import iceplant_detection_functions as ipf\n",
    "import model_prep_and_evals as mpe\n",
    "\n",
    "import warnings"
   ]
  },
  {
   "cell_type": "markdown",
   "id": "c2e33c04-8fcc-4c16-bcf1-264ff8f81c16",
   "metadata": {},
   "source": [
    "## Create test/train set from samples"
   ]
  },
  {
   "cell_type": "code",
   "execution_count": 2,
   "id": "360cad6f-55cd-4a50-a77d-24fd7cff4697",
   "metadata": {},
   "outputs": [],
   "source": [
    "samples_fp = os.path.join(os.getcwd(),'feature_selection','samples_for_model.csv')\n",
    "#samples = pd.read_csv(os.path.join(os.getcwd(),'feature_selection','samples_for_model.csv'))\n",
    "#samples.head(3)"
   ]
  },
  {
   "cell_type": "code",
   "execution_count": 3,
   "id": "81941fa6-cc44-49dc-9574-88a9f892e887",
   "metadata": {},
   "outputs": [],
   "source": [
    "train, test = mpe.test_train_aois_scenes(pd.read_csv(samples_fp))"
   ]
  },
  {
   "cell_type": "code",
   "execution_count": 4,
   "id": "7c2148a2-3bdb-4f24-8dbf-c1320c6435c6",
   "metadata": {},
   "outputs": [
    {
     "data": {
      "text/plain": [
       "array([[43, 51, 78, ..., 2012, 5, 126],\n",
       "       [65, 59, 84, ..., 2012, 5, 126],\n",
       "       [81, 86, 93, ..., 2012, 5, 126],\n",
       "       ...,\n",
       "       [84, 100, 71, ..., 2020, 5, 142],\n",
       "       [65, 77, 72, ..., 2020, 5, 142],\n",
       "       [87, 93, 84, ..., 2020, 5, 142]], dtype=object)"
      ]
     },
     "execution_count": 4,
     "metadata": {},
     "output_type": "execute_result"
    }
   ],
   "source": [
    "X_train = np.array(np.array(train.loc[:,'r':'day_in_year']))\n",
    "X_train"
   ]
  },
  {
   "cell_type": "code",
   "execution_count": 5,
   "id": "75d5e010-484f-4c9d-a584-df90b7e616d0",
   "metadata": {},
   "outputs": [],
   "source": [
    "# X_test = np.array(np.array(test.loc[:,'r':'day_in_year']))\n",
    "# X_test"
   ]
  },
  {
   "cell_type": "code",
   "execution_count": 6,
   "id": "ca94b466-64b8-43f1-ac43-3a44ad43b2df",
   "metadata": {},
   "outputs": [
    {
     "data": {
      "text/plain": [
       "array([0, 0, 0, ..., 1, 0, 0])"
      ]
     },
     "execution_count": 6,
     "metadata": {},
     "output_type": "execute_result"
    }
   ],
   "source": [
    "y_train = np.array(train['iceplant'])\n",
    "y_train"
   ]
  },
  {
   "cell_type": "code",
   "execution_count": 7,
   "id": "fef7cdf4-f55c-40c6-9970-c478fa373970",
   "metadata": {},
   "outputs": [],
   "source": [
    "# y_test = np.array(test['iceplant'])\n",
    "# y_test"
   ]
  },
  {
   "cell_type": "code",
   "execution_count": 8,
   "id": "9bc06825-3de4-4bbe-bef4-bde931fa5304",
   "metadata": {},
   "outputs": [
    {
     "name": "stdout",
     "output_type": "stream",
     "text": [
      "no-iceplant:iceplant ratio     2.4 :1\n",
      "          counts  percentage\n",
      "iceplant                    \n",
      "0         247696       70.95\n",
      "1         101425       29.05\n",
      "\n"
     ]
    }
   ],
   "source": [
    "mpe.iceplant_proportions(y_train)"
   ]
  },
  {
   "cell_type": "code",
   "execution_count": 9,
   "id": "f9064098-2673-4531-8015-f0a4591f141b",
   "metadata": {},
   "outputs": [],
   "source": [
    "# mpe.iceplant_proportions(y_test)"
   ]
  },
  {
   "cell_type": "markdown",
   "id": "330914f3-36eb-47d3-82cd-54df9b7c0561",
   "metadata": {},
   "source": [
    "## Train model"
   ]
  },
  {
   "cell_type": "code",
   "execution_count": 10,
   "id": "012a7329-b0e7-4f9f-83e3-cbbbec80efaa",
   "metadata": {},
   "outputs": [],
   "source": [
    "from dask_ml.wrappers import ParallelPostFit"
   ]
  },
  {
   "cell_type": "code",
   "execution_count": 11,
   "id": "4f84a7d7-d0c6-4f33-9c26-a968cbac2cfc",
   "metadata": {},
   "outputs": [
    {
     "name": "stdout",
     "output_type": "stream",
     "text": [
      "time to train:  31.200282096862793\n"
     ]
    }
   ],
   "source": [
    "t0 = time.time()\n",
    "\n",
    "rfc = ParallelPostFit(RandomForestClassifier(n_estimators = 100, random_state = 42))\n",
    "rfc.fit(X_train, y_train)\n",
    "\n",
    "print('time to train: ', (time.time()-t0))"
   ]
  },
  {
   "cell_type": "code",
   "execution_count": 12,
   "id": "a8951c12-5d1e-4a10-a2a2-b7ce51c1417c",
   "metadata": {},
   "outputs": [
    {
     "name": "stdout",
     "output_type": "stream",
     "text": [
      "\n",
      "true negatives: 104377     false positives: 1925\n",
      "false negatives: 2295     true positives: 41035\n",
      "\n",
      "sensitivity (TP/P): 94.7 %\n",
      "specificity (TN/N): 98.19 %\n",
      "G-mean:  0.96\n",
      "\n",
      "precision (TP/(TP+FP)): 95.52 %\n",
      "\n",
      "MCC:  0.9312979351222674\n",
      "\n",
      "F1-measure:  0.9511\n",
      "F0.5-measure (min false positives):  0.95355\n",
      "F2-measure (min false negatives)  :  0.94865\n",
      "\n",
      "accuracy: 97.18 %\n",
      "\n"
     ]
    }
   ],
   "source": [
    "# predictions = rfc.predict(X_test)\n",
    "# mpe.print_threshold_metrics(y_test, predictions)"
   ]
  },
  {
   "cell_type": "markdown",
   "id": "cc18fade-f829-41e4-bc12-aeb7d0ab36cb",
   "metadata": {},
   "source": [
    "## Feature importance"
   ]
  },
  {
   "cell_type": "code",
   "execution_count": 22,
   "id": "db62795a-f4bd-47fd-8cfe-ae5ea3d2e7dc",
   "metadata": {},
   "outputs": [],
   "source": [
    "# # https://scikit-learn.org/stable/auto_examples/ensemble/plot_forest_importances.html\n",
    "# from sklearn.inspection import permutation_importance\n",
    "\n",
    "# result = permutation_importance(\n",
    "#     rfc, X_test, y_test, n_repeats=10, random_state=42, n_jobs=2\n",
    "# )"
   ]
  },
  {
   "cell_type": "code",
   "execution_count": 23,
   "id": "dd312fb1-4de0-432b-81a4-2ed7a7127fd4",
   "metadata": {},
   "outputs": [],
   "source": [
    "# forest_importances = pd.Series(result.importances_mean, index=['r', 'g', 'b', 'nir', 'ndvi', 'year', 'month', 'day_in_year'])"
   ]
  },
  {
   "cell_type": "code",
   "execution_count": 24,
   "id": "7663d87b-478d-48ca-aa9f-3910238f60ee",
   "metadata": {},
   "outputs": [
    {
     "data": {
      "image/png": "[encoded data removed]",
      "text/plain": [
       "<Figure size 432x288 with 1 Axes>"
      ]
     },
     "metadata": {
      "needs_background": "light"
     },
     "output_type": "display_data"
    }
   ],
   "source": [
    "# fig, ax = plt.subplots()\n",
    "# forest_importances.plot.bar(yerr=result.importances_std, ax=ax)\n",
    "# ax.set_title(\"Feature importances using permutation on full model\")\n",
    "# ax.set_ylabel(\"Mean accuracy decrease\")\n",
    "# fig.tight_layout()\n",
    "# plt.show()"
   ]
  },
  {
   "cell_type": "markdown",
   "id": "be3c043e-4db8-4562-9163-02d3477edb09",
   "metadata": {},
   "source": [
    "# Pre-process NAIP scene for prediction"
   ]
  },
  {
   "cell_type": "code",
   "execution_count": 12,
   "id": "f8326f3f-cabe-40da-9dfa-098b6609d6d4",
   "metadata": {},
   "outputs": [
    {
     "name": "stdout",
     "output_type": "stream",
     "text": [
      "time to retrieve raster:  0.37748241424560547\n"
     ]
    }
   ],
   "source": [
    "itemid = 'ca_m_3412037_nw_10_060_20200607'\n",
    "\n",
    "t0 = time.time()\n",
    "item = ipf.get_item_from_id(itemid)\n",
    "#scene = ipf.get_raster_from_item(item).read([1,2,3,4])\n",
    "print('time to retrieve itemid: ', (time.time()-t0))\n",
    "\n",
    "#scene.shape"
   ]
  },
  {
   "cell_type": "code",
   "execution_count": 13,
   "id": "678eefb1-c1fd-4dc1-b879-5e758e7f4ca8",
   "metadata": {
    "tags": []
   },
   "outputs": [
    {
     "data": {
      "text/html": [
       "<div>\n",
       "<style scoped>\n",
       "    .dataframe tbody tr th:only-of-type {\n",
       "        vertical-align: middle;\n",
       "    }\n",
       "\n",
       "    .dataframe tbody tr th {\n",
       "        vertical-align: top;\n",
       "    }\n",
       "\n",
       "    .dataframe thead th {\n",
       "        text-align: right;\n",
       "    }\n",
       "</style>\n",
       "<table border=\"1\" class=\"dataframe\">\n",
       "  <thead>\n",
       "    <tr style=\"text-align: right;\">\n",
       "      <th></th>\n",
       "      <th>r</th>\n",
       "      <th>g</th>\n",
       "      <th>b</th>\n",
       "      <th>nir</th>\n",
       "      <th>ndvi</th>\n",
       "      <th>year</th>\n",
       "      <th>month</th>\n",
       "      <th>day_in_year</th>\n",
       "    </tr>\n",
       "  </thead>\n",
       "  <tbody>\n",
       "    <tr>\n",
       "      <th>580</th>\n",
       "      <td>92</td>\n",
       "      <td>91</td>\n",
       "      <td>82</td>\n",
       "      <td>102</td>\n",
       "      <td>0.051546</td>\n",
       "      <td>2020</td>\n",
       "      <td>6</td>\n",
       "      <td>159</td>\n",
       "    </tr>\n",
       "    <tr>\n",
       "      <th>588</th>\n",
       "      <td>76</td>\n",
       "      <td>75</td>\n",
       "      <td>71</td>\n",
       "      <td>85</td>\n",
       "      <td>0.055901</td>\n",
       "      <td>2020</td>\n",
       "      <td>6</td>\n",
       "      <td>159</td>\n",
       "    </tr>\n",
       "    <tr>\n",
       "      <th>591</th>\n",
       "      <td>96</td>\n",
       "      <td>95</td>\n",
       "      <td>82</td>\n",
       "      <td>107</td>\n",
       "      <td>0.054187</td>\n",
       "      <td>2020</td>\n",
       "      <td>6</td>\n",
       "      <td>159</td>\n",
       "    </tr>\n",
       "  </tbody>\n",
       "</table>\n",
       "</div>"
      ],
      "text/plain": [
       "      r   g   b  nir      ndvi  year  month  day_in_year\n",
       "580  92  91  82  102  0.051546  2020      6          159\n",
       "588  76  75  71   85  0.055901  2020      6          159\n",
       "591  96  95  82  107  0.054187  2020      6          159"
      ]
     },
     "execution_count": 13,
     "metadata": {},
     "output_type": "execute_result"
    }
   ],
   "source": [
    "#df = ipf.spectral_df(ipf.get_raster_from_item(item).read([1,2,3,4]))\n",
    "df = ipf.features_over_aoi(item, \n",
    "                           ipf.get_raster_from_item(item).read([1,2,3,4]), \n",
    "                           thresh=0.05)\n",
    "df.head(3)"
   ]
  },
  {
   "cell_type": "code",
   "execution_count": 14,
   "id": "108f27e5-a04e-402e-b9e9-5a1cecb462a5",
   "metadata": {
    "collapsed": true,
    "jupyter": {
     "outputs_hidden": true
    },
    "tags": []
   },
   "outputs": [
    {
     "data": {
      "text/html": [
       "<div>\n",
       "<style scoped>\n",
       "    .dataframe tbody tr th:only-of-type {\n",
       "        vertical-align: middle;\n",
       "    }\n",
       "\n",
       "    .dataframe tbody tr th {\n",
       "        vertical-align: top;\n",
       "    }\n",
       "\n",
       "    .dataframe thead th {\n",
       "        text-align: right;\n",
       "    }\n",
       "</style>\n",
       "<table border=\"1\" class=\"dataframe\">\n",
       "  <thead>\n",
       "    <tr style=\"text-align: right;\">\n",
       "      <th></th>\n",
       "      <th>r</th>\n",
       "      <th>g</th>\n",
       "      <th>b</th>\n",
       "      <th>nir</th>\n",
       "      <th>ndvi</th>\n",
       "      <th>year</th>\n",
       "      <th>month</th>\n",
       "      <th>day_in_year</th>\n",
       "    </tr>\n",
       "  </thead>\n",
       "  <tbody>\n",
       "    <tr>\n",
       "      <th>0</th>\n",
       "      <td>73</td>\n",
       "      <td>92</td>\n",
       "      <td>95</td>\n",
       "      <td>14</td>\n",
       "      <td>-0.678161</td>\n",
       "      <td>2020</td>\n",
       "      <td>6</td>\n",
       "      <td>159</td>\n",
       "    </tr>\n",
       "    <tr>\n",
       "      <th>1</th>\n",
       "      <td>76</td>\n",
       "      <td>100</td>\n",
       "      <td>102</td>\n",
       "      <td>15</td>\n",
       "      <td>-0.670330</td>\n",
       "      <td>2020</td>\n",
       "      <td>6</td>\n",
       "      <td>159</td>\n",
       "    </tr>\n",
       "    <tr>\n",
       "      <th>2</th>\n",
       "      <td>79</td>\n",
       "      <td>98</td>\n",
       "      <td>100</td>\n",
       "      <td>16</td>\n",
       "      <td>-0.663158</td>\n",
       "      <td>2020</td>\n",
       "      <td>6</td>\n",
       "      <td>159</td>\n",
       "    </tr>\n",
       "  </tbody>\n",
       "</table>\n",
       "</div>"
      ],
      "text/plain": [
       "    r    g    b  nir      ndvi  year  month  day_in_year\n",
       "0  73   92   95   14 -0.678161  2020      6          159\n",
       "1  76  100  102   15 -0.670330  2020      6          159\n",
       "2  79   98  100   16 -0.663158  2020      6          159"
      ]
     },
     "execution_count": 14,
     "metadata": {},
     "output_type": "execute_result"
    }
   ],
   "source": [
    "# df['year'] = item.datetime.year\n",
    "# df['month'] = item.datetime.month\n",
    "# df['day_in_year'] = day_in_year(item.datetime.day, item.datetime.month, item.datetime.year)\n",
    "# df.head(3)"
   ]
  },
  {
   "cell_type": "code",
   "execution_count": 16,
   "id": "f7f96371-d94d-40f9-88ee-f689c25a9e11",
   "metadata": {
    "collapsed": true,
    "jupyter": {
     "outputs_hidden": true
    },
    "tags": []
   },
   "outputs": [
    {
     "data": {
      "text/html": [
       "<div>\n",
       "<style scoped>\n",
       "    .dataframe tbody tr th:only-of-type {\n",
       "        vertical-align: middle;\n",
       "    }\n",
       "\n",
       "    .dataframe tbody tr th {\n",
       "        vertical-align: top;\n",
       "    }\n",
       "\n",
       "    .dataframe thead th {\n",
       "        text-align: right;\n",
       "    }\n",
       "</style>\n",
       "<table border=\"1\" class=\"dataframe\">\n",
       "  <thead>\n",
       "    <tr style=\"text-align: right;\">\n",
       "      <th></th>\n",
       "      <th>r</th>\n",
       "      <th>g</th>\n",
       "      <th>b</th>\n",
       "      <th>nir</th>\n",
       "      <th>ndvi</th>\n",
       "      <th>year</th>\n",
       "      <th>month</th>\n",
       "      <th>day_in_year</th>\n",
       "    </tr>\n",
       "  </thead>\n",
       "  <tbody>\n",
       "    <tr>\n",
       "      <th>0</th>\n",
       "      <td>73</td>\n",
       "      <td>92</td>\n",
       "      <td>95</td>\n",
       "      <td>14</td>\n",
       "      <td>-0.678161</td>\n",
       "      <td>2020</td>\n",
       "      <td>6</td>\n",
       "      <td>159</td>\n",
       "    </tr>\n",
       "    <tr>\n",
       "      <th>1</th>\n",
       "      <td>76</td>\n",
       "      <td>100</td>\n",
       "      <td>102</td>\n",
       "      <td>15</td>\n",
       "      <td>-0.670330</td>\n",
       "      <td>2020</td>\n",
       "      <td>6</td>\n",
       "      <td>159</td>\n",
       "    </tr>\n",
       "    <tr>\n",
       "      <th>2</th>\n",
       "      <td>79</td>\n",
       "      <td>98</td>\n",
       "      <td>100</td>\n",
       "      <td>16</td>\n",
       "      <td>-0.663158</td>\n",
       "      <td>2020</td>\n",
       "      <td>6</td>\n",
       "      <td>159</td>\n",
       "    </tr>\n",
       "  </tbody>\n",
       "</table>\n",
       "</div>"
      ],
      "text/plain": [
       "    r    g    b  nir      ndvi  year  month  day_in_year\n",
       "0  73   92   95   14 -0.678161  2020      6          159\n",
       "1  76  100  102   15 -0.670330  2020      6          159\n",
       "2  79   98  100   16 -0.663158  2020      6          159"
      ]
     },
     "execution_count": 16,
     "metadata": {},
     "output_type": "execute_result"
    }
   ],
   "source": [
    "# df = df[['r','g','b','nir','ndvi','year','month','day_in_year']] # order features\n",
    "# df.head(3)"
   ]
  },
  {
   "cell_type": "code",
   "execution_count": null,
   "id": "b0cf195c-d6d7-4ec6-af5c-a4662ec99ba1",
   "metadata": {},
   "outputs": [],
   "source": [
    "# thresh = 0.05\n",
    "# veg = df[df.ndvi>thresh]"
   ]
  },
  {
   "cell_type": "code",
   "execution_count": 17,
   "id": "7f33d7cc-a1a9-4bae-8ffb-4f9e428457a1",
   "metadata": {},
   "outputs": [
    {
     "name": "stdout",
     "output_type": "stream",
     "text": [
      "(131184400, 8)\n"
     ]
    },
    {
     "data": {
      "text/plain": [
       "array([[  73.,   92.,   95., ..., 2020.,    6.,  159.],\n",
       "       [  76.,  100.,  102., ..., 2020.,    6.,  159.],\n",
       "       [  79.,   98.,  100., ..., 2020.,    6.,  159.],\n",
       "       ...,\n",
       "       [ 113.,  107.,  123., ..., 2020.,    6.,  159.],\n",
       "       [  82.,   90.,  104., ..., 2020.,    6.,  159.],\n",
       "       [ 100.,  112.,  117., ..., 2020.,    6.,  159.]])"
      ]
     },
     "execution_count": 17,
     "metadata": {},
     "output_type": "execute_result"
    }
   ],
   "source": [
    "# pixels = np.array(df)\n",
    "# print(pixels.shape)\n",
    "# pixels"
   ]
  },
  {
   "cell_type": "markdown",
   "id": "6a593b9a-0b98-450e-b326-1124472df603",
   "metadata": {},
   "source": [
    "This array is WAY TOO BIG. Mostly because the NDVI feature is a float and is making the whole array into a float. Maybe rescale the NDVI to make it uint16? Not sure if this would affect the model's predictions."
   ]
  },
  {
   "cell_type": "code",
   "execution_count": 14,
   "id": "7829d2da-ef6c-4941-96d0-c0f403526da6",
   "metadata": {},
   "outputs": [],
   "source": [
    "# Make dask data array of pixel values from NAIP scene raster\n",
    "import dask.array as da"
   ]
  },
  {
   "cell_type": "code",
   "execution_count": 16,
   "id": "933ef0a6-3da2-4e38-9dce-68a83c96f035",
   "metadata": {},
   "outputs": [
    {
     "data": {
      "text/html": [
       "<table>\n",
       "    <tr>\n",
       "        <td>\n",
       "            <table>\n",
       "                <thead>\n",
       "                    <tr>\n",
       "                        <td> </td>\n",
       "                        <th> Array </th>\n",
       "                        <th> Chunk </th>\n",
       "                    </tr>\n",
       "                </thead>\n",
       "                <tbody>\n",
       "                    \n",
       "                    <tr>\n",
       "                        <th> Bytes </th>\n",
       "                        <td> 1.38 GiB </td>\n",
       "                        <td> 44.48 MiB </td>\n",
       "                    </tr>\n",
       "                    \n",
       "                    <tr>\n",
       "                        <th> Shape </th>\n",
       "                        <td> (23114446, 8) </td>\n",
       "                        <td> (728802, 8) </td>\n",
       "                    </tr>\n",
       "                    <tr>\n",
       "                        <th> Count </th>\n",
       "                        <td> 32 Tasks </td>\n",
       "                        <td> 32 Chunks </td>\n",
       "                    </tr>\n",
       "                    <tr>\n",
       "                    <th> Type </th>\n",
       "                    <td> float64 </td>\n",
       "                    <td> numpy.ndarray </td>\n",
       "                    </tr>\n",
       "                </tbody>\n",
       "            </table>\n",
       "        </td>\n",
       "        <td>\n",
       "        <svg width=\"75\" height=\"170\" style=\"stroke:rgb(0,0,0);stroke-width:1\" >\n",
       "\n",
       "  <!-- Horizontal lines -->\n",
       "  <line x1=\"0\" y1=\"0\" x2=\"25\" y2=\"0\" style=\"stroke-width:2\" />\n",
       "  <line x1=\"0\" y1=\"3\" x2=\"25\" y2=\"3\" />\n",
       "  <line x1=\"0\" y1=\"11\" x2=\"25\" y2=\"11\" />\n",
       "  <line x1=\"0\" y1=\"18\" x2=\"25\" y2=\"18\" />\n",
       "  <line x1=\"0\" y1=\"22\" x2=\"25\" y2=\"22\" />\n",
       "  <line x1=\"0\" y1=\"30\" x2=\"25\" y2=\"30\" />\n",
       "  <line x1=\"0\" y1=\"37\" x2=\"25\" y2=\"37\" />\n",
       "  <line x1=\"0\" y1=\"41\" x2=\"25\" y2=\"41\" />\n",
       "  <line x1=\"0\" y1=\"49\" x2=\"25\" y2=\"49\" />\n",
       "  <line x1=\"0\" y1=\"56\" x2=\"25\" y2=\"56\" />\n",
       "  <line x1=\"0\" y1=\"60\" x2=\"25\" y2=\"60\" />\n",
       "  <line x1=\"0\" y1=\"68\" x2=\"25\" y2=\"68\" />\n",
       "  <line x1=\"0\" y1=\"75\" x2=\"25\" y2=\"75\" />\n",
       "  <line x1=\"0\" y1=\"79\" x2=\"25\" y2=\"79\" />\n",
       "  <line x1=\"0\" y1=\"87\" x2=\"25\" y2=\"87\" />\n",
       "  <line x1=\"0\" y1=\"94\" x2=\"25\" y2=\"94\" />\n",
       "  <line x1=\"0\" y1=\"98\" x2=\"25\" y2=\"98\" />\n",
       "  <line x1=\"0\" y1=\"105\" x2=\"25\" y2=\"105\" />\n",
       "  <line x1=\"0\" y1=\"113\" x2=\"25\" y2=\"113\" />\n",
       "  <line x1=\"0\" y1=\"120\" x2=\"25\" y2=\"120\" style=\"stroke-width:2\" />\n",
       "\n",
       "  <!-- Vertical lines -->\n",
       "  <line x1=\"0\" y1=\"0\" x2=\"0\" y2=\"120\" style=\"stroke-width:2\" />\n",
       "  <line x1=\"25\" y1=\"0\" x2=\"25\" y2=\"120\" style=\"stroke-width:2\" />\n",
       "\n",
       "  <!-- Colored Rectangle -->\n",
       "  <polygon points=\"0.0,0.0 25.412616514582485,0.0 25.412616514582485,120.0 0.0,120.0\" style=\"fill:#8B4903A0;stroke-width:0\"/>\n",
       "\n",
       "  <!-- Text -->\n",
       "  <text x=\"12.706308\" y=\"140.000000\" font-size=\"1.0rem\" font-weight=\"100\" text-anchor=\"middle\" >8</text>\n",
       "  <text x=\"45.412617\" y=\"60.000000\" font-size=\"1.0rem\" font-weight=\"100\" text-anchor=\"middle\" transform=\"rotate(-90,45.412617,60.000000)\">23114446</text>\n",
       "</svg>\n",
       "        </td>\n",
       "    </tr>\n",
       "</table>"
      ],
      "text/plain": [
       "dask.array<array, shape=(23114446, 8), dtype=float64, chunksize=(728802, 8), chunktype=numpy.ndarray>"
      ]
     },
     "execution_count": 16,
     "metadata": {},
     "output_type": "execute_result"
    }
   ],
   "source": [
    "da_pixels = da.from_array(np.array(df), chunks=728802)\n",
    "da_pixels"
   ]
  },
  {
   "cell_type": "markdown",
   "id": "66ceb00b-1fce-4575-82ed-7439da18dcc3",
   "metadata": {},
   "source": [
    "# Predict using dask"
   ]
  },
  {
   "cell_type": "code",
   "execution_count": 17,
   "id": "171e2ead-6436-4c76-b425-62083da404f8",
   "metadata": {},
   "outputs": [
    {
     "data": {
      "text/html": [
       "<div>\n",
       "    <div style=\"width: 24px; height: 24px; background-color: #e1e1e1; border: 3px solid #9D9D9D; border-radius: 5px; position: absolute;\"> </div>\n",
       "    <div style=\"margin-left: 48px;\">\n",
       "        <h3 style=\"margin-bottom: 0px;\">Client</h3>\n",
       "        <p style=\"color: #9D9D9D; margin-bottom: 0px;\">Client-1972c709-f298-11ec-8559-56145bf56007</p>\n",
       "        <table style=\"width: 100%; text-align: left;\">\n",
       "\n",
       "        <tr>\n",
       "        \n",
       "            <td style=\"text-align: left;\"><strong>Connection method:</strong> Cluster object</td>\n",
       "            <td style=\"text-align: left;\"><strong>Cluster type:</strong> dask_gateway.GatewayCluster</td>\n",
       "        \n",
       "        </tr>\n",
       "\n",
       "        \n",
       "            <tr>\n",
       "                <td style=\"text-align: left;\">\n",
       "                    <strong>Dashboard: </strong> <a href=\"https://pccompute.westeurope.cloudapp.azure.com/compute/services/dask-gateway/clusters/prod.734c6ae241674334a56d9da2e74d4f86/status\" target=\"_blank\">https://pccompute.westeurope.cloudapp.azure.com/compute/services/dask-gateway/clusters/prod.734c6ae241674334a56d9da2e74d4f86/status</a>\n",
       "                </td>\n",
       "                <td style=\"text-align: left;\"></td>\n",
       "            </tr>\n",
       "        \n",
       "\n",
       "        </table>\n",
       "\n",
       "        \n",
       "            <details>\n",
       "            <summary style=\"margin-bottom: 20px;\"><h3 style=\"display: inline;\">Cluster Info</h3></summary>\n",
       "            <div style='background-color: #f2f2f2; display: inline-block; padding: 10px; border: 1px solid #999999;'>\n",
       "  <h3>GatewayCluster</h3>\n",
       "  <ul>\n",
       "    <li><b>Name: </b>prod.734c6ae241674334a56d9da2e74d4f86\n",
       "    <li><b>Dashboard: </b><a href='https://pccompute.westeurope.cloudapp.azure.com/compute/services/dask-gateway/clusters/prod.734c6ae241674334a56d9da2e74d4f86/status' target='_blank'>https://pccompute.westeurope.cloudapp.azure.com/compute/services/dask-gateway/clusters/prod.734c6ae241674334a56d9da2e74d4f86/status</a>\n",
       "  </ul>\n",
       "</div>\n",
       "\n",
       "            </details>\n",
       "        \n",
       "\n",
       "    </div>\n",
       "</div>"
      ],
      "text/plain": [
       "<Client: 'tls://10.244.177.36:8786' processes=0 threads=0, memory=0 B>"
      ]
     },
     "execution_count": 17,
     "metadata": {},
     "output_type": "execute_result"
    }
   ],
   "source": [
    "import dask\n",
    "import dask_gateway\n",
    "\n",
    "cluster = dask_gateway.GatewayCluster()\n",
    "client = cluster.get_client()\n",
    "#cluster.adapt(minimum=4, maximum=50)\n",
    "cluster.scale(30)\n",
    "client"
   ]
  },
  {
   "cell_type": "code",
   "execution_count": 18,
   "id": "30757be7-09e0-4a0e-b5d7-d229a2d4a666",
   "metadata": {},
   "outputs": [
    {
     "data": {
      "text/html": [
       "<table>\n",
       "    <tr>\n",
       "        <td>\n",
       "            <table>\n",
       "                <thead>\n",
       "                    <tr>\n",
       "                        <td> </td>\n",
       "                        <th> Array </th>\n",
       "                        <th> Chunk </th>\n",
       "                    </tr>\n",
       "                </thead>\n",
       "                <tbody>\n",
       "                    \n",
       "                    <tr>\n",
       "                        <th> Bytes </th>\n",
       "                        <td> 176.35 MiB </td>\n",
       "                        <td> 5.56 MiB </td>\n",
       "                    </tr>\n",
       "                    \n",
       "                    <tr>\n",
       "                        <th> Shape </th>\n",
       "                        <td> (23114446,) </td>\n",
       "                        <td> (728802,) </td>\n",
       "                    </tr>\n",
       "                    <tr>\n",
       "                        <th> Count </th>\n",
       "                        <td> 64 Tasks </td>\n",
       "                        <td> 32 Chunks </td>\n",
       "                    </tr>\n",
       "                    <tr>\n",
       "                    <th> Type </th>\n",
       "                    <td> int64 </td>\n",
       "                    <td> numpy.ndarray </td>\n",
       "                    </tr>\n",
       "                </tbody>\n",
       "            </table>\n",
       "        </td>\n",
       "        <td>\n",
       "        <svg width=\"170\" height=\"75\" style=\"stroke:rgb(0,0,0);stroke-width:1\" >\n",
       "\n",
       "  <!-- Horizontal lines -->\n",
       "  <line x1=\"0\" y1=\"0\" x2=\"120\" y2=\"0\" style=\"stroke-width:2\" />\n",
       "  <line x1=\"0\" y1=\"25\" x2=\"120\" y2=\"25\" style=\"stroke-width:2\" />\n",
       "\n",
       "  <!-- Vertical lines -->\n",
       "  <line x1=\"0\" y1=\"0\" x2=\"0\" y2=\"25\" style=\"stroke-width:2\" />\n",
       "  <line x1=\"3\" y1=\"0\" x2=\"3\" y2=\"25\" />\n",
       "  <line x1=\"11\" y1=\"0\" x2=\"11\" y2=\"25\" />\n",
       "  <line x1=\"18\" y1=\"0\" x2=\"18\" y2=\"25\" />\n",
       "  <line x1=\"22\" y1=\"0\" x2=\"22\" y2=\"25\" />\n",
       "  <line x1=\"30\" y1=\"0\" x2=\"30\" y2=\"25\" />\n",
       "  <line x1=\"37\" y1=\"0\" x2=\"37\" y2=\"25\" />\n",
       "  <line x1=\"41\" y1=\"0\" x2=\"41\" y2=\"25\" />\n",
       "  <line x1=\"49\" y1=\"0\" x2=\"49\" y2=\"25\" />\n",
       "  <line x1=\"56\" y1=\"0\" x2=\"56\" y2=\"25\" />\n",
       "  <line x1=\"60\" y1=\"0\" x2=\"60\" y2=\"25\" />\n",
       "  <line x1=\"68\" y1=\"0\" x2=\"68\" y2=\"25\" />\n",
       "  <line x1=\"75\" y1=\"0\" x2=\"75\" y2=\"25\" />\n",
       "  <line x1=\"79\" y1=\"0\" x2=\"79\" y2=\"25\" />\n",
       "  <line x1=\"87\" y1=\"0\" x2=\"87\" y2=\"25\" />\n",
       "  <line x1=\"94\" y1=\"0\" x2=\"94\" y2=\"25\" />\n",
       "  <line x1=\"98\" y1=\"0\" x2=\"98\" y2=\"25\" />\n",
       "  <line x1=\"105\" y1=\"0\" x2=\"105\" y2=\"25\" />\n",
       "  <line x1=\"113\" y1=\"0\" x2=\"113\" y2=\"25\" />\n",
       "  <line x1=\"120\" y1=\"0\" x2=\"120\" y2=\"25\" style=\"stroke-width:2\" />\n",
       "\n",
       "  <!-- Colored Rectangle -->\n",
       "  <polygon points=\"0.0,0.0 120.0,0.0 120.0,25.412616514582485 0.0,25.412616514582485\" style=\"fill:#8B4903A0;stroke-width:0\"/>\n",
       "\n",
       "  <!-- Text -->\n",
       "  <text x=\"60.000000\" y=\"45.412617\" font-size=\"1.0rem\" font-weight=\"100\" text-anchor=\"middle\" >23114446</text>\n",
       "  <text x=\"140.000000\" y=\"12.706308\" font-size=\"1.0rem\" font-weight=\"100\" text-anchor=\"middle\" transform=\"rotate(0,140.000000,12.706308)\">1</text>\n",
       "</svg>\n",
       "        </td>\n",
       "    </tr>\n",
       "</table>"
      ],
      "text/plain": [
       "dask.array<_predict, shape=(23114446,), dtype=int64, chunksize=(728802,), chunktype=numpy.ndarray>"
      ]
     },
     "execution_count": 18,
     "metadata": {},
     "output_type": "execute_result"
    }
   ],
   "source": [
    "scene_preds = rfc.predict(da_pixels)\n",
    "scene_preds"
   ]
  },
  {
   "cell_type": "code",
   "execution_count": 19,
   "id": "c307c184-142c-47aa-b11e-58faa589c7e3",
   "metadata": {},
   "outputs": [
    {
     "name": "stdout",
     "output_type": "stream",
     "text": [
      "65.15723180770874\n"
     ]
    }
   ],
   "source": [
    "t0 = time.time()\n",
    "#print('starting time: ', t0)\n",
    "\n",
    "preds = scene_preds.compute()\n",
    "print((time.time()-t0))"
   ]
  },
  {
   "cell_type": "code",
   "execution_count": 20,
   "id": "81628d8e-6afd-4d6d-9ab3-089ec2121bb7",
   "metadata": {},
   "outputs": [
    {
     "data": {
      "text/plain": [
       "array([0, 0, 0, ..., 0, 0, 0])"
      ]
     },
     "execution_count": 20,
     "metadata": {},
     "output_type": "execute_result"
    }
   ],
   "source": [
    "with warnings.catch_warnings():\n",
    "    warnings.simplefilter(\"ignore\")\n",
    "    \n",
    "    nrows = scene.shape[1]\n",
    "    ncols = scene.shape[2]\n",
    "    index = predictions_df[predictions_df.prediction == 1].index.to_numpy()\n",
    "    preds = ipf.indices_backto_image(nrows,ncols, index)\n",
    "    print('converted back to image')"
   ]
  },
  {
   "cell_type": "code",
   "execution_count": null,
   "id": "3f98b27e-fea5-45f1-b375-b8f204a10624",
   "metadata": {},
   "outputs": [],
   "source": []
  }
 ],
 "metadata": {
  "kernelspec": {
   "display_name": "Python 3 (ipykernel)",
   "language": "python",
   "name": "python3"
  },
  "language_info": {
   "codemirror_mode": {
    "name": "ipython",
    "version": 3
   },
   "file_extension": ".py",
   "mimetype": "text/x-python",
   "name": "python",
   "nbconvert_exporter": "python",
   "pygments_lexer": "ipython3",
   "version": "3.8.13"
  }
 },
 "nbformat": 4,
 "nbformat_minor": 5
}
