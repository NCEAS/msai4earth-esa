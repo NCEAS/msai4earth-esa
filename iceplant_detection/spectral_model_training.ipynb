{
 "cells": [
  {
   "cell_type": "code",
   "execution_count": 1,
   "id": "768f1bd5-93bb-4099-b8d1-24189d2556af",
   "metadata": {},
   "outputs": [],
   "source": [
    "import os\n",
    "import pandas as pd\n",
    "\n",
    "from sklearn.ensemble import RandomForestClassifier\n",
    "from dask_ml.wrappers import ParallelPostFit\n",
    "\n",
    "import model_prep_and_evals as mpe\n",
    "\n",
    "from joblib import dump"
   ]
  },
  {
   "cell_type": "code",
   "execution_count": 2,
   "id": "c5e7dbd6-c476-4805-9679-6a2bb01b0858",
   "metadata": {},
   "outputs": [],
   "source": [
    "# **************************************************************\n",
    "# **************************************************************\n",
    "# whole_set = True => merge train+test sets and train model with combined dataset\n",
    "# whole_set = False => train model only with train set\n",
    "whole_set = False\n",
    "\n",
    "# **************************************************************\n",
    "# **************************************************************"
   ]
  },
  {
   "cell_type": "code",
   "execution_count": 3,
   "id": "efdae7ad-04c1-44ed-85af-9895c04cced2",
   "metadata": {},
   "outputs": [],
   "source": [
    "# open train data & select features and labels\n",
    "# select features from r (Red band) to avg_lidar\n",
    "# excludes x,y, pts_crs, aoi, naip_id, polygon_id, iceplant and lidar features\n",
    "X_train = pd.read_csv(os.path.join(os.getcwd(),'data_sampling_workflow','train_set.csv')).loc[:,'r':'day_in_year']\n",
    "\n",
    "# select iceplant feature column\n",
    "y_train = pd.read_csv(os.path.join(os.getcwd(),'data_sampling_workflow','train_set.csv')).loc[:,'iceplant'] \n",
    "\n",
    "# --------------------------------------------------------------------\n",
    "# open test data & select features and labels\n",
    "X_test = pd.read_csv(os.path.join(os.getcwd(),'data_sampling_workflow','test_set.csv')).loc[:,'r':'day_in_year']\n",
    "y_test = pd.read_csv(os.path.join(os.getcwd(),'data_sampling_workflow','test_set.csv')).loc[:,'iceplant'] \n",
    "\n",
    "if whole_set == True:\n",
    "    X_train = pd.concat([X_train, X_test], axis=0)\n",
    "    y_train = pd.concat([y_train, y_test], axis=0)"
   ]
  },
  {
   "cell_type": "code",
   "execution_count": 4,
   "id": "2694120f-c121-4fa5-8dd8-cb7b2f3dbe64",
   "metadata": {},
   "outputs": [],
   "source": [
    "feature_names = X_train.columns.to_list()\n",
    "X_train = X_train.to_numpy()\n",
    "y_train = y_train.to_numpy()"
   ]
  },
  {
   "cell_type": "code",
   "execution_count": 5,
   "id": "eea7e71e-0655-4a61-842c-51a697a0b6fc",
   "metadata": {},
   "outputs": [
    {
     "data": {
      "text/plain": [
       "['spectral_rfc.joblib']"
      ]
     },
     "execution_count": 5,
     "metadata": {},
     "output_type": "execute_result"
    }
   ],
   "source": [
    "rfc = ParallelPostFit(RandomForestClassifier(n_estimators = 100, \n",
    "                                             random_state = 42))\n",
    "rfc.fit(X_train, y_train)\n",
    "dump(rfc, 'spectral_rfc.joblib')"
   ]
  },
  {
   "cell_type": "code",
   "execution_count": 6,
   "id": "d02d6ba1-755e-4900-96c7-f717cc60b0a9",
   "metadata": {},
   "outputs": [],
   "source": [
    "# TO DO: make txt with model metadata. Include feature names in order\n",
    "# TO DO: include model's cross validation?"
   ]
  },
  {
   "cell_type": "code",
   "execution_count": 7,
   "id": "3238837c-166c-4c10-acd1-3ce1adaff524",
   "metadata": {},
   "outputs": [
    {
     "name": "stdout",
     "output_type": "stream",
     "text": [
      "true negatives: 91381     false positives: 2412\n",
      "false negatives: 2480     true positives: 50938\n",
      "\n",
      "sensitivity (TP/P): 95.36 %\n",
      "specificity (TN/N): 97.43 %\n",
      "G-mean:  0.96\n",
      "\n",
      "precision (TP/(TP+FP)): 95.48 %\n",
      "\n",
      "MCC:  0.9281122528692484\n",
      "\n",
      "F1-measure:  0.95418\n",
      "F0.5-measure (min false positives):  0.95455\n",
      "F2-measure (min false negatives)  :  0.95382\n",
      "\n",
      "accuracy: 96.68 %\n"
     ]
    }
   ],
   "source": [
    "if whole_set == False:\n",
    "    preds = rfc.predict(X_test.to_numpy())\n",
    "    mpe.print_accuracy_info(y_test.to_numpy(),preds)"
   ]
  },
  {
   "cell_type": "code",
   "execution_count": null,
   "id": "13c76247-c275-4c81-9376-f269cba3449f",
   "metadata": {},
   "outputs": [],
   "source": []
  }
 ],
 "metadata": {
  "kernelspec": {
   "display_name": "Python 3 (ipykernel)",
   "language": "python",
   "name": "python3"
  },
  "language_info": {
   "codemirror_mode": {
    "name": "ipython",
    "version": 3
   },
   "file_extension": ".py",
   "mimetype": "text/x-python",
   "name": "python",
   "nbconvert_exporter": "python",
   "pygments_lexer": "ipython3",
   "version": "3.8.13"
  }
 },
 "nbformat": 4,
 "nbformat_minor": 5
}
