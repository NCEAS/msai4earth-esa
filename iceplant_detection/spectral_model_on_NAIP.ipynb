{
 "cells": [
  {
   "cell_type": "code",
   "execution_count": null,
   "id": "ac271b88-9130-4bc6-afcb-5792001adc4b",
   "metadata": {},
   "outputs": [],
   "source": [
    "import os\n",
    "import time\n",
    "import pandas as pd\n",
    "import numpy as np\n",
    "\n",
    "import rasterio\n",
    "\n",
    "import dask_gateway\n",
    "import dask.array as da\n",
    "\n",
    "from joblib import load\n",
    "\n",
    "import raster_to_features as rm"
   ]
  },
  {
   "cell_type": "code",
   "execution_count": null,
   "id": "06533bd1-9f89-43f8-862d-e677c27fdd64",
   "metadata": {},
   "outputs": [],
   "source": [
    "scene_ids = pd.read_csv(os.path.join(os.getcwd(),'temp','coastal_scenes_ids_2020.csv')).itemid.loc[1:26]\n",
    "scene_ids = [scene_ids[3]]\n",
    "scene_ids"
   ]
  },
  {
   "cell_type": "code",
   "execution_count": null,
   "id": "d51c3dd2-5c69-461b-a1be-29d928e1bf85",
   "metadata": {},
   "outputs": [],
   "source": [
    "# open pre-trained random forest classifier\n",
    "rfc = load('spectral_rfc.joblib') \n",
    "print('loaded model')"
   ]
  },
  {
   "cell_type": "code",
   "execution_count": null,
   "id": "6adc4a12-af14-4e41-9b93-21cf1e153bed",
   "metadata": {
    "tags": []
   },
   "outputs": [],
   "source": [
    "# initialize DASK cluster\n",
    "cluster = dask_gateway.GatewayCluster()\n",
    "cluster.scale(30)\n",
    "\n",
    "client = cluster.get_client()\n",
    "client"
   ]
  },
  {
   "cell_type": "code",
   "execution_count": null,
   "id": "c3b8ee7c-427b-4a72-95bb-b65c7174bb41",
   "metadata": {},
   "outputs": [],
   "source": [
    "for itemid in scene_ids:\n",
    "\n",
    "    # ---------------------------------------\n",
    "    # open NAIP scene\n",
    "    t_alpha = time.time()\n",
    "    raster = rm.rioxr_from_itemid(itemid)\n",
    "\n",
    "#    rm.raster_as_df(raster.to_numpy(), ['r','g','b','nir'])\n",
    "\n",
    "    # find vegetation pixels to go into model\n",
    "    # keep ndices of water and low-ndvi pixels\n",
    "    # adds ndvi and ndwi features for each pixel\n",
    "    t0 = time.time()\n",
    "    is_veg, water_index, not_veg_index = rm.add_spectral_features(df = rm.raster_as_df(raster.to_numpy(), \n",
    "                                                                                       ['r','g','b','nir']), #names of bands\n",
    "                                                               ndwi_thresh = 0.3, \n",
    "                                                               ndvi_thresh = 0.05) \n",
    "    # select features\n",
    "    is_veg.drop('ndwi', axis=1, inplace=True)\n",
    "    is_veg = rm.add_date_features(is_veg, raster.datetime)\n",
    "    print('assembled pixels dataframe with features\\n   time taken to assemble: ', time.time() - t0,' s')\n",
    "\n",
    "    # ---------------------------------------\n",
    "    # convert into dask.array and predict using model\n",
    "    da_pixels = da.from_array(np.array(is_veg), chunks=728802)\n",
    "\n",
    "    scene_preds = rfc.predict(da_pixels)    \n",
    "\n",
    "    t0 = time.time()\n",
    "    preds = scene_preds.compute()\n",
    "    print('finished predicting\\n   time taken to predict: ', time.time() - t0,' s')\n",
    "\n",
    "    # ---------------------------------------\n",
    "    # recover pixel indices for iceplant classifications\n",
    "    preds_df = pd.DataFrame(preds, \n",
    "                         columns=['is_iceplant'], \n",
    "                         index = is_veg.index)\n",
    "    is_iceplant_index = preds_df[preds_df.is_iceplant == 1].index.to_numpy()\n",
    "    non_iceplant_index = preds_df[preds_df.is_iceplant == 0].index.to_numpy()\n",
    "\n",
    "    # ---------------------------------------\n",
    "    # reconstruct indices into image\n",
    "    indices = [non_iceplant_index,\n",
    "               is_iceplant_index, \n",
    "               not_veg_index,\n",
    "               water_index]\n",
    "    values = [0,    # values assigned to pixels from each index\n",
    "              1,\n",
    "              2,\n",
    "              3]\n",
    "    t0 = time.time()\n",
    "    reconstruct = rm.indices_to_image(raster.shape[1], raster.shape[2], indices, values, back_value=100)\n",
    "    print('reconstructed image\\n   time taken to reconstruct: ', time.time() - t0,' s')\n",
    "\n",
    "    # ---------------------------------------\n",
    "    # save raster \n",
    "    filename = 'S_preds_' + itemid +'.tif'\n",
    "\n",
    "    with rasterio.open(\n",
    "        os.path.join(os.getcwd(),'temp',filename),  # file path\n",
    "        'w',           # w = write\n",
    "        driver = 'GTiff', # format\n",
    "        height = reconstruct.shape[0], \n",
    "        width = reconstruct.shape[1],\n",
    "        count = 1,  # number of raster bands in the dataset\n",
    "        dtype = rasterio.uint8,\n",
    "        crs = raster.rio.crs,\n",
    "        transform = raster.rio.transform(),\n",
    "    ) as dst:\n",
    "        dst.write(reconstruct.astype(rasterio.uint8), 1)\n",
    "    # ---------------------------------------\n",
    "    print('total tme:', time.time() - t_alpha)\n",
    "    print('FINISHED: ', itemid , '\\n')"
   ]
  },
  {
   "cell_type": "code",
   "execution_count": null,
   "id": "bb353e50-c262-4a0a-a2f4-924ebb013082",
   "metadata": {},
   "outputs": [],
   "source": []
  },
  {
   "cell_type": "code",
   "execution_count": null,
   "id": "79343f24-1a74-41a6-a28b-efb5a678eac8",
   "metadata": {},
   "outputs": [],
   "source": []
  }
 ],
 "metadata": {
  "kernelspec": {
   "display_name": "Python [conda env:notebook] *",
   "language": "python",
   "name": "conda-env-notebook-py"
  },
  "language_info": {
   "codemirror_mode": {
    "name": "ipython",
    "version": 3
   },
   "file_extension": ".py",
   "mimetype": "text/x-python",
   "name": "python",
   "nbconvert_exporter": "python",
   "pygments_lexer": "ipython3",
   "version": "3.10.6"
  }
 },
 "nbformat": 4,
 "nbformat_minor": 5
}
