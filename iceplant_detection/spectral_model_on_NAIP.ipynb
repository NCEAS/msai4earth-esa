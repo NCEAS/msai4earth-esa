{
 "cells": [
  {
   "cell_type": "code",
   "execution_count": null,
   "id": "ac271b88-9130-4bc6-afcb-5792001adc4b",
   "metadata": {},
   "outputs": [],
   "source": [
    "import os\n",
    "import pandas as pd\n",
    "import numpy as np\n",
    "\n",
    "import rasterio\n",
    "\n",
    "import dask_gateway\n",
    "import dask.array as da\n",
    "\n",
    "import refactoring_modules asrm"
   ]
  },
  {
   "cell_type": "code",
   "execution_count": null,
   "id": "e1f7c408-9530-4c9e-a562-475d88665e1f",
   "metadata": {},
   "outputs": [],
   "source": [
    "# **************************************************************\n",
    "# ********* SPECIFY ITEMID AND LIDAR YEAR TO MATCH HERE ********\n",
    "\n",
    "itemid = 'ca_m_3411934_sw_11_060_20200521'\n",
    "year = 2020\n",
    "\n",
    "filename = 'SPECTRAL_campus_'+str(year)+'_predictions.tif'\n",
    "\n",
    "# **************************************************************\n",
    "# **************************************************************"
   ]
  },
  {
   "cell_type": "code",
   "execution_count": null,
   "id": "ceda2ad2-a1b8-4dd0-a7db-7ec6eedbe42a",
   "metadata": {},
   "outputs": [],
   "source": [
    "cluster = dask_gateway.GatewayCluster()\n",
    "client = cluster.get_client()\n",
    "#cluster.adapt(minimum=4, maximum=50)\n",
    "cluster.scale(30)\n",
    "client"
   ]
  },
  {
   "cell_type": "code",
   "execution_count": null,
   "id": "b01c6f22-0b2c-4c6d-bb79-9f6b4886704f",
   "metadata": {},
   "outputs": [],
   "source": [
    "raster = rm.rioxr_from_itemid(itemid)\n",
    "\n",
    "is_veg, water_index, not_veg_index = rm.add_spectral_features(df = rm.raster_as_df(raster.to_numpy(), ['r','g','b','nir']), \n",
    "                                                           ndwi_thresh = 0.3, \n",
    "                                                           ndvi_thresh = 0.05) \n",
    "is_veg.drop('ndwi', axis=1, inplace=True)\n",
    "is_veg = rm.add_date_features(is_veg, raster.datetime)\n",
    "\n",
    "da_pixels = da.from_array(np.array(is_veg), chunks=728802)\n",
    "scene_preds = rfc.predict(da_pixels)\n",
    "preds = scene_preds.compute()\n",
    "\n",
    "preds_df = pd.DataFrame(preds, \n",
    "                     columns=['is_iceplant'], \n",
    "                     index = is_veg.index)\n",
    "is_iceplant_index = preds_df[preds_df.is_iceplant == 1].index.to_numpy()\n",
    "non_iceplant_index = preds_df[preds_df.is_iceplant == 0].index.to_numpy()\n",
    "\n",
    "indices = [non_iceplant_index,\n",
    "           is_iceplant_index, \n",
    "           not_veg_index,\n",
    "           water_index]\n",
    "values = [0,\n",
    "          1,\n",
    "          2,\n",
    "          3]\n",
    "\n",
    "reconstruct = rm.indices_to_image(raster.shape[1], raster.shape[2], indices, values, back_value=100)\n",
    "\n",
    "\n",
    "if save_raster == True:\n",
    "    with rasterio.open(\n",
    "        os.path.join(os.getcwd(),'temp',filename),  # file path\n",
    "        'w',           # w = write\n",
    "        driver = 'GTiff', # format\n",
    "        height = reconstruct.shape[0], \n",
    "        width = reconstruct.shape[1],\n",
    "        count = 1,  # number of raster bands in the dataset\n",
    "        dtype = rasterio.uint8,\n",
    "        crs = rast.crs,\n",
    "        transform = rast.transform,\n",
    "    ) as dst:\n",
    "        dst.write(reconstruct.astype(rasterio.uint8), 1)"
   ]
  }
 ],
 "metadata": {
  "kernelspec": {
   "display_name": "Python 3 (ipykernel)",
   "language": "python",
   "name": "python3"
  },
  "language_info": {
   "codemirror_mode": {
    "name": "ipython",
    "version": 3
   },
   "file_extension": ".py",
   "mimetype": "text/x-python",
   "name": "python",
   "nbconvert_exporter": "python",
   "pygments_lexer": "ipython3",
   "version": "3.8.13"
  }
 },
 "nbformat": 4,
 "nbformat_minor": 5
}
