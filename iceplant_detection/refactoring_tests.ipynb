{
 "cells": [
  {
   "cell_type": "code",
   "execution_count": 1,
   "id": "513edea3-6e10-48cc-b6f2-57fd65628e09",
   "metadata": {
    "tags": []
   },
   "outputs": [],
   "source": [
    "import os\n",
    "import pandas as pd\n",
    "import numpy as np\n",
    "import matplotlib.pyplot as plt\n",
    "\n",
    "import rasterio\n",
    "import rioxarray as rioxr\n",
    "import geopandas as gpd\n",
    "\n",
    "import planetary_computer as pc\n",
    "\n",
    "from shapely.geometry import Polygon\n",
    "\n",
    "import data_sampling_workflow.utility as utility"
   ]
  },
  {
   "cell_type": "code",
   "execution_count": 2,
   "id": "1965fc23-f442-4606-ae6b-bd55a2afd881",
   "metadata": {},
   "outputs": [],
   "source": [
    "itemid = 'ca_m_3411934_sw_11_060_20200521'\n",
    "# Fields next to Goleta Slough\n",
    "reduce_box = Polygon([[-119.8284196946,34.4162731913],\n",
    "                       [-119.8101541026,34.4162731913],\n",
    "                       [-119.8101541026,34.4353838099],\n",
    "                       [-119.8284196946,34.4353838099],\n",
    "                       [-119.8284196946,34.4162731913]])\n",
    "\n",
    "reduce_box_crs=\"EPSG:4326\""
   ]
  },
  {
   "cell_type": "code",
   "execution_count": 3,
   "id": "69edf7d8-e5f7-44d0-83cb-f04a1fd1358b",
   "metadata": {},
   "outputs": [
    {
     "data": {
      "text/plain": [
       "datetime.datetime(2020, 5, 21, 0, 0, tzinfo=tzlocal())"
      ]
     },
     "execution_count": 3,
     "metadata": {},
     "output_type": "execute_result"
    }
   ],
   "source": [
    "item = utility.get_item_from_id(itemid)\n",
    "item.datetime"
   ]
  },
  {
   "cell_type": "code",
   "execution_count": null,
   "id": "16faca10-e53b-42d8-a478-12f4545f5708",
   "metadata": {},
   "outputs": [],
   "source": [
    "type(item.datetime)"
   ]
  },
  {
   "cell_type": "code",
   "execution_count": null,
   "id": "79f1e8dd-166a-4a34-9d59-14f67ead7124",
   "metadata": {},
   "outputs": [],
   "source": [
    "type(item.datetime.date())"
   ]
  },
  {
   "cell_type": "code",
   "execution_count": 4,
   "id": "47b8e84b-65bb-41c2-b951-d9497ebadb14",
   "metadata": {},
   "outputs": [],
   "source": [
    "# ***************************************************************************************************\n",
    "# ***************************************************************************************************\n",
    "\n",
    "def rioxr_from_itemid(itemid, reduce_box = False, reduce_box_crs = False):\n",
    "    item = utility.get_item_from_id(itemid)\n",
    "    href = pc.sign(item.assets[\"image\"].href)\n",
    "    \n",
    "    rast = rioxr.open_rasterio(href)\n",
    "    \n",
    "    if reduce_box != False:\n",
    "        reduce = gpd.GeoDataFrame({'geometry':[reduce_box]}, crs=reduce_box_crs)\n",
    "        reduce = reduce.to_crs(rast.rio.crs)        \n",
    "        rast = rast.rio.clip_box(*reduce.total_bounds)\n",
    "    \n",
    "    rast.attrs['datetime'] = item.datetime\n",
    "    \n",
    "    return rast"
   ]
  },
  {
   "cell_type": "code",
   "execution_count": 5,
   "id": "182055a8-1725-4e2f-b525-fcbe3dfb4c6b",
   "metadata": {},
   "outputs": [
    {
     "data": {
      "text/html": [
       "<div><svg style=\"position: absolute; width: 0; height: 0; overflow: hidden\">\n",
       "<defs>\n",
       "<symbol id=\"icon-database\" viewBox=\"0 0 32 32\">\n",
       "<path d=\"M16 0c-8.837 0-16 2.239-16 5v4c0 2.761 7.163 5 16 5s16-2.239 16-5v-4c0-2.761-7.163-5-16-5z\"></path>\n",
       "<path d=\"M16 17c-8.837 0-16-2.239-16-5v6c0 2.761 7.163 5 16 5s16-2.239 16-5v-6c0 2.761-7.163 5-16 5z\"></path>\n",
       "<path d=\"M16 26c-8.837 0-16-2.239-16-5v6c0 2.761 7.163 5 16 5s16-2.239 16-5v-6c0 2.761-7.163 5-16 5z\"></path>\n",
       "</symbol>\n",
       "<symbol id=\"icon-file-text2\" viewBox=\"0 0 32 32\">\n",
       "<path d=\"M28.681 7.159c-0.694-0.947-1.662-2.053-2.724-3.116s-2.169-2.030-3.116-2.724c-1.612-1.182-2.393-1.319-2.841-1.319h-15.5c-1.378 0-2.5 1.121-2.5 2.5v27c0 1.378 1.122 2.5 2.5 2.5h23c1.378 0 2.5-1.122 2.5-2.5v-19.5c0-0.448-0.137-1.23-1.319-2.841zM24.543 5.457c0.959 0.959 1.712 1.825 2.268 2.543h-4.811v-4.811c0.718 0.556 1.584 1.309 2.543 2.268zM28 29.5c0 0.271-0.229 0.5-0.5 0.5h-23c-0.271 0-0.5-0.229-0.5-0.5v-27c0-0.271 0.229-0.5 0.5-0.5 0 0 15.499-0 15.5 0v7c0 0.552 0.448 1 1 1h7v19.5z\"></path>\n",
       "<path d=\"M23 26h-14c-0.552 0-1-0.448-1-1s0.448-1 1-1h14c0.552 0 1 0.448 1 1s-0.448 1-1 1z\"></path>\n",
       "<path d=\"M23 22h-14c-0.552 0-1-0.448-1-1s0.448-1 1-1h14c0.552 0 1 0.448 1 1s-0.448 1-1 1z\"></path>\n",
       "<path d=\"M23 18h-14c-0.552 0-1-0.448-1-1s0.448-1 1-1h14c0.552 0 1 0.448 1 1s-0.448 1-1 1z\"></path>\n",
       "</symbol>\n",
       "</defs>\n",
       "</svg>\n",
       "<style>/* CSS stylesheet for displaying xarray objects in jupyterlab.\n",
       " *\n",
       " */\n",
       "\n",
       ":root {\n",
       "  --xr-font-color0: var(--jp-content-font-color0, rgba(0, 0, 0, 1));\n",
       "  --xr-font-color2: var(--jp-content-font-color2, rgba(0, 0, 0, 0.54));\n",
       "  --xr-font-color3: var(--jp-content-font-color3, rgba(0, 0, 0, 0.38));\n",
       "  --xr-border-color: var(--jp-border-color2, #e0e0e0);\n",
       "  --xr-disabled-color: var(--jp-layout-color3, #bdbdbd);\n",
       "  --xr-background-color: var(--jp-layout-color0, white);\n",
       "  --xr-background-color-row-even: var(--jp-layout-color1, white);\n",
       "  --xr-background-color-row-odd: var(--jp-layout-color2, #eeeeee);\n",
       "}\n",
       "\n",
       "html[theme=dark],\n",
       "body.vscode-dark {\n",
       "  --xr-font-color0: rgba(255, 255, 255, 1);\n",
       "  --xr-font-color2: rgba(255, 255, 255, 0.54);\n",
       "  --xr-font-color3: rgba(255, 255, 255, 0.38);\n",
       "  --xr-border-color: #1F1F1F;\n",
       "  --xr-disabled-color: #515151;\n",
       "  --xr-background-color: #111111;\n",
       "  --xr-background-color-row-even: #111111;\n",
       "  --xr-background-color-row-odd: #313131;\n",
       "}\n",
       "\n",
       ".xr-wrap {\n",
       "  display: block !important;\n",
       "  min-width: 300px;\n",
       "  max-width: 700px;\n",
       "}\n",
       "\n",
       ".xr-text-repr-fallback {\n",
       "  /* fallback to plain text repr when CSS is not injected (untrusted notebook) */\n",
       "  display: none;\n",
       "}\n",
       "\n",
       ".xr-header {\n",
       "  padding-top: 6px;\n",
       "  padding-bottom: 6px;\n",
       "  margin-bottom: 4px;\n",
       "  border-bottom: solid 1px var(--xr-border-color);\n",
       "}\n",
       "\n",
       ".xr-header > div,\n",
       ".xr-header > ul {\n",
       "  display: inline;\n",
       "  margin-top: 0;\n",
       "  margin-bottom: 0;\n",
       "}\n",
       "\n",
       ".xr-obj-type,\n",
       ".xr-array-name {\n",
       "  margin-left: 2px;\n",
       "  margin-right: 10px;\n",
       "}\n",
       "\n",
       ".xr-obj-type {\n",
       "  color: var(--xr-font-color2);\n",
       "}\n",
       "\n",
       ".xr-sections {\n",
       "  padding-left: 0 !important;\n",
       "  display: grid;\n",
       "  grid-template-columns: 150px auto auto 1fr 20px 20px;\n",
       "}\n",
       "\n",
       ".xr-section-item {\n",
       "  display: contents;\n",
       "}\n",
       "\n",
       ".xr-section-item input {\n",
       "  display: none;\n",
       "}\n",
       "\n",
       ".xr-section-item input + label {\n",
       "  color: var(--xr-disabled-color);\n",
       "}\n",
       "\n",
       ".xr-section-item input:enabled + label {\n",
       "  cursor: pointer;\n",
       "  color: var(--xr-font-color2);\n",
       "}\n",
       "\n",
       ".xr-section-item input:enabled + label:hover {\n",
       "  color: var(--xr-font-color0);\n",
       "}\n",
       "\n",
       ".xr-section-summary {\n",
       "  grid-column: 1;\n",
       "  color: var(--xr-font-color2);\n",
       "  font-weight: 500;\n",
       "}\n",
       "\n",
       ".xr-section-summary > span {\n",
       "  display: inline-block;\n",
       "  padding-left: 0.5em;\n",
       "}\n",
       "\n",
       ".xr-section-summary-in:disabled + label {\n",
       "  color: var(--xr-font-color2);\n",
       "}\n",
       "\n",
       ".xr-section-summary-in + label:before {\n",
       "  display: inline-block;\n",
       "  content: '►';\n",
       "  font-size: 11px;\n",
       "  width: 15px;\n",
       "  text-align: center;\n",
       "}\n",
       "\n",
       ".xr-section-summary-in:disabled + label:before {\n",
       "  color: var(--xr-disabled-color);\n",
       "}\n",
       "\n",
       ".xr-section-summary-in:checked + label:before {\n",
       "  content: '▼';\n",
       "}\n",
       "\n",
       ".xr-section-summary-in:checked + label > span {\n",
       "  display: none;\n",
       "}\n",
       "\n",
       ".xr-section-summary,\n",
       ".xr-section-inline-details {\n",
       "  padding-top: 4px;\n",
       "  padding-bottom: 4px;\n",
       "}\n",
       "\n",
       ".xr-section-inline-details {\n",
       "  grid-column: 2 / -1;\n",
       "}\n",
       "\n",
       ".xr-section-details {\n",
       "  display: none;\n",
       "  grid-column: 1 / -1;\n",
       "  margin-bottom: 5px;\n",
       "}\n",
       "\n",
       ".xr-section-summary-in:checked ~ .xr-section-details {\n",
       "  display: contents;\n",
       "}\n",
       "\n",
       ".xr-array-wrap {\n",
       "  grid-column: 1 / -1;\n",
       "  display: grid;\n",
       "  grid-template-columns: 20px auto;\n",
       "}\n",
       "\n",
       ".xr-array-wrap > label {\n",
       "  grid-column: 1;\n",
       "  vertical-align: top;\n",
       "}\n",
       "\n",
       ".xr-preview {\n",
       "  color: var(--xr-font-color3);\n",
       "}\n",
       "\n",
       ".xr-array-preview,\n",
       ".xr-array-data {\n",
       "  padding: 0 5px !important;\n",
       "  grid-column: 2;\n",
       "}\n",
       "\n",
       ".xr-array-data,\n",
       ".xr-array-in:checked ~ .xr-array-preview {\n",
       "  display: none;\n",
       "}\n",
       "\n",
       ".xr-array-in:checked ~ .xr-array-data,\n",
       ".xr-array-preview {\n",
       "  display: inline-block;\n",
       "}\n",
       "\n",
       ".xr-dim-list {\n",
       "  display: inline-block !important;\n",
       "  list-style: none;\n",
       "  padding: 0 !important;\n",
       "  margin: 0;\n",
       "}\n",
       "\n",
       ".xr-dim-list li {\n",
       "  display: inline-block;\n",
       "  padding: 0;\n",
       "  margin: 0;\n",
       "}\n",
       "\n",
       ".xr-dim-list:before {\n",
       "  content: '(';\n",
       "}\n",
       "\n",
       ".xr-dim-list:after {\n",
       "  content: ')';\n",
       "}\n",
       "\n",
       ".xr-dim-list li:not(:last-child):after {\n",
       "  content: ',';\n",
       "  padding-right: 5px;\n",
       "}\n",
       "\n",
       ".xr-has-index {\n",
       "  font-weight: bold;\n",
       "}\n",
       "\n",
       ".xr-var-list,\n",
       ".xr-var-item {\n",
       "  display: contents;\n",
       "}\n",
       "\n",
       ".xr-var-item > div,\n",
       ".xr-var-item label,\n",
       ".xr-var-item > .xr-var-name span {\n",
       "  background-color: var(--xr-background-color-row-even);\n",
       "  margin-bottom: 0;\n",
       "}\n",
       "\n",
       ".xr-var-item > .xr-var-name:hover span {\n",
       "  padding-right: 5px;\n",
       "}\n",
       "\n",
       ".xr-var-list > li:nth-child(odd) > div,\n",
       ".xr-var-list > li:nth-child(odd) > label,\n",
       ".xr-var-list > li:nth-child(odd) > .xr-var-name span {\n",
       "  background-color: var(--xr-background-color-row-odd);\n",
       "}\n",
       "\n",
       ".xr-var-name {\n",
       "  grid-column: 1;\n",
       "}\n",
       "\n",
       ".xr-var-dims {\n",
       "  grid-column: 2;\n",
       "}\n",
       "\n",
       ".xr-var-dtype {\n",
       "  grid-column: 3;\n",
       "  text-align: right;\n",
       "  color: var(--xr-font-color2);\n",
       "}\n",
       "\n",
       ".xr-var-preview {\n",
       "  grid-column: 4;\n",
       "}\n",
       "\n",
       ".xr-var-name,\n",
       ".xr-var-dims,\n",
       ".xr-var-dtype,\n",
       ".xr-preview,\n",
       ".xr-attrs dt {\n",
       "  white-space: nowrap;\n",
       "  overflow: hidden;\n",
       "  text-overflow: ellipsis;\n",
       "  padding-right: 10px;\n",
       "}\n",
       "\n",
       ".xr-var-name:hover,\n",
       ".xr-var-dims:hover,\n",
       ".xr-var-dtype:hover,\n",
       ".xr-attrs dt:hover {\n",
       "  overflow: visible;\n",
       "  width: auto;\n",
       "  z-index: 1;\n",
       "}\n",
       "\n",
       ".xr-var-attrs,\n",
       ".xr-var-data {\n",
       "  display: none;\n",
       "  background-color: var(--xr-background-color) !important;\n",
       "  padding-bottom: 5px !important;\n",
       "}\n",
       "\n",
       ".xr-var-attrs-in:checked ~ .xr-var-attrs,\n",
       ".xr-var-data-in:checked ~ .xr-var-data {\n",
       "  display: block;\n",
       "}\n",
       "\n",
       ".xr-var-data > table {\n",
       "  float: right;\n",
       "}\n",
       "\n",
       ".xr-var-name span,\n",
       ".xr-var-data,\n",
       ".xr-attrs {\n",
       "  padding-left: 25px !important;\n",
       "}\n",
       "\n",
       ".xr-attrs,\n",
       ".xr-var-attrs,\n",
       ".xr-var-data {\n",
       "  grid-column: 1 / -1;\n",
       "}\n",
       "\n",
       "dl.xr-attrs {\n",
       "  padding: 0;\n",
       "  margin: 0;\n",
       "  display: grid;\n",
       "  grid-template-columns: 125px auto;\n",
       "}\n",
       "\n",
       ".xr-attrs dt,\n",
       ".xr-attrs dd {\n",
       "  padding: 0;\n",
       "  margin: 0;\n",
       "  float: left;\n",
       "  padding-right: 10px;\n",
       "  width: auto;\n",
       "}\n",
       "\n",
       ".xr-attrs dt {\n",
       "  font-weight: normal;\n",
       "  grid-column: 1;\n",
       "}\n",
       "\n",
       ".xr-attrs dt:hover span {\n",
       "  display: inline-block;\n",
       "  background: var(--xr-background-color);\n",
       "  padding-right: 10px;\n",
       "}\n",
       "\n",
       ".xr-attrs dd {\n",
       "  grid-column: 2;\n",
       "  white-space: pre-wrap;\n",
       "  word-break: break-all;\n",
       "}\n",
       "\n",
       ".xr-icon-database,\n",
       ".xr-icon-file-text2 {\n",
       "  display: inline-block;\n",
       "  vertical-align: middle;\n",
       "  width: 1em;\n",
       "  height: 1.5em !important;\n",
       "  stroke-width: 0;\n",
       "  stroke: currentColor;\n",
       "  fill: currentColor;\n",
       "}\n",
       "</style><pre class='xr-text-repr-fallback'>&lt;xarray.DataArray (band: 4, y: 12500, x: 10580)&gt;\n",
       "[529000000 values with dtype=uint8]\n",
       "Coordinates:\n",
       "  * band         (band) int64 1 2 3 4\n",
       "  * x            (x) float64 2.354e+05 2.354e+05 ... 2.418e+05 2.418e+05\n",
       "  * y            (y) float64 3.815e+06 3.815e+06 ... 3.807e+06 3.807e+06\n",
       "    spatial_ref  int64 0\n",
       "Attributes:\n",
       "    _FillValue:    0.0\n",
       "    scale_factor:  1.0\n",
       "    add_offset:    0.0\n",
       "    datetime:      2020-05-21 00:00:00+00:00</pre><div class='xr-wrap' style='display:none'><div class='xr-header'><div class='xr-obj-type'>xarray.DataArray</div><div class='xr-array-name'></div><ul class='xr-dim-list'><li><span class='xr-has-index'>band</span>: 4</li><li><span class='xr-has-index'>y</span>: 12500</li><li><span class='xr-has-index'>x</span>: 10580</li></ul></div><ul class='xr-sections'><li class='xr-section-item'><div class='xr-array-wrap'><input id='section-fc26ae71-7ea4-4e2d-9fa7-7829e6ff9221' class='xr-array-in' type='checkbox' checked><label for='section-fc26ae71-7ea4-4e2d-9fa7-7829e6ff9221' title='Show/hide data repr'><svg class='icon xr-icon-database'><use xlink:href='#icon-database'></use></svg></label><div class='xr-array-preview xr-preview'><span>...</span></div><div class='xr-array-data'><pre>[529000000 values with dtype=uint8]</pre></div></div></li><li class='xr-section-item'><input id='section-6b16765a-fa13-4279-9e19-7eb7dc2cd567' class='xr-section-summary-in' type='checkbox'  checked><label for='section-6b16765a-fa13-4279-9e19-7eb7dc2cd567' class='xr-section-summary' >Coordinates: <span>(4)</span></label><div class='xr-section-inline-details'></div><div class='xr-section-details'><ul class='xr-var-list'><li class='xr-var-item'><div class='xr-var-name'><span class='xr-has-index'>band</span></div><div class='xr-var-dims'>(band)</div><div class='xr-var-dtype'>int64</div><div class='xr-var-preview xr-preview'>1 2 3 4</div><input id='attrs-5e13d9d8-6c0f-4a3b-aa30-042033e74f00' class='xr-var-attrs-in' type='checkbox' disabled><label for='attrs-5e13d9d8-6c0f-4a3b-aa30-042033e74f00' title='Show/Hide attributes'><svg class='icon xr-icon-file-text2'><use xlink:href='#icon-file-text2'></use></svg></label><input id='data-983da2ab-8829-4781-aed6-984960f1ab59' class='xr-var-data-in' type='checkbox'><label for='data-983da2ab-8829-4781-aed6-984960f1ab59' title='Show/Hide data repr'><svg class='icon xr-icon-database'><use xlink:href='#icon-database'></use></svg></label><div class='xr-var-attrs'><dl class='xr-attrs'></dl></div><div class='xr-var-data'><pre>array([1, 2, 3, 4])</pre></div></li><li class='xr-var-item'><div class='xr-var-name'><span class='xr-has-index'>x</span></div><div class='xr-var-dims'>(x)</div><div class='xr-var-dtype'>float64</div><div class='xr-var-preview xr-preview'>2.354e+05 2.354e+05 ... 2.418e+05</div><input id='attrs-68d85bc0-5e4c-4150-abc7-a17e45239c54' class='xr-var-attrs-in' type='checkbox' disabled><label for='attrs-68d85bc0-5e4c-4150-abc7-a17e45239c54' title='Show/Hide attributes'><svg class='icon xr-icon-file-text2'><use xlink:href='#icon-file-text2'></use></svg></label><input id='data-c27e7cc4-f455-4ca3-9f6e-9465d6d1b457' class='xr-var-data-in' type='checkbox'><label for='data-c27e7cc4-f455-4ca3-9f6e-9465d6d1b457' title='Show/Hide data repr'><svg class='icon xr-icon-database'><use xlink:href='#icon-database'></use></svg></label><div class='xr-var-attrs'><dl class='xr-attrs'></dl></div><div class='xr-var-data'><pre>array([235428.3, 235428.9, 235429.5, ..., 241774.5, 241775.1, 241775.7])</pre></div></li><li class='xr-var-item'><div class='xr-var-name'><span class='xr-has-index'>y</span></div><div class='xr-var-dims'>(y)</div><div class='xr-var-dtype'>float64</div><div class='xr-var-preview xr-preview'>3.815e+06 3.815e+06 ... 3.807e+06</div><input id='attrs-9d867d5a-c80f-485a-9c6a-29d08a58fe17' class='xr-var-attrs-in' type='checkbox' disabled><label for='attrs-9d867d5a-c80f-485a-9c6a-29d08a58fe17' title='Show/Hide attributes'><svg class='icon xr-icon-file-text2'><use xlink:href='#icon-file-text2'></use></svg></label><input id='data-8ecc93ec-3428-4126-8cbe-ba8740578686' class='xr-var-data-in' type='checkbox'><label for='data-8ecc93ec-3428-4126-8cbe-ba8740578686' title='Show/Hide data repr'><svg class='icon xr-icon-database'><use xlink:href='#icon-database'></use></svg></label><div class='xr-var-attrs'><dl class='xr-attrs'></dl></div><div class='xr-var-data'><pre>array([3814619.7, 3814619.1, 3814618.5, ..., 3807121.5, 3807120.9, 3807120.3])</pre></div></li><li class='xr-var-item'><div class='xr-var-name'><span>spatial_ref</span></div><div class='xr-var-dims'>()</div><div class='xr-var-dtype'>int64</div><div class='xr-var-preview xr-preview'>0</div><input id='attrs-dd49cb43-cc6f-4801-8227-0fe25af8a577' class='xr-var-attrs-in' type='checkbox' ><label for='attrs-dd49cb43-cc6f-4801-8227-0fe25af8a577' title='Show/Hide attributes'><svg class='icon xr-icon-file-text2'><use xlink:href='#icon-file-text2'></use></svg></label><input id='data-cbe36c8f-4e21-40b8-8e5c-19585de1bbf3' class='xr-var-data-in' type='checkbox'><label for='data-cbe36c8f-4e21-40b8-8e5c-19585de1bbf3' title='Show/Hide data repr'><svg class='icon xr-icon-database'><use xlink:href='#icon-database'></use></svg></label><div class='xr-var-attrs'><dl class='xr-attrs'><dt><span>crs_wkt :</span></dt><dd>PROJCS[&quot;NAD83 / UTM zone 11N&quot;,GEOGCS[&quot;NAD83&quot;,DATUM[&quot;North_American_Datum_1983&quot;,SPHEROID[&quot;GRS 1980&quot;,6378137,298.257222101,AUTHORITY[&quot;EPSG&quot;,&quot;7019&quot;]],AUTHORITY[&quot;EPSG&quot;,&quot;6269&quot;]],PRIMEM[&quot;Greenwich&quot;,0,AUTHORITY[&quot;EPSG&quot;,&quot;8901&quot;]],UNIT[&quot;degree&quot;,0.0174532925199433,AUTHORITY[&quot;EPSG&quot;,&quot;9122&quot;]],AUTHORITY[&quot;EPSG&quot;,&quot;4269&quot;]],PROJECTION[&quot;Transverse_Mercator&quot;],PARAMETER[&quot;latitude_of_origin&quot;,0],PARAMETER[&quot;central_meridian&quot;,-117],PARAMETER[&quot;scale_factor&quot;,0.9996],PARAMETER[&quot;false_easting&quot;,500000],PARAMETER[&quot;false_northing&quot;,0],UNIT[&quot;metre&quot;,1,AUTHORITY[&quot;EPSG&quot;,&quot;9001&quot;]],AXIS[&quot;Easting&quot;,EAST],AXIS[&quot;Northing&quot;,NORTH],AUTHORITY[&quot;EPSG&quot;,&quot;26911&quot;]]</dd><dt><span>semi_major_axis :</span></dt><dd>6378137.0</dd><dt><span>semi_minor_axis :</span></dt><dd>6356752.314140356</dd><dt><span>inverse_flattening :</span></dt><dd>298.257222101</dd><dt><span>reference_ellipsoid_name :</span></dt><dd>GRS 1980</dd><dt><span>longitude_of_prime_meridian :</span></dt><dd>0.0</dd><dt><span>prime_meridian_name :</span></dt><dd>Greenwich</dd><dt><span>geographic_crs_name :</span></dt><dd>NAD83</dd><dt><span>horizontal_datum_name :</span></dt><dd>North American Datum 1983</dd><dt><span>projected_crs_name :</span></dt><dd>NAD83 / UTM zone 11N</dd><dt><span>grid_mapping_name :</span></dt><dd>transverse_mercator</dd><dt><span>latitude_of_projection_origin :</span></dt><dd>0.0</dd><dt><span>longitude_of_central_meridian :</span></dt><dd>-117.0</dd><dt><span>false_easting :</span></dt><dd>500000.0</dd><dt><span>false_northing :</span></dt><dd>0.0</dd><dt><span>scale_factor_at_central_meridian :</span></dt><dd>0.9996</dd><dt><span>spatial_ref :</span></dt><dd>PROJCS[&quot;NAD83 / UTM zone 11N&quot;,GEOGCS[&quot;NAD83&quot;,DATUM[&quot;North_American_Datum_1983&quot;,SPHEROID[&quot;GRS 1980&quot;,6378137,298.257222101,AUTHORITY[&quot;EPSG&quot;,&quot;7019&quot;]],AUTHORITY[&quot;EPSG&quot;,&quot;6269&quot;]],PRIMEM[&quot;Greenwich&quot;,0,AUTHORITY[&quot;EPSG&quot;,&quot;8901&quot;]],UNIT[&quot;degree&quot;,0.0174532925199433,AUTHORITY[&quot;EPSG&quot;,&quot;9122&quot;]],AUTHORITY[&quot;EPSG&quot;,&quot;4269&quot;]],PROJECTION[&quot;Transverse_Mercator&quot;],PARAMETER[&quot;latitude_of_origin&quot;,0],PARAMETER[&quot;central_meridian&quot;,-117],PARAMETER[&quot;scale_factor&quot;,0.9996],PARAMETER[&quot;false_easting&quot;,500000],PARAMETER[&quot;false_northing&quot;,0],UNIT[&quot;metre&quot;,1,AUTHORITY[&quot;EPSG&quot;,&quot;9001&quot;]],AXIS[&quot;Easting&quot;,EAST],AXIS[&quot;Northing&quot;,NORTH],AUTHORITY[&quot;EPSG&quot;,&quot;26911&quot;]]</dd><dt><span>GeoTransform :</span></dt><dd>235428.0 0.6 0.0 3814620.0 0.0 -0.6</dd></dl></div><div class='xr-var-data'><pre>array(0)</pre></div></li></ul></div></li><li class='xr-section-item'><input id='section-f035ae31-b799-437a-9f80-09e58cfc31dc' class='xr-section-summary-in' type='checkbox'  checked><label for='section-f035ae31-b799-437a-9f80-09e58cfc31dc' class='xr-section-summary' >Attributes: <span>(4)</span></label><div class='xr-section-inline-details'></div><div class='xr-section-details'><dl class='xr-attrs'><dt><span>_FillValue :</span></dt><dd>0.0</dd><dt><span>scale_factor :</span></dt><dd>1.0</dd><dt><span>add_offset :</span></dt><dd>0.0</dd><dt><span>datetime :</span></dt><dd>2020-05-21 00:00:00+00:00</dd></dl></div></li></ul></div></div>"
      ],
      "text/plain": [
       "<xarray.DataArray (band: 4, y: 12500, x: 10580)>\n",
       "[529000000 values with dtype=uint8]\n",
       "Coordinates:\n",
       "  * band         (band) int64 1 2 3 4\n",
       "  * x            (x) float64 2.354e+05 2.354e+05 ... 2.418e+05 2.418e+05\n",
       "  * y            (y) float64 3.815e+06 3.815e+06 ... 3.807e+06 3.807e+06\n",
       "    spatial_ref  int64 0\n",
       "Attributes:\n",
       "    _FillValue:    0.0\n",
       "    scale_factor:  1.0\n",
       "    add_offset:    0.0\n",
       "    datetime:      2020-05-21 00:00:00+00:00"
      ]
     },
     "execution_count": 5,
     "metadata": {},
     "output_type": "execute_result"
    }
   ],
   "source": [
    "rast = rioxr_from_itemid(itemid)\n",
    "rast"
   ]
  },
  {
   "cell_type": "code",
   "execution_count": null,
   "id": "4a835915-366c-46b5-9e16-68ec79567b84",
   "metadata": {},
   "outputs": [],
   "source": [
    "rast.attrs['datetime'] == item.datetime"
   ]
  },
  {
   "cell_type": "code",
   "execution_count": null,
   "id": "0c61adc6-bd2d-40d7-9734-9b9c35900a03",
   "metadata": {},
   "outputs": [],
   "source": [
    "type(rast)"
   ]
  },
  {
   "cell_type": "code",
   "execution_count": null,
   "id": "e7f2094c-6434-449d-9d61-1808a69fe368",
   "metadata": {},
   "outputs": [],
   "source": [
    "rast.rio.crs"
   ]
  },
  {
   "cell_type": "code",
   "execution_count": null,
   "id": "7ad7a7d1-8309-403a-948d-c66f3aa48a71",
   "metadata": {},
   "outputs": [],
   "source": [
    "rast.rio.transform()"
   ]
  },
  {
   "cell_type": "code",
   "execution_count": null,
   "id": "b040911d-4f2f-4309-97a5-c2e84225e35e",
   "metadata": {},
   "outputs": [],
   "source": [
    "rast_small = rioxr_from_itemid(itemid, reduce_box, reduce_box_crs)\n",
    "rast_small"
   ]
  },
  {
   "cell_type": "code",
   "execution_count": null,
   "id": "2f7d74bc-8135-41ef-81d8-999016a99610",
   "metadata": {},
   "outputs": [],
   "source": [
    "rast_small.rio.crs"
   ]
  },
  {
   "cell_type": "code",
   "execution_count": null,
   "id": "1049d93b-6628-46f0-88fe-fd2e4bd98f87",
   "metadata": {},
   "outputs": [],
   "source": [
    "rast_small.rio.transform()"
   ]
  },
  {
   "cell_type": "code",
   "execution_count": 6,
   "id": "e9fa60a1-8a20-4a54-9c9f-53f76eaef829",
   "metadata": {},
   "outputs": [],
   "source": [
    "# ***************************************************************************************************\n",
    "# ***************************************************************************************************\n",
    "\n",
    "def raster_as_df(raster, band_names):\n",
    "    \"\"\"\n",
    "             Parameters:\n",
    "       \n",
    "            Returns: \n",
    "    \"\"\" \n",
    "    \n",
    "    pixels = raster.reshape([len(band_names),-1]).T\n",
    "    df = pd.DataFrame(pixels, columns=band_names) \n",
    "    return df"
   ]
  },
  {
   "cell_type": "code",
   "execution_count": 7,
   "id": "1358e2d6-2485-466a-a0c8-1441e93c6e64",
   "metadata": {},
   "outputs": [],
   "source": [
    "pixels = raster_as_df(rast.to_numpy(),  ['r','g','b','nir'])"
   ]
  },
  {
   "cell_type": "code",
   "execution_count": 8,
   "id": "76afa2f6-a7c1-4135-8849-5438d917721f",
   "metadata": {},
   "outputs": [],
   "source": [
    "def normalized_difference_index(df, *args):\n",
    "    m = args[0]\n",
    "    n = args[1]\n",
    "    \n",
    "    x = df.iloc[:, m].astype('int16')  \n",
    "    y = df.iloc[:, n].astype('int16')\n",
    "    return (x-y) / (x+y)"
   ]
  },
  {
   "cell_type": "code",
   "execution_count": null,
   "id": "34290968-1b64-47e9-a1f7-9f7ce22f66ff",
   "metadata": {},
   "outputs": [],
   "source": [
    "ndvi = normalized_difference_index(pixels,3,0)\n",
    "ndvi"
   ]
  },
  {
   "cell_type": "code",
   "execution_count": 9,
   "id": "b6d4ac80-d902-42df-8115-84452b98ab8a",
   "metadata": {},
   "outputs": [],
   "source": [
    "def feature_df_treshold(df, feature_name, thresh, keep_gr, func, *args):\n",
    "    \n",
    "    df[feature_name] = func(df, *args)\n",
    "    \n",
    "    if keep_gr == True:\n",
    "        keep = df[df[feature_name] > thresh]\n",
    "        deleted_indices = df[df[feature_name] <= thresh].index\n",
    "    else : \n",
    "        keep = df[df[feature_name] < thresh]\n",
    "        deleted_indices = df[df[feature_name] >= thresh].index\n",
    "        \n",
    "    deleted_indices = deleted_indices.to_numpy()\n",
    "    \n",
    "    return keep, deleted_indices"
   ]
  },
  {
   "cell_type": "code",
   "execution_count": 10,
   "id": "44f15692-3c8b-41d3-9fe8-b0f0c0f74884",
   "metadata": {},
   "outputs": [],
   "source": [
    "not_water, water_index = feature_df_treshold(pixels, 'ndwi', 0.3, False, normalized_difference_index, 1,3)"
   ]
  },
  {
   "cell_type": "code",
   "execution_count": 11,
   "id": "e78306c1-f82c-43d5-950b-c2e25e4a74fa",
   "metadata": {},
   "outputs": [
    {
     "name": "stderr",
     "output_type": "stream",
     "text": [
      "/tmp/ipykernel_3167/312715764.py:3: SettingWithCopyWarning: \n",
      "A value is trying to be set on a copy of a slice from a DataFrame.\n",
      "Try using .loc[row_indexer,col_indexer] = value instead\n",
      "\n",
      "See the caveats in the documentation: https://pandas.pydata.org/pandas-docs/stable/user_guide/indexing.html#returning-a-view-versus-a-copy\n",
      "  df[feature_name] = func(df, *args)\n"
     ]
    }
   ],
   "source": [
    "is_veg, non_veg_index = feature_df_treshold(not_water, 'ndvi', 0.05, True, normalized_difference_index, 3,0)"
   ]
  },
  {
   "cell_type": "code",
   "execution_count": null,
   "id": "c1191dd5-397e-4e0c-b3ca-645c5fa08613",
   "metadata": {},
   "outputs": [],
   "source": [
    "is_veg"
   ]
  },
  {
   "cell_type": "code",
   "execution_count": 12,
   "id": "32e0633b-2986-479c-8f04-148b79f4f749",
   "metadata": {},
   "outputs": [
    {
     "data": {
      "text/plain": [
       "array([       13,        75,        76, ..., 132249997, 132249998,\n",
       "       132249999])"
      ]
     },
     "execution_count": 12,
     "metadata": {},
     "output_type": "execute_result"
    }
   ],
   "source": [
    "water_index"
   ]
  },
  {
   "cell_type": "code",
   "execution_count": 13,
   "id": "401d4937-dd37-45d4-9c82-ab447edac813",
   "metadata": {},
   "outputs": [
    {
     "data": {
      "text/plain": [
       "array([        0,         1,         2, ..., 132220804, 132228346,\n",
       "       132231481])"
      ]
     },
     "execution_count": 13,
     "metadata": {},
     "output_type": "execute_result"
    }
   ],
   "source": [
    "non_veg_index"
   ]
  },
  {
   "cell_type": "code",
   "execution_count": 14,
   "id": "255d5c4b-dc85-4174-9843-3dd67ce71f40",
   "metadata": {},
   "outputs": [],
   "source": [
    "def indices_to_image(nrows, ncols, indices_list, values, back_value):\n",
    "    # background, any pixel not in the union of indices will be given this value\n",
    "    reconstruct = np.ones((nrows,ncols))*back_value \n",
    "\n",
    "    # TO DO: check indices list and values lengths are the same?\n",
    "    for k in range(0,len(indices_list)):\n",
    "        i = indices_list[k] / ncols\n",
    "        i = i.astype(int)\n",
    "        j = indices_list[k] % ncols\n",
    "        reconstruct[i,j] = values[k]\n",
    "    \n",
    "    return reconstruct"
   ]
  },
  {
   "cell_type": "code",
   "execution_count": 17,
   "id": "92e91048-ca15-4fca-a25b-08e0b67aa01d",
   "metadata": {},
   "outputs": [],
   "source": [
    "reconstruct = indices_to_image(12500, 10580, [water_index, non_veg_index], [3,2], back_value=1)"
   ]
  },
  {
   "cell_type": "code",
   "execution_count": 19,
   "id": "b7b8cbb2-c04a-45db-b2fc-09c8fd4124ca",
   "metadata": {},
   "outputs": [],
   "source": [
    "utility.save_raster(reconstruct, \n",
    "                    os.getcwd()+'/trial.tif', \n",
    "                    (rast.shape[1],rast.shape[2]), \n",
    "                    1, \n",
    "                    rast.rio.crs, \n",
    "                    rast.rio.transform(), 'int16' )\n"
   ]
  },
  {
   "cell_type": "code",
   "execution_count": null,
   "id": "5a7e5f7e-9ed4-45ee-8245-acc7bac841b3",
   "metadata": {},
   "outputs": [],
   "source": []
  }
 ],
 "metadata": {
  "kernelspec": {
   "display_name": "Python 3 (ipykernel)",
   "language": "python",
   "name": "python3"
  },
  "language_info": {
   "codemirror_mode": {
    "name": "ipython",
    "version": 3
   },
   "file_extension": ".py",
   "mimetype": "text/x-python",
   "name": "python",
   "nbconvert_exporter": "python",
   "pygments_lexer": "ipython3",
   "version": "3.8.13"
  }
 },
 "nbformat": 4,
 "nbformat_minor": 5
}
