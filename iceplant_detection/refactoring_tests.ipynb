{
 "cells": [
  {
   "cell_type": "code",
   "execution_count": null,
   "id": "1965fc23-f442-4606-ae6b-bd55a2afd881",
   "metadata": {},
   "outputs": [],
   "source": [
    "itemid = 'ca_m_3411934_sw_11_060_20200521'\n",
    "# Fields next to Goleta Slough\n",
    "reduce_box = Polygon([[-119.8284196946,34.4162731913],\n",
    "                       [-119.8101541026,34.4162731913],\n",
    "                       [-119.8101541026,34.4353838099],\n",
    "                       [-119.8284196946,34.4353838099],\n",
    "                       [-119.8284196946,34.4162731913]])\n",
    "\n",
    "reduce_box_crs=\"EPSG:4326\""
   ]
  },
  {
   "cell_type": "code",
   "execution_count": null,
   "id": "69edf7d8-e5f7-44d0-83cb-f04a1fd1358b",
   "metadata": {},
   "outputs": [],
   "source": [
    "item = utility.get_item_from_id(itemid)\n",
    "item.datetime"
   ]
  },
  {
   "cell_type": "code",
   "execution_count": null,
   "id": "16faca10-e53b-42d8-a478-12f4545f5708",
   "metadata": {},
   "outputs": [],
   "source": [
    "type(item.datetime)"
   ]
  },
  {
   "cell_type": "code",
   "execution_count": null,
   "id": "79f1e8dd-166a-4a34-9d59-14f67ead7124",
   "metadata": {},
   "outputs": [],
   "source": [
    "type(item.datetime.date())"
   ]
  },
  {
   "cell_type": "code",
   "execution_count": null,
   "id": "47b8e84b-65bb-41c2-b951-d9497ebadb14",
   "metadata": {},
   "outputs": [],
   "source": [
    "# ***************************************************************************************************\n",
    "# ***************************************************************************************************\n",
    "\n",
    "def rioxr_from_itemid(itemid, reduce_box = False, reduce_box_crs = False):\n",
    "    item = utility.get_item_from_id(itemid)\n",
    "    href = pc.sign(item.assets[\"image\"].href)\n",
    "    \n",
    "    rast = rioxr.open_rasterio(href)\n",
    "    \n",
    "    if reduce_box != False:\n",
    "        reduce = gpd.GeoDataFrame({'geometry':[reduce_box]}, crs=reduce_box_crs)\n",
    "        reduce = reduce.to_crs(rast.rio.crs)        \n",
    "        rast = rast.rio.clip_box(*reduce.total_bounds)\n",
    "    \n",
    "    rast.attrs['datetime'] = item.datetime\n",
    "    \n",
    "    return rast"
   ]
  },
  {
   "cell_type": "code",
   "execution_count": null,
   "id": "182055a8-1725-4e2f-b525-fcbe3dfb4c6b",
   "metadata": {},
   "outputs": [],
   "source": [
    "rast = rioxr_from_itemid(itemid)\n",
    "rast"
   ]
  },
  {
   "cell_type": "code",
   "execution_count": null,
   "id": "4a835915-366c-46b5-9e16-68ec79567b84",
   "metadata": {},
   "outputs": [],
   "source": [
    "rast.attrs['datetime'] == item.datetime"
   ]
  },
  {
   "cell_type": "code",
   "execution_count": null,
   "id": "0c61adc6-bd2d-40d7-9734-9b9c35900a03",
   "metadata": {},
   "outputs": [],
   "source": [
    "type(rast)"
   ]
  },
  {
   "cell_type": "code",
   "execution_count": null,
   "id": "e7f2094c-6434-449d-9d61-1808a69fe368",
   "metadata": {},
   "outputs": [],
   "source": [
    "rast.rio.crs"
   ]
  },
  {
   "cell_type": "code",
   "execution_count": null,
   "id": "7ad7a7d1-8309-403a-948d-c66f3aa48a71",
   "metadata": {},
   "outputs": [],
   "source": [
    "rast.rio.transform()"
   ]
  },
  {
   "cell_type": "code",
   "execution_count": null,
   "id": "b040911d-4f2f-4309-97a5-c2e84225e35e",
   "metadata": {},
   "outputs": [],
   "source": [
    "rast_small = rioxr_from_itemid(itemid, reduce_box, reduce_box_crs)\n",
    "rast_small"
   ]
  },
  {
   "cell_type": "code",
   "execution_count": null,
   "id": "2f7d74bc-8135-41ef-81d8-999016a99610",
   "metadata": {},
   "outputs": [],
   "source": [
    "rast_small.rio.crs"
   ]
  },
  {
   "cell_type": "code",
   "execution_count": null,
   "id": "1049d93b-6628-46f0-88fe-fd2e4bd98f87",
   "metadata": {},
   "outputs": [],
   "source": [
    "rast_small.rio.transform()"
   ]
  },
  {
   "cell_type": "code",
   "execution_count": null,
   "id": "e9fa60a1-8a20-4a54-9c9f-53f76eaef829",
   "metadata": {},
   "outputs": [],
   "source": [
    "# ***************************************************************************************************\n",
    "# ***************************************************************************************************\n",
    "\n",
    "def raster_as_df(raster, band_names):\n",
    "    \"\"\"\n",
    "             Parameters:\n",
    "       \n",
    "            Returns: \n",
    "    \"\"\" \n",
    "    \n",
    "    pixels = raster.reshape([len(band_names),-1]).T\n",
    "    df = pd.DataFrame(pixels, columns=band_names) \n",
    "    return df"
   ]
  },
  {
   "cell_type": "code",
   "execution_count": null,
   "id": "1358e2d6-2485-466a-a0c8-1441e93c6e64",
   "metadata": {},
   "outputs": [],
   "source": [
    "pixels = raster_as_df(rast.to_numpy(),  ['r','g','b','nir'])"
   ]
  },
  {
   "cell_type": "code",
   "execution_count": null,
   "id": "76afa2f6-a7c1-4135-8849-5438d917721f",
   "metadata": {},
   "outputs": [],
   "source": [
    "# ***************************************************************************************************\n",
    "# ***************************************************************************************************\n",
    "\n",
    "def normalized_difference_index(df, *args):\n",
    "    m = args[0]\n",
    "    n = args[1]\n",
    "    \n",
    "    x = df.iloc[:, m].astype('int16')  \n",
    "    y = df.iloc[:, n].astype('int16')\n",
    "    return (x-y) / (x+y)"
   ]
  },
  {
   "cell_type": "code",
   "execution_count": null,
   "id": "34290968-1b64-47e9-a1f7-9f7ce22f66ff",
   "metadata": {},
   "outputs": [],
   "source": [
    "ndvi = normalized_difference_index(pixels,3,0)\n",
    "ndvi"
   ]
  },
  {
   "cell_type": "code",
   "execution_count": null,
   "id": "b6d4ac80-d902-42df-8115-84452b98ab8a",
   "metadata": {},
   "outputs": [],
   "source": [
    "# ***************************************************************************************************\n",
    "# ***************************************************************************************************\n",
    "\n",
    "def feature_df_treshold(df, feature_name, thresh, keep_gr, func, *args):\n",
    "    \n",
    "    df[feature_name] = func(df, *args)\n",
    "    \n",
    "    if keep_gr == True:\n",
    "        keep = df[df[feature_name] > thresh]\n",
    "        deleted_indices = df[df[feature_name] <= thresh].index\n",
    "    else : \n",
    "        keep = df[df[feature_name] < thresh]\n",
    "        deleted_indices = df[df[feature_name] >= thresh].index\n",
    "        \n",
    "    deleted_indices = deleted_indices.to_numpy()\n",
    "    \n",
    "    return keep, deleted_indices"
   ]
  },
  {
   "cell_type": "code",
   "execution_count": null,
   "id": "44f15692-3c8b-41d3-9fe8-b0f0c0f74884",
   "metadata": {},
   "outputs": [],
   "source": [
    "not_water, water_index = feature_df_treshold(pixels, 'ndwi', 0.3, False, normalized_difference_index, 1,3)"
   ]
  },
  {
   "cell_type": "code",
   "execution_count": null,
   "id": "e78306c1-f82c-43d5-950b-c2e25e4a74fa",
   "metadata": {},
   "outputs": [],
   "source": [
    "is_veg, non_veg_index = feature_df_treshold(not_water, 'ndvi', 0.05, True, normalized_difference_index, 3,0)"
   ]
  },
  {
   "cell_type": "code",
   "execution_count": null,
   "id": "c1191dd5-397e-4e0c-b3ca-645c5fa08613",
   "metadata": {},
   "outputs": [],
   "source": [
    "is_veg"
   ]
  },
  {
   "cell_type": "code",
   "execution_count": null,
   "id": "32e0633b-2986-479c-8f04-148b79f4f749",
   "metadata": {},
   "outputs": [],
   "source": [
    "water_index"
   ]
  },
  {
   "cell_type": "code",
   "execution_count": null,
   "id": "401d4937-dd37-45d4-9c82-ab447edac813",
   "metadata": {},
   "outputs": [],
   "source": [
    "non_veg_index"
   ]
  },
  {
   "cell_type": "code",
   "execution_count": null,
   "id": "255d5c4b-dc85-4174-9843-3dd67ce71f40",
   "metadata": {},
   "outputs": [],
   "source": [
    "def indices_to_image(nrows, ncols, indices_list, values, back_value):\n",
    "    # background, any pixel not in the union of indices will be given this value\n",
    "    reconstruct = np.ones((nrows,ncols))*back_value \n",
    "\n",
    "    # TO DO: check indices list and values lengths are the same?\n",
    "    for k in range(0,len(indices_list)):\n",
    "        i = indices_list[k] / ncols\n",
    "        i = i.astype(int)\n",
    "        j = indices_list[k] % ncols\n",
    "        reconstruct[i,j] = values[k]\n",
    "    \n",
    "    return reconstruct"
   ]
  },
  {
   "cell_type": "code",
   "execution_count": null,
   "id": "92e91048-ca15-4fca-a25b-08e0b67aa01d",
   "metadata": {},
   "outputs": [],
   "source": [
    "reconstruct = indices_to_image(12500, 10580, [water_index, non_veg_index], [3,2], back_value=1)"
   ]
  },
  {
   "cell_type": "code",
   "execution_count": null,
   "id": "b7b8cbb2-c04a-45db-b2fc-09c8fd4124ca",
   "metadata": {},
   "outputs": [],
   "source": [
    "utility.save_raster(reconstruct, \n",
    "                    os.getcwd()+'/trial.tif', \n",
    "                    (rast.shape[1],rast.shape[2]), \n",
    "                    1, \n",
    "                    rast.rio.crs, \n",
    "                    rast.rio.transform(), 'int16' )\n"
   ]
  },
  {
   "cell_type": "code",
   "execution_count": null,
   "id": "5a7e5f7e-9ed4-45ee-8245-acc7bac841b3",
   "metadata": {},
   "outputs": [],
   "source": [
    "# ***************************************************************************************************\n",
    "# ***************************************************************************************************\n",
    "\n",
    "def add_date_features(df, date): \n",
    "    kwargs = {'year' : date.year,\n",
    "             'month' : date.month,\n",
    "             'day_in_year' : utility.day_in_year(date.day, date.month, date.year)}\n",
    "    \n",
    "    return df.assign(**kwargs)"
   ]
  },
  {
   "cell_type": "code",
   "execution_count": null,
   "id": "2f0625f3-c22e-4682-9265-1b2a64a76185",
   "metadata": {},
   "outputs": [],
   "source": [
    "is_veg = add_date_features(pixels, rast.attrs['datetime'])"
   ]
  },
  {
   "cell_type": "code",
   "execution_count": null,
   "id": "a35d5b6e-340a-487c-bc1a-73e74d7deb7e",
   "metadata": {},
   "outputs": [],
   "source": [
    "is_veg"
   ]
  },
  {
   "cell_type": "code",
   "execution_count": null,
   "id": "c3a1bb30-b31f-4d08-9db5-0440f1667b74",
   "metadata": {},
   "outputs": [],
   "source": [
    "# TO DO: figure out warning about setting values on copy"
   ]
  },
  {
   "cell_type": "markdown",
   "id": "707a12d3-3868-43aa-979b-ac85d8a7c091",
   "metadata": {},
   "source": [
    "TIMING OLD VS NEW"
   ]
  },
  {
   "cell_type": "code",
   "execution_count": 1,
   "id": "513edea3-6e10-48cc-b6f2-57fd65628e09",
   "metadata": {
    "tags": []
   },
   "outputs": [],
   "source": [
    "import os\n",
    "import pandas as pd\n",
    "import numpy as np\n",
    "import matplotlib.pyplot as plt\n",
    "\n",
    "import time\n",
    "\n",
    "import rasterio\n",
    "import rioxarray as rioxr\n",
    "import geopandas as gpd\n",
    "\n",
    "import planetary_computer as pc\n",
    "\n",
    "from shapely.geometry import Polygon\n",
    "\n",
    "import data_sampling_workflow.utility as utility"
   ]
  },
  {
   "cell_type": "code",
   "execution_count": 2,
   "id": "03529bdd-7b27-4fd9-91b0-a38c92becdd3",
   "metadata": {},
   "outputs": [],
   "source": [
    "import iceplant_detection_functions as ipf\n",
    "import refactoring_modules as rm"
   ]
  },
  {
   "cell_type": "code",
   "execution_count": 3,
   "id": "7af9bbdc-f698-4153-87c1-c799f76253de",
   "metadata": {},
   "outputs": [],
   "source": [
    "# # ORIGINAL METHOD\n",
    "\n",
    "# itemid = 'ca_m_3411934_sw_11_060_20200521'\n",
    "# t0 = time.time()\n",
    "# item = utility.get_item_from_id(itemid)\n",
    "\n",
    "# df = ipf.features_over_aoi(item, \n",
    "#                            utility.get_raster_from_item(item).read([1,2,3,4]), \n",
    "#                            thresh=0.05)\n",
    "# print('time to make features df: ', (time.time()-t0))\n",
    "# # memory 2.14 GB\n",
    "# # time to make features df:  13.830940961837769"
   ]
  },
  {
   "cell_type": "code",
   "execution_count": 4,
   "id": "45fe0fe8-4de1-4f08-b755-c98b22418cba",
   "metadata": {},
   "outputs": [],
   "source": [
    "# def add_spectral_features(df, ndwi_thresh, ndvi_thresh):\n",
    "    \n",
    "#     not_water, water_index = rm.feature_df_treshold(df, \n",
    "#                                              'ndwi', ndwi_thresh, False, \n",
    "#                                              rm.normalized_difference_index, 1,3)   \n",
    "#     is_veg, not_veg_index = rm.feature_df_treshold(not_water, \n",
    "#                                                    'ndvi', ndvi_thresh, True, \n",
    "#                                                    rm.normalized_difference_index, 3,0)\n",
    "#     return is_veg, water_index, not_veg_index\n"
   ]
  },
  {
   "cell_type": "code",
   "execution_count": 5,
   "id": "fd8d5bfb-f674-43cc-b47f-0f685d89f8dd",
   "metadata": {},
   "outputs": [
    {
     "name": "stdout",
     "output_type": "stream",
     "text": [
      "time to make features df:  19.167106866836548\n"
     ]
    }
   ],
   "source": [
    "itemid = 'ca_m_3411934_sw_11_060_20200521'\n",
    "\n",
    "t0 = time.time()\n",
    "raster = rm.rioxr_from_itemid(itemid)\n",
    "\n",
    "is_veg, water_index, not_veg_index = rm.add_spectral_features(df = rm.raster_as_df(raster.to_numpy(), ['r','g','b','nir']), \n",
    "                                                           ndwi_thresh = 0.3, \n",
    "                                                           ndvi_thresh = 0.05) \n",
    "is_veg.drop('ndwi', axis=1, inplace=True)\n",
    "\n",
    "\n",
    "is_veg = rm.add_date_features(is_veg, raster.datetime)\n",
    "\n",
    "print('time to make features df: ', (time.time()-t0))\n",
    "# time to make features df:  19.167106866836548\n",
    "# memory usage after: 3.43 GB"
   ]
  },
  {
   "cell_type": "code",
   "execution_count": 6,
   "id": "3c10bc87-9ba8-4801-a65d-f7da23c4c4cd",
   "metadata": {},
   "outputs": [
    {
     "data": {
      "text/html": [
       "<div>\n",
       "<style scoped>\n",
       "    .dataframe tbody tr th:only-of-type {\n",
       "        vertical-align: middle;\n",
       "    }\n",
       "\n",
       "    .dataframe tbody tr th {\n",
       "        vertical-align: top;\n",
       "    }\n",
       "\n",
       "    .dataframe thead th {\n",
       "        text-align: right;\n",
       "    }\n",
       "</style>\n",
       "<table border=\"1\" class=\"dataframe\">\n",
       "  <thead>\n",
       "    <tr style=\"text-align: right;\">\n",
       "      <th></th>\n",
       "      <th>r</th>\n",
       "      <th>g</th>\n",
       "      <th>b</th>\n",
       "      <th>nir</th>\n",
       "      <th>ndvi</th>\n",
       "      <th>year</th>\n",
       "      <th>month</th>\n",
       "      <th>day_in_year</th>\n",
       "    </tr>\n",
       "  </thead>\n",
       "  <tbody>\n",
       "    <tr>\n",
       "      <th>83</th>\n",
       "      <td>79</td>\n",
       "      <td>101</td>\n",
       "      <td>86</td>\n",
       "      <td>147</td>\n",
       "      <td>0.300885</td>\n",
       "      <td>2020</td>\n",
       "      <td>5</td>\n",
       "      <td>142</td>\n",
       "    </tr>\n",
       "    <tr>\n",
       "      <th>84</th>\n",
       "      <td>71</td>\n",
       "      <td>98</td>\n",
       "      <td>73</td>\n",
       "      <td>158</td>\n",
       "      <td>0.379913</td>\n",
       "      <td>2020</td>\n",
       "      <td>5</td>\n",
       "      <td>142</td>\n",
       "    </tr>\n",
       "    <tr>\n",
       "      <th>85</th>\n",
       "      <td>95</td>\n",
       "      <td>118</td>\n",
       "      <td>82</td>\n",
       "      <td>180</td>\n",
       "      <td>0.309091</td>\n",
       "      <td>2020</td>\n",
       "      <td>5</td>\n",
       "      <td>142</td>\n",
       "    </tr>\n",
       "    <tr>\n",
       "      <th>86</th>\n",
       "      <td>105</td>\n",
       "      <td>125</td>\n",
       "      <td>93</td>\n",
       "      <td>188</td>\n",
       "      <td>0.283276</td>\n",
       "      <td>2020</td>\n",
       "      <td>5</td>\n",
       "      <td>142</td>\n",
       "    </tr>\n",
       "    <tr>\n",
       "      <th>87</th>\n",
       "      <td>155</td>\n",
       "      <td>164</td>\n",
       "      <td>138</td>\n",
       "      <td>185</td>\n",
       "      <td>0.088235</td>\n",
       "      <td>2020</td>\n",
       "      <td>5</td>\n",
       "      <td>142</td>\n",
       "    </tr>\n",
       "    <tr>\n",
       "      <th>...</th>\n",
       "      <td>...</td>\n",
       "      <td>...</td>\n",
       "      <td>...</td>\n",
       "      <td>...</td>\n",
       "      <td>...</td>\n",
       "      <td>...</td>\n",
       "      <td>...</td>\n",
       "      <td>...</td>\n",
       "    </tr>\n",
       "    <tr>\n",
       "      <th>131964172</th>\n",
       "      <td>32</td>\n",
       "      <td>49</td>\n",
       "      <td>54</td>\n",
       "      <td>38</td>\n",
       "      <td>0.085714</td>\n",
       "      <td>2020</td>\n",
       "      <td>5</td>\n",
       "      <td>142</td>\n",
       "    </tr>\n",
       "    <tr>\n",
       "      <th>131974752</th>\n",
       "      <td>33</td>\n",
       "      <td>45</td>\n",
       "      <td>53</td>\n",
       "      <td>39</td>\n",
       "      <td>0.083333</td>\n",
       "      <td>2020</td>\n",
       "      <td>5</td>\n",
       "      <td>142</td>\n",
       "    </tr>\n",
       "    <tr>\n",
       "      <th>132047704</th>\n",
       "      <td>50</td>\n",
       "      <td>92</td>\n",
       "      <td>76</td>\n",
       "      <td>66</td>\n",
       "      <td>0.137931</td>\n",
       "      <td>2020</td>\n",
       "      <td>5</td>\n",
       "      <td>142</td>\n",
       "    </tr>\n",
       "    <tr>\n",
       "      <th>132174895</th>\n",
       "      <td>78</td>\n",
       "      <td>121</td>\n",
       "      <td>130</td>\n",
       "      <td>88</td>\n",
       "      <td>0.060241</td>\n",
       "      <td>2020</td>\n",
       "      <td>5</td>\n",
       "      <td>142</td>\n",
       "    </tr>\n",
       "    <tr>\n",
       "      <th>132178596</th>\n",
       "      <td>68</td>\n",
       "      <td>100</td>\n",
       "      <td>106</td>\n",
       "      <td>81</td>\n",
       "      <td>0.087248</td>\n",
       "      <td>2020</td>\n",
       "      <td>5</td>\n",
       "      <td>142</td>\n",
       "    </tr>\n",
       "  </tbody>\n",
       "</table>\n",
       "<p>24691336 rows × 8 columns</p>\n",
       "</div>"
      ],
      "text/plain": [
       "             r    g    b  nir      ndvi  year  month  day_in_year\n",
       "83          79  101   86  147  0.300885  2020      5          142\n",
       "84          71   98   73  158  0.379913  2020      5          142\n",
       "85          95  118   82  180  0.309091  2020      5          142\n",
       "86         105  125   93  188  0.283276  2020      5          142\n",
       "87         155  164  138  185  0.088235  2020      5          142\n",
       "...        ...  ...  ...  ...       ...   ...    ...          ...\n",
       "131964172   32   49   54   38  0.085714  2020      5          142\n",
       "131974752   33   45   53   39  0.083333  2020      5          142\n",
       "132047704   50   92   76   66  0.137931  2020      5          142\n",
       "132174895   78  121  130   88  0.060241  2020      5          142\n",
       "132178596   68  100  106   81  0.087248  2020      5          142\n",
       "\n",
       "[24691336 rows x 8 columns]"
      ]
     },
     "execution_count": 6,
     "metadata": {},
     "output_type": "execute_result"
    }
   ],
   "source": [
    "is_veg"
   ]
  },
  {
   "cell_type": "code",
   "execution_count": null,
   "id": "480638bf-984b-4ba6-bb75-b39c7eca494e",
   "metadata": {},
   "outputs": [],
   "source": []
  },
  {
   "cell_type": "code",
   "execution_count": null,
   "id": "fc61faf5-6104-47eb-a1b1-ac9824544173",
   "metadata": {},
   "outputs": [],
   "source": [
    "is_veg"
   ]
  },
  {
   "cell_type": "code",
   "execution_count": null,
   "id": "e019d40a-6353-4bc5-8de7-31fe225693d7",
   "metadata": {},
   "outputs": [],
   "source": []
  }
 ],
 "metadata": {
  "kernelspec": {
   "display_name": "Python 3 (ipykernel)",
   "language": "python",
   "name": "python3"
  },
  "language_info": {
   "codemirror_mode": {
    "name": "ipython",
    "version": 3
   },
   "file_extension": ".py",
   "mimetype": "text/x-python",
   "name": "python",
   "nbconvert_exporter": "python",
   "pygments_lexer": "ipython3",
   "version": "3.8.13"
  }
 },
 "nbformat": 4,
 "nbformat_minor": 5
}
