{
 "cells": [
  {
   "cell_type": "code",
   "execution_count": 1,
   "id": "af1237f6-f936-42d9-afe7-68d619c05cb8",
   "metadata": {},
   "outputs": [],
   "source": [
    "import os\n",
    "import pandas as pd\n",
    "import numpy as np\n",
    "import matplotlib.pyplot as plt\n",
    "\n",
    "from sklearn.model_selection import train_test_split\n",
    "from sklearn.ensemble import RandomForestClassifier\n",
    "\n",
    "import rasterio\n",
    "import geopandas as gpd\n",
    "\n",
    "from shapely.geometry import Polygon\n",
    "\n",
    "import iceplant_detection_functions as ipf"
   ]
  },
  {
   "cell_type": "code",
   "execution_count": 2,
   "id": "d5fee6fe-cf53-45e5-a173-8fd8f350bb5d",
   "metadata": {},
   "outputs": [],
   "source": [
    "from imblearn.over_sampling import SMOTE"
   ]
  },
  {
   "cell_type": "code",
   "execution_count": 3,
   "id": "e1d135ba-0a83-4da3-9d42-14b37d7cdb3f",
   "metadata": {},
   "outputs": [],
   "source": [
    "#!pip install -U imbalanced-learn\n",
    "#https://imbalanced-learn.org/stable/install.html#getting-started"
   ]
  },
  {
   "cell_type": "markdown",
   "id": "7964e0ac-dc78-434b-8997-2329601c5835",
   "metadata": {},
   "source": [
    "# AREAS OF INTEREST"
   ]
  },
  {
   "cell_type": "code",
   "execution_count": 11,
   "id": "f56bbc84-f232-4dd4-a925-37817ba28a57",
   "metadata": {},
   "outputs": [],
   "source": [
    "aois = gpd.read_file(os.path.join(os.getcwd(),'areas_of_interest','areas_of_interest.shp'))\n",
    "cp = aois.iloc[0]  # Campus Lagoon aoi"
   ]
  },
  {
   "cell_type": "markdown",
   "id": "16254d3b-97dd-4583-9405-40cad1f6e138",
   "metadata": {},
   "source": [
    "# ASSEMBLE DATA\n",
    "\n",
    "All points in the training set were collected in a single NAIP image, \n",
    "id = cp.itemid"
   ]
  },
  {
   "cell_type": "code",
   "execution_count": 4,
   "id": "304dd340-6b8b-46f9-8355-3fe6c9469693",
   "metadata": {},
   "outputs": [
    {
     "data": {
      "text/plain": [
       "(395, 9)"
      ]
     },
     "execution_count": 4,
     "metadata": {},
     "output_type": "execute_result"
    }
   ],
   "source": [
    "fp = os.path.join(os.getcwd(),'training_set','aux_data','trainset_trees','trainset_trees.csv')\n",
    "trees_df = pd.read_csv(fp)\n",
    "#trees_df.head(1)\n",
    "trees_df.shape"
   ]
  },
  {
   "cell_type": "code",
   "execution_count": 5,
   "id": "8a4769e1-ea27-4625-8a42-f3249d3cab3b",
   "metadata": {},
   "outputs": [
    {
     "data": {
      "text/plain": [
       "(193345, 9)"
      ]
     },
     "execution_count": 5,
     "metadata": {},
     "output_type": "execute_result"
    }
   ],
   "source": [
    "fp = os.path.join(os.getcwd(),'training_set','aux_data','trainset_non_iceplant_vegetation.csv')\n",
    "noniceplant_features_df = pd.read_csv(fp)\n",
    "#noniceplant_features_df.head(1)\n",
    "noniceplant_features_df.shape"
   ]
  },
  {
   "cell_type": "code",
   "execution_count": 6,
   "id": "2ceed9d6-8c29-4065-b9a8-1ba85160f1ef",
   "metadata": {},
   "outputs": [
    {
     "data": {
      "text/plain": [
       "(4789, 9)"
      ]
     },
     "execution_count": 6,
     "metadata": {},
     "output_type": "execute_result"
    }
   ],
   "source": [
    "fp = os.path.join(os.getcwd(),'training_set','aux_data','trainset_BIG.csv')\n",
    "features_df = pd.read_csv(fp)\n",
    "#features_df.head(1)\n",
    "features_df.shape"
   ]
  },
  {
   "cell_type": "code",
   "execution_count": 7,
   "id": "c5bea301-7833-41b9-a900-d5e89944db79",
   "metadata": {},
   "outputs": [
    {
     "name": "stdout",
     "output_type": "stream",
     "text": [
      "no-iceplant:iceplant ratio     98.4 :1\n",
      "          counts  percentage\n",
      "iceplant                    \n",
      "0         158251       98.99\n",
      "1           1609        1.01\n",
      "\n"
     ]
    }
   ],
   "source": [
    "# add non-iceplant vegetation points sample to BIG training set \n",
    "features_df = pd.concat([features_df,\n",
    "                         noniceplant_features_df.sample(frac=0.8),\n",
    "                    #     noniceplant_features_df,\n",
    "                         trees_df])\n",
    "features_df.drop(['geometry','Unnamed: 0','x','y'],axis=1,inplace=True)\n",
    "ipf.iceplant_proportions(features_df.iceplant.to_numpy())"
   ]
  },
  {
   "cell_type": "markdown",
   "id": "201d8d09-7a8b-449f-8b84-25477bcb868b",
   "metadata": {},
   "source": [
    "# SPLIT INTO TRAIN/TEST"
   ]
  },
  {
   "cell_type": "code",
   "execution_count": 8,
   "id": "cba74c01-ad90-4b5f-a6df-764c417e506a",
   "metadata": {},
   "outputs": [
    {
     "name": "stdout",
     "output_type": "stream",
     "text": [
      "Training Features Shape: (111902, 4)\n",
      "Training Labels Shape: (111902,)\n",
      "Testing Features Shape: (47958, 4)\n",
      "Testing Labels Shape: (47958,)\n",
      "\n",
      "TRAIN SET COUNTS:\n",
      "no-iceplant:iceplant ratio     99.3 :1\n",
      "          counts  percentage\n",
      "iceplant                    \n",
      "0         110786        99.0\n",
      "1           1116         1.0\n",
      "\n",
      "TEST SET COUNTS:\n",
      "no-iceplant:iceplant ratio     96.3 :1\n",
      "          counts  percentage\n",
      "iceplant                    \n",
      "0          47465       98.97\n",
      "1            493        1.03\n",
      "\n"
     ]
    }
   ],
   "source": [
    "train_features, test_features, train_labels, test_labels = ipf.test_train_from_df(features_df)\n",
    "\n",
    "ipf.train_test_shapes(train_features, train_labels, test_features, test_labels)\n",
    "ipf.test_train_proportions(train_labels, test_labels)"
   ]
  },
  {
   "cell_type": "markdown",
   "id": "a17645f5-e3b4-4811-a711-c44b3c081a5d",
   "metadata": {},
   "source": [
    "# MODEL 1: standard rfc with complete training set\n",
    "- covariates: r,g, b, nir\n",
    "- trained on previous set (bigger set than original TRIALS_random forest)\n",
    "\n",
    "- predictions are only made over NDVI>0.2"
   ]
  },
  {
   "cell_type": "code",
   "execution_count": 8,
   "id": "5c2126d2-9083-46ae-96a8-1aa78199dfe3",
   "metadata": {},
   "outputs": [
    {
     "name": "stdout",
     "output_type": "stream",
     "text": [
      "\n",
      "true negatives: 47387     false positives: 78\n",
      "false negatives: 126     true positives: 367\n",
      "\n",
      "sensitivity (TP rate): 74.44 %\n",
      "specificity (TN rate): 99.84 %\n",
      "G-mean:  0.86\n",
      "\n",
      "MCC:  0.7814178860874265\n",
      "\n",
      "F1-measure:  0.78252\n",
      "F0.5-measure (min false positives):  0.8073\n",
      "F2-measure (min false negatives)  :  0.75921\n",
      "\n",
      "accuracy: 99.57 %\n",
      "\n"
     ]
    }
   ],
   "source": [
    "rfc = RandomForestClassifier(n_estimators = 100, random_state = 42)\n",
    "rfc.fit(train_features,train_labels)\n",
    "\n",
    "predictions = rfc.predict(test_features)\n",
    "\n",
    "ipf.print_rfc_evaluation(rfc, test_features, test_labels, predictions)"
   ]
  },
  {
   "cell_type": "markdown",
   "id": "f3b38fa5-fc37-45b5-b6b2-1bce4ae6f779",
   "metadata": {},
   "source": [
    "# MODEL: standard rfc with 80% of non_iceplant features"
   ]
  },
  {
   "cell_type": "code",
   "execution_count": 9,
   "id": "d72afd9f-b500-4587-9cab-cd5ad095ef42",
   "metadata": {},
   "outputs": [
    {
     "name": "stdout",
     "output_type": "stream",
     "text": [
      "\n",
      "true negatives: 47400     false positives: 65\n",
      "false negatives: 136     true positives: 357\n",
      "\n",
      "sensitivity (TP/P): 72.41 %\n",
      "specificity (TN/N): 99.86 %\n",
      "G-mean:  0.85\n",
      "\n",
      "MCC:  0.7806239593983282\n",
      "\n",
      "F1-measure:  0.78033\n",
      "F0.5-measure (min false positives):  0.81843\n",
      "F2-measure (min false negatives)  :  0.74561\n",
      "\n",
      "accuracy: 99.58 %\n",
      "\n"
     ]
    }
   ],
   "source": [
    "\n",
    "rfc = RandomForestClassifier(n_estimators = 100, random_state = 42)\n",
    "rfc.fit(train_features,train_labels)\n",
    "\n",
    "predictions = rfc.predict(test_features)\n",
    "\n",
    "ipf.print_rfc_evaluation(rfc, test_features, test_labels, predictions)"
   ]
  },
  {
   "cell_type": "code",
   "execution_count": 12,
   "id": "a666f9ae-eb78-4fee-8384-f181774867a3",
   "metadata": {},
   "outputs": [
    {
     "name": "stderr",
     "output_type": "stream",
     "text": [
      "/home/jovyan/msai4earth-esa/iceplant_detection/iceplant_detection_functions.py:237: SettingWithCopyWarning: \n",
      "A value is trying to be set on a copy of a slice from a DataFrame\n",
      "\n",
      "See the caveats in the documentation: https://pandas.pydata.org/pandas-docs/stable/user_guide/indexing.html#returning-a-view-versus-a-copy\n",
      "  vegetation.drop(labels=['ndvi'],axis=1, inplace=True)\n"
     ]
    },
    {
     "data": {
      "image/png": "[encoded data removed]",
      "text/plain": [
       "<Figure size 1080x1080 with 1 Axes>"
      ]
     },
     "metadata": {
      "needs_background": "light"
     },
     "output_type": "display_data"
    }
   ],
   "source": [
    "reconstructed = ipf.mask_ndvi_and_predict(cp.itemid, cp.geometry,rfc)\n",
    "\n",
    "fig, ax = plt.subplots(figsize=(15, 15))\n",
    "plt.title(\"PREDICTIONS : standard rfc model\")\n",
    "ax.imshow(reconstructed)\n",
    "plt.show()"
   ]
  },
  {
   "cell_type": "markdown",
   "id": "9a57732f-2492-458e-aac6-e602b044fac7",
   "metadata": {},
   "source": [
    "# MODEL: standard rfc + SMOTE(10:1)\n",
    "- covariates: r,g, b, nir\n",
    "- trained on previous set (bigger set than original TRIALS_random forest)\n",
    "- SMOTE oversampling used to deal with class imbalance\n",
    "\n",
    "https://imbalanced-learn.org/stable/references/generated/imblearn.over_sampling.SMOTE.html?highlight=smote#imblearn.over_sampling.SMOTE\n",
    "\n",
    "- predictions are only made over NDVI>0.2"
   ]
  },
  {
   "cell_type": "code",
   "execution_count": 13,
   "id": "5be89117-c6cb-43fe-8c9c-9498b87d0944",
   "metadata": {},
   "outputs": [
    {
     "name": "stdout",
     "output_type": "stream",
     "text": [
      "no-iceplant:iceplant ratio     10.0 :1\n",
      "          counts  percentage\n",
      "iceplant                    \n",
      "0         110786       90.91\n",
      "1          11078        9.09\n",
      "\n"
     ]
    }
   ],
   "source": [
    "oversample = SMOTE(sampling_strategy=0.1)\n",
    "over_train_features, over_train_labels = oversample.fit_resample(train_features, train_labels)\n",
    "ipf.iceplant_proportions(over_train_labels)"
   ]
  },
  {
   "cell_type": "code",
   "execution_count": 14,
   "id": "51b5c2d2-6081-41ec-9ab0-8dc776d0463c",
   "metadata": {},
   "outputs": [
    {
     "name": "stdout",
     "output_type": "stream",
     "text": [
      "\n",
      "true negatives: 47311     false positives: 154\n",
      "false negatives: 89     true positives: 404\n",
      "\n",
      "sensitivity (TP/P): 81.95 %\n",
      "specificity (TN/N): 99.68 %\n",
      "G-mean:  0.9\n",
      "\n",
      "MCC:  0.7677423274426968\n",
      "\n",
      "F1-measure:  0.76879\n",
      "F0.5-measure (min false positives):  0.74128\n",
      "F2-measure (min false negatives)  :  0.79842\n",
      "\n",
      "accuracy: 99.49 %\n",
      "\n"
     ]
    }
   ],
   "source": [
    "smote_srf = RandomForestClassifier(n_estimators=100, \n",
    "                                   random_state=42)\n",
    "smote_srf.fit(over_train_features, over_train_labels)\n",
    "\n",
    "smote_predictions = smote_srf.predict(test_features)\n",
    "\n",
    "ipf.print_rfc_evaluation(smote_srf, test_features, test_labels, smote_predictions)\n"
   ]
  },
  {
   "cell_type": "markdown",
   "id": "c155194c-3022-411c-b959-019e8fc4fb57",
   "metadata": {
    "tags": []
   },
   "source": [
    "# MODEL: srf +SMOTE(4:1)"
   ]
  },
  {
   "cell_type": "code",
   "execution_count": 17,
   "id": "8eec9af6-a750-4915-a2ba-e0ed9468bd84",
   "metadata": {},
   "outputs": [
    {
     "name": "stdout",
     "output_type": "stream",
     "text": [
      "no-iceplant:iceplant ratio     4.0 :1\n",
      "          counts  percentage\n",
      "iceplant                    \n",
      "0         110786        80.0\n",
      "1          27696        20.0\n",
      "\n"
     ]
    }
   ],
   "source": [
    "oversample = SMOTE(sampling_strategy=0.25)\n",
    "over_train_features, over_train_labels = oversample.fit_resample(train_features, train_labels)\n",
    "ipf.iceplant_proportions(over_train_labels)"
   ]
  },
  {
   "cell_type": "code",
   "execution_count": 18,
   "id": "c282f7a8-59fa-4b2e-8313-4337b6487509",
   "metadata": {},
   "outputs": [
    {
     "name": "stdout",
     "output_type": "stream",
     "text": [
      "\n",
      "true negatives: 47276     false positives: 189\n",
      "false negatives: 81     true positives: 412\n",
      "\n",
      "sensitivity (TP/P): 83.57 %\n",
      "specificity (TN/N): 99.6 %\n",
      "G-mean:  0.91\n",
      "\n",
      "MCC:  0.7541486040779359\n",
      "\n",
      "F1-measure:  0.7532\n",
      "F0.5-measure (min false positives):  0.71108\n",
      "F2-measure (min false negatives)  :  0.80062\n",
      "\n",
      "accuracy: 99.44 %\n",
      "\n"
     ]
    }
   ],
   "source": [
    "smote_srf25 = RandomForestClassifier(n_estimators=100, \n",
    "                                   random_state=42)\n",
    "#Train SMOTE + undersample rfc\n",
    "smote_srf25.fit(over_train_features, over_train_labels)\n",
    "\n",
    "smote25_predictions = smote_srf25.predict(test_features)\n",
    "\n",
    "ipf.print_rfc_evaluation(smote_srf25, test_features, test_labels, smote25_predictions)"
   ]
  },
  {
   "cell_type": "markdown",
   "id": "f237802b-8949-4985-aa09-e99070350910",
   "metadata": {
    "tags": []
   },
   "source": [
    "# MODEL: srf +SMOTE(2:1)"
   ]
  },
  {
   "cell_type": "code",
   "execution_count": 20,
   "id": "2665383d-a3f8-4643-ad03-333fd7a76a3e",
   "metadata": {},
   "outputs": [
    {
     "name": "stdout",
     "output_type": "stream",
     "text": [
      "no-iceplant:iceplant ratio     2.0 :1\n",
      "          counts  percentage\n",
      "iceplant                    \n",
      "0         110786       66.67\n",
      "1          55393       33.33\n",
      "\n"
     ]
    }
   ],
   "source": [
    "oversample = SMOTE(sampling_strategy=0.5)\n",
    "over_train_features, over_train_labels = oversample.fit_resample(train_features, train_labels)\n",
    "ipf.iceplant_proportions(over_train_labels)"
   ]
  },
  {
   "cell_type": "code",
   "execution_count": 21,
   "id": "eb032184-49c6-4182-b3f3-3cee9a256563",
   "metadata": {},
   "outputs": [
    {
     "name": "stdout",
     "output_type": "stream",
     "text": [
      "\n",
      "true negatives: 47240     false positives: 225\n",
      "false negatives: 80     true positives: 413\n",
      "\n",
      "sensitivity (TP/P): 83.77 %\n",
      "specificity (TN/N): 99.53 %\n",
      "G-mean:  0.91\n",
      "\n",
      "MCC:  0.7333582243389917\n",
      "\n",
      "F1-measure:  0.73033\n",
      "F0.5-measure (min false positives):  0.67816\n",
      "F2-measure (min false negatives)  :  0.79119\n",
      "\n",
      "accuracy: 99.36 %\n",
      "\n"
     ]
    }
   ],
   "source": [
    "smote_srf5 = RandomForestClassifier(n_estimators=100, \n",
    "                                   random_state=42)\n",
    "#Train SMOTE + undersample rfc\n",
    "smote_srf5.fit(over_train_features, over_train_labels)\n",
    "\n",
    "smote5_predictions = smote_srf5.predict(test_features)\n",
    "\n",
    "ipf.print_rfc_evaluation(smote_srf5, test_features, test_labels, smote5_predictions)"
   ]
  },
  {
   "cell_type": "code",
   "execution_count": 12,
   "id": "e01674b8-eb1f-4333-b4dd-808a18fb8438",
   "metadata": {},
   "outputs": [
    {
     "name": "stdout",
     "output_type": "stream",
     "text": [
      "no-iceplant:iceplant ratio     10.0 :1\n",
      "          counts  percentage\n",
      "iceplant                    \n",
      "0         110786       90.91\n",
      "1          11078        9.09\n",
      "\n"
     ]
    }
   ],
   "source": [
    "# create test and train sets with SMOTE\n",
    "from imblearn.under_sampling import RandomUnderSampler\n",
    "#from sklearn.pipeline import Pipeline\n",
    "#labels = np.array(features_df['iceplant'])\n",
    "#features = np.array(features_df.drop('iceplant', axis = 1))\n",
    "\n",
    "oversample = SMOTE(sampling_strategy=0.1)\n",
    "#undersample = RandomUnderSampler(sampling_strategy=0.5)\n",
    "\n",
    "#steps = [('o', oversample), ('u', undersample)]\n",
    "#pipeline = Pipeline(steps=steps)\n",
    "\n",
    "over_train_features, over_train_labels = oversample.fit_resample(train_features, train_labels)\n",
    "#over_X_train, over_X_test, over_y_train, over_y_test = train_test_split(over_X, over_y, test_size=0.1, stratify=over_y)\n",
    "#print(over_train_features.shape)\n",
    "#print(over_train_labels.shape)\n",
    "ipf.iceplant_proportions(over_train_labels)"
   ]
  },
  {
   "cell_type": "code",
   "execution_count": 14,
   "id": "a459a321-e00d-4212-8d7d-ef03c3710b05",
   "metadata": {},
   "outputs": [
    {
     "name": "stdout",
     "output_type": "stream",
     "text": [
      "no-iceplant:iceplant ratio     2.0 :1\n",
      "          counts  percentage\n",
      "iceplant                    \n",
      "0          22156       66.67\n",
      "1          11078       33.33\n",
      "\n"
     ]
    }
   ],
   "source": [
    "undersample = RandomUnderSampler(sampling_strategy=0.5)\n",
    "under_train_features, under_train_labels = undersample.fit_resample(over_train_features, over_train_labels)\n",
    "\n",
    "ipf.iceplant_proportions(under_train_labels)"
   ]
  },
  {
   "cell_type": "code",
   "execution_count": 15,
   "id": "223d0495-389a-4186-8241-b7145d5488ee",
   "metadata": {},
   "outputs": [
    {
     "data": {
      "text/html": [
       "<style>#sk-container-id-1 {color: black;background-color: white;}#sk-container-id-1 pre{padding: 0;}#sk-container-id-1 div.sk-toggleable {background-color: white;}#sk-container-id-1 label.sk-toggleable__label {cursor: pointer;display: block;width: 100%;margin-bottom: 0;padding: 0.3em;box-sizing: border-box;text-align: center;}#sk-container-id-1 label.sk-toggleable__label-arrow:before {content: \"▸\";float: left;margin-right: 0.25em;color: #696969;}#sk-container-id-1 label.sk-toggleable__label-arrow:hover:before {color: black;}#sk-container-id-1 div.sk-estimator:hover label.sk-toggleable__label-arrow:before {color: black;}#sk-container-id-1 div.sk-toggleable__content {max-height: 0;max-width: 0;overflow: hidden;text-align: left;background-color: #f0f8ff;}#sk-container-id-1 div.sk-toggleable__content pre {margin: 0.2em;color: black;border-radius: 0.25em;background-color: #f0f8ff;}#sk-container-id-1 input.sk-toggleable__control:checked~div.sk-toggleable__content {max-height: 200px;max-width: 100%;overflow: auto;}#sk-container-id-1 input.sk-toggleable__control:checked~label.sk-toggleable__label-arrow:before {content: \"▾\";}#sk-container-id-1 div.sk-estimator input.sk-toggleable__control:checked~label.sk-toggleable__label {background-color: #d4ebff;}#sk-container-id-1 div.sk-label input.sk-toggleable__control:checked~label.sk-toggleable__label {background-color: #d4ebff;}#sk-container-id-1 input.sk-hidden--visually {border: 0;clip: rect(1px 1px 1px 1px);clip: rect(1px, 1px, 1px, 1px);height: 1px;margin: -1px;overflow: hidden;padding: 0;position: absolute;width: 1px;}#sk-container-id-1 div.sk-estimator {font-family: monospace;background-color: #f0f8ff;border: 1px dotted black;border-radius: 0.25em;box-sizing: border-box;margin-bottom: 0.5em;}#sk-container-id-1 div.sk-estimator:hover {background-color: #d4ebff;}#sk-container-id-1 div.sk-parallel-item::after {content: \"\";width: 100%;border-bottom: 1px solid gray;flex-grow: 1;}#sk-container-id-1 div.sk-label:hover label.sk-toggleable__label {background-color: #d4ebff;}#sk-container-id-1 div.sk-serial::before {content: \"\";position: absolute;border-left: 1px solid gray;box-sizing: border-box;top: 0;bottom: 0;left: 50%;z-index: 0;}#sk-container-id-1 div.sk-serial {display: flex;flex-direction: column;align-items: center;background-color: white;padding-right: 0.2em;padding-left: 0.2em;position: relative;}#sk-container-id-1 div.sk-item {position: relative;z-index: 1;}#sk-container-id-1 div.sk-parallel {display: flex;align-items: stretch;justify-content: center;background-color: white;position: relative;}#sk-container-id-1 div.sk-item::before, #sk-container-id-1 div.sk-parallel-item::before {content: \"\";position: absolute;border-left: 1px solid gray;box-sizing: border-box;top: 0;bottom: 0;left: 50%;z-index: -1;}#sk-container-id-1 div.sk-parallel-item {display: flex;flex-direction: column;z-index: 1;position: relative;background-color: white;}#sk-container-id-1 div.sk-parallel-item:first-child::after {align-self: flex-end;width: 50%;}#sk-container-id-1 div.sk-parallel-item:last-child::after {align-self: flex-start;width: 50%;}#sk-container-id-1 div.sk-parallel-item:only-child::after {width: 0;}#sk-container-id-1 div.sk-dashed-wrapped {border: 1px dashed gray;margin: 0 0.4em 0.5em 0.4em;box-sizing: border-box;padding-bottom: 0.4em;background-color: white;}#sk-container-id-1 div.sk-label label {font-family: monospace;font-weight: bold;display: inline-block;line-height: 1.2em;}#sk-container-id-1 div.sk-label-container {text-align: center;}#sk-container-id-1 div.sk-container {/* jupyter's `normalize.less` sets `[hidden] { display: none; }` but bootstrap.min.css set `[hidden] { display: none !important; }` so we also need the `!important` here to be able to override the default hidden behavior on the sphinx rendered scikit-learn.org. See: https://github.com/scikit-learn/scikit-learn/issues/21755 */display: inline-block !important;position: relative;}#sk-container-id-1 div.sk-text-repr-fallback {display: none;}</style><div id=\"sk-container-id-1\" class=\"sk-top-container\"><div class=\"sk-text-repr-fallback\"><pre>RandomForestClassifier(random_state=42)</pre><b>In a Jupyter environment, please rerun this cell to show the HTML representation or trust the notebook. <br />On GitHub, the HTML representation is unable to render, please try loading this page with nbviewer.org.</b></div><div class=\"sk-container\" hidden><div class=\"sk-item\"><div class=\"sk-estimator sk-toggleable\"><input class=\"sk-toggleable__control sk-hidden--visually\" id=\"sk-estimator-id-1\" type=\"checkbox\" checked><label for=\"sk-estimator-id-1\" class=\"sk-toggleable__label sk-toggleable__label-arrow\">RandomForestClassifier</label><div class=\"sk-toggleable__content\"><pre>RandomForestClassifier(random_state=42)</pre></div></div></div></div></div>"
      ],
      "text/plain": [
       "RandomForestClassifier(random_state=42)"
      ]
     },
     "execution_count": 15,
     "metadata": {},
     "output_type": "execute_result"
    }
   ],
   "source": [
    "# ------------------------------------------------------------------------------------------\n",
    "\n",
    "resample_SRF = RandomForestClassifier(n_estimators=100, \n",
    "                                   random_state=42)\n",
    "#Train SMOTE + undersample rfc\n",
    "resample_SRF.fit(under_train_features, under_train_labels)"
   ]
  },
  {
   "cell_type": "code",
   "execution_count": 16,
   "id": "2f9da49a-afd7-47f9-93cd-527a090a1183",
   "metadata": {},
   "outputs": [
    {
     "name": "stdout",
     "output_type": "stream",
     "text": [
      "\n",
      "true negatives: 47001     false positives: 464\n",
      "false negatives: 48     true positives: 445\n",
      "\n",
      "sensitivity (TP rate): 90.26 %\n",
      "specificity (TN rate): 99.02 %\n",
      "G-mean:  0.95\n",
      "\n",
      "MCC:  0.6604456102004729\n",
      "\n",
      "F1-measure:  0.63481\n",
      "F0.5-measure (min false positives):  0.53887\n",
      "F2-measure (min false negatives)  :  0.7723\n",
      "\n",
      "accuracy: 98.93 %\n",
      "\n"
     ]
    }
   ],
   "source": [
    "resample_predictions = resample_SRF.predict(test_features)\n",
    "\n",
    "ipf.print_rfc_evaluation(resample_SRF, test_features, test_labels, resample_predictions)"
   ]
  },
  {
   "cell_type": "code",
   "execution_count": 19,
   "id": "3a35ddcc-dcfb-4f02-8074-7a51caa7cdd5",
   "metadata": {},
   "outputs": [
    {
     "name": "stderr",
     "output_type": "stream",
     "text": [
      "/home/jovyan/msai4earth-esa/iceplant_detection/iceplant_detection_functions.py:237: SettingWithCopyWarning: \n",
      "A value is trying to be set on a copy of a slice from a DataFrame\n",
      "\n",
      "See the caveats in the documentation: https://pandas.pydata.org/pandas-docs/stable/user_guide/indexing.html#returning-a-view-versus-a-copy\n",
      "  vegetation.drop(labels=['ndvi'],axis=1, inplace=True)\n"
     ]
    },
    {
     "data": {
      "image/png": "[encoded data removed]",
      "text/plain": [
       "<Figure size 1080x1080 with 1 Axes>"
      ]
     },
     "metadata": {
      "needs_background": "light"
     },
     "output_type": "display_data"
    }
   ],
   "source": [
    "predictions = ipf.mask_ndvi_and_predict(cp.itemid, cp.geometry, resample_SRF)\n",
    "\n",
    "fig, ax = plt.subplots(figsize=(15, 15))\n",
    "plt.title(\"PREDICTIONS : standard rfc model with SMOTE sampling\")\n",
    "ax.imshow(predictions)\n",
    "plt.show()"
   ]
  },
  {
   "cell_type": "markdown",
   "id": "0c305fc4-21e2-44d9-9444-257466ee579c",
   "metadata": {},
   "source": [
    "# MODEL: balanced rfc + SMOTE(10:1)"
   ]
  },
  {
   "cell_type": "code",
   "execution_count": 16,
   "id": "147fd360-ff40-4126-a7bb-8778d5800e40",
   "metadata": {},
   "outputs": [
    {
     "name": "stdout",
     "output_type": "stream",
     "text": [
      "\n",
      "true negatives: 47315     false positives: 150\n",
      "false negatives: 92     true positives: 401\n",
      "\n",
      "sensitivity (TP/P): 81.34 %\n",
      "specificity (TN/N): 99.68 %\n",
      "G-mean:  0.9\n",
      "\n",
      "MCC:  0.7668668865085896\n",
      "\n",
      "F1-measure:  0.7682\n",
      "F0.5-measure (min false positives):  0.74342\n",
      "F2-measure (min false negatives)  :  0.79469\n",
      "\n",
      "accuracy: 99.5 %\n",
      "\n"
     ]
    }
   ],
   "source": [
    "smote_brf = RandomForestClassifier(n_estimators=100,\n",
    "                                   class_weight = 'balanced',\n",
    "                                   random_state=42)\n",
    "#Train SMOTE + undersample rfc\n",
    "smote_brf.fit(over_train_features, over_train_labels)\n",
    "\n",
    "smote_predictions = smote_brf.predict(test_features)\n",
    "\n",
    "ipf.print_rfc_evaluation(smote_brf, test_features, test_labels, smote_predictions)"
   ]
  },
  {
   "cell_type": "markdown",
   "id": "aeb2bcec-0eb4-4be6-aa82-6b2e0c7a372d",
   "metadata": {},
   "source": [
    "# MODEL 3: rfc with class weighting\n",
    "- class_weight = balanced in rfc model\n",
    "\n",
    "https://scikit-learn.org/stable/modules/generated/sklearn.ensemble.RandomForestClassifier.html"
   ]
  },
  {
   "cell_type": "code",
   "execution_count": 19,
   "id": "dc0ea780-7d8c-4d53-98fe-6de0caf40dc9",
   "metadata": {},
   "outputs": [
    {
     "name": "stdout",
     "output_type": "stream",
     "text": [
      "\n",
      "true negatives: 47404     false positives: 61\n",
      "false negatives: 139     true positives: 354\n",
      "\n",
      "sensitivity (TP/P): 71.81 %\n",
      "specificity (TN/N): 99.87 %\n",
      "G-mean:  0.85\n",
      "\n",
      "MCC:  0.7805868247627925\n",
      "\n",
      "F1-measure:  0.77974\n",
      "F0.5-measure (min false positives):  0.82211\n",
      "F2-measure (min false negatives)  :  0.74152\n",
      "\n",
      "accuracy: 99.58 %\n",
      "\n"
     ]
    }
   ],
   "source": [
    "rfc_balanced = RandomForestClassifier(n_estimators = 100, \n",
    "                                      random_state = 42,\n",
    "                                      class_weight='balanced')\n",
    "rfc_balanced.fit(train_features,train_labels)\n",
    "predictions_balanced = rfc_balanced.predict(test_features)\n",
    "ipf.print_rfc_evaluation(rfc_balanced, test_features, test_labels, predictions_balanced)"
   ]
  },
  {
   "cell_type": "code",
   "execution_count": null,
   "id": "2c4ae606-b286-4433-81b5-e6c672ed6612",
   "metadata": {},
   "outputs": [],
   "source": [
    "reconstructed = ipf.mask_ndvi_and_predict(cp.itemid, cp.geometry, rfc_balanced)\n",
    "\n",
    "fig, ax = plt.subplots(figsize=(20, 20))\n",
    "ax.imshow(reconstructed)\n",
    "plt.show()"
   ]
  },
  {
   "cell_type": "markdown",
   "id": "f32db720-7efd-4168-9bfc-5b2bcbbabbdc",
   "metadata": {},
   "source": [
    "# **** MOVE THESE TO ANOTHER NOTEBOOK ****"
   ]
  },
  {
   "cell_type": "code",
   "execution_count": null,
   "id": "d2d56b87-a3eb-4212-a343-66c253bc9794",
   "metadata": {},
   "outputs": [],
   "source": [
    "lagoon_zoom = ipf.mask_ndvi_and_predict(itemid, lagoon_zoom_box,rfc)\n",
    "fig, ax = plt.subplots(figsize=(20, 20))\n",
    "ax.imshow(lagoon_zoom)\n",
    "plt.show()"
   ]
  },
  {
   "cell_type": "code",
   "execution_count": null,
   "id": "37fecba3-bf81-46c9-a9e3-4173e362cd7f",
   "metadata": {},
   "outputs": [],
   "source": [
    "ipf.plot_window_in_scene(itemid, lagoon_zoom_box)"
   ]
  },
  {
   "cell_type": "code",
   "execution_count": null,
   "id": "daf64323-62e8-4386-b4a0-6fee2ef84306",
   "metadata": {},
   "outputs": [],
   "source": [
    "tree_predict = ipf.mask_ndvi_and_predict(itemid, tree_box, rfc)\n",
    "fig, ax = plt.subplots(figsize=(8,8))\n",
    "ax.imshow(tree_predict)\n",
    "plt.show()"
   ]
  },
  {
   "cell_type": "code",
   "execution_count": null,
   "id": "13d3d793-5d70-4b90-8403-a6c7350c83fe",
   "metadata": {},
   "outputs": [],
   "source": [
    "tree_ndvi = ipf.select_ndvi_image(itemid,tree_box)\n",
    "# fig, ax = plt.subplots(figsize=(8, 8))\n",
    "# ax.imshow(tree_ndvi)\n",
    "# plt.show()"
   ]
  },
  {
   "cell_type": "code",
   "execution_count": null,
   "id": "c5cf93f1-39c0-4a8d-af71-58f7debd4e21",
   "metadata": {},
   "outputs": [],
   "source": [
    "true_tree = tree_ndvi - tree_predict\n",
    "fig, ax = plt.subplots(figsize=(8, 8))\n",
    "ax.imshow(true_tree)\n",
    "plt.show()"
   ]
  },
  {
   "cell_type": "code",
   "execution_count": null,
   "id": "a14346fc-7e29-431b-86f8-09a08f9e1207",
   "metadata": {},
   "outputs": [],
   "source": [
    "tree_naip = ipf.open_window_in_scene(itemid, tree_box)"
   ]
  },
  {
   "cell_type": "code",
   "execution_count": null,
   "id": "f81b0af9-3e68-4d85-9fd5-4f7ef48a2262",
   "metadata": {},
   "outputs": [],
   "source": [
    "p = (tree_naip*tree_predict).reshape([4,-1]).T\n",
    "p = pd.DataFrame(p, columns =['r','g','b','nir'])\n",
    "df = p[(p.r!=0) & (p.g!=0) & (p.b!=0) & (p.nir!=0)]\n",
    "df['classified']=1\n",
    "df"
   ]
  },
  {
   "cell_type": "code",
   "execution_count": null,
   "id": "25aaa343-ca13-4a11-958f-6707ee6edc57",
   "metadata": {},
   "outputs": [],
   "source": [
    "icep_predict = tree_naip*true_tree\n",
    "p = icep_predict.reshape([4,-1]).T\n",
    "p = pd.DataFrame(p, columns =['r','g','b','nir'])\n",
    "df2 = p[(p.r!=0) & (p.g!=0) & (p.b!=0) & (p.nir!=0)]\n",
    "df2['classified']=0\n",
    "df2"
   ]
  },
  {
   "cell_type": "code",
   "execution_count": null,
   "id": "58b80c84-1562-4d84-828c-201fce54dadb",
   "metadata": {},
   "outputs": [],
   "source": [
    "df = pd.concat([df,df2])\n",
    "df"
   ]
  },
  {
   "cell_type": "code",
   "execution_count": null,
   "id": "91a4450c-d30d-4d01-a27c-b88b8186a3c9",
   "metadata": {},
   "outputs": [],
   "source": [
    "dangermond = ipf.mask_ndvi_and_predict(dangermond_itemid, dangermond_box,rfc_balanced)\n",
    "fig, ax = plt.subplots(figsize=(20, 20))\n",
    "ax.imshow(dangermond)\n",
    "plt.show()"
   ]
  },
  {
   "cell_type": "code",
   "execution_count": null,
   "id": "411cdf04-b2b3-44cd-8900-3f10dbd69755",
   "metadata": {},
   "outputs": [],
   "source": [
    "ipf.plot_window_in_scene(dangermond_itemid, dangermond_box)"
   ]
  }
 ],
 "metadata": {
  "kernelspec": {
   "display_name": "Python 3 (ipykernel)",
   "language": "python",
   "name": "python3"
  },
  "language_info": {
   "codemirror_mode": {
    "name": "ipython",
    "version": 3
   },
   "file_extension": ".py",
   "mimetype": "text/x-python",
   "name": "python",
   "nbconvert_exporter": "python",
   "pygments_lexer": "ipython3",
   "version": "3.8.12"
  }
 },
 "nbformat": 4,
 "nbformat_minor": 5
}
