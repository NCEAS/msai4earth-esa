{
 "cells": [
  {
   "cell_type": "code",
   "execution_count": null,
   "id": "af1237f6-f936-42d9-afe7-68d619c05cb8",
   "metadata": {},
   "outputs": [],
   "source": [
    "import os\n",
    "import pandas as pd\n",
    "import numpy as np\n",
    "import matplotlib.pyplot as plt\n",
    "\n",
    "from sklearn.model_selection import train_test_split\n",
    "from sklearn.ensemble import RandomForestClassifier\n",
    "\n",
    "import rasterio\n",
    "import geopandas as gpd\n",
    "\n",
    "from shapely.geometry import Polygon\n",
    "\n",
    "import iceplant_detection_functions as ipf"
   ]
  },
  {
   "cell_type": "code",
   "execution_count": null,
   "id": "d5fee6fe-cf53-45e5-a173-8fd8f350bb5d",
   "metadata": {},
   "outputs": [],
   "source": [
    "from imblearn.over_sampling import SMOTE"
   ]
  },
  {
   "cell_type": "code",
   "execution_count": null,
   "id": "822e8cd3-bebd-4135-90a8-d5227529dd56",
   "metadata": {},
   "outputs": [],
   "source": [
    "#pip install -U imbalanced-learn"
   ]
  },
  {
   "cell_type": "markdown",
   "id": "7964e0ac-dc78-434b-8997-2329601c5835",
   "metadata": {},
   "source": [
    "# AREAS OF INTEREST"
   ]
  },
  {
   "cell_type": "code",
   "execution_count": null,
   "id": "f56bbc84-f232-4dd4-a925-37817ba28a57",
   "metadata": {},
   "outputs": [],
   "source": [
    "aois = gpd.read_file(os.path.join(os.getcwd(),'areas_of_interest','areas_of_interest.shp'))\n",
    "cp = aois.iloc[0]  # Campus Lagoon aoi"
   ]
  },
  {
   "cell_type": "markdown",
   "id": "16254d3b-97dd-4583-9405-40cad1f6e138",
   "metadata": {},
   "source": [
    "# ASSEMBLE TRAINING SET\n",
    "\n",
    "All points in the training set were collected in a single NAIP image, \n",
    "id = cp.itemid"
   ]
  },
  {
   "cell_type": "code",
   "execution_count": null,
   "id": "304dd340-6b8b-46f9-8355-3fe6c9469693",
   "metadata": {},
   "outputs": [],
   "source": [
    "fp = os.path.join(os.getcwd(),'training_set','aux_data','trainset_trees','trainset_trees.csv')\n",
    "trees_df = pd.read_csv(fp)\n",
    "#trees_df.head(1)"
   ]
  },
  {
   "cell_type": "code",
   "execution_count": null,
   "id": "8a4769e1-ea27-4625-8a42-f3249d3cab3b",
   "metadata": {},
   "outputs": [],
   "source": [
    "fp = os.path.join(os.getcwd(),'training_set','aux_data','trainset_non_iceplant_vegetation.csv')\n",
    "noniceplant_features_df = pd.read_csv(fp)\n",
    "#noniceplant_features_df.head(1)"
   ]
  },
  {
   "cell_type": "code",
   "execution_count": null,
   "id": "2ceed9d6-8c29-4065-b9a8-1ba85160f1ef",
   "metadata": {},
   "outputs": [],
   "source": [
    "fp = os.path.join(os.getcwd(),'training_set','aux_data','trainset_BIG.csv')\n",
    "features_df = pd.read_csv(fp)\n",
    "#features_df.head(1)"
   ]
  },
  {
   "cell_type": "code",
   "execution_count": null,
   "id": "c5bea301-7833-41b9-a900-d5e89944db79",
   "metadata": {},
   "outputs": [],
   "source": [
    "# add non-iceplant vegetation points sample to BIG training set \n",
    "features_df = pd.concat([features_df,\n",
    "                         noniceplant_features_df.sample(frac=0.01),\n",
    "                         trees_df])\n",
    "features_df.drop(['geometry','Unnamed: 0','x','y'],axis=1,inplace=True)\n",
    "ipf.iceplant_counts(features_df)"
   ]
  },
  {
   "cell_type": "markdown",
   "id": "201d8d09-7a8b-449f-8b84-25477bcb868b",
   "metadata": {},
   "source": [
    "# SPLIT INTO TRAIN/TEST"
   ]
  },
  {
   "cell_type": "code",
   "execution_count": 20,
   "id": "cba74c01-ad90-4b5f-a6df-764c417e506a",
   "metadata": {},
   "outputs": [
    {
     "name": "stdout",
     "output_type": "stream",
     "text": [
      "Training Features Shape: (4981, 4)\n",
      "Training Labels Shape: (4981,)\n",
      "Testing Features Shape: (2136, 4)\n",
      "Testing Labels Shape: (2136,)\n",
      "\n",
      "TRAIN SET: Iceplant / no iceplant counts\n",
      "[[   0 3870]\n",
      " [   1 1111]] \n",
      "\n",
      "TEST SET: Iceplant / no iceplant counts\n",
      "[[   0 1638]\n",
      " [   1  498]]\n",
      "\n"
     ]
    }
   ],
   "source": [
    "train_features, test_features, train_labels, test_labels = ipf.test_train_from_df(features_df)\n",
    "\n",
    "ipf.train_test_shapes(train_features, train_labels, test_features, test_labels)\n",
    "ipf.test_train_proportions(train_labels, test_labels)"
   ]
  },
  {
   "cell_type": "markdown",
   "id": "a17645f5-e3b4-4811-a711-c44b3c081a5d",
   "metadata": {},
   "source": [
    "# MODEL 1: standard rfc \n",
    "- covariates: r,g, b, nir\n",
    "- trained on previous set (bigger set than original TRIALS_random forest)\n",
    "\n",
    "- predictions are only made over NDVI>0.2"
   ]
  },
  {
   "cell_type": "code",
   "execution_count": null,
   "id": "4720d96d-503d-4059-9ad4-df2eb903a58d",
   "metadata": {},
   "outputs": [],
   "source": [
    "# Train random forest classifier\n",
    "rfc = RandomForestClassifier(n_estimators = 150, random_state = 42)\n",
    "rfc.fit(train_features,train_labels)"
   ]
  },
  {
   "cell_type": "code",
   "execution_count": null,
   "id": "9ce7d202-f9c3-48f9-baf4-70f4ded6576b",
   "metadata": {},
   "outputs": [],
   "source": [
    "predictions = rfc.predict(test_features)\n",
    "\n",
    "ipf.print_rfc_evaluation(rfc, test_features, test_labels, predictions)"
   ]
  },
  {
   "cell_type": "code",
   "execution_count": null,
   "id": "a666f9ae-eb78-4fee-8384-f181774867a3",
   "metadata": {},
   "outputs": [],
   "source": [
    "reconstructed = ipf.mask_ndvi_and_predict(cp.itemid, cp.geometry,rfc)\n",
    "\n",
    "fig, ax = plt.subplots(figsize=(15, 15))\n",
    "plt.title(\"PREDICTIONS : standard rfc model\")\n",
    "ax.imshow(reconstructed)\n",
    "plt.show()"
   ]
  },
  {
   "cell_type": "markdown",
   "id": "9a57732f-2492-458e-aac6-e602b044fac7",
   "metadata": {},
   "source": [
    "# MODEL 2: standard rfc + SMOTE\n",
    "- covariates: r,g, b, nir\n",
    "- trained on previous set (bigger set than original TRIALS_random forest)\n",
    "- SMOTE oversampling used to deal with class imbalance\n",
    "\n",
    "https://imbalanced-learn.org/stable/references/generated/imblearn.over_sampling.SMOTE.html?highlight=smote#imblearn.over_sampling.SMOTE\n",
    "\n",
    "- predictions are only made over NDVI>0.2"
   ]
  },
  {
   "cell_type": "code",
   "execution_count": null,
   "id": "98adba01-678d-48f0-b39e-14e47fb6b1e5",
   "metadata": {},
   "outputs": [],
   "source": [
    "# create test and train sets with SMOTE\n",
    "\n",
    "labels = np.array(features_df['iceplant'])\n",
    "features = np.array(features_df.drop('iceplant', axis = 1))\n",
    "\n",
    "oversample = SMOTE()\n",
    "over_X, over_y = oversample.fit_resample(features, labels)\n",
    "over_X_train, over_X_test, over_y_train, over_y_test = train_test_split(over_X, over_y, test_size=0.1, stratify=over_y)\n",
    "\n",
    "# ------------------------------------------------------------------------------------------\n",
    "\n",
    "#Build SMOTE rfc model\n",
    "SMOTE_SRF = RandomForestClassifier(n_estimators=150, \n",
    "                                   random_state=42)\n",
    "#Train SMOTE rfc\n",
    "SMOTE_SRF.fit(over_X_train, over_y_train)"
   ]
  },
  {
   "cell_type": "code",
   "execution_count": null,
   "id": "2f9da49a-afd7-47f9-93cd-527a090a1183",
   "metadata": {},
   "outputs": [],
   "source": [
    "SMOTE_predictions = SMOTE_SRF.predict(over_X_test)\n",
    "\n",
    "ipf.print_rfc_evaluation(SMOTE_SRF, over_X_test, over_y_test, SMOTE_predictions)"
   ]
  },
  {
   "cell_type": "code",
   "execution_count": null,
   "id": "3a35ddcc-dcfb-4f02-8074-7a51caa7cdd5",
   "metadata": {},
   "outputs": [],
   "source": [
    "predictions = ipf.mask_ndvi_and_predict(cp.itemid, cp.geometry,SMOTE_SRF)\n",
    "\n",
    "fig, ax = plt.subplots(figsize=(15, 15))\n",
    "plt.title(\"PREDICTIONS : standard rfc model with SMOTE sampling\")\n",
    "ax.imshow(predictions)\n",
    "plt.show()"
   ]
  },
  {
   "cell_type": "markdown",
   "id": "aeb2bcec-0eb4-4be6-aa82-6b2e0c7a372d",
   "metadata": {},
   "source": [
    "# MODEL 3: rfc with class weighting\n",
    "- class_weight = balanced in rfc model\n",
    "\n",
    "https://scikit-learn.org/stable/modules/generated/sklearn.ensemble.RandomForestClassifier.html"
   ]
  },
  {
   "cell_type": "code",
   "execution_count": null,
   "id": "dc0ea780-7d8c-4d53-98fe-6de0caf40dc9",
   "metadata": {},
   "outputs": [],
   "source": [
    "rfc_balanced = RandomForestClassifier(n_estimators = 150, \n",
    "                                      random_state = 42,\n",
    "                                      class_weight='balanced')\n",
    "rfc_balanced.fit(train_features,train_labels)\n",
    "predictions_balanced = rfc_balanced.predict(test_features)\n",
    "ipf.print_rfc_evaluation(rfc_balanced, test_features, test_labels, predictions_balanced)"
   ]
  },
  {
   "cell_type": "code",
   "execution_count": null,
   "id": "2c4ae606-b286-4433-81b5-e6c672ed6612",
   "metadata": {},
   "outputs": [],
   "source": [
    "reconstructed = ipf.mask_ndvi_and_predict(cp.itemid, cp.geometry, rfc_balanced)\n",
    "\n",
    "fig, ax = plt.subplots(figsize=(20, 20))\n",
    "ax.imshow(reconstructed)\n",
    "plt.show()"
   ]
  },
  {
   "cell_type": "markdown",
   "id": "f32db720-7efd-4168-9bfc-5b2bcbbabbdc",
   "metadata": {},
   "source": [
    "# **** MOVE THESE TO ANOTHER NOTEBOOK ****"
   ]
  },
  {
   "cell_type": "code",
   "execution_count": null,
   "id": "d2d56b87-a3eb-4212-a343-66c253bc9794",
   "metadata": {},
   "outputs": [],
   "source": [
    "lagoon_zoom = ipf.mask_ndvi_and_predict(itemid, lagoon_zoom_box,rfc)\n",
    "fig, ax = plt.subplots(figsize=(20, 20))\n",
    "ax.imshow(lagoon_zoom)\n",
    "plt.show()"
   ]
  },
  {
   "cell_type": "code",
   "execution_count": null,
   "id": "37fecba3-bf81-46c9-a9e3-4173e362cd7f",
   "metadata": {},
   "outputs": [],
   "source": [
    "ipf.plot_window_in_scene(itemid, lagoon_zoom_box)"
   ]
  },
  {
   "cell_type": "code",
   "execution_count": null,
   "id": "daf64323-62e8-4386-b4a0-6fee2ef84306",
   "metadata": {},
   "outputs": [],
   "source": [
    "tree_predict = ipf.mask_ndvi_and_predict(itemid, tree_box, rfc)\n",
    "fig, ax = plt.subplots(figsize=(8,8))\n",
    "ax.imshow(tree_predict)\n",
    "plt.show()"
   ]
  },
  {
   "cell_type": "code",
   "execution_count": null,
   "id": "13d3d793-5d70-4b90-8403-a6c7350c83fe",
   "metadata": {},
   "outputs": [],
   "source": [
    "tree_ndvi = ipf.select_ndvi_image(itemid,tree_box)\n",
    "# fig, ax = plt.subplots(figsize=(8, 8))\n",
    "# ax.imshow(tree_ndvi)\n",
    "# plt.show()"
   ]
  },
  {
   "cell_type": "code",
   "execution_count": null,
   "id": "c5cf93f1-39c0-4a8d-af71-58f7debd4e21",
   "metadata": {},
   "outputs": [],
   "source": [
    "true_tree = tree_ndvi - tree_predict\n",
    "fig, ax = plt.subplots(figsize=(8, 8))\n",
    "ax.imshow(true_tree)\n",
    "plt.show()"
   ]
  },
  {
   "cell_type": "code",
   "execution_count": null,
   "id": "a14346fc-7e29-431b-86f8-09a08f9e1207",
   "metadata": {},
   "outputs": [],
   "source": [
    "tree_naip = ipf.open_window_in_scene(itemid, tree_box)"
   ]
  },
  {
   "cell_type": "code",
   "execution_count": null,
   "id": "f81b0af9-3e68-4d85-9fd5-4f7ef48a2262",
   "metadata": {},
   "outputs": [],
   "source": [
    "p = (tree_naip*tree_predict).reshape([4,-1]).T\n",
    "p = pd.DataFrame(p, columns =['r','g','b','nir'])\n",
    "df = p[(p.r!=0) & (p.g!=0) & (p.b!=0) & (p.nir!=0)]\n",
    "df['classified']=1\n",
    "df"
   ]
  },
  {
   "cell_type": "code",
   "execution_count": null,
   "id": "25aaa343-ca13-4a11-958f-6707ee6edc57",
   "metadata": {},
   "outputs": [],
   "source": [
    "icep_predict = tree_naip*true_tree\n",
    "p = icep_predict.reshape([4,-1]).T\n",
    "p = pd.DataFrame(p, columns =['r','g','b','nir'])\n",
    "df2 = p[(p.r!=0) & (p.g!=0) & (p.b!=0) & (p.nir!=0)]\n",
    "df2['classified']=0\n",
    "df2"
   ]
  },
  {
   "cell_type": "code",
   "execution_count": null,
   "id": "58b80c84-1562-4d84-828c-201fce54dadb",
   "metadata": {},
   "outputs": [],
   "source": [
    "df = pd.concat([df,df2])\n",
    "df"
   ]
  },
  {
   "cell_type": "code",
   "execution_count": null,
   "id": "91a4450c-d30d-4d01-a27c-b88b8186a3c9",
   "metadata": {},
   "outputs": [],
   "source": [
    "dangermond = ipf.mask_ndvi_and_predict(dangermond_itemid, dangermond_box,rfc_balanced)\n",
    "fig, ax = plt.subplots(figsize=(20, 20))\n",
    "ax.imshow(dangermond)\n",
    "plt.show()"
   ]
  },
  {
   "cell_type": "code",
   "execution_count": null,
   "id": "411cdf04-b2b3-44cd-8900-3f10dbd69755",
   "metadata": {},
   "outputs": [],
   "source": [
    "ipf.plot_window_in_scene(dangermond_itemid, dangermond_box)"
   ]
  }
 ],
 "metadata": {
  "kernelspec": {
   "display_name": "Python 3 (ipykernel)",
   "language": "python",
   "name": "python3"
  },
  "language_info": {
   "codemirror_mode": {
    "name": "ipython",
    "version": 3
   },
   "file_extension": ".py",
   "mimetype": "text/x-python",
   "name": "python",
   "nbconvert_exporter": "python",
   "pygments_lexer": "ipython3",
   "version": "3.8.12"
  }
 },
 "nbformat": 4,
 "nbformat_minor": 5
}
