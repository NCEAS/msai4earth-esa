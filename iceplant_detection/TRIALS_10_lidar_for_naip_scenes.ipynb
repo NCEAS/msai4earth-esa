{
 "cells": [
  {
   "cell_type": "code",
   "execution_count": 1,
   "id": "6a32a59b-bff2-46ca-9d62-fdbbc50bccb6",
   "metadata": {},
   "outputs": [],
   "source": [
    "import os\n",
    "import time\n",
    "import pandas as pd\n",
    "import numpy as np\n",
    "import matplotlib.pyplot as plt\n",
    "\n",
    "from sklearn.ensemble import RandomForestClassifier\n",
    "\n",
    "import rasterio\n",
    "import geopandas as gpd\n",
    "\n",
    "import iceplant_detection_functions as ipf\n",
    "import model_prep_and_evals as mpe\n",
    "\n",
    "import warnings\n",
    "\n",
    "import planetary_computer as pc\n",
    "import rioxarray as rioxr\n",
    "\n",
    "import gc # garbage collector\n",
    "\n",
    "import dask\n",
    "import dask_gateway\n",
    "import dask.array as da\n",
    "\n",
    "import lidar_sampling_functions_Copy1 as lsf"
   ]
  },
  {
   "cell_type": "code",
   "execution_count": 2,
   "id": "e79aad5d-ed3e-41c2-9c57-668417ee9dd4",
   "metadata": {},
   "outputs": [],
   "source": [
    "t_alpha = time.time()"
   ]
  },
  {
   "cell_type": "markdown",
   "id": "683cabb8-cac4-4ca1-82da-07ecdbcf00b7",
   "metadata": {
    "tags": []
   },
   "source": [
    "## Import train/test sets"
   ]
  },
  {
   "cell_type": "code",
   "execution_count": 3,
   "id": "a781dff3-6345-46c1-b912-744cbc23b8bc",
   "metadata": {},
   "outputs": [],
   "source": [
    "X_train = pd.read_csv(os.path.join(os.getcwd(),'create_train_test_sets','train_set.csv')).loc[:,'r':'avg_lidar']\n",
    "y_train = pd.read_csv(os.path.join(os.getcwd(),'create_train_test_sets','train_set.csv')).loc[:,'iceplant'] \n",
    "\n",
    "# X_test = pd.read_csv(os.path.join(os.getcwd(),'create_train_test_sets','test_set.csv')).loc[:,'r':'avg_lidar']\n",
    "# y_test = pd.read_csv(os.path.join(os.getcwd(),'create_train_test_sets','test_set.csv')).loc[:,'iceplant']"
   ]
  },
  {
   "cell_type": "code",
   "execution_count": 4,
   "id": "8e48a59c-07f5-4dc0-b9b6-cca279bef1a1",
   "metadata": {},
   "outputs": [
    {
     "data": {
      "text/html": [
       "<div>\n",
       "<style scoped>\n",
       "    .dataframe tbody tr th:only-of-type {\n",
       "        vertical-align: middle;\n",
       "    }\n",
       "\n",
       "    .dataframe tbody tr th {\n",
       "        vertical-align: top;\n",
       "    }\n",
       "\n",
       "    .dataframe thead th {\n",
       "        text-align: right;\n",
       "    }\n",
       "</style>\n",
       "<table border=\"1\" class=\"dataframe\">\n",
       "  <thead>\n",
       "    <tr style=\"text-align: right;\">\n",
       "      <th></th>\n",
       "      <th>r</th>\n",
       "      <th>g</th>\n",
       "      <th>b</th>\n",
       "      <th>nir</th>\n",
       "      <th>ndvi</th>\n",
       "      <th>year</th>\n",
       "      <th>month</th>\n",
       "      <th>day_in_year</th>\n",
       "      <th>lidar</th>\n",
       "      <th>max_lidar</th>\n",
       "      <th>min_lidar</th>\n",
       "      <th>min_max_diff</th>\n",
       "      <th>avg_lidar</th>\n",
       "    </tr>\n",
       "  </thead>\n",
       "  <tbody>\n",
       "    <tr>\n",
       "      <th>0</th>\n",
       "      <td>43</td>\n",
       "      <td>51</td>\n",
       "      <td>78</td>\n",
       "      <td>89</td>\n",
       "      <td>0.348485</td>\n",
       "      <td>2012</td>\n",
       "      <td>5</td>\n",
       "      <td>126</td>\n",
       "      <td>2</td>\n",
       "      <td>10</td>\n",
       "      <td>0</td>\n",
       "      <td>10</td>\n",
       "      <td>3.000000</td>\n",
       "    </tr>\n",
       "    <tr>\n",
       "      <th>1</th>\n",
       "      <td>65</td>\n",
       "      <td>59</td>\n",
       "      <td>84</td>\n",
       "      <td>79</td>\n",
       "      <td>0.097222</td>\n",
       "      <td>2012</td>\n",
       "      <td>5</td>\n",
       "      <td>126</td>\n",
       "      <td>0</td>\n",
       "      <td>6</td>\n",
       "      <td>0</td>\n",
       "      <td>6</td>\n",
       "      <td>1.000000</td>\n",
       "    </tr>\n",
       "    <tr>\n",
       "      <th>2</th>\n",
       "      <td>81</td>\n",
       "      <td>86</td>\n",
       "      <td>93</td>\n",
       "      <td>132</td>\n",
       "      <td>0.239437</td>\n",
       "      <td>2012</td>\n",
       "      <td>5</td>\n",
       "      <td>126</td>\n",
       "      <td>11</td>\n",
       "      <td>14</td>\n",
       "      <td>6</td>\n",
       "      <td>8</td>\n",
       "      <td>9.222222</td>\n",
       "    </tr>\n",
       "  </tbody>\n",
       "</table>\n",
       "</div>"
      ],
      "text/plain": [
       "    r   g   b  nir      ndvi  year  month  day_in_year  lidar  max_lidar  \\\n",
       "0  43  51  78   89  0.348485  2012      5          126      2         10   \n",
       "1  65  59  84   79  0.097222  2012      5          126      0          6   \n",
       "2  81  86  93  132  0.239437  2012      5          126     11         14   \n",
       "\n",
       "   min_lidar  min_max_diff  avg_lidar  \n",
       "0          0            10   3.000000  \n",
       "1          0             6   1.000000  \n",
       "2          6             8   9.222222  "
      ]
     },
     "execution_count": 4,
     "metadata": {},
     "output_type": "execute_result"
    }
   ],
   "source": [
    "X_train.head(3)"
   ]
  },
  {
   "cell_type": "code",
   "execution_count": 5,
   "id": "dc328f6b-64c9-469f-ba7a-6ebd1668bec5",
   "metadata": {},
   "outputs": [
    {
     "name": "stdout",
     "output_type": "stream",
     "text": [
      "no-iceplant:iceplant ratio     2.6 :1\n",
      "          counts  percentage\n",
      "iceplant                    \n",
      "0         285908       72.27\n",
      "1         109714       27.73\n",
      "\n"
     ]
    }
   ],
   "source": [
    "mpe.iceplant_proportions(np.array(y_train))"
   ]
  },
  {
   "cell_type": "code",
   "execution_count": 6,
   "id": "13e60e75-1108-4c49-8477-6cf2125767c8",
   "metadata": {},
   "outputs": [],
   "source": [
    "# mpe.iceplant_proportions(np.array(y_test))"
   ]
  },
  {
   "cell_type": "markdown",
   "id": "2efb364c-35a4-496e-9d5f-7ced1433b3df",
   "metadata": {},
   "source": [
    "## Train model"
   ]
  },
  {
   "cell_type": "code",
   "execution_count": 7,
   "id": "975378c3-ebf0-4e32-940d-26e3b98e93f2",
   "metadata": {},
   "outputs": [],
   "source": [
    "from dask_ml.wrappers import ParallelPostFit"
   ]
  },
  {
   "cell_type": "code",
   "execution_count": 8,
   "id": "0758f76c-597e-4b30-af49-b08b604a024f",
   "metadata": {},
   "outputs": [
    {
     "name": "stdout",
     "output_type": "stream",
     "text": [
      "time to train:  50.043843269348145\n"
     ]
    }
   ],
   "source": [
    "t0 = time.time()\n",
    "\n",
    "rfc = ParallelPostFit(RandomForestClassifier(n_estimators = 100, random_state = 42))\n",
    "rfc.fit(X_train, y_train)\n",
    "\n",
    "print('time to train: ', (time.time()-t0))"
   ]
  },
  {
   "cell_type": "code",
   "execution_count": 9,
   "id": "d7df195d-e743-4e3c-b74f-4967ac650b70",
   "metadata": {},
   "outputs": [
    {
     "data": {
      "text/plain": [
       "24"
      ]
     },
     "execution_count": 9,
     "metadata": {},
     "output_type": "execute_result"
    }
   ],
   "source": [
    "del X_train, y_train\n",
    "gc.collect()"
   ]
  },
  {
   "cell_type": "code",
   "execution_count": 10,
   "id": "1bfed955-e42c-45da-83d5-9667a6d6582d",
   "metadata": {},
   "outputs": [],
   "source": [
    "# predictions = rfc.predict(X_test)\n",
    "# mpe.print_threshold_metrics(y_test, predictions)"
   ]
  },
  {
   "cell_type": "markdown",
   "id": "85547391-bd2d-4a56-9f60-3a5a2bf33710",
   "metadata": {},
   "source": [
    "## Feature importance"
   ]
  },
  {
   "cell_type": "code",
   "execution_count": 11,
   "id": "0e5ec4f9-ac9c-480a-b251-f52f34d07b5b",
   "metadata": {},
   "outputs": [],
   "source": [
    "# # https://scikit-learn.org/stable/auto_examples/ensemble/plot_forest_importances.html\n",
    "# from sklearn.inspection import permutation_importance\n",
    "\n",
    "# result = permutation_importance(\n",
    "#     rfc, X_test, y_test, n_repeats=10, random_state=42, n_jobs=2\n",
    "# )"
   ]
  },
  {
   "cell_type": "code",
   "execution_count": 12,
   "id": "fcc0a010-302d-4c1c-b823-cd5bc67cd154",
   "metadata": {},
   "outputs": [],
   "source": [
    "# forest_importances = pd.Series(result.importances_mean, index=['r', 'g', 'b', 'nir', 'ndvi', \n",
    "#                                                                'year', 'month', 'day_in_year',\n",
    "#                                                               'lidar', 'max_lidar', 'min_lidar', 'min_max_diff', 'avg_lidar'])\n"
   ]
  },
  {
   "cell_type": "code",
   "execution_count": 13,
   "id": "1b178fa1-bc46-470e-8120-caca4d298ee6",
   "metadata": {},
   "outputs": [],
   "source": [
    "# fig, ax = plt.subplots()\n",
    "# forest_importances.plot.bar(yerr=result.importances_std, ax=ax)\n",
    "# ax.set_title(\"Feature importances using permutation on full model\")\n",
    "# ax.set_ylabel(\"Mean accuracy decrease\")\n",
    "# fig.tight_layout()\n",
    "# plt.show()"
   ]
  },
  {
   "cell_type": "markdown",
   "id": "fdd7255b-bb7e-4070-bc4b-8b3c82ef2f81",
   "metadata": {},
   "source": [
    "# Select NAIP scene and LIDAR year"
   ]
  },
  {
   "cell_type": "code",
   "execution_count": 14,
   "id": "4f5f277b-0bb4-486f-b9d7-7f5bf2c32a79",
   "metadata": {},
   "outputs": [],
   "source": [
    "gaviota_itemids = ['ca_m_3412039_nw_10_060_20200522',\n",
    "'ca_m_3412039_nw_10_060_20180724_20190209',\n",
    "'ca_m_3412039_nw_10_.6_20160616_20161004',\n",
    "'ca_m_3412039_nw_10_1_20140603_20141030',\n",
    "'ca_m_3412039_nw_10_1_20120518_20120730']"
   ]
  },
  {
   "cell_type": "code",
   "execution_count": 15,
   "id": "e3d2bf1b-960e-4971-9881-2164cc7e208f",
   "metadata": {},
   "outputs": [],
   "source": [
    "# **************************************************************\n",
    "# ********* SPECIFY ITEMID AND LIDAR YEAR TO MATCH HERE ********\n",
    "\n",
    "itemid = gaviota_itemids[1] # NAIP scene over Conception Point\n",
    "lidar_year = 2018\n",
    "save_raster = True\n",
    "filename = 'gaviota_2018_predictions.tif'\n",
    "\n",
    "# **************************************************************\n",
    "# **************************************************************"
   ]
  },
  {
   "cell_type": "markdown",
   "id": "07c782d2-75b6-49ed-83cf-5c271df08765",
   "metadata": {},
   "source": [
    "# Open NAIP scene for classification"
   ]
  },
  {
   "cell_type": "code",
   "execution_count": 16,
   "id": "c35b6b9c-5e4e-4060-9de9-ae5d515d6e5a",
   "metadata": {},
   "outputs": [],
   "source": [
    "href = pc.sign(ipf.get_item_from_id(itemid).assets[\"image\"].href)\n",
    "\n",
    "# rioxarray of complete naip scene\n",
    "naip_scene = rioxr.open_rasterio(rasterio.open(href))"
   ]
  },
  {
   "cell_type": "markdown",
   "id": "b4f3a653-b30d-47a1-9a77-ea36b616fb90",
   "metadata": {},
   "source": [
    "# Prepare LIDAR data for sampling"
   ]
  },
  {
   "cell_type": "code",
   "execution_count": 17,
   "id": "e0bd9dc9-ce5a-4623-b1ea-bb14a1ab66fe",
   "metadata": {},
   "outputs": [],
   "source": [
    "# Create auxiliary LIDAR files to sample from\n",
    "fp = os.path.join(os.getcwd(),\n",
    "                  'model_with_lidar',\n",
    "                  'SantaBarbaraCounty_lidar_'+str(lidar_year)+'.tif')\n",
    "lidar_reader = rasterio.open(fp)\n",
    "lsf.save_min_max_rasters(lidar_reader, os.getcwd()+'/temp',lidar_year)\n",
    "lsf.save_avg_rasters(lidar_reader, os.getcwd()+'/temp',lidar_year)"
   ]
  },
  {
   "cell_type": "code",
   "execution_count": 18,
   "id": "6e54e478-8507-4dd9-9577-5e123f66b6ef",
   "metadata": {},
   "outputs": [],
   "source": [
    "def open_and_match(fp, reproject_to):\n",
    "    rast = rioxr.open_rasterio(fp)\n",
    "    rast_match = rast.rio.reproject_match(reproject_to)\n",
    "    return rast_match.squeeze()"
   ]
  },
  {
   "cell_type": "code",
   "execution_count": 19,
   "id": "3a69d792-fdee-4171-852f-9539e43f21f2",
   "metadata": {},
   "outputs": [],
   "source": [
    "# Resample lidar layers to match NAIP scene resolution and extent\n",
    "\n",
    "lidar_match = open_and_match(fp, naip_scene)\n",
    "\n",
    "fp = os.path.join(os.getcwd(),'temp','lidar_mins_'+str(lidar_year)+'.tif')\n",
    "mins_match = open_and_match(fp, naip_scene)\n",
    "\n",
    "fp = os.path.join(os.getcwd(),'temp','lidar_maxs_'+str(lidar_year)+'.tif')\n",
    "maxs_match = open_and_match(fp, naip_scene)\n",
    "\n",
    "fp = os.path.join(os.getcwd(),'temp','lidar_avgs_'+str(lidar_year)+'.tif')\n",
    "avg_match = open_and_match(fp, naip_scene)"
   ]
  },
  {
   "cell_type": "code",
   "execution_count": 20,
   "id": "ae7dc8bf-73cd-410e-9c1a-178a75bd0a14",
   "metadata": {},
   "outputs": [],
   "source": [
    "# Assemble LIDAR layers into dataframe \n",
    "\n",
    "df_lidar = pd.DataFrame()\n",
    "df_lidar['lidar'] = lidar_match.to_numpy().reshape(avg_match.shape[0]*avg_match.shape[1])\n",
    "df_lidar['max_lidar'] = maxs_match.to_numpy().reshape(avg_match.shape[0]*avg_match.shape[1])\n",
    "df_lidar['min_lidar'] = mins_match.to_numpy().reshape(avg_match.shape[0]*avg_match.shape[1])\n",
    "df_lidar['min_max_diff'] = df_lidar.max_lidar - df_lidar.min_lidar\n",
    "df_lidar['avg_lidar'] = avg_match.to_numpy().reshape(avg_match.shape[0]*avg_match.shape[1])"
   ]
  },
  {
   "cell_type": "code",
   "execution_count": 21,
   "id": "c2ea1ff5-9385-4998-84cf-3d0572777122",
   "metadata": {},
   "outputs": [
    {
     "data": {
      "text/plain": [
       "0"
      ]
     },
     "execution_count": 21,
     "metadata": {},
     "output_type": "execute_result"
    }
   ],
   "source": [
    "# clear memory\n",
    "del avg_match, mins_match, maxs_match, lidar_match\n",
    "gc.collect()"
   ]
  },
  {
   "cell_type": "code",
   "execution_count": 22,
   "id": "e01cfed7-6509-444e-92dc-79de32928598",
   "metadata": {},
   "outputs": [],
   "source": [
    "# Delete auxiliary LIDAR rasters in temp folder\n",
    "lidar_fps = []\n",
    "for tag in ['maxs_', 'mins_', 'avgs_']:\n",
    "    lidar_fps.append(os.path.join(os.getcwd(),\n",
    "                                  'temp',\n",
    "                                  'lidar_'+tag+ str(lidar_year)+'.tif'))\n",
    "for fp in lidar_fps:\n",
    "    os.remove(fp)"
   ]
  },
  {
   "cell_type": "markdown",
   "id": "63f2a071-525b-4c98-b8a8-d6bd3a2cffc5",
   "metadata": {},
   "source": [
    "# Select points to be classified using NDVI threshold"
   ]
  },
  {
   "cell_type": "code",
   "execution_count": 23,
   "id": "635e5184-1858-47ed-9c3d-3a1acdd97bbc",
   "metadata": {},
   "outputs": [
    {
     "data": {
      "text/html": [
       "<div>\n",
       "<style scoped>\n",
       "    .dataframe tbody tr th:only-of-type {\n",
       "        vertical-align: middle;\n",
       "    }\n",
       "\n",
       "    .dataframe tbody tr th {\n",
       "        vertical-align: top;\n",
       "    }\n",
       "\n",
       "    .dataframe thead th {\n",
       "        text-align: right;\n",
       "    }\n",
       "</style>\n",
       "<table border=\"1\" class=\"dataframe\">\n",
       "  <thead>\n",
       "    <tr style=\"text-align: right;\">\n",
       "      <th></th>\n",
       "      <th>r</th>\n",
       "      <th>g</th>\n",
       "      <th>b</th>\n",
       "      <th>nir</th>\n",
       "      <th>ndvi</th>\n",
       "      <th>year</th>\n",
       "      <th>month</th>\n",
       "      <th>day_in_year</th>\n",
       "    </tr>\n",
       "  </thead>\n",
       "  <tbody>\n",
       "    <tr>\n",
       "      <th>0</th>\n",
       "      <td>119</td>\n",
       "      <td>103</td>\n",
       "      <td>87</td>\n",
       "      <td>135</td>\n",
       "      <td>0.062992</td>\n",
       "      <td>2018</td>\n",
       "      <td>7</td>\n",
       "      <td>205</td>\n",
       "    </tr>\n",
       "    <tr>\n",
       "      <th>4</th>\n",
       "      <td>57</td>\n",
       "      <td>57</td>\n",
       "      <td>63</td>\n",
       "      <td>70</td>\n",
       "      <td>0.102362</td>\n",
       "      <td>2018</td>\n",
       "      <td>7</td>\n",
       "      <td>205</td>\n",
       "    </tr>\n",
       "    <tr>\n",
       "      <th>5</th>\n",
       "      <td>42</td>\n",
       "      <td>47</td>\n",
       "      <td>57</td>\n",
       "      <td>67</td>\n",
       "      <td>0.229358</td>\n",
       "      <td>2018</td>\n",
       "      <td>7</td>\n",
       "      <td>205</td>\n",
       "    </tr>\n",
       "    <tr>\n",
       "      <th>6</th>\n",
       "      <td>39</td>\n",
       "      <td>49</td>\n",
       "      <td>53</td>\n",
       "      <td>97</td>\n",
       "      <td>0.426471</td>\n",
       "      <td>2018</td>\n",
       "      <td>7</td>\n",
       "      <td>205</td>\n",
       "    </tr>\n",
       "    <tr>\n",
       "      <th>7</th>\n",
       "      <td>39</td>\n",
       "      <td>49</td>\n",
       "      <td>60</td>\n",
       "      <td>54</td>\n",
       "      <td>0.161290</td>\n",
       "      <td>2018</td>\n",
       "      <td>7</td>\n",
       "      <td>205</td>\n",
       "    </tr>\n",
       "    <tr>\n",
       "      <th>...</th>\n",
       "      <td>...</td>\n",
       "      <td>...</td>\n",
       "      <td>...</td>\n",
       "      <td>...</td>\n",
       "      <td>...</td>\n",
       "      <td>...</td>\n",
       "      <td>...</td>\n",
       "      <td>...</td>\n",
       "    </tr>\n",
       "    <tr>\n",
       "      <th>128231857</th>\n",
       "      <td>60</td>\n",
       "      <td>135</td>\n",
       "      <td>138</td>\n",
       "      <td>98</td>\n",
       "      <td>0.240506</td>\n",
       "      <td>2018</td>\n",
       "      <td>7</td>\n",
       "      <td>205</td>\n",
       "    </tr>\n",
       "    <tr>\n",
       "      <th>128231909</th>\n",
       "      <td>71</td>\n",
       "      <td>118</td>\n",
       "      <td>157</td>\n",
       "      <td>129</td>\n",
       "      <td>0.290000</td>\n",
       "      <td>2018</td>\n",
       "      <td>7</td>\n",
       "      <td>205</td>\n",
       "    </tr>\n",
       "    <tr>\n",
       "      <th>128231958</th>\n",
       "      <td>100</td>\n",
       "      <td>155</td>\n",
       "      <td>164</td>\n",
       "      <td>120</td>\n",
       "      <td>0.090909</td>\n",
       "      <td>2018</td>\n",
       "      <td>7</td>\n",
       "      <td>205</td>\n",
       "    </tr>\n",
       "    <tr>\n",
       "      <th>128231991</th>\n",
       "      <td>187</td>\n",
       "      <td>199</td>\n",
       "      <td>183</td>\n",
       "      <td>214</td>\n",
       "      <td>0.067332</td>\n",
       "      <td>2018</td>\n",
       "      <td>7</td>\n",
       "      <td>205</td>\n",
       "    </tr>\n",
       "    <tr>\n",
       "      <th>128231992</th>\n",
       "      <td>162</td>\n",
       "      <td>191</td>\n",
       "      <td>159</td>\n",
       "      <td>209</td>\n",
       "      <td>0.126685</td>\n",
       "      <td>2018</td>\n",
       "      <td>7</td>\n",
       "      <td>205</td>\n",
       "    </tr>\n",
       "  </tbody>\n",
       "</table>\n",
       "<p>38776496 rows × 8 columns</p>\n",
       "</div>"
      ],
      "text/plain": [
       "             r    g    b  nir      ndvi  year  month  day_in_year\n",
       "0          119  103   87  135  0.062992  2018      7          205\n",
       "4           57   57   63   70  0.102362  2018      7          205\n",
       "5           42   47   57   67  0.229358  2018      7          205\n",
       "6           39   49   53   97  0.426471  2018      7          205\n",
       "7           39   49   60   54  0.161290  2018      7          205\n",
       "...        ...  ...  ...  ...       ...   ...    ...          ...\n",
       "128231857   60  135  138   98  0.240506  2018      7          205\n",
       "128231909   71  118  157  129  0.290000  2018      7          205\n",
       "128231958  100  155  164  120  0.090909  2018      7          205\n",
       "128231991  187  199  183  214  0.067332  2018      7          205\n",
       "128231992  162  191  159  209  0.126685  2018      7          205\n",
       "\n",
       "[38776496 rows x 8 columns]"
      ]
     },
     "execution_count": 23,
     "metadata": {},
     "output_type": "execute_result"
    }
   ],
   "source": [
    "# select pixel with vegetation\n",
    "veg = ipf.features_over_aoi(ipf.get_item_from_id(itemid), \n",
    "                           naip_scene.to_numpy(), \n",
    "                           thresh=0.05)\n",
    "veg"
   ]
  },
  {
   "cell_type": "markdown",
   "id": "12bb802f-74f3-4701-a3df-0eddf0703006",
   "metadata": {},
   "source": [
    "# Sample and add LIDAR to vegetation pixels"
   ]
  },
  {
   "cell_type": "code",
   "execution_count": 24,
   "id": "21425b29-89bb-4f21-8d13-88fb7a303f17",
   "metadata": {},
   "outputs": [
    {
     "data": {
      "text/html": [
       "<div>\n",
       "<style scoped>\n",
       "    .dataframe tbody tr th:only-of-type {\n",
       "        vertical-align: middle;\n",
       "    }\n",
       "\n",
       "    .dataframe tbody tr th {\n",
       "        vertical-align: top;\n",
       "    }\n",
       "\n",
       "    .dataframe thead th {\n",
       "        text-align: right;\n",
       "    }\n",
       "</style>\n",
       "<table border=\"1\" class=\"dataframe\">\n",
       "  <thead>\n",
       "    <tr style=\"text-align: right;\">\n",
       "      <th></th>\n",
       "      <th>lidar</th>\n",
       "      <th>max_lidar</th>\n",
       "      <th>min_lidar</th>\n",
       "      <th>min_max_diff</th>\n",
       "      <th>avg_lidar</th>\n",
       "    </tr>\n",
       "  </thead>\n",
       "  <tbody>\n",
       "    <tr>\n",
       "      <th>0</th>\n",
       "      <td>7</td>\n",
       "      <td>7</td>\n",
       "      <td>6</td>\n",
       "      <td>1</td>\n",
       "      <td>6.666667</td>\n",
       "    </tr>\n",
       "    <tr>\n",
       "      <th>4</th>\n",
       "      <td>7</td>\n",
       "      <td>7</td>\n",
       "      <td>6</td>\n",
       "      <td>1</td>\n",
       "      <td>6.666667</td>\n",
       "    </tr>\n",
       "    <tr>\n",
       "      <th>5</th>\n",
       "      <td>7</td>\n",
       "      <td>7</td>\n",
       "      <td>6</td>\n",
       "      <td>1</td>\n",
       "      <td>6.666667</td>\n",
       "    </tr>\n",
       "    <tr>\n",
       "      <th>6</th>\n",
       "      <td>7</td>\n",
       "      <td>7</td>\n",
       "      <td>6</td>\n",
       "      <td>1</td>\n",
       "      <td>6.666667</td>\n",
       "    </tr>\n",
       "    <tr>\n",
       "      <th>7</th>\n",
       "      <td>7</td>\n",
       "      <td>7</td>\n",
       "      <td>6</td>\n",
       "      <td>1</td>\n",
       "      <td>6.666667</td>\n",
       "    </tr>\n",
       "    <tr>\n",
       "      <th>...</th>\n",
       "      <td>...</td>\n",
       "      <td>...</td>\n",
       "      <td>...</td>\n",
       "      <td>...</td>\n",
       "      <td>...</td>\n",
       "    </tr>\n",
       "    <tr>\n",
       "      <th>128231857</th>\n",
       "      <td>-9999</td>\n",
       "      <td>241</td>\n",
       "      <td>241</td>\n",
       "      <td>0</td>\n",
       "      <td>0.000000</td>\n",
       "    </tr>\n",
       "    <tr>\n",
       "      <th>128231909</th>\n",
       "      <td>-9999</td>\n",
       "      <td>241</td>\n",
       "      <td>241</td>\n",
       "      <td>0</td>\n",
       "      <td>0.000000</td>\n",
       "    </tr>\n",
       "    <tr>\n",
       "      <th>128231958</th>\n",
       "      <td>-9999</td>\n",
       "      <td>241</td>\n",
       "      <td>241</td>\n",
       "      <td>0</td>\n",
       "      <td>0.000000</td>\n",
       "    </tr>\n",
       "    <tr>\n",
       "      <th>128231991</th>\n",
       "      <td>-9999</td>\n",
       "      <td>241</td>\n",
       "      <td>241</td>\n",
       "      <td>0</td>\n",
       "      <td>0.000000</td>\n",
       "    </tr>\n",
       "    <tr>\n",
       "      <th>128231992</th>\n",
       "      <td>-9999</td>\n",
       "      <td>241</td>\n",
       "      <td>241</td>\n",
       "      <td>0</td>\n",
       "      <td>0.000000</td>\n",
       "    </tr>\n",
       "  </tbody>\n",
       "</table>\n",
       "<p>38776496 rows × 5 columns</p>\n",
       "</div>"
      ],
      "text/plain": [
       "           lidar  max_lidar  min_lidar  min_max_diff  avg_lidar\n",
       "0              7          7          6             1   6.666667\n",
       "4              7          7          6             1   6.666667\n",
       "5              7          7          6             1   6.666667\n",
       "6              7          7          6             1   6.666667\n",
       "7              7          7          6             1   6.666667\n",
       "...          ...        ...        ...           ...        ...\n",
       "128231857  -9999        241        241             0   0.000000\n",
       "128231909  -9999        241        241             0   0.000000\n",
       "128231958  -9999        241        241             0   0.000000\n",
       "128231991  -9999        241        241             0   0.000000\n",
       "128231992  -9999        241        241             0   0.000000\n",
       "\n",
       "[38776496 rows x 5 columns]"
      ]
     },
     "execution_count": 24,
     "metadata": {},
     "output_type": "execute_result"
    }
   ],
   "source": [
    "# select same indices as vegetation\n",
    "df_lidar_veg = df_lidar.iloc[veg.index]\n",
    "df_lidar_veg"
   ]
  },
  {
   "cell_type": "code",
   "execution_count": 25,
   "id": "40057932-cb78-44c3-b3af-dfb72364f1af",
   "metadata": {},
   "outputs": [
    {
     "data": {
      "text/html": [
       "<div>\n",
       "<style scoped>\n",
       "    .dataframe tbody tr th:only-of-type {\n",
       "        vertical-align: middle;\n",
       "    }\n",
       "\n",
       "    .dataframe tbody tr th {\n",
       "        vertical-align: top;\n",
       "    }\n",
       "\n",
       "    .dataframe thead th {\n",
       "        text-align: right;\n",
       "    }\n",
       "</style>\n",
       "<table border=\"1\" class=\"dataframe\">\n",
       "  <thead>\n",
       "    <tr style=\"text-align: right;\">\n",
       "      <th></th>\n",
       "      <th>r</th>\n",
       "      <th>g</th>\n",
       "      <th>b</th>\n",
       "      <th>nir</th>\n",
       "      <th>ndvi</th>\n",
       "      <th>year</th>\n",
       "      <th>month</th>\n",
       "      <th>day_in_year</th>\n",
       "      <th>lidar</th>\n",
       "      <th>max_lidar</th>\n",
       "      <th>min_lidar</th>\n",
       "      <th>min_max_diff</th>\n",
       "      <th>avg_lidar</th>\n",
       "    </tr>\n",
       "  </thead>\n",
       "  <tbody>\n",
       "    <tr>\n",
       "      <th>0</th>\n",
       "      <td>119</td>\n",
       "      <td>103</td>\n",
       "      <td>87</td>\n",
       "      <td>135</td>\n",
       "      <td>0.062992</td>\n",
       "      <td>2018</td>\n",
       "      <td>7</td>\n",
       "      <td>205</td>\n",
       "      <td>7</td>\n",
       "      <td>7</td>\n",
       "      <td>6</td>\n",
       "      <td>1</td>\n",
       "      <td>6.666667</td>\n",
       "    </tr>\n",
       "    <tr>\n",
       "      <th>4</th>\n",
       "      <td>57</td>\n",
       "      <td>57</td>\n",
       "      <td>63</td>\n",
       "      <td>70</td>\n",
       "      <td>0.102362</td>\n",
       "      <td>2018</td>\n",
       "      <td>7</td>\n",
       "      <td>205</td>\n",
       "      <td>7</td>\n",
       "      <td>7</td>\n",
       "      <td>6</td>\n",
       "      <td>1</td>\n",
       "      <td>6.666667</td>\n",
       "    </tr>\n",
       "    <tr>\n",
       "      <th>5</th>\n",
       "      <td>42</td>\n",
       "      <td>47</td>\n",
       "      <td>57</td>\n",
       "      <td>67</td>\n",
       "      <td>0.229358</td>\n",
       "      <td>2018</td>\n",
       "      <td>7</td>\n",
       "      <td>205</td>\n",
       "      <td>7</td>\n",
       "      <td>7</td>\n",
       "      <td>6</td>\n",
       "      <td>1</td>\n",
       "      <td>6.666667</td>\n",
       "    </tr>\n",
       "    <tr>\n",
       "      <th>6</th>\n",
       "      <td>39</td>\n",
       "      <td>49</td>\n",
       "      <td>53</td>\n",
       "      <td>97</td>\n",
       "      <td>0.426471</td>\n",
       "      <td>2018</td>\n",
       "      <td>7</td>\n",
       "      <td>205</td>\n",
       "      <td>7</td>\n",
       "      <td>7</td>\n",
       "      <td>6</td>\n",
       "      <td>1</td>\n",
       "      <td>6.666667</td>\n",
       "    </tr>\n",
       "  </tbody>\n",
       "</table>\n",
       "</div>"
      ],
      "text/plain": [
       "     r    g   b  nir      ndvi  year  month  day_in_year  lidar  max_lidar  \\\n",
       "0  119  103  87  135  0.062992  2018      7          205      7          7   \n",
       "4   57   57  63   70  0.102362  2018      7          205      7          7   \n",
       "5   42   47  57   67  0.229358  2018      7          205      7          7   \n",
       "6   39   49  53   97  0.426471  2018      7          205      7          7   \n",
       "\n",
       "   min_lidar  min_max_diff  avg_lidar  \n",
       "0          6             1   6.666667  \n",
       "4          6             1   6.666667  \n",
       "5          6             1   6.666667  \n",
       "6          6             1   6.666667  "
      ]
     },
     "execution_count": 25,
     "metadata": {},
     "output_type": "execute_result"
    }
   ],
   "source": [
    "# add LIDAR features\n",
    "\n",
    "# FEATURES MUST BE IN THIS ORDER TO MATCH THE MODEL:\n",
    "# ['r', 'g', 'b', 'nir', 'ndvi', \n",
    "#  'year', 'month', 'day_in_year',\n",
    "#  'lidar', 'max_lidar', 'min_lidar', 'min_max_diff', 'avg_lidar'])\n",
    "\n",
    "scene_features = pd.concat([veg,df_lidar_veg],axis=1)\n",
    "scene_features.head(4)"
   ]
  },
  {
   "cell_type": "code",
   "execution_count": 26,
   "id": "c6aa48f8-4c0a-4174-80ad-9bf97112d22b",
   "metadata": {},
   "outputs": [
    {
     "data": {
      "text/plain": [
       "316"
      ]
     },
     "execution_count": 26,
     "metadata": {},
     "output_type": "execute_result"
    }
   ],
   "source": [
    "# clear memory\n",
    "del veg, df_lidar, df_lidar_veg\n",
    "gc.collect()"
   ]
  },
  {
   "cell_type": "markdown",
   "id": "ba3e9c38-c892-4603-ae6d-978521351050",
   "metadata": {},
   "source": [
    "# Make dask data array of pixel values from NAIP scene raster"
   ]
  },
  {
   "cell_type": "code",
   "execution_count": 27,
   "id": "bbb827aa-1821-4fba-8912-fb208ce56685",
   "metadata": {},
   "outputs": [
    {
     "data": {
      "text/html": [
       "<table>\n",
       "    <tr>\n",
       "        <td>\n",
       "            <table>\n",
       "                <thead>\n",
       "                    <tr>\n",
       "                        <td> </td>\n",
       "                        <th> Array </th>\n",
       "                        <th> Chunk </th>\n",
       "                    </tr>\n",
       "                </thead>\n",
       "                <tbody>\n",
       "                    \n",
       "                    <tr>\n",
       "                        <th> Bytes </th>\n",
       "                        <td> 3.76 GiB </td>\n",
       "                        <td> 72.28 MiB </td>\n",
       "                    </tr>\n",
       "                    \n",
       "                    <tr>\n",
       "                        <th> Shape </th>\n",
       "                        <td> (38776496, 13) </td>\n",
       "                        <td> (728802, 13) </td>\n",
       "                    </tr>\n",
       "                    <tr>\n",
       "                        <th> Count </th>\n",
       "                        <td> 54 Tasks </td>\n",
       "                        <td> 54 Chunks </td>\n",
       "                    </tr>\n",
       "                    <tr>\n",
       "                    <th> Type </th>\n",
       "                    <td> float64 </td>\n",
       "                    <td> numpy.ndarray </td>\n",
       "                    </tr>\n",
       "                </tbody>\n",
       "            </table>\n",
       "        </td>\n",
       "        <td>\n",
       "        <svg width=\"75\" height=\"170\" style=\"stroke:rgb(0,0,0);stroke-width:1\" >\n",
       "\n",
       "  <!-- Horizontal lines -->\n",
       "  <line x1=\"0\" y1=\"0\" x2=\"25\" y2=\"0\" style=\"stroke-width:2\" />\n",
       "  <line x1=\"0\" y1=\"4\" x2=\"25\" y2=\"4\" />\n",
       "  <line x1=\"0\" y1=\"11\" x2=\"25\" y2=\"11\" />\n",
       "  <line x1=\"0\" y1=\"18\" x2=\"25\" y2=\"18\" />\n",
       "  <line x1=\"0\" y1=\"24\" x2=\"25\" y2=\"24\" />\n",
       "  <line x1=\"0\" y1=\"31\" x2=\"25\" y2=\"31\" />\n",
       "  <line x1=\"0\" y1=\"38\" x2=\"25\" y2=\"38\" />\n",
       "  <line x1=\"0\" y1=\"42\" x2=\"25\" y2=\"42\" />\n",
       "  <line x1=\"0\" y1=\"49\" x2=\"25\" y2=\"49\" />\n",
       "  <line x1=\"0\" y1=\"56\" x2=\"25\" y2=\"56\" />\n",
       "  <line x1=\"0\" y1=\"63\" x2=\"25\" y2=\"63\" />\n",
       "  <line x1=\"0\" y1=\"69\" x2=\"25\" y2=\"69\" />\n",
       "  <line x1=\"0\" y1=\"76\" x2=\"25\" y2=\"76\" />\n",
       "  <line x1=\"0\" y1=\"81\" x2=\"25\" y2=\"81\" />\n",
       "  <line x1=\"0\" y1=\"87\" x2=\"25\" y2=\"87\" />\n",
       "  <line x1=\"0\" y1=\"94\" x2=\"25\" y2=\"94\" />\n",
       "  <line x1=\"0\" y1=\"101\" x2=\"25\" y2=\"101\" />\n",
       "  <line x1=\"0\" y1=\"108\" x2=\"25\" y2=\"108\" />\n",
       "  <line x1=\"0\" y1=\"115\" x2=\"25\" y2=\"115\" />\n",
       "  <line x1=\"0\" y1=\"120\" x2=\"25\" y2=\"120\" style=\"stroke-width:2\" />\n",
       "\n",
       "  <!-- Vertical lines -->\n",
       "  <line x1=\"0\" y1=\"0\" x2=\"0\" y2=\"120\" style=\"stroke-width:2\" />\n",
       "  <line x1=\"25\" y1=\"0\" x2=\"25\" y2=\"120\" style=\"stroke-width:2\" />\n",
       "\n",
       "  <!-- Colored Rectangle -->\n",
       "  <polygon points=\"0.0,0.0 25.412616514582485,0.0 25.412616514582485,120.0 0.0,120.0\" style=\"fill:#8B4903A0;stroke-width:0\"/>\n",
       "\n",
       "  <!-- Text -->\n",
       "  <text x=\"12.706308\" y=\"140.000000\" font-size=\"1.0rem\" font-weight=\"100\" text-anchor=\"middle\" >13</text>\n",
       "  <text x=\"45.412617\" y=\"60.000000\" font-size=\"1.0rem\" font-weight=\"100\" text-anchor=\"middle\" transform=\"rotate(-90,45.412617,60.000000)\">38776496</text>\n",
       "</svg>\n",
       "        </td>\n",
       "    </tr>\n",
       "</table>"
      ],
      "text/plain": [
       "dask.array<array, shape=(38776496, 13), dtype=float64, chunksize=(728802, 13), chunktype=numpy.ndarray>"
      ]
     },
     "execution_count": 27,
     "metadata": {},
     "output_type": "execute_result"
    }
   ],
   "source": [
    "da_pixels = da.from_array(scene_features.to_numpy(), chunks=728802)\n",
    "da_pixels"
   ]
  },
  {
   "cell_type": "markdown",
   "id": "165afff6-181f-48f6-9ac7-e6a7c73a9778",
   "metadata": {},
   "source": [
    "# Initialize Dask Cluster"
   ]
  },
  {
   "cell_type": "code",
   "execution_count": 28,
   "id": "f490f4ca-bade-481d-ab94-3b70807f1078",
   "metadata": {},
   "outputs": [
    {
     "data": {
      "text/html": [
       "<div>\n",
       "    <div style=\"width: 24px; height: 24px; background-color: #e1e1e1; border: 3px solid #9D9D9D; border-radius: 5px; position: absolute;\"> </div>\n",
       "    <div style=\"margin-left: 48px;\">\n",
       "        <h3 style=\"margin-bottom: 0px;\">Client</h3>\n",
       "        <p style=\"color: #9D9D9D; margin-bottom: 0px;\">Client-ba6ad6f0-fe5b-11ec-86cf-927fc59c760c</p>\n",
       "        <table style=\"width: 100%; text-align: left;\">\n",
       "\n",
       "        <tr>\n",
       "        \n",
       "            <td style=\"text-align: left;\"><strong>Connection method:</strong> Cluster object</td>\n",
       "            <td style=\"text-align: left;\"><strong>Cluster type:</strong> dask_gateway.GatewayCluster</td>\n",
       "        \n",
       "        </tr>\n",
       "\n",
       "        \n",
       "            <tr>\n",
       "                <td style=\"text-align: left;\">\n",
       "                    <strong>Dashboard: </strong> <a href=\"https://pccompute.westeurope.cloudapp.azure.com/compute/services/dask-gateway/clusters/prod.da6b73beb4ef4e03a0c16dc2c7080f70/status\" target=\"_blank\">https://pccompute.westeurope.cloudapp.azure.com/compute/services/dask-gateway/clusters/prod.da6b73beb4ef4e03a0c16dc2c7080f70/status</a>\n",
       "                </td>\n",
       "                <td style=\"text-align: left;\"></td>\n",
       "            </tr>\n",
       "        \n",
       "\n",
       "        </table>\n",
       "\n",
       "        \n",
       "            <details>\n",
       "            <summary style=\"margin-bottom: 20px;\"><h3 style=\"display: inline;\">Cluster Info</h3></summary>\n",
       "            <div style='background-color: #f2f2f2; display: inline-block; padding: 10px; border: 1px solid #999999;'>\n",
       "  <h3>GatewayCluster</h3>\n",
       "  <ul>\n",
       "    <li><b>Name: </b>prod.da6b73beb4ef4e03a0c16dc2c7080f70\n",
       "    <li><b>Dashboard: </b><a href='https://pccompute.westeurope.cloudapp.azure.com/compute/services/dask-gateway/clusters/prod.da6b73beb4ef4e03a0c16dc2c7080f70/status' target='_blank'>https://pccompute.westeurope.cloudapp.azure.com/compute/services/dask-gateway/clusters/prod.da6b73beb4ef4e03a0c16dc2c7080f70/status</a>\n",
       "  </ul>\n",
       "</div>\n",
       "\n",
       "            </details>\n",
       "        \n",
       "\n",
       "    </div>\n",
       "</div>"
      ],
      "text/plain": [
       "<Client: 'tls://10.244.102.14:8786' processes=0 threads=0, memory=0 B>"
      ]
     },
     "execution_count": 28,
     "metadata": {},
     "output_type": "execute_result"
    }
   ],
   "source": [
    "cluster = dask_gateway.GatewayCluster()\n",
    "client = cluster.get_client()\n",
    "cluster.scale(30)\n",
    "client"
   ]
  },
  {
   "cell_type": "markdown",
   "id": "fc417fff-250f-454d-ac1d-a8105198b66e",
   "metadata": {},
   "source": [
    "# Predict using dask"
   ]
  },
  {
   "cell_type": "code",
   "execution_count": 29,
   "id": "632279be-1605-4d15-958e-15095d06cdc9",
   "metadata": {},
   "outputs": [
    {
     "name": "stderr",
     "output_type": "stream",
     "text": [
      "/srv/conda/envs/notebook/lib/python3.8/site-packages/sklearn/base.py:450: UserWarning: X does not have valid feature names, but RandomForestClassifier was fitted with feature names\n",
      "  warnings.warn(\n"
     ]
    },
    {
     "data": {
      "text/html": [
       "<table>\n",
       "    <tr>\n",
       "        <td>\n",
       "            <table>\n",
       "                <thead>\n",
       "                    <tr>\n",
       "                        <td> </td>\n",
       "                        <th> Array </th>\n",
       "                        <th> Chunk </th>\n",
       "                    </tr>\n",
       "                </thead>\n",
       "                <tbody>\n",
       "                    \n",
       "                    <tr>\n",
       "                        <th> Bytes </th>\n",
       "                        <td> 295.84 MiB </td>\n",
       "                        <td> 5.56 MiB </td>\n",
       "                    </tr>\n",
       "                    \n",
       "                    <tr>\n",
       "                        <th> Shape </th>\n",
       "                        <td> (38776496,) </td>\n",
       "                        <td> (728802,) </td>\n",
       "                    </tr>\n",
       "                    <tr>\n",
       "                        <th> Count </th>\n",
       "                        <td> 108 Tasks </td>\n",
       "                        <td> 54 Chunks </td>\n",
       "                    </tr>\n",
       "                    <tr>\n",
       "                    <th> Type </th>\n",
       "                    <td> int64 </td>\n",
       "                    <td> numpy.ndarray </td>\n",
       "                    </tr>\n",
       "                </tbody>\n",
       "            </table>\n",
       "        </td>\n",
       "        <td>\n",
       "        <svg width=\"170\" height=\"75\" style=\"stroke:rgb(0,0,0);stroke-width:1\" >\n",
       "\n",
       "  <!-- Horizontal lines -->\n",
       "  <line x1=\"0\" y1=\"0\" x2=\"120\" y2=\"0\" style=\"stroke-width:2\" />\n",
       "  <line x1=\"0\" y1=\"25\" x2=\"120\" y2=\"25\" style=\"stroke-width:2\" />\n",
       "\n",
       "  <!-- Vertical lines -->\n",
       "  <line x1=\"0\" y1=\"0\" x2=\"0\" y2=\"25\" style=\"stroke-width:2\" />\n",
       "  <line x1=\"4\" y1=\"0\" x2=\"4\" y2=\"25\" />\n",
       "  <line x1=\"11\" y1=\"0\" x2=\"11\" y2=\"25\" />\n",
       "  <line x1=\"18\" y1=\"0\" x2=\"18\" y2=\"25\" />\n",
       "  <line x1=\"24\" y1=\"0\" x2=\"24\" y2=\"25\" />\n",
       "  <line x1=\"31\" y1=\"0\" x2=\"31\" y2=\"25\" />\n",
       "  <line x1=\"38\" y1=\"0\" x2=\"38\" y2=\"25\" />\n",
       "  <line x1=\"42\" y1=\"0\" x2=\"42\" y2=\"25\" />\n",
       "  <line x1=\"49\" y1=\"0\" x2=\"49\" y2=\"25\" />\n",
       "  <line x1=\"56\" y1=\"0\" x2=\"56\" y2=\"25\" />\n",
       "  <line x1=\"63\" y1=\"0\" x2=\"63\" y2=\"25\" />\n",
       "  <line x1=\"69\" y1=\"0\" x2=\"69\" y2=\"25\" />\n",
       "  <line x1=\"76\" y1=\"0\" x2=\"76\" y2=\"25\" />\n",
       "  <line x1=\"81\" y1=\"0\" x2=\"81\" y2=\"25\" />\n",
       "  <line x1=\"87\" y1=\"0\" x2=\"87\" y2=\"25\" />\n",
       "  <line x1=\"94\" y1=\"0\" x2=\"94\" y2=\"25\" />\n",
       "  <line x1=\"101\" y1=\"0\" x2=\"101\" y2=\"25\" />\n",
       "  <line x1=\"108\" y1=\"0\" x2=\"108\" y2=\"25\" />\n",
       "  <line x1=\"115\" y1=\"0\" x2=\"115\" y2=\"25\" />\n",
       "  <line x1=\"120\" y1=\"0\" x2=\"120\" y2=\"25\" style=\"stroke-width:2\" />\n",
       "\n",
       "  <!-- Colored Rectangle -->\n",
       "  <polygon points=\"0.0,0.0 120.0,0.0 120.0,25.412616514582485 0.0,25.412616514582485\" style=\"fill:#8B4903A0;stroke-width:0\"/>\n",
       "\n",
       "  <!-- Text -->\n",
       "  <text x=\"60.000000\" y=\"45.412617\" font-size=\"1.0rem\" font-weight=\"100\" text-anchor=\"middle\" >38776496</text>\n",
       "  <text x=\"140.000000\" y=\"12.706308\" font-size=\"1.0rem\" font-weight=\"100\" text-anchor=\"middle\" transform=\"rotate(0,140.000000,12.706308)\">1</text>\n",
       "</svg>\n",
       "        </td>\n",
       "    </tr>\n",
       "</table>"
      ],
      "text/plain": [
       "dask.array<_predict, shape=(38776496,), dtype=int64, chunksize=(728802,), chunktype=numpy.ndarray>"
      ]
     },
     "execution_count": 29,
     "metadata": {},
     "output_type": "execute_result"
    }
   ],
   "source": [
    "predictions = rfc.predict(da_pixels)\n",
    "predictions"
   ]
  },
  {
   "cell_type": "code",
   "execution_count": 30,
   "id": "cc617389-9a8d-4d4a-adf4-4a8bebbb9164",
   "metadata": {},
   "outputs": [
    {
     "name": "stdout",
     "output_type": "stream",
     "text": [
      "time to predict:  83.30848956108093\n"
     ]
    }
   ],
   "source": [
    "t0 = time.time()\n",
    "\n",
    "preds = predictions.compute()\n",
    "print('time to predict: ', time.time()-t0)"
   ]
  },
  {
   "cell_type": "markdown",
   "id": "2f97034a-46ef-4aa0-a752-9576e1ad4e87",
   "metadata": {},
   "source": [
    "# Reassemble predictions into image"
   ]
  },
  {
   "cell_type": "code",
   "execution_count": 31,
   "id": "e444bdff-b048-426d-8812-8dbe2dfe3f2c",
   "metadata": {},
   "outputs": [
    {
     "name": "stdout",
     "output_type": "stream",
     "text": [
      "select iceplant time:  76.58706164360046\n"
     ]
    }
   ],
   "source": [
    "t0 = time.time()\n",
    "# attach predictions to index of analyzed pixels\n",
    "is_iceplant = pd.DataFrame(predictions, columns=['is_iceplant'], index=scene_features.index)\n",
    "\n",
    "# select pixels classified as iceplant\n",
    "is_iceplant = is_iceplant[is_iceplant.is_iceplant == 1]\n",
    "print('select iceplant time: ', time.time()-t0)"
   ]
  },
  {
   "cell_type": "code",
   "execution_count": 32,
   "id": "755dfee9-788f-4393-9a81-dcaa0bc731e9",
   "metadata": {},
   "outputs": [
    {
     "name": "stdout",
     "output_type": "stream",
     "text": [
      "indices to image time:  0.16266274452209473\n"
     ]
    }
   ],
   "source": [
    "t0 = time.time()\n",
    "preds_image = ipf.indices_backto_image(naip_scene.shape[1], naip_scene.shape[2], is_iceplant.index)\n",
    "print('indices to image time: ', time.time()-t0)"
   ]
  },
  {
   "cell_type": "code",
   "execution_count": 33,
   "id": "90b5a79f-f9bc-4c59-a1d9-7a2422a8ca4b",
   "metadata": {},
   "outputs": [
    {
     "data": {
      "image/png": "[encoded data removed]",
      "text/plain": [
       "<Figure size 1080x1080 with 1 Axes>"
      ]
     },
     "metadata": {
      "needs_background": "light"
     },
     "output_type": "display_data"
    }
   ],
   "source": [
    "fig, ax = plt.subplots(figsize=(15, 15))\n",
    "ax.imshow(preds_image)\n",
    "plt.show()"
   ]
  },
  {
   "cell_type": "code",
   "execution_count": 34,
   "id": "72f8d1b9-f876-4942-b0c2-3429793bd5ce",
   "metadata": {},
   "outputs": [],
   "source": [
    "# save if necessary\n",
    "\n",
    "if save_raster == True:\n",
    "    with rasterio.open(\n",
    "        os.path.join(os.getcwd(),'temp',filename),  # file path\n",
    "        'w',           # w = write\n",
    "        driver='GTiff', # format\n",
    "        height = preds_image.shape[0], \n",
    "        width = preds_image.shape[1],\n",
    "        count = 1,  # number of raster bands in the dataset\n",
    "        dtype = rasterio.uint8,\n",
    "        crs = naip_scene.rio.crs,\n",
    "        transform = naip_scene.rio.transform(),\n",
    "    ) as dst:\n",
    "        dst.write(preds_image.astype(rasterio.uint8), 1)"
   ]
  },
  {
   "cell_type": "code",
   "execution_count": 35,
   "id": "bcff8dfa-d401-440b-9afb-41daf0edd2f8",
   "metadata": {},
   "outputs": [
    {
     "data": {
      "text/plain": [
       "39"
      ]
     },
     "execution_count": 35,
     "metadata": {},
     "output_type": "execute_result"
    }
   ],
   "source": [
    "# clean memory\n",
    "del naip_scene, scene_features\n",
    "del preds_image, predictions\n",
    "gc.collect()"
   ]
  },
  {
   "cell_type": "code",
   "execution_count": 36,
   "id": "a22818dc-467d-4366-92aa-0b7c47e576e6",
   "metadata": {},
   "outputs": [
    {
     "name": "stdout",
     "output_type": "stream",
     "text": [
      "total time: 292.8260426521301\n"
     ]
    }
   ],
   "source": [
    "print('total time:', time.time() - t_alpha )"
   ]
  },
  {
   "cell_type": "code",
   "execution_count": null,
   "id": "c5c19cfe-cf13-4b10-92c4-11461753fc22",
   "metadata": {},
   "outputs": [],
   "source": []
  }
 ],
 "metadata": {
  "kernelspec": {
   "display_name": "Python 3 (ipykernel)",
   "language": "python",
   "name": "python3"
  },
  "language_info": {
   "codemirror_mode": {
    "name": "ipython",
    "version": 3
   },
   "file_extension": ".py",
   "mimetype": "text/x-python",
   "name": "python",
   "nbconvert_exporter": "python",
   "pygments_lexer": "ipython3",
   "version": "3.8.13"
  }
 },
 "nbformat": 4,
 "nbformat_minor": 5
}
