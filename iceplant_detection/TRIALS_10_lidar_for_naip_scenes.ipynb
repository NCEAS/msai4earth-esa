{
 "cells": [
  {
   "cell_type": "code",
   "execution_count": 1,
   "id": "6a32a59b-bff2-46ca-9d62-fdbbc50bccb6",
   "metadata": {},
   "outputs": [],
   "source": [
    "import os\n",
    "import time\n",
    "import pandas as pd\n",
    "import numpy as np\n",
    "import matplotlib.pyplot as plt\n",
    "\n",
    "from sklearn.ensemble import RandomForestClassifier\n",
    "\n",
    "import rasterio\n",
    "import geopandas as gpd\n",
    "\n",
    "import iceplant_detection_functions as ipf\n",
    "import model_prep_and_evals as mpe\n",
    "\n",
    "import warnings"
   ]
  },
  {
   "cell_type": "markdown",
   "id": "683cabb8-cac4-4ca1-82da-07ecdbcf00b7",
   "metadata": {},
   "source": [
    "## Import train/test sets"
   ]
  },
  {
   "cell_type": "code",
   "execution_count": 2,
   "id": "a781dff3-6345-46c1-b912-744cbc23b8bc",
   "metadata": {},
   "outputs": [],
   "source": [
    "X_train = pd.read_csv(os.path.join(os.getcwd(),'feature_selection','train_set.csv')).loc[:,'r':'avg_lidar']\n",
    "y_train = pd.read_csv(os.path.join(os.getcwd(),'feature_selection','train_set.csv')).loc[:,'iceplant'] \n",
    "\n",
    "X_test = pd.read_csv(os.path.join(os.getcwd(),'feature_selection','test_set.csv')).loc[:,'r':'avg_lidar']\n",
    "y_test = pd.read_csv(os.path.join(os.getcwd(),'feature_selection','test_set.csv')).loc[:,'iceplant']"
   ]
  },
  {
   "cell_type": "code",
   "execution_count": 4,
   "id": "8e48a59c-07f5-4dc0-b9b6-cca279bef1a1",
   "metadata": {},
   "outputs": [
    {
     "data": {
      "text/html": [
       "<div>\n",
       "<style scoped>\n",
       "    .dataframe tbody tr th:only-of-type {\n",
       "        vertical-align: middle;\n",
       "    }\n",
       "\n",
       "    .dataframe tbody tr th {\n",
       "        vertical-align: top;\n",
       "    }\n",
       "\n",
       "    .dataframe thead th {\n",
       "        text-align: right;\n",
       "    }\n",
       "</style>\n",
       "<table border=\"1\" class=\"dataframe\">\n",
       "  <thead>\n",
       "    <tr style=\"text-align: right;\">\n",
       "      <th></th>\n",
       "      <th>r</th>\n",
       "      <th>g</th>\n",
       "      <th>b</th>\n",
       "      <th>nir</th>\n",
       "      <th>ndvi</th>\n",
       "      <th>year</th>\n",
       "      <th>month</th>\n",
       "      <th>day_in_year</th>\n",
       "      <th>lidar</th>\n",
       "      <th>max_lidar</th>\n",
       "      <th>min_lidar</th>\n",
       "      <th>min_max_diff</th>\n",
       "      <th>avg_lidar</th>\n",
       "    </tr>\n",
       "  </thead>\n",
       "  <tbody>\n",
       "    <tr>\n",
       "      <th>0</th>\n",
       "      <td>43</td>\n",
       "      <td>51</td>\n",
       "      <td>78</td>\n",
       "      <td>89</td>\n",
       "      <td>0.348485</td>\n",
       "      <td>2012</td>\n",
       "      <td>5</td>\n",
       "      <td>126</td>\n",
       "      <td>2</td>\n",
       "      <td>10</td>\n",
       "      <td>0</td>\n",
       "      <td>10</td>\n",
       "      <td>3.000000</td>\n",
       "    </tr>\n",
       "    <tr>\n",
       "      <th>1</th>\n",
       "      <td>65</td>\n",
       "      <td>59</td>\n",
       "      <td>84</td>\n",
       "      <td>79</td>\n",
       "      <td>0.097222</td>\n",
       "      <td>2012</td>\n",
       "      <td>5</td>\n",
       "      <td>126</td>\n",
       "      <td>0</td>\n",
       "      <td>6</td>\n",
       "      <td>0</td>\n",
       "      <td>6</td>\n",
       "      <td>1.000000</td>\n",
       "    </tr>\n",
       "    <tr>\n",
       "      <th>2</th>\n",
       "      <td>81</td>\n",
       "      <td>86</td>\n",
       "      <td>93</td>\n",
       "      <td>132</td>\n",
       "      <td>0.239437</td>\n",
       "      <td>2012</td>\n",
       "      <td>5</td>\n",
       "      <td>126</td>\n",
       "      <td>11</td>\n",
       "      <td>14</td>\n",
       "      <td>6</td>\n",
       "      <td>8</td>\n",
       "      <td>9.222222</td>\n",
       "    </tr>\n",
       "  </tbody>\n",
       "</table>\n",
       "</div>"
      ],
      "text/plain": [
       "    r   g   b  nir      ndvi  year  month  day_in_year  lidar  max_lidar  \\\n",
       "0  43  51  78   89  0.348485  2012      5          126      2         10   \n",
       "1  65  59  84   79  0.097222  2012      5          126      0          6   \n",
       "2  81  86  93  132  0.239437  2012      5          126     11         14   \n",
       "\n",
       "   min_lidar  min_max_diff  avg_lidar  \n",
       "0          0            10   3.000000  \n",
       "1          0             6   1.000000  \n",
       "2          6             8   9.222222  "
      ]
     },
     "execution_count": 4,
     "metadata": {},
     "output_type": "execute_result"
    }
   ],
   "source": [
    "X_train.head(3)"
   ]
  },
  {
   "cell_type": "code",
   "execution_count": 9,
   "id": "13e60e75-1108-4c49-8477-6cf2125767c8",
   "metadata": {},
   "outputs": [
    {
     "name": "stdout",
     "output_type": "stream",
     "text": [
      "no-iceplant:iceplant ratio     2.5 :1\n",
      "          counts  percentage\n",
      "iceplant                    \n",
      "0         106302       71.04\n",
      "1          43330       28.96\n",
      "\n"
     ]
    }
   ],
   "source": [
    "mpe.iceplant_proportions(np.array(y_test))"
   ]
  },
  {
   "cell_type": "code",
   "execution_count": 8,
   "id": "dc328f6b-64c9-469f-ba7a-6ebd1668bec5",
   "metadata": {},
   "outputs": [
    {
     "name": "stdout",
     "output_type": "stream",
     "text": [
      "no-iceplant:iceplant ratio     2.4 :1\n",
      "          counts  percentage\n",
      "iceplant                    \n",
      "0         247696       70.95\n",
      "1         101425       29.05\n",
      "\n"
     ]
    }
   ],
   "source": [
    "mpe.iceplant_proportions(np.array(y_train))"
   ]
  },
  {
   "cell_type": "markdown",
   "id": "2efb364c-35a4-496e-9d5f-7ced1433b3df",
   "metadata": {},
   "source": [
    "## Train model"
   ]
  },
  {
   "cell_type": "code",
   "execution_count": 10,
   "id": "975378c3-ebf0-4e32-940d-26e3b98e93f2",
   "metadata": {},
   "outputs": [],
   "source": [
    "from dask_ml.wrappers import ParallelPostFit"
   ]
  },
  {
   "cell_type": "code",
   "execution_count": 11,
   "id": "0758f76c-597e-4b30-af49-b08b604a024f",
   "metadata": {},
   "outputs": [
    {
     "name": "stdout",
     "output_type": "stream",
     "text": [
      "time to train:  41.22987413406372\n"
     ]
    }
   ],
   "source": [
    "t0 = time.time()\n",
    "\n",
    "rfc = ParallelPostFit(RandomForestClassifier(n_estimators = 100, random_state = 42))\n",
    "rfc.fit(X_train, y_train)\n",
    "\n",
    "print('time to train: ', (time.time()-t0))"
   ]
  },
  {
   "cell_type": "code",
   "execution_count": 12,
   "id": "1bfed955-e42c-45da-83d5-9667a6d6582d",
   "metadata": {},
   "outputs": [
    {
     "name": "stdout",
     "output_type": "stream",
     "text": [
      "\n",
      "true negatives: 105742     false positives: 560\n",
      "false negatives: 696     true positives: 42634\n",
      "\n",
      "sensitivity (TP/P): 98.39 %\n",
      "specificity (TN/N): 99.47 %\n",
      "G-mean:  0.99\n",
      "\n",
      "precision (TP/(TP+FP)): 98.7 %\n",
      "\n",
      "MCC:  0.9795822912045534\n",
      "\n",
      "F1-measure:  0.98548\n",
      "F0.5-measure (min false positives):  0.98641\n",
      "F2-measure (min false negatives)  :  0.98456\n",
      "\n",
      "accuracy: 99.16 %\n",
      "\n"
     ]
    }
   ],
   "source": [
    "predictions = rfc.predict(X_test)\n",
    "mpe.print_threshold_metrics(y_test, predictions)"
   ]
  },
  {
   "cell_type": "code",
   "execution_count": 13,
   "id": "0e5ec4f9-ac9c-480a-b251-f52f34d07b5b",
   "metadata": {},
   "outputs": [],
   "source": [
    "# https://scikit-learn.org/stable/auto_examples/ensemble/plot_forest_importances.html\n",
    "from sklearn.inspection import permutation_importance\n",
    "\n",
    "result = permutation_importance(\n",
    "    rfc, X_test, y_test, n_repeats=10, random_state=42, n_jobs=2\n",
    ")"
   ]
  },
  {
   "cell_type": "code",
   "execution_count": 14,
   "id": "fcc0a010-302d-4c1c-b823-cd5bc67cd154",
   "metadata": {},
   "outputs": [],
   "source": [
    "forest_importances = pd.Series(result.importances_mean, index=['r', 'g', 'b', 'nir', 'ndvi', \n",
    "                                                               'year', 'month', 'day_in_year',\n",
    "                                                              'lidar', 'max_lidar', 'min_lidar', 'min_max_diff', 'avg_lida'])\n"
   ]
  },
  {
   "cell_type": "code",
   "execution_count": 15,
   "id": "1b178fa1-bc46-470e-8120-caca4d298ee6",
   "metadata": {},
   "outputs": [
    {
     "data": {
      "image/png": "[encoded data removed]",
      "text/plain": [
       "<Figure size 432x288 with 1 Axes>"
      ]
     },
     "metadata": {
      "needs_background": "light"
     },
     "output_type": "display_data"
    }
   ],
   "source": [
    "fig, ax = plt.subplots()\n",
    "forest_importances.plot.bar(yerr=result.importances_std, ax=ax)\n",
    "ax.set_title(\"Feature importances using permutation on full model\")\n",
    "ax.set_ylabel(\"Mean accuracy decrease\")\n",
    "fig.tight_layout()\n",
    "plt.show()"
   ]
  },
  {
   "cell_type": "code",
   "execution_count": null,
   "id": "351dc015-a7e7-442e-a9e6-5388409fa110",
   "metadata": {},
   "outputs": [],
   "source": []
  }
 ],
 "metadata": {
  "kernelspec": {
   "display_name": "Python 3 (ipykernel)",
   "language": "python",
   "name": "python3"
  },
  "language_info": {
   "codemirror_mode": {
    "name": "ipython",
    "version": 3
   },
   "file_extension": ".py",
   "mimetype": "text/x-python",
   "name": "python",
   "nbconvert_exporter": "python",
   "pygments_lexer": "ipython3",
   "version": "3.8.13"
  }
 },
 "nbformat": 4,
 "nbformat_minor": 5
}
