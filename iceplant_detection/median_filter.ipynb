{
 "cells": [
  {
   "cell_type": "code",
   "execution_count": 1,
   "id": "a75090a9-0c93-4233-ba14-234ad7b8e1f6",
   "metadata": {},
   "outputs": [],
   "source": [
    "import os\n",
    "import pandas as pd\n",
    "import time\n",
    "\n",
    "import rasterio\n",
    "import xarray as xr\n",
    "import rioxarray as rioxr\n",
    "\n",
    "import matplotlib.pyplot as plt\n",
    "\n",
    "from scipy.ndimage import median_filter"
   ]
  },
  {
   "cell_type": "code",
   "execution_count": 21,
   "id": "665c66fd-2cfa-46ce-85ca-b96a1a3da055",
   "metadata": {},
   "outputs": [
    {
     "data": {
      "text/plain": [
       "19    ca_m_3411936_sw_11_060_20200521\n",
       "20    ca_m_3411936_se_11_060_20200521\n",
       "21    ca_m_3411935_sw_11_060_20200521\n",
       "22    ca_m_3411935_se_11_060_20200521\n",
       "23    ca_m_3411934_sw_11_060_20200521\n",
       "24    ca_m_3411934_se_11_060_20200521\n",
       "25    ca_m_3411933_sw_11_060_20200521\n",
       "26    ca_m_3411933_se_11_060_20200521\n",
       "Name: itemid, dtype: object"
      ]
     },
     "execution_count": 21,
     "metadata": {},
     "output_type": "execute_result"
    }
   ],
   "source": [
    "year = 2020\n",
    "\n",
    "scene_ids = pd.read_csv(os.path.join(os.getcwd(),\n",
    "                                     'temp',\n",
    "                                     str(year)+'_spectral_predictions',\n",
    "                                     'coastal_scenes_ids_'+str(year)+'.csv')).itemid.iloc[19:30]\n",
    "scene_ids"
   ]
  },
  {
   "cell_type": "code",
   "execution_count": 22,
   "id": "4c43e443-a208-4abf-b0e9-7ffb785a84d4",
   "metadata": {},
   "outputs": [
    {
     "name": "stdout",
     "output_type": "stream",
     "text": [
      "FINISHED:  2.4245660305023193\n",
      "FINISHED:  4.0341386795043945\n",
      "FINISHED:  3.0659236907958984\n",
      "FINISHED:  2.751966714859009\n",
      "FINISHED:  2.6388983726501465\n",
      "FINISHED:  2.9700019359588623\n",
      "FINISHED:  0.8608381748199463\n",
      "FINISHED:  3.6058428287506104\n"
     ]
    }
   ],
   "source": [
    "times = []\n",
    "\n",
    "for itemid in scene_ids:\n",
    "    t0 = time.time()\n",
    "    fp = os.path.join(os.getcwd(),\n",
    "                  'temp',\n",
    "                  str(year)+'_spectral_predictions',\n",
    "                  'S_clip_preds_'+itemid+'.tif')\n",
    "    \n",
    "    raster = rioxr.open_rasterio(fp).squeeze()\n",
    "\n",
    "    filtered = median_filter(raster.to_numpy(), size=3)\n",
    "    \n",
    "    dt = time.time()- t0\n",
    "    times.append(dt)\n",
    "    print('FINISHED: ', dt)\n",
    "    \n",
    "    filename = 'S_clip_filter_preds_'+itemid+'.tif'\n",
    "    with rasterio.open(\n",
    "            os.path.join(os.getcwd(),'temp',filename),  # file path\n",
    "            'w',           # w = write\n",
    "            driver = 'GTiff', # format\n",
    "            height = raster.shape[0], \n",
    "            width = raster.shape[1],\n",
    "            count = 1,  # number of raster bands in the dataset\n",
    "            dtype = rasterio.uint8,\n",
    "            crs = raster.rio.crs,\n",
    "            transform = raster.rio.transform(),\n",
    "        ) as dst:\n",
    "            dst.write(filtered.astype(rasterio.uint8), 1)"
   ]
  },
  {
   "cell_type": "code",
   "execution_count": 23,
   "id": "d32c9d2f-c66f-4f11-98d1-e6855f753892",
   "metadata": {},
   "outputs": [
    {
     "data": {
      "text/plain": [
       "[2.4245660305023193,\n",
       " 4.0341386795043945,\n",
       " 3.0659236907958984,\n",
       " 2.751966714859009,\n",
       " 2.6388983726501465,\n",
       " 2.9700019359588623,\n",
       " 0.8608381748199463,\n",
       " 3.6058428287506104]"
      ]
     },
     "execution_count": 23,
     "metadata": {},
     "output_type": "execute_result"
    }
   ],
   "source": [
    "times"
   ]
  },
  {
   "cell_type": "code",
   "execution_count": null,
   "id": "dee042d5-0624-42e1-a723-0d39f040184b",
   "metadata": {},
   "outputs": [],
   "source": []
  }
 ],
 "metadata": {
  "kernelspec": {
   "display_name": "Python 3 (ipykernel)",
   "language": "python",
   "name": "python3"
  },
  "language_info": {
   "codemirror_mode": {
    "name": "ipython",
    "version": 3
   },
   "file_extension": ".py",
   "mimetype": "text/x-python",
   "name": "python",
   "nbconvert_exporter": "python",
   "pygments_lexer": "ipython3",
   "version": "3.10.6"
  }
 },
 "nbformat": 4,
 "nbformat_minor": 5
}
