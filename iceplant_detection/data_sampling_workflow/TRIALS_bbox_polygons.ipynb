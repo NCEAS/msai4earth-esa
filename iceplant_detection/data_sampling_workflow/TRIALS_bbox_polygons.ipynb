{
 "cells": [
  {
   "cell_type": "code",
   "execution_count": 1,
   "id": "f47801f9-46e8-4bb2-8980-dbc487f35af6",
   "metadata": {},
   "outputs": [],
   "source": [
    "import os\n",
    "import time\n",
    "import pandas as pd\n",
    "import numpy as np\n",
    "\n",
    "import geopandas as gpd\n",
    "import rioxarray as rioxr\n",
    "import rasterio\n",
    "\n",
    "#from skimage.filters.rank import entropy\n",
    "import sample_rasters as sr\n",
    "from rasterio.crs import CRS\n",
    "\n",
    "from shapely.geometry import box\n",
    "\n",
    "import planetary_computer as pc"
   ]
  },
  {
   "cell_type": "code",
   "execution_count": 2,
   "id": "4f215e68-dae4-40b2-b7a4-798f2c10a314",
   "metadata": {},
   "outputs": [],
   "source": [
    "# ***************************************************\n",
    "# ************* NOTEBOOK VARIABLES ******************\n",
    "\n",
    "itemids = pd.read_csv(os.path.join(os.getcwd(),'temp', 'aoi_naip_itemids.csv'))\n",
    "\n",
    "csv_name = 'spectral_window_test_set.csv'\n",
    "all_pts = pd.read_csv(os.path.join(os.getcwd(), csv_name))\n",
    "\n",
    "# ***************************************************\n",
    "# ***************************************************"
   ]
  },
  {
   "cell_type": "code",
   "execution_count": 3,
   "id": "8dbe76d4-17b0-4c65-bccc-dc40ac76bc81",
   "metadata": {},
   "outputs": [
    {
     "ename": "NameError",
     "evalue": "name 'geopandas' is not defined",
     "output_type": "error",
     "traceback": [
      "\u001b[0;31m---------------------------------------------------------------------------\u001b[0m",
      "\u001b[0;31mNameError\u001b[0m                                 Traceback (most recent call last)",
      "Cell \u001b[0;32mIn [3], line 40\u001b[0m\n\u001b[1;32m     38\u001b[0m pts_poly \u001b[38;5;241m=\u001b[39m all_pts\u001b[38;5;241m.\u001b[39mloc[ (all_pts[\u001b[38;5;124m'\u001b[39m\u001b[38;5;124mnaip_id\u001b[39m\u001b[38;5;124m'\u001b[39m] \u001b[38;5;241m==\u001b[39m itemid) \u001b[38;5;241m&\u001b[39m (all_pts[\u001b[38;5;124m'\u001b[39m\u001b[38;5;124mpolygon_id\u001b[39m\u001b[38;5;124m'\u001b[39m] \u001b[38;5;241m==\u001b[39m j)]\n\u001b[1;32m     39\u001b[0m crs \u001b[38;5;241m=\u001b[39m CRS\u001b[38;5;241m.\u001b[39mfrom_string(pts_poly\u001b[38;5;241m.\u001b[39mpts_crs\u001b[38;5;241m.\u001b[39miloc[\u001b[38;5;241m0\u001b[39m])\n\u001b[0;32m---> 40\u001b[0m pts_poly_df \u001b[38;5;241m=\u001b[39m \u001b[43msr\u001b[49m\u001b[38;5;241;43m.\u001b[39;49m\u001b[43mgeodataframe_from_csv\u001b[49m\u001b[43m(\u001b[49m\u001b[43mdf\u001b[49m\u001b[43m \u001b[49m\u001b[38;5;241;43m=\u001b[39;49m\u001b[43m \u001b[49m\u001b[43mpts_poly\u001b[49m\u001b[43m,\u001b[49m\u001b[43m \u001b[49m\u001b[43mlon_label\u001b[49m\u001b[38;5;241;43m=\u001b[39;49m\u001b[38;5;124;43m'\u001b[39;49m\u001b[38;5;124;43mx\u001b[39;49m\u001b[38;5;124;43m'\u001b[39;49m\u001b[43m,\u001b[49m\u001b[43m \u001b[49m\u001b[43mlat_label\u001b[49m\u001b[38;5;241;43m=\u001b[39;49m\u001b[38;5;124;43m'\u001b[39;49m\u001b[38;5;124;43my\u001b[39;49m\u001b[38;5;124;43m'\u001b[39;49m\u001b[43m,\u001b[49m\u001b[43m \u001b[49m\u001b[43mcrs\u001b[49m\u001b[38;5;241;43m=\u001b[39;49m\u001b[43mcrs\u001b[49m\u001b[43m)\u001b[49m\n\u001b[1;32m     41\u001b[0m pts_col \u001b[38;5;241m=\u001b[39m pts_poly_df\u001b[38;5;241m.\u001b[39mto_crs(naip_rast_r\u001b[38;5;241m.\u001b[39mrio\u001b[38;5;241m.\u001b[39mcrs)\u001b[38;5;241m.\u001b[39mgeometry\n",
      "File \u001b[0;32m~/msai4earth-esa/iceplant_detection/data_sampling_workflow/sample_rasters.py:481\u001b[0m, in \u001b[0;36mgeodataframe_from_csv\u001b[0;34m(df, fp, lon_label, lat_label, crs)\u001b[0m\n\u001b[1;32m    470\u001b[0m     df \u001b[38;5;241m=\u001b[39m df\u001b[38;5;241m.\u001b[39mrename(columns \u001b[38;5;241m=\u001b[39m {\u001b[38;5;124m'\u001b[39m\u001b[38;5;124mgeometry\u001b[39m\u001b[38;5;124m'\u001b[39m: \u001b[38;5;124m'\u001b[39m\u001b[38;5;124mgeometry_0\u001b[39m\u001b[38;5;124m'\u001b[39m})\n\u001b[1;32m    472\u001b[0m \u001b[38;5;66;03m# recreate geometry column as shapely Points\u001b[39;00m\n\u001b[1;32m    473\u001b[0m \u001b[38;5;66;03m#xy = []\u001b[39;00m\n\u001b[1;32m    474\u001b[0m \u001b[38;5;66;03m# for x,y in zip(df[lon_label],df[lat_label]):\u001b[39;00m\n\u001b[0;32m   (...)\u001b[0m\n\u001b[1;32m    478\u001b[0m \n\u001b[1;32m    479\u001b[0m \u001b[38;5;66;03m#return gpd.GeoDataFrame(df, crs=crs)\u001b[39;00m\n\u001b[0;32m--> 481\u001b[0m \u001b[38;5;28;01mreturn\u001b[39;00m gpd\u001b[38;5;241m.\u001b[39mGeoDataFrame(df, geometry\u001b[38;5;241m=\u001b[39m\u001b[43mgeopandas\u001b[49m\u001b[38;5;241m.\u001b[39mpoints_from_xy(df[lon_label],df[lat_label]), crs \u001b[38;5;241m=\u001b[39m crs)\n",
      "\u001b[0;31mNameError\u001b[0m: name 'geopandas' is not defined"
     ]
    }
   ],
   "source": [
    "t0 = time.time()\n",
    "for i in [9]:\n",
    "#for i in range(len(itemids)):\n",
    "    # ---------------------------------------\n",
    "    # open raster reader for NAIP scene\n",
    "    itemid = itemids.itemid[i]\n",
    "    item = sr.get_item_from_id(itemid)    \n",
    "    href = pc.sign(item.assets[\"image\"].href)\n",
    "    naip_rast_r = rioxr.open_rasterio(href) \n",
    "\n",
    "    # ---------------------------------------\n",
    "    # find polygons for that NAIP scene\n",
    "    poly_fp = sr.path_to_polygons(itemids.iloc[i].aoi_name, itemids.iloc[i].year)\n",
    "    polys = gpd.read_file(poly_fp)\n",
    "    \n",
    "    scene_entrs = []\n",
    "    # iterate through polygons in scene\n",
    "    for j in [0]:\n",
    "#    for j in range(len(polys)):\n",
    "        # ---------------------------------------\n",
    "        # create enlarged bounding box\n",
    "        poly = polys.geometry[j]\n",
    "        bbox = box(*poly.bounds)  \n",
    "        # NEED TO MAKE bbox BIGGER\n",
    "        reduce = gpd.GeoDataFrame({'geometry':[bbox]}, crs=polys.crs)\n",
    "        reduce = reduce.to_crs(naip_rast_r.rio.crs)      \n",
    "\n",
    "        # ---------------------------------------\n",
    "        # clip NAIP scene, calculate entropy, and save\n",
    "        rast = naip_rast_r.rio.clip_box(*reduce.total_bounds)\n",
    "        rast_name = itemid + '_poly_'+str(j)\n",
    "        sr.entropy_raster(raster = rast, rast_name=rast_name)\n",
    "        fp = os.path.join(os.getcwd(),'temp', rast_name + '_entrs.tif')\n",
    "    \n",
    "\n",
    "        # ---------------------------------------\n",
    "        # find points in that polygon\n",
    "        pts_poly = all_pts.loc[ (all_pts['naip_id'] == itemid) & (all_pts['polygon_id'] == j)]\n",
    "        crs = CRS.from_string(pts_poly.pts_crs.iloc[0])\n",
    "        pts_poly_df = sr.geodataframe_from_csv(df = pts_poly, lon_label='x', lat_label='y', crs=crs)\n",
    "        pts_col = pts_poly_df.to_crs(naip_rast_r.rio.crs).geometry"
   ]
  },
  {
   "cell_type": "code",
   "execution_count": 9,
   "id": "3780f7e7-335e-481c-8d61-e587af83a8fb",
   "metadata": {},
   "outputs": [],
   "source": []
  },
  {
   "cell_type": "code",
   "execution_count": 8,
   "id": "d93bc126-8990-4540-b887-0c51060daec7",
   "metadata": {},
   "outputs": [
    {
     "data": {
      "text/plain": [
       "'1.8.4'"
      ]
     },
     "execution_count": 8,
     "metadata": {},
     "output_type": "execute_result"
    }
   ],
   "source": [
    "import shapely\n",
    "shapely.__version__"
   ]
  },
  {
   "cell_type": "code",
   "execution_count": null,
   "id": "20d97f7f-9360-4f9b-89e1-c7a4125dafc5",
   "metadata": {},
   "outputs": [],
   "source": [
    "        # ---------------------------------------\n",
    "        # sample raster values from points\n",
    "        rast_r = rasterio.open(fp)\n",
    "        col_name = 'trial_entrs'\n",
    "        scene_entrs.append(sr.sample_raster_from_pts(pts_col, rast_r, [col_name]))\n",
    "        \n",
    "        # ---------------------------------------\n",
    "        # delete aux entropy raster\n",
    "        os.remove(fp)\n",
    "        \n",
    "print(time.time() -t0)"
   ]
  },
  {
   "cell_type": "code",
   "execution_count": null,
   "id": "ae5dd610-0430-48f3-8fbb-d95d2cec6a4e",
   "metadata": {},
   "outputs": [],
   "source": [
    "# TO DO :\n",
    "# - figure out df concatenation with points in each polygon\n",
    "# - add sampling for each band of the raster\n",
    "# - add ndvi sampling"
   ]
  },
  {
   "cell_type": "code",
   "execution_count": null,
   "id": "02a6fc07-ceb3-4c59-907f-0c3800942655",
   "metadata": {},
   "outputs": [],
   "source": [
    "all_pts.assign(trial = c)"
   ]
  },
  {
   "cell_type": "code",
   "execution_count": null,
   "id": "079a51e1-932f-455a-a4fa-8def8d80e15a",
   "metadata": {},
   "outputs": [],
   "source": [
    "c = [8]*231368"
   ]
  },
  {
   "cell_type": "code",
   "execution_count": null,
   "id": "725538ac-d5e0-4027-adf6-2c064b3a71c8",
   "metadata": {},
   "outputs": [],
   "source": []
  }
 ],
 "metadata": {
  "kernelspec": {
   "display_name": "Python 3 (ipykernel)",
   "language": "python",
   "name": "python3"
  },
  "language_info": {
   "codemirror_mode": {
    "name": "ipython",
    "version": 3
   },
   "file_extension": ".py",
   "mimetype": "text/x-python",
   "name": "python",
   "nbconvert_exporter": "python",
   "pygments_lexer": "ipython3",
   "version": "3.10.6"
  }
 },
 "nbformat": 4,
 "nbformat_minor": 5
}
