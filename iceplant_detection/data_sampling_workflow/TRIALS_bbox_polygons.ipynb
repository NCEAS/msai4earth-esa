{
 "cells": [
  {
   "cell_type": "code",
   "execution_count": 2,
   "id": "f47801f9-46e8-4bb2-8980-dbc487f35af6",
   "metadata": {},
   "outputs": [],
   "source": [
    "import os\n",
    "import time\n",
    "import pandas as pd\n",
    "import numpy as np\n",
    "\n",
    "import geopandas as gpd\n",
    "import rioxarray as rioxr\n",
    "import rasterio\n",
    "\n",
    "#from skimage.filters.rank import entropy\n",
    "import sample_rasters as sr\n",
    "from rasterio.crs import CRS\n",
    "\n",
    "from shapely.geometry import box\n",
    "\n",
    "import planetary_computer as pc"
   ]
  },
  {
   "cell_type": "code",
   "execution_count": 3,
   "id": "4f215e68-dae4-40b2-b7a4-798f2c10a314",
   "metadata": {},
   "outputs": [],
   "source": [
    "# ***************************************************\n",
    "# ************* NOTEBOOK VARIABLES ******************\n",
    "\n",
    "itemids = pd.read_csv(os.path.join(os.getcwd(),'temp', 'aoi_naip_itemids.csv'))\n",
    "\n",
    "csv_name = 'spectral_window_test_set.csv'\n",
    "all_pts = pd.read_csv(os.path.join(os.getcwd(), csv_name))\n",
    "\n",
    "# ***************************************************\n",
    "# ***************************************************"
   ]
  },
  {
   "cell_type": "code",
   "execution_count": null,
   "id": "96c6397e-f27c-4dc2-90b7-0237cd207a8a",
   "metadata": {},
   "outputs": [],
   "source": [
    "for i in [9]:\n",
    "#for i in range(len(itemids)):\n",
    "    # ---------------------------------------\n",
    "    # open raster reader for NAIP scene\n",
    "    itemid = itemids.itemid[i]\n",
    "    item = sr.get_item_from_id(itemid)    \n",
    "    href = pc.sign(item.assets[\"image\"].href)\n",
    "    naip_rast_r = rioxr.open_rasterio(href) \n",
    "\n",
    "    # ---------------------------------------\n",
    "    # find polygons for that NAIP scene\n",
    "    poly_fp = sr.path_to_polygons(itemids.iloc[i].aoi_name, itemids.iloc[i].year)\n",
    "    polys = gpd.read_file(poly_fp)\n",
    "    \n",
    "    scene_entrs = []\n",
    "    # iterate through polygons in scene\n",
    "#    for j in [0]:\n",
    "    for j in range(len(polys)):\n",
    "        # ---------------------------------------\n",
    "        # create enlarged bounding box\n",
    "        poly = polys.geometry[j]\n",
    "        bbox = box(*poly.bounds)  \n",
    "        # NEED TO MAKE bbox BIGGER\n",
    "        reduce = gpd.GeoDataFrame({'geometry':[bbox]}, crs=polys.crs)\n",
    "        reduce = reduce.to_crs(naip_rast_r.rio.crs)      \n",
    "        \n",
    "        # ---------------------------------------\n",
    "        # clip NAIP scene, calculate entropy, and save\n",
    "        rast = naip_rast_r.rio.clip_box(*reduce.total_bounds)\n",
    "        rast_name = itemid + '_poly_'+str(j)\n",
    "        sr.entropy_raster(raster = rast, rast_name=rast_name)\n",
    "        fp = os.path.join(os.getcwd(),'temp', rast_name + '_entrs.tif')\n",
    "        \n",
    "        # ---------------------------------------\n",
    "        # find points in that polygon\n",
    "        pts_poly = all_pts.loc[ (all_pts['naip_id'] == itemid) & (all_pts['polygon_id'] == j)]\n",
    "        crs = CRS.from_string(pts_poly.pts_crs.iloc[0])\n",
    "        pts_poly_df = sr.geodataframe_from_csv(df = pts_poly, lon_label='x', lat_label='y', crs=crs)\n",
    "        pts_col = pts_poly_df.to_crs(naip_rast_r.rio.crs).geometry\n",
    "        \n",
    "        # ---------------------------------------\n",
    "        # sample raster values from points\n",
    "        rast_r = rasterio.open(fp)\n",
    "        col_name = 'trial_entrs'\n",
    "        scene_entrs.append(sr.sample_raster_from_pts(pts_col, rast_r, [col_name]))\n",
    "        \n",
    "        # ---------------------------------------\n",
    "        # delete aux entropy raster\n",
    "        os.remove(fp)"
   ]
  },
  {
   "cell_type": "code",
   "execution_count": null,
   "id": "ae5dd610-0430-48f3-8fbb-d95d2cec6a4e",
   "metadata": {},
   "outputs": [],
   "source": [
    "# TO DO :\n",
    "# - figure out df concatenation with points in each polygon\n",
    "# - add sampling for each band of the raster\n",
    "# - add ndvi sampling"
   ]
  },
  {
   "cell_type": "code",
   "execution_count": null,
   "id": "02a6fc07-ceb3-4c59-907f-0c3800942655",
   "metadata": {},
   "outputs": [],
   "source": []
  }
 ],
 "metadata": {
  "kernelspec": {
   "display_name": "Python 3 (ipykernel)",
   "language": "python",
   "name": "python3"
  },
  "language_info": {
   "codemirror_mode": {
    "name": "ipython",
    "version": 3
   },
   "file_extension": ".py",
   "mimetype": "text/x-python",
   "name": "python",
   "nbconvert_exporter": "python",
   "pygments_lexer": "ipython3",
   "version": "3.10.6"
  }
 },
 "nbformat": 4,
 "nbformat_minor": 5
}
