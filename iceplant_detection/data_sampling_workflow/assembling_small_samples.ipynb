{
 "cells": [
  {
   "cell_type": "code",
   "execution_count": 2,
   "id": "d1161702-08ff-464f-83b6-db8de601be0b",
   "metadata": {},
   "outputs": [],
   "source": [
    "import pandas as pd\n",
    "import numpy as np\n",
    "import os"
   ]
  },
  {
   "cell_type": "code",
   "execution_count": 17,
   "id": "8590cf0d-9432-4689-b089-0097b2fad5b6",
   "metadata": {},
   "outputs": [],
   "source": [
    "fp = os.path.join(os.getcwd(),\n",
    "                  'capitan_iceplant_pts.csv')\n",
    "cap_ice_pts = pd.read_csv(fp)\n",
    "# these are only 2020\n",
    "sample_cap_ice = cap_ice_pts.sample(frac=0.3)  \n",
    "\n",
    "# merge previously sampled train and test\n",
    "train = pd.read_csv(os.path.join(os.getcwd(), 'LSWE_train_set.csv')) \n",
    "test = pd.read_csv(os.path.join(os.getcwd(), 'LSWE_test_set.csv'))\n",
    "all_pts = pd.concat([train,test])\n",
    "\n",
    "# choose only 2020 points\n",
    "all_pts = all_pts[all_pts.year == 2020]\n",
    "\n",
    "# iceplant: sample 1 pt from each polygn from each aoi\n",
    "iceplant = all_pts[all_pts.iceplant==1]\n",
    "\n",
    "ice_pts = iceplant.groupby(['aoi','polygon_id'], group_keys=False).apply(lambda df: df.sample(2))\n",
    "\n",
    "# non-iceplant: sample 1 pt from each polygn from each aoi\n",
    "nonice = all_pts[all_pts.iceplant==0]\n",
    "\n",
    "nonice_pts = nonice.groupby(['aoi','polygon_id'], group_keys=False).apply(lambda df: df.sample(2))\n",
    "\n",
    "# randomly sampled vegetation pts \n",
    "fp = os.path.join(os.getcwd(), 'vegetation_samples.csv')\n",
    "extra_veg = pd.read_csv(fp)\n",
    "\n",
    "all_veg = pd.concat([nonice_pts, extra_veg]).reset_index(drop=True)  #509 (1 pt/polygon) \n",
    "all_ice = pd.concat([ice_pts, sample_cap_ice]).reset_index(drop=True) #156 (1 pt/polygon)"
   ]
  },
  {
   "cell_type": "code",
   "execution_count": 5,
   "id": "25f7321d-833e-4545-abdf-73c6e07b1429",
   "metadata": {},
   "outputs": [],
   "source": [
    "#training: sample 70% of iceplant a vegetation pts from each aoi \n",
    "ice_train = all_ice.groupby(['aoi'], group_keys=False).apply(lambda df: df.sample(frac=0.7))\n",
    "veg_train = all_veg.groupby(['aoi'], group_keys=False).apply(lambda df: df.sample(frac=0.7))\n",
    "\n",
    "ice_test = all_ice.loc[list(set(range(len(all_ice))) - set(ice_train.index))]\n",
    "veg_test = all_veg.loc[list(set(range(len(all_veg))) - set(veg_train.index))]"
   ]
  },
  {
   "cell_type": "code",
   "execution_count": 6,
   "id": "8514ff2d-31ed-47db-b99e-b8ca894642dd",
   "metadata": {},
   "outputs": [],
   "source": [
    "train = pd.concat([ice_train, veg_train])\n",
    "test = pd.concat([ice_test, veg_test])\n",
    "\n",
    "train.to_csv(os.path.join(os.getcwd(),'ptpoly2_train_2020.csv'), index=False)\n",
    "test.to_csv(os.path.join(os.getcwd(),'ptpoly2_test_2020.csv'), index=False)"
   ]
  },
  {
   "cell_type": "code",
   "execution_count": null,
   "id": "041d0711-3e13-4838-b204-48810d28ced5",
   "metadata": {},
   "outputs": [],
   "source": []
  }
 ],
 "metadata": {
  "kernelspec": {
   "display_name": "Python 3 (ipykernel)",
   "language": "python",
   "name": "python3"
  },
  "language_info": {
   "codemirror_mode": {
    "name": "ipython",
    "version": 3
   },
   "file_extension": ".py",
   "mimetype": "text/x-python",
   "name": "python",
   "nbconvert_exporter": "python",
   "pygments_lexer": "ipython3",
   "version": "3.10.6"
  }
 },
 "nbformat": 4,
 "nbformat_minor": 5
}
