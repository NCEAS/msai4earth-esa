{
 "cells": [
  {
   "cell_type": "markdown",
   "id": "89b5d877-55fd-4e46-9472-d0fcfbf927fb",
   "metadata": {},
   "source": [
    "# About\n",
    "\n",
    "This notebook adds canopy height features to the points sampled in the notebook `2_sample_pts_from_polygos.ipynb`. The notebook assumes the csv files with the sampled points  are located in the 'temp' folder. The canopy height rasters for Santa Barbara County were obtained from the California Forest Observatory (CFO) using the `1_download_CFO_canopy_height_raster.ipynb` notebook and are located in the 'SantabarbaraCounty_lidar' folder. \n",
    "\n",
    "\n",
    "In the process of adding the canopy height features, this notebook creates four additional temporary rasters from the CFO canopy height layer *H*. These layers are avg_lidar, max_lidar, min_lidar, and min_max_diff. For a given year, the avg_lidar layer is created by replacing the value of a pixel *p* in *H* by the average of the values of *H* in a 3x3 window centered at *p* (effectively a convolution of the raster *H* with a 3x3 matrix with constant weights 1/9). The max_lidar is created by replacing the value of a pixel *p* in *H* with the maximum value of *H* in a 3x3 window centered at *p*. The min_lidar layer is created similarly, now taking the minimum value over the window. Finally, the min_max_diff layer is the difference between the max_lidar and the min_lidar layers. All the functions to create these raster layers and sample information from them are in `lidar_sampling_functions`. \n",
    "\n",
    "To add canopy height features to all points from all aois and all years, you will need to run the notebook once per year, using all the aois.\n",
    "\n",
    "**NOTEBOOK VARIABLES:**\n",
    "\n",
    "- `aoi_year` (int): the year of the points which will have lidar features added. Must be one of 2012, 2014, 2016, 2018 or 2020.\n",
    "\n",
    "- `aois` (array): the areas of interest of the points which will have lidar features added. Must be a subset of `['campus_lagoon','carpinteria','gaviota', 'point_conception']`.\n",
    "\n",
    "- `lidar_year` (int): the year of canopy height data from which to sample the lidar features for the points. Must be 2016, 2018, or 2020. Ideally, `aoi_year = lidar_year`, but due to data availability it is recommended to make `lidar_year=2016` when `aoi_year` equals 2014 or 2012. \n",
    "\n",
    "- `delete_pts` (bool): whether to delete the files with the original points or not.\n",
    "\n",
    "Notes: there are no points sampled from point_conception on 2016. The notebook automatically excludes this option. \n",
    "\n",
    "\n",
    "**OUTPUT:**\n",
    "For each csv of points from the specified year and aoi, the notebook creates a dataframe with the original features from the intial points dataset (see notebook `2_sample_pts_from_polygons`) augmented with the canopy height, avg_lidar, max_lidar, min_lidar, and min_max_diff features sampled at the points location from the CFO canopy height raster from year `lidar_year`. \n",
    "The dataframes are then saved each as a csv file in the 'temp' folder."
   ]
  },
  {
   "cell_type": "code",
   "execution_count": 1,
   "id": "49807a07-64cf-4a78-b3df-143806fa04d4",
   "metadata": {},
   "outputs": [],
   "source": [
    "import os\n",
    "import pandas as pd\n",
    "import geopandas as gpd\n",
    "import rioxarray as riox\n",
    "\n",
    "import rasterio\n",
    "\n",
    "import pystac_client\n",
    "import planetary_computer as pc\n",
    "\n",
    "import lidar_sampling_functions as lsf"
   ]
  },
  {
   "cell_type": "markdown",
   "id": "4e8e0e4b-b5af-4b05-8a8a-bc97104c8dc8",
   "metadata": {},
   "source": [
    "# Specify notebook variables"
   ]
  },
  {
   "cell_type": "code",
   "execution_count": 18,
   "id": "e264bfd2-cd3b-4352-be8d-22ef66e0285c",
   "metadata": {},
   "outputs": [],
   "source": [
    "# ***************************************************\n",
    "# ************* NOTEBOOK VARIABLES ******************\n",
    "\n",
    "aoi_year = 2012\n",
    "\n",
    "aois = ['campus_lagoon','carpinteria','gaviota','point_conception']\n",
    "\n",
    "lidar_year = 2016 # must be 2016, 2018 or 2020\n",
    "\n",
    "delete_pts = True\n",
    "    \n",
    "# ***************************************************\n",
    "# ***************************************************"
   ]
  },
  {
   "cell_type": "code",
   "execution_count": 19,
   "id": "8deb22d9-b87d-4b96-935b-5bedea1688b8",
   "metadata": {},
   "outputs": [],
   "source": [
    "# If aoi_year=2016, then use aois without point_conception (there are no 2016 polygons in that aoi)\n",
    "if ('point_conception' in aois) and (aoi_year == 2016):\n",
    "    aois.remove('point_conception')"
   ]
  },
  {
   "cell_type": "markdown",
   "id": "680808f1-007a-4c73-98e5-ddaf154b6ada",
   "metadata": {},
   "source": [
    "# Open canopy height raster and create auxiliary min, max, and avg rasters"
   ]
  },
  {
   "cell_type": "code",
   "execution_count": 20,
   "id": "d586610b-3038-43ac-a5f5-c684bc37c302",
   "metadata": {},
   "outputs": [],
   "source": [
    "lidar_rast_r = rasterio.open(lsf.path_to_lidar(lidar_year))\n",
    "\n",
    "lsf.save_min_max_rasters(rast_reader = lidar_rast_r, \n",
    "                              folder_path = os.path.join(os.getcwd(),'temp'),\n",
    "                              year = lidar_year)\n",
    "\n",
    "lsf.save_avg_rasters(rast_reader = lidar_rast_r, \n",
    "                              folder_path = os.path.join(os.getcwd(),'temp'),\n",
    "                              year = lidar_year)"
   ]
  },
  {
   "cell_type": "markdown",
   "id": "9cdf0795-010d-4ce3-a806-50efd303fdd5",
   "metadata": {},
   "source": [
    "\n",
    "# Add canopy height data from year `lidar_year` to points from all aois in year `aoi_year`"
   ]
  },
  {
   "cell_type": "code",
   "execution_count": 21,
   "id": "e190a0b3-010c-435b-ac7c-7cb31a70e443",
   "metadata": {},
   "outputs": [
    {
     "name": "stderr",
     "output_type": "stream",
     "text": [
      "/srv/conda/envs/notebook/lib/python3.8/site-packages/pandas/core/dtypes/cast.py:122: ShapelyDeprecationWarning: The array interface is deprecated and will no longer work in Shapely 2.0. Convert the '.coords' to a numpy array instead.\n",
      "  arr = construct_1d_object_array_from_listlike(values)\n",
      "/srv/conda/envs/notebook/lib/python3.8/site-packages/pandas/core/dtypes/cast.py:122: ShapelyDeprecationWarning: The array interface is deprecated and will no longer work in Shapely 2.0. Convert the '.coords' to a numpy array instead.\n",
      "  arr = construct_1d_object_array_from_listlike(values)\n",
      "/srv/conda/envs/notebook/lib/python3.8/site-packages/pandas/core/dtypes/cast.py:122: ShapelyDeprecationWarning: The array interface is deprecated and will no longer work in Shapely 2.0. Convert the '.coords' to a numpy array instead.\n",
      "  arr = construct_1d_object_array_from_listlike(values)\n",
      "/srv/conda/envs/notebook/lib/python3.8/site-packages/pandas/core/dtypes/cast.py:122: ShapelyDeprecationWarning: The array interface is deprecated and will no longer work in Shapely 2.0. Convert the '.coords' to a numpy array instead.\n",
      "  arr = construct_1d_object_array_from_listlike(values)\n"
     ]
    }
   ],
   "source": [
    "for aoi in aois:\n",
    "    pts_fp = os.path.join(os.getcwd(), \n",
    "                          'temp',\n",
    "                          aoi+'_points_'+str(aoi_year)+'.csv')\n",
    "\n",
    "    ## Obtain CRS from itemid and create geodataframe from points\n",
    "    itemid = pd.read_csv(pts_fp).naip_id[0]\n",
    "    pts = lsf.geodataframe_from_csv(pts_fp, lsf.crs_from_itemid(itemid))\n",
    "\n",
    "    ## Sample LIDAR\n",
    "    pts_xy = lsf.pts_for_lidar_sampling(pts, lidar_rast_r.crs)\n",
    "    lidar_samples = lsf.sample_raster(pts_xy, lidar_rast_r)\n",
    "    \n",
    "    # file paths to auxiliary LIDAR rasters\n",
    "    lidar_fps = []\n",
    "    for tag in ['maxs_', 'mins_', 'avgs_']:\n",
    "        lidar_fps.append(os.path.join(os.getcwd(),\n",
    "                                     'temp',\n",
    "                                     'lidar_'+tag+ str(lidar_year)+'.tif'))\n",
    "\n",
    "    ## Sample mmax, min and avg LIDAR\n",
    "    maxs_rast_r = rasterio.open(lidar_fps[0])\n",
    "    max_samples = lsf.sample_raster(pts_xy, maxs_rast_r)\n",
    "\n",
    "    mins_rast_r = rasterio.open(lidar_fps[1])\n",
    "    min_samples = lsf.sample_raster(pts_xy, mins_rast_r)\n",
    "\n",
    "    avg_rast_r = rasterio.open(lidar_fps[2])\n",
    "    avg_samples = lsf.sample_raster(pts_xy, avg_rast_r)\n",
    "    \n",
    "    ## Add all LIDAR data to pts dataframe\n",
    "    pts['lidar'] = lidar_samples\n",
    "    pts['max_lidar']= max_samples\n",
    "    pts['min_lidar'] = min_samples\n",
    "    pts['min_max_diff'] = pts.max_lidar - pts.min_lidar  # include difference\n",
    "    pts['avg_lidar'] = avg_samples\n",
    "\n",
    "    ## Save points with added LIDAR data\n",
    "    ptslidar_fp = os.path.join(os.getcwd(), \n",
    "                               'temp', \n",
    "                               aoi +'_pts_spectral_lidar_'+str(aoi_year)+'.csv')\n",
    "    pts.to_csv(ptslidar_fp)\n",
    "    \n",
    "    ## # Delete point csv files (ones without LIDAR)\n",
    "    if delete_pts == True:\n",
    "        os.remove(pts_fp)"
   ]
  },
  {
   "cell_type": "markdown",
   "id": "a782cbc9-f50c-433c-b23b-3cf122b869f1",
   "metadata": {},
   "source": [
    "# Delete auxiliary LIDAR rasters created in the beginning "
   ]
  },
  {
   "cell_type": "code",
   "execution_count": null,
   "id": "5816ef91-0f73-403b-9970-5bf8dbbb6735",
   "metadata": {},
   "outputs": [],
   "source": [
    "for fp in lidar_fps:\n",
    "    os.remove(fp)"
   ]
  }
 ],
 "metadata": {
  "kernelspec": {
   "display_name": "Python 3 (ipykernel)",
   "language": "python",
   "name": "python3"
  },
  "language_info": {
   "codemirror_mode": {
    "name": "ipython",
    "version": 3
   },
   "file_extension": ".py",
   "mimetype": "text/x-python",
   "name": "python",
   "nbconvert_exporter": "python",
   "pygments_lexer": "ipython3",
   "version": "3.8.13"
  }
 },
 "nbformat": 4,
 "nbformat_minor": 5
}
