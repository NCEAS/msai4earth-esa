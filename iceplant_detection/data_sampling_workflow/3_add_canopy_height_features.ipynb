{
 "cells": [
  {
   "cell_type": "markdown",
   "id": "89b5d877-55fd-4e46-9472-d0fcfbf927fb",
   "metadata": {},
   "source": [
    "# About\n",
    "\n",
    "This notebook adds canopy height features to the points sampled in the notebook `2_sample_pts_from_polygos.ipynb`. Due to data availability, canopy height data will only be added to points from the years 2016, 2018, and 200. The notebook assumes the csv files with the sampled points are located in the 'temp' folder. The canopy height rasters for Santa Barbara County were obtained from the California Forest Observatory (CFO) using the `1_download_CFO_canopy_height_raster.ipynb` notebook and are located in the 'SantabarbaraCounty_lidar' folder. \n",
    "\n",
    "While adding the canopy height features, this notebook creates four additional temporary rasters from the CFO canopy height layer *H*in a given year. These layers are avg_lidar, max_lidar, min_lidar, and min_max_diff. For each year, the avg_lidar layer is created by replacing the value of a pixel *p* in *H* by the average of the values of *H* in a 3x3 window centered at *p* (a convolution of the raster *H* with a 3x3 matrix with constant weights 1/9). The max_lidar is created by replacing the value of a pixel *p* in *H* with the maximum value of *H* in a 3x3 window centered at *p*. The min_lidar layer is created similarly, taking the minimum value over the window. Finally, the min_max_diff layer is the difference between the max_lidar and the min_lidar layers. All the functions to create these raster layers and sample their information are in `lidar_sampling_functions`. \n",
    "\n",
    "\n",
    "\n",
    "**NOTEBOOK VARIABLES:**\n",
    "\n",
    "- `years` (int array): years of the points that will have lidar features added. Must be a subset of [2016, 2018, 2020]\n",
    "\n",
    "- `aois` (array): the areas of interest of the points which will have lidar features added. Must be a subset of `['campus_lagoon','carpinteria','gaviota', 'point_conception']`.\n",
    "\n",
    "- `delete_pts` (bool): whether to delete the input files with the original points or not.\n",
    "\n",
    "To add canopy height features to all points from all aois and all years with available data, you need to set `years = [2016, 2018, 2020]` and `aois = ['campus_lagoon','carpinteria','gaviota','point_conception']`.\n",
    "\n",
    "Notes: there are no points sampled from point_conception on 2016. The notebook automatically excludes this option. \n",
    "\n",
    "\n",
    "**OUTPUT:**\n",
    "For each csv file of points from the specified year and aoi, the notebook augments the features in the original csv (see notebook `2_sample_pts_from_polygons.ipynb`) with the columns: canopy height, avg_lidar, max_lidar, min_lidar, and min_max_diff. The values for these columns are obtained using the points to sample the canopy height rasters.\n",
    "Each data frame is saved as a csv file in the 'temp' folder (one csv per area of interest oi and year combination) with the name `aoi_pts_spectral_lidar_year.csv.`"
   ]
  },
  {
   "cell_type": "code",
   "execution_count": 1,
   "id": "49807a07-64cf-4a78-b3df-143806fa04d4",
   "metadata": {},
   "outputs": [],
   "source": [
    "import os\n",
    "import pandas as pd\n",
    "\n",
    "import rasterio\n",
    "from rasterio.crs import CRS\n",
    "\n",
    "import sample_rasters as sr"
   ]
  },
  {
   "cell_type": "markdown",
   "id": "4e8e0e4b-b5af-4b05-8a8a-bc97104c8dc8",
   "metadata": {},
   "source": [
    "# Specify notebook variables"
   ]
  },
  {
   "cell_type": "code",
   "execution_count": 2,
   "id": "e264bfd2-cd3b-4352-be8d-22ef66e0285c",
   "metadata": {},
   "outputs": [],
   "source": [
    "# ***************************************************\n",
    "# ************* NOTEBOOK VARIABLES ******************\n",
    "\n",
    "years = [2016, 2018, 2020]\n",
    "\n",
    "aois = ['campus_lagoon','carpinteria','gaviota','point_conception']\n",
    "\n",
    "delete_pts = True\n",
    "    \n",
    "# ***************************************************\n",
    "# ***************************************************"
   ]
  },
  {
   "cell_type": "markdown",
   "id": "9cdf0795-010d-4ce3-a806-50efd303fdd5",
   "metadata": {},
   "source": [
    "# Add canopy height data from year `lidar_year` to points from all aois in year `year`"
   ]
  },
  {
   "cell_type": "code",
   "execution_count": null,
   "id": "ca5aadb6-32ab-46ce-b566-25263f927065",
   "metadata": {},
   "outputs": [
    {
     "name": "stderr",
     "output_type": "stream",
     "text": [
      "/srv/conda/envs/notebook/lib/python3.8/site-packages/pandas/core/dtypes/cast.py:122: ShapelyDeprecationWarning: The array interface is deprecated and will no longer work in Shapely 2.0. Convert the '.coords' to a numpy array instead.\n",
      "  arr = construct_1d_object_array_from_listlike(values)\n",
      "/srv/conda/envs/notebook/lib/python3.8/site-packages/pandas/core/dtypes/cast.py:122: ShapelyDeprecationWarning: The array interface is deprecated and will no longer work in Shapely 2.0. Convert the '.coords' to a numpy array instead.\n",
      "  arr = construct_1d_object_array_from_listlike(values)\n",
      "/srv/conda/envs/notebook/lib/python3.8/site-packages/pandas/core/dtypes/cast.py:122: ShapelyDeprecationWarning: The array interface is deprecated and will no longer work in Shapely 2.0. Convert the '.coords' to a numpy array instead.\n",
      "  arr = construct_1d_object_array_from_listlike(values)\n",
      "/srv/conda/envs/notebook/lib/python3.8/site-packages/pandas/core/dtypes/cast.py:122: ShapelyDeprecationWarning: The array interface is deprecated and will no longer work in Shapely 2.0. Convert the '.coords' to a numpy array instead.\n",
      "  arr = construct_1d_object_array_from_listlike(values)\n",
      "/srv/conda/envs/notebook/lib/python3.8/site-packages/pandas/core/dtypes/cast.py:122: ShapelyDeprecationWarning: The array interface is deprecated and will no longer work in Shapely 2.0. Convert the '.coords' to a numpy array instead.\n",
      "  arr = construct_1d_object_array_from_listlike(values)\n",
      "/srv/conda/envs/notebook/lib/python3.8/site-packages/pandas/core/dtypes/cast.py:122: ShapelyDeprecationWarning: The array interface is deprecated and will no longer work in Shapely 2.0. Convert the '.coords' to a numpy array instead.\n",
      "  arr = construct_1d_object_array_from_listlike(values)\n",
      "/srv/conda/envs/notebook/lib/python3.8/site-packages/pandas/core/dtypes/cast.py:122: ShapelyDeprecationWarning: The array interface is deprecated and will no longer work in Shapely 2.0. Convert the '.coords' to a numpy array instead.\n",
      "  arr = construct_1d_object_array_from_listlike(values)\n",
      "/srv/conda/envs/notebook/lib/python3.8/site-packages/pandas/core/dtypes/cast.py:122: ShapelyDeprecationWarning: The array interface is deprecated and will no longer work in Shapely 2.0. Convert the '.coords' to a numpy array instead.\n",
      "  arr = construct_1d_object_array_from_listlike(values)\n",
      "/srv/conda/envs/notebook/lib/python3.8/site-packages/pandas/core/dtypes/cast.py:122: ShapelyDeprecationWarning: The array interface is deprecated and will no longer work in Shapely 2.0. Convert the '.coords' to a numpy array instead.\n",
      "  arr = construct_1d_object_array_from_listlike(values)\n",
      "/srv/conda/envs/notebook/lib/python3.8/site-packages/pandas/core/dtypes/cast.py:122: ShapelyDeprecationWarning: The array interface is deprecated and will no longer work in Shapely 2.0. Convert the '.coords' to a numpy array instead.\n",
      "  arr = construct_1d_object_array_from_listlike(values)\n",
      "/srv/conda/envs/notebook/lib/python3.8/site-packages/pandas/core/dtypes/cast.py:122: ShapelyDeprecationWarning: The array interface is deprecated and will no longer work in Shapely 2.0. Convert the '.coords' to a numpy array instead.\n",
      "  arr = construct_1d_object_array_from_listlike(values)\n"
     ]
    }
   ],
   "source": [
    "# check the years are from the set where data is available\n",
    "lidar_years = list(set(years) & set([2016,2018,2020]))\n",
    "\n",
    "for year in lidar_years:\n",
    "    # ------------------------------\n",
    "    # Open canopy height raster and create auxiliary min, max, and avg rasters\n",
    "    lidar_rast_r = rasterio.open(sr.path_to_lidar(year))\n",
    "    rast_name = 'SB_canopy_height_'+str(year) # give a name to read raster\n",
    "    \n",
    "    sr.min_raster(rast_reader = lidar_rast_r, rast_name = rast_name, n=3)\n",
    "    sr.max_raster(rast_reader = lidar_rast_r, rast_name = rast_name, n=3)\n",
    "    sr.avg_raster(rast_reader = lidar_rast_r, rast_name = rast_name, n=3)\n",
    "    \n",
    "    # file paths to auxiliary canopy height rasters\n",
    "    lidar_fps = []\n",
    "    for tag in ['_maxs', '_mins', '_avgs']:\n",
    "        lidar_fps.append(os.path.join(os.getcwd(),\n",
    "                                     'temp',\n",
    "                                     rast_name+tag+'.tif'))\n",
    "\n",
    "    # ------------------------------\n",
    "    # Add lidar data for each aoi\n",
    "    for aoi in aois:\n",
    "        if ('point_conception' != aoi) or (year != 2016):  #there's no data for Point Conception on 2016\n",
    "            \n",
    "            ## Get points information from csv\n",
    "            pts_fp = sr.path_to_spectral_pts(aoi, year)\n",
    "            crs = CRS.from_string(pd.read_csv(pts_fp).pts_crs[0])\n",
    "            pts = sr.geodataframe_from_csv(pts_fp, 'x','y',crs)\n",
    "            pts_col = pts.to_crs(lidar_rast_r.crs).geometry\n",
    "\n",
    "            ## Sample canopy_height at point, and max, min and avg canopy height around point\n",
    "            lidar_samples = sr.sample_raster_from_pts(pts_col, lidar_rast_r, ['lidar'])\n",
    "\n",
    "            maxs_rast_r = rasterio.open(lidar_fps[0])\n",
    "            max_samples = sr.sample_raster_from_pts(pts_col, maxs_rast_r, ['max_lidar'])\n",
    "\n",
    "            mins_rast_r = rasterio.open(lidar_fps[1])\n",
    "            min_samples = sr.sample_raster_from_pts(pts_col, mins_rast_r, ['min_lidar'])\n",
    "\n",
    "            avg_rast_r = rasterio.open(lidar_fps[2])\n",
    "            avg_samples = sr.sample_raster_from_pts(pts_col, avg_rast_r, ['avg_lidar'])\n",
    "\n",
    "            ## Add all LIDAR data to pts dataframe\n",
    "            pts = pd.concat([pts, lidar_samples, max_samples, min_samples, avg_samples], axis=1)\n",
    "            pts['min_max_diff'] = pts.max_lidar - pts.min_lidar\n",
    "            \n",
    "            pts.drop(['geometry'],axis=1, inplace=True) # remove geometry column (already have lat,lon and CRS)\n",
    "            \n",
    "            ## Save points with added LIDAR data\n",
    "            ptslidar_fp = os.path.join(os.getcwd(), \n",
    "                                       'temp', \n",
    "                                       aoi +'_pts_spectral_lidar_'+str(year)+'.csv')\n",
    "            pts.to_csv(ptslidar_fp, index=False)\n",
    "\n",
    "            ## Delete original csv files (points without LIDAR)\n",
    "            if delete_pts == True:\n",
    "                os.remove(pts_fp)\n",
    "\n",
    "    # ------------------------------\n",
    "    # Delete auxiliary LIDAR rasters created for this year\n",
    "    for fp in lidar_fps:\n",
    "        os.remove(fp)"
   ]
  },
  {
   "cell_type": "code",
   "execution_count": null,
   "id": "892c276b-f031-4ce5-b207-d46a90119917",
   "metadata": {},
   "outputs": [],
   "source": []
  }
 ],
 "metadata": {
  "kernelspec": {
   "display_name": "Python 3 (ipykernel)",
   "language": "python",
   "name": "python3"
  },
  "language_info": {
   "codemirror_mode": {
    "name": "ipython",
    "version": 3
   },
   "file_extension": ".py",
   "mimetype": "text/x-python",
   "name": "python",
   "nbconvert_exporter": "python",
   "pygments_lexer": "ipython3",
   "version": "3.8.13"
  }
 },
 "nbformat": 4,
 "nbformat_minor": 5
}
