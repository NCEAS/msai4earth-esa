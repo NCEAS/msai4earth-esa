{
 "cells": [
  {
   "cell_type": "markdown",
   "id": "89b5d877-55fd-4e46-9472-d0fcfbf927fb",
   "metadata": {},
   "source": [
    "# About\n",
    "\n",
    "This notebook adds canopy height features to the points sampled in the notebook `2_sample_pts_from_polygos.ipynb`. The notebook assumes the csv files with the sampled points  are located in the 'temp' folder. The canopy height rasters for Santa Barbara County were obtained from the California Forest Observatory (CFO) using the `1_download_CFO_canopy_height_raster.ipynb` notebook and are located in the 'SantabarbaraCounty_lidar' folder. \n",
    "\n",
    "Must be 2016, 2018, or 2020. Ideally, `aoi_year = lidar_year`, but due to data availability it is recommended to make `lidar_year=2016` when `aoi_year` equals 2014 or 2012. \n",
    "\n",
    "In the process of adding the canopy height features, this notebook creates four additional temporary rasters in a given year from the CFO canopy height layer *H*. These layers are avg_lidar, max_lidar, min_lidar, and min_max_diff. For a given year, the avg_lidar layer is created by replacing the value of a pixel *p* in *H* by the average of the values of *H* in a 3x3 window centered at *p* (effectively a convolution of the raster *H* with a 3x3 matrix with constant weights 1/9). The max_lidar is created by replacing the value of a pixel *p* in *H* with the maximum value of *H* in a 3x3 window centered at *p*. The min_lidar layer is created similarly, now taking the minimum value over the window. Finally, the min_max_diff layer is the difference between the max_lidar and the min_lidar layers. All the functions to create these raster layers and sample information from them are in `lidar_sampling_functions`. \n",
    "\n",
    "\n",
    "\n",
    "**NOTEBOOK VARIABLES:**\n",
    "\n",
    "- `years` (int array): years of the points which will have lidar features added. Must be a subset of [2012, 2014, 2016, 2018, 2020]\n",
    "\n",
    "- `aois` (array): the areas of interest of the points which will have lidar features added. Must be a subset of `['campus_lagoon','carpinteria','gaviota', 'point_conception']`.\n",
    "\n",
    "- `delete_pts` (bool): whether to delete the input files with the original points or not.\n",
    "\n",
    "To add canopy height features to all points from all aois and all years, you need to set `years = [2012, 2014, 2016, 2018, 2020]` and `aois = ['campus_lagoon','carpinteria','gaviota','point_conception']`.\n",
    "\n",
    "Notes: there are no points sampled from point_conception on 2016. The notebook automatically excludes this option. \n",
    "\n",
    "\n",
    "**OUTPUT:**\n",
    "For each csv of points from the specified years and aois, the notebook creates a dataframe with the original features from the intial points dataset (see notebook `2_sample_pts_from_polygons`) augmented with the columns: canopy height, avg_lidar, max_lidar, min_lidar, and min_max_diff. For years 2016, 2018 and 2020, the values for these columns are obtained by using the points to sample the canopy height rasters.\n",
    "Due to data availability, for the years 2012 and 2014 the new canopy height columns are all populated with -1. \n",
    "Each dataframe is saved as a csv file in the 'temp' folder (one csv per aoi and year combination)."
   ]
  },
  {
   "cell_type": "code",
   "execution_count": 1,
   "id": "49807a07-64cf-4a78-b3df-143806fa04d4",
   "metadata": {},
   "outputs": [],
   "source": [
    "import os\n",
    "import pandas as pd\n",
    "import geopandas as gpd\n",
    "import rioxarray as riox\n",
    "\n",
    "import rasterio\n",
    "\n",
    "import pystac_client\n",
    "import planetary_computer as pc\n",
    "\n",
    "import lidar_sampling_functions as lsf"
   ]
  },
  {
   "cell_type": "markdown",
   "id": "4e8e0e4b-b5af-4b05-8a8a-bc97104c8dc8",
   "metadata": {},
   "source": [
    "# Specify notebook variables"
   ]
  },
  {
   "cell_type": "code",
   "execution_count": 18,
   "id": "e264bfd2-cd3b-4352-be8d-22ef66e0285c",
   "metadata": {},
   "outputs": [],
   "source": [
    "# ***************************************************\n",
    "# ************* NOTEBOOK VARIABLES ******************\n",
    "\n",
    "years = [2012, 2014, 2016, 2018, 2020]\n",
    "\n",
    "aois = ['campus_lagoon','carpinteria','gaviota','point_conception']\n",
    "\n",
    "delete_pts = False\n",
    "    \n",
    "# ***************************************************\n",
    "# ***************************************************"
   ]
  },
  {
   "cell_type": "code",

   "execution_count": 5,
   "id": "869ae389-29ae-43aa-acfb-31a1af3dc592",
   "metadata": {},
   "outputs": [],
   "source": [
    "no_lidar_years = list(set(years) & set([2012,2014]) )\n",
    "\n",
    "for year in no_lidar_years:\n",
    "    for aoi in aois:\n",
    "        pts_fp = os.path.join(os.getcwd(),\n",
    "                              'temp',\n",
    "                              aoi+'_points_'+str(year)+'.csv')\n",
    "        pts = pd.read_csv(pts_fp)\n",
    "        # match columns with ones that will result from lidar sampling    \n",
    "        pts = pts.drop(['y', 'x', 'Unnamed: 0'], axis=1)   \n",
    "        \n",
    "        # add null value for all canopy height features\n",
    "        pts['lidar'] = -1\n",
    "        pts['max_lidar']= -1\n",
    "        pts['min_lidar'] = -1\n",
    "        pts['min_max_diff'] = -1\n",
    "        pts['avg_lidar'] = -1\n",
    "        \n",
    "        ## Save points with added null LIDAR data\n",
    "        ptslidar_fp = os.path.join(os.getcwd(), \n",
    "                                   'temp', \n",
    "                                   aoi +'_pts_spectral_lidar_'+str(year)+'.csv')\n",
    "        pts.to_csv(ptslidar_fp, index=False)\n",
    "\n",
    "        ## Delete original csv files (points without LIDAR)\n",
    "        if delete_pts == True:\n",
    "            os.remove(pts_fp)\n",
    "    "
   ]
  },
  {
   "cell_type": "markdown",
   "id": "9cdf0795-010d-4ce3-a806-50efd303fdd5",
   "metadata": {},
   "source": [
    "# Add canopy height data from year `lidar_year` to points from all aois in year `year`"
   ]
  },
  {
   "cell_type": "code",
   "execution_count": 9,
   "id": "e190a0b3-010c-435b-ac7c-7cb31a70e443",
   "metadata": {},
   "outputs": [
    {
     "name": "stderr",
     "output_type": "stream",
     "text": [
      "/srv/conda/envs/notebook/lib/python3.8/site-packages/pandas/core/dtypes/cast.py:122: ShapelyDeprecationWarning: The array interface is deprecated and will no longer work in Shapely 2.0. Convert the '.coords' to a numpy array instead.\n",
      "  arr = construct_1d_object_array_from_listlike(values)\n"
     ]
    }
   ],
   "source": [
    "lidar_years = list(set(years) & set([2016,2018,2020]))\n",
    "\n",
    "for year in lidar_years:\n",
    "    # ------------------------------\n",
    "    # Open canopy height raster and create auxiliary min, max, and avg rasters\n",
    "    lidar_rast_r = rasterio.open(lsf.path_to_lidar(year))\n",
    "\n",
    "    lsf.save_min_max_rasters(rast_reader = lidar_rast_r, \n",
    "                                  folder_path = os.path.join(os.getcwd(),'temp'),\n",
    "                                  year = year)\n",
    "\n",
    "    lsf.save_avg_rasters(rast_reader = lidar_rast_r, \n",
    "                                  folder_path = os.path.join(os.getcwd(),'temp'),\n",
    "                                  year = year)\n",
    "    \n",
    "    # file paths to auxiliary LIDAR rasters\n",
    "    # TO DO: maybe the file paths should be returns from the previous functions\n",
    "    lidar_fps = []\n",
    "    for tag in ['maxs_', 'mins_', 'avgs_']:\n",
    "        lidar_fps.append(os.path.join(os.getcwd(),\n",
    "                                     'temp',\n",
    "                                     'lidar_'+tag+ str(year)+'.tif'))\n",
    "    \n",
    "    # ------------------------------\n",
    "    # Add lidar data for each aoi\n",
    "    for aoi in aois:\n",
    "        if ('point_conception' != aoi) or (year != 2016):  #there's no data for Point Conception on 2016\n",
    "            pts_fp = os.path.join(os.getcwd(),\n",
    "                                  'temp',\n",
    "                                  aoi+'_points_'+str(year)+'.csv')\n",
    "\n",
    "            ## Obtain CRS from itemid and create pts for sampling\n",
    "            itemid = pd.read_csv(pts_fp).naip_id[0]\n",
    "            pts = lsf.geodataframe_from_csv(pts_fp, lsf.crs_from_itemid(itemid))\n",
    "            pts_xy = lsf.pts_for_lidar_sampling(pts, lidar_rast_r.crs)\n",
    "\n",
    "            ## Sample canopy_height at point, and max, min and avg canopy height around point\n",
    "            lidar_samples = lsf.sample_raster(pts_xy, lidar_rast_r)\n",
    "\n",
    "            maxs_rast_r = rasterio.open(lidar_fps[0])\n",
    "            max_samples = lsf.sample_raster(pts_xy, maxs_rast_r)\n",
    "\n",
    "            mins_rast_r = rasterio.open(lidar_fps[1])\n",
    "            min_samples = lsf.sample_raster(pts_xy, mins_rast_r)\n",
    "\n",
    "            avg_rast_r = rasterio.open(lidar_fps[2])\n",
    "            avg_samples = lsf.sample_raster(pts_xy, avg_rast_r)\n",
    "\n",
    "            ## Add all LIDAR data to pts dataframe\n",
    "            pts['lidar'] = lidar_samples\n",
    "            pts['max_lidar']= max_samples\n",
    "            pts['min_lidar'] = min_samples\n",
    "            pts['min_max_diff'] = pts.max_lidar - pts.min_lidar  # include difference\n",
    "            pts['avg_lidar'] = avg_samples\n",
    "\n",
    "            ## Save points with added LIDAR data\n",
    "            ptslidar_fp = os.path.join(os.getcwd(), \n",
    "                                       'temp', \n",
    "                                       aoi +'_pts_spectral_lidar_'+str(year)+'.csv')\n",
    "            pts.to_csv(ptslidar_fp, index=False)\n",
    "\n",
    "            ## Delete original csv files (points without LIDAR)\n",
    "            if delete_pts == True:\n",
    "                os.remove(pts_fp)\n",
    "\n",
    "    # ------------------------------\n",
    "    # Delete auxiliary LIDAR rasters created for this year\n",
    "    for fp in lidar_fps:\n",
    "        os.remove(fp)"
   ]
  },
  {
   "cell_type": "code",
   "execution_count": null,
   "id": "5ef79a2a-caf2-49f0-8495-454decffd4ad",
   "metadata": {},
   "outputs": [],
   "source": []
  },
  {
   "cell_type": "code",
   "execution_count": null,
   "id": "b44607cb-f667-4fba-8b42-964fd666ce68",
   "metadata": {},
   "outputs": [],
   "source": []
  },
  {
   "cell_type": "code",
   "execution_count": null,
   "id": "892c276b-f031-4ce5-b207-d46a90119917",
   "metadata": {},
   "outputs": [],
   "source": []
  }
 ],
 "metadata": {
  "kernelspec": {
   "display_name": "Python 3 (ipykernel)",
   "language": "python",
   "name": "python3"
  },
  "language_info": {
   "codemirror_mode": {
    "name": "ipython",
    "version": 3
   },
   "file_extension": ".py",
   "mimetype": "text/x-python",
   "name": "python",
   "nbconvert_exporter": "python",
   "pygments_lexer": "ipython3",
   "version": "3.8.13"
  }
 },
 "nbformat": 4,
 "nbformat_minor": 5
}
