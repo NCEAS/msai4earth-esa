{
 "cells": [
  {
   "cell_type": "markdown",
   "id": "a0d989c4-75a7-49c4-a27b-30873e63cfbf",
   "metadata": {},
   "source": [
    "# About\n",
    "\n",
    "This notebook downloads canopy height data (10m resolution) over Santa Barabara County from the [California Forest Observatory (CFO) API](https://github.com/forestobservatory/cfo-api). To do this we follow the 'Custom Data Clipping' section in [this CFO API tutorial](https://github.com/forestobservatory/cfo-api/blob/master/demos/api-introduction.ipynb). A CFO account is needed to run the notebook. \n",
    "\n",
    "[Source](https://databasin.org/datasets/1cdc07adea7d4dee9cc1f07ab44cfef3/) of the Santa Barbara County shapefile. This was previously converted to a geojson file using geopandas.\n",
    "\n",
    "**NOTEBOOK VARIABLES**: \n",
    "- `years` (list of int): years for which we will access the CFO California canopy height rasters. Must be a subset of [2016, 2018, 2020] since CFO's canopy height data is not available for years before 2016. \n",
    "\n",
    "**OUTPUT**:\n",
    "-  canopy height rasters for Santa Barbara County\n",
    "\n",
    "\n",
    "\n",
    "\n"
   ]
  },
  {
   "cell_type": "markdown",
   "id": "55d5e5fd-da07-4c61-b6c7-9bff43270a9f",
   "metadata": {},
   "source": [
    "# Install California Forest Observatory API package if not available"
   ]
  },
  {
   "cell_type": "code",
   "execution_count": 1,
   "id": "d000db60-a04b-4f00-9ec5-11a147e880a3",
   "metadata": {},
   "outputs": [
    {
     "name": "stdout",
     "output_type": "stream",
     "text": [
      "Collecting cfo\n",
      "  Using cached cfo-1.0.1-py3-none-any.whl (28 kB)\n",
      "Requirement already satisfied: requests in /srv/conda/envs/notebook/lib/python3.8/site-packages (from cfo) (2.27.1)\n",
      "Collecting retrying\n",
      "  Using cached retrying-1.3.3-py3-none-any.whl\n",
      "Requirement already satisfied: certifi>=2017.4.17 in /srv/conda/envs/notebook/lib/python3.8/site-packages (from requests->cfo) (2021.10.8)\n",
      "Requirement already satisfied: idna<4,>=2.5 in /srv/conda/envs/notebook/lib/python3.8/site-packages (from requests->cfo) (3.3)\n",
      "Requirement already satisfied: charset-normalizer~=2.0.0 in /srv/conda/envs/notebook/lib/python3.8/site-packages (from requests->cfo) (2.0.12)\n",
      "Requirement already satisfied: urllib3<1.27,>=1.21.1 in /srv/conda/envs/notebook/lib/python3.8/site-packages (from requests->cfo) (1.26.9)\n",
      "Requirement already satisfied: six>=1.7.0 in /srv/conda/envs/notebook/lib/python3.8/site-packages (from retrying->cfo) (1.16.0)\n",
      "Installing collected packages: retrying, cfo\n",
      "Successfully installed cfo-1.0.1 retrying-1.3.3\n",
      "Note: you may need to restart the kernel to use updated packages.\n"
     ]
    }
   ],
   "source": [
    "#pip install cfo"
   ]
  },
  {
   "cell_type": "code",
   "execution_count": 1,
   "id": "38b34689-7311-490a-80a6-aaf7c845e6c9",
   "metadata": {},
   "outputs": [],
   "source": [
    "import os\n",
    "\n",
    "import cfo\n",
    "from osgeo import gdal"
   ]
  },
  {
   "cell_type": "markdown",
   "id": "bd914fb1-791d-4942-b270-0b297065ca82",
   "metadata": {},
   "source": [
    "# Specify years for canopy height data"
   ]
  },
  {
   "cell_type": "code",
   "execution_count": 2,
   "id": "090a7e21-c4cc-4a3a-bb34-35afcbe8549e",
   "metadata": {},
   "outputs": [],
   "source": [
    "# ***************************************************\n",
    "# ************* NOTEBOOK VARIABLES ******************\n",
    "\n",
    "# years should be a subset of [2016, 2018, 2020]\n",
    "years = [2016, 2018, 2020]\n",
    "\n",
    "# ***************************************************\n",
    "# ***************************************************"
   ]
  },
  {
   "cell_type": "markdown",
   "id": "36afe34a-048a-4250-9dfa-36a13b83de9c",
   "metadata": {},
   "source": [
    "# Authenticate "
   ]
  },
  {
   "cell_type": "code",
   "execution_count": 4,
   "id": "993f0c15-06b1-4c71-9db9-3923f94d16b6",
   "metadata": {},
   "outputs": [
    {
     "name": "stdin",
     "output_type": "stream",
     "text": [
      "CFO E-mail:  galaz-garcia@nceas.ucsb.edu\n",
      "CFO Password:  ···········\n"
     ]
    },
    {
     "data": {
      "text/plain": [
       "200"
      ]
     },
     "execution_count": 4,
     "metadata": {},
     "output_type": "execute_result"
    }
   ],
   "source": [
    "forest_api = cfo.api()\n",
    "forest_api.authenticate()  #galaz-garcia@nceas.ucsb.edugalaz-garcia@nceas.ucsb.edu"
   ]
  },
  {
   "cell_type": "markdown",
   "id": "7638b7a3-3a07-4a3a-8e57-01e8057ad88f",
   "metadata": {},
   "source": [
    "# Download canopy height"
   ]
  },
  {
   "cell_type": "code",
   "execution_count": 5,
   "id": "946c62d4-99b2-4d1c-9edf-6845efee1901",
   "metadata": {},
   "outputs": [],
   "source": [
    "# load SB shape\n",
    "vector = os.path.join(os.getcwd(),'SantaBarbaraCounty_geojson','SantaBarbaraCounty.geojson')\n",
    "\n",
    "for year in years:\n",
    "    # get the 10m canopy height asset id for the given year\n",
    "    search = forest_api.search(geography='California', metric='CanopyHeight', year=year, resolution=10)\n",
    "    itemid = search[0]\n",
    "\n",
    "    # and get the gdal file path reference\n",
    "    input_file = forest_api.fetch(itemid, gdal=True)\n",
    "\n",
    "    # set the output raster file\n",
    "    fp = os.path.join(os.getcwd(),'SantaBarbaraCounty_CanopyHeight')\n",
    "    if os.path.exists(fp) == False:\n",
    "        os.mkdir(fp)\n",
    "    output_file = os.path.join(fp, 'SantaBarbaraCounty_CanopyHeight_'+str(year)+'.tif')\n",
    "\n",
    "    # set the gdalwarp options\n",
    "    options = gdal.WarpOptions(\n",
    "        creationOptions = [\"COMPRESS=DEFLATE\", \"TILED=YES\", \"BIGTIFF=YES\", \"NUM_THREADS=ALL_CPUS\"],\n",
    "        cutlineDSName = vector,\n",
    "        cropToCutline = True\n",
    "    )\n",
    "\n",
    "    # and run the command\n",
    "    warp = gdal.Warp(output_file, input_file, options=options)\n",
    "    warp.FlushCache()"
   ]
  },
  {
   "cell_type": "code",
   "execution_count": null,
   "id": "4c5da9c5-87f2-4cac-9bb2-bed70d08f5e1",
   "metadata": {},
   "outputs": [],
   "source": []
  }
 ],
 "metadata": {
  "kernelspec": {
   "display_name": "Python 3 (ipykernel)",
   "language": "python",
   "name": "python3"
  },
  "language_info": {
   "codemirror_mode": {
    "name": "ipython",
    "version": 3
   },
   "file_extension": ".py",
   "mimetype": "text/x-python",
   "name": "python",
   "nbconvert_exporter": "python",
   "pygments_lexer": "ipython3",
   "version": "3.10.6"
  }
 },
 "nbformat": 4,
 "nbformat_minor": 5
}
