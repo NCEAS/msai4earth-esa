{
 "cells": [
  {
   "cell_type": "markdown",
   "id": "a0d989c4-75a7-49c4-a27b-30873e63cfbf",
   "metadata": {},
   "source": [
    "# About\n",
    "\n",
    "This notebook uses canopy height data for the state of California obtained through the California Forest Observatory (CFO) API to create a canopy height raster layer for Santa Barbara County. See more about CFO's API here:\n",
    "https://github.com/forestobservatory/cfo-api\n",
    "\n",
    "**NOTEBOOK VARIABLES**: \n",
    "- `year` (int): year from which we will access the CFO California canopy height raster. Must be 2016, 2018, or 2020 since CFO's canopy height data is only available for those years.\n",
    "- file path to which the Santa Barbara County subset of the canopy height data will be saved. \n",
    "\n",
    "**OUTPUT**:\n",
    "-  canopy height raster layer for Santa Barbara County in the year *y*\n",
    "\n",
    "\n",
    "\n",
    "A CFO account is needed to run the notebook. \n",
    "\n",
    "An alternative way of doing this could be to follow the 'Custom Data Clipping' section in this tutorial. \n",
    "https://github.com/forestobservatory/cfo-api/blob/master/demos/api-introduction.ipynb\n",
    "To import `gdal` to the notebook, add `from osgeo import gdal`. "
   ]
  },
  {
   "cell_type": "markdown",
   "id": "55d5e5fd-da07-4c61-b6c7-9bff43270a9f",
   "metadata": {},
   "source": [
    "# Install California Forest Observatory API package if not available"
   ]
  },
  {
   "cell_type": "code",
   "execution_count": 4,
   "id": "d000db60-a04b-4f00-9ec5-11a147e880a3",
   "metadata": {},
   "outputs": [
    {
     "name": "stdout",
     "output_type": "stream",
     "text": [
      "Collecting cfo\n",
      "  Using cached cfo-1.0.1-py3-none-any.whl (28 kB)\n",
      "Requirement already satisfied: requests in /srv/conda/envs/notebook/lib/python3.8/site-packages (from cfo) (2.27.1)\n",
      "Collecting retrying\n",
      "  Using cached retrying-1.3.3-py3-none-any.whl\n",
      "Requirement already satisfied: certifi>=2017.4.17 in /srv/conda/envs/notebook/lib/python3.8/site-packages (from requests->cfo) (2021.10.8)\n",
      "Requirement already satisfied: idna<4,>=2.5 in /srv/conda/envs/notebook/lib/python3.8/site-packages (from requests->cfo) (3.3)\n",
      "Requirement already satisfied: charset-normalizer~=2.0.0 in /srv/conda/envs/notebook/lib/python3.8/site-packages (from requests->cfo) (2.0.12)\n",
      "Requirement already satisfied: urllib3<1.27,>=1.21.1 in /srv/conda/envs/notebook/lib/python3.8/site-packages (from requests->cfo) (1.26.9)\n",
      "Requirement already satisfied: six>=1.7.0 in /srv/conda/envs/notebook/lib/python3.8/site-packages (from retrying->cfo) (1.16.0)\n",
      "Installing collected packages: retrying, cfo\n",
      "Successfully installed cfo-1.0.1 retrying-1.3.3\n",
      "Note: you may need to restart the kernel to use updated packages.\n"
     ]
    }
   ],
   "source": [
    "#pip install cfo"
   ]
  },
  {
   "cell_type": "code",
   "execution_count": 17,
   "id": "38b34689-7311-490a-80a6-aaf7c845e6c9",
   "metadata": {},
   "outputs": [],
   "source": [
    "import os\n",
    "import pandas as pd\n",
    "import geopandas as gpd\n",
    "import rioxarray as riox\n",
    "from shapely.geometry import box\n",
    "\n",
    "import json\n",
    "import rasterio\n",
    "from rasterio.mask import mask\n",
    "\n",
    "import matplotlib.pyplot as plt\n",
    "\n",
    "import cfo\n",
    "from osgeo import gdal"
   ]
  },
  {
   "cell_type": "markdown",
   "id": "bd914fb1-791d-4942-b270-0b297065ca82",
   "metadata": {},
   "source": [
    "# Specify year and file path for canopy height data"
   ]
  },
  {
   "cell_type": "code",
   "execution_count": 2,
   "id": "090a7e21-c4cc-4a3a-bb34-35afcbe8549e",
   "metadata": {},
   "outputs": [],
   "source": [
    "# ***************************************************\n",
    "# ************* NOTEBOOK VARIABLES ******************\n",
    "\n",
    "# year shuold be 2016, 2018 or 2020\n",
    "year = 2020\n",
    "\n",
    "\n",
    "# ***************************************************\n",
    "# ***************************************************"
   ]
  },
  {
   "cell_type": "markdown",
   "id": "36afe34a-048a-4250-9dfa-36a13b83de9c",
   "metadata": {},
   "source": [
    "# Authenticate "
   ]
  },
  {
   "cell_type": "code",
   "execution_count": 3,
   "id": "993f0c15-06b1-4c71-9db9-3923f94d16b6",
   "metadata": {},
   "outputs": [
    {
     "name": "stdin",
     "output_type": "stream",
     "text": [
      "CFO E-mail:  galaz-garcia@nceas.ucsb.edu\n",
      "CFO Password:  ···········\n"
     ]
    },
    {
     "data": {
      "text/plain": [
       "200"
      ]
     },
     "execution_count": 3,
     "metadata": {},
     "output_type": "execute_result"
    }
   ],
   "source": [
    "forest_api = cfo.api()\n",
    "forest_api.authenticategalaz-garcia@nceas.ucsb.edu()"
   ]
  },
  {
   "cell_type": "markdown",
   "id": "aeff361b-64dd-4784-988c-0e030b9634d4",
   "metadata": {},
   "source": [
    "# Download and open CA canopy height raster"
   ]
  },
  {
   "cell_type": "code",
   "execution_count": 12,
   "id": "83695659-b369-4110-8d05-8d027f5eba44",
   "metadata": {},
   "outputs": [
    {
     "data": {
      "text/plain": [
       "['California-Vegetation-CanopyHeight-2020-Summer-00010m',\n",
       " 'California-Vegetation-CanopyHeight-2020-Fall-00003m']"
      ]
     },
     "execution_count": 12,
     "metadata": {},
     "output_type": "execute_result"
    }
   ],
   "source": [
    "# find item id\n",
    "ca_canopy_itemid = forest_api.search(geography='California', metric='CanopyHeight', year=year)[0]\n",
    "print(ca_canopy_itemid)\n",
    "forest_api.search(geography='California', metric='CanopyHeight', year=2020)"
   ]
  },
  {
   "cell_type": "code",
   "execution_count": 6,
   "id": "ac1e9ae8-5cd8-45cc-b6e7-c51442e398ed",
   "metadata": {},
   "outputs": [],
   "source": [
    "# filepath to temporary folder\n",
    "ca_canopy_fp = os.path.join(os.getcwd(), \n",
    "                            'temp',\n",
    "                            'ca_canopyheight_'+str(year)+'.tif')"
   ]
  },
  {
   "cell_type": "code",
   "execution_count": 7,
   "id": "056bfb76-4d12-4d36-ae29-70e0bf8055e1",
   "metadata": {},
   "outputs": [],
   "source": [
    "# download (takes a couple of minutes)\n",
    "forest_api.download(ca_canopy_itemid, ca_canopy_fp)\n",
    "\n",
    "# open raster reader\n",
    "ca_canopy = rasterio.open(ca_canopy_fp)"
   ]
  },
  {
   "cell_type": "markdown",
   "id": "ec3413f0-723a-4894-a753-9f5c0d2bdabf",
   "metadata": {},
   "source": [
    "# Get bounding box for Santa Barbara County mainland"
   ]
  },
  {
   "cell_type": "code",
   "execution_count": 8,
   "id": "8949d187-f532-48da-b813-73250b8f523e",
   "metadata": {},
   "outputs": [],
   "source": [
    "# https://automating-gis-processes.github.io/CSC18/lessons/L6/clipping-raster.html\n",
    "def getFeatures(gdf):\n",
    "    \"\"\"Function to parse features from GeoDataFrame in such a manner that rasterio wants them\"\"\"\n",
    "    return [json.loads(gdf.to_json())['features'][0]['geometry']]\n"
   ]
  },
  {
   "cell_type": "code",
   "execution_count": 9,
   "id": "f4a3ac1c-f481-4811-bdf2-a0ae2bc9d10a",
   "metadata": {},
   "outputs": [],
   "source": [
    "# path to SB county shapefile\n",
    "sb_fp = '/home/jovyan/msai4earth-esa/shapefiles_n_rasters/SB_geometry/SB_only.shp'\n",
    "\n",
    "# read as GeoDataFrame\n",
    "sb = gpd.read_file(sb_fp)\n",
    "\n",
    "# match CRS with ca_canopy raster\n",
    "sb = sb.to_crs(ca_canopy.crs)\n",
    "\n",
    "# we will only use the mainland for the analysis\n",
    "sb_mainland_bounds = sb.bounds.iloc[0]\n",
    "\n",
    "bbox = box(sb_mainland_bounds.minx,\n",
    "           sb_mainland_bounds.miny,\n",
    "           sb_mainland_bounds.maxx,\n",
    "           sb_mainland_bounds.maxy)\n",
    "\n",
    "bbox_df = gpd.GeoDataFrame({'geometry':bbox}, index=[0], crs = sb.crs)\n",
    "coords = getFeatures(bbox_df)"
   ]
  },
  {
   "cell_type": "markdown",
   "id": "18530b95-9296-42c6-9d60-cf181368bd2d",
   "metadata": {},
   "source": [
    "# Mask CA canopy height raster with Santa Barbara county's bounding box"
   ]
  },
  {
   "cell_type": "code",
   "execution_count": 10,
   "id": "95f08e8b-af2b-4abd-a70f-0e97d82ae9c9",
   "metadata": {},
   "outputs": [],
   "source": [
    "out_img, out_transform = mask(dataset=ca_canopy, shapes=coords, crop=True)\n",
    "out_img = out_img.squeeze()"
   ]
  },
  {
   "cell_type": "markdown",
   "id": "2276ae68-ffff-4b5f-af46-710eb1eda6f5",
   "metadata": {},
   "source": [
    "# Save Santa Barbara County canopy height raster"
   ]
  },
  {
   "cell_type": "code",
   "execution_count": 11,
   "id": "2a2dff72-143a-4cb2-ac1a-2c07b04253ff",
   "metadata": {},
   "outputs": [],
   "source": [
    "# Create directory if needed\n",
    "sb_lidar = os.path.join(os.getcwd(), \n",
    "                  'SantaBarbaraCounty_lidar')\n",
    "if not os.path.exists(sb_lidar):\n",
    "    os.makedirs(sb_lidar)\n",
    "    \n",
    "# file path where raster will be saved\n",
    "fp = os.path.join(os.getcwd(),\n",
    "                  'SantaBarbaraCounty_lidar',\n",
    "                  'SantaBarbaraCounty_lidar_'+str(year)+'.tif')\n",
    "# save raster\n",
    "with rasterio.open(\n",
    "        fp,  # file path\n",
    "        'w',           # w = write\n",
    "        driver='GTiff', # format\n",
    "        height = out_img.shape[0], \n",
    "        width = out_img.shape[1],\n",
    "        count = 1,  # number of raster bands in the dataset\n",
    "        dtype = 'int16',\n",
    "        crs = sb.crs,\n",
    "        transform = out_transform,\n",
    ") as dst:\n",
    "    dst.write(out_img, 1)"
   ]
  },
  {
   "cell_type": "markdown",
   "id": "77bec1fd-9ea1-40fa-9766-9b70d54704dc",
   "metadata": {},
   "source": [
    "# Delete CA canopy height raster"
   ]
  },
  {
   "cell_type": "code",
   "execution_count": 12,
   "id": "5d7c563b-738d-43f5-8935-cb767735f0ab",
   "metadata": {},
   "outputs": [],
   "source": [
    "os.remove(ca_canopy_fp)"
   ]
  },
  {
   "cell_type": "markdown",
   "id": "7f7631e6-0178-4965-b647-597b09a600bf",
   "metadata": {},
   "source": [
    "# Open SB canopy height raster to check shape"
   ]
  },
  {
   "cell_type": "code",
   "execution_count": null,
   "id": "5113bc17-24a5-483e-b29c-9120ecab61a8",
   "metadata": {},
   "outputs": [],
   "source": [
    "clip = rasterio.open(fp).read([1]).squeeze()\n",
    "\n",
    "fig, ax = plt.subplots(figsize=(15, 15))\n",
    "ax.imshow(clip)\n",
    "plt.show()"
   ]
  },
  {
   "cell_type": "markdown",
   "id": "7638b7a3-3a07-4a3a-8e57-01e8057ad88f",
   "metadata": {},
   "source": [
    "# Clipping through gdal"
   ]
  },
  {
   "cell_type": "code",
   "execution_count": 5,
   "id": "f293614d-500b-4509-81d0-7996ea930cdb",
   "metadata": {},
   "outputs": [
    {
     "name": "stderr",
     "output_type": "stream",
     "text": [
      "/srv/conda/envs/notebook/lib/python3.8/site-packages/geopandas/io/file.py:362: FutureWarning: pandas.Int64Index is deprecated and will be removed from pandas in a future version. Use pandas.Index with the appropriate dtype instead.\n",
      "  pd.Int64Index,\n"
     ]
    }
   ],
   "source": [
    "sb_fp = '/home/jovyan/msai4earth-esa/shapefiles_n_rasters/SB_geometry/SB_only.shp'\n",
    "shp_file = gpd.read_file(sb_fp)\n",
    "shp_file.to_file(os.path.join(os.getcwd(),'temp','SB_only.geojson'), driver='GeoJSON')"
   ]
  },
  {
   "cell_type": "code",
   "execution_count": 13,
   "id": "a6e207e8-ccdf-4094-95d7-b42f1d91d1bb",
   "metadata": {},
   "outputs": [
    {
     "name": "stdout",
     "output_type": "stream",
     "text": [
      "We'll download from: /vsigs/cfo-public/vegetation/California-Vegetation-CanopyHeight-2020-Summer-00010m.tif\n"
     ]
    }
   ],
   "source": [
    "vector = os.path.join(os.getcwd(),'temp','SB_only.geojson')\n",
    "\n",
    "# get the 2020 10m canopy height asset id\n",
    "czu_search = forest_api.search(geography='California', metric='CanopyHeight', year=year, resolution=10)\n",
    "czu = czu_search[0]\n",
    "\n",
    "# and get the gdal file path reference\n",
    "input_file = forest_api.fetch(czu, gdal=True)\n",
    "print(f\"We'll download from: {input_file}\")"
   ]
  },
  {
   "cell_type": "code",
   "execution_count": 18,
   "id": "71243ad5-e57f-4c77-a465-3416d3915944",
   "metadata": {},
   "outputs": [],
   "source": [
    "# set the output raster file\n",
    "output_file = os.path.join(os.getcwd(),'SantaBarbaraCounty_lidar', \"SB-perimeter-CanopyHeight-2020.tif\")\n",
    "\n",
    "# set the gdalwarp options\n",
    "options = gdal.WarpOptions(\n",
    "    creationOptions = [\"COMPRESS=DEFLATE\", \"TILED=YES\", \"BIGTIFF=YES\", \"NUM_THREADS=ALL_CPUS\"],\n",
    "    cutlineDSName = vector,\n",
    "    cropToCutline = True\n",
    ")\n",
    "\n",
    "# and run the command\n",
    "warp = gdal.Warp(output_file, input_file, options=options)\n",
    "warp.FlushCache()"
   ]
  },
  {
   "cell_type": "code",
   "execution_count": null,
   "id": "9814c001-36fe-4608-96da-8a0a7d3a644d",
   "metadata": {},
   "outputs": [],
   "source": []
  },
  {
   "cell_type": "code",
   "execution_count": null,
   "id": "4c5da9c5-87f2-4cac-9bb2-bed70d08f5e1",
   "metadata": {},
   "outputs": [],
   "source": []
  }
 ],
 "metadata": {
  "kernelspec": {
   "display_name": "Python 3 (ipykernel)",
   "language": "python",
   "name": "python3"
  },
  "language_info": {
   "codemirror_mode": {
    "name": "ipython",
    "version": 3
   },
   "file_extension": ".py",
   "mimetype": "text/x-python",
   "name": "python",
   "nbconvert_exporter": "python",
   "pygments_lexer": "ipython3",
   "version": "3.8.13"
  }
 },
 "nbformat": 4,
 "nbformat_minor": 5
}
