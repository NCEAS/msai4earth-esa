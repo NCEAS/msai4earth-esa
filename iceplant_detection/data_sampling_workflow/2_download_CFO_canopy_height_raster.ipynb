{
 "cells": [
  {
   "cell_type": "markdown",
   "id": "a0d989c4-75a7-49c4-a27b-30873e63cfbf",
   "metadata": {},
   "source": [
    "# About\n",
    "\n",
    "This notebook downloads canopy height (10m resolution) data over Santa Barabara County  from the [California Forest Observatory (CFO) API](https://github.com/forestobservatory/cfo-api). To do this we follow the 'Custom Data Clipping' section in [this CFO API tutorial](https://github.com/forestobservatory/cfo-api/blob/master/demos/api-introduction.ipynb). A CFO account is needed to run the notebook. \n",
    "\n",
    "[Source](https://databasin.org/datasets/1cdc07adea7d4dee9cc1f07ab44cfef3/) of the Santa Barbara County shapefile. This was converted to a geojson file using geopandas.\n",
    "\n",
    "**NOTEBOOK VARIABLES**: \n",
    "- `year` (list of int): years from which we will access the CFO California canopy height raster. Must be a subset of [2016, 2018, 2020] since CFO's canopy height data is not available for years before 2016. \n",
    "\n",
    "**OUTPUT**:\n",
    "-  canopy height rasters for Santa Barbara County.\n",
    "\n",
    "\n",
    "\n",
    "\n"
   ]
  },
  {
   "cell_type": "markdown",
   "id": "55d5e5fd-da07-4c61-b6c7-9bff43270a9f",
   "metadata": {},
   "source": [
    "# Install California Forest Observatory API package if not available"
   ]
  },
  {
   "cell_type": "code",
   "execution_count": 1,
   "id": "d000db60-a04b-4f00-9ec5-11a147e880a3",
   "metadata": {},
   "outputs": [],
   "source": [
    "#pip install cfo"
   ]
  },
  {
   "cell_type": "code",
   "execution_count": 2,
   "id": "38b34689-7311-490a-80a6-aaf7c845e6c9",
   "metadata": {},
   "outputs": [],
   "source": [
    "import os\n",
    "\n",
    "import cfo\n",
    "from osgeo import gdal"
   ]
  },
  {
   "cell_type": "markdown",
   "id": "bd914fb1-791d-4942-b270-0b297065ca82",
   "metadata": {},
   "source": [
    "# Specify year and file path for canopy height data"
   ]
  },
  {
   "cell_type": "code",
   "execution_count": 3,
   "id": "090a7e21-c4cc-4a3a-bb34-35afcbe8549e",
   "metadata": {},
   "outputs": [],
   "source": [
    "# ***************************************************\n",
    "# ************* NOTEBOOK VARIABLES ******************\n",
    "\n",
    "# year should be a subset of [2016, 2018, 2020]\n",
    "years = [2016, 2018, 2020]\n",
    "\n",
    "# ***************************************************\n",
    "# ***************************************************"
   ]
  },
  {
   "cell_type": "markdown",
   "id": "36afe34a-048a-4250-9dfa-36a13b83de9c",
   "metadata": {},
   "source": [
    "# Authenticate "
   ]
  },
  {
   "cell_type": "code",
   "execution_count": 5,
   "id": "993f0c15-06b1-4c71-9db9-3923f94d16b6",
   "metadata": {},
   "outputs": [
    {
     "name": "stdin",
     "output_type": "stream",
     "text": [
      "CFO E-mail:  galaz-garcia@nceas.ucsb.edu\n",
      "CFO Password:  ···········\n"
     ]
    },
    {
     "data": {
      "text/plain": [
       "200"
      ]
     },
     "execution_count": 5,
     "metadata": {},
     "output_type": "execute_result"
    }
   ],
   "source": [
    "forest_api = cfo.api()\n",
    "forest_api.authenticate()galaz-garcia@nceas.ucsb.edu"
   ]
  },
  {
   "cell_type": "markdown",
   "id": "7638b7a3-3a07-4a3a-8e57-01e8057ad88f",
   "metadata": {},
   "source": [
    "# Download canopy height"
   ]
  },
  {
   "cell_type": "code",
   "execution_count": 7,
   "id": "946c62d4-99b2-4d1c-9edf-6845efee1901",
   "metadata": {},
   "outputs": [],
   "source": [
    "# load SB shape\n",
    "vector = os.path.join(os.getcwd(),'SantaBarbaraCounty_geojson','SantaBarbaraCounty.geojson')\n",
    "\n",
    "for year in years:\n",
    "    # get the 10m canopy height asset id for the given year\n",
    "    search = forest_api.search(geography='California', metric='CanopyHeight', year=year, resolution=10)\n",
    "    itemid = search[0]\n",
    "\n",
    "    # and get the gdal file path reference\n",
    "    input_file = forest_api.fetch(itemid, gdal=True)\n",
    "\n",
    "    # set the output raster file\n",
    "    output_file = os.path.join(os.getcwd(),'SantaBarbaraCounty_CanopyHeight', 'SantaBarbaraCounty_CanopyHeight_'+str(year)+'.tif')\n",
    "\n",
    "    # set the gdalwarp options\n",
    "    options = gdal.WarpOptions(\n",
    "        creationOptions = [\"COMPRESS=DEFLATE\", \"TILED=YES\", \"BIGTIFF=YES\", \"NUM_THREADS=ALL_CPUS\"],\n",
    "        cutlineDSName = vector,\n",
    "        cropToCutline = True\n",
    "    )\n",
    "\n",
    "    # and run the command\n",
    "    warp = gdal.Warp(output_file, input_file, options=options)\n",
    "    warp.FlushCache()"
   ]
  },
  {
   "cell_type": "code",
   "execution_count": null,
   "id": "4c5da9c5-87f2-4cac-9bb2-bed70d08f5e1",
   "metadata": {},
   "outputs": [],
   "source": []
  }
 ],
 "metadata": {
  "kernelspec": {
   "display_name": "Python 3 (ipykernel)",
   "language": "python",
   "name": "python3"
  },
  "language_info": {
   "codemirror_mode": {
    "name": "ipython",
    "version": 3
   },
   "file_extension": ".py",
   "mimetype": "text/x-python",
   "name": "python",
   "nbconvert_exporter": "python",
   "pygments_lexer": "ipython3",
   "version": "3.8.13"
  }
 },
 "nbformat": 4,
 "nbformat_minor": 5
}
