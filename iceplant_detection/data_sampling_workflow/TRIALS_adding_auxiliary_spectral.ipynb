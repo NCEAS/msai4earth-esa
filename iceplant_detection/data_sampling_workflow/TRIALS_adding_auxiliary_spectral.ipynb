{
 "cells": [
  {
   "cell_type": "code",
   "execution_count": 1,
   "id": "95b3d83c-815a-4e22-a92c-6d140b9fae3f",
   "metadata": {},
   "outputs": [],
   "source": [
    "import os\n",
    "import pandas as pd\n",
    "import numpy as np\n",
    "import time\n",
    "\n",
    "import rasterio\n",
    "import sample_rasters as sr\n",
    "import planetary_computer as pc\n",
    "import geopandas as gpd\n",
    "\n",
    "from scipy.ndimage import maximum_filter as maxf2D\n",
    "from scipy.ndimage import minimum_filter as minf2D\n",
    "from scipy.ndimage import convolve as conf2D\n",
    "\n",
    "from shapely.geometry import Point\n",
    "from rasterio.crs import CRS"
   ]
  },
  {
   "cell_type": "code",
   "execution_count": 2,
   "id": "d065aada-49ca-4779-a7dd-9a459bed75d8",
   "metadata": {
    "jupyter": {
     "source_hidden": true
    },
    "tags": []
   },
   "outputs": [],
   "source": [
    "# *********************************************************************\n",
    "\n",
    "def min_raster(rast_reader, band, rast_name, n, folder_path=''):  \n",
    "    \"\"\"\n",
    "        Creates a new raster by replacing each pixel p in given raster R by the minimum value in a nxn window centered at p.\n",
    "        The raster with minimum values is saved in a temp folder in the current working directory if no folder_path is given.\n",
    "            Parameters: \n",
    "                        rast_reader (rasterio.io.DatasetReader):\n",
    "                            reader to the raster from which to compute the minimum values in a window\n",
    "                        rast_name (str):\n",
    "                            name of raster. The resulting raster will be saved as rast_name_maxs.tif.\n",
    "                        n (int):\n",
    "                            Side length (in pixels) of the square window over which to compute minimum values for each pixel.\n",
    "                        folder_path (str):\n",
    "                            directory where to save raster. If none is given, then it saves the raster in a temp folder in the cwd.\n",
    "            Return: None    \n",
    "    \"\"\"\n",
    "    rast = rast_reader.read([band]).squeeze() # read raster values\n",
    "    mins = minf2D(rast, size=(n,n))    # calculate min in window\n",
    "    \n",
    "    if not folder_path:                         # if needed, create temp directory to save files \n",
    "        folder_path = make_directory('temp')\n",
    "    \n",
    "    dtype = rasterio.dtypes.get_minimum_dtype(mins)  # parameters for saving\n",
    "    \n",
    "    fp = os.path.join(folder_path, rast_name +'_mins.tif')      # save raster\n",
    "    sr.save_raster(mins, \n",
    "                fp, \n",
    "                rast.shape,\n",
    "                1,\n",
    "                rast_reader.crs, \n",
    "                rast_reader.transform, \n",
    "                dtype)  \n",
    "    return\n",
    "\n",
    "# ------------------------------------------------------------------------------\n",
    "\n",
    "def max_raster(rast_reader, band, rast_name, n, folder_path=''):  \n",
    "    \"\"\"\n",
    "        Creates a new raster by replacing each pixel p in given raster R by the max value in a nxn window centered at p.\n",
    "        The raster with maximum values is saved in a temp folder in the current working directory if no folder_path is given.\n",
    "            Parameters: \n",
    "                        rast_reader (rasterio.io.DatasetReader):\n",
    "                            reader to the raster from which to compute the maximum values in a window\n",
    "                        rast_name (str):\n",
    "                            name of raster. The resulting raster will be saved as rast_name_maxs.tif.\n",
    "                        n (int):\n",
    "                            Side length (in pixels) of the square window over which to compute maximum values for each pixel.\n",
    "                        folder_path (str):\n",
    "                            directory where to save raster. If none is given, then it saves the raster in a temp folder in the cwd.\n",
    "            Return: None    \n",
    "    \"\"\"\n",
    "    rast = rast_reader.read([band]).squeeze() # read raster values\n",
    "    maxs = maxf2D(rast, size=(n,n))    # calculate min in window\n",
    "    \n",
    "    if not folder_path:                         # if needed, create temp directory to save files \n",
    "        folder_path = make_directory('temp')\n",
    "    \n",
    "    dtype = rasterio.dtypes.get_minimum_dtype(maxs)  # parameters for saving\n",
    "    \n",
    "    fp = os.path.join(folder_path, rast_name +'_maxs.tif')      # save raster\n",
    "    sr.save_raster(maxs, \n",
    "                fp, \n",
    "                rast.shape,\n",
    "                1,\n",
    "                rast_reader.crs, \n",
    "                rast_reader.transform, \n",
    "                dtype)  \n",
    "    return\n",
    "\n",
    "# ------------------------------------------------------------------------------\n",
    "\n",
    "def avg_raster(rast_reader, band, rast_name, n, folder_path=''): \n",
    "    \"\"\"\n",
    "        Creates a new raster by replacing each pixel p in given raster R by the avg value in a nxn window centered at p.\n",
    "        The raster with averege values is saved in a temp folder in the current working directory if no folder_path is given.\n",
    "            Parameters: \n",
    "                        rast_reader (rasterio.io.DatasetReader):\n",
    "                            reader to the raster from which to compute the average values in a window\n",
    "                        rast_name (str):\n",
    "                            name of raster. The resulting raster will be saved as rast_name_avgs.tif.\n",
    "                        n (int):\n",
    "                            Side length (in pixels) of the square window over which to compute average values for each pixel.\n",
    "                        folder_path (str):\n",
    "                            directory where to save raster. If none is given, then it saves the raster in a temp folder in the cwd.\n",
    "            Return: None    \n",
    "    \"\"\"\n",
    "    rast = rast_reader.read([band]).squeeze() # read raster values\n",
    "\n",
    "    w = np.ones(n*n).reshape(n,n)      # calculate averages in window\n",
    "    avgs = conf2D(rast, \n",
    "             weights=w,\n",
    "             mode='constant')\n",
    "    avgs = avgs/(n*n)\n",
    "    \n",
    "    # if needed, create temp directory to save files \n",
    "    if not folder_path:  \n",
    "        folder_path = make_directory('temp')\n",
    "            \n",
    "    # parameters for saving   \n",
    "    fp = os.path.join(folder_path, rast_name +'_avgs.tif')                \n",
    "    dtype = rasterio.dtypes.get_minimum_dtype(avgs)\n",
    "            \n",
    "    sr.save_raster(avgs,    # save rasters\n",
    "                fp, \n",
    "                rast.shape, \n",
    "                1,\n",
    "                rast_reader.crs, \n",
    "                rast_reader.transform, \n",
    "                dtype)  \n",
    "    return"
   ]
  },
  {
   "cell_type": "code",
   "execution_count": 3,
   "id": "f26d3ba2-c1bb-4eeb-ab5d-abf51b985501",
   "metadata": {},
   "outputs": [],
   "source": [
    "# ***************************************************\n",
    "# ************* NOTEBOOK VARIABLES ******************\n",
    "\n",
    "itemids = pd.read_csv(os.path.join(os.getcwd(),'temp', 'aoi_naip_itemids.csv')).itemid\n",
    "\n",
    "csv_name = 'test_set.csv'\n",
    "df = pd.read_csv(os.path.join(os.getcwd(), csv_name))\n",
    "\n",
    "# ***************************************************\n",
    "# ***************************************************"
   ]
  },
  {
   "cell_type": "code",
   "execution_count": 4,
   "id": "5f439286-7071-4097-85e9-a47e83ec626f",
   "metadata": {},
   "outputs": [
    {
     "name": "stdout",
     "output_type": "stream",
     "text": [
      "PROCESSING:  ca_m_3412037_nw_10_060_20200607\n",
      "CREATED RASTERS (sec):  66.56072163581848\n"
     ]
    },
    {
     "name": "stderr",
     "output_type": "stream",
     "text": [
      "/srv/conda/envs/notebook/lib/python3.10/site-packages/pandas/core/dtypes/cast.py:122: ShapelyDeprecationWarning: The array interface is deprecated and will no longer work in Shapely 2.0. Convert the '.coords' to a numpy array instead.\n",
      "  arr = construct_1d_object_array_from_listlike(values)\n"
     ]
    },
    {
     "name": "stdout",
     "output_type": "stream",
     "text": [
      "SAMPLED RASTERS (sec):  45.24656414985657\n",
      "PROCESSING:  ca_m_3412037_nw_10_060_20180913_20190208\n",
      "CREATED RASTERS (sec):  58.3112006187439\n"
     ]
    },
    {
     "name": "stderr",
     "output_type": "stream",
     "text": [
      "/srv/conda/envs/notebook/lib/python3.10/site-packages/pandas/core/dtypes/cast.py:122: ShapelyDeprecationWarning: The array interface is deprecated and will no longer work in Shapely 2.0. Convert the '.coords' to a numpy array instead.\n",
      "  arr = construct_1d_object_array_from_listlike(values)\n"
     ]
    },
    {
     "name": "stdout",
     "output_type": "stream",
     "text": [
      "SAMPLED RASTERS (sec):  21.044336080551147\n",
      "PROCESSING:  ca_m_3412037_nw_10_1_20140603_20141030\n",
      "CREATED RASTERS (sec):  22.75282645225525\n"
     ]
    },
    {
     "name": "stderr",
     "output_type": "stream",
     "text": [
      "/srv/conda/envs/notebook/lib/python3.10/site-packages/pandas/core/dtypes/cast.py:122: ShapelyDeprecationWarning: The array interface is deprecated and will no longer work in Shapely 2.0. Convert the '.coords' to a numpy array instead.\n",
      "  arr = construct_1d_object_array_from_listlike(values)\n"
     ]
    },
    {
     "name": "stdout",
     "output_type": "stream",
     "text": [
      "SAMPLED RASTERS (sec):  28.578367233276367\n",
      "PROCESSING:  ca_m_3412037_nw_10_1_20120518_20120730\n",
      "CREATED RASTERS (sec):  22.31207013130188\n"
     ]
    },
    {
     "name": "stderr",
     "output_type": "stream",
     "text": [
      "/srv/conda/envs/notebook/lib/python3.10/site-packages/pandas/core/dtypes/cast.py:122: ShapelyDeprecationWarning: The array interface is deprecated and will no longer work in Shapely 2.0. Convert the '.coords' to a numpy array instead.\n",
      "  arr = construct_1d_object_array_from_listlike(values)\n"
     ]
    },
    {
     "name": "stdout",
     "output_type": "stream",
     "text": [
      "SAMPLED RASTERS (sec):  20.55971050262451\n",
      "PROCESSING:  ca_m_3412039_nw_10_060_20200522\n",
      "CREATED RASTERS (sec):  62.47792387008667\n"
     ]
    },
    {
     "name": "stderr",
     "output_type": "stream",
     "text": [
      "/srv/conda/envs/notebook/lib/python3.10/site-packages/pandas/core/dtypes/cast.py:122: ShapelyDeprecationWarning: The array interface is deprecated and will no longer work in Shapely 2.0. Convert the '.coords' to a numpy array instead.\n",
      "  arr = construct_1d_object_array_from_listlike(values)\n"
     ]
    },
    {
     "name": "stdout",
     "output_type": "stream",
     "text": [
      "SAMPLED RASTERS (sec):  12.514458894729614\n",
      "PROCESSING:  ca_m_3412039_nw_10_060_20180724_20190209\n",
      "CREATED RASTERS (sec):  56.60197186470032\n"
     ]
    },
    {
     "name": "stderr",
     "output_type": "stream",
     "text": [
      "/srv/conda/envs/notebook/lib/python3.10/site-packages/pandas/core/dtypes/cast.py:122: ShapelyDeprecationWarning: The array interface is deprecated and will no longer work in Shapely 2.0. Convert the '.coords' to a numpy array instead.\n",
      "  arr = construct_1d_object_array_from_listlike(values)\n"
     ]
    },
    {
     "name": "stdout",
     "output_type": "stream",
     "text": [
      "SAMPLED RASTERS (sec):  12.36085295677185\n",
      "PROCESSING:  ca_m_3412039_nw_10_.6_20160616_20161004\n",
      "CREATED RASTERS (sec):  59.45795440673828\n"
     ]
    },
    {
     "name": "stderr",
     "output_type": "stream",
     "text": [
      "/srv/conda/envs/notebook/lib/python3.10/site-packages/pandas/core/dtypes/cast.py:122: ShapelyDeprecationWarning: The array interface is deprecated and will no longer work in Shapely 2.0. Convert the '.coords' to a numpy array instead.\n",
      "  arr = construct_1d_object_array_from_listlike(values)\n"
     ]
    },
    {
     "name": "stdout",
     "output_type": "stream",
     "text": [
      "SAMPLED RASTERS (sec):  11.275569677352905\n",
      "PROCESSING:  ca_m_3412039_nw_10_1_20140603_20141030\n",
      "CREATED RASTERS (sec):  22.571632862091064\n"
     ]
    },
    {
     "name": "stderr",
     "output_type": "stream",
     "text": [
      "/srv/conda/envs/notebook/lib/python3.10/site-packages/pandas/core/dtypes/cast.py:122: ShapelyDeprecationWarning: The array interface is deprecated and will no longer work in Shapely 2.0. Convert the '.coords' to a numpy array instead.\n",
      "  arr = construct_1d_object_array_from_listlike(values)\n"
     ]
    },
    {
     "name": "stdout",
     "output_type": "stream",
     "text": [
      "SAMPLED RASTERS (sec):  7.794757604598999\n",
      "PROCESSING:  ca_m_3412039_nw_10_1_20120518_20120730\n",
      "CREATED RASTERS (sec):  22.64870285987854\n"
     ]
    },
    {
     "name": "stderr",
     "output_type": "stream",
     "text": [
      "/srv/conda/envs/notebook/lib/python3.10/site-packages/pandas/core/dtypes/cast.py:122: ShapelyDeprecationWarning: The array interface is deprecated and will no longer work in Shapely 2.0. Convert the '.coords' to a numpy array instead.\n",
      "  arr = construct_1d_object_array_from_listlike(values)\n"
     ]
    },
    {
     "name": "stdout",
     "output_type": "stream",
     "text": [
      "SAMPLED RASTERS (sec):  8.85718297958374\n",
      "PROCESSING:  ca_m_3411934_sw_11_060_20200521\n",
      "CREATED RASTERS (sec):  60.241153717041016\n"
     ]
    },
    {
     "name": "stderr",
     "output_type": "stream",
     "text": [
      "/srv/conda/envs/notebook/lib/python3.10/site-packages/pandas/core/dtypes/cast.py:122: ShapelyDeprecationWarning: The array interface is deprecated and will no longer work in Shapely 2.0. Convert the '.coords' to a numpy array instead.\n",
      "  arr = construct_1d_object_array_from_listlike(values)\n"
     ]
    },
    {
     "name": "stdout",
     "output_type": "stream",
     "text": [
      "SAMPLED RASTERS (sec):  20.94252324104309\n",
      "PROCESSING:  ca_m_3411934_sw_11_060_20180722_20190209\n",
      "CREATED RASTERS (sec):  61.069207429885864\n"
     ]
    },
    {
     "name": "stderr",
     "output_type": "stream",
     "text": [
      "/srv/conda/envs/notebook/lib/python3.10/site-packages/pandas/core/dtypes/cast.py:122: ShapelyDeprecationWarning: The array interface is deprecated and will no longer work in Shapely 2.0. Convert the '.coords' to a numpy array instead.\n",
      "  arr = construct_1d_object_array_from_listlike(values)\n"
     ]
    },
    {
     "name": "stdout",
     "output_type": "stream",
     "text": [
      "SAMPLED RASTERS (sec):  34.64697313308716\n",
      "PROCESSING:  ca_m_3411934_sw_11_.6_20160713_20161004\n",
      "CREATED RASTERS (sec):  58.82361912727356\n"
     ]
    },
    {
     "name": "stderr",
     "output_type": "stream",
     "text": [
      "/srv/conda/envs/notebook/lib/python3.10/site-packages/pandas/core/dtypes/cast.py:122: ShapelyDeprecationWarning: The array interface is deprecated and will no longer work in Shapely 2.0. Convert the '.coords' to a numpy array instead.\n",
      "  arr = construct_1d_object_array_from_listlike(values)\n"
     ]
    },
    {
     "name": "stdout",
     "output_type": "stream",
     "text": [
      "SAMPLED RASTERS (sec):  15.606934309005737\n",
      "PROCESSING:  ca_m_3411934_sw_11_1_20140601_20141030\n",
      "CREATED RASTERS (sec):  25.830581665039062\n"
     ]
    },
    {
     "name": "stderr",
     "output_type": "stream",
     "text": [
      "/srv/conda/envs/notebook/lib/python3.10/site-packages/pandas/core/dtypes/cast.py:122: ShapelyDeprecationWarning: The array interface is deprecated and will no longer work in Shapely 2.0. Convert the '.coords' to a numpy array instead.\n",
      "  arr = construct_1d_object_array_from_listlike(values)\n"
     ]
    },
    {
     "name": "stdout",
     "output_type": "stream",
     "text": [
      "SAMPLED RASTERS (sec):  10.508309841156006\n",
      "PROCESSING:  ca_m_3411934_sw_11_1_20120505_20120730\n",
      "CREATED RASTERS (sec):  25.25995659828186\n"
     ]
    },
    {
     "name": "stderr",
     "output_type": "stream",
     "text": [
      "/srv/conda/envs/notebook/lib/python3.10/site-packages/pandas/core/dtypes/cast.py:122: ShapelyDeprecationWarning: The array interface is deprecated and will no longer work in Shapely 2.0. Convert the '.coords' to a numpy array instead.\n",
      "  arr = construct_1d_object_array_from_listlike(values)\n"
     ]
    },
    {
     "name": "stdout",
     "output_type": "stream",
     "text": [
      "SAMPLED RASTERS (sec):  12.695674180984497\n",
      "PROCESSING:  ca_m_3411936_se_11_060_20200521\n",
      "CREATED RASTERS (sec):  60.02749824523926\n"
     ]
    },
    {
     "name": "stderr",
     "output_type": "stream",
     "text": [
      "/srv/conda/envs/notebook/lib/python3.10/site-packages/pandas/core/dtypes/cast.py:122: ShapelyDeprecationWarning: The array interface is deprecated and will no longer work in Shapely 2.0. Convert the '.coords' to a numpy array instead.\n",
      "  arr = construct_1d_object_array_from_listlike(values)\n"
     ]
    },
    {
     "name": "stdout",
     "output_type": "stream",
     "text": [
      "SAMPLED RASTERS (sec):  22.660482168197632\n",
      "PROCESSING:  ca_m_3411936_se_11_060_20180724_20190209\n",
      "CREATED RASTERS (sec):  59.04326009750366\n"
     ]
    },
    {
     "name": "stderr",
     "output_type": "stream",
     "text": [
      "/srv/conda/envs/notebook/lib/python3.10/site-packages/pandas/core/dtypes/cast.py:122: ShapelyDeprecationWarning: The array interface is deprecated and will no longer work in Shapely 2.0. Convert the '.coords' to a numpy array instead.\n",
      "  arr = construct_1d_object_array_from_listlike(values)\n"
     ]
    },
    {
     "name": "stdout",
     "output_type": "stream",
     "text": [
      "SAMPLED RASTERS (sec):  21.285736560821533\n",
      "PROCESSING:  ca_m_3411936_se_11_.6_20160713_20161004\n",
      "CREATED RASTERS (sec):  59.754981994628906\n"
     ]
    },
    {
     "name": "stderr",
     "output_type": "stream",
     "text": [
      "/srv/conda/envs/notebook/lib/python3.10/site-packages/pandas/core/dtypes/cast.py:122: ShapelyDeprecationWarning: The array interface is deprecated and will no longer work in Shapely 2.0. Convert the '.coords' to a numpy array instead.\n",
      "  arr = construct_1d_object_array_from_listlike(values)\n"
     ]
    },
    {
     "name": "stdout",
     "output_type": "stream",
     "text": [
      "SAMPLED RASTERS (sec):  18.803821325302124\n",
      "PROCESSING:  ca_m_3411936_se_11_1_20140901_20141030\n",
      "CREATED RASTERS (sec):  23.806742429733276\n"
     ]
    },
    {
     "name": "stderr",
     "output_type": "stream",
     "text": [
      "/srv/conda/envs/notebook/lib/python3.10/site-packages/pandas/core/dtypes/cast.py:122: ShapelyDeprecationWarning: The array interface is deprecated and will no longer work in Shapely 2.0. Convert the '.coords' to a numpy array instead.\n",
      "  arr = construct_1d_object_array_from_listlike(values)\n"
     ]
    },
    {
     "name": "stdout",
     "output_type": "stream",
     "text": [
      "SAMPLED RASTERS (sec):  10.934678554534912\n",
      "PROCESSING:  ca_m_3411936_se_11_1_20120505_20120730\n",
      "CREATED RASTERS (sec):  22.341187953948975\n"
     ]
    },
    {
     "name": "stderr",
     "output_type": "stream",
     "text": [
      "/srv/conda/envs/notebook/lib/python3.10/site-packages/pandas/core/dtypes/cast.py:122: ShapelyDeprecationWarning: The array interface is deprecated and will no longer work in Shapely 2.0. Convert the '.coords' to a numpy array instead.\n",
      "  arr = construct_1d_object_array_from_listlike(values)\n"
     ]
    },
    {
     "name": "stdout",
     "output_type": "stream",
     "text": [
      "SAMPLED RASTERS (sec):  12.440812587738037\n"
     ]
    }
   ],
   "source": [
    "pts_list = []\n",
    "\n",
    "for itemid in itemids:\n",
    "    print('PROCESSING: ', itemid)\n",
    "    # ***************************************************\n",
    "    # ------------------------------\n",
    "    # Open NAIP scene and calculate auxiliary spectral rasters\n",
    "    item = sr.get_item_from_id(itemid)    # locate raster\n",
    "    naip_rast_r = sr.get_raster_from_item(item)\n",
    "\n",
    "    folp = os.path.join(os.getcwd(),'temp','aux_naip_rasters')\n",
    "    if os.path.exists(folp) == False:\n",
    "        os.mkdir(folp)\n",
    "\n",
    "    t0 = time.time()\n",
    "    rast_name = 'r_'+itemid \n",
    "    min_raster(rast_reader = naip_rast_r, band=1, rast_name = rast_name, n=3, folder_path=folp)\n",
    "    max_raster(rast_reader = naip_rast_r, band=1,  rast_name = rast_name, n=3, folder_path=folp)\n",
    "    avg_raster(rast_reader = naip_rast_r, band=1, rast_name = rast_name, n=3, folder_path=folp)\n",
    "\n",
    "    rast_name = 'g_'+itemid \n",
    "    min_raster(rast_reader = naip_rast_r, band=2, rast_name = rast_name, n=3, folder_path=folp)\n",
    "    max_raster(rast_reader = naip_rast_r, band=2,  rast_name = rast_name, n=3, folder_path=folp)\n",
    "    avg_raster(rast_reader = naip_rast_r, band=2, rast_name = rast_name, n=3, folder_path=folp)\n",
    "\n",
    "    rast_name = 'b_'+itemid \n",
    "    min_raster(rast_reader = naip_rast_r, band=3, rast_name = rast_name, n=3, folder_path=folp)\n",
    "    max_raster(rast_reader = naip_rast_r, band=3,  rast_name = rast_name, n=3, folder_path=folp)\n",
    "    avg_raster(rast_reader = naip_rast_r, band=3, rast_name = rast_name, n=3, folder_path=folp)\n",
    "\n",
    "    rast_name = 'nir_'+itemid \n",
    "    min_raster(rast_reader = naip_rast_r, band=4, rast_name = rast_name, n=3, folder_path=folp)\n",
    "    max_raster(rast_reader = naip_rast_r, band=4,  rast_name = rast_name, n=3, folder_path=folp)\n",
    "    avg_raster(rast_reader = naip_rast_r, band=4, rast_name = rast_name, n=3, folder_path=folp)\n",
    "    \n",
    "    print('CREATED RASTERS (sec): ',time.time() -t0)\n",
    "\n",
    "    # ***************************************************\n",
    "    # Find points in test and train sets with this itemid\n",
    "    pts = df.loc[df['naip_id'] == itemid]\n",
    "\n",
    "    # ------------------------------\n",
    "    # Convert df to geopandas\n",
    "\n",
    "    ## Get points information from csv\n",
    "    crs = CRS.from_string(pts.pts_crs.iloc[0])\n",
    "    #TO DO: change geodataframe_from_csv to use pandas df and not open file there\n",
    "    #    pts = sr.geodataframe_from_csv(pts_fp, 'x','y',crs)\n",
    "    if 'geometry' in pts.columns:           # rename geometry column if it exists\n",
    "            pts = pts.rename(columns = {'geometry': 'geometry_0'})\n",
    "\n",
    "    # recreate geometry column as shapely Points\n",
    "    xy = []\n",
    "    for x,y in zip(pts['x'], pts['y']):\n",
    "        xy.append(Point(x,y))\n",
    "\n",
    "    pts_col = gpd.GeoDataFrame(pd.DataFrame(xy, columns=['geometry']), crs=crs)\n",
    "    pts_col = pts_col.to_crs(naip_rast_r.crs).geometry\n",
    "\n",
    "\n",
    "    # ***************************************************\n",
    "    ## Sample canopy_height at point, and max, min and avg canopy height around point\n",
    "    t0 = time.time()\n",
    "    samples = []\n",
    "    for band in ['r_','g_','b_','nir_']:\n",
    "        for tag in ['_maxs', '_mins', '_avgs']:\n",
    "\n",
    "            fp = os.path.join(folp,  band + itemid + tag + '.tif')\n",
    "            col_name = band.replace('_', '') + tag.replace('s','')\n",
    "\n",
    "            rast_r = rasterio.open(fp)\n",
    "            sample = sr.sample_raster_from_pts(pts_col, rast_r, [col_name])\n",
    "    \n",
    "            samples.append(sample)\n",
    "\n",
    "    print('SAMPLED RASTERS (sec): ',time.time() -t0)\n",
    "    new_features = pd.concat(samples, axis = 1)\n",
    "    \n",
    "    # ------------------------------\n",
    "    ## Add all derived spectral data to pts dataframe\n",
    "\n",
    "    pts = pd.concat([pts, new_features.set_index(pts.index)], axis=1)    \n",
    "    \n",
    "    # ***************************************************\n",
    "    # create difference in window columns\n",
    "    for band in ['r_','g_','b_','nir_']:\n",
    "        col_name = band + 'diff'\n",
    "        pts[col_name] = pts[band +'max'] - pts[band +'min']\n",
    "\n",
    "    # ***************************************************\n",
    "    # Clean dataframe\n",
    "    #pts.drop(['geometry'],axis=1, inplace=True) # remove geometry column (already have lat,lon and CRS)\n",
    "    pts = pts[['x', 'y', 'pts_crs', #  point location\n",
    "             'aoi', 'naip_id', 'polygon_id',  # sampling info\n",
    "             'r', 'r_max', 'r_min', 'r_diff', 'r_avg',\n",
    "             'g', 'g_max', 'g_min', 'g_diff', 'g_avg',\n",
    "             'b', 'b_max', 'b_min', 'b_diff', 'b_avg',\n",
    "             'nir', 'nir_max', 'nir_min', 'nir_diff', 'nir_avg',\n",
    "             'ndvi',     # spectral\n",
    "             'year', 'month', 'day_in_year', # date\n",
    "             'lidar', 'max_lidar', 'min_lidar', 'min_max_diff', 'avg_lidar', # lidar\n",
    "             'iceplant'\n",
    "             ]] \n",
    "\n",
    "    # ***************************************************\n",
    "    # Delete auxiliary NAIP rasters created for this scene\n",
    "    for band in ['r_','g_','b_','nir_']:\n",
    "        for tag in ['_maxs', '_mins', '_avgs']:\n",
    "            fp = os.path.join(folp, band + itemid + tag + '.tif')   \n",
    "            os.remove(fp)\n",
    "\n",
    "    pts_list.append(pts)\n",
    "\n",
    "    \n",
    "all_pts = pd.concat(pts_list, axis =0)\n"
   ]
  },
  {
   "cell_type": "code",
   "execution_count": 5,
   "id": "66612cde-73e6-4475-94e3-4aaed6c05ab5",
   "metadata": {},
   "outputs": [],
   "source": [
    "# ------------------------------\n",
    "## Save points with added spectral data\n",
    "fp = os.path.join(os.getcwd(), \n",
    "                           'spectral_window_'+csv_name)\n",
    "all_pts.to_csv(fp, index=False)\n",
    "\n",
    "# ------------------------------\n",
    "## Delete original csv files (points without LIDAR)\n",
    "# if delete_pts == True:\n",
    "#     os.remove(pts_fp)"
   ]
  },
  {
   "cell_type": "code",
   "execution_count": null,
   "id": "7fa61495-20d0-437c-a372-759ecaeccf20",
   "metadata": {},
   "outputs": [],
   "source": []
  }
 ],
 "metadata": {
  "kernelspec": {
   "display_name": "Python 3 (ipykernel)",
   "language": "python",
   "name": "python3"
  },
  "language_info": {
   "codemirror_mode": {
    "name": "ipython",
    "version": 3
   },
   "file_extension": ".py",
   "mimetype": "text/x-python",
   "name": "python",
   "nbconvert_exporter": "python",
   "pygments_lexer": "ipython3",
   "version": "3.10.6"
  }
 },
 "nbformat": 4,
 "nbformat_minor": 5
}
