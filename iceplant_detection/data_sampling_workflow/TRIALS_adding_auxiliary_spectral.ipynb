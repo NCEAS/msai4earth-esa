{
 "cells": [
  {
   "cell_type": "code",
   "execution_count": 1,
   "id": "95b3d83c-815a-4e22-a92c-6d140b9fae3f",
   "metadata": {},
   "outputs": [],
   "source": [
    "import os\n",
    "import pandas as pd\n",
    "import numpy as np\n",
    "import time\n",
    "\n",
    "import rasterio\n",
    "import sample_rasters as sr\n",
    "import planetary_computer as pc\n",
    "import geopandas as gpd\n",
    "\n",
    "from scipy.ndimage import maximum_filter as maxf2D\n",
    "from scipy.ndimage import minimum_filter as minf2D\n",
    "from scipy.ndimage import convolve as conf2D\n",
    "\n",
    "from shapely.geometry import Point\n",
    "from rasterio.crs import CRS"
   ]
  },
  {
   "cell_type": "code",
   "execution_count": 2,
   "id": "d065aada-49ca-4779-a7dd-9a459bed75d8",
   "metadata": {
    "jupyter": {
     "source_hidden": true
    },
    "tags": []
   },
   "outputs": [],
   "source": [
    "# *********************************************************************\n",
    "\n",
    "def min_raster(rast_reader, band, rast_name, n, folder_path=''):  \n",
    "    \"\"\"\n",
    "        Creates a new raster by replacing each pixel p in given raster R by the minimum value in a nxn window centered at p.\n",
    "        The raster with minimum values is saved in a temp folder in the current working directory if no folder_path is given.\n",
    "            Parameters: \n",
    "                        rast_reader (rasterio.io.DatasetReader):\n",
    "                            reader to the raster from which to compute the minimum values in a window\n",
    "                        rast_name (str):\n",
    "                            name of raster. The resulting raster will be saved as rast_name_maxs.tif.\n",
    "                        n (int):\n",
    "                            Side length (in pixels) of the square window over which to compute minimum values for each pixel.\n",
    "                        folder_path (str):\n",
    "                            directory where to save raster. If none is given, then it saves the raster in a temp folder in the cwd.\n",
    "            Return: None    \n",
    "    \"\"\"\n",
    "    rast = rast_reader.read([band]).squeeze() # read raster values\n",
    "    mins = minf2D(rast, size=(n,n))    # calculate min in window\n",
    "    \n",
    "    if not folder_path:                         # if needed, create temp directory to save files \n",
    "        folder_path = make_directory('temp')\n",
    "    \n",
    "    dtype = rasterio.dtypes.get_minimum_dtype(mins)  # parameters for saving\n",
    "    \n",
    "    fp = os.path.join(folder_path, rast_name +'_mins.tif')      # save raster\n",
    "    sr.save_raster(mins, \n",
    "                fp, \n",
    "                rast.shape,\n",
    "                1,\n",
    "                rast_reader.crs, \n",
    "                rast_reader.transform, \n",
    "                dtype)  \n",
    "    return\n",
    "\n",
    "# ------------------------------------------------------------------------------\n",
    "\n",
    "def max_raster(rast_reader, band, rast_name, n, folder_path=''):  \n",
    "    \"\"\"\n",
    "        Creates a new raster by replacing each pixel p in given raster R by the max value in a nxn window centered at p.\n",
    "        The raster with maximum values is saved in a temp folder in the current working directory if no folder_path is given.\n",
    "            Parameters: \n",
    "                        rast_reader (rasterio.io.DatasetReader):\n",
    "                            reader to the raster from which to compute the maximum values in a window\n",
    "                        rast_name (str):\n",
    "                            name of raster. The resulting raster will be saved as rast_name_maxs.tif.\n",
    "                        n (int):\n",
    "                            Side length (in pixels) of the square window over which to compute maximum values for each pixel.\n",
    "                        folder_path (str):\n",
    "                            directory where to save raster. If none is given, then it saves the raster in a temp folder in the cwd.\n",
    "            Return: None    \n",
    "    \"\"\"\n",
    "    rast = rast_reader.read([band]).squeeze() # read raster values\n",
    "    maxs = maxf2D(rast, size=(n,n))    # calculate min in window\n",
    "    \n",
    "    if not folder_path:                         # if needed, create temp directory to save files \n",
    "        folder_path = make_directory('temp')\n",
    "    \n",
    "    dtype = rasterio.dtypes.get_minimum_dtype(maxs)  # parameters for saving\n",
    "    \n",
    "    fp = os.path.join(folder_path, rast_name +'_maxs.tif')      # save raster\n",
    "    sr.save_raster(maxs, \n",
    "                fp, \n",
    "                rast.shape,\n",
    "                1,\n",
    "                rast_reader.crs, \n",
    "                rast_reader.transform, \n",
    "                dtype)  \n",
    "    return\n",
    "\n",
    "# ------------------------------------------------------------------------------\n",
    "\n",
    "def avg_raster(rast_reader, band, rast_name, n, folder_path=''): \n",
    "    \"\"\"\n",
    "        Creates a new raster by replacing each pixel p in given raster R by the avg value in a nxn window centered at p.\n",
    "        The raster with averege values is saved in a temp folder in the current working directory if no folder_path is given.\n",
    "            Parameters: \n",
    "                        rast_reader (rasterio.io.DatasetReader):\n",
    "                            reader to the raster from which to compute the average values in a window\n",
    "                        rast_name (str):\n",
    "                            name of raster. The resulting raster will be saved as rast_name_avgs.tif.\n",
    "                        n (int):\n",
    "                            Side length (in pixels) of the square window over which to compute average values for each pixel.\n",
    "                        folder_path (str):\n",
    "                            directory where to save raster. If none is given, then it saves the raster in a temp folder in the cwd.\n",
    "            Return: None    \n",
    "    \"\"\"\n",
    "    rast = rast_reader.read([band]).squeeze() # read raster values\n",
    "\n",
    "    w = np.ones(n*n).reshape(n,n)      # calculate averages in window\n",
    "    avgs = conf2D(rast, \n",
    "             weights=w,\n",
    "             mode='constant')\n",
    "    avgs = avgs/(n*n)\n",
    "    \n",
    "    # if needed, create temp directory to save files \n",
    "    if not folder_path:  \n",
    "        folder_path = make_directory('temp')\n",
    "            \n",
    "    # parameters for saving   \n",
    "    fp = os.path.join(folder_path, rast_name +'_avgs.tif')                \n",
    "    dtype = rasterio.dtypes.get_minimum_dtype(avgs)\n",
    "            \n",
    "    sr.save_raster(avgs,    # save rasters\n",
    "                fp, \n",
    "                rast.shape, \n",
    "                1,\n",
    "                rast_reader.crs, \n",
    "                rast_reader.transform, \n",
    "                dtype)  \n",
    "    return"
   ]
  },
  {
   "cell_type": "code",
   "execution_count": 3,
   "id": "f26d3ba2-c1bb-4eeb-ab5d-abf51b985501",
   "metadata": {},
   "outputs": [],
   "source": [
    "# ***************************************************\n",
    "# ************* NOTEBOOK VARIABLES ******************\n",
    "\n",
    "itemids = pd.read_csv(os.path.join(os.getcwd(),'temp', 'aoi_naip_itemids.csv')).itemid\n",
    "#itemids = ['ca_m_3411934_sw_11_.6_20160713_20161004']\n",
    "# open csv with all itemids"
   ]
  },
  {
   "cell_type": "code",
   "execution_count": 4,
   "id": "0715f331-e9c3-4d11-af32-b418b39abad7",
   "metadata": {},
   "outputs": [],
   "source": [
    "df = pd.read_csv(os.path.join(os.getcwd(), 'test_set.csv'))\n",
    "# add train set\n",
    "\n",
    "# ***************************************************\n",
    "# ***************************************************"
   ]
  },
  {
   "cell_type": "code",
   "execution_count": 5,
   "id": "057d3606-ab2d-4ec6-978e-e3545cb3e028",
   "metadata": {},
   "outputs": [],
   "source": [
    "t0 = time.time()"
   ]
  },
  {
   "cell_type": "code",
   "execution_count": 6,
   "id": "ec72ed89-699d-41a5-95fc-66f237b9e140",
   "metadata": {},
   "outputs": [
    {
     "name": "stdout",
     "output_type": "stream",
     "text": [
      "********************************************\n",
      "PROCESSING:  ca_m_3412037_nw_10_060_20200607\n",
      "filtered pts\n",
      "finished R aux rasters\n",
      "finished G aux rasters\n",
      "finished B aux rasters\n",
      "finished NIR aux rasters\n"
     ]
    },
    {
     "name": "stderr",
     "output_type": "stream",
     "text": [
      "/srv/conda/envs/notebook/lib/python3.10/site-packages/pandas/core/dtypes/cast.py:122: ShapelyDeprecationWarning: The array interface is deprecated and will no longer work in Shapely 2.0. Convert the '.coords' to a numpy array instead.\n",
      "  arr = construct_1d_object_array_from_listlike(values)\n"
     ]
    },
    {
     "name": "stdout",
     "output_type": "stream",
     "text": [
      "********************************************\n",
      "PROCESSING:  ca_m_3412037_nw_10_060_20180913_20190208\n",
      "filtered pts\n",
      "finished R aux rasters\n",
      "finished G aux rasters\n",
      "finished B aux rasters\n",
      "finished NIR aux rasters\n"
     ]
    },
    {
     "name": "stderr",
     "output_type": "stream",
     "text": [
      "/srv/conda/envs/notebook/lib/python3.10/site-packages/pandas/core/dtypes/cast.py:122: ShapelyDeprecationWarning: The array interface is deprecated and will no longer work in Shapely 2.0. Convert the '.coords' to a numpy array instead.\n",
      "  arr = construct_1d_object_array_from_listlike(values)\n"
     ]
    },
    {
     "name": "stdout",
     "output_type": "stream",
     "text": [
      "********************************************\n",
      "PROCESSING:  ca_m_3412037_nw_10_1_20140603_20141030\n",
      "filtered pts\n",
      "finished R aux rasters\n",
      "finished G aux rasters\n",
      "finished B aux rasters\n",
      "finished NIR aux rasters\n"
     ]
    },
    {
     "name": "stderr",
     "output_type": "stream",
     "text": [
      "/srv/conda/envs/notebook/lib/python3.10/site-packages/pandas/core/dtypes/cast.py:122: ShapelyDeprecationWarning: The array interface is deprecated and will no longer work in Shapely 2.0. Convert the '.coords' to a numpy array instead.\n",
      "  arr = construct_1d_object_array_from_listlike(values)\n"
     ]
    },
    {
     "name": "stdout",
     "output_type": "stream",
     "text": [
      "********************************************\n",
      "PROCESSING:  ca_m_3412037_nw_10_1_20120518_20120730\n",
      "filtered pts\n",
      "finished R aux rasters\n",
      "finished G aux rasters\n",
      "finished B aux rasters\n",
      "finished NIR aux rasters\n"
     ]
    },
    {
     "name": "stderr",
     "output_type": "stream",
     "text": [
      "/srv/conda/envs/notebook/lib/python3.10/site-packages/pandas/core/dtypes/cast.py:122: ShapelyDeprecationWarning: The array interface is deprecated and will no longer work in Shapely 2.0. Convert the '.coords' to a numpy array instead.\n",
      "  arr = construct_1d_object_array_from_listlike(values)\n"
     ]
    },
    {
     "name": "stdout",
     "output_type": "stream",
     "text": [
      "********************************************\n",
      "PROCESSING:  ca_m_3412039_nw_10_060_20200522\n",
      "filtered pts\n",
      "finished R aux rasters\n",
      "finished G aux rasters\n",
      "finished B aux rasters\n",
      "finished NIR aux rasters\n"
     ]
    },
    {
     "name": "stderr",
     "output_type": "stream",
     "text": [
      "/srv/conda/envs/notebook/lib/python3.10/site-packages/pandas/core/dtypes/cast.py:122: ShapelyDeprecationWarning: The array interface is deprecated and will no longer work in Shapely 2.0. Convert the '.coords' to a numpy array instead.\n",
      "  arr = construct_1d_object_array_from_listlike(values)\n"
     ]
    },
    {
     "name": "stdout",
     "output_type": "stream",
     "text": [
      "********************************************\n",
      "PROCESSING:  ca_m_3412039_nw_10_060_20180724_20190209\n",
      "filtered pts\n",
      "finished R aux rasters\n",
      "finished G aux rasters\n",
      "finished B aux rasters\n",
      "finished NIR aux rasters\n"
     ]
    },
    {
     "name": "stderr",
     "output_type": "stream",
     "text": [
      "/srv/conda/envs/notebook/lib/python3.10/site-packages/pandas/core/dtypes/cast.py:122: ShapelyDeprecationWarning: The array interface is deprecated and will no longer work in Shapely 2.0. Convert the '.coords' to a numpy array instead.\n",
      "  arr = construct_1d_object_array_from_listlike(values)\n"
     ]
    },
    {
     "name": "stdout",
     "output_type": "stream",
     "text": [
      "********************************************\n",
      "PROCESSING:  ca_m_3412039_nw_10_.6_20160616_20161004\n",
      "filtered pts\n",
      "finished R aux rasters\n",
      "finished G aux rasters\n",
      "finished B aux rasters\n",
      "finished NIR aux rasters\n"
     ]
    },
    {
     "name": "stderr",
     "output_type": "stream",
     "text": [
      "/srv/conda/envs/notebook/lib/python3.10/site-packages/pandas/core/dtypes/cast.py:122: ShapelyDeprecationWarning: The array interface is deprecated and will no longer work in Shapely 2.0. Convert the '.coords' to a numpy array instead.\n",
      "  arr = construct_1d_object_array_from_listlike(values)\n"
     ]
    },
    {
     "name": "stdout",
     "output_type": "stream",
     "text": [
      "********************************************\n",
      "PROCESSING:  ca_m_3412039_nw_10_1_20140603_20141030\n",
      "filtered pts\n",
      "finished R aux rasters\n",
      "finished G aux rasters\n",
      "finished B aux rasters\n",
      "finished NIR aux rasters\n"
     ]
    },
    {
     "name": "stderr",
     "output_type": "stream",
     "text": [
      "/srv/conda/envs/notebook/lib/python3.10/site-packages/pandas/core/dtypes/cast.py:122: ShapelyDeprecationWarning: The array interface is deprecated and will no longer work in Shapely 2.0. Convert the '.coords' to a numpy array instead.\n",
      "  arr = construct_1d_object_array_from_listlike(values)\n"
     ]
    },
    {
     "name": "stdout",
     "output_type": "stream",
     "text": [
      "********************************************\n",
      "PROCESSING:  ca_m_3412039_nw_10_1_20120518_20120730\n",
      "filtered pts\n",
      "finished R aux rasters\n",
      "finished G aux rasters\n",
      "finished NIR aux rasters\n"
     ]
    },
    {
     "name": "stderr",
     "output_type": "stream",
     "text": [
      "/srv/conda/envs/notebook/lib/python3.10/site-packages/pandas/core/dtypes/cast.py:122: ShapelyDeprecationWarning: The array interface is deprecated and will no longer work in Shapely 2.0. Convert the '.coords' to a numpy array instead.\n",
      "  arr = construct_1d_object_array_from_listlike(values)\n"
     ]
    },
    {
     "name": "stdout",
     "output_type": "stream",
     "text": [
      "********************************************\n",
      "PROCESSING:  ca_m_3411934_sw_11_060_20200521\n",
      "filtered pts\n",
      "finished R aux rasters\n",
      "finished G aux rasters\n",
      "finished B aux rasters\n",
      "finished NIR aux rasters\n"
     ]
    },
    {
     "name": "stderr",
     "output_type": "stream",
     "text": [
      "/srv/conda/envs/notebook/lib/python3.10/site-packages/pandas/core/dtypes/cast.py:122: ShapelyDeprecationWarning: The array interface is deprecated and will no longer work in Shapely 2.0. Convert the '.coords' to a numpy array instead.\n",
      "  arr = construct_1d_object_array_from_listlike(values)\n"
     ]
    },
    {
     "name": "stdout",
     "output_type": "stream",
     "text": [
      "********************************************\n",
      "PROCESSING:  ca_m_3411934_sw_11_060_20180722_20190209\n",
      "filtered pts\n",
      "finished R aux rasters\n",
      "finished G aux rasters\n",
      "finished B aux rasters\n",
      "finished NIR aux rasters\n"
     ]
    },
    {
     "name": "stderr",
     "output_type": "stream",
     "text": [
      "/srv/conda/envs/notebook/lib/python3.10/site-packages/pandas/core/dtypes/cast.py:122: ShapelyDeprecationWarning: The array interface is deprecated and will no longer work in Shapely 2.0. Convert the '.coords' to a numpy array instead.\n",
      "  arr = construct_1d_object_array_from_listlike(values)\n"
     ]
    },
    {
     "name": "stdout",
     "output_type": "stream",
     "text": [
      "********************************************\n",
      "PROCESSING:  ca_m_3411934_sw_11_.6_20160713_20161004\n",
      "filtered pts\n",
      "finished R aux rasters\n",
      "finished G aux rasters\n",
      "finished B aux rasters\n",
      "finished NIR aux rasters\n"
     ]
    },
    {
     "name": "stderr",
     "output_type": "stream",
     "text": [
      "/srv/conda/envs/notebook/lib/python3.10/site-packages/pandas/core/dtypes/cast.py:122: ShapelyDeprecationWarning: The array interface is deprecated and will no longer work in Shapely 2.0. Convert the '.coords' to a numpy array instead.\n",
      "  arr = construct_1d_object_array_from_listlike(values)\n"
     ]
    },
    {
     "name": "stdout",
     "output_type": "stream",
     "text": [
      "********************************************\n",
      "PROCESSING:  ca_m_3411934_sw_11_1_20140601_20141030\n",
      "filtered pts\n",
      "finished R aux rasters\n",
      "finished G aux rasters\n",
      "finished B aux rasters\n",
      "finished NIR aux rasters\n"
     ]
    },
    {
     "name": "stderr",
     "output_type": "stream",
     "text": [
      "/srv/conda/envs/notebook/lib/python3.10/site-packages/pandas/core/dtypes/cast.py:122: ShapelyDeprecationWarning: The array interface is deprecated and will no longer work in Shapely 2.0. Convert the '.coords' to a numpy array instead.\n",
      "  arr = construct_1d_object_array_from_listlike(values)\n"
     ]
    },
    {
     "name": "stdout",
     "output_type": "stream",
     "text": [
      "********************************************\n",
      "PROCESSING:  ca_m_3411934_sw_11_1_20120505_20120730\n",
      "filtered pts\n",
      "finished R aux rasters\n",
      "finished G aux rasters\n",
      "finished B aux rasters\n",
      "finished NIR aux rasters\n"
     ]
    },
    {
     "name": "stderr",
     "output_type": "stream",
     "text": [
      "/srv/conda/envs/notebook/lib/python3.10/site-packages/pandas/core/dtypes/cast.py:122: ShapelyDeprecationWarning: The array interface is deprecated and will no longer work in Shapely 2.0. Convert the '.coords' to a numpy array instead.\n",
      "  arr = construct_1d_object_array_from_listlike(values)\n"
     ]
    },
    {
     "name": "stdout",
     "output_type": "stream",
     "text": [
      "********************************************\n",
      "PROCESSING:  ca_m_3411936_se_11_060_20200521\n",
      "filtered pts\n",
      "finished R aux rasters\n",
      "finished G aux rasters\n",
      "finished B aux rasters\n",
      "finished NIR aux rasters\n"
     ]
    },
    {
     "name": "stderr",
     "output_type": "stream",
     "text": [
      "/srv/conda/envs/notebook/lib/python3.10/site-packages/pandas/core/dtypes/cast.py:122: ShapelyDeprecationWarning: The array interface is deprecated and will no longer work in Shapely 2.0. Convert the '.coords' to a numpy array instead.\n",
      "  arr = construct_1d_object_array_from_listlike(values)\n"
     ]
    },
    {
     "name": "stdout",
     "output_type": "stream",
     "text": [
      "********************************************\n",
      "PROCESSING:  ca_m_3411936_se_11_060_20180724_20190209\n",
      "filtered pts\n",
      "finished R aux rasters\n",
      "finished G aux rasters\n",
      "finished B aux rasters\n",
      "finished NIR aux rasters\n"
     ]
    },
    {
     "name": "stderr",
     "output_type": "stream",
     "text": [
      "/srv/conda/envs/notebook/lib/python3.10/site-packages/pandas/core/dtypes/cast.py:122: ShapelyDeprecationWarning: The array interface is deprecated and will no longer work in Shapely 2.0. Convert the '.coords' to a numpy array instead.\n",
      "  arr = construct_1d_object_array_from_listlike(values)\n"
     ]
    },
    {
     "name": "stdout",
     "output_type": "stream",
     "text": [
      "********************************************\n",
      "PROCESSING:  ca_m_3411936_se_11_.6_20160713_20161004\n",
      "filtered pts\n",
      "finished R aux rasters\n",
      "finished G aux rasters\n",
      "finished B aux rasters\n",
      "finished NIR aux rasters\n"
     ]
    },
    {
     "name": "stderr",
     "output_type": "stream",
     "text": [
      "/srv/conda/envs/notebook/lib/python3.10/site-packages/pandas/core/dtypes/cast.py:122: ShapelyDeprecationWarning: The array interface is deprecated and will no longer work in Shapely 2.0. Convert the '.coords' to a numpy array instead.\n",
      "  arr = construct_1d_object_array_from_listlike(values)\n"
     ]
    },
    {
     "name": "stdout",
     "output_type": "stream",
     "text": [
      "********************************************\n",
      "PROCESSING:  ca_m_3411936_se_11_1_20140901_20141030\n",
      "filtered pts\n",
      "finished R aux rasters\n",
      "finished G aux rasters\n",
      "finished B aux rasters\n",
      "finished NIR aux rasters\n"
     ]
    },
    {
     "name": "stderr",
     "output_type": "stream",
     "text": [
      "/srv/conda/envs/notebook/lib/python3.10/site-packages/pandas/core/dtypes/cast.py:122: ShapelyDeprecationWarning: The array interface is deprecated and will no longer work in Shapely 2.0. Convert the '.coords' to a numpy array instead.\n",
      "  arr = construct_1d_object_array_from_listlike(values)\n"
     ]
    },
    {
     "name": "stdout",
     "output_type": "stream",
     "text": [
      "********************************************\n",
      "PROCESSING:  ca_m_3411936_se_11_1_20120505_20120730\n",
      "filtered pts\n",
      "finished R aux rasters\n",
      "finished G aux rasters\n",
      "finished B aux rasters\n",
      "finished NIR aux rasters\n"
     ]
    },
    {
     "name": "stderr",
     "output_type": "stream",
     "text": [
      "/srv/conda/envs/notebook/lib/python3.10/site-packages/pandas/core/dtypes/cast.py:122: ShapelyDeprecationWarning: The array interface is deprecated and will no longer work in Shapely 2.0. Convert the '.coords' to a numpy array instead.\n",
      "  arr = construct_1d_object_array_from_listlike(values)\n"
     ]
    },
    {
     "name": "stdout",
     "output_type": "stream",
     "text": [
      "958.6162986755371\n"
     ]
    }
   ],
   "source": [
    "pts_list = []\n",
    "\n",
    "for itemid in itemids:\n",
    "    print('********************************************')\n",
    "    print('PROCESSING: ', itemid)\n",
    "    # ------------------------------\n",
    "    # Filter points in test set and train set with this itemid\n",
    "    pts = df.loc[df['naip_id'] == itemid]\n",
    "\n",
    "    # ------------------------------\n",
    "    # Open NAIP scene and calculate auxiliary spectral rasters\n",
    "    item = sr.get_item_from_id(itemid)    # locate raster\n",
    "    href = pc.sign(item.assets[\"image\"].href)\n",
    "    lidar_rast_r = rasterio.open(href)\n",
    "\n",
    "    folp = os.path.join(os.getcwd(),'temp')\n",
    "\n",
    "    rast_name = 'r_'+itemid \n",
    "    min_raster(rast_reader = lidar_rast_r, band=1, rast_name = rast_name, n=3, folder_path=folp)\n",
    "    max_raster(rast_reader = lidar_rast_r, band=1,  rast_name = rast_name, n=3, folder_path=folp)\n",
    "    avg_raster(rast_reader = lidar_rast_r, band=1, rast_name = rast_name, n=3, folder_path=folp)\n",
    "\n",
    "    rast_name = 'g_'+itemid \n",
    "    min_raster(rast_reader = lidar_rast_r, band=2, rast_name = rast_name, n=3, folder_path=folp)\n",
    "    max_raster(rast_reader = lidar_rast_r, band=2,  rast_name = rast_name, n=3, folder_path=folp)\n",
    "    avg_raster(rast_reader = lidar_rast_r, band=2, rast_name = rast_name, n=3, folder_path=folp)\n",
    "\n",
    "    rast_name = 'b_'+itemid \n",
    "    min_raster(rast_reader = lidar_rast_r, band=3, rast_name = rast_name, n=3, folder_path=folp)\n",
    "    max_raster(rast_reader = lidar_rast_r, band=3,  rast_name = rast_name, n=3, folder_path=folp)\n",
    "    avg_raster(rast_reader = lidar_rast_r, band=3, rast_name = rast_name, n=3, folder_path=folp)\n",
    "\n",
    "    rast_name = 'nir_'+itemid \n",
    "    min_raster(rast_reader = lidar_rast_r, band=4, rast_name = rast_name, n=3, folder_path=folp)\n",
    "    max_raster(rast_reader = lidar_rast_r, band=4,  rast_name = rast_name, n=3, folder_path=folp)\n",
    "    avg_raster(rast_reader = lidar_rast_r, band=4, rast_name = rast_name, n=3, folder_path=folp)\n",
    "\n",
    "    # ------------------------------\n",
    "    # Convert csv to geopandas\n",
    "\n",
    "    ## Get points information from csv\n",
    "    crs = CRS.from_string(pts.pts_crs.iloc[0])\n",
    "    #TO DO: change geodataframe_from_csv to use pandas df and not open file there\n",
    "    #    pts = sr.geodataframe_from_csv(pts_fp, 'x','y',crs)\n",
    "    if 'geometry' in pts.columns:           # rename geometry column if it exists\n",
    "            pts = pts.rename(columns = {'geometry': 'geometry_0'})\n",
    "\n",
    "    # recreate geometry column as shapely Points\n",
    "    xy = []\n",
    "    for x,y in zip(pts['x'], pts['y']):\n",
    "        xy.append(Point(x,y))\n",
    "\n",
    "    pts_col = gpd.GeoDataFrame(pd.DataFrame(xy, columns=['geometry']), crs=crs)\n",
    "    pts_col = pts_col.to_crs(lidar_rast_r.crs).geometry\n",
    "\n",
    "    # ------------------------------\n",
    "    ## Sample canopy_height at point, and max, min and avg canopy height around point\n",
    "\n",
    "    samples = []\n",
    "    for band in ['r_','g_','b_','nir_']:\n",
    "        for tag in ['_maxs', '_mins', '_avgs']:\n",
    "\n",
    "            fp = os.path.join(os.getcwd(), 'temp', band + itemid + tag + '.tif')\n",
    "            col_name = band.replace('_', '') + tag.replace('s','')\n",
    "\n",
    "            rast_r = rasterio.open(fp)\n",
    "            sample = sr.sample_raster_from_pts(pts_col, rast_r, [col_name])\n",
    "\n",
    "            samples.append(sample)\n",
    "\n",
    "    new_features = pd.concat(samples, axis = 1)\n",
    "\n",
    "    # ------------------------------\n",
    "    ## Add all derived spectral data to pts dataframe\n",
    "\n",
    "    pts = pd.concat([pts, new_features], axis=1)\n",
    "    pts\n",
    "\n",
    "    for band in ['r_','g_','b_','nir_']:\n",
    "        col_name = band + 'diff'\n",
    "        pts[col_name] = pts[band +'max'] - pts[band +'min']\n",
    "\n",
    "    # ------------------------------    \n",
    "    # Clean dataframe\n",
    "    #pts.drop(['geometry'],axis=1, inplace=True) # remove geometry column (already have lat,lon and CRS)\n",
    "    pts = pts[['x', 'y', 'pts_crs', #  point location\n",
    "             'aoi', 'naip_id', 'polygon_id',  # sampling info\n",
    "             'r', 'r_max', 'r_min', 'r_diff', 'r_avg',\n",
    "             'g', 'g_max', 'g_min', 'g_diff', 'g_avg',\n",
    "             'b', 'b_max', 'b_min', 'b_diff', 'b_avg',\n",
    "             'nir', 'nir_max', 'nir_min', 'nir_diff', 'nir_avg',\n",
    "             'ndvi',     # spectral\n",
    "             'year', 'month', 'day_in_year', # date\n",
    "             'lidar', 'max_lidar', 'min_lidar', 'min_max_diff', 'avg_lidar', # lidar\n",
    "             'iceplant'\n",
    "             ]] \n",
    "\n",
    "    # ------------------------------\n",
    "    # Delete auxiliary LIDAR rasters created for this year\n",
    "    for band in ['r_','g_','b_','nir_']:\n",
    "        for tag in ['_maxs', '_mins', '_avgs']:\n",
    "            fp = os.path.join(os.getcwd(), 'temp', band + itemid + tag + '.tif')   \n",
    "            os.remove(fp)\n",
    "\n",
    "    pts_list.append(pts)\n",
    "\n",
    "all_pts = pd.concat(pts_list, axis =0)\n",
    "print(time.time() -t0)"
   ]
  },
  {
   "cell_type": "code",
   "execution_count": 7,
   "id": "66612cde-73e6-4475-94e3-4aaed6c05ab5",
   "metadata": {},
   "outputs": [
    {
     "ename": "NameError",
     "evalue": "name 'aoi' is not defined",
     "output_type": "error",
     "traceback": [
      "\u001b[0;31m---------------------------------------------------------------------------\u001b[0m",
      "\u001b[0;31mNameError\u001b[0m                                 Traceback (most recent call last)",
      "Cell \u001b[0;32mIn [7], line 5\u001b[0m\n\u001b[1;32m      1\u001b[0m \u001b[38;5;66;03m# ------------------------------\u001b[39;00m\n\u001b[1;32m      2\u001b[0m \u001b[38;5;66;03m## Save points with added spectral data\u001b[39;00m\n\u001b[1;32m      3\u001b[0m ptslidar_fp \u001b[38;5;241m=\u001b[39m os\u001b[38;5;241m.\u001b[39mpath\u001b[38;5;241m.\u001b[39mjoin(os\u001b[38;5;241m.\u001b[39mgetcwd(), \n\u001b[1;32m      4\u001b[0m                            \u001b[38;5;124m'\u001b[39m\u001b[38;5;124mtemp\u001b[39m\u001b[38;5;124m'\u001b[39m, \n\u001b[0;32m----> 5\u001b[0m                            \u001b[43maoi\u001b[49m \u001b[38;5;241m+\u001b[39m\u001b[38;5;124m'\u001b[39m\u001b[38;5;124m_pts_spectral_lidar_\u001b[39m\u001b[38;5;124m'\u001b[39m\u001b[38;5;241m+\u001b[39m\u001b[38;5;28mstr\u001b[39m(year)\u001b[38;5;241m+\u001b[39m\u001b[38;5;124m'\u001b[39m\u001b[38;5;124m.csv\u001b[39m\u001b[38;5;124m'\u001b[39m)\n\u001b[1;32m      6\u001b[0m pts\u001b[38;5;241m.\u001b[39mto_csv(all_pts, index\u001b[38;5;241m=\u001b[39m\u001b[38;5;28;01mFalse\u001b[39;00m)\n\u001b[1;32m      8\u001b[0m \u001b[38;5;66;03m# ------------------------------\u001b[39;00m\n\u001b[1;32m      9\u001b[0m \u001b[38;5;66;03m## Delete original csv files (points without LIDAR)\u001b[39;00m\n",
      "\u001b[0;31mNameError\u001b[0m: name 'aoi' is not defined"
     ]
    }
   ],
   "source": [
    "# ------------------------------\n",
    "## Save points with added spectral data\n",
    "ptslidar_fp = os.path.join(os.getcwd(), \n",
    "                           'temp', \n",
    "                           aoi +'_pts_spectral_lidar_'+str(year)+'.csv')\n",
    "pts.to_csv(all_pts, index=False)\n",
    "\n",
    "# ------------------------------\n",
    "## Delete original csv files (points without LIDAR)\n",
    "if delete_pts == True:\n",
    "    os.remove(pts_fp)"
   ]
  },
  {
   "cell_type": "code",
   "execution_count": 11,
   "id": "46f4cc48-4a71-46e9-9d19-9bcdeda58908",
   "metadata": {},
   "outputs": [
    {
     "data": {
      "text/plain": [
       "111798      NaN\n",
       "111799      NaN\n",
       "111800      NaN\n",
       "111801      NaN\n",
       "111802      NaN\n",
       "          ...  \n",
       "6305      100.0\n",
       "6306      146.0\n",
       "6307       97.0\n",
       "6308      141.0\n",
       "6309       91.0\n",
       "Name: r_max, Length: 311016, dtype: float64"
      ]
     },
     "execution_count": 11,
     "metadata": {},
     "output_type": "execute_result"
    }
   ],
   "source": [
    "all_pts.r_max"
   ]
  },
  {
   "cell_type": "code",
   "execution_count": null,
   "id": "7fa61495-20d0-437c-a372-759ecaeccf20",
   "metadata": {},
   "outputs": [],
   "source": []
  }
 ],
 "metadata": {
  "kernelspec": {
   "display_name": "Python 3 (ipykernel)",
   "language": "python",
   "name": "python3"
  },
  "language_info": {
   "codemirror_mode": {
    "name": "ipython",
    "version": 3
   },
   "file_extension": ".py",
   "mimetype": "text/x-python",
   "name": "python",
   "nbconvert_exporter": "python",
   "pygments_lexer": "ipython3",
   "version": "3.10.6"
  }
 },
 "nbformat": 4,
 "nbformat_minor": 5
}
