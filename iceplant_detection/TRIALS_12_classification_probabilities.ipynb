{
 "cells": [
  {
   "cell_type": "code",
   "execution_count": 1,
   "id": "b6a16b75-1dfb-4240-b710-6eec22cd7e6e",
   "metadata": {},
   "outputs": [],
   "source": [
    "import os\n",
    "import time\n",
    "import pandas as pd\n",
    "import numpy as np\n",
    "import matplotlib.pyplot as plt\n",
    "\n",
    "from sklearn.ensemble import RandomForestClassifier\n",
    "\n",
    "import rasterio\n",
    "import geopandas as gpd\n",
    "\n",
    "import iceplant_detection_functions as ipf\n",
    "import model_prep_and_evals as mpe\n",
    "\n",
    "import warnings\n",
    "\n",
    "import planetary_computer as pc\n",
    "import rioxarray as rioxr\n",
    "\n",
    "import gc # garbage collector\n",
    "\n",
    "import dask\n",
    "import dask_gateway\n",
    "import dask.array as da\n",
    "from dask_ml.wrappers import ParallelPostFit"
   ]
  },
  {
   "cell_type": "markdown",
   "id": "c2e33c04-8fcc-4c16-bcf1-264ff8f81c16",
   "metadata": {},
   "source": [
    "# Import train set"
   ]
  },
  {
   "cell_type": "code",
   "execution_count": 2,
   "id": "360cad6f-55cd-4a50-a77d-24fd7cff4697",
   "metadata": {},
   "outputs": [],
   "source": [
    "X_train = pd.read_csv(os.path.join(os.getcwd(),'create_train_test_sets','train_set.csv')).loc[:,'r':'avg_lidar']\n",
    "y_train = pd.read_csv(os.path.join(os.getcwd(),'create_train_test_sets','train_set.csv')).loc[:,'iceplant'] "
   ]
  },
  {
   "cell_type": "code",
   "execution_count": 3,
   "id": "bb867190-a4ea-4ded-84f2-a4ea6ec085a2",
   "metadata": {},
   "outputs": [
    {
     "data": {
      "text/html": [
       "<div>\n",
       "<style scoped>\n",
       "    .dataframe tbody tr th:only-of-type {\n",
       "        vertical-align: middle;\n",
       "    }\n",
       "\n",
       "    .dataframe tbody tr th {\n",
       "        vertical-align: top;\n",
       "    }\n",
       "\n",
       "    .dataframe thead th {\n",
       "        text-align: right;\n",
       "    }\n",
       "</style>\n",
       "<table border=\"1\" class=\"dataframe\">\n",
       "  <thead>\n",
       "    <tr style=\"text-align: right;\">\n",
       "      <th></th>\n",
       "      <th>r</th>\n",
       "      <th>g</th>\n",
       "      <th>b</th>\n",
       "      <th>nir</th>\n",
       "      <th>ndvi</th>\n",
       "      <th>year</th>\n",
       "      <th>month</th>\n",
       "      <th>day_in_year</th>\n",
       "    </tr>\n",
       "  </thead>\n",
       "  <tbody>\n",
       "    <tr>\n",
       "      <th>0</th>\n",
       "      <td>43</td>\n",
       "      <td>51</td>\n",
       "      <td>78</td>\n",
       "      <td>89</td>\n",
       "      <td>0.348485</td>\n",
       "      <td>2012</td>\n",
       "      <td>5</td>\n",
       "      <td>126</td>\n",
       "    </tr>\n",
       "    <tr>\n",
       "      <th>1</th>\n",
       "      <td>65</td>\n",
       "      <td>59</td>\n",
       "      <td>84</td>\n",
       "      <td>79</td>\n",
       "      <td>0.097222</td>\n",
       "      <td>2012</td>\n",
       "      <td>5</td>\n",
       "      <td>126</td>\n",
       "    </tr>\n",
       "    <tr>\n",
       "      <th>2</th>\n",
       "      <td>81</td>\n",
       "      <td>86</td>\n",
       "      <td>93</td>\n",
       "      <td>132</td>\n",
       "      <td>0.239437</td>\n",
       "      <td>2012</td>\n",
       "      <td>5</td>\n",
       "      <td>126</td>\n",
       "    </tr>\n",
       "  </tbody>\n",
       "</table>\n",
       "</div>"
      ],
      "text/plain": [
       "    r   g   b  nir      ndvi  year  month  day_in_year\n",
       "0  43  51  78   89  0.348485  2012      5          126\n",
       "1  65  59  84   79  0.097222  2012      5          126\n",
       "2  81  86  93  132  0.239437  2012      5          126"
      ]
     },
     "execution_count": 3,
     "metadata": {},
     "output_type": "execute_result"
    }
   ],
   "source": [
    "X_train = X_train.drop(['lidar','max_lidar','min_lidar','min_max_diff','avg_lidar'],axis=1)\n",
    "X_train.head(3)"
   ]
  },
  {
   "cell_type": "markdown",
   "id": "330914f3-36eb-47d3-82cd-54df9b7c0561",
   "metadata": {},
   "source": [
    "## Train model"
   ]
  },
  {
   "cell_type": "code",
   "execution_count": 4,
   "id": "4f84a7d7-d0c6-4f33-9c26-a968cbac2cfc",
   "metadata": {},
   "outputs": [
    {
     "name": "stdout",
     "output_type": "stream",
     "text": [
      "time to train:  43.97453236579895\n"
     ]
    }
   ],
   "source": [
    "t0 = time.time()\n",
    "\n",
    "rfc = ParallelPostFit(RandomForestClassifier(n_estimators = 100, random_state = 42))\n",
    "rfc.fit(X_train, y_train)\n",
    "\n",
    "print('time to train: ', (time.time()-t0))"
   ]
  },
  {
   "cell_type": "markdown",
   "id": "23984c2d-3c74-47bb-83be-013fcdfdef35",
   "metadata": {},
   "source": [
    "# Probabilities over aoi"
   ]
  },
  {
   "cell_type": "code",
   "execution_count": 6,
   "id": "507cd22c-b248-4f2f-abf9-1948550a53c3",
   "metadata": {},
   "outputs": [
    {
     "data": {
      "text/html": [
       "<div>\n",
       "<style scoped>\n",
       "    .dataframe tbody tr th:only-of-type {\n",
       "        vertical-align: middle;\n",
       "    }\n",
       "\n",
       "    .dataframe tbody tr th {\n",
       "        vertical-align: top;\n",
       "    }\n",
       "\n",
       "    .dataframe thead th {\n",
       "        text-align: right;\n",
       "    }\n",
       "</style>\n",
       "<table border=\"1\" class=\"dataframe\">\n",
       "  <thead>\n",
       "    <tr style=\"text-align: right;\">\n",
       "      <th></th>\n",
       "      <th>name</th>\n",
       "      <th>region</th>\n",
       "      <th>itemid_12</th>\n",
       "      <th>itemid_14</th>\n",
       "      <th>itemid_16</th>\n",
       "      <th>itemid_18</th>\n",
       "      <th>itemid_20</th>\n",
       "      <th>geometry</th>\n",
       "    </tr>\n",
       "  </thead>\n",
       "  <tbody>\n",
       "    <tr>\n",
       "      <th>0</th>\n",
       "      <td>conception point</td>\n",
       "      <td>dangermond</td>\n",
       "      <td>ca_m_3412037_nw_10_1_20120518_20120730</td>\n",
       "      <td>ca_m_3412037_nw_10_1_20140603_20141030</td>\n",
       "      <td>NA</td>\n",
       "      <td>ca_m_3412037_nw_10_060_20180913_20190208</td>\n",
       "      <td>ca_m_3412037_nw_10_060_20200607</td>\n",
       "      <td>POLYGON ((-120.47317 34.44646, -120.47317 34.4...</td>\n",
       "    </tr>\n",
       "    <tr>\n",
       "      <th>1</th>\n",
       "      <td>government point</td>\n",
       "      <td>dangermond</td>\n",
       "      <td>ca_m_3412037_nw_10_1_20120518_20120730</td>\n",
       "      <td>ca_m_3412037_nw_10_1_20140603_20141030</td>\n",
       "      <td>NA</td>\n",
       "      <td>ca_m_3412037_nw_10_060_20180913_20190208</td>\n",
       "      <td>ca_m_3412037_nw_10_060_20200607</td>\n",
       "      <td>POLYGON ((-120.46002 34.44189, -120.46002 34.4...</td>\n",
       "    </tr>\n",
       "    <tr>\n",
       "      <th>2</th>\n",
       "      <td>near dangermond test plots</td>\n",
       "      <td>dangermond</td>\n",
       "      <td>ca_m_3412037_nw_10_1_20120518_20120730</td>\n",
       "      <td>ca_m_3412037_nw_10_1_20140603_20141030</td>\n",
       "      <td>NA</td>\n",
       "      <td>ca_m_3412037_nw_10_060_20180913_20190208</td>\n",
       "      <td>ca_m_3412037_nw_10_060_20200607</td>\n",
       "      <td>POLYGON ((-120.47391 34.45923, -120.47391 34.4...</td>\n",
       "    </tr>\n",
       "    <tr>\n",
       "      <th>3</th>\n",
       "      <td>dangermond inland</td>\n",
       "      <td>dangermond</td>\n",
       "      <td>ca_m_3412037_nw_10_1_20120518_20120730</td>\n",
       "      <td>ca_m_3412037_nw_10_1_20140603_20141030</td>\n",
       "      <td>NA</td>\n",
       "      <td>ca_m_3412037_nw_10_060_20180913_20190208</td>\n",
       "      <td>ca_m_3412037_nw_10_060_20200607</td>\n",
       "      <td>POLYGON ((-120.45624 34.45427, -120.45624 34.4...</td>\n",
       "    </tr>\n",
       "    <tr>\n",
       "      <th>4</th>\n",
       "      <td>campus point</td>\n",
       "      <td>goleta</td>\n",
       "      <td>ca_m_3411934_sw_11_1_20120505_20120730</td>\n",
       "      <td>ca_m_3411934_sw_11_1_20140601_20141030</td>\n",
       "      <td>ca_m_3411934_sw_11_.6_20160713_20161004</td>\n",
       "      <td>ca_m_3411934_sw_11_060_20180722_20190209</td>\n",
       "      <td>ca_m_3411934_sw_11_060_20200521</td>\n",
       "      <td>POLYGON ((-119.85347 34.40287, -119.85347 34.4...</td>\n",
       "    </tr>\n",
       "    <tr>\n",
       "      <th>5</th>\n",
       "      <td>campus lagoon zoom</td>\n",
       "      <td>goleta</td>\n",
       "      <td>ca_m_3411934_sw_11_1_20120505_20120730</td>\n",
       "      <td>ca_m_3411934_sw_11_1_20140601_20141030</td>\n",
       "      <td>ca_m_3411934_sw_11_.6_20160713_20161004</td>\n",
       "      <td>ca_m_3411934_sw_11_060_20180722_20190209</td>\n",
       "      <td>ca_m_3411934_sw_11_060_20200521</td>\n",
       "      <td>POLYGON ((-119.85019 34.40848, -119.85019 34.4...</td>\n",
       "    </tr>\n",
       "    <tr>\n",
       "      <th>6</th>\n",
       "      <td>campus lagoon tree</td>\n",
       "      <td>goleta</td>\n",
       "      <td>ca_m_3411934_sw_11_1_20120505_20120730</td>\n",
       "      <td>ca_m_3411934_sw_11_1_20140601_20141030</td>\n",
       "      <td>ca_m_3411934_sw_11_.6_20160713_20161004</td>\n",
       "      <td>ca_m_3411934_sw_11_060_20180722_20190209</td>\n",
       "      <td>ca_m_3411934_sw_11_060_20200521</td>\n",
       "      <td>POLYGON ((-119.84943 34.40982, -119.84943 34.4...</td>\n",
       "    </tr>\n",
       "    <tr>\n",
       "      <th>7</th>\n",
       "      <td>shoreline park</td>\n",
       "      <td>santa barbara</td>\n",
       "      <td>NA</td>\n",
       "      <td>NA</td>\n",
       "      <td>NA</td>\n",
       "      <td>ca_m_3411935_sw_11_060_20180724_20190209</td>\n",
       "      <td>NA</td>\n",
       "      <td>POLYGON ((-119.71415 34.39310, -119.71415 34.3...</td>\n",
       "    </tr>\n",
       "  </tbody>\n",
       "</table>\n",
       "</div>"
      ],
      "text/plain": [
       "                         name         region  \\\n",
       "0            conception point     dangermond   \n",
       "1            government point     dangermond   \n",
       "2  near dangermond test plots     dangermond   \n",
       "3           dangermond inland     dangermond   \n",
       "4                campus point         goleta   \n",
       "5          campus lagoon zoom         goleta   \n",
       "6          campus lagoon tree         goleta   \n",
       "7              shoreline park  santa barbara   \n",
       "\n",
       "                                itemid_12  \\\n",
       "0  ca_m_3412037_nw_10_1_20120518_20120730   \n",
       "1  ca_m_3412037_nw_10_1_20120518_20120730   \n",
       "2  ca_m_3412037_nw_10_1_20120518_20120730   \n",
       "3  ca_m_3412037_nw_10_1_20120518_20120730   \n",
       "4  ca_m_3411934_sw_11_1_20120505_20120730   \n",
       "5  ca_m_3411934_sw_11_1_20120505_20120730   \n",
       "6  ca_m_3411934_sw_11_1_20120505_20120730   \n",
       "7                                      NA   \n",
       "\n",
       "                                itemid_14  \\\n",
       "0  ca_m_3412037_nw_10_1_20140603_20141030   \n",
       "1  ca_m_3412037_nw_10_1_20140603_20141030   \n",
       "2  ca_m_3412037_nw_10_1_20140603_20141030   \n",
       "3  ca_m_3412037_nw_10_1_20140603_20141030   \n",
       "4  ca_m_3411934_sw_11_1_20140601_20141030   \n",
       "5  ca_m_3411934_sw_11_1_20140601_20141030   \n",
       "6  ca_m_3411934_sw_11_1_20140601_20141030   \n",
       "7                                      NA   \n",
       "\n",
       "                                 itemid_16  \\\n",
       "0                                       NA   \n",
       "1                                       NA   \n",
       "2                                       NA   \n",
       "3                                       NA   \n",
       "4  ca_m_3411934_sw_11_.6_20160713_20161004   \n",
       "5  ca_m_3411934_sw_11_.6_20160713_20161004   \n",
       "6  ca_m_3411934_sw_11_.6_20160713_20161004   \n",
       "7                                       NA   \n",
       "\n",
       "                                  itemid_18                        itemid_20  \\\n",
       "0  ca_m_3412037_nw_10_060_20180913_20190208  ca_m_3412037_nw_10_060_20200607   \n",
       "1  ca_m_3412037_nw_10_060_20180913_20190208  ca_m_3412037_nw_10_060_20200607   \n",
       "2  ca_m_3412037_nw_10_060_20180913_20190208  ca_m_3412037_nw_10_060_20200607   \n",
       "3  ca_m_3412037_nw_10_060_20180913_20190208  ca_m_3412037_nw_10_060_20200607   \n",
       "4  ca_m_3411934_sw_11_060_20180722_20190209  ca_m_3411934_sw_11_060_20200521   \n",
       "5  ca_m_3411934_sw_11_060_20180722_20190209  ca_m_3411934_sw_11_060_20200521   \n",
       "6  ca_m_3411934_sw_11_060_20180722_20190209  ca_m_3411934_sw_11_060_20200521   \n",
       "7  ca_m_3411935_sw_11_060_20180724_20190209                               NA   \n",
       "\n",
       "                                            geometry  \n",
       "0  POLYGON ((-120.47317 34.44646, -120.47317 34.4...  \n",
       "1  POLYGON ((-120.46002 34.44189, -120.46002 34.4...  \n",
       "2  POLYGON ((-120.47391 34.45923, -120.47391 34.4...  \n",
       "3  POLYGON ((-120.45624 34.45427, -120.45624 34.4...  \n",
       "4  POLYGON ((-119.85347 34.40287, -119.85347 34.4...  \n",
       "5  POLYGON ((-119.85019 34.40848, -119.85019 34.4...  \n",
       "6  POLYGON ((-119.84943 34.40982, -119.84943 34.4...  \n",
       "7  POLYGON ((-119.71415 34.39310, -119.71415 34.3...  "
      ]
     },
     "execution_count": 6,
     "metadata": {},
     "output_type": "execute_result"
    }
   ],
   "source": [
    "aois = gpd.read_file(os.path.join(os.getcwd(),'areas_of_interest','areas_of_interest.shp'))\n",
    "aois"
   ]
  },
  {
   "cell_type": "code",
   "execution_count": 14,
   "id": "8f2f93fb-4e9a-4bcd-8aa5-4a8f504ffd57",
   "metadata": {},
   "outputs": [
    {
     "data": {
      "text/plain": [
       "shapely.geometry.polygon.Polygon"
      ]
     },
     "execution_count": 14,
     "metadata": {},
     "output_type": "execute_result"
    }
   ],
   "source": [
    "campus = aois.iloc[4] # Campus Lagoon aoi\n",
    "image = ipf.open_window_in_scene(campus.itemid_20, campus.geometry)"
   ]
  },
  {
   "cell_type": "markdown",
   "id": "be3c043e-4db8-4562-9163-02d3477edb09",
   "metadata": {},
   "source": [
    "# Pre-process for prediction: add features"
   ]
  },
  {
   "cell_type": "code",
   "execution_count": 18,
   "id": "6d277966-46d2-4eaf-a9bf-e494a2730d74",
   "metadata": {},
   "outputs": [
    {
     "data": {
      "text/html": [
       "<div>\n",
       "<style scoped>\n",
       "    .dataframe tbody tr th:only-of-type {\n",
       "        vertical-align: middle;\n",
       "    }\n",
       "\n",
       "    .dataframe tbody tr th {\n",
       "        vertical-align: top;\n",
       "    }\n",
       "\n",
       "    .dataframe thead th {\n",
       "        text-align: right;\n",
       "    }\n",
       "</style>\n",
       "<table border=\"1\" class=\"dataframe\">\n",
       "  <thead>\n",
       "    <tr style=\"text-align: right;\">\n",
       "      <th></th>\n",
       "      <th>r</th>\n",
       "      <th>g</th>\n",
       "      <th>b</th>\n",
       "      <th>nir</th>\n",
       "      <th>ndvi</th>\n",
       "      <th>year</th>\n",
       "      <th>month</th>\n",
       "      <th>day_in_year</th>\n",
       "    </tr>\n",
       "  </thead>\n",
       "  <tbody>\n",
       "    <tr>\n",
       "      <th>17</th>\n",
       "      <td>99</td>\n",
       "      <td>98</td>\n",
       "      <td>93</td>\n",
       "      <td>114</td>\n",
       "      <td>0.070423</td>\n",
       "      <td>2020</td>\n",
       "      <td>5</td>\n",
       "      <td>142</td>\n",
       "    </tr>\n",
       "    <tr>\n",
       "      <th>20</th>\n",
       "      <td>64</td>\n",
       "      <td>72</td>\n",
       "      <td>76</td>\n",
       "      <td>71</td>\n",
       "      <td>0.051852</td>\n",
       "      <td>2020</td>\n",
       "      <td>5</td>\n",
       "      <td>142</td>\n",
       "    </tr>\n",
       "    <tr>\n",
       "      <th>21</th>\n",
       "      <td>49</td>\n",
       "      <td>64</td>\n",
       "      <td>71</td>\n",
       "      <td>59</td>\n",
       "      <td>0.092593</td>\n",
       "      <td>2020</td>\n",
       "      <td>5</td>\n",
       "      <td>142</td>\n",
       "    </tr>\n",
       "  </tbody>\n",
       "</table>\n",
       "</div>"
      ],
      "text/plain": [
       "     r   g   b  nir      ndvi  year  month  day_in_year\n",
       "17  99  98  93  114  0.070423  2020      5          142\n",
       "20  64  72  76   71  0.051852  2020      5          142\n",
       "21  49  64  71   59  0.092593  2020      5          142"
      ]
     },
     "execution_count": 18,
     "metadata": {},
     "output_type": "execute_result"
    }
   ],
   "source": [
    "df = ipf.features_over_aoi(ipf.get_item_from_id(campus.itemid_20), \n",
    "                           image, \n",
    "                           thresh=0.05)\n",
    "df.head(3)"
   ]
  },
  {
   "cell_type": "code",
   "execution_count": null,
   "id": "c95aabb8-b53f-4603-907e-280abba8b6a4",
   "metadata": {},
   "outputs": [],
   "source": []
  },
  {
   "cell_type": "markdown",
   "id": "1142e000-2620-42c1-8c27-4f99dff0b86e",
   "metadata": {},
   "source": [
    "# Select NAIP scene and LIDAR year"
   ]
  },
  {
   "cell_type": "code",
   "execution_count": 5,
   "id": "2386e4f9-59da-4fb3-ad87-f647f20a0f9c",
   "metadata": {},
   "outputs": [],
   "source": [
    "campus_itemids = ['ca_m_3411934_sw_11_060_20200521',\n",
    "                  'ca_m_3411934_sw_11_060_20180722_20190209',\n",
    "                  'ca_m_3411934_sw_11_.6_20160713_20161004',\n",
    "                  'ca_m_3411934_sw_11_1_20140601_20141030',\n",
    "                  'ca_m_3411934_sw_11_1_20120505_20120730']"
   ]
  },
  {
   "cell_type": "code",
   "execution_count": 6,
   "id": "463cf6bd-29cc-4575-8d9f-792cd5dd5ecb",
   "metadata": {},
   "outputs": [],
   "source": [
    "# **************************************************************\n",
    "# ********* SPECIFY ITEMID AND LIDAR YEAR TO MATCH HERE ********\n",
    "\n",
    "itemid = campus_itemids[4] # NAIP scene over Conception Point\n",
    "year = 2012\n",
    "save_raster = True\n",
    "filename = 'SPECTRAL_campus_'+str(year)+'_probabilities.tif'\n",
    "\n",
    "# **************************************************************\n",
    "# **************************************************************"
   ]
  },
  {
   "cell_type": "code",
   "execution_count": 7,
   "id": "f8326f3f-cabe-40da-9dfa-098b6609d6d4",
   "metadata": {},
   "outputs": [
    {
     "name": "stdout",
     "output_type": "stream",
     "text": [
      "time to retrieve itemid:  0.16105866432189941\n"
     ]
    }
   ],
   "source": [
    "t0 = time.time()\n",
    "item = ipf.get_item_from_id(itemid)\n",
    "print('time to retrieve itemid: ', (time.time()-t0))"
   ]
  },
  {
   "cell_type": "code",
   "execution_count": 8,
   "id": "c46aea68-f6bd-4803-818e-ba319ad2a667",
   "metadata": {},
   "outputs": [],
   "source": [
    "shape = item.properties['proj:shape']"
   ]
  },
  {
   "cell_type": "code",
   "execution_count": 9,
   "id": "678eefb1-c1fd-4dc1-b879-5e758e7f4ca8",
   "metadata": {
    "tags": []
   },
   "outputs": [
    {
     "data": {
      "text/html": [
       "<div>\n",
       "<style scoped>\n",
       "    .dataframe tbody tr th:only-of-type {\n",
       "        vertical-align: middle;\n",
       "    }\n",
       "\n",
       "    .dataframe tbody tr th {\n",
       "        vertical-align: top;\n",
       "    }\n",
       "\n",
       "    .dataframe thead th {\n",
       "        text-align: right;\n",
       "    }\n",
       "</style>\n",
       "<table border=\"1\" class=\"dataframe\">\n",
       "  <thead>\n",
       "    <tr style=\"text-align: right;\">\n",
       "      <th></th>\n",
       "      <th>r</th>\n",
       "      <th>g</th>\n",
       "      <th>b</th>\n",
       "      <th>nir</th>\n",
       "      <th>ndvi</th>\n",
       "      <th>year</th>\n",
       "      <th>month</th>\n",
       "      <th>day_in_year</th>\n",
       "    </tr>\n",
       "  </thead>\n",
       "  <tbody>\n",
       "    <tr>\n",
       "      <th>209</th>\n",
       "      <td>132</td>\n",
       "      <td>128</td>\n",
       "      <td>126</td>\n",
       "      <td>175</td>\n",
       "      <td>0.140065</td>\n",
       "      <td>2012</td>\n",
       "      <td>5</td>\n",
       "      <td>126</td>\n",
       "    </tr>\n",
       "    <tr>\n",
       "      <th>210</th>\n",
       "      <td>125</td>\n",
       "      <td>127</td>\n",
       "      <td>124</td>\n",
       "      <td>182</td>\n",
       "      <td>0.185668</td>\n",
       "      <td>2012</td>\n",
       "      <td>5</td>\n",
       "      <td>126</td>\n",
       "    </tr>\n",
       "    <tr>\n",
       "      <th>211</th>\n",
       "      <td>127</td>\n",
       "      <td>133</td>\n",
       "      <td>120</td>\n",
       "      <td>181</td>\n",
       "      <td>0.175325</td>\n",
       "      <td>2012</td>\n",
       "      <td>5</td>\n",
       "      <td>126</td>\n",
       "    </tr>\n",
       "  </tbody>\n",
       "</table>\n",
       "</div>"
      ],
      "text/plain": [
       "       r    g    b  nir      ndvi  year  month  day_in_year\n",
       "209  132  128  126  175  0.140065  2012      5          126\n",
       "210  125  127  124  182  0.185668  2012      5          126\n",
       "211  127  133  120  181  0.175325  2012      5          126"
      ]
     },
     "execution_count": 9,
     "metadata": {},
     "output_type": "execute_result"
    }
   ],
   "source": [
    "df = ipf.features_over_aoi(item, \n",
    "                           ipf.get_raster_from_item(item).read([1,2,3,4]), \n",
    "                           thresh=0.05)\n",
    "df.head(3)"
   ]
  },
  {
   "cell_type": "code",
   "execution_count": 20,
   "id": "1f1b403e-1896-4f49-92d4-27d891077caf",
   "metadata": {},
   "outputs": [
    {
     "name": "stderr",
     "output_type": "stream",
     "text": [
      "/srv/conda/envs/notebook/lib/python3.8/site-packages/sklearn/base.py:450: UserWarning: X does not have valid feature names, but RandomForestClassifier was fitted with feature names\n",
      "  warnings.warn(\n"
     ]
    },
    {
     "data": {
      "text/plain": [
       "array([[1., 0.],\n",
       "       [1., 0.],\n",
       "       [1., 0.],\n",
       "       ...,\n",
       "       [1., 0.],\n",
       "       [1., 0.],\n",
       "       [1., 0.]])"
      ]
     },
     "execution_count": 20,
     "metadata": {},
     "output_type": "execute_result"
    }
   ],
   "source": [
    "scene_probs = rfc.predict_proba(df.to_numpy())\n",
    "scene_probs"
   ]
  },
  {
   "cell_type": "code",
   "execution_count": 21,
   "id": "4a6d977b-5417-4c89-a891-3bf5125c9cd9",
   "metadata": {},
   "outputs": [
    {
     "data": {
      "text/plain": [
       "numpy.ndarray"
      ]
     },
     "execution_count": 21,
     "metadata": {},
     "output_type": "execute_result"
    }
   ],
   "source": [
    "type(scene_probs)"
   ]
  },
  {
   "cell_type": "code",
   "execution_count": null,
   "id": "14b14f07-6d1e-416c-9478-1942d91b932d",
   "metadata": {},
   "outputs": [],
   "source": []
  },
  {
   "cell_type": "code",
   "execution_count": null,
   "id": "05f15cd7-f59b-422e-bfe0-f3dacb9b970b",
   "metadata": {},
   "outputs": [],
   "source": []
  }
 ],
 "metadata": {
  "kernelspec": {
   "display_name": "Python 3 (ipykernel)",
   "language": "python",
   "name": "python3"
  },
  "language_info": {
   "codemirror_mode": {
    "name": "ipython",
    "version": 3
   },
   "file_extension": ".py",
   "mimetype": "text/x-python",
   "name": "python",
   "nbconvert_exporter": "python",
   "pygments_lexer": "ipython3",
   "version": "3.8.13"
  }
 },
 "nbformat": 4,
 "nbformat_minor": 5
}
