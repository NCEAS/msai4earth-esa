{
 "cells": [
  {
   "cell_type": "code",
   "execution_count": 1,
   "id": "3432e46f-9fe0-4936-8c74-3424500f8b98",
   "metadata": {},
   "outputs": [],
   "source": [
    "import pandas as pd\n",
    "import geopandas as gpd\n",
    "import numpy as np\n",
    "import os\n",
    "import sample_rasters as sr"
   ]
  },
  {
   "cell_type": "code",
   "execution_count": 2,
   "id": "9ee487ee-72e6-43ee-b443-a9b2b0e61666",
   "metadata": {},
   "outputs": [],
   "source": [
    "aois = ['campus_lagoon','carpinteria','capitan','gaviota']\n",
    "\n",
    "n_polygons = []\n",
    "area_ice = []\n",
    "n_pixels = []\n",
    "\n",
    "for aoi in aois:\n",
    "\n",
    "    fp = os.path.join(os.getcwd(),\n",
    "                      'FINAL_iceplant_polygons',\n",
    "                      aoi+'_FINAL_iceplant_polygons',\n",
    "                      aoi+'_FINAL_iceplant_polygons'+'.shp')\n",
    "\n",
    "    df = gpd.read_file(fp)\n",
    "\n",
    "    n_polygons.append(len(df))\n",
    "\n",
    "    # convert to same crs as raster to properly calculate area of polygons\n",
    "    itemid = df.aoi[0]\n",
    "    crs = sr.get_crs_from_itemid(itemid)\n",
    "    df.to_crs(crs, inplace=True)\n",
    "    df['area'] = [poly.area for poly in df.geometry] # in m^2\n",
    "    \n",
    "    area_ice.append(sum(df.loc[df['iceplant']==1].area))    \n",
    "    \n",
    "    # get area of a single pixel from raster resolution  \n",
    "    item = sr.get_item_from_id(itemid)\n",
    "    rast_reader = sr.get_raster_from_item(item)\n",
    "    pixel_size = rast_reader.res[0]*rast_reader.res[1]\n",
    "    \n",
    "    pixels_in_polys = df.geometry.apply(lambda p: int((p.area/pixel_size))).to_numpy()\n",
    "    n_pixels.append(sum(pixels_in_polys))\n",
    "\n"
   ]
  },
  {
   "cell_type": "code",
   "execution_count": 6,
   "id": "5640e021-e06d-48e6-b158-f3d396535189",
   "metadata": {},
   "outputs": [
    {
     "data": {
      "text/html": [
       "<div>\n",
       "<style scoped>\n",
       "    .dataframe tbody tr th:only-of-type {\n",
       "        vertical-align: middle;\n",
       "    }\n",
       "\n",
       "    .dataframe tbody tr th {\n",
       "        vertical-align: top;\n",
       "    }\n",
       "\n",
       "    .dataframe thead th {\n",
       "        text-align: right;\n",
       "    }\n",
       "</style>\n",
       "<table border=\"1\" class=\"dataframe\">\n",
       "  <thead>\n",
       "    <tr style=\"text-align: right;\">\n",
       "      <th></th>\n",
       "      <th>aoi</th>\n",
       "      <th>n_polys</th>\n",
       "      <th>ice_area_m2</th>\n",
       "      <th>ice_pixels</th>\n",
       "    </tr>\n",
       "  </thead>\n",
       "  <tbody>\n",
       "    <tr>\n",
       "      <th>0</th>\n",
       "      <td>campus_lagoon</td>\n",
       "      <td>102</td>\n",
       "      <td>15114.882469</td>\n",
       "      <td>41932</td>\n",
       "    </tr>\n",
       "    <tr>\n",
       "      <th>1</th>\n",
       "      <td>carpinteria</td>\n",
       "      <td>129</td>\n",
       "      <td>16770.546530</td>\n",
       "      <td>46521</td>\n",
       "    </tr>\n",
       "    <tr>\n",
       "      <th>2</th>\n",
       "      <td>capitan</td>\n",
       "      <td>36</td>\n",
       "      <td>7783.302426</td>\n",
       "      <td>21603</td>\n",
       "    </tr>\n",
       "    <tr>\n",
       "      <th>3</th>\n",
       "      <td>gaviota</td>\n",
       "      <td>28</td>\n",
       "      <td>2043.185018</td>\n",
       "      <td>5662</td>\n",
       "    </tr>\n",
       "  </tbody>\n",
       "</table>\n",
       "</div>"
      ],
      "text/plain": [
       "             aoi  n_polys   ice_area_m2  ice_pixels\n",
       "0  campus_lagoon      102  15114.882469       41932\n",
       "1    carpinteria      129  16770.546530       46521\n",
       "2        capitan       36   7783.302426       21603\n",
       "3        gaviota       28   2043.185018        5662"
      ]
     },
     "execution_count": 6,
     "metadata": {},
     "output_type": "execute_result"
    }
   ],
   "source": [
    "D = { \n",
    "    'aoi': aois, \n",
    "    'n_polys' : n_polygons,\n",
    "    'ice_area_m2' : area_ice,\n",
    "    'ice_pixels': n_pixels\n",
    "    }\n",
    "df_all_polys = pd.DataFrame(D)\n",
    "df_all_polys"
   ]
  },
  {
   "cell_type": "code",
   "execution_count": 7,
   "id": "12502ae0-353c-4c16-92ae-d7572c0c999c",
   "metadata": {
    "tags": []
   },
   "outputs": [
    {
     "data": {
      "text/plain": [
       "115718"
      ]
     },
     "execution_count": 7,
     "metadata": {},
     "output_type": "execute_result"
    }
   ],
   "source": [
    "df_all_polys.ice_pixels.sum()"
   ]
  },
  {
   "cell_type": "code",
   "execution_count": 8,
   "id": "17e4931e-ac8a-4f98-bd81-1ea82b342b56",
   "metadata": {},
   "outputs": [
    {
     "data": {
      "text/plain": [
       "295"
      ]
     },
     "execution_count": 8,
     "metadata": {},
     "output_type": "execute_result"
    }
   ],
   "source": [
    "df_all_polys.n_polys.sum()"
   ]
  },
  {
   "cell_type": "code",
   "execution_count": null,
   "id": "d65ceaf8-c32c-4590-bed2-81dcc2207b65",
   "metadata": {},
   "outputs": [],
   "source": [
    "sum(df_all_polys.ice_area_m2)/10**6"
   ]
  },
  {
   "cell_type": "code",
   "execution_count": null,
   "id": "99ea4a87-d050-4b7a-9cfc-7a2ceab46bdf",
   "metadata": {},
   "outputs": [],
   "source": []
  }
 ],
 "metadata": {
  "kernelspec": {
   "display_name": "Python 3 (ipykernel)",
   "language": "python",
   "name": "python3"
  },
  "language_info": {
   "codemirror_mode": {
    "name": "ipython",
    "version": 3
   },
   "file_extension": ".py",
   "mimetype": "text/x-python",
   "name": "python",
   "nbconvert_exporter": "python",
   "pygments_lexer": "ipython3",
   "version": "3.10.10"
  }
 },
 "nbformat": 4,
 "nbformat_minor": 5
}
