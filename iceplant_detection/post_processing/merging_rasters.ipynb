{
 "cells": [
  {
   "cell_type": "code",
   "execution_count": 1,
   "metadata": {},
   "outputs": [],
   "source": [
    "# following\n",
    "# https://www.neonscience.org/resources/learning-hub/tutorials/merge-lidar-geotiff-py\n",
    "\n",
    "import os\n",
    "from osgeo import gdal"
   ]
  },
  {
   "cell_type": "code",
   "execution_count": 2,
   "metadata": {},
   "outputs": [],
   "source": [
    "year = 2012"
   ]
  },
  {
   "cell_type": "code",
   "execution_count": 3,
   "metadata": {},
   "outputs": [],
   "source": [
    "def make_command(out_file, in_files):\n",
    "    return 'gdal_merge.py -ot Int16 -of GTiff -a_nodata 100 ' + '-o ' + out_file + ' ' + in_files"
   ]
  },
  {
   "cell_type": "code",
   "execution_count": 4,
   "metadata": {},
   "outputs": [],
   "source": [
    "root = os.path.join(os.getcwd(),\n",
    "                        'S_clip_preds',\n",
    "                        'S_clip_preds_'+str(year))"
   ]
  },
  {
   "cell_type": "code",
   "execution_count": 5,
   "metadata": {},
   "outputs": [
    {
     "name": "stdout",
     "output_type": "stream",
     "text": [
      "0...10...20...30...40...50...60...70...80...90...100 - done.\n",
      "\n"
     ]
    }
   ],
   "source": [
    "# merge crs26911 scenes\n",
    "out_file = os.path.join(root,\n",
    "                        'merged_crs26911_'+str(year)+'.tif')\n",
    "\n",
    "in_files = os.path.join(root,\n",
    "                        'crs_26911',\n",
    "                        '*.tif')\n",
    "\n",
    "command = make_command(out_file, in_files)\n",
    "print(os.popen(command).read())"
   ]
  },
  {
   "cell_type": "code",
   "execution_count": 6,
   "metadata": {},
   "outputs": [
    {
     "name": "stdout",
     "output_type": "stream",
     "text": [
      "0...10...20...30...40...50...60...70...80...90...100 - done.\n",
      "\n"
     ]
    }
   ],
   "source": [
    "# merge crs26910 South scenes\n",
    "out_file = os.path.join(root,\n",
    "                        'merged_crs26910_S_'+str(year)+'.tif')\n",
    "\n",
    "in_files = os.path.join(root,\n",
    "                        'crs_26910',\n",
    "                        'south_coast',\n",
    "                        '*.tif')\n",
    "\n",
    "command = make_command(out_file, in_files)\n",
    "print(os.popen(command).read())"
   ]
  },
  {
   "cell_type": "code",
   "execution_count": 7,
   "metadata": {},
   "outputs": [
    {
     "name": "stdout",
     "output_type": "stream",
     "text": [
      "0...10...20...30...40...50...60...70...80...90...100 - done.\n",
      "\n"
     ]
    }
   ],
   "source": [
    "# merge crs26910 West scenes\n",
    "out_file = os.path.join(root,\n",
    "                        'merged_crs26910_W_'+str(year)+'.tif')\n",
    "\n",
    "in_files = os.path.join(root,\n",
    "                        'crs_26910',\n",
    "                        'west_coast',\n",
    "                        '*.tif')\n",
    "\n",
    "command = make_command(out_file, in_files)\n",
    "print(os.popen(command).read())"
   ]
  },
  {
   "cell_type": "code",
   "execution_count": null,
   "metadata": {},
   "outputs": [],
   "source": []
  }
 ],
 "metadata": {
  "kernelspec": {
   "display_name": "Python 3",
   "language": "python",
   "name": "python3"
  },
  "language_info": {
   "codemirror_mode": {
    "name": "ipython",
    "version": 3
   },
   "file_extension": ".py",
   "mimetype": "text/x-python",
   "name": "python",
   "nbconvert_exporter": "python",
   "pygments_lexer": "ipython3",
   "version": "3.8.10"
  }
 },
 "nbformat": 4,
 "nbformat_minor": 4
}
