{
 "cells": [
  {
   "cell_type": "code",
   "execution_count": 1,
   "metadata": {},
   "outputs": [],
   "source": [
    "import rioxarray as rioxr\n",
    "import os\n",
    "import numpy as np\n",
    "\n",
    "from rasterio.crs import CRS\n",
    "import geopandas as gpd\n",
    "\n",
    "from shapely.geometry import box"
   ]
  },
  {
   "cell_type": "code",
   "execution_count": 2,
   "metadata": {},
   "outputs": [],
   "source": [
    "# the two CRS that the NAIP scenes have\n",
    "crs11 = CRS.from_epsg(26911)\n",
    "crs10 = CRS.from_epsg(26910)"
   ]
  },
  {
   "cell_type": "code",
   "execution_count": 9,
   "metadata": {},
   "outputs": [],
   "source": [
    "year = 2012"
   ]
  },
  {
   "cell_type": "code",
   "execution_count": 10,
   "metadata": {},
   "outputs": [],
   "source": [
    "# directory where the NAIP classifications are\n",
    "dirp = os.path.join(os.getcwd(),\n",
    "                   'S_clip_preds',\n",
    "                    'S_clip_preds_' + str(year))\n",
    "\n",
    "# list of files in that directory\n",
    "tifs = os.listdir(dirp)\n",
    "\n",
    "# directories for scenes with crs= epsg(26911) and rs= epsg(26910)\n",
    "fp_11 = os.path.join(dirp, 'crs_26911')\n",
    "fp_10 = os.path.join(dirp, 'crs_26910')\n",
    "\n",
    "# make directories\n",
    "os.mkdir(fp_10)\n",
    "os.mkdir(fp_11)\n",
    "\n",
    "# **********************************************************\n",
    "# move files to directories according to their CRS\n",
    "for tif in tifs:\n",
    "    fp = os.path.join(dirp, tif)\n",
    "    \n",
    "    if rioxr.open_rasterio(fp).rio.crs == crs11:\n",
    "        newfp = os.path.join(fp_11, tif)\n",
    "    if rioxr.open_rasterio(fp).rio.crs == crs10:\n",
    "        newfp = os.path.join(fp_10, tif)\n",
    "        \n",
    "    os.rename(fp, newfp)\n",
    "    \n",
    "# **********************************************************\n",
    "# SPLIT crs26910 into south and west coast\n",
    "\n",
    "# list of files in crs10 folder\n",
    "tifs = os.listdir(fp_10)\n",
    "\n",
    "# directories for scenes in west and south coasts\n",
    "fp_w = os.path.join(fp_10, 'west_coast')\n",
    "fp_s = os.path.join(fp_10, 'south_coast')\n",
    "\n",
    "# make directories\n",
    "os.mkdir(fp_w)\n",
    "os.mkdir(fp_s)\n",
    "\n",
    "# open bounding box of SB county west coast and match crs\n",
    "wcoast = gpd.read_file(os.path.join(os.getcwd(),'sb_west_coast','sb_west_coast.shp')).to_crs(crs10)\n",
    "\n",
    "# move files to directories according to their coast location\n",
    "for tif in tifs:\n",
    "    \n",
    "    fp = os.path.join(fp_10, tif)\n",
    "    x = rioxr.open_rasterio(fp)\n",
    "    bbox = box(*x.rio.bounds())\n",
    "    \n",
    "    if bbox.intersects(wcoast.geometry[0]):\n",
    "        newfp = os.path.join(fp_w, tif)\n",
    "    else:\n",
    "        newfp = os.path.join(fp_s, tif)\n",
    "        \n",
    "    os.rename(fp, newfp)"
   ]
  },
  {
   "cell_type": "code",
   "execution_count": null,
   "metadata": {},
   "outputs": [],
   "source": []
  }
 ],
 "metadata": {
  "kernelspec": {
   "display_name": "Python 3",
   "language": "python",
   "name": "python3"
  },
  "language_info": {
   "codemirror_mode": {
    "name": "ipython",
    "version": 3
   },
   "file_extension": ".py",
   "mimetype": "text/x-python",
   "name": "python",
   "nbconvert_exporter": "python",
   "pygments_lexer": "ipython3",
   "version": "3.8.10"
  }
 },
 "nbformat": 4,
 "nbformat_minor": 4
}
