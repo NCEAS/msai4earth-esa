{
 "cells": [
  {
   "cell_type": "code",
   "execution_count": 1,
   "metadata": {},
   "outputs": [],
   "source": [
    "import rioxarray as rioxr\n",
    "import rasterio\n",
    "import geopandas as gpd\n",
    "import os\n",
    "\n",
    "from shapely.geometry import box"
   ]
  },
  {
   "cell_type": "code",
   "execution_count": 2,
   "metadata": {},
   "outputs": [],
   "source": [
    "year = 2012"
   ]
  },
  {
   "cell_type": "code",
   "execution_count": 3,
   "metadata": {},
   "outputs": [],
   "source": [
    "# file paths to rasters\n",
    "root = os.path.join(os.getcwd(),\n",
    "                        'S_clip_preds',\n",
    "                        'S_clip_preds_'+str(year))\n",
    "\n",
    "s_fp = os.path.join(root, 'merged_crs26910_S_' + str(year) + '.tif')\n",
    "w_fp = os.path.join(root, 'merged_crs26910_W_' + str(year) + '.tif') \n",
    "r_fp = os.path.join(root, 'merged_crs26911_' + str(year) + '.tif')"
   ]
  },
  {
   "cell_type": "code",
   "execution_count": 4,
   "metadata": {},
   "outputs": [],
   "source": [
    "# open crs26910 south raster and bounding box\n",
    "s_raster = rioxr.open_rasterio(s_fp).squeeze()\n",
    "s_bbox = box(*s_raster.rio.bounds())\n",
    "\n",
    "# ------------- CLIP crs26910 W raster ----------\n",
    "w_raster = rioxr.open_rasterio(w_fp).squeeze()\n",
    "w_bbox = box(*w_raster.rio.bounds())\n",
    "\n",
    "if (s_bbox.intersects(w_bbox)):\n",
    "    new_bbox = w_bbox.difference(s_bbox)\n",
    "    clipped_raster = w_raster.rio.clip([new_bbox]).squeeze()\n",
    "\n",
    "    # save clipped raster\n",
    "    with rasterio.open(\n",
    "                os.path.join(root, 'merged_crs26910_W_' + str(year) + '_clip.tif'),  # file path\n",
    "                'w',           # w = write\n",
    "                driver = 'GTiff', # format\n",
    "                height = clipped_raster.shape[0], \n",
    "                width = clipped_raster.shape[1],\n",
    "                count = 1,  # number of raster bands in the dataset\n",
    "                dtype = rasterio.uint8,\n",
    "                crs = clipped_raster.rio.crs,\n",
    "                transform = clipped_raster.rio.transform(),\n",
    "            ) as dst:\n",
    "                dst.write(clipped_raster.astype(rasterio.uint8), 1)\n",
    "    os.remove(w_fp)"
   ]
  },
  {
   "cell_type": "code",
   "execution_count": 5,
   "metadata": {},
   "outputs": [],
   "source": [
    "# ------------- CLIP crs26911 raster ----------\n",
    "# open crs26911 raster and bouding box\n",
    "r_raster = rioxr.open_rasterio(r_fp).squeeze()\n",
    "r_bbox = box(*r_raster.rio.bounds())\n",
    "\n",
    "# match crs of bounding boxes\n",
    "s_gdf = gpd.GeoDataFrame({'geometry': [s_bbox]}, crs= s_raster.rio.crs )\n",
    "s_gdf = s_gdf.to_crs(r_raster.rio.crs)\n",
    "s_bbox = s_gdf.geometry[0]\n",
    "\n",
    "if (s_bbox.intersects(r_bbox)):\n",
    "    # take difference of r_bbox and s_bbox\n",
    "    new_bbox = r_bbox.difference(s_bbox)\n",
    "\n",
    "    # clip crs26911 raster\n",
    "    clipped_raster = r_raster.rio.clip([new_bbox]).squeeze()\n",
    "\n",
    "    # save clipped raster\n",
    "    with rasterio.open(\n",
    "                os.path.join(root, 'merged_crs26911_' + str(year) + '_clip.tif'),  # file path\n",
    "                'w',           # w = write\n",
    "                driver = 'GTiff', # format\n",
    "                height = clipped_raster.shape[0], \n",
    "                width = clipped_raster.shape[1],\n",
    "                count = 1,  # number of raster bands in the dataset\n",
    "                dtype = rasterio.uint8,\n",
    "                crs = clipped_raster.rio.crs,\n",
    "                transform = clipped_raster.rio.transform(),\n",
    "            ) as dst:\n",
    "                dst.write(clipped_raster.astype(rasterio.uint8), 1)\n",
    "    os.remove(r_fp)"
   ]
  },
  {
   "cell_type": "code",
   "execution_count": null,
   "metadata": {},
   "outputs": [],
   "source": []
  }
 ],
 "metadata": {
  "kernelspec": {
   "display_name": "Python 3",
   "language": "python",
   "name": "python3"
  },
  "language_info": {
   "codemirror_mode": {
    "name": "ipython",
    "version": 3
   },
   "file_extension": ".py",
   "mimetype": "text/x-python",
   "name": "python",
   "nbconvert_exporter": "python",
   "pygments_lexer": "ipython3",
   "version": "3.8.10"
  }
 },
 "nbformat": 4,
 "nbformat_minor": 4
}
