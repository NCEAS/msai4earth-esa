{
 "cells": [
  {
   "cell_type": "code",
   "execution_count": 1,
   "id": "74936454-4a69-4838-809f-2bce3d5b840e",
   "metadata": {},
   "outputs": [],
   "source": [
    "import numpy as np\n",
    "import os\n",
    "import rioxarray as rioxr\n",
    "from random import sample\n",
    "\n",
    "from shapely.geometry import Point \n",
    "import geopandas as gpd\n",
    "\n",
    "from rasterio.crs import CRS\n",
    "\n",
    "import pandas as pd"
   ]
  },
  {
   "cell_type": "code",
   "execution_count": 2,
   "id": "265b0f69-90b8-40c4-829e-a7ec2b7cdb80",
   "metadata": {},
   "outputs": [],
   "source": [
    "# Load raster\n",
    "year = 2020\n",
    "\n",
    "root = '/home/jovyan/msai4earth-esa/iceplant_detection/temp/' + os.path.join('LS_filter_clip_preds_' + str(year))\n",
    "\n",
    "fp = os.path.join(root, 'LS_merged_crs26910_S_'+str(year)+'.tif')\n",
    "r_26910_S = rioxr.open_rasterio(fp).squeeze()\n",
    "\n",
    "fp = os.path.join(root, 'LS_merged_crs26910_W_'+str(year)+'.tif')\n",
    "r_26910_W = rioxr.open_rasterio(fp).squeeze()\n",
    "\n",
    "fp = os.path.join(root, 'LS_merged_crs26911_'+str(year)+'_clip.tif')\n",
    "r_26911 = rioxr.open_rasterio(fp).squeeze()\n",
    "\n",
    "rasters = [r_26910_S, r_26910_W, r_26911]"
   ]
  },
  {
   "cell_type": "code",
   "execution_count": 3,
   "id": "28413bf6-bcd1-49e9-96c4-66c73caa5054",
   "metadata": {},
   "outputs": [
    {
     "data": {
      "text/html": [
       "<div>\n",
       "<style scoped>\n",
       "    .dataframe tbody tr th:only-of-type {\n",
       "        vertical-align: middle;\n",
       "    }\n",
       "\n",
       "    .dataframe tbody tr th {\n",
       "        vertical-align: top;\n",
       "    }\n",
       "\n",
       "    .dataframe thead th {\n",
       "        text-align: right;\n",
       "    }\n",
       "</style>\n",
       "<table border=\"1\" class=\"dataframe\">\n",
       "  <thead>\n",
       "    <tr style=\"text-align: right;\">\n",
       "      <th></th>\n",
       "      <th>n_nonice_20</th>\n",
       "      <th>n_ice_20</th>\n",
       "      <th>n_ground_20</th>\n",
       "      <th>n_water_20</th>\n",
       "      <th>raster</th>\n",
       "    </tr>\n",
       "  </thead>\n",
       "  <tbody>\n",
       "    <tr>\n",
       "      <th>0</th>\n",
       "      <td>33222542</td>\n",
       "      <td>9359285</td>\n",
       "      <td>113802445</td>\n",
       "      <td>126328228</td>\n",
       "      <td>LS_merged_crs26910_S_2020</td>\n",
       "    </tr>\n",
       "    <tr>\n",
       "      <th>1</th>\n",
       "      <td>1005498</td>\n",
       "      <td>626950</td>\n",
       "      <td>3058661</td>\n",
       "      <td>6139494</td>\n",
       "      <td>LS_merged_crs26910_W_2020</td>\n",
       "    </tr>\n",
       "    <tr>\n",
       "      <th>2</th>\n",
       "      <td>89606257</td>\n",
       "      <td>2915223</td>\n",
       "      <td>63428879</td>\n",
       "      <td>138290707</td>\n",
       "      <td>LS_merged_crs26911_2020_clip</td>\n",
       "    </tr>\n",
       "  </tbody>\n",
       "</table>\n",
       "</div>"
      ],
      "text/plain": [
       "   n_nonice_20  n_ice_20  n_ground_20  n_water_20  \\\n",
       "0     33222542   9359285    113802445   126328228   \n",
       "1      1005498    626950      3058661     6139494   \n",
       "2     89606257   2915223     63428879   138290707   \n",
       "\n",
       "                         raster  \n",
       "0     LS_merged_crs26910_S_2020  \n",
       "1     LS_merged_crs26910_W_2020  \n",
       "2  LS_merged_crs26911_2020_clip  "
      ]
     },
     "execution_count": 3,
     "metadata": {},
     "output_type": "execute_result"
    }
   ],
   "source": [
    "pixel_count = pd.read_csv(os.path.join(os.getcwd(), 'rasters_2020_pixel_counts.csv'))\n",
    "pixel_count"
   ]
  },
  {
   "cell_type": "code",
   "execution_count": null,
   "id": "3ece71e1-dfaf-4cf7-9db9-3ee6ea0cdf63",
   "metadata": {},
   "outputs": [],
   "source": [
    "# STRATIFIED RANDOM SAMPLING\n",
    "cats = [0, 1, 2, 3]\n",
    "n_samples = [87, 87, 91, 135]\n",
    "points = []\n",
    "classes = []\n",
    "which_raster = []\n",
    "\n",
    "for c in range(0, len(cats)):\n",
    "    \n",
    "    # pixels in each raster from specified class\n",
    "    n1 = list(pixel_count.iloc[:,c])[0]\n",
    "    n2 = list(pixel_count.iloc[:,c])[1]\n",
    "    n3 = list(pixel_count.iloc[:,c])[2]\n",
    "    s = n1 + n2 + n3\n",
    "     \n",
    "    # randomly specify number of samples per raster\n",
    "    dist = np.random.choice([0,1,2], size=n_samples[c], p=[n1/s, n2/s, n3/s])\n",
    "    for i in range(0,3):\n",
    "        n_samp_per_raster = len(np.where(dist == i)[0])\n",
    "\n",
    "        if n_samp_per_raster != 0:\n",
    "\n",
    "            raster = rasters[i]\n",
    "\n",
    "            # arrays with indices where condition is True\n",
    "            cat_raster = np.where(raster == cats[c])\n",
    "\n",
    "            # sample random (y,x) pairs from list\n",
    "            indices = sample(list(zip(cat_raster[0], cat_raster[1])), n_samp_per_raster)\n",
    "\n",
    "            # unzip into y and x coordinates\n",
    "            y, x = list(zip(*indices))\n",
    "\n",
    "            # x and y coordinates in raster CRS corresponding to sampled points\n",
    "            x_coord = raster.x[np.asarray(x)]\n",
    "            y_coord = raster.y[np.asarray(y)]\n",
    "\n",
    "            # make points \n",
    "            points = points + [Point(m,n) for m,n in zip(x_coord, y_coord)]\n",
    "            \n",
    "            which_raster = which_raster + [i]*n_samp_per_raster\n",
    "\n",
    "    classes = classes + [cats[c]]*n_samples[c]"
   ]
  },
  {
   "cell_type": "code",
   "execution_count": null,
   "id": "9980bb91-66c2-4743-8a94-3a23f079f3ad",
   "metadata": {},
   "outputs": [],
   "source": [
    "points_df = gpd.GeoDataFrame({'geometry': points,\n",
    "                              'class' : classes,\n",
    "                             'which_raster' : which_raster},\n",
    "                             crs = raster.rio.crs)\n",
    "\n",
    "points_df = points_df.to_crs(CRS.from_epsg(4326))  # change to lat/lon crs\n",
    "\n",
    "points_df['LON'] = points_df.geometry.x\n",
    "points_df['LAT'] = points_df.geometry.y\n",
    "\n",
    "points_df = points_df.drop(['geometry'], axis=1)"
   ]
  },
  {
   "cell_type": "code",
   "execution_count": null,
   "id": "76e968fc-7132-44d8-8fe0-d8c23c0e916a",
   "metadata": {},
   "outputs": [],
   "source": [
    "points_df"
   ]
  },
  {
   "cell_type": "code",
   "execution_count": null,
   "id": "fc5e5a50-22d2-4751-acb8-4ef90bd80066",
   "metadata": {},
   "outputs": [],
   "source": [
    "points_df.to_csv('tiny_sample.csv', index_label='PLOTID')"
   ]
  },
  {
   "cell_type": "code",
   "execution_count": null,
   "id": "9e56a36b-2ca9-47db-ab86-33b2eccb1d78",
   "metadata": {},
   "outputs": [],
   "source": [
    "[n1/s, n2/s, n3/s]"
   ]
  },
  {
   "cell_type": "code",
   "execution_count": null,
   "id": "2850ba1b-fbea-440f-a725-476b37015a59",
   "metadata": {},
   "outputs": [],
   "source": []
  }
 ],
 "metadata": {
  "kernelspec": {
   "display_name": "Python 3 (ipykernel)",
   "language": "python",
   "name": "python3"
  },
  "language_info": {
   "codemirror_mode": {
    "name": "ipython",
    "version": 3
   },
   "file_extension": ".py",
   "mimetype": "text/x-python",
   "name": "python",
   "nbconvert_exporter": "python",
   "pygments_lexer": "ipython3",
   "version": "3.10.6"
  }
 },
 "nbformat": 4,
 "nbformat_minor": 5
}
