{
 "cells": [
  {
   "cell_type": "code",
   "execution_count": null,
   "id": "49807a07-64cf-4a78-b3df-143806fa04d4",
   "metadata": {},
   "outputs": [],
   "source": [
    "import os\n",
    "import pandas as pd\n",
    "import geopandas as gpd\n",
    "\n",
    "import rasterio\n",
    "\n",
    "import pystac_client\n",
    "import planetary_computer as pc\n",
    "\n",
    "import lidar_sampling_functions as lsf"
   ]
  },
  {
   "cell_type": "code",
   "execution_count": null,
   "id": "d8a92f7a-d841-47d5-8f8c-4f5a458e4c3d",
   "metadata": {},
   "outputs": [],
   "source": [
    "# accesing Azure storage using pystac client\n",
    "URL = \"https://planetarycomputer.microsoft.com/api/stac/v1\"\n",
    "catalog = pystac_client.Client.open(URL)\n",
    "\n",
    "#campus point 2018 naip scene\n",
    "itemid = 'ca_m_3411934_sw_11_060_20180722_20190209'\n",
    "search = catalog.search(\n",
    "    collections=[\"naip\"],\n",
    "    ids = itemid\n",
    ")\n",
    "item = list(search.get_items())[0]\n",
    "# sign and open item\n",
    "href = pc.sign(item.assets[\"image\"].href)\n",
    "ds = rasterio.open(href)\n",
    "ds.crs"
   ]
  },
  {
   "cell_type": "code",
   "execution_count": null,
   "id": "28f2a512-3b76-41af-ae35-14cf69cc776f",
   "metadata": {},
   "outputs": [],
   "source": [
    "fp = '/home/jovyan/msai4earth-esa/iceplant_detection/data_sampling/points_from_naip_images/campus_lagoon_points/campus_lagoon_points_2018.csv'\n",
    "pts = lsf.geodataframe_from_csv(fp, ds.crs)"
   ]
  },
  {
   "cell_type": "code",
   "execution_count": null,
   "id": "fbe10fa5-c8da-47c9-8014-80f39d4042fc",
   "metadata": {},
   "outputs": [],
   "source": [
    "pts.head(3)"
   ]
  },
  {
   "cell_type": "code",
   "execution_count": null,
   "id": "7a32baec-33c9-477b-8f05-049b8256f037",
   "metadata": {},
   "outputs": [],
   "source": [
    "fp = os.path.join(os.getcwd(),'3mlidar_over_campuspoint_naip_scene.tif')\n",
    "lidar_rast_r = rasterio.open(fp)"
   ]
  },
  {
   "cell_type": "code",
   "execution_count": null,
   "id": "fc2cbc54-8d12-4e17-a9de-975767a10734",
   "metadata": {},
   "outputs": [],
   "source": [
    "# lsf.save_min_max_diff_rasters(lidar_rast_r, os.getcwd())\n",
    "lsf.save_avg_rasters(lidar_rast_r, os.getcwd())"
   ]
  },
  {
   "cell_type": "code",
   "execution_count": null,
   "id": "28b0908e-929a-4e88-9355-09bc977faedb",
   "metadata": {},
   "outputs": [],
   "source": [
    "pts_xy = lsf.pts_for_lidar_sampling(pts, lidar_rast_r.crs)"
   ]
  },
  {
   "cell_type": "code",
   "execution_count": null,
   "id": "2b552549-e9d7-4cf2-b0ea-4b557010ab39",
   "metadata": {},
   "outputs": [],
   "source": [
    "lidar_samples = lsf.sample_raster(pts_xy, lidar_rast_r)"
   ]
  },
  {
   "cell_type": "code",
   "execution_count": null,
   "id": "9c6c4fce-9586-4b0d-a756-9e374cc12b51",
   "metadata": {},
   "outputs": [],
   "source": [
    "fp = os.path.join(os.getcwd(),'lidar_maxs.tif')\n",
    "maxs_rast_r = rasterio.open(fp)\n",
    "max_samples = lsf.sample_raster(pts_xy, maxs_rast_r)"
   ]
  },
  {
   "cell_type": "code",
   "execution_count": null,
   "id": "4dfecea6-65be-4734-b773-d6a739d05f1b",
   "metadata": {},
   "outputs": [],
   "source": [
    "fp = os.path.join(os.getcwd(),'lidar_mins.tif')\n",
    "mins_rast_r = rasterio.open(fp)\n",
    "min_samples = lsf.sample_raster(pts_xy, mins_rast_r)"
   ]
  },
  {
   "cell_type": "code",
   "execution_count": null,
   "id": "519ddbe1-3b9d-47af-b0ed-262a05dcf3dd",
   "metadata": {},
   "outputs": [],
   "source": [
    "fp = os.path.join(os.getcwd(),'lidar_avgs.tif')\n",
    "avg_rast_r = rasterio.open(fp)\n",
    "avg_samples = lsf.sample_raster(pts_xy, avg_rast_r)"
   ]
  },
  {
   "cell_type": "code",
   "execution_count": null,
   "id": "8e55df51-a4b8-478d-a9cc-f7ffcac7adbf",
   "metadata": {},
   "outputs": [],
   "source": [
    "pts['lidar'] = lidar_samples\n",
    "pts['max_lidar_w']= max_samples\n",
    "pts['min_lidar_w'] = min_samples\n",
    "pts['min_max_diff'] = pts.max_lidar_w - pts.min_lidar_w\n",
    "pts['avg_lidar_w'] = avg_samples\n"
   ]
  },
  {
   "cell_type": "code",
   "execution_count": null,
   "id": "a65e4cca-ab42-44d5-9d2e-98637c168dbd",
   "metadata": {},
   "outputs": [],
   "source": [
    "pts.head(3)"
   ]
  },
  {
   "cell_type": "markdown",
   "id": "533ee677-effe-4fef-ae55-a97b3e5491f0",
   "metadata": {},
   "source": [
    "## Some stats"
   ]
  },
  {
   "cell_type": "code",
   "execution_count": null,
   "id": "b652473b-59c9-4097-8918-30d4d4f45ebb",
   "metadata": {},
   "outputs": [],
   "source": [
    "ice = pts.loc[pts.iceplant==1]\n",
    "nonice = pts.loc[pts.iceplant==0]"
   ]
  },
  {
   "cell_type": "code",
   "execution_count": null,
   "id": "89a1056b-e7ed-4d9e-b5a7-fcdb21fc26d7",
   "metadata": {},
   "outputs": [],
   "source": [
    "ice.lidar.value_counts()"
   ]
  },
  {
   "cell_type": "code",
   "execution_count": null,
   "id": "2f6e8f40-a894-4f4e-8743-e55df91a7312",
   "metadata": {},
   "outputs": [],
   "source": [
    "ice.min_max_diff.plot.hist(grid=True, bins=25, rwidth=0.9)"
   ]
  },
  {
   "cell_type": "code",
   "execution_count": null,
   "id": "1d452cd2-b1f6-46ce-95c9-85b764ff56d7",
   "metadata": {},
   "outputs": [],
   "source": [
    "nonice.min_max_diff.plot.hist(grid=True, bins=25, rwidth=0.9)"
   ]
  },
  {
   "cell_type": "code",
   "execution_count": null,
   "id": "30aadc76-b4b6-4394-bd42-2e08abcbb423",
   "metadata": {},
   "outputs": [],
   "source": [
    "ice.max_lidar_w.plot.hist(grid=True, bins=25, rwidth=0.9)"
   ]
  },
  {
   "cell_type": "code",
   "execution_count": null,
   "id": "4524bca3-1467-42a2-b64d-02c93cfc3b41",
   "metadata": {},
   "outputs": [],
   "source": [
    "nonice.max_lidar_w.plot.hist(grid=True, bins=25, rwidth=0.9)"
   ]
  },
  {
   "cell_type": "code",
   "execution_count": null,
   "id": "312502eb-9368-49e7-836d-acbb12c7ff64",
   "metadata": {},
   "outputs": [],
   "source": [
    "ice.avg_lidar_w.plot.hist(grid=True, bins=25, rwidth=0.9)"
   ]
  },
  {
   "cell_type": "code",
   "execution_count": null,
   "id": "31101046-35bd-4398-a20b-505fe109b3f3",
   "metadata": {},
   "outputs": [],
   "source": [
    "nonice.avg_lidar_w.plot.hist(grid=True, bins=25, rwidth=0.9)"
   ]
  },
  {
   "cell_type": "code",
   "execution_count": null,
   "id": "27784849-ea83-4866-953d-9558ae83de47",
   "metadata": {},
   "outputs": [],
   "source": [
    "nonice.avg_lidar_w.describe()"
   ]
  },
  {
   "cell_type": "code",
   "execution_count": null,
   "id": "d9e4acfc-54ca-46d0-86c1-374ee202ad3a",
   "metadata": {},
   "outputs": [],
   "source": []
  }
 ],
 "metadata": {
  "kernelspec": {
   "display_name": "Python 3 (ipykernel)",
   "language": "python",
   "name": "python3"
  },
  "language_info": {
   "codemirror_mode": {
    "name": "ipython",
    "version": 3
   },
   "file_extension": ".py",
   "mimetype": "text/x-python",
   "name": "python",
   "nbconvert_exporter": "python",
   "pygments_lexer": "ipython3",
   "version": "3.8.13"
  }
 },
 "nbformat": 4,
 "nbformat_minor": 5
}
