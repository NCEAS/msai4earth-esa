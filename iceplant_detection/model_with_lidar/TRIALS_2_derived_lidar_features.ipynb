{
 "cells": [
  {
   "cell_type": "code",
   "execution_count": 1,
   "id": "49807a07-64cf-4a78-b3df-143806fa04d4",
   "metadata": {},
   "outputs": [],
   "source": [
    "import os\n",
    "import pandas as pd\n",
    "import geopandas as gpd\n",
    "\n",
    "import rasterio\n",
    "\n",
    "import pystac_client\n",
    "import planetary_computer as pc\n",
    "\n",
    "import lidar_sampling_functions as lsf"
   ]
  },
  {
   "cell_type": "code",
   "execution_count": 2,
   "id": "d8a92f7a-d841-47d5-8f8c-4f5a458e4c3d",
   "metadata": {},
   "outputs": [
    {
     "data": {
      "text/plain": [
       "CRS.from_epsg(26911)"
      ]
     },
     "execution_count": 2,
     "metadata": {},
     "output_type": "execute_result"
    }
   ],
   "source": [
    "# accesing Azure storage using pystac client\n",
    "URL = \"https://planetarycomputer.microsoft.com/api/stac/v1\"\n",
    "catalog = pystac_client.Client.open(URL)\n",
    "\n",
    "#campus point 2018 naip scene\n",
    "itemid = 'ca_m_3411934_sw_11_060_20180722_20190209'\n",
    "search = catalog.search(\n",
    "    collections=[\"naip\"],\n",
    "    ids = itemid\n",
    ")\n",
    "item = list(search.get_items())[0]\n",
    "# sign and open item\n",
    "href = pc.sign(item.assets[\"image\"].href)\n",
    "ds = rasterio.open(href)\n",
    "ds.crs"
   ]
  },
  {
   "cell_type": "code",
   "execution_count": 3,
   "id": "28f2a512-3b76-41af-ae35-14cf69cc776f",
   "metadata": {},
   "outputs": [
    {
     "name": "stderr",
     "output_type": "stream",
     "text": [
      "/srv/conda/envs/notebook/lib/python3.8/site-packages/pandas/core/dtypes/cast.py:122: ShapelyDeprecationWarning: The array interface is deprecated and will no longer work in Shapely 2.0. Convert the '.coords' to a numpy array instead.\n",
      "  arr = construct_1d_object_array_from_listlike(values)\n"
     ]
    }
   ],
   "source": [
    "fp = '/home/jovyan/msai4earth-esa/iceplant_detection/data_sampling/points_from_naip_images/campus_lagoon_points/campus_lagoon_points_2018.csv'\n",
    "pts = lsf.geodataframe_from_csv(fp, ds.crs)"
   ]
  },
  {
   "cell_type": "code",
   "execution_count": 4,
   "id": "fbe10fa5-c8da-47c9-8014-80f39d4042fc",
   "metadata": {},
   "outputs": [
    {
     "data": {
      "text/html": [
       "<div>\n",
       "<style scoped>\n",
       "    .dataframe tbody tr th:only-of-type {\n",
       "        vertical-align: middle;\n",
       "    }\n",
       "\n",
       "    .dataframe tbody tr th {\n",
       "        vertical-align: top;\n",
       "    }\n",
       "\n",
       "    .dataframe thead th {\n",
       "        text-align: right;\n",
       "    }\n",
       "</style>\n",
       "<table border=\"1\" class=\"dataframe\">\n",
       "  <thead>\n",
       "    <tr style=\"text-align: right;\">\n",
       "      <th></th>\n",
       "      <th>iceplant</th>\n",
       "      <th>r</th>\n",
       "      <th>g</th>\n",
       "      <th>b</th>\n",
       "      <th>nir</th>\n",
       "      <th>year</th>\n",
       "      <th>month</th>\n",
       "      <th>day</th>\n",
       "      <th>naip_id</th>\n",
       "      <th>polygon_id</th>\n",
       "      <th>geometry</th>\n",
       "    </tr>\n",
       "  </thead>\n",
       "  <tbody>\n",
       "    <tr>\n",
       "      <th>0</th>\n",
       "      <td>1</td>\n",
       "      <td>93</td>\n",
       "      <td>88</td>\n",
       "      <td>93</td>\n",
       "      <td>141</td>\n",
       "      <td>2018</td>\n",
       "      <td>7</td>\n",
       "      <td>22</td>\n",
       "      <td>ca_m_3411934_sw_11_060_20180722_20190209</td>\n",
       "      <td>0</td>\n",
       "      <td>POINT (238343.430 3810848.805)</td>\n",
       "    </tr>\n",
       "    <tr>\n",
       "      <th>1</th>\n",
       "      <td>1</td>\n",
       "      <td>85</td>\n",
       "      <td>85</td>\n",
       "      <td>89</td>\n",
       "      <td>137</td>\n",
       "      <td>2018</td>\n",
       "      <td>7</td>\n",
       "      <td>22</td>\n",
       "      <td>ca_m_3411934_sw_11_060_20180722_20190209</td>\n",
       "      <td>0</td>\n",
       "      <td>POINT (238343.547 3810846.093)</td>\n",
       "    </tr>\n",
       "    <tr>\n",
       "      <th>2</th>\n",
       "      <td>1</td>\n",
       "      <td>89</td>\n",
       "      <td>85</td>\n",
       "      <td>91</td>\n",
       "      <td>133</td>\n",
       "      <td>2018</td>\n",
       "      <td>7</td>\n",
       "      <td>22</td>\n",
       "      <td>ca_m_3411934_sw_11_060_20180722_20190209</td>\n",
       "      <td>0</td>\n",
       "      <td>POINT (238344.864 3810845.535)</td>\n",
       "    </tr>\n",
       "  </tbody>\n",
       "</table>\n",
       "</div>"
      ],
      "text/plain": [
       "   iceplant   r   g   b  nir  year  month  day  \\\n",
       "0         1  93  88  93  141  2018      7   22   \n",
       "1         1  85  85  89  137  2018      7   22   \n",
       "2         1  89  85  91  133  2018      7   22   \n",
       "\n",
       "                                    naip_id  polygon_id  \\\n",
       "0  ca_m_3411934_sw_11_060_20180722_20190209           0   \n",
       "1  ca_m_3411934_sw_11_060_20180722_20190209           0   \n",
       "2  ca_m_3411934_sw_11_060_20180722_20190209           0   \n",
       "\n",
       "                         geometry  \n",
       "0  POINT (238343.430 3810848.805)  \n",
       "1  POINT (238343.547 3810846.093)  \n",
       "2  POINT (238344.864 3810845.535)  "
      ]
     },
     "execution_count": 4,
     "metadata": {},
     "output_type": "execute_result"
    }
   ],
   "source": [
    "pts.head(3)"
   ]
  },
  {
   "cell_type": "code",
   "execution_count": 6,
   "id": "7a32baec-33c9-477b-8f05-049b8256f037",
   "metadata": {},
   "outputs": [],
   "source": [
    "fp = os.path.join(os.getcwd(),'3mlidar_over_campuspoint_naip_scene.tif')\n",
    "lidar_rast_r = rasterio.open(fp)"
   ]
  },
  {
   "cell_type": "code",
   "execution_count": 8,
   "id": "fc2cbc54-8d12-4e17-a9de-975767a10734",
   "metadata": {},
   "outputs": [],
   "source": [
    "# lsf.save_min_max_diff_rasters(lidar_rast_r, os.getcwd())\n",
    "# lsf.save_avg_rasters(lidar_rast_r, os.getcwd())"
   ]
  },
  {
   "cell_type": "code",
   "execution_count": 9,
   "id": "28b0908e-929a-4e88-9355-09bc977faedb",
   "metadata": {},
   "outputs": [],
   "source": [
    "pts_xy = lsf.pts_for_lidar_sampling(pts, lidar_rast_r.crs)"
   ]
  },
  {
   "cell_type": "code",
   "execution_count": 10,
   "id": "2b552549-e9d7-4cf2-b0ea-4b557010ab39",
   "metadata": {},
   "outputs": [],
   "source": [
    "lidar_samples = lsf.sample_raster(pts_xy, lidar_rast_r)"
   ]
  },
  {
   "cell_type": "code",
   "execution_count": 11,
   "id": "9c6c4fce-9586-4b0d-a756-9e374cc12b51",
   "metadata": {},
   "outputs": [],
   "source": [
    "fp = os.path.join(os.getcwd(),'lidar_maxs.tif')\n",
    "maxs_rast_r = rasterio.open(fp)\n",
    "max_samples = lsf.sample_raster(pts_xy, maxs_rast_r)"
   ]
  },
  {
   "cell_type": "code",
   "execution_count": 12,
   "id": "4dfecea6-65be-4734-b773-d6a739d05f1b",
   "metadata": {},
   "outputs": [],
   "source": [
    "fp = os.path.join(os.getcwd(),'lidar_mins.tif')\n",
    "mins_rast_r = rasterio.open(fp)\n",
    "min_samples = lsf.sample_raster(pts_xy, mins_rast_r)"
   ]
  },
  {
   "cell_type": "code",
   "execution_count": 13,
   "id": "519ddbe1-3b9d-47af-b0ed-262a05dcf3dd",
   "metadata": {},
   "outputs": [],
   "source": [
    "fp = os.path.join(os.getcwd(),'lidar_avgs.tif')\n",
    "avg_rast_r = rasterio.open(fp)\n",
    "avg_samples = lsf.sample_raster(pts_xy, avg_rast_r)"
   ]
  },
  {
   "cell_type": "code",
   "execution_count": 14,
   "id": "8e55df51-a4b8-478d-a9cc-f7ffcac7adbf",
   "metadata": {},
   "outputs": [],
   "source": [
    "pts['lidar'] = lidar_samples\n",
    "pts['max_lidar_w']= max_samples\n",
    "pts['min_lidar_w'] = min_samples\n",
    "pts['min_max_diff'] = pts.max_lidar_w - pts.min_lidar_w\n",
    "pts['avg_lidar_w'] = avg_samples\n"
   ]
  },
  {
   "cell_type": "code",
   "execution_count": 15,
   "id": "a65e4cca-ab42-44d5-9d2e-98637c168dbd",
   "metadata": {},
   "outputs": [
    {
     "data": {
      "text/html": [
       "<div>\n",
       "<style scoped>\n",
       "    .dataframe tbody tr th:only-of-type {\n",
       "        vertical-align: middle;\n",
       "    }\n",
       "\n",
       "    .dataframe tbody tr th {\n",
       "        vertical-align: top;\n",
       "    }\n",
       "\n",
       "    .dataframe thead th {\n",
       "        text-align: right;\n",
       "    }\n",
       "</style>\n",
       "<table border=\"1\" class=\"dataframe\">\n",
       "  <thead>\n",
       "    <tr style=\"text-align: right;\">\n",
       "      <th></th>\n",
       "      <th>iceplant</th>\n",
       "      <th>r</th>\n",
       "      <th>g</th>\n",
       "      <th>b</th>\n",
       "      <th>nir</th>\n",
       "      <th>year</th>\n",
       "      <th>month</th>\n",
       "      <th>day</th>\n",
       "      <th>naip_id</th>\n",
       "      <th>polygon_id</th>\n",
       "      <th>geometry</th>\n",
       "      <th>lidar</th>\n",
       "      <th>max_lidar_w</th>\n",
       "      <th>min_lidar_w</th>\n",
       "      <th>min_max_diff</th>\n",
       "      <th>avg_lidar_w</th>\n",
       "    </tr>\n",
       "  </thead>\n",
       "  <tbody>\n",
       "    <tr>\n",
       "      <th>0</th>\n",
       "      <td>1</td>\n",
       "      <td>93</td>\n",
       "      <td>88</td>\n",
       "      <td>93</td>\n",
       "      <td>141</td>\n",
       "      <td>2018</td>\n",
       "      <td>7</td>\n",
       "      <td>22</td>\n",
       "      <td>ca_m_3411934_sw_11_060_20180722_20190209</td>\n",
       "      <td>0</td>\n",
       "      <td>POINT (238343.430 3810848.805)</td>\n",
       "      <td>4</td>\n",
       "      <td>5</td>\n",
       "      <td>2</td>\n",
       "      <td>3</td>\n",
       "      <td>3.333333</td>\n",
       "    </tr>\n",
       "    <tr>\n",
       "      <th>1</th>\n",
       "      <td>1</td>\n",
       "      <td>85</td>\n",
       "      <td>85</td>\n",
       "      <td>89</td>\n",
       "      <td>137</td>\n",
       "      <td>2018</td>\n",
       "      <td>7</td>\n",
       "      <td>22</td>\n",
       "      <td>ca_m_3411934_sw_11_060_20180722_20190209</td>\n",
       "      <td>0</td>\n",
       "      <td>POINT (238343.547 3810846.093)</td>\n",
       "      <td>4</td>\n",
       "      <td>5</td>\n",
       "      <td>2</td>\n",
       "      <td>3</td>\n",
       "      <td>3.333333</td>\n",
       "    </tr>\n",
       "    <tr>\n",
       "      <th>2</th>\n",
       "      <td>1</td>\n",
       "      <td>89</td>\n",
       "      <td>85</td>\n",
       "      <td>91</td>\n",
       "      <td>133</td>\n",
       "      <td>2018</td>\n",
       "      <td>7</td>\n",
       "      <td>22</td>\n",
       "      <td>ca_m_3411934_sw_11_060_20180722_20190209</td>\n",
       "      <td>0</td>\n",
       "      <td>POINT (238344.864 3810845.535)</td>\n",
       "      <td>4</td>\n",
       "      <td>5</td>\n",
       "      <td>2</td>\n",
       "      <td>3</td>\n",
       "      <td>3.333333</td>\n",
       "    </tr>\n",
       "  </tbody>\n",
       "</table>\n",
       "</div>"
      ],
      "text/plain": [
       "   iceplant   r   g   b  nir  year  month  day  \\\n",
       "0         1  93  88  93  141  2018      7   22   \n",
       "1         1  85  85  89  137  2018      7   22   \n",
       "2         1  89  85  91  133  2018      7   22   \n",
       "\n",
       "                                    naip_id  polygon_id  \\\n",
       "0  ca_m_3411934_sw_11_060_20180722_20190209           0   \n",
       "1  ca_m_3411934_sw_11_060_20180722_20190209           0   \n",
       "2  ca_m_3411934_sw_11_060_20180722_20190209           0   \n",
       "\n",
       "                         geometry  lidar  max_lidar_w  min_lidar_w  \\\n",
       "0  POINT (238343.430 3810848.805)      4            5            2   \n",
       "1  POINT (238343.547 3810846.093)      4            5            2   \n",
       "2  POINT (238344.864 3810845.535)      4            5            2   \n",
       "\n",
       "   min_max_diff  avg_lidar_w  \n",
       "0             3     3.333333  \n",
       "1             3     3.333333  \n",
       "2             3     3.333333  "
      ]
     },
     "execution_count": 15,
     "metadata": {},
     "output_type": "execute_result"
    }
   ],
   "source": [
    "pts.head(3)"
   ]
  },
  {
   "cell_type": "code",
   "execution_count": 16,
   "id": "e3963e04-432c-4e53-964d-e44b609f2ccd",
   "metadata": {},
   "outputs": [],
   "source": [
    "pts.to_csv(os.path.join(os.getcwd(),'campus_lagoon_2018_lidar.csv'))"
   ]
  },
  {
   "cell_type": "markdown",
   "id": "533ee677-effe-4fef-ae55-a97b3e5491f0",
   "metadata": {},
   "source": [
    "## Some stats"
   ]
  },
  {
   "cell_type": "code",
   "execution_count": 14,
   "id": "b652473b-59c9-4097-8918-30d4d4f45ebb",
   "metadata": {},
   "outputs": [],
   "source": [
    "ice = pts.loc[pts.iceplant==1]\n",
    "nonice = pts.loc[pts.iceplant==0]"
   ]
  },
  {
   "cell_type": "code",
   "execution_count": 15,
   "id": "89a1056b-e7ed-4d9e-b5a7-fcdb21fc26d7",
   "metadata": {},
   "outputs": [
    {
     "data": {
      "text/plain": [
       "2     2311\n",
       "1     1636\n",
       "0      990\n",
       "3      498\n",
       "4      260\n",
       "11     192\n",
       "5      175\n",
       "16     110\n",
       "12     108\n",
       "8       76\n",
       "7       42\n",
       "13      27\n",
       "6       16\n",
       "14       8\n",
       "Name: lidar, dtype: int64"
      ]
     },
     "execution_count": 15,
     "metadata": {},
     "output_type": "execute_result"
    }
   ],
   "source": [
    "ice.lidar.value_counts()"
   ]
  },
  {
   "cell_type": "code",
   "execution_count": 16,
   "id": "2f6e8f40-a894-4f4e-8743-e55df91a7312",
   "metadata": {},
   "outputs": [
    {
     "data": {
      "text/plain": [
       "<AxesSubplot:ylabel='Frequency'>"
      ]
     },
     "execution_count": 16,
     "metadata": {},
     "output_type": "execute_result"
    },
    {
     "data": {
      "image/png": "[encoded data removed]",
      "text/plain": [
       "<Figure size 432x288 with 1 Axes>"
      ]
     },
     "metadata": {
      "needs_background": "light"
     },
     "output_type": "display_data"
    }
   ],
   "source": [
    "ice.min_max_diff.plot.hist(grid=True, bins=25, rwidth=0.9)"
   ]
  },
  {
   "cell_type": "code",
   "execution_count": 17,
   "id": "1d452cd2-b1f6-46ce-95c9-85b764ff56d7",
   "metadata": {},
   "outputs": [
    {
     "data": {
      "text/plain": [
       "<AxesSubplot:ylabel='Frequency'>"
      ]
     },
     "execution_count": 17,
     "metadata": {},
     "output_type": "execute_result"
    },
    {
     "data": {
      "image/png": "[encoded data removed]",
      "text/plain": [
       "<Figure size 432x288 with 1 Axes>"
      ]
     },
     "metadata": {
      "needs_background": "light"
     },
     "output_type": "display_data"
    }
   ],
   "source": [
    "nonice.min_max_diff.plot.hist(grid=True, bins=25, rwidth=0.9)"
   ]
  },
  {
   "cell_type": "code",
   "execution_count": 18,
   "id": "30aadc76-b4b6-4394-bd42-2e08abcbb423",
   "metadata": {},
   "outputs": [
    {
     "data": {
      "text/plain": [
       "<AxesSubplot:ylabel='Frequency'>"
      ]
     },
     "execution_count": 18,
     "metadata": {},
     "output_type": "execute_result"
    },
    {
     "data": {
      "image/png": "[encoded data removed]",
      "text/plain": [
       "<Figure size 432x288 with 1 Axes>"
      ]
     },
     "metadata": {
      "needs_background": "light"
     },
     "output_type": "display_data"
    }
   ],
   "source": [
    "ice.max_lidar_w.plot.hist(grid=True, bins=25, rwidth=0.9)"
   ]
  },
  {
   "cell_type": "code",
   "execution_count": 19,
   "id": "4524bca3-1467-42a2-b64d-02c93cfc3b41",
   "metadata": {},
   "outputs": [
    {
     "data": {
      "text/plain": [
       "<AxesSubplot:ylabel='Frequency'>"
      ]
     },
     "execution_count": 19,
     "metadata": {},
     "output_type": "execute_result"
    },
    {
     "data": {
      "image/png": "[encoded data removed]",
      "text/plain": [
       "<Figure size 432x288 with 1 Axes>"
      ]
     },
     "metadata": {
      "needs_background": "light"
     },
     "output_type": "display_data"
    }
   ],
   "source": [
    "nonice.max_lidar_w.plot.hist(grid=True, bins=25, rwidth=0.9)"
   ]
  },
  {
   "cell_type": "code",
   "execution_count": 20,
   "id": "312502eb-9368-49e7-836d-acbb12c7ff64",
   "metadata": {},
   "outputs": [
    {
     "data": {
      "text/plain": [
       "<AxesSubplot:ylabel='Frequency'>"
      ]
     },
     "execution_count": 20,
     "metadata": {},
     "output_type": "execute_result"
    },
    {
     "data": {
      "image/png": "[encoded data removed]",
      "text/plain": [
       "<Figure size 432x288 with 1 Axes>"
      ]
     },
     "metadata": {
      "needs_background": "light"
     },
     "output_type": "display_data"
    }
   ],
   "source": [
    "ice.avg_lidar_w.plot.hist(grid=True, bins=25, rwidth=0.9)"
   ]
  },
  {
   "cell_type": "code",
   "execution_count": 21,
   "id": "31101046-35bd-4398-a20b-505fe109b3f3",
   "metadata": {},
   "outputs": [
    {
     "data": {
      "text/plain": [
       "<AxesSubplot:ylabel='Frequency'>"
      ]
     },
     "execution_count": 21,
     "metadata": {},
     "output_type": "execute_result"
    },
    {
     "data": {
      "image/png": "[encoded data removed]",
      "text/plain": [
       "<Figure size 432x288 with 1 Axes>"
      ]
     },
     "metadata": {
      "needs_background": "light"
     },
     "output_type": "display_data"
    }
   ],
   "source": [
    "nonice.avg_lidar_w.plot.hist(grid=True, bins=25, rwidth=0.9)"
   ]
  },
  {
   "cell_type": "code",
   "execution_count": 22,
   "id": "27784849-ea83-4866-953d-9558ae83de47",
   "metadata": {},
   "outputs": [
    {
     "data": {
      "text/plain": [
       "count    62942.000000\n",
       "mean         7.791471\n",
       "std          6.873556\n",
       "min          0.000000\n",
       "25%          2.444444\n",
       "50%          5.777778\n",
       "75%         11.444445\n",
       "max         34.888889\n",
       "Name: avg_lidar_w, dtype: float64"
      ]
     },
     "execution_count": 22,
     "metadata": {},
     "output_type": "execute_result"
    }
   ],
   "source": [
    "nonice.avg_lidar_w.describe()"
   ]
  },
  {
   "cell_type": "code",
   "execution_count": null,
   "id": "d9e4acfc-54ca-46d0-86c1-374ee202ad3a",
   "metadata": {},
   "outputs": [],
   "source": []
  }
 ],
 "metadata": {
  "kernelspec": {
   "display_name": "Python 3 (ipykernel)",
   "language": "python",
   "name": "python3"
  },
  "language_info": {
   "codemirror_mode": {
    "name": "ipython",
    "version": 3
   },
   "file_extension": ".py",
   "mimetype": "text/x-python",
   "name": "python",
   "nbconvert_exporter": "python",
   "pygments_lexer": "ipython3",
   "version": "3.8.13"
  }
 },
 "nbformat": 4,
 "nbformat_minor": 5
}
