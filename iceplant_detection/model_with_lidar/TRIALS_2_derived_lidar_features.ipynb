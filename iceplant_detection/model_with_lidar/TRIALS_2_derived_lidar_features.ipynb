{
 "cells": [
  {
   "cell_type": "code",
   "execution_count": 2,
   "id": "49807a07-64cf-4a78-b3df-143806fa04d4",
   "metadata": {},
   "outputs": [],
   "source": [
    "import numpy as np"
   ]
  },
  {
   "cell_type": "code",
   "execution_count": 5,
   "id": "3e064ba5-1e94-4386-91bc-8e0097db2c06",
   "metadata": {},
   "outputs": [
    {
     "data": {
      "text/plain": [
       "array([[ 0,  1,  2,  3,  4],\n",
       "       [ 5,  6,  7,  8,  9],\n",
       "       [10, 11, 12, 13, 14],\n",
       "       [15, 16, 17, 18, 19],\n",
       "       [20, 21, 22, 23, 24]])"
      ]
     },
     "execution_count": 5,
     "metadata": {},
     "output_type": "execute_result"
    }
   ],
   "source": [
    "a = np.array(range(0,25)).reshape(5,5)\n",
    "a"
   ]
  },
  {
   "cell_type": "code",
   "execution_count": 27,
   "id": "f69b806a-1291-4373-8d93-c53e4d49f48d",
   "metadata": {},
   "outputs": [
    {
     "data": {
      "text/plain": [
       "array([[ 2,  2,  3,  4,  5],\n",
       "       [ 5,  5,  6,  8,  8],\n",
       "       [10, 11, 12, 13, 13],\n",
       "       [15, 15, 17, 18, 18],\n",
       "       [18, 19, 20, 21, 22]])"
      ]
     },
     "execution_count": 27,
     "metadata": {},
     "output_type": "execute_result"
    }
   ],
   "source": [
    "avg = conf2D(a, weights=w)\n",
    "avg"
   ]
  },
  {
   "cell_type": "code",
   "execution_count": 16,
   "id": "5891e087-cc6f-4059-8470-4a1796721f63",
   "metadata": {},
   "outputs": [
    {
     "data": {
      "text/plain": [
       "array([[ 0,  0,  1,  2,  3],\n",
       "       [ 0,  0,  1,  2,  3],\n",
       "       [ 5,  5,  6,  7,  8],\n",
       "       [10, 10, 11, 12, 13],\n",
       "       [15, 15, 16, 17, 18]])"
      ]
     },
     "execution_count": 16,
     "metadata": {},
     "output_type": "execute_result"
    }
   ],
   "source": [
    "mins"
   ]
  },
  {
   "cell_type": "code",
   "execution_count": 19,
   "id": "89485837-b104-4b70-8649-e689e837758f",
   "metadata": {},
   "outputs": [
    {
     "data": {
      "text/plain": [
       "array([[ 6,  7,  8,  9,  9],\n",
       "       [11, 12, 13, 14, 14],\n",
       "       [16, 17, 18, 19, 19],\n",
       "       [21, 22, 23, 24, 24],\n",
       "       [21, 22, 23, 24, 24]])"
      ]
     },
     "execution_count": 19,
     "metadata": {},
     "output_type": "execute_result"
    }
   ],
   "source": [
    "maxs"
   ]
  },
  {
   "cell_type": "code",
   "execution_count": 20,
   "id": "79a5f824-01d9-4fa9-a753-16d50f6658b0",
   "metadata": {},
   "outputs": [],
   "source": [
    "from scipy.ndimage import maximum_filter as maxf2D\n",
    "from scipy.ndimage import minimum_filter as minf2D\n",
    "# https://stackoverflow.com/questions/43966350/getting-the-maximum-in-each-rolling-window-of-a-2d-numpy-array"
   ]
  },
  {
   "cell_type": "code",
   "execution_count": 9,
   "id": "68f087d9-8ce9-42c3-9a04-523f77622cb5",
   "metadata": {},
   "outputs": [
    {
     "data": {
      "text/plain": [
       "5"
      ]
     },
     "execution_count": 9,
     "metadata": {},
     "output_type": "execute_result"
    }
   ],
   "source": [
    "# Store shapes of inputs\n",
    "M = 3 #window size\n",
    "N = 3\n",
    "P,Q = a.shape\n",
    "Q"
   ]
  },
  {
   "cell_type": "code",
   "execution_count": 18,
   "id": "d1127b34-864a-4ee9-819d-c9a2a025d0db",
   "metadata": {},
   "outputs": [
    {
     "data": {
      "text/plain": [
       "array([[12, 13, 14],\n",
       "       [17, 18, 19],\n",
       "       [22, 23, 24]])"
      ]
     },
     "execution_count": 18,
     "metadata": {},
     "output_type": "execute_result"
    }
   ],
   "source": [
    "# Use 2D max filter and slice out elements not affected by boundary conditions\n",
    "maxs = maxf2D(a, size=(M,N))\n",
    "max_Map_Out"
   ]
  },
  {
   "cell_type": "code",
   "execution_count": 15,
   "id": "1f7c971f-5c4f-46d5-abe2-ca79897f1d1e",
   "metadata": {},
   "outputs": [
    {
     "data": {
      "text/plain": [
       "array([[ 0,  1,  2],\n",
       "       [ 5,  6,  7],\n",
       "       [10, 11, 12]])"
      ]
     },
     "execution_count": 15,
     "metadata": {},
     "output_type": "execute_result"
    }
   ],
   "source": [
    "# Use 2D max filter and slice out elements not affected by boundary conditions\n",
    "mins = minf2D(a, size=(M,N))\n",
    "min_Map_Out = mins[M//2:(M//2)+P-M+1, N//2:(N//2)+Q-N+1]\n",
    "min_Map_Out"
   ]
  },
  {
   "cell_type": "code",
   "execution_count": 21,
   "id": "727648e5-8f9e-48f3-8d25-1f2e59323be5",
   "metadata": {},
   "outputs": [],
   "source": [
    "from scipy.ndimage import convolve as conf2D"
   ]
  },
  {
   "cell_type": "code",
   "execution_count": 25,
   "id": "518ba515-8fc4-4dc3-93a7-b1f0a8c8ef88",
   "metadata": {},
   "outputs": [
    {
     "data": {
      "text/plain": [
       "array([[0.11111111, 0.11111111, 0.11111111],\n",
       "       [0.11111111, 0.11111111, 0.11111111],\n",
       "       [0.11111111, 0.11111111, 0.11111111]])"
      ]
     },
     "execution_count": 25,
     "metadata": {},
     "output_type": "execute_result"
    }
   ],
   "source": [
    "w = np.ones(9).reshape(3,3)/9\n",
    "w"
   ]
  },
  {
   "cell_type": "code",
   "execution_count": null,
   "id": "86312744-24e6-480c-9bd4-9c7521537de5",
   "metadata": {},
   "outputs": [],
   "source": []
  }
 ],
 "metadata": {
  "kernelspec": {
   "display_name": "Python 3 (ipykernel)",
   "language": "python",
   "name": "python3"
  },
  "language_info": {
   "codemirror_mode": {
    "name": "ipython",
    "version": 3
   },
   "file_extension": ".py",
   "mimetype": "text/x-python",
   "name": "python",
   "nbconvert_exporter": "python",
   "pygments_lexer": "ipython3",
   "version": "3.8.13"
  }
 },
 "nbformat": 4,
 "nbformat_minor": 5
}
