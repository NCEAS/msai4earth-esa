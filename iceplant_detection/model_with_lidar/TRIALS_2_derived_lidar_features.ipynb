{
 "cells": [
  {
   "cell_type": "code",
   "execution_count": 1,
   "id": "49807a07-64cf-4a78-b3df-143806fa04d4",
   "metadata": {},
   "outputs": [],
   "source": [
    "import os\n",
    "import pandas as pd\n",
    "import geopandas as gpd\n",
    "from shapely.geometry import Point\n",
    "\n",
    "\n",
    "from scipy.ndimage import maximum_filter as maxf2D\n",
    "from scipy.ndimage import minimum_filter as minf2D\n",
    "from scipy.ndimage import convolve as conf2D\n",
    "# https://stackoverflow.com/questions/43966350/getting-the-maximum-in-each-rolling-window-of-a-2d-numpy-array\n",
    "\n",
    "import numpy as np\n",
    "#import matplotlib.pyplot as plt\n",
    "#import rioxarray as rioxr\n",
    "#import geopandas as gpd\n",
    "#import pandas as pd\n",
    "import rasterio\n",
    "#import shapely\n",
    "#import os\n",
    "\n",
    "import pystac_client\n",
    "import planetary_computer as pc"
   ]
  },
  {
   "cell_type": "code",
   "execution_count": 3,
   "id": "8242fe25-5e65-49ae-97e6-c2a14a1b6719",
   "metadata": {},
   "outputs": [],
   "source": [
    "# ------------------------------------------------------------------------------\n",
    "# fp = filepath of csv, must have x and y columns representing coordinates of point\n",
    "# crs must be the crs of the csv coordinates\n",
    "def geodataframe_from_csv(fp, crs):\n",
    "    df_raw = pd.read_csv(fp)\n",
    "    df = df_raw.drop(['geometry','Unnamed: 0'], axis=1)\n",
    "    \n",
    "    # recreate geometry column with shapely Points\n",
    "    xy = []\n",
    "    for x,y in zip(df.x,df.y):\n",
    "        xy.append(Point(x,y))\n",
    "    df['geometry'] = xy\n",
    "    df = df.drop(['x','y'], axis=1)\n",
    "\n",
    "    pts = gpd.GeoDataFrame(df, crs=crs)\n",
    "    return pts\n",
    "\n",
    "# ------------------------------------------------------------------------------\n",
    "\n"
   ]
  },
  {
   "cell_type": "code",
   "execution_count": 4,
   "id": "d8a92f7a-d841-47d5-8f8c-4f5a458e4c3d",
   "metadata": {},
   "outputs": [
    {
     "data": {
      "text/plain": [
       "CRS.from_epsg(26911)"
      ]
     },
     "execution_count": 4,
     "metadata": {},
     "output_type": "execute_result"
    }
   ],
   "source": [
    "# accesing Azure storage using pystac client\n",
    "URL = \"https://planetarycomputer.microsoft.com/api/stac/v1\"\n",
    "catalog = pystac_client.Client.open(URL)\n",
    "\n",
    "#campus point 2018 naip scene\n",
    "itemid = 'ca_m_3411934_sw_11_060_20180722_20190209'\n",
    "search = catalog.search(\n",
    "    collections=[\"naip\"],\n",
    "    ids = itemid\n",
    ")\n",
    "item = list(search.get_items())[0]\n",
    "# sign and open item\n",
    "href = pc.sign(item.assets[\"image\"].href)\n",
    "ds = rasterio.open(href)\n",
    "ds.crs"
   ]
  },
  {
   "cell_type": "code",
   "execution_count": 5,
   "id": "28f2a512-3b76-41af-ae35-14cf69cc776f",
   "metadata": {},
   "outputs": [
    {
     "name": "stderr",
     "output_type": "stream",
     "text": [
      "/srv/conda/envs/notebook/lib/python3.8/site-packages/pandas/core/dtypes/cast.py:122: ShapelyDeprecationWarning: The array interface is deprecated and will no longer work in Shapely 2.0. Convert the '.coords' to a numpy array instead.\n",
      "  arr = construct_1d_object_array_from_listlike(values)\n"
     ]
    }
   ],
   "source": [
    "fp = '/home/jovyan/msai4earth-esa/iceplant_detection/data_sampling/points_from_naip_images/campus_lagoon_points/campus_lagoon_points_2018.csv'\n",
    "pts = geodataframe_from_csv(fp, ds.crs)"
   ]
  },
  {
   "cell_type": "code",
   "execution_count": 7,
   "id": "fbe10fa5-c8da-47c9-8014-80f39d4042fc",
   "metadata": {},
   "outputs": [
    {
     "data": {
      "text/html": [
       "<div>\n",
       "<style scoped>\n",
       "    .dataframe tbody tr th:only-of-type {\n",
       "        vertical-align: middle;\n",
       "    }\n",
       "\n",
       "    .dataframe tbody tr th {\n",
       "        vertical-align: top;\n",
       "    }\n",
       "\n",
       "    .dataframe thead th {\n",
       "        text-align: right;\n",
       "    }\n",
       "</style>\n",
       "<table border=\"1\" class=\"dataframe\">\n",
       "  <thead>\n",
       "    <tr style=\"text-align: right;\">\n",
       "      <th></th>\n",
       "      <th>iceplant</th>\n",
       "      <th>r</th>\n",
       "      <th>g</th>\n",
       "      <th>b</th>\n",
       "      <th>nir</th>\n",
       "      <th>year</th>\n",
       "      <th>month</th>\n",
       "      <th>day</th>\n",
       "      <th>naip_id</th>\n",
       "      <th>polygon_id</th>\n",
       "      <th>geometry</th>\n",
       "    </tr>\n",
       "  </thead>\n",
       "  <tbody>\n",
       "    <tr>\n",
       "      <th>0</th>\n",
       "      <td>1</td>\n",
       "      <td>93</td>\n",
       "      <td>88</td>\n",
       "      <td>93</td>\n",
       "      <td>141</td>\n",
       "      <td>2018</td>\n",
       "      <td>7</td>\n",
       "      <td>22</td>\n",
       "      <td>ca_m_3411934_sw_11_060_20180722_20190209</td>\n",
       "      <td>0</td>\n",
       "      <td>POINT (238343.430 3810848.805)</td>\n",
       "    </tr>\n",
       "    <tr>\n",
       "      <th>1</th>\n",
       "      <td>1</td>\n",
       "      <td>85</td>\n",
       "      <td>85</td>\n",
       "      <td>89</td>\n",
       "      <td>137</td>\n",
       "      <td>2018</td>\n",
       "      <td>7</td>\n",
       "      <td>22</td>\n",
       "      <td>ca_m_3411934_sw_11_060_20180722_20190209</td>\n",
       "      <td>0</td>\n",
       "      <td>POINT (238343.547 3810846.093)</td>\n",
       "    </tr>\n",
       "    <tr>\n",
       "      <th>2</th>\n",
       "      <td>1</td>\n",
       "      <td>89</td>\n",
       "      <td>85</td>\n",
       "      <td>91</td>\n",
       "      <td>133</td>\n",
       "      <td>2018</td>\n",
       "      <td>7</td>\n",
       "      <td>22</td>\n",
       "      <td>ca_m_3411934_sw_11_060_20180722_20190209</td>\n",
       "      <td>0</td>\n",
       "      <td>POINT (238344.864 3810845.535)</td>\n",
       "    </tr>\n",
       "  </tbody>\n",
       "</table>\n",
       "</div>"
      ],
      "text/plain": [
       "   iceplant   r   g   b  nir  year  month  day  \\\n",
       "0         1  93  88  93  141  2018      7   22   \n",
       "1         1  85  85  89  137  2018      7   22   \n",
       "2         1  89  85  91  133  2018      7   22   \n",
       "\n",
       "                                    naip_id  polygon_id  \\\n",
       "0  ca_m_3411934_sw_11_060_20180722_20190209           0   \n",
       "1  ca_m_3411934_sw_11_060_20180722_20190209           0   \n",
       "2  ca_m_3411934_sw_11_060_20180722_20190209           0   \n",
       "\n",
       "                         geometry  \n",
       "0  POINT (238343.430 3810848.805)  \n",
       "1  POINT (238343.547 3810846.093)  \n",
       "2  POINT (238344.864 3810845.535)  "
      ]
     },
     "execution_count": 7,
     "metadata": {},
     "output_type": "execute_result"
    }
   ],
   "source": [
    "pts.head(3)"
   ]
  },
  {
   "cell_type": "code",
   "execution_count": 8,
   "id": "60496502-898e-4b72-a806-5c0e7551cdb1",
   "metadata": {},
   "outputs": [
    {
     "data": {
      "text/plain": [
       "CRS.from_epsg(32610)"
      ]
     },
     "execution_count": 8,
     "metadata": {},
     "output_type": "execute_result"
    }
   ],
   "source": [
    "fp = os.path.join(os.getcwd(),'3mlidar_over_campuspoint_naip_scene.tif')\n",
    "\n",
    "lidar = rasterio.open(fp)\n",
    "lidar.crs"
   ]
  },
  {
   "cell_type": "code",
   "execution_count": 26,
   "id": "f0b7a3ca-f00e-4b9c-ba5b-e9b282a55881",
   "metadata": {},
   "outputs": [],
   "source": [
    "lidar_rast = lidar.read([1])"
   ]
  },
  {
   "cell_type": "code",
   "execution_count": 22,
   "id": "141bb75a-aaa0-40aa-a180-caba414d57d0",
   "metadata": {},
   "outputs": [],
   "source": [
    "def pts_for_lidar_sampling(raw_pts, lidar_crs):\n",
    "    pts_xy = pts.to_crs(lidar_crs).geometry.apply(lambda p :(p.x, p.y)).to_list()\n",
    "    return pts_xy\n",
    "\n",
    "# ------------------------------------------------------------------------------\n",
    "\n",
    "def sample_raster(pts_xy, raster):\n",
    "    sample = raster.sample(pts_xy)\n",
    "    samples = []\n",
    "    for x in sample:\n",
    "        samples.append(x[0])\n",
    "    return samples\n",
    "\n"
   ]
  },
  {
   "cell_type": "code",
   "execution_count": 23,
   "id": "28b0908e-929a-4e88-9355-09bc977faedb",
   "metadata": {},
   "outputs": [],
   "source": [
    "pts_xy = pts_for_lidar_sampling(pts, lidar.crs)"
   ]
  },
  {
   "cell_type": "code",
   "execution_count": 27,
   "id": "2b552549-e9d7-4cf2-b0ea-4b557010ab39",
   "metadata": {},
   "outputs": [],
   "source": [
    "lidar_samples = sample_lidar(pts_xy, lidar_rast)"
   ]
  },
  {
   "cell_type": "code",
   "execution_count": null,
   "id": "16cbe116-b940-4f67-b35b-39262ce07a1e",
   "metadata": {},
   "outputs": [],
   "source": [
    "def save_raster(fp, shape, bands_n, crs, transform, dtype):\n",
    "    with rasterio.open(\n",
    "            fp,  # file path\n",
    "            'w',           # w = write\n",
    "            driver='GTiff', # format\n",
    "            height = shape[0], \n",
    "            width = shape[1],\n",
    "            count = bands_n,  # number of raster bands in the dataset\n",
    "            dtype = dtype,\n",
    "            crs = crs,\n",
    "            transform = transform,\n",
    "        ) as dst:\n",
    "            dst.write(preds.astype(dtype), bands_n)\n",
    "    return \n",
    "    \n",
    "# ------------------------------------------------------------------------------\n",
    "\n",
    "# folder_path = path to folder to save rasters\n",
    "def min_max_diff_avg_rasters(lidar_pts, lidar_rast_reader, folder_path):    \n",
    "    rast = lidar_rast_reader.read([1]) # read raster\n",
    "    \n",
    "    mins = minf2D(rast, size=(3,3))    # calculate min max and difference\n",
    "    maxs = maxf2D(rast, size=(3,3))\n",
    "    diffs = maxs - mins\n",
    "    \n",
    "    # save rasters\n",
    "    m = [maxs,mins,diffs]\n",
    "    m_labels = ['maxs', 'mins', 'diffs']\n",
    "    for i in range(0,3):\n",
    "        fp = os.path.join(folder_path, 'lidar_'+m_labels +'.tif')\n",
    "        save_raster(fp, rast.shape, lidar_rast_reader.crs, lidar_rast_reader.transform, rasterio.uint8):\n",
    "    \n",
    "    # calculate averages\n",
    "    w = np.ones(9).reshape(3,3)\n",
    "    avgs = conf2D(a, \n",
    "             weights=w,\n",
    "             mode='constant')\n",
    "    avgs = avgs/9\n",
    "    \n",
    "    # save averages\n",
    "    fp = os.path.join(folder_path, 'lidar_avgs.tif')\n",
    "    save_raster(fp, rast.shape, lidar_rast_reader.crs, lidar_rast_reader.transform, rasterio.float32):\n",
    "    \n",
    "    return\n",
    "\n"
   ]
  }
 ],
 "metadata": {
  "kernelspec": {
   "display_name": "Python 3 (ipykernel)",
   "language": "python",
   "name": "python3"
  },
  "language_info": {
   "codemirror_mode": {
    "name": "ipython",
    "version": 3
   },
   "file_extension": ".py",
   "mimetype": "text/x-python",
   "name": "python",
   "nbconvert_exporter": "python",
   "pygments_lexer": "ipython3",
   "version": "3.8.13"
  }
 },
 "nbformat": 4,
 "nbformat_minor": 5
}
