{
 "cells": [
  {
   "cell_type": "code",
   "execution_count": 2,
   "id": "49807a07-64cf-4a78-b3df-143806fa04d4",
   "metadata": {},
   "outputs": [],
   "source": [
    "import numpy as np"
   ]
  },
  {
   "cell_type": "code",
   "execution_count": 20,
   "id": "79a5f824-01d9-4fa9-a753-16d50f6658b0",
   "metadata": {},
   "outputs": [],
   "source": [
    "from scipy.ndimage import maximum_filter as maxf2D\n",
    "from scipy.ndimage import minimum_filter as minf2D\n",
    "from scipy.ndimage import convolve as conf2D\n",
    "# https://stackoverflow.com/questions/43966350/getting-the-maximum-in-each-rolling-window-of-a-2d-numpy-array"
   ]
  },
  {
   "cell_type": "code",
   "execution_count": 5,
   "id": "3e064ba5-1e94-4386-91bc-8e0097db2c06",
   "metadata": {},
   "outputs": [
    {
     "data": {
      "text/plain": [
       "array([[ 0,  1,  2,  3,  4],\n",
       "       [ 5,  6,  7,  8,  9],\n",
       "       [10, 11, 12, 13, 14],\n",
       "       [15, 16, 17, 18, 19],\n",
       "       [20, 21, 22, 23, 24]])"
      ]
     },
     "execution_count": 5,
     "metadata": {},
     "output_type": "execute_result"
    }
   ],
   "source": [
    "a = np.array(range(0,25)).reshape(5,5)\n",
    "a"
   ]
  },
  {
   "cell_type": "code",
   "execution_count": 9,
   "id": "68f087d9-8ce9-42c3-9a04-523f77622cb5",
   "metadata": {},
   "outputs": [
    {
     "data": {
      "text/plain": [
       "5"
      ]
     },
     "execution_count": 9,
     "metadata": {},
     "output_type": "execute_result"
    }
   ],
   "source": [
    "# Store shapes of inputs\n",
    "M = 3 #window size\n",
    "N = 3\n",
    "P,Q = a.shape"
   ]
  },
  {
   "cell_type": "code",
   "execution_count": 18,
   "id": "d1127b34-864a-4ee9-819d-c9a2a025d0db",
   "metadata": {},
   "outputs": [
    {
     "data": {
      "text/plain": [
       "array([[12, 13, 14],\n",
       "       [17, 18, 19],\n",
       "       [22, 23, 24]])"
      ]
     },
     "execution_count": 18,
     "metadata": {},
     "output_type": "execute_result"
    }
   ],
   "source": [
    "maxs = maxf2D(a, size=(M,N))\n",
    "maxs"
   ]
  },
  {
   "cell_type": "code",
   "execution_count": 15,
   "id": "1f7c971f-5c4f-46d5-abe2-ca79897f1d1e",
   "metadata": {},
   "outputs": [
    {
     "data": {
      "text/plain": [
       "array([[ 0,  1,  2],\n",
       "       [ 5,  6,  7],\n",
       "       [10, 11, 12]])"
      ]
     },
     "execution_count": 15,
     "metadata": {},
     "output_type": "execute_result"
    }
   ],
   "source": [
    "\n",
    "mins = minf2D(a, size=(M,N))\n",
    "mi"
   ]
  },
  {
   "cell_type": "code",
   "execution_count": 29,
   "id": "727648e5-8f9e-48f3-8d25-1f2e59323be5",
   "metadata": {},
   "outputs": [],
   "source": []
  },
  {
   "cell_type": "code",
   "execution_count": 38,
   "id": "518ba515-8fc4-4dc3-93a7-b1f0a8c8ef88",
   "metadata": {},
   "outputs": [
    {
     "data": {
      "text/plain": [
       "array([[1., 1., 1.],\n",
       "       [1., 1., 1.],\n",
       "       [1., 1., 1.]])"
      ]
     },
     "execution_count": 38,
     "metadata": {},
     "output_type": "execute_result"
    }
   ],
   "source": [
    "w = np.ones(9).reshape(3,3)\n",
    "w"
   ]
  },
  {
   "cell_type": "code",
   "execution_count": 41,
   "id": "f69b806a-1291-4373-8d93-c53e4d49f48d",
   "metadata": {},
   "outputs": [
    {
     "data": {
      "text/plain": [
       "array([[ 1.33333333,  2.33333333,  3.        ,  3.66666667,  2.66666667],\n",
       "       [ 3.66666667,  6.        ,  7.        ,  8.        ,  5.66666667],\n",
       "       [ 7.        , 11.        , 12.        , 13.        ,  9.        ],\n",
       "       [10.33333333, 16.        , 17.        , 18.        , 12.33333333],\n",
       "       [ 8.        , 12.33333333, 13.        , 13.66666667,  9.33333333]])"
      ]
     },
     "execution_count": 41,
     "metadata": {},
     "output_type": "execute_result"
    }
   ],
   "source": [
    "avg = conf2D(a, weights=w,\n",
    "            mode='constant')\n",
    "avg/9"
   ]
  },
  {
   "cell_type": "code",
   "execution_count": 40,
   "id": "86312744-24e6-480c-9bd4-9c7521537de5",
   "metadata": {},
   "outputs": [
    {
     "data": {
      "text/plain": [
       "array([[ 0,  1,  2,  3,  4],\n",
       "       [ 5,  6,  7,  8,  9],\n",
       "       [10, 11, 12, 13, 14],\n",
       "       [15, 16, 17, 18, 19],\n",
       "       [20, 21, 22, 23, 24]])"
      ]
     },
     "execution_count": 40,
     "metadata": {},
     "output_type": "execute_result"
    }
   ],
   "source": [
    "a"
   ]
  },
  {
   "cell_type": "code",
   "execution_count": null,
   "id": "798b45f0-c109-4bb9-b270-cb00b281fe75",
   "metadata": {},
   "outputs": [],
   "source": []
  }
 ],
 "metadata": {
  "kernelspec": {
   "display_name": "Python 3 (ipykernel)",
   "language": "python",
   "name": "python3"
  },
  "language_info": {
   "codemirror_mode": {
    "name": "ipython",
    "version": 3
   },
   "file_extension": ".py",
   "mimetype": "text/x-python",
   "name": "python",
   "nbconvert_exporter": "python",
   "pygments_lexer": "ipython3",
   "version": "3.8.13"
  }
 },
 "nbformat": 4,
 "nbformat_minor": 5
}
