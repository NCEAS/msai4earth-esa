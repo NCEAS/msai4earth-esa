{
 "cells": [
  {
   "cell_type": "code",
   "execution_count": 1,
   "id": "49807a07-64cf-4a78-b3df-143806fa04d4",
   "metadata": {},
   "outputs": [],
   "source": [
    "import os\n",
    "import pandas as pd\n",
    "import geopandas as gpd\n",
    "\n",
    "import rasterio\n",
    "\n",
    "import pystac_client\n",
    "import planetary_computer as pc\n",
    "\n",
    "import lidar_sampling_functions as lsf"
   ]
  },
  {
   "cell_type": "markdown",
   "id": "c7ec3cbe-b942-43a0-baf6-e4c42e52ab49",
   "metadata": {},
   "source": [
    "## Downloading data through California Forest Observatory api"
   ]
  },
  {
   "cell_type": "code",
   "execution_count": 2,
   "id": "4ad14627-5012-4595-b241-1436e7e6e025",
   "metadata": {},
   "outputs": [],
   "source": [
    "#pip install cfo"
   ]
  },
  {
   "cell_type": "code",
   "execution_count": 3,
   "id": "596a078c-370e-44d6-b4f8-244deffe4482",
   "metadata": {},
   "outputs": [],
   "source": [
    "# import cfo\n",
    "# #import gdal"
   ]
  },
  {
   "cell_type": "code",
   "execution_count": 4,
   "id": "0db4c121-d34a-469e-a813-c2418c327711",
   "metadata": {},
   "outputs": [],
   "source": [
    "# forest_api = cfo.api()\n",
    "# forest_api.authenticate()"
   ]
  },
  {
   "cell_type": "code",
   "execution_count": 5,
   "id": "599a9e41-7524-46f9-846a-05a3b3ed1e67",
   "metadata": {},
   "outputs": [],
   "source": [
    "# forest_api.search(geography='California', metric='CanopyHeight')\n",
    "# # msai4earth-esa/shapefiles_n_rasters/SB_geometry/SB_only.shp"
   ]
  },
  {
   "cell_type": "code",
   "execution_count": 6,
   "id": "75f6242d-53b1-4e31-8452-dd5454243395",
   "metadata": {},
   "outputs": [],
   "source": [
    "# itemid = forest_api.search(geography='SantaBarbaraCounty', metric='CanopyHeight')[0]\n",
    "# itemid"
   ]
  },
  {
   "cell_type": "code",
   "execution_count": 7,
   "id": "50887eca-b3c4-4fd4-88b7-9f9c6f072d74",
   "metadata": {
    "tags": []
   },
   "outputs": [],
   "source": [
    "# lidar_file = os.path.join(os.getcwd(), 'santabarbara_lidar_2020.tif')"
   ]
  },
  {
   "cell_type": "code",
   "execution_count": 8,
   "id": "ac687fad-0698-4122-9013-1575fe06e433",
   "metadata": {
    "tags": []
   },
   "outputs": [],
   "source": [
    "# forest_api.download(itemid, lidar_file)"
   ]
  },
  {
   "cell_type": "markdown",
   "id": "680808f1-007a-4c73-98e5-ddaf154b6ada",
   "metadata": {},
   "source": [
    "## Open lidar and create min,max,avg,diff lidar rasters"
   ]
  },
  {
   "cell_type": "code",
   "execution_count": 9,
   "id": "e3435bbc-eecd-410d-90ed-fbcf849af325",
   "metadata": {},
   "outputs": [],
   "source": [
    "lidar_year = 2020"
   ]
  },
  {
   "cell_type": "code",
   "execution_count": 10,
   "id": "52ec7fcd-346d-411d-864e-7ddeec070e0d",
   "metadata": {},
   "outputs": [],
   "source": [
    "fp = os.path.join(os.getcwd(),'SantaBarbaraCounty_lidar_'+str(lidar_year)+'.tif')\n",
    "lidar_rast_r = rasterio.open(fp)"
   ]
  },
  {
   "cell_type": "code",
   "execution_count": 11,
   "id": "fc2cbc54-8d12-4e17-a9de-975767a10734",
   "metadata": {},
   "outputs": [],
   "source": [
    "lsf.save_min_max_rasters(rast_reader = lidar_rast_r, \n",
    "                              folder_path = os.path.join(os.getcwd(),'SantaBarbaraCounty_lidar_'+str(lidar_year)),\n",
    "                              aoi = 'SantaBarbaraCounty',\n",
    "                              year = 2020)\n",
    "\n",
    "lsf.save_avg_rasters(rast_reader = lidar_rast_r, \n",
    "                              folder_path = os.path.join(os.getcwd(),'SantaBarbaraCounty_lidar_'+str(lidar_year)),\n",
    "                              aoi = 'SantaBarbaraCounty',\n",
    "                              year = 2020)"
   ]
  },
  {
   "cell_type": "markdown",
   "id": "9cdf0795-010d-4ce3-a806-50efd303fdd5",
   "metadata": {},
   "source": [
    "## Open points from given year and aoi"
   ]
  },
  {
   "cell_type": "code",
   "execution_count": 12,
   "id": "019672dc-a590-4e24-9255-746e69e5c6bd",
   "metadata": {},
   "outputs": [],
   "source": [
    "aoi = 'campus_lagoon'\n",
    "aoi_year = 2020\n",
    "\n",
    "pts_fp = os.path.join('/home/jovyan/msai4earth-esa/iceplant_detection/data_sampling/points_from_naip_images/',\n",
    "                     aoi+'_points',\n",
    "                     aoi+'_points_'+str(aoi_year)+'.csv')"
   ]
  },
  {
   "cell_type": "markdown",
   "id": "483d52bb-4090-48dd-9334-257b3bbd6053",
   "metadata": {},
   "source": [
    "## Obtain CRS from itemid and create geodataframe from points"
   ]
  },
  {
   "cell_type": "code",
   "execution_count": 13,
   "id": "b18bc935-4925-42ff-a90c-8be42bd05d6b",
   "metadata": {},
   "outputs": [
    {
     "data": {
      "text/plain": [
       "'ca_m_3411934_sw_11_060_20200521'"
      ]
     },
     "execution_count": 13,
     "metadata": {},
     "output_type": "execute_result"
    }
   ],
   "source": [
    "itemid = pd.read_csv(pts_fp).naip_id[0]\n",
    "itemid"
   ]
  },
  {
   "cell_type": "code",
   "execution_count": 14,
   "id": "d8a92f7a-d841-47d5-8f8c-4f5a458e4c3d",
   "metadata": {},
   "outputs": [],
   "source": [
    "# # accesing Azure storage using pystac client\n",
    "# catalog = pystac_client.Client.open(\"https://planetarycomputer.microsoft.com/api/stac/v1\")\n",
    "\n",
    "# # search for naip scene where the pts were sampled from\n",
    "# search = catalog.search(\n",
    "#     collections=[\"naip\"],\n",
    "#     ids = itemid\n",
    "# )\n",
    "# item = list(search.get_items())[0]\n",
    "# epsg_code = item.properties['proj:epsg']"
   ]
  },
  {
   "cell_type": "code",
   "execution_count": 15,
   "id": "340dae92-dd88-4d57-b544-aad9a6b41efa",
   "metadata": {},
   "outputs": [
    {
     "ename": "NameError",
     "evalue": "name 'pystac_client' is not defined",
     "output_type": "error",
     "traceback": [
      "\u001b[0;31m---------------------------------------------------------------------------\u001b[0m",
      "\u001b[0;31mNameError\u001b[0m                                 Traceback (most recent call last)",
      "Input \u001b[0;32mIn [15]\u001b[0m, in \u001b[0;36m<cell line: 1>\u001b[0;34m()\u001b[0m\n\u001b[0;32m----> 1\u001b[0m pts \u001b[38;5;241m=\u001b[39m lsf\u001b[38;5;241m.\u001b[39mgeodataframe_from_csv(pts_fp, \u001b[43mlsf\u001b[49m\u001b[38;5;241;43m.\u001b[39;49m\u001b[43mcrs_from_itemid\u001b[49m\u001b[43m(\u001b[49m\u001b[43mitemid\u001b[49m\u001b[43m)\u001b[49m)\n\u001b[1;32m      2\u001b[0m pts\u001b[38;5;241m.\u001b[39mhead(\u001b[38;5;241m3\u001b[39m)\n",
      "File \u001b[0;32m~/msai4earth-esa/iceplant_detection/model_with_lidar/lidar_sampling_functions.py:127\u001b[0m, in \u001b[0;36mcrs_from_itemid\u001b[0;34m(itemid)\u001b[0m\n\u001b[1;32m    125\u001b[0m \u001b[38;5;28;01mdef\u001b[39;00m \u001b[38;5;21mcrs_from_itemid\u001b[39m(itemid):\n\u001b[1;32m    126\u001b[0m     \u001b[38;5;66;03m# accesing Azure storage using pystac client\u001b[39;00m\n\u001b[0;32m--> 127\u001b[0m     catalog \u001b[38;5;241m=\u001b[39m \u001b[43mpystac_client\u001b[49m\u001b[38;5;241m.\u001b[39mClient\u001b[38;5;241m.\u001b[39mopen(\u001b[38;5;124m\"\u001b[39m\u001b[38;5;124mhttps://planetarycomputer.microsoft.com/api/stac/v1\u001b[39m\u001b[38;5;124m\"\u001b[39m)\n\u001b[1;32m    129\u001b[0m     \u001b[38;5;66;03m# search for naip scene where the pts were sampled from\u001b[39;00m\n\u001b[1;32m    130\u001b[0m     search \u001b[38;5;241m=\u001b[39m catalog\u001b[38;5;241m.\u001b[39msearch(\n\u001b[1;32m    131\u001b[0m         collections\u001b[38;5;241m=\u001b[39m[\u001b[38;5;124m\"\u001b[39m\u001b[38;5;124mnaip\u001b[39m\u001b[38;5;124m\"\u001b[39m],\n\u001b[1;32m    132\u001b[0m         ids \u001b[38;5;241m=\u001b[39m itemid\n\u001b[1;32m    133\u001b[0m     )\n",
      "\u001b[0;31mNameError\u001b[0m: name 'pystac_client' is not defined"
     ]
    }
   ],
   "source": [
    "pts = lsf.geodataframe_from_csv(pts_fp, lsf.crs_from_itemid(itemid))\n",
    "pts.head(3)"
   ]
  },
  {
   "cell_type": "markdown",
   "id": "ae7f9c9d-4689-41f5-86d3-2d8c85b2ca58",
   "metadata": {},
   "source": [
    "## Sample LIDAR"
   ]
  },
  {
   "cell_type": "code",
   "execution_count": null,
   "id": "28b0908e-929a-4e88-9355-09bc977faedb",
   "metadata": {},
   "outputs": [],
   "source": [
    "pts_xy = lsf.pts_for_lidar_sampling(pts, lidar_rast_r.crs)"
   ]
  },
  {
   "cell_type": "code",
   "execution_count": null,
   "id": "2b552549-e9d7-4cf2-b0ea-4b557010ab39",
   "metadata": {},
   "outputs": [],
   "source": [
    "lidar_samples = lsf.sample_raster(pts_xy, lidar_rast_r)"
   ]
  },
  {
   "cell_type": "code",
   "execution_count": null,
   "id": "2efa130b-3fee-4377-be94-ba8d88cb6f4e",
   "metadata": {},
   "outputs": [],
   "source": [
    "lidar_fps = []\n",
    "for tag in ['maxs_', 'mins_', 'avgs_']:\n",
    "    lidar_fps.append(os.path.join(os.getcwd(),\n",
    "                                 'SantaBarbaraCounty_lidar_'+str(lidar_year),\n",
    "                                 'SantaBarbaraCounty_lidar_'+tag+ str(lidar_year)+'.tif'))"
   ]
  },
  {
   "cell_type": "code",
   "execution_count": null,
   "id": "9c6c4fce-9586-4b0d-a756-9e374cc12b51",
   "metadata": {},
   "outputs": [],
   "source": [
    "#fp = os.path.join(os.getcwd(),'lidar_maxs.tif')\n",
    "maxs_rast_r = rasterio.open(lidar_fps[0])\n",
    "max_samples = lsf.sample_raster(pts_xy, maxs_rast_r)"
   ]
  },
  {
   "cell_type": "code",
   "execution_count": null,
   "id": "4dfecea6-65be-4734-b773-d6a739d05f1b",
   "metadata": {},
   "outputs": [],
   "source": [
    "mins_rast_r = rasterio.open(lidar_fps[1])\n",
    "min_samples = lsf.sample_raster(pts_xy, mins_rast_r)"
   ]
  },
  {
   "cell_type": "code",
   "execution_count": null,
   "id": "519ddbe1-3b9d-47af-b0ed-262a05dcf3dd",
   "metadata": {},
   "outputs": [],
   "source": [
    "#fp = os.path.join(os.getcwd(),'lidar_avgs.tif')\n",
    "avg_rast_r = rasterio.open(lidar_fps[2])\n",
    "avg_samples = lsf.sample_raster(pts_xy, avg_rast_r)"
   ]
  },
  {
   "cell_type": "code",
   "execution_count": null,
   "id": "8e55df51-a4b8-478d-a9cc-f7ffcac7adbf",
   "metadata": {},
   "outputs": [],
   "source": [
    "pts['lidar'] = lidar_samples\n",
    "pts['max_lidar']= max_samples\n",
    "pts['min_lidar'] = min_samples\n",
    "pts['min_max_diff'] = pts.max_lidar - pts.min_lidar\n",
    "pts['avg_lidar'] = avg_samples\n"
   ]
  },
  {
   "cell_type": "code",
   "execution_count": null,
   "id": "a65e4cca-ab42-44d5-9d2e-98637c168dbd",
   "metadata": {},
   "outputs": [],
   "source": [
    "pts.head(3)"
   ]
  },
  {
   "cell_type": "code",
   "execution_count": null,
   "id": "e3963e04-432c-4e53-964d-e44b609f2ccd",
   "metadata": {},
   "outputs": [],
   "source": [
    "# ptslidar_fp = os.path.join('/home/jovyan/msai4earth-esa/iceplant_detection/data_sampling/points_from_naip_images/',\n",
    "#                      aoi+'_points',\n",
    "#                      aoi+'_points_lidar'+str(aoi_year)+'.csv')\n",
    "# pts.to_csv(ptslidar_fp)"
   ]
  },
  {
   "cell_type": "code",
   "execution_count": null,
   "id": "5816ef91-0f73-403b-9970-5bf8dbbb6735",
   "metadata": {},
   "outputs": [],
   "source": [
    "for fp in lidar_fps:\n",
    "    os.remove(fp)"
   ]
  },
  {
   "cell_type": "code",
   "execution_count": null,
   "id": "4b4d906f-a357-4c67-9401-5191c7a3152f",
   "metadata": {},
   "outputs": [],
   "source": []
  }
 ],
 "metadata": {
  "kernelspec": {
   "display_name": "Python 3 (ipykernel)",
   "language": "python",
   "name": "python3"
  },
  "language_info": {
   "codemirror_mode": {
    "name": "ipython",
    "version": 3
   },
   "file_extension": ".py",
   "mimetype": "text/x-python",
   "name": "python",
   "nbconvert_exporter": "python",
   "pygments_lexer": "ipython3",
   "version": "3.8.13"
  }
 },
 "nbformat": 4,
 "nbformat_minor": 5
}
