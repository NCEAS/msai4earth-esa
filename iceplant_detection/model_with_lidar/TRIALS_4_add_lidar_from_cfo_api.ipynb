{
 "cells": [
  {
   "cell_type": "code",
   "execution_count": 1,
   "id": "49807a07-64cf-4a78-b3df-143806fa04d4",
   "metadata": {},
   "outputs": [],
   "source": [
    "import os\n",
    "import pandas as pd\n",
    "import geopandas as gpd\n",
    "\n",
    "import rasterio\n",
    "\n",
    "import pystac_client\n",
    "import planetary_computer as pc\n",
    "\n",
    "import lidar_sampling_functions as lsf"
   ]
  },
  {
   "cell_type": "markdown",
   "id": "c7ec3cbe-b942-43a0-baf6-e4c42e52ab49",
   "metadata": {},
   "source": [
    "## Downloading data through California Forest Observatory api"
   ]
  },
  {
   "cell_type": "code",
   "execution_count": null,
   "id": "4ad14627-5012-4595-b241-1436e7e6e025",
   "metadata": {},
   "outputs": [],
   "source": [
    "#pip install cfo"
   ]
  },
  {
   "cell_type": "code",
   "execution_count": null,
   "id": "596a078c-370e-44d6-b4f8-244deffe4482",
   "metadata": {},
   "outputs": [],
   "source": [
    "# import cfo\n",
    "# #import gdal"
   ]
  },
  {
   "cell_type": "code",
   "execution_count": null,
   "id": "0db4c121-d34a-469e-a813-c2418c327711",
   "metadata": {},
   "outputs": [],
   "source": [
    "# forest_api = cfo.api()\n",
    "# forest_api.authenticate()"
   ]
  },
  {
   "cell_type": "code",
   "execution_count": null,
   "id": "599a9e41-7524-46f9-846a-05a3b3ed1e67",
   "metadata": {},
   "outputs": [],
   "source": [
    "# forest_api.search(geography='California', metric='CanopyHeight')\n",
    "# # msai4earth-esa/shapefiles_n_rasters/SB_geometry/SB_only.shp"
   ]
  },
  {
   "cell_type": "code",
   "execution_count": null,
   "id": "75f6242d-53b1-4e31-8452-dd5454243395",
   "metadata": {},
   "outputs": [],
   "source": [
    "# itemid = forest_api.search(geography='SantaBarbaraCounty', metric='CanopyHeight')[0]\n",
    "# itemid"
   ]
  },
  {
   "cell_type": "code",
   "execution_count": null,
   "id": "50887eca-b3c4-4fd4-88b7-9f9c6f072d74",
   "metadata": {
    "tags": []
   },
   "outputs": [],
   "source": [
    "# lidar_file = os.path.join(os.getcwd(), 'santabarbara_lidar_2020.tif')"
   ]
  },
  {
   "cell_type": "code",
   "execution_count": null,
   "id": "ac687fad-0698-4122-9013-1575fe06e433",
   "metadata": {
    "tags": []
   },
   "outputs": [],
   "source": [
    "# forest_api.download(itemid, lidar_file)"
   ]
  },
  {
   "cell_type": "markdown",
   "id": "680808f1-007a-4c73-98e5-ddaf154b6ada",
   "metadata": {},
   "source": [
    "## Open lidar and create min,max,avg,diff lidar rasters"
   ]
  },
  {
   "cell_type": "code",
   "execution_count": 2,
   "id": "e3435bbc-eecd-410d-90ed-fbcf849af325",
   "metadata": {},
   "outputs": [],
   "source": [
    "lidar_year = 2020"
   ]
  },
  {
   "cell_type": "code",
   "execution_count": 3,
   "id": "52ec7fcd-346d-411d-864e-7ddeec070e0d",
   "metadata": {},
   "outputs": [],
   "source": [
    "fp = os.path.join(os.getcwd(),'SantaBarbaraCounty_lidar_'+str(lidar_year)+'.tif')\n",
    "lidar_rast_r = rasterio.open(fp)"
   ]
  },
  {
   "cell_type": "code",
   "execution_count": 4,
   "id": "fc2cbc54-8d12-4e17-a9de-975767a10734",
   "metadata": {},
   "outputs": [],
   "source": [
    "lsf.save_min_max_diff_rasters(rast_reader = lidar_rast_r, \n",
    "                              folder_path = os.path.join(os.getcwd(),'SantaBarbaraCounty_lidar_'+str(lidar_year)),\n",
    "                              aoi = 'SantaBarbaraCounty',\n",
    "                              year = 2020)\n",
    "\n",
    "lsf.save_avg_rasters(rast_reader = lidar_rast_r, \n",
    "                              folder_path = os.path.join(os.getcwd(),'SantaBarbaraCounty_lidar_'+str(lidar_year)),\n",
    "                              aoi = 'SantaBarbaraCounty',\n",
    "                              year = 2020)"
   ]
  },
  {
   "cell_type": "markdown",
   "id": "9cdf0795-010d-4ce3-a806-50efd303fdd5",
   "metadata": {},
   "source": [
    "## Open points from given year and aoi"
   ]
  },
  {
   "cell_type": "code",
   "execution_count": 5,
   "id": "019672dc-a590-4e24-9255-746e69e5c6bd",
   "metadata": {},
   "outputs": [],
   "source": [
    "aoi = 'campus_lagoon'\n",
    "aoi_year = 2020\n",
    "\n",
    "pts_fp = os.path.join('/home/jovyan/msai4earth-esa/iceplant_detection/data_sampling/points_from_naip_images/',\n",
    "                     aoi+'_points',\n",
    "                     aoi+'_points_'+str(aoi_year)+'.csv')"
   ]
  },
  {
   "cell_type": "markdown",
   "id": "483d52bb-4090-48dd-9334-257b3bbd6053",
   "metadata": {},
   "source": [
    "## Obtain CRS from itemid and create geodataframe from points"
   ]
  },
  {
   "cell_type": "code",
   "execution_count": 6,
   "id": "6a6b777f-b16f-48d6-aeff-19b6ff1539bc",
   "metadata": {},
   "outputs": [],
   "source": [
    "from rasterio.crs import CRS"
   ]
  },
  {
   "cell_type": "code",
   "execution_count": 7,
   "id": "b18bc935-4925-42ff-a90c-8be42bd05d6b",
   "metadata": {},
   "outputs": [
    {
     "data": {
      "text/plain": [
       "'ca_m_3411934_sw_11_060_20200521'"
      ]
     },
     "execution_count": 7,
     "metadata": {},
     "output_type": "execute_result"
    }
   ],
   "source": [
    "itemid = pd.read_csv(pts_fp).naip_id[0]\n",
    "itemid"
   ]
  },
  {
   "cell_type": "code",
   "execution_count": 8,
   "id": "d8a92f7a-d841-47d5-8f8c-4f5a458e4c3d",
   "metadata": {},
   "outputs": [],
   "source": [
    "# accesing Azure storage using pystac client\n",
    "catalog = pystac_client.Client.open(\"https://planetarycomputer.microsoft.com/api/stac/v1\")\n",
    "\n",
    "# search for naip scene where the pts were sampled from\n",
    "search = catalog.search(\n",
    "    collections=[\"naip\"],\n",
    "    ids = itemid\n",
    ")\n",
    "item = list(search.get_items())[0]\n",
    "epsg_code = item.properties['proj:epsg']"
   ]
  },
  {
   "cell_type": "code",
   "execution_count": 9,
   "id": "340dae92-dd88-4d57-b544-aad9a6b41efa",
   "metadata": {},
   "outputs": [
    {
     "name": "stderr",
     "output_type": "stream",
     "text": [
      "/srv/conda/envs/notebook/lib/python3.8/site-packages/pandas/core/dtypes/cast.py:122: ShapelyDeprecationWarning: The array interface is deprecated and will no longer work in Shapely 2.0. Convert the '.coords' to a numpy array instead.\n",
      "  arr = construct_1d_object_array_from_listlike(values)\n"
     ]
    },
    {
     "data": {
      "text/html": [
       "<div>\n",
       "<style scoped>\n",
       "    .dataframe tbody tr th:only-of-type {\n",
       "        vertical-align: middle;\n",
       "    }\n",
       "\n",
       "    .dataframe tbody tr th {\n",
       "        vertical-align: top;\n",
       "    }\n",
       "\n",
       "    .dataframe thead th {\n",
       "        text-align: right;\n",
       "    }\n",
       "</style>\n",
       "<table border=\"1\" class=\"dataframe\">\n",
       "  <thead>\n",
       "    <tr style=\"text-align: right;\">\n",
       "      <th></th>\n",
       "      <th>iceplant</th>\n",
       "      <th>r</th>\n",
       "      <th>g</th>\n",
       "      <th>b</th>\n",
       "      <th>nir</th>\n",
       "      <th>year</th>\n",
       "      <th>month</th>\n",
       "      <th>day</th>\n",
       "      <th>naip_id</th>\n",
       "      <th>polygon_id</th>\n",
       "      <th>geometry</th>\n",
       "    </tr>\n",
       "  </thead>\n",
       "  <tbody>\n",
       "    <tr>\n",
       "      <th>0</th>\n",
       "      <td>1</td>\n",
       "      <td>78</td>\n",
       "      <td>88</td>\n",
       "      <td>69</td>\n",
       "      <td>161</td>\n",
       "      <td>2020</td>\n",
       "      <td>5</td>\n",
       "      <td>21</td>\n",
       "      <td>ca_m_3411934_sw_11_060_20200521</td>\n",
       "      <td>0</td>\n",
       "      <td>POINT (238491.487 3810779.673)</td>\n",
       "    </tr>\n",
       "    <tr>\n",
       "      <th>1</th>\n",
       "      <td>1</td>\n",
       "      <td>85</td>\n",
       "      <td>89</td>\n",
       "      <td>70</td>\n",
       "      <td>162</td>\n",
       "      <td>2020</td>\n",
       "      <td>5</td>\n",
       "      <td>21</td>\n",
       "      <td>ca_m_3411934_sw_11_060_20200521</td>\n",
       "      <td>0</td>\n",
       "      <td>POINT (238490.963 3810789.330)</td>\n",
       "    </tr>\n",
       "    <tr>\n",
       "      <th>2</th>\n",
       "      <td>1</td>\n",
       "      <td>74</td>\n",
       "      <td>81</td>\n",
       "      <td>70</td>\n",
       "      <td>144</td>\n",
       "      <td>2020</td>\n",
       "      <td>5</td>\n",
       "      <td>21</td>\n",
       "      <td>ca_m_3411934_sw_11_060_20200521</td>\n",
       "      <td>0</td>\n",
       "      <td>POINT (238484.510 3810781.595)</td>\n",
       "    </tr>\n",
       "  </tbody>\n",
       "</table>\n",
       "</div>"
      ],
      "text/plain": [
       "   iceplant   r   g   b  nir  year  month  day  \\\n",
       "0         1  78  88  69  161  2020      5   21   \n",
       "1         1  85  89  70  162  2020      5   21   \n",
       "2         1  74  81  70  144  2020      5   21   \n",
       "\n",
       "                           naip_id  polygon_id                        geometry  \n",
       "0  ca_m_3411934_sw_11_060_20200521           0  POINT (238491.487 3810779.673)  \n",
       "1  ca_m_3411934_sw_11_060_20200521           0  POINT (238490.963 3810789.330)  \n",
       "2  ca_m_3411934_sw_11_060_20200521           0  POINT (238484.510 3810781.595)  "
      ]
     },
     "execution_count": 9,
     "metadata": {},
     "output_type": "execute_result"
    }
   ],
   "source": [
    "pts = lsf.geodataframe_from_csv(pts_fp, CRS.from_epsg(epsg_code))\n",
    "pts.head(3)"
   ]
  },
  {
   "cell_type": "markdown",
   "id": "ae7f9c9d-4689-41f5-86d3-2d8c85b2ca58",
   "metadata": {},
   "source": [
    "## Sample LIDAR"
   ]
  },
  {
   "cell_type": "code",
   "execution_count": 16,
   "id": "28b0908e-929a-4e88-9355-09bc977faedb",
   "metadata": {},
   "outputs": [],
   "source": [
    "pts_xy = lsf.pts_for_lidar_sampling(pts, lidar_rast_r.crs)"
   ]
  },
  {
   "cell_type": "code",
   "execution_count": 17,
   "id": "2b552549-e9d7-4cf2-b0ea-4b557010ab39",
   "metadata": {},
   "outputs": [],
   "source": [
    "lidar_samples = lsf.sample_raster(pts_xy, lidar_rast_r)"
   ]
  },
  {
   "cell_type": "code",
   "execution_count": 18,
   "id": "2efa130b-3fee-4377-be94-ba8d88cb6f4e",
   "metadata": {},
   "outputs": [],
   "source": [
    "lidar_fps = []\n",
    "for tag in ['maxs_', 'mins_', 'avgs_']:\n",
    "    lidar_fps.append(os.path.join(os.getcwd(),\n",
    "                                 'SantaBarbaraCounty_lidar_'+str(lidar_year),\n",
    "                                 'SantaBarbaraCounty_lidar_'+tag+ str(lidar_year)+'.tif'))\n",
    "#lidar_fps"
   ]
  },
  {
   "cell_type": "code",
   "execution_count": 19,
   "id": "9c6c4fce-9586-4b0d-a756-9e374cc12b51",
   "metadata": {},
   "outputs": [],
   "source": [
    "#fp = os.path.join(os.getcwd(),'lidar_maxs.tif')\n",
    "maxs_rast_r = rasterio.open(lidar_fps[0])\n",
    "max_samples = lsf.sample_raster(pts_xy, maxs_rast_r)"
   ]
  },
  {
   "cell_type": "code",
   "execution_count": 22,
   "id": "4dfecea6-65be-4734-b773-d6a739d05f1b",
   "metadata": {},
   "outputs": [],
   "source": [
    "mins_rast_r = rasterio.open(lidar_fps[1])\n",
    "min_samples = lsf.sample_raster(pts_xy, mins_rast_r)"
   ]
  },
  {
   "cell_type": "code",
   "execution_count": 23,
   "id": "519ddbe1-3b9d-47af-b0ed-262a05dcf3dd",
   "metadata": {},
   "outputs": [],
   "source": [
    "#fp = os.path.join(os.getcwd(),'lidar_avgs.tif')\n",
    "avg_rast_r = rasterio.open(lidar_fps[2])\n",
    "avg_samples = lsf.sample_raster(pts_xy, avg_rast_r)"
   ]
  },
  {
   "cell_type": "code",
   "execution_count": 24,
   "id": "8e55df51-a4b8-478d-a9cc-f7ffcac7adbf",
   "metadata": {},
   "outputs": [],
   "source": [
    "pts['lidar'] = lidar_samples\n",
    "pts['max_lidar']= max_samples\n",
    "pts['min_lidar'] = min_samples\n",
    "pts['min_max_diff'] = pts.max_lidar - pts.min_lidar\n",
    "pts['avg_lidar'] = avg_samples\n"
   ]
  },
  {
   "cell_type": "code",
   "execution_count": 25,
   "id": "a65e4cca-ab42-44d5-9d2e-98637c168dbd",
   "metadata": {},
   "outputs": [
    {
     "data": {
      "text/html": [
       "<div>\n",
       "<style scoped>\n",
       "    .dataframe tbody tr th:only-of-type {\n",
       "        vertical-align: middle;\n",
       "    }\n",
       "\n",
       "    .dataframe tbody tr th {\n",
       "        vertical-align: top;\n",
       "    }\n",
       "\n",
       "    .dataframe thead th {\n",
       "        text-align: right;\n",
       "    }\n",
       "</style>\n",
       "<table border=\"1\" class=\"dataframe\">\n",
       "  <thead>\n",
       "    <tr style=\"text-align: right;\">\n",
       "      <th></th>\n",
       "      <th>iceplant</th>\n",
       "      <th>r</th>\n",
       "      <th>g</th>\n",
       "      <th>b</th>\n",
       "      <th>nir</th>\n",
       "      <th>year</th>\n",
       "      <th>month</th>\n",
       "      <th>day</th>\n",
       "      <th>naip_id</th>\n",
       "      <th>polygon_id</th>\n",
       "      <th>geometry</th>\n",
       "      <th>lidar</th>\n",
       "      <th>max_lidar</th>\n",
       "      <th>min_lidar</th>\n",
       "      <th>min_max_diff</th>\n",
       "      <th>avg_lidar</th>\n",
       "    </tr>\n",
       "  </thead>\n",
       "  <tbody>\n",
       "    <tr>\n",
       "      <th>0</th>\n",
       "      <td>1</td>\n",
       "      <td>78</td>\n",
       "      <td>88</td>\n",
       "      <td>69</td>\n",
       "      <td>161</td>\n",
       "      <td>2020</td>\n",
       "      <td>5</td>\n",
       "      <td>21</td>\n",
       "      <td>ca_m_3411934_sw_11_060_20200521</td>\n",
       "      <td>0</td>\n",
       "      <td>POINT (238491.487 3810779.673)</td>\n",
       "      <td>2</td>\n",
       "      <td>6</td>\n",
       "      <td>0</td>\n",
       "      <td>6</td>\n",
       "      <td>2.555556</td>\n",
       "    </tr>\n",
       "    <tr>\n",
       "      <th>1</th>\n",
       "      <td>1</td>\n",
       "      <td>85</td>\n",
       "      <td>89</td>\n",
       "      <td>70</td>\n",
       "      <td>162</td>\n",
       "      <td>2020</td>\n",
       "      <td>5</td>\n",
       "      <td>21</td>\n",
       "      <td>ca_m_3411934_sw_11_060_20200521</td>\n",
       "      <td>0</td>\n",
       "      <td>POINT (238490.963 3810789.330)</td>\n",
       "      <td>0</td>\n",
       "      <td>4</td>\n",
       "      <td>0</td>\n",
       "      <td>4</td>\n",
       "      <td>1.111111</td>\n",
       "    </tr>\n",
       "    <tr>\n",
       "      <th>2</th>\n",
       "      <td>1</td>\n",
       "      <td>74</td>\n",
       "      <td>81</td>\n",
       "      <td>70</td>\n",
       "      <td>144</td>\n",
       "      <td>2020</td>\n",
       "      <td>5</td>\n",
       "      <td>21</td>\n",
       "      <td>ca_m_3411934_sw_11_060_20200521</td>\n",
       "      <td>0</td>\n",
       "      <td>POINT (238484.510 3810781.595)</td>\n",
       "      <td>4</td>\n",
       "      <td>6</td>\n",
       "      <td>0</td>\n",
       "      <td>6</td>\n",
       "      <td>3.111111</td>\n",
       "    </tr>\n",
       "  </tbody>\n",
       "</table>\n",
       "</div>"
      ],
      "text/plain": [
       "   iceplant   r   g   b  nir  year  month  day  \\\n",
       "0         1  78  88  69  161  2020      5   21   \n",
       "1         1  85  89  70  162  2020      5   21   \n",
       "2         1  74  81  70  144  2020      5   21   \n",
       "\n",
       "                           naip_id  polygon_id  \\\n",
       "0  ca_m_3411934_sw_11_060_20200521           0   \n",
       "1  ca_m_3411934_sw_11_060_20200521           0   \n",
       "2  ca_m_3411934_sw_11_060_20200521           0   \n",
       "\n",
       "                         geometry  lidar  max_lidar  min_lidar  min_max_diff  \\\n",
       "0  POINT (238491.487 3810779.673)      2          6          0             6   \n",
       "1  POINT (238490.963 3810789.330)      0          4          0             4   \n",
       "2  POINT (238484.510 3810781.595)      4          6          0             6   \n",
       "\n",
       "   avg_lidar  \n",
       "0   2.555556  \n",
       "1   1.111111  \n",
       "2   3.111111  "
      ]
     },
     "execution_count": 25,
     "metadata": {},
     "output_type": "execute_result"
    }
   ],
   "source": [
    "pts.head(3)"
   ]
  },
  {
   "cell_type": "code",
   "execution_count": null,
   "id": "e3963e04-432c-4e53-964d-e44b609f2ccd",
   "metadata": {},
   "outputs": [],
   "source": [
    "ptslidar_fp = os.path.join('/home/jovyan/msai4earth-esa/iceplant_detection/data_sampling/points_from_naip_images/',\n",
    "                     aoi+'_points',\n",
    "                     aoi+'_points_lidar'+str(aoi_year)+'.csv')\n",
    "pts.to_csv(ptslidar_fp)"
   ]
  },
  {
   "cell_type": "code",
   "execution_count": null,
   "id": "d9e4acfc-54ca-46d0-86c1-374ee202ad3a",
   "metadata": {},
   "outputs": [],
   "source": []
  }
 ],
 "metadata": {
  "kernelspec": {
   "display_name": "Python 3 (ipykernel)",
   "language": "python",
   "name": "python3"
  },
  "language_info": {
   "codemirror_mode": {
    "name": "ipython",
    "version": 3
   },
   "file_extension": ".py",
   "mimetype": "text/x-python",
   "name": "python",
   "nbconvert_exporter": "python",
   "pygments_lexer": "ipython3",
   "version": "3.8.13"
  }
 },
 "nbformat": 4,
 "nbformat_minor": 5
}
