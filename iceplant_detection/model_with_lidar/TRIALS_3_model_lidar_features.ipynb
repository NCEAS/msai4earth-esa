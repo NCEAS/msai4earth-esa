{
 "cells": [
  {
   "cell_type": "code",
   "execution_count": 3,
   "id": "477d9152-3e54-4d2c-888c-5434d97744df",
   "metadata": {},
   "outputs": [],
   "source": [
    "import os\n",
    "import pandas as pd\n",
    "import numpy as np\n",
    "import matplotlib.pyplot as plt\n",
    "# import rioxarray as rioxr\n",
    "# import xarray as xr\n",
    "\n",
    "from sklearn.model_selection import train_test_split\n",
    "from sklearn.ensemble import RandomForestClassifier\n",
    "\n",
    "import rasterio\n",
    "import geopandas as gpd\n",
    "\n",
    "import pystac_client \n",
    "import planetary_computer as pc\n",
    "\n",
    "# from shapely.geometry import Polygon\n",
    "\n",
    "#import iceplant_detection_functions as ipf"
   ]
  },
  {
   "cell_type": "code",
   "execution_count": 4,
   "id": "2d647db9-425c-4d33-b863-2171c7af4f6a",
   "metadata": {},
   "outputs": [
    {
     "data": {
      "text/html": [
       "<div>\n",
       "<style scoped>\n",
       "    .dataframe tbody tr th:only-of-type {\n",
       "        vertical-align: middle;\n",
       "    }\n",
       "\n",
       "    .dataframe tbody tr th {\n",
       "        vertical-align: top;\n",
       "    }\n",
       "\n",
       "    .dataframe thead th {\n",
       "        text-align: right;\n",
       "    }\n",
       "</style>\n",
       "<table border=\"1\" class=\"dataframe\">\n",
       "  <thead>\n",
       "    <tr style=\"text-align: right;\">\n",
       "      <th></th>\n",
       "      <th>Unnamed: 0</th>\n",
       "      <th>iceplant</th>\n",
       "      <th>r</th>\n",
       "      <th>g</th>\n",
       "      <th>b</th>\n",
       "      <th>nir</th>\n",
       "      <th>year</th>\n",
       "      <th>month</th>\n",
       "      <th>day</th>\n",
       "      <th>naip_id</th>\n",
       "      <th>polygon_id</th>\n",
       "      <th>geometry</th>\n",
       "      <th>lidar</th>\n",
       "      <th>max_lidar_w</th>\n",
       "      <th>min_lidar_w</th>\n",
       "      <th>min_max_diff</th>\n",
       "      <th>avg_lidar_w</th>\n",
       "    </tr>\n",
       "  </thead>\n",
       "  <tbody>\n",
       "    <tr>\n",
       "      <th>0</th>\n",
       "      <td>0</td>\n",
       "      <td>1</td>\n",
       "      <td>93</td>\n",
       "      <td>88</td>\n",
       "      <td>93</td>\n",
       "      <td>141</td>\n",
       "      <td>2018</td>\n",
       "      <td>7</td>\n",
       "      <td>22</td>\n",
       "      <td>ca_m_3411934_sw_11_060_20180722_20190209</td>\n",
       "      <td>0</td>\n",
       "      <td>POINT (238343.42981319653 3810848.805207873)</td>\n",
       "      <td>4</td>\n",
       "      <td>5</td>\n",
       "      <td>2</td>\n",
       "      <td>3</td>\n",
       "      <td>3.333333</td>\n",
       "    </tr>\n",
       "    <tr>\n",
       "      <th>1</th>\n",
       "      <td>1</td>\n",
       "      <td>1</td>\n",
       "      <td>85</td>\n",
       "      <td>85</td>\n",
       "      <td>89</td>\n",
       "      <td>137</td>\n",
       "      <td>2018</td>\n",
       "      <td>7</td>\n",
       "      <td>22</td>\n",
       "      <td>ca_m_3411934_sw_11_060_20180722_20190209</td>\n",
       "      <td>0</td>\n",
       "      <td>POINT (238343.54673072172 3810846.093093588)</td>\n",
       "      <td>4</td>\n",
       "      <td>5</td>\n",
       "      <td>2</td>\n",
       "      <td>3</td>\n",
       "      <td>3.333333</td>\n",
       "    </tr>\n",
       "    <tr>\n",
       "      <th>2</th>\n",
       "      <td>2</td>\n",
       "      <td>1</td>\n",
       "      <td>89</td>\n",
       "      <td>85</td>\n",
       "      <td>91</td>\n",
       "      <td>133</td>\n",
       "      <td>2018</td>\n",
       "      <td>7</td>\n",
       "      <td>22</td>\n",
       "      <td>ca_m_3411934_sw_11_060_20180722_20190209</td>\n",
       "      <td>0</td>\n",
       "      <td>POINT (238344.86438268572 3810845.534717399)</td>\n",
       "      <td>4</td>\n",
       "      <td>5</td>\n",
       "      <td>2</td>\n",
       "      <td>3</td>\n",
       "      <td>3.333333</td>\n",
       "    </tr>\n",
       "  </tbody>\n",
       "</table>\n",
       "</div>"
      ],
      "text/plain": [
       "   Unnamed: 0  iceplant   r   g   b  nir  year  month  day  \\\n",
       "0           0         1  93  88  93  141  2018      7   22   \n",
       "1           1         1  85  85  89  137  2018      7   22   \n",
       "2           2         1  89  85  91  133  2018      7   22   \n",
       "\n",
       "                                    naip_id  polygon_id  \\\n",
       "0  ca_m_3411934_sw_11_060_20180722_20190209           0   \n",
       "1  ca_m_3411934_sw_11_060_20180722_20190209           0   \n",
       "2  ca_m_3411934_sw_11_060_20180722_20190209           0   \n",
       "\n",
       "                                       geometry  lidar  max_lidar_w  \\\n",
       "0  POINT (238343.42981319653 3810848.805207873)      4            5   \n",
       "1  POINT (238343.54673072172 3810846.093093588)      4            5   \n",
       "2  POINT (238344.86438268572 3810845.534717399)      4            5   \n",
       "\n",
       "   min_lidar_w  min_max_diff  avg_lidar_w  \n",
       "0            2             3     3.333333  \n",
       "1            2             3     3.333333  \n",
       "2            2             3     3.333333  "
      ]
     },
     "execution_count": 4,
     "metadata": {},
     "output_type": "execute_result"
    }
   ],
   "source": [
    "fp = os.path.join(os.getcwd(),'campus_lagoon_2018_lidar.csv')\n",
    "df = pd.read_csv(fp)\n",
    "df.head(3)"
   ]
  },
  {
   "cell_type": "code",
   "execution_count": 6,
   "id": "55e590db-4cba-474d-addc-1ae089556fb4",
   "metadata": {},
   "outputs": [
    {
     "data": {
      "text/html": [
       "<div>\n",
       "<style scoped>\n",
       "    .dataframe tbody tr th:only-of-type {\n",
       "        vertical-align: middle;\n",
       "    }\n",
       "\n",
       "    .dataframe tbody tr th {\n",
       "        vertical-align: top;\n",
       "    }\n",
       "\n",
       "    .dataframe thead th {\n",
       "        text-align: right;\n",
       "    }\n",
       "</style>\n",
       "<table border=\"1\" class=\"dataframe\">\n",
       "  <thead>\n",
       "    <tr style=\"text-align: right;\">\n",
       "      <th></th>\n",
       "      <th>iceplant</th>\n",
       "      <th>r</th>\n",
       "      <th>g</th>\n",
       "      <th>b</th>\n",
       "      <th>nir</th>\n",
       "      <th>geometry</th>\n",
       "      <th>lidar</th>\n",
       "      <th>max_lidar_w</th>\n",
       "      <th>min_lidar_w</th>\n",
       "      <th>min_max_diff</th>\n",
       "      <th>avg_lidar_w</th>\n",
       "    </tr>\n",
       "  </thead>\n",
       "  <tbody>\n",
       "    <tr>\n",
       "      <th>0</th>\n",
       "      <td>1</td>\n",
       "      <td>93</td>\n",
       "      <td>88</td>\n",
       "      <td>93</td>\n",
       "      <td>141</td>\n",
       "      <td>POINT (238343.42981319653 3810848.805207873)</td>\n",
       "      <td>4</td>\n",
       "      <td>5</td>\n",
       "      <td>2</td>\n",
       "      <td>3</td>\n",
       "      <td>3.333333</td>\n",
       "    </tr>\n",
       "    <tr>\n",
       "      <th>1</th>\n",
       "      <td>1</td>\n",
       "      <td>85</td>\n",
       "      <td>85</td>\n",
       "      <td>89</td>\n",
       "      <td>137</td>\n",
       "      <td>POINT (238343.54673072172 3810846.093093588)</td>\n",
       "      <td>4</td>\n",
       "      <td>5</td>\n",
       "      <td>2</td>\n",
       "      <td>3</td>\n",
       "      <td>3.333333</td>\n",
       "    </tr>\n",
       "    <tr>\n",
       "      <th>2</th>\n",
       "      <td>1</td>\n",
       "      <td>89</td>\n",
       "      <td>85</td>\n",
       "      <td>91</td>\n",
       "      <td>133</td>\n",
       "      <td>POINT (238344.86438268572 3810845.534717399)</td>\n",
       "      <td>4</td>\n",
       "      <td>5</td>\n",
       "      <td>2</td>\n",
       "      <td>3</td>\n",
       "      <td>3.333333</td>\n",
       "    </tr>\n",
       "  </tbody>\n",
       "</table>\n",
       "</div>"
      ],
      "text/plain": [
       "   iceplant   r   g   b  nir                                      geometry  \\\n",
       "0         1  93  88  93  141  POINT (238343.42981319653 3810848.805207873)   \n",
       "1         1  85  85  89  137  POINT (238343.54673072172 3810846.093093588)   \n",
       "2         1  89  85  91  133  POINT (238344.86438268572 3810845.534717399)   \n",
       "\n",
       "   lidar  max_lidar_w  min_lidar_w  min_max_diff  avg_lidar_w  \n",
       "0      4            5            2             3     3.333333  \n",
       "1      4            5            2             3     3.333333  \n",
       "2      4            5            2             3     3.333333  "
      ]
     },
     "execution_count": 6,
     "metadata": {},
     "output_type": "execute_result"
    }
   ],
   "source": [
    "df.drop(['Unnamed: 0','month','day','year','naip_id','polygon_id'], axis=1,inplace=True)\n",
    "df.head(3)"
   ]
  },
  {
   "cell_type": "code",
   "execution_count": 7,
   "id": "c78b865d-cb60-45f0-981c-124fc2956866",
   "metadata": {},
   "outputs": [
    {
     "data": {
      "text/html": [
       "<div>\n",
       "<style scoped>\n",
       "    .dataframe tbody tr th:only-of-type {\n",
       "        vertical-align: middle;\n",
       "    }\n",
       "\n",
       "    .dataframe tbody tr th {\n",
       "        vertical-align: top;\n",
       "    }\n",
       "\n",
       "    .dataframe thead th {\n",
       "        text-align: right;\n",
       "    }\n",
       "</style>\n",
       "<table border=\"1\" class=\"dataframe\">\n",
       "  <thead>\n",
       "    <tr style=\"text-align: right;\">\n",
       "      <th></th>\n",
       "      <th>iceplant</th>\n",
       "      <th>r</th>\n",
       "      <th>g</th>\n",
       "      <th>b</th>\n",
       "      <th>nir</th>\n",
       "      <th>geometry</th>\n",
       "      <th>lidar</th>\n",
       "      <th>max_lidar_w</th>\n",
       "      <th>min_lidar_w</th>\n",
       "      <th>min_max_diff</th>\n",
       "      <th>avg_lidar_w</th>\n",
       "      <th>ndvi</th>\n",
       "    </tr>\n",
       "  </thead>\n",
       "  <tbody>\n",
       "    <tr>\n",
       "      <th>0</th>\n",
       "      <td>1</td>\n",
       "      <td>93</td>\n",
       "      <td>88</td>\n",
       "      <td>93</td>\n",
       "      <td>141</td>\n",
       "      <td>POINT (238343.42981319653 3810848.805207873)</td>\n",
       "      <td>4</td>\n",
       "      <td>5</td>\n",
       "      <td>2</td>\n",
       "      <td>3</td>\n",
       "      <td>3.333333</td>\n",
       "      <td>0.205128</td>\n",
       "    </tr>\n",
       "    <tr>\n",
       "      <th>1</th>\n",
       "      <td>1</td>\n",
       "      <td>85</td>\n",
       "      <td>85</td>\n",
       "      <td>89</td>\n",
       "      <td>137</td>\n",
       "      <td>POINT (238343.54673072172 3810846.093093588)</td>\n",
       "      <td>4</td>\n",
       "      <td>5</td>\n",
       "      <td>2</td>\n",
       "      <td>3</td>\n",
       "      <td>3.333333</td>\n",
       "      <td>0.234234</td>\n",
       "    </tr>\n",
       "    <tr>\n",
       "      <th>2</th>\n",
       "      <td>1</td>\n",
       "      <td>89</td>\n",
       "      <td>85</td>\n",
       "      <td>91</td>\n",
       "      <td>133</td>\n",
       "      <td>POINT (238344.86438268572 3810845.534717399)</td>\n",
       "      <td>4</td>\n",
       "      <td>5</td>\n",
       "      <td>2</td>\n",
       "      <td>3</td>\n",
       "      <td>3.333333</td>\n",
       "      <td>0.198198</td>\n",
       "    </tr>\n",
       "  </tbody>\n",
       "</table>\n",
       "</div>"
      ],
      "text/plain": [
       "   iceplant   r   g   b  nir                                      geometry  \\\n",
       "0         1  93  88  93  141  POINT (238343.42981319653 3810848.805207873)   \n",
       "1         1  85  85  89  137  POINT (238343.54673072172 3810846.093093588)   \n",
       "2         1  89  85  91  133  POINT (238344.86438268572 3810845.534717399)   \n",
       "\n",
       "   lidar  max_lidar_w  min_lidar_w  min_max_diff  avg_lidar_w      ndvi  \n",
       "0      4            5            2             3     3.333333  0.205128  \n",
       "1      4            5            2             3     3.333333  0.234234  \n",
       "2      4            5            2             3     3.333333  0.198198  "
      ]
     },
     "execution_count": 7,
     "metadata": {},
     "output_type": "execute_result"
    }
   ],
   "source": [
    "df['ndvi']=(df.nir.astype('int16') - df.r.astype('int16'))/(df.nir.astype('int16') + df.r.astype('int16'))\n",
    "df.head(3)"
   ]
  },
  {
   "cell_type": "code",
   "execution_count": 9,
   "id": "d02c5c38-2a3c-44b4-ad5a-c12d6d6d19ca",
   "metadata": {},
   "outputs": [
    {
     "data": {
      "text/html": [
       "<div>\n",
       "<style scoped>\n",
       "    .dataframe tbody tr th:only-of-type {\n",
       "        vertical-align: middle;\n",
       "    }\n",
       "\n",
       "    .dataframe tbody tr th {\n",
       "        vertical-align: top;\n",
       "    }\n",
       "\n",
       "    .dataframe thead th {\n",
       "        text-align: right;\n",
       "    }\n",
       "</style>\n",
       "<table border=\"1\" class=\"dataframe\">\n",
       "  <thead>\n",
       "    <tr style=\"text-align: right;\">\n",
       "      <th></th>\n",
       "      <th>r</th>\n",
       "      <th>g</th>\n",
       "      <th>b</th>\n",
       "      <th>nir</th>\n",
       "      <th>ndvi</th>\n",
       "      <th>lidar</th>\n",
       "      <th>max_lidar_w</th>\n",
       "      <th>min_lidar_w</th>\n",
       "      <th>min_max_diff</th>\n",
       "      <th>avg_lidar_w</th>\n",
       "      <th>iceplant</th>\n",
       "    </tr>\n",
       "  </thead>\n",
       "  <tbody>\n",
       "    <tr>\n",
       "      <th>0</th>\n",
       "      <td>93</td>\n",
       "      <td>88</td>\n",
       "      <td>93</td>\n",
       "      <td>141</td>\n",
       "      <td>0.205128</td>\n",
       "      <td>4</td>\n",
       "      <td>5</td>\n",
       "      <td>2</td>\n",
       "      <td>3</td>\n",
       "      <td>3.333333</td>\n",
       "      <td>1</td>\n",
       "    </tr>\n",
       "    <tr>\n",
       "      <th>1</th>\n",
       "      <td>85</td>\n",
       "      <td>85</td>\n",
       "      <td>89</td>\n",
       "      <td>137</td>\n",
       "      <td>0.234234</td>\n",
       "      <td>4</td>\n",
       "      <td>5</td>\n",
       "      <td>2</td>\n",
       "      <td>3</td>\n",
       "      <td>3.333333</td>\n",
       "      <td>1</td>\n",
       "    </tr>\n",
       "    <tr>\n",
       "      <th>2</th>\n",
       "      <td>89</td>\n",
       "      <td>85</td>\n",
       "      <td>91</td>\n",
       "      <td>133</td>\n",
       "      <td>0.198198</td>\n",
       "      <td>4</td>\n",
       "      <td>5</td>\n",
       "      <td>2</td>\n",
       "      <td>3</td>\n",
       "      <td>3.333333</td>\n",
       "      <td>1</td>\n",
       "    </tr>\n",
       "  </tbody>\n",
       "</table>\n",
       "</div>"
      ],
      "text/plain": [
       "    r   g   b  nir      ndvi  lidar  max_lidar_w  min_lidar_w  min_max_diff  \\\n",
       "0  93  88  93  141  0.205128      4            5            2             3   \n",
       "1  85  85  89  137  0.234234      4            5            2             3   \n",
       "2  89  85  91  133  0.198198      4            5            2             3   \n",
       "\n",
       "   avg_lidar_w  iceplant  \n",
       "0     3.333333         1  \n",
       "1     3.333333         1  \n",
       "2     3.333333         1  "
      ]
     },
     "execution_count": 9,
     "metadata": {},
     "output_type": "execute_result"
    }
   ],
   "source": [
    "df = df[['r','g','b','nir','ndvi',\n",
    "         'lidar','max_lidar_w', 'min_lidar_w', 'min_max_diff', 'avg_lidar_w',\n",
    "         'iceplant']]\n",
    "df.head(3)"
   ]
  },
  {
   "cell_type": "code",
   "execution_count": 10,
   "id": "bc67fa24-4e97-4d26-96a2-d5978e3b2615",
   "metadata": {},
   "outputs": [],
   "source": [
    "y = np.array(df['iceplant'])\n",
    "X= np.array(df.drop('iceplant', axis = 1))\n",
    "\n",
    "X_train, X_test, y_train, y_test = train_test_split(X, y, test_size = 0.3, random_state = 42)"
   ]
  },
  {
   "cell_type": "code",
   "execution_count": 19,
   "id": "238784f1-d4b4-409f-a388-42e7b3a45767",
   "metadata": {},
   "outputs": [],
   "source": [
    "from sklearn.metrics import confusion_matrix\n",
    "from sklearn.metrics import matthews_corrcoef\n",
    "from sklearn.metrics import fbeta_score\n",
    "\n",
    "def iceplant_proportions(labels):\n",
    "    unique, counts = np.unique(labels, return_counts=True)\n",
    "    print('no-iceplant:iceplant ratio    ',round(counts[0]/counts[1],1),':1')\n",
    "    n = labels.shape[0]\n",
    "    perc = [round(counts[0]/n*100,2), round(counts[1]/n*100,2)]\n",
    "    df = pd.DataFrame({'iceplant':unique,\n",
    "             'counts':counts,\n",
    "             'percentage':perc}).set_index('iceplant')\n",
    "    print(df)\n",
    "    print()\n",
    "\n",
    "def test_train_proportions(train_labels, test_labels):\n",
    "    print('TRAIN SET COUNTS:')\n",
    "    iceplant_proportions(train_labels)\n",
    "\n",
    "    print('TEST SET COUNTS:')\n",
    "    iceplant_proportions(test_labels)\n",
    "\n",
    "    return\n",
    "\n",
    "def print_accuracy_info(y_true,y_pred):\n",
    "    N = y_true.shape[0]\n",
    "    \n",
    "    confmtx = confusion_matrix(y_true,y_pred)\n",
    "    \n",
    "    print('true negatives:', confmtx[0,0], \n",
    "          '    false positives:', confmtx[0,1])\n",
    "    print('false negatives:', confmtx[1,0], \n",
    "          '    true positives:', confmtx[1,1])\n",
    "    print()\n",
    "    unique, counts = np.unique(y_true,return_counts=True)\n",
    "    \n",
    "    sens =  confmtx[1,1]/counts[1]\n",
    "    spec =  confmtx[0,0]/counts[0]\n",
    "    print('sensitivity (TP/P):', np.round(sens*100,2), '%')  \n",
    "    print('specificity (TN/N):', np.round(spec*100,2), '%')  \n",
    "    print('G-mean: ', round(np.sqrt(sens*spec),2))\n",
    "    print()\n",
    "    \n",
    "    prec = confmtx[1,1]/(confmtx[1,1]+confmtx[0,1])\n",
    "    print('precision (TP/(TP+FP)):', np.round(prec*100,2),'%' )\n",
    "    print()\n",
    "    \n",
    "    print('MCC: ', matthews_corrcoef(y_true,y_pred))\n",
    "    print()\n",
    "    \n",
    "    print('F1-measure: ',  round(fbeta_score(y_true, y_pred, beta=1.0),5))\n",
    "    print('F0.5-measure (min false positives): ',  round(fbeta_score(y_true, y_pred, beta=0.5),5))\n",
    "    print('F2-measure (min false negatives)  : ',  round(fbeta_score(y_true, y_pred, beta=2.0),5))\n",
    "    print()\n",
    "        \n",
    "    print('accuracy:', np.round( (confmtx[1,1] + confmtx[0,0])/y_true.shape[0]*100,2),'%') # (TP + TN)/(P + N)\n",
    "    return"
   ]
  },
  {
   "cell_type": "code",
   "execution_count": 14,
   "id": "0b9dc20e-9a68-4da5-b86b-ecc955f7c614",
   "metadata": {},
   "outputs": [
    {
     "name": "stdout",
     "output_type": "stream",
     "text": [
      "TRAIN SET COUNTS:\n",
      "no-iceplant:iceplant ratio     9.7 :1\n",
      "          counts  percentage\n",
      "iceplant                    \n",
      "0          44017       90.62\n",
      "1           4556        9.38\n",
      "\n",
      "TEST SET COUNTS:\n",
      "no-iceplant:iceplant ratio     10.0 :1\n",
      "          counts  percentage\n",
      "iceplant                    \n",
      "0          18925       90.91\n",
      "1           1893        9.09\n",
      "\n"
     ]
    }
   ],
   "source": [
    "test_train_proportions(y_train, y_test)"
   ]
  },
  {
   "cell_type": "code",
   "execution_count": 15,
   "id": "4bdc31d4-4ffa-4a5e-aff3-78b4635ae488",
   "metadata": {},
   "outputs": [
    {
     "data": {
      "text/plain": [
       "RandomForestClassifier(random_state=42)"
      ]
     },
     "execution_count": 15,
     "metadata": {},
     "output_type": "execute_result"
    }
   ],
   "source": [
    "rfc = RandomForestClassifier(n_estimators = 100, random_state = 42)\n",
    "rfc.fit(X_train, y_train)"
   ]
  },
  {
   "cell_type": "code",
   "execution_count": 20,
   "id": "b49c45bb-72c0-487e-9218-a9e2e7dda2ee",
   "metadata": {},
   "outputs": [
    {
     "name": "stdout",
     "output_type": "stream",
     "text": [
      "true negatives: 18914     false positives: 11\n",
      "false negatives: 22     true positives: 1871\n",
      "\n",
      "sensitivity (TP/P): 98.84 %\n",
      "specificity (TN/N): 99.94 %\n",
      "G-mean:  0.99\n",
      "\n",
      "precision (TP/(TP+FP)): 99.42 %\n",
      "\n",
      "MCC:  0.9903917618798886\n",
      "\n",
      "F1-measure:  0.99126\n",
      "F0.5-measure (min false positives):  0.99299\n",
      "F2-measure (min false negatives)  :  0.98953\n",
      "\n",
      "accuracy: 99.84 %\n"
     ]
    }
   ],
   "source": [
    "predictions = rfc.predict(X_test)\n",
    "print_accuracy_info(y_test, predictions)"
   ]
  },
  {
   "cell_type": "code",
   "execution_count": 21,
   "id": "92897747-a8d6-4170-b6f1-2660c0aa869c",
   "metadata": {},
   "outputs": [],
   "source": [
    "# https://scikit-learn.org/stable/auto_examples/ensemble/plot_forest_importances.html\n",
    "from sklearn.inspection import permutation_importance\n",
    "\n",
    "result = permutation_importance(\n",
    "    rfc, X_test, y_test, n_repeats=10, random_state=42, n_jobs=2\n",
    ")"
   ]
  },
  {
   "cell_type": "code",
   "execution_count": 22,
   "id": "6964dee8-f9f9-4e7d-965f-0ae57fe61e2c",
   "metadata": {},
   "outputs": [
    {
     "data": {
      "text/plain": [
       "r               0.047930\n",
       "g               0.033778\n",
       "b               0.015487\n",
       "nir             0.031180\n",
       "ndvi            0.005716\n",
       "lidar           0.002935\n",
       "max_lidar_w     0.014545\n",
       "min_lidar_w     0.002392\n",
       "min_max_diff    0.030209\n",
       "avg_lidar_w     0.007666\n",
       "dtype: float64"
      ]
     },
     "execution_count": 22,
     "metadata": {},
     "output_type": "execute_result"
    }
   ],
   "source": [
    "forest_importances = pd.Series(result.importances_mean, \n",
    "                               index=['r','g','b','nir','ndvi',\n",
    "                                       'lidar','max_lidar_w', 'min_lidar_w', 'min_max_diff', 'avg_lidar_w'])\n",
    "forest_importances"
   ]
  },
  {
   "cell_type": "code",
   "execution_count": 23,
   "id": "e7a35ffd-b532-4ad2-b3c1-3d3b6a4e0c6b",
   "metadata": {},
   "outputs": [
    {
     "data": {
      "image/png": "[encoded data removed]",
      "text/plain": [
       "<Figure size 432x288 with 1 Axes>"
      ]
     },
     "metadata": {
      "needs_background": "light"
     },
     "output_type": "display_data"
    }
   ],
   "source": [
    "fig, ax = plt.subplots()\n",
    "forest_importances.plot.bar(yerr=result.importances_std, ax=ax)\n",
    "ax.set_title(\"Feature importances using permutation on full model\")\n",
    "ax.set_ylabel(\"Mean accuracy decrease\")\n",
    "fig.tight_layout()\n",
    "plt.show()"
   ]
  },
  {
   "cell_type": "markdown",
   "id": "28cb645e-92a5-41a9-95a7-158fc5a5b302",
   "metadata": {},
   "source": [
    "## Trying only with spectral features"
   ]
  },
  {
   "cell_type": "code",
   "execution_count": 28,
   "id": "c772c003-b2c4-4569-9d77-74a4ebb0e0b6",
   "metadata": {},
   "outputs": [],
   "source": [
    "df_spectral = df.drop(['lidar','max_lidar_w', 'min_lidar_w', 'min_max_diff', 'avg_lidar_w'],axis=1)\n",
    "y = np.array(df_spectral['iceplant'])\n",
    "X= np.array(df_spectral.drop('iceplant', axis = 1))\n",
    "\n",
    "X_train, X_test, y_train, y_test = train_test_split(X, y, test_size = 0.3, random_state = 42)"
   ]
  },
  {
   "cell_type": "code",
   "execution_count": 29,
   "id": "3f7f8105-eb25-4f09-9828-0a7a5cda83ba",
   "metadata": {},
   "outputs": [
    {
     "data": {
      "text/plain": [
       "RandomForestClassifier(random_state=42)"
      ]
     },
     "execution_count": 29,
     "metadata": {},
     "output_type": "execute_result"
    }
   ],
   "source": [
    "rfc_spectral = RandomForestClassifier(n_estimators = 100, random_state = 42)\n",
    "rfc_spectral.fit(X_train, y_train)"
   ]
  },
  {
   "cell_type": "code",
   "execution_count": 30,
   "id": "af2baa27-7dad-4638-969c-fb9abc109cee",
   "metadata": {},
   "outputs": [
    {
     "name": "stdout",
     "output_type": "stream",
     "text": [
      "true negatives: 18803     false positives: 122\n",
      "false negatives: 98     true positives: 1795\n",
      "\n",
      "sensitivity (TP/P): 94.82 %\n",
      "specificity (TN/N): 99.36 %\n",
      "G-mean:  0.97\n",
      "\n",
      "precision (TP/(TP+FP)): 93.64 %\n",
      "\n",
      "MCC:  0.9364638774316778\n",
      "\n",
      "F1-measure:  0.94226\n",
      "F0.5-measure (min false positives):  0.93871\n",
      "F2-measure (min false negatives)  :  0.94583\n",
      "\n",
      "accuracy: 98.94 %\n"
     ]
    }
   ],
   "source": [
    "predictions = rfc_spectral.predict(X_test)\n",
    "print_accuracy_info(y_test, predictions)"
   ]
  },
  {
   "cell_type": "markdown",
   "id": "6acc8c2f-78e6-4473-84b9-f27c8a98466b",
   "metadata": {},
   "source": [
    "## Applying model with lidar to NAIP campus lagoon aoi"
   ]
  },
  {
   "cell_type": "code",
   "execution_count": 26,
   "id": "da55c5ba-cffa-441b-b1c0-aa506a394675",
   "metadata": {},
   "outputs": [
    {
     "data": {
      "text/plain": [
       "name                                          conception point\n",
       "region                                              dangermond\n",
       "itemid_12               ca_m_3412037_nw_10_1_20120518_20120730\n",
       "itemid_14               ca_m_3412037_nw_10_1_20140603_20141030\n",
       "itemid_16                                                   NA\n",
       "itemid_18             ca_m_3412037_nw_10_060_20180913_20190208\n",
       "itemid_20                      ca_m_3412037_nw_10_060_20200607\n",
       "geometry     POLYGON ((-120.4731712312 34.4464554252, -120....\n",
       "Name: 0, dtype: object"
      ]
     },
     "execution_count": 26,
     "metadata": {},
     "output_type": "execute_result"
    }
   ],
   "source": [
    "aois = gpd.read_file('/home/jovyan/msai4earth-esa/iceplant_detection/areas_of_interest/areas_of_interest.shp')\n",
    "cl = aois.iloc[0]  # Campus Lagoon aoi\n",
    "cl"
   ]
  },
  {
   "cell_type": "code",
   "execution_count": null,
   "id": "f892ae8e-5423-4431-a1f7-ebf81b507996",
   "metadata": {},
   "outputs": [],
   "source": []
  }
 ],
 "metadata": {
  "kernelspec": {
   "display_name": "Python 3 (ipykernel)",
   "language": "python",
   "name": "python3"
  },
  "language_info": {
   "codemirror_mode": {
    "name": "ipython",
    "version": 3
   },
   "file_extension": ".py",
   "mimetype": "text/x-python",
   "name": "python",
   "nbconvert_exporter": "python",
   "pygments_lexer": "ipython3",
   "version": "3.8.13"
  }
 },
 "nbformat": 4,
 "nbformat_minor": 5
}
