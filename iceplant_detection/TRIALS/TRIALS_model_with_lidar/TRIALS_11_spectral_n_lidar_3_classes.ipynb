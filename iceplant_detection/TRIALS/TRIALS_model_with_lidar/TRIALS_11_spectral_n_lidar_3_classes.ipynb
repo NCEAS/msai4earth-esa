{
 "cells": [
  {
   "cell_type": "code",
   "execution_count": 3,
   "id": "6a32a59b-bff2-46ca-9d62-fdbbc50bccb6",
   "metadata": {
    "tags": []
   },
   "outputs": [],
   "source": [
    "import os\n",
    "import time\n",
    "import pandas as pd\n",
    "import numpy as np\n",
    "import matplotlib.pyplot as plt\n",
    "\n",
    "from sklearn.ensemble import RandomForestClassifier\n",
    "\n",
    "import rasterio\n",
    "import rioxarray as rioxr\n",
    "import geopandas as gpd\n",
    "\n",
    "import warnings\n",
    "\n",
    "import planetary_computer as pc\n",
    "\n",
    "import gc # garbage collector\n",
    "\n",
    "import dask\n",
    "import dask_gateway\n",
    "import dask.array as da\n",
    "from dask_ml.wrappers import ParallelPostFit  # wrapper so that model predicts using dask\n",
    "\n",
    "# custom modules\n",
    "#import data_sampling_workflow.sample_rasters as sr\n",
    "#import data_sampling_workflow.utility as ut\n",
    "import iceplant_detection_functions as ipf\n",
    "import model_prep_and_evals as mpe\n"
   ]
  },
  {
   "cell_type": "code",
   "execution_count": null,
   "id": "e79aad5d-ed3e-41c2-9c57-668417ee9dd4",
   "metadata": {},
   "outputs": [],
   "source": [
    "t_alpha = time.time()"
   ]
  },
  {
   "cell_type": "markdown",
   "id": "683cabb8-cac4-4ca1-82da-07ecdbcf00b7",
   "metadata": {
    "tags": []
   },
   "source": [
    "## Import & prepare train/test sets"
   ]
  },
  {
   "cell_type": "code",
   "execution_count": 6,
   "id": "5073ad59-d5fb-42c7-bf8d-d801d19a8471",
   "metadata": {
    "tags": []
   },
   "outputs": [],
   "source": [
    "# select features from r (Red band) to avg_lidar // excludes geometry, aoi, naip_id, polygon)id and iceplant features\n",
    "X_train = pd.read_csv(os.path.join(os.getcwd(),'data_sampling_workflow','train_set.csv')).loc[:,'r':'avg_lidar']\n",
    "\n",
    "# select iceplant feature column\n",
    "y_train = pd.read_csv(os.path.join(os.getcwd(),'data_sampling_workflow','train_set.csv')).loc[:,'iceplant'] \n",
    "\n",
    "# remove 2012 and 2014 since these do not have LIDAR data of their own.\n",
    "X_train = X_train.loc[X_train.year != 2012]\n",
    "X_train = X_train.loc[X_train.year != 2014]\n",
    "\n",
    "y_train = y_train.iloc[X_train.index]"
   ]
  },
  {
   "cell_type": "code",
   "execution_count": 8,
   "id": "6fadf79c-3768-4728-bfb3-5082556bbb81",
   "metadata": {},
   "outputs": [],
   "source": [
    "# select features from r (Red band) to avg_lidar // excludes geometry, aoi, naip_id, polygon)id and iceplant features\n",
    "X_test = pd.read_csv(os.path.join(os.getcwd(),'data_sampling_workflow','test_set.csv')).loc[:,'r':'avg_lidar']\n",
    "\n",
    "# select iceplant feature column\n",
    "y_test = pd.read_csv(os.path.join(os.getcwd(),'data_sampling_workflow','test_set.csv')).loc[:,'iceplant'] \n",
    "\n",
    "# remove 2012 and 2014 since these do not have LIDAR data of their own.\n",
    "X_test = X_test.loc[X_test.year != 2012]\n",
    "X_test = X_test.loc[X_test.year != 2014]\n",
    "\n",
    "y_test = y_test.iloc[X_test.index]"
   ]
  },
  {
   "cell_type": "code",
   "execution_count": null,
   "id": "1b30a1a0-504d-4a56-9271-7bf6526c1bb9",
   "metadata": {},
   "outputs": [],
   "source": [
    "# # -- CHECKPOINT -- (uncomment if needed)\n",
    "\n",
    "# # verify that train set only has data for 2016, 2018 and 2020\n",
    "# print(X_train.year.unique())\n",
    "\n",
    "# # verify that X_train and y_train have data for same points\n",
    "# print(X_train.index)\n",
    "# print(y_train.index)"
   ]
  },
  {
   "cell_type": "code",
   "execution_count": 10,
   "id": "dc328f6b-64c9-469f-ba7a-6ebd1668bec5",
   "metadata": {},
   "outputs": [
    {
     "name": "stdout",
     "output_type": "stream",
     "text": [
      "no-iceplant:iceplant ratio     1.6 :1\n",
      "          counts  percentage\n",
      "iceplant                    \n",
      "0          59816       61.72\n",
      "1          37095       38.28\n",
      "\n"
     ]
    }
   ],
   "source": [
    "mpe.iceplant_proportions(np.array(y_test))"
   ]
  },
  {
   "cell_type": "markdown",
   "id": "2efb364c-35a4-496e-9d5f-7ced1433b3df",
   "metadata": {},
   "source": [
    "## Train model"
   ]
  },
  {
   "cell_type": "code",
   "execution_count": 11,
   "id": "0758f76c-597e-4b30-af49-b08b604a024f",
   "metadata": {},
   "outputs": [
    {
     "name": "stdout",
     "output_type": "stream",
     "text": [
      "time to train:  25.086349487304688 seconds\n"
     ]
    }
   ],
   "source": [
    "t0 = time.time()\n",
    "\n",
    "rfc = ParallelPostFit(RandomForestClassifier(n_estimators = 100, \n",
    "                                             random_state = 42))\n",
    "rfc.fit(X_train, y_train)\n",
    "\n",
    "print('time to train: ', (time.time()-t0), 'seconds')"
   ]
  },
  {
   "cell_type": "code",
   "execution_count": 12,
   "id": "22e10d80-aaaf-488e-b712-453f8409be27",
   "metadata": {},
   "outputs": [
    {
     "name": "stdout",
     "output_type": "stream",
     "text": [
      "\n",
      "true negatives: 59609     false positives: 207\n",
      "false negatives: 291     true positives: 36804\n",
      "\n",
      "sensitivity (TP/P): 99.22 %\n",
      "specificity (TN/N): 99.65 %\n",
      "G-mean:  0.99\n",
      "\n",
      "precision (TP/(TP+FP)): 99.44 %\n",
      "\n",
      "MCC:  0.9891217256602535\n",
      "\n",
      "F1-measure:  0.99328\n",
      "F0.5-measure (min false positives):  0.99396\n",
      "F2-measure (min false negatives)  :  0.9926\n",
      "\n",
      "accuracy: 99.49 %\n",
      "\n"
     ]
    }
   ],
   "source": [
    "predictions = rfc.predict(X_test)\n",
    "mpe.print_threshold_metrics(y_test, predictions)"
   ]
  },
  {
   "cell_type": "code",
   "execution_count": 13,
   "id": "65f5627e-9918-48e1-8079-7fccd398306a",
   "metadata": {},
   "outputs": [],
   "source": [
    "# https://scikit-learn.org/stable/auto_examples/ensemble/plot_forest_importances.html\n",
    "from sklearn.inspection import permutation_importance\n",
    "\n",
    "result = permutation_importance(\n",
    "    rfc, X_test, y_test, n_repeats=10, random_state=42, n_jobs=2\n",
    ")"
   ]
  },
  {
   "cell_type": "code",
   "execution_count": 18,
   "id": "a546cc24-1aa5-4982-a85c-721cf7b078b3",
   "metadata": {},
   "outputs": [
    {
     "data": {
      "text/plain": [
       "['r',\n",
       " 'g',\n",
       " 'b',\n",
       " 'nir',\n",
       " 'ndvi',\n",
       " 'year',\n",
       " 'month',\n",
       " 'day_in_year',\n",
       " 'lidar',\n",
       " 'max_lidar',\n",
       " 'min_lidar',\n",
       " 'min_max_diff',\n",
       " 'avg_lidar']"
      ]
     },
     "execution_count": 18,
     "metadata": {},
     "output_type": "execute_result"
    }
   ],
   "source": [
    "X_test.columns.to_list()"
   ]
  },
  {
   "cell_type": "code",
   "execution_count": 19,
   "id": "cea1fb1d-9470-4750-8e5e-2071e8ad2dcb",
   "metadata": {},
   "outputs": [
    {
     "data": {
      "image/png": "[encoded data removed]",
      "text/plain": [
       "<Figure size 432x288 with 1 Axes>"
      ]
     },
     "metadata": {
      "needs_background": "light"
     },
     "output_type": "display_data"
    }
   ],
   "source": [
    "forest_importances = pd.Series(result.importances_mean, index=X_test.columns.to_list())\n",
    "\n",
    "fig, ax = plt.subplots()\n",
    "forest_importances.plot.bar(yerr=result.importances_std, ax=ax)\n",
    "ax.set_title(\"Feature importances using permutation on full model\")\n",
    "ax.set_ylabel(\"Mean accuracy decrease\")\n",
    "fig.tight_layout()\n",
    "plt.show()"
   ]
  },
  {
   "cell_type": "code",
   "execution_count": null,
   "id": "d7df195d-e743-4e3c-b74f-4967ac650b70",
   "metadata": {},
   "outputs": [],
   "source": [
    "del X_train, y_train\n",
    "gc.collect()"
   ]
  },
  {
   "cell_type": "markdown",
   "id": "fdd7255b-bb7e-4070-bc4b-8b3c82ef2f81",
   "metadata": {},
   "source": [
    "# Select NAIP scene and LIDAR year\n",
    "All the following code needs to be adapted to the new distribution of functions in utility.py and sample_rasters.py"
   ]
  },
  {
   "cell_type": "code",
   "execution_count": null,
   "id": "4f5f277b-0bb4-486f-b9d7-7f5bf2c32a79",
   "metadata": {},
   "outputs": [],
   "source": [
    "# gaviota_itemids = ['ca_m_3412039_nw_10_060_20200522',\n",
    "# 'ca_m_3412039_nw_10_060_20180724_20190209',\n",
    "# 'ca_m_3412039_nw_10_.6_20160616_20161004',\n",
    "# 'ca_m_3412039_nw_10_1_20140603_20141030',\n",
    "# 'ca_m_3412039_nw_10_1_20120518_20120730']"
   ]
  },
  {
   "cell_type": "code",
   "execution_count": null,
   "id": "140b8626-12b8-4385-ab23-7ecb6b8b5118",
   "metadata": {},
   "outputs": [],
   "source": [
    "campus_itemids = ['ca_m_3411934_sw_11_060_20200521',\n",
    "                  'ca_m_3411934_sw_11_060_20180722_20190209',\n",
    "                  'ca_m_3411934_sw_11_.6_20160713_20161004']"
   ]
  },
  {
   "cell_type": "code",
   "execution_count": null,
   "id": "e3d2bf1b-960e-4971-9881-2164cc7e208f",
   "metadata": {},
   "outputs": [],
   "source": [
    "# **************************************************************\n",
    "# ********* SPECIFY ITEMID AND LIDAR YEAR TO MATCH HERE ********\n",
    "\n",
    "itemid = campus_itemids[2] # NAIP scene over Conception Point\n",
    "lidar_year = 2016\n",
    "save_raster = True\n",
    "filename = 'LIDAR+NAIP_campus_'+str(lidar_year)+'_predictions.tif'\n",
    "\n",
    "# **************************************************************\n",
    "# **************************************************************"
   ]
  },
  {
   "cell_type": "markdown",
   "id": "07c782d2-75b6-49ed-83cf-5c271df08765",
   "metadata": {},
   "source": [
    "# Open NAIP scene for classification"
   ]
  },
  {
   "cell_type": "code",
   "execution_count": null,
   "id": "c35b6b9c-5e4e-4060-9de9-ae5d515d6e5a",
   "metadata": {},
   "outputs": [],
   "source": [
    "naip_item =ipf.get_item_from_id(itemid)\n",
    "href = pc.sign(naip_item.assets[\"image\"].href)\n",
    " \n",
    "# rioxarray of complete naip scene\n",
    "naip_scene = rioxr.open_rasterio(rasterio.open(href))"
   ]
  },
  {
   "cell_type": "markdown",
   "id": "b4f3a653-b30d-47a1-9a77-ea36b616fb90",
   "metadata": {},
   "source": [
    "# Prepare LIDAR data for sampling"
   ]
  },
  {
   "cell_type": "code",
   "execution_count": null,
   "id": "e0bd9dc9-ce5a-4623-b1ea-bb14a1ab66fe",
   "metadata": {},
   "outputs": [],
   "source": [
    "t0 = time.time()\n",
    "# Create auxiliary LIDAR files to sample from\n",
    "\n",
    "fp = sr.path_to_lidar(lidar_year)\n",
    "lidar_reader = rasterio.open(fp)\n",
    "lsf.save_min_max_rasters(lidar_reader, os.getcwd()+'/temp',lidar_year)\n",
    "lsf.save_avg_rasters(lidar_reader, os.getcwd()+'/temp',lidar_year)\n",
    "\n",
    "print('time to make auxiliary rasters: ', (time.time()-t0), 'seconds')"
   ]
  },
  {
   "cell_type": "code",
   "execution_count": null,
   "id": "3a69d792-fdee-4171-852f-9539e43f21f2",
   "metadata": {},
   "outputs": [],
   "source": [
    "# Resample lidar layers to match NAIP scene resolution and extent\n",
    "\n",
    "lidar_match = lsf.open_and_match(fp, naip_scene)\n",
    "\n",
    "fp = os.path.join(os.getcwd(),'temp','lidar_mins_'+str(lidar_year)+'.tif')\n",
    "mins_match = lsf.open_and_match(fp, naip_scene)\n",
    "\n",
    "fp = os.path.join(os.getcwd(),'temp','lidar_maxs_'+str(lidar_year)+'.tif')\n",
    "maxs_match = lsf.open_and_match(fp, naip_scene)\n",
    "\n",
    "fp = os.path.join(os.getcwd(),'temp','lidar_avgs_'+str(lidar_year)+'.tif')\n",
    "avg_match = lsf.open_and_match(fp, naip_scene)"
   ]
  },
  {
   "cell_type": "code",
   "execution_count": null,
   "id": "ae7dc8bf-73cd-410e-9c1a-178a75bd0a14",
   "metadata": {},
   "outputs": [],
   "source": [
    "# Assemble LIDAR layers into dataframe \n",
    "t0 = time.time()\n",
    "\n",
    "df_lidar = pd.DataFrame()\n",
    "df_lidar['lidar'] = lidar_match.to_numpy().reshape(avg_match.shape[0]*avg_match.shape[1])\n",
    "df_lidar['max_lidar'] = maxs_match.to_numpy().reshape(avg_match.shape[0]*avg_match.shape[1])\n",
    "df_lidar['min_lidar'] = mins_match.to_numpy().reshape(avg_match.shape[0]*avg_match.shape[1])\n",
    "df_lidar['min_max_diff'] = df_lidar.max_lidar - df_lidar.min_lidar\n",
    "df_lidar['avg_lidar'] = avg_match.to_numpy().reshape(avg_match.shape[0]*avg_match.shape[1])\n",
    "\n",
    "print('time to assemble dataframe: ', (time.time()-t0), 'seconds')"
   ]
  },
  {
   "cell_type": "code",
   "execution_count": null,
   "id": "c2ea1ff5-9385-4998-84cf-3d0572777122",
   "metadata": {},
   "outputs": [],
   "source": [
    "# clear memory\n",
    "del avg_match, mins_match, maxs_match, lidar_match\n",
    "gc.collect()"
   ]
  },
  {
   "cell_type": "code",
   "execution_count": null,
   "id": "e01cfed7-6509-444e-92dc-79de32928598",
   "metadata": {},
   "outputs": [],
   "source": [
    "# Delete auxiliary LIDAR rasters in temp folder\n",
    "lidar_fps = []\n",
    "for tag in ['maxs_', 'mins_', 'avgs_']:\n",
    "    lidar_fps.append(os.path.join(os.getcwd(),\n",
    "                                  'temp',\n",
    "                                  'lidar_'+tag+ str(lidar_year)+'.tif'))\n",
    "for fp in lidar_fps:\n",
    "    os.remove(fp)"
   ]
  },
  {
   "cell_type": "code",
   "execution_count": null,
   "id": "5129a2ce-d851-4155-87d9-957cd30ba607",
   "metadata": {},
   "outputs": [],
   "source": [
    "# lidar_reader.height\n",
    "# lidar_reader.width"
   ]
  },
  {
   "cell_type": "markdown",
   "id": "63f2a071-525b-4c98-b8a8-d6bd3a2cffc5",
   "metadata": {},
   "source": [
    "# Select points to be classified using NDVI threshold"
   ]
  },
  {
   "cell_type": "code",
   "execution_count": null,
   "id": "635e5184-1858-47ed-9c3d-3a1acdd97bbc",
   "metadata": {},
   "outputs": [],
   "source": [
    "# select pixels above ndvi threshold\n",
    "veg = ipf.features_over_aoi(naip_item, \n",
    "                           naip_scene.to_numpy(), \n",
    "                           thresh=0.05)\n",
    "\n",
    "print('time to select above ndvi thresh: ', (time.time()-t0), 'seconds')\n",
    "veg"
   ]
  },
  {
   "cell_type": "markdown",
   "id": "12bb802f-74f3-4701-a3df-0eddf0703006",
   "metadata": {},
   "source": [
    "# Sample and add LIDAR to vegetation pixels"
   ]
  },
  {
   "cell_type": "code",
   "execution_count": null,
   "id": "21425b29-89bb-4f21-8d13-88fb7a303f17",
   "metadata": {},
   "outputs": [],
   "source": [
    "# select same indices as vegetation\n",
    "t0 = time.time()\n",
    "\n",
    "df_lidar_veg = df_lidar.iloc[veg.index]\n",
    "\n",
    "print('time to select lidar corresponding to veg: ', (time.time()-t0), 'seconds')\n",
    "df_lidar_veg"
   ]
  },
  {
   "cell_type": "code",
   "execution_count": null,
   "id": "40057932-cb78-44c3-b3af-dfb72364f1af",
   "metadata": {},
   "outputs": [],
   "source": [
    "# add LIDAR features to vegetation dataframe\n",
    "\n",
    "# FEATURES MUST BE IN THIS ORDER TO MATCH THE MODEL:\n",
    "# ['r', 'g', 'b', 'nir', 'ndvi', \n",
    "#  'year', 'month', 'day_in_year',\n",
    "#  'lidar', 'max_lidar', 'min_lidar', 'min_max_diff', 'avg_lidar'])\n",
    "\n",
    "scene_features = pd.concat([veg,df_lidar_veg],axis=1)\n",
    "scene_features.head(2)"
   ]
  },
  {
   "cell_type": "code",
   "execution_count": null,
   "id": "c6aa48f8-4c0a-4174-80ad-9bf97112d22b",
   "metadata": {},
   "outputs": [],
   "source": [
    "# clear memory\n",
    "del veg, df_lidar, df_lidar_veg\n",
    "gc.collect()"
   ]
  },
  {
   "cell_type": "markdown",
   "id": "ba3e9c38-c892-4603-ae6d-978521351050",
   "metadata": {},
   "source": [
    "# Make dask data array of pixel values from NAIP scene raster"
   ]
  },
  {
   "cell_type": "code",
   "execution_count": null,
   "id": "bbb827aa-1821-4fba-8912-fb208ce56685",
   "metadata": {},
   "outputs": [],
   "source": [
    "da_pixels = da.from_array(scene_features.to_numpy(), chunks=728802)\n",
    "da_pixels"
   ]
  },
  {
   "cell_type": "markdown",
   "id": "165afff6-181f-48f6-9ac7-e6a7c73a9778",
   "metadata": {},
   "source": [
    "# Initialize Dask Cluster"
   ]
  },
  {
   "cell_type": "code",
   "execution_count": null,
   "id": "f490f4ca-bade-481d-ab94-3b70807f1078",
   "metadata": {},
   "outputs": [],
   "source": [
    "cluster = dask_gateway.GatewayCluster()\n",
    "client = cluster.get_client()\n",
    "cluster.scale(30)\n",
    "client"
   ]
  },
  {
   "cell_type": "markdown",
   "id": "fc417fff-250f-454d-ac1d-a8105198b66e",
   "metadata": {},
   "source": [
    "# Predict using dask"
   ]
  },
  {
   "cell_type": "code",
   "execution_count": null,
   "id": "632279be-1605-4d15-958e-15095d06cdc9",
   "metadata": {},
   "outputs": [],
   "source": [
    "# initialize\n",
    "predictions = rfc.predict(da_pixels)\n",
    "predictions"
   ]
  },
  {
   "cell_type": "code",
   "execution_count": null,
   "id": "cc617389-9a8d-4d4a-adf4-4a8bebbb9164",
   "metadata": {},
   "outputs": [],
   "source": [
    "# compute predictions\n",
    "t0 = time.time()\n",
    "\n",
    "preds = predictions.compute()\n",
    "print('time to predict: ', time.time()-t0)"
   ]
  },
  {
   "cell_type": "markdown",
   "id": "2f97034a-46ef-4aa0-a752-9576e1ad4e87",
   "metadata": {},
   "source": [
    "# Reassemble predictions into image"
   ]
  },
  {
   "cell_type": "code",
   "execution_count": null,
   "id": "755dfee9-788f-4393-9a81-dcaa0bc731e9",
   "metadata": {},
   "outputs": [],
   "source": [
    "t0 = time.time()\n",
    "preds_image = ipf.preds_to_image_3labels(naip_scene.shape[1], naip_scene.shape[2], \n",
    "                                     scene_features.index,\n",
    "                                     preds)\n",
    "print('indices to image time: ', time.time()-t0)"
   ]
  },
  {
   "cell_type": "code",
   "execution_count": null,
   "id": "90b5a79f-f9bc-4c59-a1d9-7a2422a8ca4b",
   "metadata": {},
   "outputs": [],
   "source": [
    "fig, ax = plt.subplots(figsize=(15, 15))\n",
    "plt.title(\"LIDAR + SPECTRAL PREDICTIONS : \"+str(lidar_year)+ \" campus point NAIP scene\")\n",
    "ax.imshow(preds_image)\n",
    "plt.show()"
   ]
  },
  {
   "cell_type": "code",
   "execution_count": null,
   "id": "72f8d1b9-f876-4942-b0c2-3429793bd5ce",
   "metadata": {},
   "outputs": [],
   "source": [
    "# save if necessary\n",
    "\n",
    "if save_raster == True:\n",
    "    with rasterio.open(\n",
    "        os.path.join(os.getcwd(),'temp',filename),  # file path\n",
    "        'w',           # w = write\n",
    "        driver='GTiff', # format\n",
    "        height = preds_image.shape[0], \n",
    "        width = preds_image.shape[1],\n",
    "        count = 1,  # number of raster bands in the dataset\n",
    "        dtype = rasterio.uint8,\n",
    "        crs = naip_scene.rio.crs,\n",
    "        transform = naip_scene.rio.transform(),\n",
    "    ) as dst:\n",
    "        dst.write(preds_image.astype(rasterio.uint8), 1)"
   ]
  },
  {
   "cell_type": "code",
   "execution_count": null,
   "id": "bcff8dfa-d401-440b-9afb-41daf0edd2f8",
   "metadata": {},
   "outputs": [],
   "source": [
    "# clean memory\n",
    "del naip_scene, scene_features\n",
    "del preds_image, predictions\n",
    "gc.collect()"
   ]
  },
  {
   "cell_type": "code",
   "execution_count": null,
   "id": "a22818dc-467d-4366-92aa-0b7c47e576e6",
   "metadata": {},
   "outputs": [],
   "source": [
    "print('total time:', time.time() - t_alpha )"
   ]
  },
  {
   "cell_type": "code",
   "execution_count": null,
   "id": "c5c19cfe-cf13-4b10-92c4-11461753fc22",
   "metadata": {},
   "outputs": [],
   "source": []
  }
 ],
 "metadata": {
  "kernelspec": {
   "display_name": "Python 3 (ipykernel)",
   "language": "python",
   "name": "python3"
  },
  "language_info": {
   "codemirror_mode": {
    "name": "ipython",
    "version": 3
   },
   "file_extension": ".py",
   "mimetype": "text/x-python",
   "name": "python",
   "nbconvert_exporter": "python",
   "pygments_lexer": "ipython3",
   "version": "3.8.13"
  }
 },
 "nbformat": 4,
 "nbformat_minor": 5
}
