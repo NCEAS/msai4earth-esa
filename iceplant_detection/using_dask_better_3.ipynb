{
 "cells": [
  {
   "cell_type": "code",
   "execution_count": 1,
   "id": "79ef2f21-7158-41e3-849d-911cf06742d8",
   "metadata": {},
   "outputs": [],
   "source": [
    "import os\n",
    "import time\n",
    "import numpy as np\n",
    "import pandas as pd\n",
    "\n",
    "import rasterio\n",
    "from affine import Affine\n",
    "\n",
    "import dask_gateway\n",
    "import dask.array as da\n",
    "import dask.dataframe as daf\n",
    "\n",
    "import planetary_computer as pc\n",
    "\n",
    "import xarray as xr\n",
    "import rioxarray as rioxr\n",
    "\n",
    "from joblib import load\n",
    "\n",
    "import raster_to_features as rm\n",
    "import data_sampling_workflow.sample_rasters as sr\n",
    "\n",
    "import matplotlib.pyplot as plt"
   ]
  },
  {
   "cell_type": "code",
   "execution_count": 2,
   "id": "46745b41-fab9-4ed1-ad22-a2bcdb5d6427",
   "metadata": {},
   "outputs": [],
   "source": [
    "n_workers = 16"
   ]
  },
  {
   "cell_type": "code",
   "execution_count": 3,
   "id": "a099bcd8-9d41-4fb0-a5d8-ba82eb077f1a",
   "metadata": {},
   "outputs": [
    {
     "data": {
      "text/html": [
       "<div>\n",
       "    <div style=\"width: 24px; height: 24px; background-color: #e1e1e1; border: 3px solid #9D9D9D; border-radius: 5px; position: absolute;\"> </div>\n",
       "    <div style=\"margin-left: 48px;\">\n",
       "        <h3 style=\"margin-bottom: 0px;\">Client</h3>\n",
       "        <p style=\"color: #9D9D9D; margin-bottom: 0px;\">Client-830916e6-2956-11ed-854e-e6a203d9a05d</p>\n",
       "        <table style=\"width: 100%; text-align: left;\">\n",
       "\n",
       "        <tr>\n",
       "        \n",
       "            <td style=\"text-align: left;\"><strong>Connection method:</strong> Cluster object</td>\n",
       "            <td style=\"text-align: left;\"><strong>Cluster type:</strong> dask_gateway.GatewayCluster</td>\n",
       "        \n",
       "        </tr>\n",
       "\n",
       "        \n",
       "            <tr>\n",
       "                <td style=\"text-align: left;\">\n",
       "                    <strong>Dashboard: </strong> <a href=\"https://pccompute.westeurope.cloudapp.azure.com/compute/services/dask-gateway/clusters/prod.9b8ad54732384460b00459397d185f19/status\" target=\"_blank\">https://pccompute.westeurope.cloudapp.azure.com/compute/services/dask-gateway/clusters/prod.9b8ad54732384460b00459397d185f19/status</a>\n",
       "                </td>\n",
       "                <td style=\"text-align: left;\"></td>\n",
       "            </tr>\n",
       "        \n",
       "\n",
       "        </table>\n",
       "\n",
       "        \n",
       "            <details>\n",
       "            <summary style=\"margin-bottom: 20px;\"><h3 style=\"display: inline;\">Cluster Info</h3></summary>\n",
       "            <div style='background-color: #f2f2f2; display: inline-block; padding: 10px; border: 1px solid #999999;'>\n",
       "  <h3>GatewayCluster</h3>\n",
       "  <ul>\n",
       "    <li><b>Name: </b>prod.9b8ad54732384460b00459397d185f19\n",
       "    <li><b>Dashboard: </b><a href='https://pccompute.westeurope.cloudapp.azure.com/compute/services/dask-gateway/clusters/prod.9b8ad54732384460b00459397d185f19/status' target='_blank'>https://pccompute.westeurope.cloudapp.azure.com/compute/services/dask-gateway/clusters/prod.9b8ad54732384460b00459397d185f19/status</a>\n",
       "  </ul>\n",
       "</div>\n",
       "\n",
       "            </details>\n",
       "        \n",
       "\n",
       "    </div>\n",
       "</div>"
      ],
      "text/plain": [
       "<Client: 'tls://10.244.251.74:8786' processes=0 threads=0, memory=0 B>"
      ]
     },
     "execution_count": 3,
     "metadata": {},
     "output_type": "execute_result"
    }
   ],
   "source": [
    "# initialize DASK cluster\n",
    "cluster = dask_gateway.GatewayCluster()\n",
    "cluster.scale(n_workers)\n",
    "\n",
    "client = cluster.get_client()\n",
    "client"
   ]
  },
  {
   "cell_type": "code",
   "execution_count": 4,
   "id": "f05a96e0-e827-4240-b9a1-91d1f848cd26",
   "metadata": {},
   "outputs": [],
   "source": [
    "#scene_ids = pd.read_csv(os.path.join(os.getcwd(),'temp','coastal_scenes_ids_2020.csv')).itemid.loc[19:26]\n",
    "itemid = 'ca_m_3411934_sw_11_060_20200521' # CAMPUS POINT 2020"
   ]
  },
  {
   "cell_type": "code",
   "execution_count": 5,
   "id": "f98fe768-1edd-436a-9a73-b886b8a1bf53",
   "metadata": {},
   "outputs": [],
   "source": [
    "# ---------------------------------------\n",
    "# access NAIP scene\n",
    "item = sr.get_item_from_id(itemid)   \n",
    "href = pc.sign(item.assets[\"image\"].href)\n",
    "\n",
    "# save dimensions\n",
    "y_n = item.properties['proj:shape'][0]\n",
    "x_n = item.properties['proj:shape'][1]\n",
    "\n",
    "# open raster as dask.DataArray\n",
    "raster = rioxr.open_rasterio(href, chunks={\"x\": int(x_n/4), \"y\":int(y_n/4)})       \n",
    "raster = raster.drop_vars(['spatial_ref','x','y'])\n",
    "\n",
    "# ---------------------------------------\n",
    "# make dask.DataFrame with pixels\n",
    "pixels = daf.from_array(raster.stack(z=(\"y\", \"x\")).drop_vars('z').T, \n",
    "                      chunksize = int(x_n*y_n/n_workers))\n",
    "\n",
    "# convert into int16 to calculate ndvi and ndwi\n",
    "pixels = pixels.astype('int16')\n",
    "pixels['ndvi'] = (pixels[3] - pixels[0])/(pixels[3] + pixels[0])\n",
    "pixels['ndwi'] = (pixels[1] - pixels[3])/(pixels[1] + pixels[3])\n",
    "\n",
    "# add column with pixel number (a static index)\n",
    "pixels['pix_n'] = daf.from_array(np.arange(0,x_n*y_n), chunksize = int(x_n*y_n/n_workers))\n",
    "\n",
    "# ---------------------------------------\n",
    "# remove water and low ndvi pixels\n",
    "not_water = pixels[pixels.ndwi < 0.3]\n",
    "is_veg = not_water[not_water.ndvi > 0.05]\n",
    "\n",
    "# ---------------------------------------\n",
    "# clean dataframe and add date features\n",
    "# keep copy of pixel # of vegetation pixels\n",
    "is_veg_index = is_veg.pix_n\n",
    "\n",
    "is_veg = is_veg.drop(['ndwi','pix_n'], axis=1)\n",
    "\n",
    "date = item.datetime\n",
    "kwargs = {'year' : date.year,\n",
    "         'month' : date.month,\n",
    "         'day_in_year' : sr.day_in_year(date.day, date.month, date.year)}\n",
    "\n",
    "is_veg = is_veg.assign(**kwargs)"
   ]
  },
  {
   "cell_type": "code",
   "execution_count": 6,
   "id": "08f17dfc-4717-4719-9f8c-19e39147c766",
   "metadata": {},
   "outputs": [
    {
     "name": "stdout",
     "output_type": "stream",
     "text": [
      "loaded model\n"
     ]
    }
   ],
   "source": [
    "# ---------------------------------------\n",
    "# open pre-trained random forest classifier\n",
    "rfc = load('spectral_rfc.joblib') \n",
    "print('loaded model')\n",
    "\n",
    "# compute predictions\n",
    "scene_preds = rfc.predict(is_veg.to_dask_array())\n",
    "scene_preds = scene_preds.compute()"
   ]
  },
  {
   "cell_type": "code",
   "execution_count": 7,
   "id": "0f4f2bcb-e198-442a-8ff1-577b9cb1b296",
   "metadata": {},
   "outputs": [],
   "source": [
    "# ---------------------------------------\n",
    "# retrieve pixel #s for vegetation pixels\n",
    "veg_index = is_veg_index.compute()"
   ]
  },
  {
   "cell_type": "code",
   "execution_count": 8,
   "id": "dc2033cb-47d0-4ab8-912a-f84df863fa14",
   "metadata": {},
   "outputs": [],
   "source": [
    "# ---------------------------------------\n",
    "# recover pixel indices for iceplant classifications\n",
    "preds_df = pd.DataFrame(scene_preds, \n",
    "                         columns=['is_iceplant'], \n",
    "                         index = veg_index)\n",
    "is_iceplant_index = preds_df[preds_df.is_iceplant == 1].index.to_numpy()\n",
    "non_iceplant_index = preds_df[preds_df.is_iceplant == 0].index.to_numpy()\n",
    "\n",
    "# ---------------------------------------\n",
    "# reconstruct indices into image\n",
    "indices = [non_iceplant_index,\n",
    "           is_iceplant_index]\n",
    "values = [0,    # values assigned to pixels from each index\n",
    "          1]\n",
    "\n",
    "reconstruct = rm.indices_to_image(y_n,x_n, indices, values, back_value=0)\n",
    "\n",
    "# ---------------------------------------\n",
    "# save raster \n",
    "filename = 'dask_preds_' + itemid +'.tif'\n",
    "\n",
    "with rasterio.open(\n",
    "    os.path.join(os.getcwd(),'temp',filename),  # file path\n",
    "    'w',           # w = write\n",
    "    driver = 'GTiff', # format\n",
    "    height = y_n, \n",
    "    width = x_n,\n",
    "    count = 1,  # number of raster bands in the dataset\n",
    "    dtype = rasterio.uint8,\n",
    "    crs = raster.rio.crs,\n",
    "#    transform = raster.rio.transform(),\n",
    "    transform = Affine(*item.properties['proj:transform'][0:6]),\n",
    ") as dst:\n",
    "    dst.write(reconstruct.astype(rasterio.uint8), 1)\n",
    "# ---------------------------------------\n",
    "print('FINISHED: ', itemid , '\\n')"
   ]
  },
  {
   "cell_type": "code",
   "execution_count": null,
   "id": "b851995c-531f-472c-867a-38606fe42de9",
   "metadata": {},
   "outputs": [],
   "source": []
  }
 ],
 "metadata": {
  "kernelspec": {
   "display_name": "Python 3 (ipykernel)",
   "language": "python",
   "name": "python3"
  },
  "language_info": {
   "codemirror_mode": {
    "name": "ipython",
    "version": 3
   },
   "file_extension": ".py",
   "mimetype": "text/x-python",
   "name": "python",
   "nbconvert_exporter": "python",
   "pygments_lexer": "ipython3",
   "version": "3.8.13"
  }
 },
 "nbformat": 4,
 "nbformat_minor": 5
}
