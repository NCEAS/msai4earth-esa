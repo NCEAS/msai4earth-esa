{
 "cells": [
  {
   "cell_type": "code",
   "execution_count": 1,
   "id": "e2610b8d-52ef-485e-9417-c84f8e582b46",
   "metadata": {},
   "outputs": [],
   "source": [
    "import pystac_client\n",
    "import planetary_computer as pc\n",
    "\n",
    "#import matplotlib.pyplot as plt\n",
    "import geopandas as gpd\n",
    "import pandas as pd\n",
    "import shapely\n",
    "import os\n",
    "from shapely.geometry import box\n"
   ]
  },
  {
   "cell_type": "code",
   "execution_count": 2,
   "id": "5147b4d6-99b2-4409-a341-4f17d49e18d3",
   "metadata": {},
   "outputs": [],
   "source": [
    "def query_geom(geom, year):\n",
    "\n",
    "    date_range = str(year)+'-01-01/'+str(year)+'-12-31'\n",
    "\n",
    "    catalog = pystac_client.Client.open(\n",
    "        \"https://planetarycomputer.microsoft.com/api/stac/v1\")\n",
    "\n",
    "    search = catalog.search(\n",
    "        collections=[\"naip\"], \n",
    "        intersects=geom, \n",
    "        datetime=date_range)\n",
    "    \n",
    "    items =list(search.get_items()) \n",
    "    if len(items)==0:\n",
    "        return None\n",
    "    return items"
   ]
  },
  {
   "cell_type": "code",
   "execution_count": 3,
   "id": "dc1690ae-5950-4493-85af-d0228519c32b",
   "metadata": {},
   "outputs": [
    {
     "data": {
      "text/html": [
       "<div>\n",
       "<style scoped>\n",
       "    .dataframe tbody tr th:only-of-type {\n",
       "        vertical-align: middle;\n",
       "    }\n",
       "\n",
       "    .dataframe tbody tr th {\n",
       "        vertical-align: top;\n",
       "    }\n",
       "\n",
       "    .dataframe thead th {\n",
       "        text-align: right;\n",
       "    }\n",
       "</style>\n",
       "<table border=\"1\" class=\"dataframe\">\n",
       "  <thead>\n",
       "    <tr style=\"text-align: right;\">\n",
       "      <th></th>\n",
       "      <th>id</th>\n",
       "      <th>geometry</th>\n",
       "    </tr>\n",
       "  </thead>\n",
       "  <tbody>\n",
       "    <tr>\n",
       "      <th>0</th>\n",
       "      <td>0</td>\n",
       "      <td>POLYGON ((-120.54335 34.96932, -120.62329 34.9...</td>\n",
       "    </tr>\n",
       "  </tbody>\n",
       "</table>\n",
       "</div>"
      ],
      "text/plain": [
       "   id                                           geometry\n",
       "0   0  POLYGON ((-120.54335 34.96932, -120.62329 34.9..."
      ]
     },
     "execution_count": 3,
     "metadata": {},
     "output_type": "execute_result"
    }
   ],
   "source": [
    "#fp = os.path.join(os.getcwd(),'sb_county_coast','sb_county_coast.shp')\n",
    "fp = os.path.join(os.getcwd(),'training_set','aux_data','sb_coast_polygon','sb_coast_polygon.shp')\n",
    "coast = gpd.read_file(fp)\n",
    "coast"
   ]
  },
  {
   "cell_type": "code",
   "execution_count": 4,
   "id": "410de0a5-56c5-4f7c-a5bf-1a116bdf01d3",
   "metadata": {},
   "outputs": [
    {
     "data": {
      "text/plain": [
       "[<Item id=ca_m_3412037_nw_10_060_20180913_20190208>,\n",
       " <Item id=ca_m_3412029_sw_10_060_20180913_20190209>,\n",
       " <Item id=ca_m_3412028_ne_10_060_20180913_20190209>,\n",
       " <Item id=ca_m_3412004_sw_10_060_20180913_20190208>,\n",
       " <Item id=ca_m_3412004_nw_10_060_20180913_20190208>,\n",
       " <Item id=ca_m_3412003_se_10_060_20180913_20190208>,\n",
       " <Item id=ca_m_3412003_ne_10_060_20180913_20190208>,\n",
       " <Item id=ca_m_3412039_nw_10_060_20180724_20190209>,\n",
       " <Item id=ca_m_3412038_nw_10_060_20180724_20190209>,\n",
       " <Item id=ca_m_3412038_ne_10_060_20180724_20190208>,\n",
       " <Item id=ca_m_3412037_ne_10_060_20180724_20190208>,\n",
       " <Item id=ca_m_3412012_nw_10_060_20180724_20190208>,\n",
       " <Item id=ca_m_3412004_ne_10_060_20180724_20190208>,\n",
       " <Item id=ca_m_3411945_nw_11_060_20180724_20190209>,\n",
       " <Item id=ca_m_3411945_ne_11_060_20180724_20190209>,\n",
       " <Item id=ca_m_3411937_sw_11_060_20180724_20190208>,\n",
       " <Item id=ca_m_3411937_se_11_060_20180724_20190208>,\n",
       " <Item id=ca_m_3411936_sw_11_060_20180724_20190209>,\n",
       " <Item id=ca_m_3411936_se_11_060_20180724_20190209>,\n",
       " <Item id=ca_m_3411935_sw_11_060_20180724_20190209>,\n",
       " <Item id=ca_m_3411935_se_11_060_20180724_20190209>,\n",
       " <Item id=ca_m_3412040_nw_10_060_20180722_20190209>,\n",
       " <Item id=ca_m_3412039_ne_10_060_20180722_20190209>,\n",
       " <Item id=ca_m_3411934_sw_11_060_20180722_20190209>,\n",
       " <Item id=ca_m_3411934_se_11_060_20180722_20190209>,\n",
       " <Item id=ca_m_3411933_sw_11_060_20180722_20190208>,\n",
       " <Item id=ca_m_3411933_se_11_060_20180722_20190208>,\n",
       " <Item id=ca_m_3411933_nw_11_060_20180722_20190208>,\n",
       " <Item id=ca_m_3411933_ne_11_060_20180722_20190208>,\n",
       " <Item id=ca_m_3412040_ne_10_060_20180715_20190209>]"
      ]
     },
     "execution_count": 4,
     "metadata": {},
     "output_type": "execute_result"
    }
   ],
   "source": [
    "coast_scenes = query_geom(coast.geometry[0],2018)\n",
    "coast_scenes"
   ]
  },
  {
   "cell_type": "code",
   "execution_count": 5,
   "id": "7f0c3c57-5cef-45c4-b91b-e5924395b718",
   "metadata": {},
   "outputs": [],
   "source": [
    "def make_bbox(item):\n",
    "    c = item.properties['proj:bbox']\n",
    "    return box(c[0],c[1],c[2],c[3])"
   ]
  },
  {
   "cell_type": "code",
   "execution_count": 7,
   "id": "63529a1a-4069-46b0-b432-8ffa5a4c52a1",
   "metadata": {},
   "outputs": [
    {
     "data": {
      "text/plain": [
       "(30, 4)"
      ]
     },
     "execution_count": 7,
     "metadata": {},
     "output_type": "execute_result"
    }
   ],
   "source": [
    "# make dataframe with collected scenes and relevant info\n",
    "df = pd.DataFrame(coast_scenes, columns = ['item'])\n",
    "df['date']=df.item.apply(lambda item : item.properties['datetime'])\n",
    "df['crs']=df.item.apply(lambda item : item.properties['proj:epsg'])\n",
    "df['bbox']=df.item.apply(make_bbox)\n",
    "df.shape"
   ]
  },
  {
   "cell_type": "code",
   "execution_count": 8,
   "id": "43c323ef-c71a-4e0e-abb4-f45db16e57a0",
   "metadata": {},
   "outputs": [],
   "source": [
    "def group_flight(df,date):\n",
    "    same_date = df[df['date']==date]\n",
    "    \n",
    "    crs_list = same_date.crs.unique()\n",
    "    polygons = []\n",
    "    for crs in crs_list:\n",
    "        same_crs = same_date[same_date['crs']==crs]\n",
    "        area = shapely.ops.unary_union(same_crs.bbox)\n",
    "        gdf = gpd.GeoDataFrame({'geometry':[area]}, \n",
    "                               crs='EPSG:'+str(crs))\n",
    "        gdf.to_crs('EPSG:4326',inplace=True)\n",
    "        polygons.append(gdf.geometry[0])\n",
    "\n",
    "        flight = shapely.ops.unary_union(polygons)\n",
    "\n",
    "    return flight\n",
    "\n",
    "def flight_paths(df):\n",
    "    dates = df.date.unique()\n",
    "    flights = []\n",
    "    for date in dates:\n",
    "        flights.append(group_flight(df,date))\n",
    "    gdf = gpd.GeoDataFrame({'date':dates, 'geometry':flights},\n",
    "                     crs = 'EPSG:4326')\n",
    "    return gdf"
   ]
  },
  {
   "cell_type": "code",
   "execution_count": 9,
   "id": "b1a6b07b-c288-4e84-9709-27c4571faa74",
   "metadata": {},
   "outputs": [],
   "source": [
    "flights = flight_paths(df)"
   ]
  },
  {
   "cell_type": "code",
   "execution_count": 10,
   "id": "c60810ba-6973-4da7-bd5f-c8d852bd1ab2",
   "metadata": {},
   "outputs": [
    {
     "data": {
      "text/html": [
       "<div>\n",
       "<style scoped>\n",
       "    .dataframe tbody tr th:only-of-type {\n",
       "        vertical-align: middle;\n",
       "    }\n",
       "\n",
       "    .dataframe tbody tr th {\n",
       "        vertical-align: top;\n",
       "    }\n",
       "\n",
       "    .dataframe thead th {\n",
       "        text-align: right;\n",
       "    }\n",
       "</style>\n",
       "<table border=\"1\" class=\"dataframe\">\n",
       "  <thead>\n",
       "    <tr style=\"text-align: right;\">\n",
       "      <th></th>\n",
       "      <th>date</th>\n",
       "      <th>geometry</th>\n",
       "    </tr>\n",
       "  </thead>\n",
       "  <tbody>\n",
       "    <tr>\n",
       "      <th>0</th>\n",
       "      <td>2018-09-13T00:00:00Z</td>\n",
       "      <td>MULTIPOLYGON (((-120.50354 34.43618, -120.5016...</td>\n",
       "    </tr>\n",
       "    <tr>\n",
       "      <th>1</th>\n",
       "      <td>2018-07-24T00:00:00Z</td>\n",
       "      <td>MULTIPOLYGON (((-119.50156 34.30983, -119.5034...</td>\n",
       "    </tr>\n",
       "    <tr>\n",
       "      <th>2</th>\n",
       "      <td>2018-07-22T00:00:00Z</td>\n",
       "      <td>MULTIPOLYGON (((-119.81405 34.37217, -119.8140...</td>\n",
       "    </tr>\n",
       "    <tr>\n",
       "      <th>3</th>\n",
       "      <td>2018-07-15T00:00:00Z</td>\n",
       "      <td>POLYGON ((-119.99846 34.43456, -119.99607 34.5...</td>\n",
       "    </tr>\n",
       "  </tbody>\n",
       "</table>\n",
       "</div>"
      ],
      "text/plain": [
       "                   date                                           geometry\n",
       "0  2018-09-13T00:00:00Z  MULTIPOLYGON (((-120.50354 34.43618, -120.5016...\n",
       "1  2018-07-24T00:00:00Z  MULTIPOLYGON (((-119.50156 34.30983, -119.5034...\n",
       "2  2018-07-22T00:00:00Z  MULTIPOLYGON (((-119.81405 34.37217, -119.8140...\n",
       "3  2018-07-15T00:00:00Z  POLYGON ((-119.99846 34.43456, -119.99607 34.5..."
      ]
     },
     "execution_count": 10,
     "metadata": {},
     "output_type": "execute_result"
    }
   ],
   "source": [
    "flights"
   ]
  },
  {
   "cell_type": "code",
   "execution_count": 11,
   "id": "ec33b7f9-c07a-45f0-b866-3b27e6f56581",
   "metadata": {},
   "outputs": [
    {
     "name": "stderr",
     "output_type": "stream",
     "text": [
      "/srv/conda/envs/notebook/lib/python3.8/site-packages/geopandas/io/file.py:362: FutureWarning: pandas.Int64Index is deprecated and will be removed from pandas in a future version. Use pandas.Index with the appropriate dtype instead.\n",
      "  pd.Int64Index,\n"
     ]
    }
   ],
   "source": [
    "flights.to_file(os.path.join(os.getcwd(),'training_set','aux_data','flights_coast.shp'))"
   ]
  },
  {
   "cell_type": "code",
   "execution_count": null,
   "id": "884df3b9-09a1-4eff-9119-e423bc6a29ec",
   "metadata": {},
   "outputs": [],
   "source": []
  }
 ],
 "metadata": {
  "kernelspec": {
   "display_name": "Python 3 (ipykernel)",
   "language": "python",
   "name": "python3"
  },
  "language_info": {
   "codemirror_mode": {
    "name": "ipython",
    "version": 3
   },
   "file_extension": ".py",
   "mimetype": "text/x-python",
   "name": "python",
   "nbconvert_exporter": "python",
   "pygments_lexer": "ipython3",
   "version": "3.8.12"
  }
 },
 "nbformat": 4,
 "nbformat_minor": 5
}
