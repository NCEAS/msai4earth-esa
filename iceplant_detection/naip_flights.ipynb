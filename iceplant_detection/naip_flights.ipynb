{
 "cells": [
  {
   "cell_type": "code",
   "execution_count": 102,
   "id": "e2610b8d-52ef-485e-9417-c84f8e582b46",
   "metadata": {},
   "outputs": [],
   "source": [
    "import pystac_client\n",
    "import planetary_computer as pc\n",
    "\n",
    "#import matplotlib.pyplot as plt\n",
    "import geopandas as gpd\n",
    "import pandas as pd\n",
    "import shapely\n",
    "from shapely.geometry import box\n",
    "from shapely.geometry import Polygon, MultiPolygon\n",
    "import os"
   ]
  },
  {
   "cell_type": "code",
   "execution_count": 2,
   "id": "5147b4d6-99b2-4409-a341-4f17d49e18d3",
   "metadata": {},
   "outputs": [],
   "source": [
    "def query_line(line, year):\n",
    "\n",
    "    date_range = str(year)+'-01-01/'+str(year)+'-12-31'\n",
    "\n",
    "    catalog = pystac_client.Client.open(\n",
    "        \"https://planetarycomputer.microsoft.com/api/stac/v1\")\n",
    "\n",
    "    search = catalog.search(\n",
    "        collections=[\"naip\"], \n",
    "        intersects=line, \n",
    "        datetime=date_range)\n",
    "    \n",
    "    items =list(search.get_items()) \n",
    "    if len(items)==0:\n",
    "        return None\n",
    "    return items"
   ]
  },
  {
   "cell_type": "code",
   "execution_count": 3,
   "id": "dc1690ae-5950-4493-85af-d0228519c32b",
   "metadata": {},
   "outputs": [
    {
     "data": {
      "text/html": [
       "<div>\n",
       "<style scoped>\n",
       "    .dataframe tbody tr th:only-of-type {\n",
       "        vertical-align: middle;\n",
       "    }\n",
       "\n",
       "    .dataframe tbody tr th {\n",
       "        vertical-align: top;\n",
       "    }\n",
       "\n",
       "    .dataframe thead th {\n",
       "        text-align: right;\n",
       "    }\n",
       "</style>\n",
       "<table border=\"1\" class=\"dataframe\">\n",
       "  <thead>\n",
       "    <tr style=\"text-align: right;\">\n",
       "      <th></th>\n",
       "      <th>id</th>\n",
       "      <th>geometry</th>\n",
       "    </tr>\n",
       "  </thead>\n",
       "  <tbody>\n",
       "    <tr>\n",
       "      <th>0</th>\n",
       "      <td>0</td>\n",
       "      <td>LINESTRING (-118.51632 34.07155, -118.80054 34...</td>\n",
       "    </tr>\n",
       "  </tbody>\n",
       "</table>\n",
       "</div>"
      ],
      "text/plain": [
       "   id                                           geometry\n",
       "0   0  LINESTRING (-118.51632 34.07155, -118.80054 34..."
      ]
     },
     "execution_count": 3,
     "metadata": {},
     "output_type": "execute_result"
    }
   ],
   "source": [
    "fp = os.path.join(os.getcwd(),'sb_county_coast','sb_county_coast.shp')\n",
    "coast = gpd.read_file(fp)\n",
    "coast"
   ]
  },
  {
   "cell_type": "code",
   "execution_count": 4,
   "id": "410de0a5-56c5-4f7c-a5bf-1a116bdf01d3",
   "metadata": {},
   "outputs": [],
   "source": [
    "coast_scenes = query_line(coast.geometry[0],2018)"
   ]
  },
  {
   "cell_type": "code",
   "execution_count": 5,
   "id": "7f0c3c57-5cef-45c4-b91b-e5924395b718",
   "metadata": {},
   "outputs": [],
   "source": [
    "def make_bbox(item):\n",
    "    c = item.properties['proj:bbox']\n",
    "    return box(c[0],c[1],c[2],c[3])"
   ]
  },
  {
   "cell_type": "code",
   "execution_count": 6,
   "id": "63529a1a-4069-46b0-b432-8ffa5a4c52a1",
   "metadata": {},
   "outputs": [
    {
     "data": {
      "text/html": [
       "<div>\n",
       "<style scoped>\n",
       "    .dataframe tbody tr th:only-of-type {\n",
       "        vertical-align: middle;\n",
       "    }\n",
       "\n",
       "    .dataframe tbody tr th {\n",
       "        vertical-align: top;\n",
       "    }\n",
       "\n",
       "    .dataframe thead th {\n",
       "        text-align: right;\n",
       "    }\n",
       "</style>\n",
       "<table border=\"1\" class=\"dataframe\">\n",
       "  <thead>\n",
       "    <tr style=\"text-align: right;\">\n",
       "      <th></th>\n",
       "      <th>item</th>\n",
       "      <th>date</th>\n",
       "      <th>crs</th>\n",
       "      <th>bbox</th>\n",
       "    </tr>\n",
       "  </thead>\n",
       "  <tbody>\n",
       "    <tr>\n",
       "      <th>0</th>\n",
       "      <td>&lt;Item id=ca_m_3512060_sw_10_060_20180913_20190...</td>\n",
       "      <td>2018-09-13T00:00:00Z</td>\n",
       "      <td>26910</td>\n",
       "      <td>POLYGON ((722604 3875466, 722604 3882846, 7164...</td>\n",
       "    </tr>\n",
       "    <tr>\n",
       "      <th>1</th>\n",
       "      <td>&lt;Item id=ca_m_3512060_nw_10_060_20180913_20190...</td>\n",
       "      <td>2018-09-13T00:00:00Z</td>\n",
       "      <td>26910</td>\n",
       "      <td>POLYGON ((722430 3882402, 722430 3889776, 7162...</td>\n",
       "    </tr>\n",
       "    <tr>\n",
       "      <th>2</th>\n",
       "      <td>&lt;Item id=ca_m_3512052_sw_10_060_20180913_20190...</td>\n",
       "      <td>2018-09-13T00:00:00Z</td>\n",
       "      <td>26910</td>\n",
       "      <td>POLYGON ((722262 3889332, 722262 3896712, 7160...</td>\n",
       "    </tr>\n",
       "    <tr>\n",
       "      <th>3</th>\n",
       "      <td>&lt;Item id=ca_m_3512052_nw_10_060_20180913_20190...</td>\n",
       "      <td>2018-09-13T00:00:00Z</td>\n",
       "      <td>26910</td>\n",
       "      <td>POLYGON ((722094 3896268, 722094 3903642, 7159...</td>\n",
       "    </tr>\n",
       "    <tr>\n",
       "      <th>4</th>\n",
       "      <td>&lt;Item id=ca_m_3512051_nw_10_060_20180913_20190...</td>\n",
       "      <td>2018-09-13T00:00:00Z</td>\n",
       "      <td>26910</td>\n",
       "      <td>POLYGON ((710712 3896004, 710712 3903372, 7045...</td>\n",
       "    </tr>\n",
       "    <tr>\n",
       "      <th>...</th>\n",
       "      <td>...</td>\n",
       "      <td>...</td>\n",
       "      <td>...</td>\n",
       "      <td>...</td>\n",
       "    </tr>\n",
       "    <tr>\n",
       "      <th>60</th>\n",
       "      <td>&lt;Item id=ca_m_3411857_nw_11_060_20180722_20190...</td>\n",
       "      <td>2018-07-22T00:00:00Z</td>\n",
       "      <td>26911</td>\n",
       "      <td>POLYGON ((321480 3770628, 321480 3777978, 3152...</td>\n",
       "    </tr>\n",
       "    <tr>\n",
       "      <th>61</th>\n",
       "      <td>&lt;Item id=ca_m_3411857_ne_11_060_20180722_20190...</td>\n",
       "      <td>2018-07-22T00:00:00Z</td>\n",
       "      <td>26911</td>\n",
       "      <td>POLYGON ((327246 3770520, 327246 3777864, 3210...</td>\n",
       "    </tr>\n",
       "    <tr>\n",
       "      <th>62</th>\n",
       "      <td>&lt;Item id=ca_m_3411849_sw_11_060_20180722_20190...</td>\n",
       "      <td>2018-07-22T00:00:00Z</td>\n",
       "      <td>26911</td>\n",
       "      <td>POLYGON ((321612 3777558, 321612 3784908, 3154...</td>\n",
       "    </tr>\n",
       "    <tr>\n",
       "      <th>63</th>\n",
       "      <td>&lt;Item id=ca_m_3412040_ne_10_060_20180715_20190...</td>\n",
       "      <td>2018-07-15T00:00:00Z</td>\n",
       "      <td>26910</td>\n",
       "      <td>POLYGON ((775812 3814428, 775812 3821838, 7695...</td>\n",
       "    </tr>\n",
       "    <tr>\n",
       "      <th>64</th>\n",
       "      <td>&lt;Item id=ca_m_3412032_se_10_060_20180715_20190...</td>\n",
       "      <td>2018-07-15T00:00:00Z</td>\n",
       "      <td>26910</td>\n",
       "      <td>POLYGON ((775608 3821364, 775608 3828768, 7693...</td>\n",
       "    </tr>\n",
       "  </tbody>\n",
       "</table>\n",
       "<p>65 rows × 4 columns</p>\n",
       "</div>"
      ],
      "text/plain": [
       "                                                 item                  date  \\\n",
       "0   <Item id=ca_m_3512060_sw_10_060_20180913_20190...  2018-09-13T00:00:00Z   \n",
       "1   <Item id=ca_m_3512060_nw_10_060_20180913_20190...  2018-09-13T00:00:00Z   \n",
       "2   <Item id=ca_m_3512052_sw_10_060_20180913_20190...  2018-09-13T00:00:00Z   \n",
       "3   <Item id=ca_m_3512052_nw_10_060_20180913_20190...  2018-09-13T00:00:00Z   \n",
       "4   <Item id=ca_m_3512051_nw_10_060_20180913_20190...  2018-09-13T00:00:00Z   \n",
       "..                                                ...                   ...   \n",
       "60  <Item id=ca_m_3411857_nw_11_060_20180722_20190...  2018-07-22T00:00:00Z   \n",
       "61  <Item id=ca_m_3411857_ne_11_060_20180722_20190...  2018-07-22T00:00:00Z   \n",
       "62  <Item id=ca_m_3411849_sw_11_060_20180722_20190...  2018-07-22T00:00:00Z   \n",
       "63  <Item id=ca_m_3412040_ne_10_060_20180715_20190...  2018-07-15T00:00:00Z   \n",
       "64  <Item id=ca_m_3412032_se_10_060_20180715_20190...  2018-07-15T00:00:00Z   \n",
       "\n",
       "      crs                                               bbox  \n",
       "0   26910  POLYGON ((722604 3875466, 722604 3882846, 7164...  \n",
       "1   26910  POLYGON ((722430 3882402, 722430 3889776, 7162...  \n",
       "2   26910  POLYGON ((722262 3889332, 722262 3896712, 7160...  \n",
       "3   26910  POLYGON ((722094 3896268, 722094 3903642, 7159...  \n",
       "4   26910  POLYGON ((710712 3896004, 710712 3903372, 7045...  \n",
       "..    ...                                                ...  \n",
       "60  26911  POLYGON ((321480 3770628, 321480 3777978, 3152...  \n",
       "61  26911  POLYGON ((327246 3770520, 327246 3777864, 3210...  \n",
       "62  26911  POLYGON ((321612 3777558, 321612 3784908, 3154...  \n",
       "63  26910  POLYGON ((775812 3814428, 775812 3821838, 7695...  \n",
       "64  26910  POLYGON ((775608 3821364, 775608 3828768, 7693...  \n",
       "\n",
       "[65 rows x 4 columns]"
      ]
     },
     "execution_count": 6,
     "metadata": {},
     "output_type": "execute_result"
    }
   ],
   "source": [
    "# make dataframe with collected scenes and relevant info\n",
    "df = pd.DataFrame(coast_scenes, columns = ['item'])\n",
    "df['date']=df.item.apply(lambda item : item.properties['datetime'])\n",
    "df['crs']=df.item.apply(lambda item : item.properties['proj:epsg'])\n",
    "df['bbox']=df.item.apply(make_bbox)\n",
    "df"
   ]
  },
  {
   "cell_type": "code",
   "execution_count": 7,
   "id": "cce00a32-2cce-482b-b7c9-b3cf665c05cc",
   "metadata": {},
   "outputs": [
    {
     "data": {
      "text/plain": [
       "array(['2018-09-13T00:00:00Z', '2018-07-24T00:00:00Z',\n",
       "       '2018-07-22T00:00:00Z', '2018-07-15T00:00:00Z'], dtype=object)"
      ]
     },
     "execution_count": 7,
     "metadata": {},
     "output_type": "execute_result"
    }
   ],
   "source": [
    "# collect unique dates\n",
    "dates = df.date.unique()\n",
    "dates"
   ]
  },
  {
   "cell_type": "code",
   "execution_count": 8,
   "id": "57c7dcb9-903b-4d05-a241-70e989032b1d",
   "metadata": {},
   "outputs": [],
   "source": [
    "def group_flight(df,date):\n",
    "    flight = df[df['date']==date]\n",
    "    crs = flight.crs.unique()\n",
    "    if len(crs) >1:\n",
    "        print(crs)\n",
    "        print('multiple crs on same date')\n",
    "        return None \n",
    "    area = Polygon()\n",
    "    for box in flight.bbox:\n",
    "        area = area.union(box)\n",
    "    d = {'geometry':[area],'date':date}\n",
    "    gdf = gpd.GeoDataFrame(d, crs='EPSG:'+str(flight.crs[0]))\n",
    "    flight_gdf = gdf.to_crs(\"EPSG:4326\")\n",
    "    return flight_gdf"
   ]
  },
  {
   "cell_type": "code",
   "execution_count": 42,
   "id": "c841c574-3608-4dbd-aa1c-9817627b0a12",
   "metadata": {},
   "outputs": [
    {
     "name": "stdout",
     "output_type": "stream",
     "text": [
      "MULTIPOLYGON (((-120.81088083265693 35.24745618492859, -120.87836730843001 35.24865889708314, -120.87663423163377 35.3150507534416, -120.81417138236033 35.31393717624129, -120.81414082415166 35.315072490245115, -120.75161462450666 35.31392540422642, -120.75158169524563 35.31511473230176, -120.68912392610297 35.313936704634415, -120.68909008060494 35.315125980773416, -120.62142515781426 35.31381326038086, -120.62321654669108 35.252568167896385, -120.55890168407265 35.25128722772121, -120.56077180054992 35.18885504314015, -120.5589281722709 35.18881787540244, -120.5607955720617 35.126330989325005, -120.55895335386741 35.12629387788599, -120.56081480917847 35.063860401917324, -120.55890825224186 35.063822022790234, -120.56076704515313 35.00133385064937, -120.55892763305421 35.00129685074847, -120.56078010686288 34.93886256473862, -120.55894209051446 34.93882562226541, -120.56091006965389 34.87233646264286, -120.62853619996676 34.87367513610149, -120.62673796447497 34.936167243530534, -120.62851036851697 34.93620187574476, -120.62670949437923 34.99863928025128, -120.62854893895283 34.99867525042985, -120.62674194695582 35.06116651246873, -120.62851704818351 35.06120125075571, -120.62670739945058 35.123637819793075, -120.6285496496522 35.12367389904089, -120.62677043469573 35.18492057735687, -120.68583412884571 35.186064140086565, -120.6858663351958 35.1849289005087, -120.75342721562524 35.186201604117706, -120.75173623317556 35.24750702494695, -120.81085029506552 35.248591508668106, -120.81088083265693 35.24745618492859)), ((-120.56604427766656 34.561206016556056, -120.5642218880722 34.62364458299733, -120.56605293798668 34.62368115904513, -120.56422472149623 34.686173144753496, -120.56605714512496 34.68620977750895, -120.56410716012061 34.75270140103118, -120.4963865711842 34.751327004349704, -120.49827018955347 34.688838863611245, -120.49643780046378 34.68880121275708, -120.49827641267854 34.6276638325468, -120.43386501117334 34.62632487664003, -120.435786692234 34.56383848897821, -120.4338917979036 34.56379864617484, -120.43580732580011 34.50136567108154, -120.43391384687884 34.50132589171873, -120.43595079632713 34.43478432719128, -120.50354241642137 34.436183851397175, -120.50168004806179 34.49867449079172, -120.5035735727554 34.498713224036074, -120.5017460288686 34.55990618976192, -120.56604427766656 34.561206016556056)))\n"
     ]
    }
   ],
   "source": [
    "print(group_flight(df,dates[0]).geometry[0])"
   ]
  },
  {
   "cell_type": "code",
   "execution_count": 58,
   "id": "a2fed1c5-5929-4954-8456-4b6ad41f23c1",
   "metadata": {},
   "outputs": [],
   "source": [
    "def group_flight2(df,date):\n",
    "    same_date = df[df['date']==date]\n",
    "    crs_list = same_date.crs.unique()\n",
    "    polygons = []\n",
    "    for crs in crs_list:\n",
    "        print(crs)\n",
    "        same_crs = same_date[same_date['crs']==crs]\n",
    "        area = Polygon()\n",
    "        for box in same_crs.bbox:\n",
    "            area = area.union(box)\n",
    "        gdf = gpd.GeoDataFrame({'geometry':[area]}, \n",
    "                               crs='EPSG:'+str(crs))\n",
    "        gdf.to_crs('EPSG:4326',inplace=True)\n",
    "        print(gdf.geometry[0])\n",
    "        print(type(gdf.geometry[0]))\n",
    "        polygons.append(gdf.geometry[0])\n",
    "#    print(polygons)\n",
    "#    print(type(polygons))\n",
    "#    print(polygons[0])\n",
    "    area2 = Polygon()\n",
    "    print(area2)\n",
    "    for poly in polygons:\n",
    "        print(poly)\n",
    "        area2.union(poly)\n",
    "        print(area)\n",
    "    d = {'geometry':[area],'date':date}\n",
    "    print(d['geometry'][0])\n",
    "    return gpd.GeoDataFrame(d, crs='EPSG:4326')        \n",
    "        "
   ]
  },
  {
   "cell_type": "code",
   "execution_count": 111,
   "id": "98c6befa-0917-473d-87d3-fc1a42d3f8a2",
   "metadata": {},
   "outputs": [],
   "source": [
    "def group_flight3(df,date):\n",
    "    same_date = df[df['date']==date]\n",
    "    \n",
    "    crs_list = same_date.crs.unique()\n",
    "    polygons = []\n",
    "    for crs in crs_list:\n",
    "        print(crs)\n",
    "        same_crs = same_date[same_date['crs']==crs]\n",
    "        area = shapely.ops.unary_union(same_crs.bbox)\n",
    "        gdf = gpd.GeoDataFrame({'geometry':[area]}, \n",
    "                               crs='EPSG:'+str(crs))\n",
    "        gdf.to_crs('EPSG:4326',inplace=True)\n",
    "        polygons.append(gdf.geometry[0])\n",
    "\n",
    "        flight = shapely.ops.unary_union(polygons)\n",
    "\n",
    "    return flight"
   ]
  },
  {
   "cell_type": "code",
   "execution_count": 116,
   "id": "ec702017-15de-4c76-8109-0796e9e2e568",
   "metadata": {},
   "outputs": [
    {
     "name": "stdout",
     "output_type": "stream",
     "text": [
      "26910\n"
     ]
    },
    {
     "data": {
      "image/svg+xml": [
       "<svg xmlns=\"http://www.w3.org/2000/svg\" xmlns:xlink=\"http://www.w3.org/1999/xlink\" width=\"100.0\" height=\"100.0\" viewBox=\"-120.07165693048182 34.42932244172268 0.08084174657453502 0.14132184181382712\" preserveAspectRatio=\"xMinYMin meet\"><g transform=\"matrix(1,0,0,-1,0,68.99996672525918)\"><path fill-rule=\"evenodd\" fill=\"#66cc99\" stroke=\"#555555\" stroke-width=\"0.0028264368362765423\" opacity=\"0.6\" d=\"M -119.99607288438993,34.501290387487835 L -119.99846482069918,34.434556584012086 L -120.06642278819243,34.43620716801128 L -120.06423459428851,34.49867590051331 L -120.066388503343,34.49872767270414 L -120.06404685764983,34.565410141247106 L -119.99604932619668,34.56375457675509 L -119.99829199642939,34.50134498811637 L -119.99607288438993,34.501290387487835 z\" /></g></svg>"
      ],
      "text/plain": [
       "<shapely.geometry.polygon.Polygon at 0x7f59950da460>"
      ]
     },
     "execution_count": 116,
     "metadata": {},
     "output_type": "execute_result"
    }
   ],
   "source": [
    "group_flight3(df,dates[3])"
   ]
  },
  {
   "cell_type": "code",
   "execution_count": null,
   "id": "3b2962dc-13de-4858-89a5-fd3d0d3c3a4b",
   "metadata": {},
   "outputs": [],
   "source": [
    "flights = gpd.GeoDataFrame()\n",
    "for date in dates:\n",
    "    print(date)\n",
    "    flight = group_flight(df,date)\n",
    "    flights.append(flight)\n",
    "flights"
   ]
  },
  {
   "cell_type": "code",
   "execution_count": null,
   "id": "ec33b7f9-c07a-45f0-b866-3b27e6f56581",
   "metadata": {},
   "outputs": [],
   "source": [
    "flights.to_file(os.path.join(os.getcwd(),'training_set','aux_data'))"
   ]
  },
  {
   "cell_type": "code",
   "execution_count": 17,
   "id": "f962129e-55cf-4a65-83eb-4032fba50edc",
   "metadata": {},
   "outputs": [
    {
     "name": "stderr",
     "output_type": "stream",
     "text": [
      "/tmp/ipykernel_1482/1881502974.py:1: FutureWarning: The frame.append method is deprecated and will be removed from pandas in a future version. Use pandas.concat instead.\n",
      "  trial.append(trial)\n"
     ]
    },
    {
     "data": {
      "text/html": [
       "<div>\n",
       "<style scoped>\n",
       "    .dataframe tbody tr th:only-of-type {\n",
       "        vertical-align: middle;\n",
       "    }\n",
       "\n",
       "    .dataframe tbody tr th {\n",
       "        vertical-align: top;\n",
       "    }\n",
       "\n",
       "    .dataframe thead th {\n",
       "        text-align: right;\n",
       "    }\n",
       "</style>\n",
       "<table border=\"1\" class=\"dataframe\">\n",
       "  <thead>\n",
       "    <tr style=\"text-align: right;\">\n",
       "      <th></th>\n",
       "      <th>geometry</th>\n",
       "      <th>date</th>\n",
       "    </tr>\n",
       "  </thead>\n",
       "  <tbody>\n",
       "    <tr>\n",
       "      <th>0</th>\n",
       "      <td>MULTIPOLYGON (((-120.81088 35.24746, -120.8783...</td>\n",
       "      <td>2018-09-13T00:00:00Z</td>\n",
       "    </tr>\n",
       "    <tr>\n",
       "      <th>0</th>\n",
       "      <td>MULTIPOLYGON (((-120.81088 35.24746, -120.8783...</td>\n",
       "      <td>2018-09-13T00:00:00Z</td>\n",
       "    </tr>\n",
       "  </tbody>\n",
       "</table>\n",
       "</div>"
      ],
      "text/plain": [
       "                                            geometry                  date\n",
       "0  MULTIPOLYGON (((-120.81088 35.24746, -120.8783...  2018-09-13T00:00:00Z\n",
       "0  MULTIPOLYGON (((-120.81088 35.24746, -120.8783...  2018-09-13T00:00:00Z"
      ]
     },
     "execution_count": 17,
     "metadata": {},
     "output_type": "execute_result"
    }
   ],
   "source": [
    "trial.append(trial)"
   ]
  },
  {
   "cell_type": "code",
   "execution_count": null,
   "id": "c60810ba-6973-4da7-bd5f-c8d852bd1ab2",
   "metadata": {},
   "outputs": [],
   "source": []
  }
 ],
 "metadata": {
  "kernelspec": {
   "display_name": "Python 3 (ipykernel)",
   "language": "python",
   "name": "python3"
  },
  "language_info": {
   "codemirror_mode": {
    "name": "ipython",
    "version": 3
   },
   "file_extension": ".py",
   "mimetype": "text/x-python",
   "name": "python",
   "nbconvert_exporter": "python",
   "pygments_lexer": "ipython3",
   "version": "3.8.12"
  }
 },
 "nbformat": 4,
 "nbformat_minor": 5
}
