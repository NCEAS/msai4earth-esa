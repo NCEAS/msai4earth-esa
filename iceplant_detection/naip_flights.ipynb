{
 "cells": [
  {
   "cell_type": "code",
   "execution_count": 41,
   "id": "e2610b8d-52ef-485e-9417-c84f8e582b46",
   "metadata": {},
   "outputs": [],
   "source": [
    "import pystac_client\n",
    "import planetary_computer as pc\n",
    "\n",
    "#import matplotlib.pyplot as plt\n",
    "import geopandas as gpd\n",
    "import pandas as pd\n",
    "from shapely.geometry import box\n",
    "from shapely.geometry import Polygon\n",
    "import os"
   ]
  },
  {
   "cell_type": "code",
   "execution_count": 6,
   "id": "5147b4d6-99b2-4409-a341-4f17d49e18d3",
   "metadata": {},
   "outputs": [],
   "source": [
    "def query_line(line, year):\n",
    "\n",
    "    date_range = str(year)+'-01-01/'+str(year)+'-12-31'\n",
    "\n",
    "    catalog = pystac_client.Client.open(\n",
    "        \"https://planetarycomputer.microsoft.com/api/stac/v1\")\n",
    "\n",
    "    search = catalog.search(\n",
    "        collections=[\"naip\"], \n",
    "        intersects=line, \n",
    "        datetime=date_range)\n",
    "    \n",
    "    items =list(search.get_items()) \n",
    "    if len(items)==0:\n",
    "        return None\n",
    "    return items"
   ]
  },
  {
   "cell_type": "code",
   "execution_count": 3,
   "id": "09500b57-38be-42ce-bb0e-9580f3854b18",
   "metadata": {},
   "outputs": [
    {
     "data": {
      "text/plain": [
       "'/home/jovyan/msai4earth-esa/iceplant_detection'"
      ]
     },
     "execution_count": 3,
     "metadata": {},
     "output_type": "execute_result"
    }
   ],
   "source": [
    "fp = os.path.join(os.getcwd(),'aux_data','campuspoint2018polys/campuspoint2018polys.shp')\n",
    "polys = gpd.read_file(fp)\n",
    "polys.head()"
   ]
  },
  {
   "cell_type": "code",
   "execution_count": 5,
   "id": "dc1690ae-5950-4493-85af-d0228519c32b",
   "metadata": {},
   "outputs": [
    {
     "data": {
      "text/html": [
       "<div>\n",
       "<style scoped>\n",
       "    .dataframe tbody tr th:only-of-type {\n",
       "        vertical-align: middle;\n",
       "    }\n",
       "\n",
       "    .dataframe tbody tr th {\n",
       "        vertical-align: top;\n",
       "    }\n",
       "\n",
       "    .dataframe thead th {\n",
       "        text-align: right;\n",
       "    }\n",
       "</style>\n",
       "<table border=\"1\" class=\"dataframe\">\n",
       "  <thead>\n",
       "    <tr style=\"text-align: right;\">\n",
       "      <th></th>\n",
       "      <th>id</th>\n",
       "      <th>geometry</th>\n",
       "    </tr>\n",
       "  </thead>\n",
       "  <tbody>\n",
       "    <tr>\n",
       "      <th>0</th>\n",
       "      <td>0</td>\n",
       "      <td>LINESTRING (-118.51632 34.07155, -118.80054 34...</td>\n",
       "    </tr>\n",
       "  </tbody>\n",
       "</table>\n",
       "</div>"
      ],
      "text/plain": [
       "   id                                           geometry\n",
       "0   0  LINESTRING (-118.51632 34.07155, -118.80054 34..."
      ]
     },
     "execution_count": 5,
     "metadata": {},
     "output_type": "execute_result"
    }
   ],
   "source": [
    "fp = os.path.join(os.getcwd(),'sb_county_coast','sb_county_coast.shp')\n",
    "coast = gpd.read_file(fp)\n",
    "coast"
   ]
  },
  {
   "cell_type": "code",
   "execution_count": 11,
   "id": "410de0a5-56c5-4f7c-a5bf-1a116bdf01d3",
   "metadata": {},
   "outputs": [],
   "source": [
    "coast_scenes = query_line(coast.geometry[0],2018)"
   ]
  },
  {
   "cell_type": "code",
   "execution_count": 30,
   "id": "7f0c3c57-5cef-45c4-b91b-e5924395b718",
   "metadata": {},
   "outputs": [],
   "source": [
    "def make_bbox(item):\n",
    "    c = item.properties['proj:bbox']\n",
    "    return box(c[0],c[1],c[2],c[3])"
   ]
  },
  {
   "cell_type": "code",
   "execution_count": 21,
   "id": "48395064-0387-450c-9150-3d2338277c54",
   "metadata": {},
   "outputs": [],
   "source": [
    "df = pd.DataFrame(coast_scenes, columns = ['item'])\n"
   ]
  },
  {
   "cell_type": "code",
   "execution_count": 35,
   "id": "63529a1a-4069-46b0-b432-8ffa5a4c52a1",
   "metadata": {},
   "outputs": [
    {
     "data": {
      "text/html": [
       "<div>\n",
       "<style scoped>\n",
       "    .dataframe tbody tr th:only-of-type {\n",
       "        vertical-align: middle;\n",
       "    }\n",
       "\n",
       "    .dataframe tbody tr th {\n",
       "        vertical-align: top;\n",
       "    }\n",
       "\n",
       "    .dataframe thead th {\n",
       "        text-align: right;\n",
       "    }\n",
       "</style>\n",
       "<table border=\"1\" class=\"dataframe\">\n",
       "  <thead>\n",
       "    <tr style=\"text-align: right;\">\n",
       "      <th></th>\n",
       "      <th>item</th>\n",
       "      <th>date</th>\n",
       "      <th>crs</th>\n",
       "      <th>bbox</th>\n",
       "    </tr>\n",
       "  </thead>\n",
       "  <tbody>\n",
       "    <tr>\n",
       "      <th>0</th>\n",
       "      <td>&lt;Item id=ca_m_3512060_sw_10_060_20180913_20190...</td>\n",
       "      <td>2018-09-13T00:00:00Z</td>\n",
       "      <td>26910</td>\n",
       "      <td>POLYGON ((722604 3875466, 722604 3882846, 7164...</td>\n",
       "    </tr>\n",
       "    <tr>\n",
       "      <th>1</th>\n",
       "      <td>&lt;Item id=ca_m_3512060_nw_10_060_20180913_20190...</td>\n",
       "      <td>2018-09-13T00:00:00Z</td>\n",
       "      <td>26910</td>\n",
       "      <td>POLYGON ((722430 3882402, 722430 3889776, 7162...</td>\n",
       "    </tr>\n",
       "    <tr>\n",
       "      <th>2</th>\n",
       "      <td>&lt;Item id=ca_m_3512052_sw_10_060_20180913_20190...</td>\n",
       "      <td>2018-09-13T00:00:00Z</td>\n",
       "      <td>26910</td>\n",
       "      <td>POLYGON ((722262 3889332, 722262 3896712, 7160...</td>\n",
       "    </tr>\n",
       "    <tr>\n",
       "      <th>3</th>\n",
       "      <td>&lt;Item id=ca_m_3512052_nw_10_060_20180913_20190...</td>\n",
       "      <td>2018-09-13T00:00:00Z</td>\n",
       "      <td>26910</td>\n",
       "      <td>POLYGON ((722094 3896268, 722094 3903642, 7159...</td>\n",
       "    </tr>\n",
       "  </tbody>\n",
       "</table>\n",
       "</div>"
      ],
      "text/plain": [
       "                                                item                  date  \\\n",
       "0  <Item id=ca_m_3512060_sw_10_060_20180913_20190...  2018-09-13T00:00:00Z   \n",
       "1  <Item id=ca_m_3512060_nw_10_060_20180913_20190...  2018-09-13T00:00:00Z   \n",
       "2  <Item id=ca_m_3512052_sw_10_060_20180913_20190...  2018-09-13T00:00:00Z   \n",
       "3  <Item id=ca_m_3512052_nw_10_060_20180913_20190...  2018-09-13T00:00:00Z   \n",
       "\n",
       "     crs                                               bbox  \n",
       "0  26910  POLYGON ((722604 3875466, 722604 3882846, 7164...  \n",
       "1  26910  POLYGON ((722430 3882402, 722430 3889776, 7162...  \n",
       "2  26910  POLYGON ((722262 3889332, 722262 3896712, 7160...  \n",
       "3  26910  POLYGON ((722094 3896268, 722094 3903642, 7159...  "
      ]
     },
     "execution_count": 35,
     "metadata": {},
     "output_type": "execute_result"
    }
   ],
   "source": [
    "df['date']=df.item.apply(lambda item : item.properties['datetime'])\n",
    "df['crs']=df.item.apply(lambda item : item.properties['proj:epsg'])\n",
    "df['bbox']=df.item.apply(make_bbox)\n",
    "df.head(4)"
   ]
  },
  {
   "cell_type": "code",
   "execution_count": 36,
   "id": "cce00a32-2cce-482b-b7c9-b3cf665c05cc",
   "metadata": {},
   "outputs": [
    {
     "data": {
      "text/plain": [
       "array(['2018-09-13T00:00:00Z', '2018-07-24T00:00:00Z',\n",
       "       '2018-07-22T00:00:00Z', '2018-07-15T00:00:00Z'], dtype=object)"
      ]
     },
     "execution_count": 36,
     "metadata": {},
     "output_type": "execute_result"
    }
   ],
   "source": [
    "dates = df.date.unique()\n",
    "dates"
   ]
  },
  {
   "cell_type": "code",
   "execution_count": 51,
   "id": "57c7dcb9-903b-4d05-a241-70e989032b1d",
   "metadata": {},
   "outputs": [
    {
     "data": {
      "image/svg+xml": [
       "<svg xmlns=\"http://www.w3.org/2000/svg\" xmlns:xlink=\"http://www.w3.org/1999/xlink\" width=\"300\" height=\"300\" viewBox=\"689146.32 3809464.32 50337.3600000001 104859.36000000034\" preserveAspectRatio=\"xMinYMin meet\"><g transform=\"matrix(1,0,0,-1,0,7723788.0)\"><g><path fill-rule=\"evenodd\" fill=\"#66cc99\" stroke=\"#555555\" stroke-width=\"699.0624000000022\" opacity=\"0.6\" d=\"M 699174.0,3902682.0 L 693030.0,3902682.0 L 693030.0,3910050.0 L 698712.0,3910050.0 L 698712.0,3910176.0 L 704400.0,3910176.0 L 704400.0,3910308.0 L 710082.0,3910308.0 L 710082.0,3910440.0 L 716238.0,3910440.0 L 716238.0,3903642.0 L 722094.0,3903642.0 L 722094.0,3896712.0 L 722262.0,3896712.0 L 722262.0,3889776.0 L 722430.0,3889776.0 L 722430.0,3882846.0 L 722604.0,3882846.0 L 722604.0,3875910.0 L 722772.0,3875910.0 L 722772.0,3868980.0 L 722940.0,3868980.0 L 722940.0,3861600.0 L 716754.0,3861600.0 L 716754.0,3868536.0 L 716592.0,3868536.0 L 716592.0,3875466.0 L 716424.0,3875466.0 L 716424.0,3882402.0 L 716262.0,3882402.0 L 716262.0,3889332.0 L 716094.0,3889332.0 L 716094.0,3896130.0 L 710712.0,3896130.0 L 710712.0,3896004.0 L 704556.0,3896004.0 L 704556.0,3902808.0 L 699174.0,3902808.0 L 699174.0,3902682.0 z\" /><path fill-rule=\"evenodd\" fill=\"#66cc99\" stroke=\"#555555\" stroke-width=\"699.0624000000022\" opacity=\"0.6\" d=\"M 723306.0,3827076.0 L 723306.0,3834006.0 L 723138.0,3834006.0 L 723138.0,3840942.0 L 722970.0,3840942.0 L 722970.0,3848322.0 L 729174.0,3848322.0 L 729174.0,3841386.0 L 729342.0,3841386.0 L 729342.0,3834600.0 L 735252.0,3834600.0 L 735252.0,3827664.0 L 735426.0,3827664.0 L 735426.0,3820734.0 L 735600.0,3820734.0 L 735600.0,3813348.0 L 729384.0,3813348.0 L 729384.0,3820284.0 L 729210.0,3820284.0 L 729210.0,3827076.0 L 723306.0,3827076.0 z\" /></g></g></svg>"
      ],
      "text/plain": [
       "<shapely.geometry.multipolygon.MultiPolygon at 0x7fbbeea256a0>"
      ]
     },
     "execution_count": 51,
     "metadata": {},
     "output_type": "execute_result"
    }
   ],
   "source": [
    "i=0\n",
    "flight = df[df['date']==dates[i]]\n",
    "area = Polygon()\n",
    "for box in flight.bbox:\n",
    "    area = area.union(box)\n",
    "area"
   ]
  },
  {
   "cell_type": "code",
   "execution_count": 56,
   "id": "3b2962dc-13de-4858-89a5-fd3d0d3c3a4b",
   "metadata": {},
   "outputs": [
    {
     "data": {
      "text/plain": [
       "shapely.geometry.multipolygon.MultiPolygon"
      ]
     },
     "execution_count": 56,
     "metadata": {},
     "output_type": "execute_result"
    }
   ],
   "source": [
    "type(area)"
   ]
  },
  {
   "cell_type": "code",
   "execution_count": 59,
   "id": "1227538c-daa5-440f-b9c9-b81912aeaff9",
   "metadata": {},
   "outputs": [],
   "source": [
    "d = {'geometry':[area],'date':dates[i]}\n",
    "gdf = gpd.GeoDataFrame(d, crs='EPSG:'+str(flight.crs[0]))\n",
    "flights = gdf.to_crs(\"EPSG:4326\")"
   ]
  },
  {
   "cell_type": "code",
   "execution_count": 61,
   "id": "dfcf298b-771c-47b0-abd0-0de79c91a82e",
   "metadata": {},
   "outputs": [
    {
     "data": {
      "text/plain": [
       "'/home/jovyan/msai4earth-esa/iceplant_detection'"
      ]
     },
     "execution_count": 61,
     "metadata": {},
     "output_type": "execute_result"
    }
   ],
   "source": [
    "os.getcwd()"
   ]
  },
  {
   "cell_type": "code",
   "execution_count": 62,
   "id": "ec33b7f9-c07a-45f0-b866-3b27e6f56581",
   "metadata": {},
   "outputs": [
    {
     "name": "stderr",
     "output_type": "stream",
     "text": [
      "/srv/conda/envs/notebook/lib/python3.8/site-packages/geopandas/io/file.py:362: FutureWarning: pandas.Int64Index is deprecated and will be removed from pandas in a future version. Use pandas.Index with the appropriate dtype instead.\n",
      "  pd.Int64Index,\n"
     ]
    }
   ],
   "source": [
    "flights.to_file(os.path.join(os.getcwd(),'training_set','aux_data'))"
   ]
  },
  {
   "cell_type": "code",
   "execution_count": 63,
   "id": "d305e2a7-b58e-4527-915a-3c3ffaf5dde3",
   "metadata": {},
   "outputs": [
    {
     "data": {
      "text/plain": [
       "'/home/jovyan/msai4earth-esa/iceplant_detection/training_set/aux_data'"
      ]
     },
     "execution_count": 63,
     "metadata": {},
     "output_type": "execute_result"
    }
   ],
   "source": [
    "os.path.join(os.getcwd(),'training_set','aux_data')"
   ]
  },
  {
   "cell_type": "code",
   "execution_count": null,
   "id": "19cb0bc7-f50f-42be-aa57-9c5a8e052674",
   "metadata": {},
   "outputs": [],
   "source": []
  }
 ],
 "metadata": {
  "kernelspec": {
   "display_name": "Python 3 (ipykernel)",
   "language": "python",
   "name": "python3"
  },
  "language_info": {
   "codemirror_mode": {
    "name": "ipython",
    "version": 3
   },
   "file_extension": ".py",
   "mimetype": "text/x-python",
   "name": "python",
   "nbconvert_exporter": "python",
   "pygments_lexer": "ipython3",
   "version": "3.8.12"
  }
 },
 "nbformat": 4,
 "nbformat_minor": 5
}
