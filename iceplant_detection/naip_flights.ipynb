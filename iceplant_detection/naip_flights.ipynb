{
 "cells": [
  {
   "cell_type": "code",
   "execution_count": 1,
   "id": "e2610b8d-52ef-485e-9417-c84f8e582b46",
   "metadata": {},
   "outputs": [],
   "source": [
    "import pystac_client\n",
    "import planetary_computer as pc\n",
    "\n",
    "#import matplotlib.pyplot as plt\n",
    "import geopandas as gpd\n",
    "import pandas as pd\n",
    "import shapely\n",
    "import os\n",
    "from shapely.geometry import box\n"
   ]
  },
  {
   "cell_type": "code",
   "execution_count": 2,
   "id": "5147b4d6-99b2-4409-a341-4f17d49e18d3",
   "metadata": {},
   "outputs": [],
   "source": [
    "def query_line(line, year):\n",
    "\n",
    "    date_range = str(year)+'-01-01/'+str(year)+'-12-31'\n",
    "\n",
    "    catalog = pystac_client.Client.open(\n",
    "        \"https://planetarycomputer.microsoft.com/api/stac/v1\")\n",
    "\n",
    "    search = catalog.search(\n",
    "        collections=[\"naip\"], \n",
    "        intersects=line, \n",
    "        datetime=date_range)\n",
    "    \n",
    "    items =list(search.get_items()) \n",
    "    if len(items)==0:\n",
    "        return None\n",
    "    return items"
   ]
  },
  {
   "cell_type": "code",
   "execution_count": 3,
   "id": "dc1690ae-5950-4493-85af-d0228519c32b",
   "metadata": {},
   "outputs": [
    {
     "data": {
      "text/html": [
       "<div>\n",
       "<style scoped>\n",
       "    .dataframe tbody tr th:only-of-type {\n",
       "        vertical-align: middle;\n",
       "    }\n",
       "\n",
       "    .dataframe tbody tr th {\n",
       "        vertical-align: top;\n",
       "    }\n",
       "\n",
       "    .dataframe thead th {\n",
       "        text-align: right;\n",
       "    }\n",
       "</style>\n",
       "<table border=\"1\" class=\"dataframe\">\n",
       "  <thead>\n",
       "    <tr style=\"text-align: right;\">\n",
       "      <th></th>\n",
       "      <th>id</th>\n",
       "      <th>geometry</th>\n",
       "    </tr>\n",
       "  </thead>\n",
       "  <tbody>\n",
       "    <tr>\n",
       "      <th>0</th>\n",
       "      <td>0</td>\n",
       "      <td>LINESTRING (-118.51632 34.07155, -118.80054 34...</td>\n",
       "    </tr>\n",
       "  </tbody>\n",
       "</table>\n",
       "</div>"
      ],
      "text/plain": [
       "   id                                           geometry\n",
       "0   0  LINESTRING (-118.51632 34.07155, -118.80054 34..."
      ]
     },
     "execution_count": 3,
     "metadata": {},
     "output_type": "execute_result"
    }
   ],
   "source": [
    "fp = os.path.join(os.getcwd(),'sb_county_coast','sb_county_coast.shp')\n",
    "coast = gpd.read_file(fp)\n",
    "coast"
   ]
  },
  {
   "cell_type": "code",
   "execution_count": 4,
   "id": "410de0a5-56c5-4f7c-a5bf-1a116bdf01d3",
   "metadata": {},
   "outputs": [],
   "source": [
    "coast_scenes = query_line(coast.geometry[0],2018)"
   ]
  },
  {
   "cell_type": "code",
   "execution_count": 5,
   "id": "7f0c3c57-5cef-45c4-b91b-e5924395b718",
   "metadata": {},
   "outputs": [],
   "source": [
    "def make_bbox(item):\n",
    "    c = item.properties['proj:bbox']\n",
    "    return box(c[0],c[1],c[2],c[3])"
   ]
  },
  {
   "cell_type": "code",
   "execution_count": 15,
   "id": "63529a1a-4069-46b0-b432-8ffa5a4c52a1",
   "metadata": {},
   "outputs": [
    {
     "data": {
      "text/html": [
       "<div>\n",
       "<style scoped>\n",
       "    .dataframe tbody tr th:only-of-type {\n",
       "        vertical-align: middle;\n",
       "    }\n",
       "\n",
       "    .dataframe tbody tr th {\n",
       "        vertical-align: top;\n",
       "    }\n",
       "\n",
       "    .dataframe thead th {\n",
       "        text-align: right;\n",
       "    }\n",
       "</style>\n",
       "<table border=\"1\" class=\"dataframe\">\n",
       "  <thead>\n",
       "    <tr style=\"text-align: right;\">\n",
       "      <th></th>\n",
       "      <th>item</th>\n",
       "      <th>date</th>\n",
       "      <th>crs</th>\n",
       "      <th>bbox</th>\n",
       "    </tr>\n",
       "  </thead>\n",
       "  <tbody>\n",
       "    <tr>\n",
       "      <th>0</th>\n",
       "      <td>&lt;Item id=ca_m_3512060_sw_10_060_20180913_20190...</td>\n",
       "      <td>2018-09-13T00:00:00Z</td>\n",
       "      <td>26910</td>\n",
       "      <td>POLYGON ((722604 3875466, 722604 3882846, 7164...</td>\n",
       "    </tr>\n",
       "    <tr>\n",
       "      <th>1</th>\n",
       "      <td>&lt;Item id=ca_m_3512060_nw_10_060_20180913_20190...</td>\n",
       "      <td>2018-09-13T00:00:00Z</td>\n",
       "      <td>26910</td>\n",
       "      <td>POLYGON ((722430 3882402, 722430 3889776, 7162...</td>\n",
       "    </tr>\n",
       "    <tr>\n",
       "      <th>2</th>\n",
       "      <td>&lt;Item id=ca_m_3512052_sw_10_060_20180913_20190...</td>\n",
       "      <td>2018-09-13T00:00:00Z</td>\n",
       "      <td>26910</td>\n",
       "      <td>POLYGON ((722262 3889332, 722262 3896712, 7160...</td>\n",
       "    </tr>\n",
       "    <tr>\n",
       "      <th>3</th>\n",
       "      <td>&lt;Item id=ca_m_3512052_nw_10_060_20180913_20190...</td>\n",
       "      <td>2018-09-13T00:00:00Z</td>\n",
       "      <td>26910</td>\n",
       "      <td>POLYGON ((722094 3896268, 722094 3903642, 7159...</td>\n",
       "    </tr>\n",
       "  </tbody>\n",
       "</table>\n",
       "</div>"
      ],
      "text/plain": [
       "                                                item                  date  \\\n",
       "0  <Item id=ca_m_3512060_sw_10_060_20180913_20190...  2018-09-13T00:00:00Z   \n",
       "1  <Item id=ca_m_3512060_nw_10_060_20180913_20190...  2018-09-13T00:00:00Z   \n",
       "2  <Item id=ca_m_3512052_sw_10_060_20180913_20190...  2018-09-13T00:00:00Z   \n",
       "3  <Item id=ca_m_3512052_nw_10_060_20180913_20190...  2018-09-13T00:00:00Z   \n",
       "\n",
       "     crs                                               bbox  \n",
       "0  26910  POLYGON ((722604 3875466, 722604 3882846, 7164...  \n",
       "1  26910  POLYGON ((722430 3882402, 722430 3889776, 7162...  \n",
       "2  26910  POLYGON ((722262 3889332, 722262 3896712, 7160...  \n",
       "3  26910  POLYGON ((722094 3896268, 722094 3903642, 7159...  "
      ]
     },
     "execution_count": 15,
     "metadata": {},
     "output_type": "execute_result"
    }
   ],
   "source": [
    "# make dataframe with collected scenes and relevant info\n",
    "df = pd.DataFrame(coast_scenes, columns = ['item'])\n",
    "df['date']=df.item.apply(lambda item : item.properties['datetime'])\n",
    "df['crs']=df.item.apply(lambda item : item.properties['proj:epsg'])\n",
    "df['bbox']=df.item.apply(make_bbox)\n",
    "df.head(4)"
   ]
  },
  {
   "cell_type": "code",
   "execution_count": 11,
   "id": "98c6befa-0917-473d-87d3-fc1a42d3f8a2",
   "metadata": {},
   "outputs": [],
   "source": [
    "def group_flight(df,date):\n",
    "    same_date = df[df['date']==date]\n",
    "    \n",
    "    crs_list = same_date.crs.unique()\n",
    "    polygons = []\n",
    "    for crs in crs_list:\n",
    "        same_crs = same_date[same_date['crs']==crs]\n",
    "        area = shapely.ops.unary_union(same_crs.bbox)\n",
    "        gdf = gpd.GeoDataFrame({'geometry':[area]}, \n",
    "                               crs='EPSG:'+str(crs))\n",
    "        gdf.to_crs('EPSG:4326',inplace=True)\n",
    "        polygons.append(gdf.geometry[0])\n",
    "\n",
    "        flight = shapely.ops.unary_union(polygons)\n",
    "\n",
    "    return flight"
   ]
  },
  {
   "cell_type": "code",
   "execution_count": 12,
   "id": "ec702017-15de-4c76-8109-0796e9e2e568",
   "metadata": {},
   "outputs": [],
   "source": [
    "def flight_paths(df):\n",
    "    dates = df.date.unique()\n",
    "    flights = []\n",
    "    for date in dates:\n",
    "        flights.append(group_flight(df,date))\n",
    "    gdf = gpd.GeoDataFrame({'date':dates, 'geometry':flights},\n",
    "                     crs = 'EPSG:4326')\n",
    "    return gdf"
   ]
  },
  {
   "cell_type": "code",
   "execution_count": 14,
   "id": "b1a6b07b-c288-4e84-9709-27c4571faa74",
   "metadata": {},
   "outputs": [],
   "source": [
    "flights = flight_paths(df)"
   ]
  },
  {
   "cell_type": "code",
   "execution_count": 16,
   "id": "ec33b7f9-c07a-45f0-b866-3b27e6f56581",
   "metadata": {},
   "outputs": [
    {
     "name": "stderr",
     "output_type": "stream",
     "text": [
      "/srv/conda/envs/notebook/lib/python3.8/site-packages/geopandas/io/file.py:362: FutureWarning: pandas.Int64Index is deprecated and will be removed from pandas in a future version. Use pandas.Index with the appropriate dtype instead.\n",
      "  pd.Int64Index,\n"
     ]
    }
   ],
   "source": [
    "flights.to_file(os.path.join(os.getcwd(),'training_set','aux_data','flights.shp'))"
   ]
  },
  {
   "cell_type": "code",
   "execution_count": null,
   "id": "c60810ba-6973-4da7-bd5f-c8d852bd1ab2",
   "metadata": {},
   "outputs": [],
   "source": []
  }
 ],
 "metadata": {
  "kernelspec": {
   "display_name": "Python 3 (ipykernel)",
   "language": "python",
   "name": "python3"
  },
  "language_info": {
   "codemirror_mode": {
    "name": "ipython",
    "version": 3
   },
   "file_extension": ".py",
   "mimetype": "text/x-python",
   "name": "python",
   "nbconvert_exporter": "python",
   "pygments_lexer": "ipython3",
   "version": "3.8.12"
  }
 },
 "nbformat": 4,
 "nbformat_minor": 5
}
