{
 "cells": [
  {
   "cell_type": "code",
   "execution_count": 1,
   "id": "ac271b88-9130-4bc6-afcb-5792001adc4b",
   "metadata": {},
   "outputs": [],
   "source": [
    "import os\n",
    "import time\n",
    "import pandas as pd\n",
    "import numpy as np\n",
    "\n",
    "import rasterio\n",
    "\n",
    "import dask_gateway\n",
    "import dask.array as da\n",
    "\n",
    "from joblib import load\n",
    "\n",
    "import raster_to_features as rm\n",
    "import geopandas as gpd\n",
    "from shapely.geometry import mapping"
   ]
  },
  {
   "cell_type": "code",
   "execution_count": 16,
   "id": "58d7ee0f-b0f8-402d-bdc0-5aeb72e9a411",
   "metadata": {},
   "outputs": [],
   "source": [
    "fp = os.path.join(os.getcwd(),'temp','coastal_buffer','coastal_buffer.shp')\n",
    "coast= gpd.read_file(fp)\n",
    "coast_geo = coast.geometry.apply(mapping)"
   ]
  },
  {
   "cell_type": "code",
   "execution_count": 3,
   "id": "d51c3dd2-5c69-461b-a1be-29d928e1bf85",
   "metadata": {},
   "outputs": [
    {
     "name": "stdout",
     "output_type": "stream",
     "text": [
      "loaded model\n"
     ]
    }
   ],
   "source": [
    "# open pre-trained random forest classifier\n",
    "rfc = load('spectral_rfc.joblib') \n",
    "print('loaded model')"
   ]
  },
  {
   "cell_type": "code",
   "execution_count": 4,
   "id": "6adc4a12-af14-4e41-9b93-21cf1e153bed",
   "metadata": {
    "tags": []
   },
   "outputs": [
    {
     "data": {
      "text/html": [
       "<div>\n",
       "    <div style=\"width: 24px; height: 24px; background-color: #e1e1e1; border: 3px solid #9D9D9D; border-radius: 5px; position: absolute;\"> </div>\n",
       "    <div style=\"margin-left: 48px;\">\n",
       "        <h3 style=\"margin-bottom: 0px;\">Client</h3>\n",
       "        <p style=\"color: #9D9D9D; margin-bottom: 0px;\">Client-e3fd98fd-4b2d-11ed-8537-b6de1f767fb9</p>\n",
       "        <table style=\"width: 100%; text-align: left;\">\n",
       "\n",
       "        <tr>\n",
       "        \n",
       "            <td style=\"text-align: left;\"><strong>Connection method:</strong> Cluster object</td>\n",
       "            <td style=\"text-align: left;\"><strong>Cluster type:</strong> dask_gateway.GatewayCluster</td>\n",
       "        \n",
       "        </tr>\n",
       "\n",
       "        \n",
       "            <tr>\n",
       "                <td style=\"text-align: left;\">\n",
       "                    <strong>Dashboard: </strong> <a href=\"https://pccompute.westeurope.cloudapp.azure.com/compute/services/dask-gateway/clusters/prod.52f022b3f3b949e6a4dcd307f6318482/status\" target=\"_blank\">https://pccompute.westeurope.cloudapp.azure.com/compute/services/dask-gateway/clusters/prod.52f022b3f3b949e6a4dcd307f6318482/status</a>\n",
       "                </td>\n",
       "                <td style=\"text-align: left;\"></td>\n",
       "            </tr>\n",
       "        \n",
       "\n",
       "        </table>\n",
       "\n",
       "        \n",
       "            <details>\n",
       "            <summary style=\"margin-bottom: 20px;\"><h3 style=\"display: inline;\">Cluster Info</h3></summary>\n",
       "            <div style='background-color: #f2f2f2; display: inline-block; padding: 10px; border: 1px solid #999999;'>\n",
       "  <h3>GatewayCluster</h3>\n",
       "  <ul>\n",
       "    <li><b>Name: </b>prod.52f022b3f3b949e6a4dcd307f6318482\n",
       "    <li><b>Dashboard: </b><a href='https://pccompute.westeurope.cloudapp.azure.com/compute/services/dask-gateway/clusters/prod.52f022b3f3b949e6a4dcd307f6318482/status' target='_blank'>https://pccompute.westeurope.cloudapp.azure.com/compute/services/dask-gateway/clusters/prod.52f022b3f3b949e6a4dcd307f6318482/status</a>\n",
       "  </ul>\n",
       "</div>\n",
       "\n",
       "            </details>\n",
       "        \n",
       "\n",
       "    </div>\n",
       "</div>"
      ],
      "text/plain": [
       "<Client: 'tls://10.244.58.17:8786' processes=0 threads=0, memory=0 B>"
      ]
     },
     "execution_count": 4,
     "metadata": {},
     "output_type": "execute_result"
    }
   ],
   "source": [
    "# initialize DASK cluster\n",
    "cluster = dask_gateway.GatewayCluster()\n",
    "cluster.scale(30)\n",
    "\n",
    "client = cluster.get_client()\n",
    "client"
   ]
  },
  {
   "cell_type": "code",
   "execution_count": null,
   "id": "06533bd1-9f89-43f8-862d-e677c27fdd64",
   "metadata": {},
   "outputs": [],
   "source": [
    "scene_ids = pd.read_csv(os.path.join(os.getcwd(),'temp','coastal_scenes_ids_2020.csv'))#.itemid.loc[3:6]\n",
    "#scene_ids"
   ]
  },
  {
   "cell_type": "code",
   "execution_count": 18,
   "id": "256c988c-719c-45b0-8c08-67436b9675f6",
   "metadata": {},
   "outputs": [
    {
     "name": "stdout",
     "output_type": "stream",
     "text": [
      "clipped raster 13.71746039390564  s\n",
      "selected non-zero pixels\n",
      "assembled pixels dataframe with features\n",
      "   time taken to assemble:  1.7547335624694824  s\n",
      "finished predicting\n",
      "   time taken to predict:  34.66143727302551  s\n",
      "reconstructed image\n",
      "   time taken to reconstruct:  0.472933292388916  s\n",
      "total tme: 52.35206937789917\n",
      "FINISHED:  ca_m_3411937_sw_11_060_20200521 \n",
      "\n"
     ]
    }
   ],
   "source": [
    "for itemid in scene_ids:\n",
    "\n",
    "# ---------------------------------------\n",
    "# open NAIP scene and clip to coast\n",
    "    t_alpha = time.time()\n",
    "\n",
    "    t0 = time.time()\n",
    "    \n",
    "    # TO DO:: handle NoDataInBounds exception\n",
    "    raster = rm.rioxr_from_itemid(itemid).rio.clip(coast_geo,coast.crs)\n",
    "    print('clipped raster', time.time() - t0,' s')\n",
    "\n",
    "    df = rm.raster_as_df(raster.to_numpy(), ['r','g','b','nir'])\n",
    "    df = df.loc[ (df['nir'] != 0) | (df['r'] != 0) | (df['g'] != 0) | (df['b'] != 0)]\n",
    "    print('selected non-zero pixels')\n",
    "\n",
    "    if df.shape[0] == 0:\n",
    "        print('no data at intersection of scene with coastal buffer')\n",
    "        print('FINISHED: ', itemid , '\\n')\n",
    "\n",
    "    else:\n",
    "        # find vegetation pixels to go into model\n",
    "        # keep ndices of water and low-ndvi pixels\n",
    "        # adds ndvi and ndwi features for each pixel\n",
    "        t0 = time.time()\n",
    "        is_veg, water_index, not_veg_index = rm.add_spectral_features(df, \n",
    "                                                                      ndwi_thresh = 0.3, \n",
    "                                                                      ndvi_thresh = 0.05) \n",
    "        if is_veg.shape[0]==0:\n",
    "            print('no vegetation pixels at intersection of scene data with coastal buffer')\n",
    "            print('FINISHED: ', itemid , '\\n')\n",
    "            \n",
    "        else:\n",
    "            # select features\n",
    "            is_veg.drop('ndwi', axis=1, inplace=True)\n",
    "            is_veg = rm.add_date_features(is_veg, rm.rioxr_from_itemid(itemid).datetime)\n",
    "            print('assembled pixels dataframe with features\\n   time taken to assemble: ', time.time() - t0,' s')\n",
    "\n",
    "            # ---------------------------------------\n",
    "            # convert into dask.array and predict using model\n",
    "            da_pixels = da.from_array(np.array(is_veg), chunks=728802)\n",
    "\n",
    "            scene_preds = rfc.predict(da_pixels)    \n",
    "\n",
    "            t0 = time.time()\n",
    "            preds = scene_preds.compute()\n",
    "            print('finished predicting\\n   time taken to predict: ', time.time() - t0,' s')\n",
    "\n",
    "            # ---------------------------------------\n",
    "            # recover pixel indices for iceplant classifications\n",
    "            preds_df = pd.DataFrame(preds, \n",
    "                                 columns=['is_iceplant'], \n",
    "                                 index = is_veg.index)\n",
    "            is_iceplant_index = preds_df[preds_df.is_iceplant == 1].index.to_numpy()\n",
    "            non_iceplant_index = preds_df[preds_df.is_iceplant == 0].index.to_numpy()\n",
    "\n",
    "            # ---------------------------------------\n",
    "            # reconstruct indices into image\n",
    "            indices = [non_iceplant_index,\n",
    "                       is_iceplant_index, \n",
    "                       not_veg_index,\n",
    "                       water_index]\n",
    "            values = [0,    # values assigned to pixels from each index\n",
    "                      1,\n",
    "                      2,\n",
    "                      3]\n",
    "            t0 = time.time()\n",
    "            reconstruct = rm.indices_to_image(raster.shape[1], raster.shape[2], indices, values, back_value=100)\n",
    "            print('reconstructed image\\n   time taken to reconstruct: ', time.time() - t0,' s')\n",
    "\n",
    "            # ---------------------------------------\n",
    "            # save raster \n",
    "            filename = 'S_clip_preds_' + itemid +'.tif'\n",
    "\n",
    "            with rasterio.open(\n",
    "                os.path.join(os.getcwd(),'temp',filename),  # file path\n",
    "                'w',           # w = write\n",
    "                driver = 'GTiff', # format\n",
    "                height = reconstruct.shape[0], \n",
    "                width = reconstruct.shape[1],\n",
    "                count = 1,  # number of raster bands in the dataset\n",
    "                dtype = rasterio.uint8,\n",
    "                crs = raster.rio.crs,\n",
    "                transform = raster.rio.transform(),\n",
    "            ) as dst:\n",
    "                dst.write(reconstruct.astype(rasterio.uint8), 1)\n",
    "            # ---------------------------------------\n",
    "            print('total tme:', time.time() - t_alpha)\n",
    "            print('FINISHED: ', itemid , '\\n')"
   ]
  },
  {
   "cell_type": "code",
   "execution_count": null,
   "id": "3cc6d9a7-9014-4575-8139-74bf5c05c80a",
   "metadata": {},
   "outputs": [],
   "source": []
  }
 ],
 "metadata": {
  "kernelspec": {
   "display_name": "Python 3 (ipykernel)",
   "language": "python",
   "name": "python3"
  },
  "language_info": {
   "codemirror_mode": {
    "name": "ipython",
    "version": 3
   },
   "file_extension": ".py",
   "mimetype": "text/x-python",
   "name": "python",
   "nbconvert_exporter": "python",
   "pygments_lexer": "ipython3",
   "version": "3.10.6"
  }
 },
 "nbformat": 4,
 "nbformat_minor": 5
}
