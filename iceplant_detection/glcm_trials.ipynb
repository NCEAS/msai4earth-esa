{
 "cells": [
  {
   "cell_type": "code",
   "execution_count": 1,
   "id": "bfa0d0fc-d758-4787-8c26-b1ad4acf14e6",
   "metadata": {},
   "outputs": [],
   "source": [
    "import os\n",
    "import gc\n",
    "import time\n",
    "import pandas as pd\n",
    "import numpy as np\n",
    "\n",
    "import geopandas as gpd\n",
    "import rioxarray as rioxr\n",
    "import rasterio\n",
    "\n",
    "import data_sampling_workflow.sample_rasters as sr\n",
    "from rasterio.crs import CRS\n",
    "\n",
    "import planetary_computer as pc\n",
    "\n",
    "from skimage.feature import graycomatrix, graycoprops\n",
    "import raster_to_features as rf"
   ]
  },
  {
   "cell_type": "code",
   "execution_count": 2,
   "id": "41e19c68-540a-4a79-a33e-af1501b4a911",
   "metadata": {},
   "outputs": [],
   "source": [
    "# ***************************************************\n",
    "# ************* NOTEBOOK VARIABLES ******************\n",
    "\n",
    "window_r = 1  #in pixels\n",
    "\n",
    "distances = [1]\n",
    "angles = [np.pi/2]\n",
    "props = ['contrast']#, 'correlation']\n",
    "\n",
    "# ***************************************************\n",
    "# ***************************************************"
   ]
  },
  {
   "cell_type": "code",
   "execution_count": 3,
   "id": "9753a780-3a1e-40eb-b847-b61fa7ac952a",
   "metadata": {},
   "outputs": [],
   "source": [
    "itemids = pd.read_csv(sr.path_to_aoi_itemids_csv())\n",
    "itemids = itemids[ (itemids.aoi_name == 'point_conception') & (itemids.year == 2020)]\n",
    "itemid = itemids.itemid[0]\n",
    "raster = rf.rioxr_from_itemid(itemid)"
   ]
  },
  {
   "cell_type": "code",
   "execution_count": 66,
   "id": "68a9ef10-d0e5-4b12-ac7c-39bd696fa96d",
   "metadata": {},
   "outputs": [
    {
     "name": "stdout",
     "output_type": "stream",
     "text": [
      "(array([73, 74, 76, 78, 79, 86]), array([74, 98, 78, 88, 86, 87]), array([0, 0, 0, 0, 0, 0]), array([0, 0, 0, 0, 0, 0])) \n",
      "\n",
      "(array([76, 78, 79, 86, 88, 89]), array([78, 88, 86, 87, 95, 88]), array([0, 0, 0, 0, 0, 0]), array([0, 0, 0, 0, 0, 0])) \n",
      "\n",
      "(array([ 79,  86,  88,  89,  94, 112]), array([ 86,  87,  95,  88, 108,  94]), array([0, 0, 0, 0, 0, 0]), array([0, 0, 0, 0, 0, 0])) \n",
      "\n",
      "(array([ 88,  89,  94, 101, 112, 120]), array([ 95,  88, 108, 112,  94, 101]), array([0, 0, 0, 0, 0, 0]), array([0, 0, 0, 0, 0, 0])) \n",
      "\n",
      "(array([74, 78, 86, 87, 88, 98]), array([ 98,  88,  87, 104,  99, 112]), array([0, 0, 0, 0, 0, 0]), array([0, 0, 0, 0, 0, 0])) \n",
      "\n",
      "(array([78, 86, 87, 88, 88, 95]), array([ 88,  87, 104,  95,  99, 109]), array([0, 0, 0, 0, 0, 0]), array([0, 0, 0, 0, 0, 0])) \n",
      "\n",
      "(array([ 86,  87,  88,  94,  95, 108]), array([ 87, 104,  95, 108, 109, 120]), array([0, 0, 0, 0, 0, 0]), array([0, 0, 0, 0, 0, 0])) \n",
      "\n",
      "(array([ 88,  94,  95, 101, 108, 112]), array([ 95, 108, 109, 112, 120, 119]), array([0, 0, 0, 0, 0, 0]), array([0, 0, 0, 0, 0, 0])) \n",
      "\n",
      "(array([ 87,  88,  98,  99, 104, 112]), array([104,  99, 112, 128, 134, 134]), array([0, 0, 0, 0, 0, 0]), array([0, 0, 0, 0, 0, 0])) \n",
      "\n",
      "(array([ 87,  88,  95,  99, 104, 109]), array([104,  99, 109, 128, 134, 136]), array([0, 0, 0, 0, 0, 0]), array([0, 0, 0, 0, 0, 0])) \n",
      "\n",
      "(array([ 87,  95, 104, 108, 109, 120]), array([104, 109, 134, 120, 136, 139]), array([0, 0, 0, 0, 0, 0]), array([0, 0, 0, 0, 0, 0])) \n",
      "\n",
      "(array([ 95, 108, 109, 112, 119, 120]), array([109, 120, 136, 119, 133, 139]), array([0, 0, 0, 0, 0, 0]), array([0, 0, 0, 0, 0, 0])) \n",
      "\n",
      "(array([ 99, 104, 112, 128, 134, 134]), array([128, 134, 134, 143, 140, 153]), array([0, 0, 0, 0, 0, 0]), array([0, 0, 0, 0, 0, 0])) \n",
      "\n",
      "(array([ 99, 104, 109, 128, 134, 136]), array([128, 134, 136, 143, 153, 154]), array([0, 0, 0, 0, 0, 0]), array([0, 0, 0, 0, 0, 0])) \n",
      "\n",
      "(array([104, 109, 120, 134, 136, 139]), array([134, 136, 139, 153, 154, 146]), array([0, 0, 0, 0, 0, 0]), array([0, 0, 0, 0, 0, 0])) \n",
      "\n",
      "(array([109, 119, 120, 133, 136, 139]), array([136, 133, 139, 135, 154, 146]), array([0, 0, 0, 0, 0, 0]), array([0, 0, 0, 0, 0, 0])) \n",
      "\n",
      "0.07201671600341797\n"
     ]
    }
   ],
   "source": [
    "# BENCHAMRK: ITERATING THROUGH EACH PIXEL\n",
    "y_len = 5\n",
    "x_len = 5\n",
    "band_n = 0\n",
    "\n",
    "\n",
    "t0 = time.time()\n",
    "contrast2 = np.zeros((y_len,x_len))\n",
    "for y in range(y_len):\n",
    "    for x in range(x_len):\n",
    "        window = raster[:, y-window_r:y+window_r+1, x-window_r:x+window_r+1]      # MAKE THIS A DIRECT COMPARISON BEFORE MAKING THE WINDOW OR START x,y AT RIGHT INDICES\n",
    "        if (window.shape[1] != 2*window_r+1) | (window.shape[2] != 2*window_r+1):\n",
    "            contrast2[y,x] = np.nan\n",
    "        else:\n",
    "            glcm = graycomatrix(window[band_n], distances=distances, angles=angles)\n",
    "#            print(np.nonzero(glcm), '\\n')\n",
    "            contrast2[y,x] = graycoprops(glcm, 'contrast')[0,0]\n",
    "            \n",
    "print(time.time() - t0)"
   ]
  },
  {
   "cell_type": "code",
   "execution_count": 101,
   "id": "8eaf2f73-6043-44c5-91ad-7382cd462772",
   "metadata": {},
   "outputs": [],
   "source": [
    "#The value P[i,j,d,theta] is the number of times that gray-level j occurs at a distance d and at an angle theta from gray-level i.\n",
    "\n",
    "def L_out_R_in(raster, x,y, prev_glcm, window_r):\n",
    "#    x,y = column and row in raster of center of window over which prev_glcm was calculated NOT\n",
    "    new = prev_glcm   # this is 4D array of shape 256, 256, 1, 1 (assuming 1 direction-N and 1 angle pi/2)\n",
    "    top = y - window_r\n",
    "    bott = y + window_r\n",
    "        \n",
    "    # get i,j occurrences in Lcolumn... \n",
    "    #Lx = x - window_r\n",
    "    Lx = x - window_r -1\n",
    "#    pairs = np.column_stack((raster[top+1:bott+1 ,Lx], raster[top:bott ,Lx]))\n",
    "    pairs = np.column_stack((raster[top:bott ,Lx],raster[top+1:bott+1 ,Lx]))\n",
    "    # print('out')\n",
    "    # print(pairs, '\\n')\n",
    "    u_pairs, counts = np.unique(pairs, return_counts=True, axis=0)\n",
    "    # ... and substract them \n",
    "    for pair, count in zip(u_pairs, counts):\n",
    "        new[pair[0],pair[1],0,0] -= count\n",
    "        \n",
    "    # get i,j occurrences in Rcolumn...     \n",
    "#    Rx = x + window_r+1\n",
    "    Rx = x + window_r\n",
    "    pairs = np.column_stack((raster[top+1:bott+1 ,Rx], raster[top:bott ,Rx]))\n",
    "    # print('in')\n",
    "    # print(pairs, '\\n')    \n",
    "    u_pairs, counts = np.unique(pairs, return_counts=True, axis=0)\n",
    "    # ... and add them \n",
    "    for pair, count in zip(u_pairs, counts):\n",
    "        new[pair[0],pair[1],0,0] += count\n",
    "\n",
    "    return new\n",
    "    "
   ]
  },
  {
   "cell_type": "code",
   "execution_count": 76,
   "id": "a0cf65d3-9e79-438f-a475-773c7b3a6d90",
   "metadata": {},
   "outputs": [],
   "source": [
    "# a = np.array([0,1,2,1,2,2])\n",
    "# raster = np.tile(a,(6,1))\n",
    "# raster"
   ]
  },
  {
   "cell_type": "code",
   "execution_count": 77,
   "id": "de795249-53d5-42f6-a295-077ea403ffff",
   "metadata": {},
   "outputs": [],
   "source": [
    "# x,y = 1,1\n",
    "# window_r = 1\n",
    "# window = np.tile(np.array([0,1,2],dtype='uint8'),(3,1))\n",
    "# prev_glcm = graycomatrix(window, distances=distances, angles=angles, levels=3)\n",
    "# for x in range(1,4):\n",
    "#     prev_glcm = L_out_R_in(raster, x,y, prev_glcm, window_r)\n",
    "#     print(prev_glcm[:,:,0,0], '\\n')"
   ]
  },
  {
   "cell_type": "code",
   "execution_count": 107,
   "id": "4b0b7f2a-35fb-4858-9870-f175160b035b",
   "metadata": {},
   "outputs": [
    {
     "name": "stdout",
     "output_type": "stream",
     "text": [
      "0.08235859870910645\n"
     ]
    }
   ],
   "source": [
    "y_len = 5\n",
    "x_len = 5\n",
    "contrast = np.zeros((y_len,x_len))\n",
    "\n",
    "t0 = time.time()\n",
    "\n",
    "for y in range(y_len):    \n",
    "    for x in range(x_len):\n",
    "        window = raster[:, y-window_r:y+window_r+1, x-window_r:x+window_r+1]      # MAKE THIS A DIRECT COMPARISON BEFORE MAKING THE WINDOW OR START x,y AT RIGHT INDICES\n",
    "        \n",
    "        if (window.shape[1] != 2*window_r+1) | (window.shape[2] != 2*window_r+1):\n",
    "            contrast[y,x] = np.nan\n",
    "        else:\n",
    " #           print(window[band_n].data, '\\n')\n",
    "            if x == window_r:\n",
    "                this_glcm = graycomatrix(window[band_n].squeeze(), distances=distances, angles=angles)\n",
    "            else:\n",
    "                this_glcm = L_out_R_in(raster[band_n].squeeze(), x, y, prev_glcm, window_r)\n",
    "#            print(np.nonzero(this_glcm), '\\n')                \n",
    "            contrast[y,x] = graycoprops(this_glcm, 'contrast')[0,0]\n",
    "            prev_glcm = this_glcm\n",
    "print(time.time() - t0)"
   ]
  },
  {
   "cell_type": "code",
   "execution_count": 103,
   "id": "7030a3a4-8bd4-4a7a-8d58-b93b262ddbb2",
   "metadata": {},
   "outputs": [
    {
     "data": {
      "text/plain": [
       "array([[         nan,          nan,          nan,          nan,\n",
       "                 nan],\n",
       "       [         nan, 121.83333333,  34.        , 103.33333333,\n",
       "        175.33333333],\n",
       "       [         nan, 213.83333333, 126.        , 145.83333333,\n",
       "        125.83333333],\n",
       "       [         nan, 471.83333333, 512.66666667, 436.5       ,\n",
       "        279.16666667],\n",
       "       [         nan, 474.5       , 563.33333333, 454.        ,\n",
       "        277.16666667]])"
      ]
     },
     "execution_count": 103,
     "metadata": {},
     "output_type": "execute_result"
    }
   ],
   "source": [
    "contrast2"
   ]
  },
  {
   "cell_type": "code",
   "execution_count": 106,
   "id": "ed6102da-5518-4171-9ed4-cd64e79c4829",
   "metadata": {},
   "outputs": [
    {
     "data": {
      "text/plain": [
       "array([[         nan,          nan,          nan,          nan,\n",
       "                 nan],\n",
       "       [         nan, 121.83333333,  34.        , 103.33333333,\n",
       "        175.33333333],\n",
       "       [         nan, 213.83333333, 126.        , 145.83333333,\n",
       "        125.83333333],\n",
       "       [         nan, 471.83333333, 512.66666667, 436.5       ,\n",
       "        279.16666667],\n",
       "       [         nan, 474.5       , 563.33333333, 454.        ,\n",
       "        277.16666667]])"
      ]
     },
     "execution_count": 106,
     "metadata": {},
     "output_type": "execute_result"
    }
   ],
   "source": [
    "contrast"
   ]
  },
  {
   "cell_type": "code",
   "execution_count": null,
   "id": "533af917-75b2-45cf-8680-3ecae325a57d",
   "metadata": {},
   "outputs": [],
   "source": []
  }
 ],
 "metadata": {
  "kernelspec": {
   "display_name": "Python 3 (ipykernel)",
   "language": "python",
   "name": "python3"
  },
  "language_info": {
   "codemirror_mode": {
    "name": "ipython",
    "version": 3
   },
   "file_extension": ".py",
   "mimetype": "text/x-python",
   "name": "python",
   "nbconvert_exporter": "python",
   "pygments_lexer": "ipython3",
   "version": "3.10.6"
  }
 },
 "nbformat": 4,
 "nbformat_minor": 5
}
