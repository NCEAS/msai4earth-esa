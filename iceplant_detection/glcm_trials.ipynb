{
 "cells": [
  {
   "cell_type": "code",
   "execution_count": 1,
   "id": "bfa0d0fc-d758-4787-8c26-b1ad4acf14e6",
   "metadata": {},
   "outputs": [],
   "source": [
    "import os\n",
    "import gc\n",
    "import time\n",
    "import pandas as pd\n",
    "import numpy as np\n",
    "\n",
    "import geopandas as gpd\n",
    "import rioxarray as rioxr\n",
    "import rasterio\n",
    "\n",
    "import data_sampling_workflow.sample_rasters as sr\n",
    "from rasterio.crs import CRS\n",
    "\n",
    "import planetary_computer as pc\n",
    "\n",
    "from skimage.feature import graycomatrix, graycoprops\n",
    "import raster_to_features as rf"
   ]
  },
  {
   "cell_type": "code",
   "execution_count": 2,
   "id": "41e19c68-540a-4a79-a33e-af1501b4a911",
   "metadata": {},
   "outputs": [],
   "source": [
    "# ***************************************************\n",
    "# ************* NOTEBOOK VARIABLES ******************\n",
    "\n",
    "window_r = 1  #in pixels\n",
    "\n",
    "distances = [1]\n",
    "angles = [np.pi/2]\n",
    "props = ['contrast']#, 'correlation']\n",
    "\n",
    "# ***************************************************"
   ]
  },
  {
   "cell_type": "code",
   "execution_count": 3,
   "id": "9753a780-3a1e-40eb-b847-b61fa7ac952a",
   "metadata": {},
   "outputs": [],
   "source": [
    "itemids = pd.read_csv(sr.path_to_aoi_itemids_csv())\n",
    "itemids = itemids[ (itemids.aoi_name == 'point_conception') & (itemids.year == 2020)]\n",
    "itemid = itemids.itemid[0]\n",
    "raster = rf.rioxr_from_itemid(itemid)"
   ]
  },
  {
   "cell_type": "code",
   "execution_count": 4,
   "id": "68a9ef10-d0e5-4b12-ac7c-39bd696fa96d",
   "metadata": {},
   "outputs": [
    {
     "name": "stdout",
     "output_type": "stream",
     "text": [
      "25.16366720199585\n"
     ]
    }
   ],
   "source": [
    "# BENCHAMRK: ITERATING THROUGH EACH PIXEL\n",
    "y_len = 100\n",
    "x_len = 100\n",
    "band_n = 0\n",
    "\n",
    "\n",
    "t0 = time.time()\n",
    "contrast2 = np.zeros((y_len,x_len))\n",
    "for y in range(y_len):\n",
    "    for x in range(x_len):\n",
    "        window = raster[:, y-window_r:y+window_r+1, x-window_r:x+window_r+1]      # MAKE THIS A DIRECT COMPARISON BEFORE MAKING THE WINDOW OR START x,y AT RIGHT INDICES\n",
    "        if (window.shape[1] != 2*window_r+1) | (window.shape[2] != 2*window_r+1):\n",
    "            contrast2[y,x] = np.nan\n",
    "        else:\n",
    "            glcm = graycomatrix(window[band_n], distances=distances, angles=angles)\n",
    "#            print(np.nonzero(glcm), '\\n')\n",
    "            contrast2[y,x] = graycoprops(glcm, 'contrast')[0,0]\n",
    "            \n",
    "print(time.time() - t0)"
   ]
  },
  {
   "cell_type": "code",
   "execution_count": 5,
   "id": "8eaf2f73-6043-44c5-91ad-7382cd462772",
   "metadata": {},
   "outputs": [],
   "source": [
    "#The value P[i,j,d,theta] is the number of times that gray-level j occurs at a distance d and at an angle theta from gray-level i.\n",
    "\n",
    "def L_out_R_in(raster, x,y, prev_glcm, window_r):\n",
    "#    x,y = column and row in raster of center of window over which prev_glcm was calculated NOT\n",
    "    new = prev_glcm   # this is 4D array of shape 256, 256, 1, 1 (assuming 1 direction-N and 1 angle pi/2)\n",
    "    top = y - window_r\n",
    "    bott = y + window_r\n",
    "        \n",
    "    # get i,j occurrences in Lcolumn... \n",
    "    #Lx = x - window_r\n",
    "    Lx = x - window_r -1\n",
    "#    pairs = np.column_stack((raster[top+1:bott+1 ,Lx], raster[top:bott ,Lx]))\n",
    "    pairs = np.column_stack((raster[top:bott ,Lx],raster[top+1:bott+1 ,Lx]))\n",
    "    # print('out')\n",
    "    # print(pairs, '\\n')\n",
    "    u_pairs, counts = np.unique(pairs, return_counts=True, axis=0)\n",
    "    # ... and substract them \n",
    "    for pair, count in zip(u_pairs, counts):\n",
    "        new[pair[0],pair[1],0,0] -= count\n",
    "        \n",
    "    # get i,j occurrences in Rcolumn...     \n",
    "#    Rx = x + window_r+1\n",
    "    Rx = x + window_r\n",
    "    pairs = np.column_stack((raster[top+1:bott+1 ,Rx], raster[top:bott ,Rx]))\n",
    "    # print('in')\n",
    "    # print(pairs, '\\n')    \n",
    "    u_pairs, counts = np.unique(pairs, return_counts=True, axis=0)\n",
    "    # ... and add them \n",
    "    for pair, count in zip(u_pairs, counts):\n",
    "        new[pair[0],pair[1],0,0] += count\n",
    "\n",
    "    return new\n",
    "    "
   ]
  },
  {
   "cell_type": "code",
   "execution_count": 6,
   "id": "4b0b7f2a-35fb-4858-9870-f175160b035b",
   "metadata": {},
   "outputs": [
    {
     "name": "stdout",
     "output_type": "stream",
     "text": [
      "57.16921615600586\n"
     ]
    }
   ],
   "source": [
    "y_len = 100\n",
    "x_len = 100\n",
    "contrast = np.zeros((y_len,x_len))\n",
    "\n",
    "t0 = time.time()\n",
    "\n",
    "for y in range(y_len):    \n",
    "    for x in range(x_len):\n",
    "        window = raster[:, y-window_r:y+window_r+1, x-window_r:x+window_r+1]      # MAKE THIS A DIRECT COMPARISON BEFORE MAKING THE WINDOW OR START x,y AT RIGHT INDICES\n",
    "        \n",
    "        if (window.shape[1] != 2*window_r+1) | (window.shape[2] != 2*window_r+1):\n",
    "            contrast[y,x] = np.nan\n",
    "        else:\n",
    " #           print(window[band_n].data, '\\n')\n",
    "            if x == window_r:\n",
    "                this_glcm = graycomatrix(window[band_n].squeeze(), distances=distances, angles=angles)\n",
    "            else:\n",
    "                this_glcm = L_out_R_in(raster[band_n].squeeze(), x, y, prev_glcm, window_r)\n",
    "#            print(np.nonzero(this_glcm), '\\n')                \n",
    "            contrast[y,x] = graycoprops(this_glcm, 'contrast')[0,0]\n",
    "            prev_glcm = this_glcm\n",
    "print(time.time() - t0)"
   ]
  },
  {
   "cell_type": "code",
   "execution_count": 7,
   "id": "24675082-afeb-47ff-83b7-140ad91e1b67",
   "metadata": {},
   "outputs": [
    {
     "data": {
      "text/plain": [
       "array([[         nan,          nan,          nan, ...,          nan,\n",
       "                 nan,          nan],\n",
       "       [         nan, 121.83333333,  34.        , ..., 165.66666667,\n",
       "        126.16666667, 136.5       ],\n",
       "       [         nan, 213.83333333, 126.        , ..., 221.66666667,\n",
       "        198.16666667, 180.33333333],\n",
       "       ...,\n",
       "       [         nan,  24.        ,  41.33333333, ..., 105.83333333,\n",
       "         55.33333333,  83.33333333],\n",
       "       [         nan,  74.        ,  42.5       , ..., 136.33333333,\n",
       "        280.66666667, 378.16666667],\n",
       "       [         nan,  58.5       ,  21.        , ..., 103.66666667,\n",
       "        241.83333333, 361.33333333]])"
      ]
     },
     "execution_count": 7,
     "metadata": {},
     "output_type": "execute_result"
    }
   ],
   "source": [
    "contrast2"
   ]
  },
  {
   "cell_type": "code",
   "execution_count": 8,
   "id": "d45999b5-84bc-492b-9d23-530f0ce27619",
   "metadata": {},
   "outputs": [
    {
     "data": {
      "text/plain": [
       "array([[         nan,          nan,          nan, ...,          nan,\n",
       "                 nan,          nan],\n",
       "       [         nan, 121.83333333,  34.        , ..., 234.68944099,\n",
       "        234.7607362 , 233.68902439],\n",
       "       [         nan, 213.83333333, 126.        , ..., 280.32919255,\n",
       "        279.8404908 , 278.43636364],\n",
       "       ...,\n",
       "       [         nan,  24.        ,  41.33333333, ..., 240.2375    ,\n",
       "        240.98757764, 238.27607362],\n",
       "       [         nan,  74.        ,  42.5       , ..., 392.37572254,\n",
       "        390.94827586, 386.55113636],\n",
       "       [         nan,  58.5       ,  21.        , ..., 467.94767442,\n",
       "        463.41954023, 458.19886364]])"
      ]
     },
     "execution_count": 8,
     "metadata": {},
     "output_type": "execute_result"
    }
   ],
   "source": [
    "contrast"
   ]
  },
  {
   "cell_type": "code",
   "execution_count": 9,
   "id": "8009f20b-d7f8-4f3e-98d6-6249c71ea0fe",
   "metadata": {},
   "outputs": [
    {
     "data": {
      "text/plain": [
       "array([[         nan,          nan,          nan, ...,          nan,\n",
       "                 nan,          nan],\n",
       "       [         nan,   0.        ,   0.        , ...,  69.02277433,\n",
       "        108.59406953,  97.18902439],\n",
       "       [         nan,   0.        ,   0.        , ...,  58.66252588,\n",
       "         81.67382413,  98.1030303 ],\n",
       "       ...,\n",
       "       [         nan,   0.        ,   0.        , ..., 134.40416667,\n",
       "        185.6542443 , 154.94274028],\n",
       "       [         nan,   0.        ,   0.        , ..., 256.04238921,\n",
       "        110.28160919,   8.3844697 ],\n",
       "       [         nan,   0.        ,   0.        , ..., 364.28100775,\n",
       "        221.58620689,  96.8655303 ]])"
      ]
     },
     "execution_count": 9,
     "metadata": {},
     "output_type": "execute_result"
    }
   ],
   "source": [
    "contrast-contrast2"
   ]
  },
  {
   "cell_type": "code",
   "execution_count": null,
   "id": "364fb3d5-aa27-4dfd-881c-bde8d5f5913a",
   "metadata": {},
   "outputs": [],
   "source": []
  }
 ],
 "metadata": {
  "kernelspec": {
   "display_name": "Python 3 (ipykernel)",
   "language": "python",
   "name": "python3"
  },
  "language_info": {
   "codemirror_mode": {
    "name": "ipython",
    "version": 3
   },
   "file_extension": ".py",
   "mimetype": "text/x-python",
   "name": "python",
   "nbconvert_exporter": "python",
   "pygments_lexer": "ipython3",
   "version": "3.10.6"
  }
 },
 "nbformat": 4,
 "nbformat_minor": 5
}
