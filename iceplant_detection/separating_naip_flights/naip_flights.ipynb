{
 "cells": [
  {
   "cell_type": "code",
   "execution_count": 1,
   "id": "e2610b8d-52ef-485e-9417-c84f8e582b46",
   "metadata": {},
   "outputs": [],
   "source": [
    "import pystac_client\n",
    "import planetary_computer as pc\n",
    "\n",
    "#import matplotlib.pyplot as plt\n",
    "import geopandas as gpd\n",
    "import pandas as pd\n",
    "import shapely\n",
    "import os\n",
    "from shapely.geometry import box\n"
   ]
  },
  {
   "cell_type": "markdown",
   "id": "3aea58ac-5430-4bc8-a3f6-b8f069d47936",
   "metadata": {},
   "source": [
    "Open SB county coastal zone shapefile (rough polygon)"
   ]
  },
  {
   "cell_type": "code",
   "execution_count": 4,
   "id": "dc1690ae-5950-4493-85af-d0228519c32b",
   "metadata": {},
   "outputs": [
    {
     "data": {
      "text/html": [
       "<div>\n",
       "<style scoped>\n",
       "    .dataframe tbody tr th:only-of-type {\n",
       "        vertical-align: middle;\n",
       "    }\n",
       "\n",
       "    .dataframe tbody tr th {\n",
       "        vertical-align: top;\n",
       "    }\n",
       "\n",
       "    .dataframe thead th {\n",
       "        text-align: right;\n",
       "    }\n",
       "</style>\n",
       "<table border=\"1\" class=\"dataframe\">\n",
       "  <thead>\n",
       "    <tr style=\"text-align: right;\">\n",
       "      <th></th>\n",
       "      <th>id</th>\n",
       "      <th>geometry</th>\n",
       "    </tr>\n",
       "  </thead>\n",
       "  <tbody>\n",
       "    <tr>\n",
       "      <th>0</th>\n",
       "      <td>0</td>\n",
       "      <td>POLYGON ((-120.65862 34.98381, -120.61848 34.9...</td>\n",
       "    </tr>\n",
       "  </tbody>\n",
       "</table>\n",
       "</div>"
      ],
      "text/plain": [
       "   id                                           geometry\n",
       "0   0  POLYGON ((-120.65862 34.98381, -120.61848 34.9..."
      ]
     },
     "execution_count": 4,
     "metadata": {},
     "output_type": "execute_result"
    }
   ],
   "source": [
    "fp = os.path.join(os.getcwd(),'sb_coast_polygon','coastal_buffer.shp')\n",
    "geom = gpd.read_file(fp)\n",
    "geom"
   ]
  },
  {
   "cell_type": "code",
   "execution_count": 5,
   "id": "616717b0-0069-4fd3-b404-af0db45acb98",
   "metadata": {},
   "outputs": [
    {
     "data": {
      "image/svg+xml": [
       "<svg xmlns=\"http://www.w3.org/2000/svg\" xmlns:xlink=\"http://www.w3.org/1999/xlink\" width=\"100.0\" height=\"100.0\" viewBox=\"-120.73562325783743 34.30780147882611 1.346203021868547 0.7345742460061473\" preserveAspectRatio=\"xMinYMin meet\"><g transform=\"matrix(1,0,0,-1,0,69.35017720365836)\"><path fill-rule=\"evenodd\" fill=\"#66cc99\" stroke=\"#555555\" stroke-width=\"0.02692406043737094\" opacity=\"0.6\" d=\"M -120.65861508132693,34.983812878019876 L -120.61848206475187,34.992516353651936 L -120.6385485730394,34.91124794095442 L -120.59015287658121,34.85896143253531 L -120.61848206475187,34.761077041432195 L -120.58307057953857,34.701902455821305 L -120.6279251274754,34.58536986068274 L -120.61494091623052,34.566903853506005 L -120.57598828249591,34.569819811549785 L -120.50044378070756,34.53093196474405 L -120.45676961561115,34.46088805954747 L -120.27499065818293,34.479377582497314 L -120.1298035688084,34.485215528155905 L -120.08612940371205,34.47353922830562 L -120.024749496009,34.47451231570656 L -119.96691073682729,34.45602171485242 L -119.85831551550649,34.420975661883446 L -119.80637867052701,34.43071215099251 L -119.71312842613202,34.41026421418951 L -119.69306191784447,34.4287649438916 L -119.55259635983175,34.42584404818753 L -119.4392796071492,34.38299252111409 L -119.47941262372429,34.357660850006425 L -119.56676095391705,34.40052534401697 L -119.66237196399294,34.40052534401697 L -119.71076766045113,34.37812164082275 L -119.79929637348435,34.4034471241044 L -119.81936288177191,34.39175939162238 L -119.87129972675137,34.38981127751541 L -119.8984485320816,34.4034471241044 L -120.13924663153198,34.458941555704385 L -120.42844042744049,34.43168573753198 L -120.48037727242003,34.43265931273058 L -120.52877296887819,34.51828950194052 L -120.6220232132732,34.53676630030524 L -120.67159929257181,34.57176372676988 L -120.61376053339009,34.701902455821305 L -120.65153278428429,34.75428866740487 L -120.62320359611363,34.85508703458401 L -120.68576388665711,34.89769537415664 L -120.65861508132693,34.983812878019876 z\" /></g></svg>"
      ],
      "text/plain": [
       "<shapely.geometry.polygon.Polygon at 0x7f142a3d3b80>"
      ]
     },
     "execution_count": 5,
     "metadata": {},
     "output_type": "execute_result"
    }
   ],
   "source": [
    "geom.geometry[0]"
   ]
  },
  {
   "cell_type": "markdown",
   "id": "4cca744c-cd9d-494f-8526-be019281d977",
   "metadata": {},
   "source": [
    "# Find items of all NAIP scenes that intersect SB county coastal zone (1000 yards from perimeter)"
   ]
  },
  {
   "cell_type": "code",
   "execution_count": 2,
   "id": "5147b4d6-99b2-4409-a341-4f17d49e18d3",
   "metadata": {},
   "outputs": [],
   "source": [
    "# geometry = geometry that NAIP scenes must intersect\n",
    "# year = year of the NAIP scenes you want\n",
    "# returns a list of the items of NAIP scenes from year that intersect geometry\n",
    "def query_geom(geom, year):\n",
    "\n",
    "    date_range = str(year)+'-01-01/'+str(year)+'-12-31'\n",
    "\n",
    "    catalog = pystac_client.Client.open(\n",
    "        \"https://planetarycomputer.microsoft.com/api/stac/v1\")\n",
    "\n",
    "    search = catalog.search(\n",
    "        collections=[\"naip\"], \n",
    "        intersects=geom, \n",
    "        datetime=date_range)\n",
    "    \n",
    "    items =list(search.get_items()) \n",
    "    if len(items)==0:\n",
    "        return None\n",
    "    return items\n"
   ]
  },
  {
   "cell_type": "code",
   "execution_count": 29,
   "id": "410de0a5-56c5-4f7c-a5bf-1a116bdf01d3",
   "metadata": {},
   "outputs": [
    {
     "name": "stdout",
     "output_type": "stream",
     "text": [
      "27\n"
     ]
    },
    {
     "data": {
      "text/plain": [
       "[<Item id=ca_m_3412037_nw_10_060_20200607>,\n",
       " <Item id=ca_m_3412037_ne_10_060_20200607>,\n",
       " <Item id=ca_m_3412029_sw_10_060_20200607>,\n",
       " <Item id=ca_m_3412028_ne_10_060_20200607>,\n",
       " <Item id=ca_m_3412004_sw_10_060_20200607>,\n",
       " <Item id=ca_m_3412004_nw_10_060_20200607>,\n",
       " <Item id=ca_m_3412003_se_10_060_20200607>,\n",
       " <Item id=ca_m_3412003_ne_10_060_20200607>,\n",
       " <Item id=ca_m_3412038_nw_10_060_20200523>,\n",
       " <Item id=ca_m_3412040_nw_10_060_20200522>,\n",
       " <Item id=ca_m_3412040_ne_10_060_20200522>,\n",
       " <Item id=ca_m_3412039_nw_10_060_20200522>,\n",
       " <Item id=ca_m_3412039_ne_10_060_20200522>,\n",
       " <Item id=ca_m_3412038_ne_10_060_20200522>,\n",
       " <Item id=ca_m_3411933_nw_11_060_20200522>,\n",
       " <Item id=ca_m_3411933_ne_11_060_20200522>,\n",
       " <Item id=ca_m_3411945_nw_11_060_20200521>,\n",
       " <Item id=ca_m_3411937_sw_11_060_20200521>,\n",
       " <Item id=ca_m_3411937_se_11_060_20200521>,\n",
       " <Item id=ca_m_3411936_sw_11_060_20200521>,\n",
       " <Item id=ca_m_3411936_se_11_060_20200521>,\n",
       " <Item id=ca_m_3411935_sw_11_060_20200521>,\n",
       " <Item id=ca_m_3411935_se_11_060_20200521>,\n",
       " <Item id=ca_m_3411934_sw_11_060_20200521>,\n",
       " <Item id=ca_m_3411934_se_11_060_20200521>,\n",
       " <Item id=ca_m_3411933_sw_11_060_20200521>,\n",
       " <Item id=ca_m_3411933_se_11_060_20200521>]"
      ]
     },
     "execution_count": 29,
     "metadata": {},
     "output_type": "execute_result"
    }
   ],
   "source": [
    "year = 2020\n",
    "coast_scenes = query_geom(geom.geometry[0],year)\n",
    "print(len(coast_scenes))\n",
    "#coast_scenes"
   ]
  },
  {
   "cell_type": "code",
   "execution_count": 32,
   "id": "6b7d4b13-f48b-4d99-95d0-895205fd8647",
   "metadata": {},
   "outputs": [
    {
     "data": {
      "text/html": [
       "<div>\n",
       "<style scoped>\n",
       "    .dataframe tbody tr th:only-of-type {\n",
       "        vertical-align: middle;\n",
       "    }\n",
       "\n",
       "    .dataframe tbody tr th {\n",
       "        vertical-align: top;\n",
       "    }\n",
       "\n",
       "    .dataframe thead th {\n",
       "        text-align: right;\n",
       "    }\n",
       "</style>\n",
       "<table border=\"1\" class=\"dataframe\">\n",
       "  <thead>\n",
       "    <tr style=\"text-align: right;\">\n",
       "      <th></th>\n",
       "      <th>itemid</th>\n",
       "      <th>year</th>\n",
       "    </tr>\n",
       "  </thead>\n",
       "  <tbody>\n",
       "    <tr>\n",
       "      <th>0</th>\n",
       "      <td>ca_m_3412037_nw_10_060_20200607</td>\n",
       "      <td>2020</td>\n",
       "    </tr>\n",
       "    <tr>\n",
       "      <th>1</th>\n",
       "      <td>ca_m_3412037_ne_10_060_20200607</td>\n",
       "      <td>2020</td>\n",
       "    </tr>\n",
       "    <tr>\n",
       "      <th>2</th>\n",
       "      <td>ca_m_3412029_sw_10_060_20200607</td>\n",
       "      <td>2020</td>\n",
       "    </tr>\n",
       "  </tbody>\n",
       "</table>\n",
       "</div>"
      ],
      "text/plain": [
       "                            itemid  year\n",
       "0  ca_m_3412037_nw_10_060_20200607  2020\n",
       "1  ca_m_3412037_ne_10_060_20200607  2020\n",
       "2  ca_m_3412029_sw_10_060_20200607  2020"
      ]
     },
     "execution_count": 32,
     "metadata": {},
     "output_type": "execute_result"
    }
   ],
   "source": [
    "# extract itemids and create dataframe\n",
    "itemids = []\n",
    "for item in coast_scenes:\n",
    "    itemids.append(item.id)\n",
    "    \n",
    "itemids_df = pd.DataFrame(itemids, columns = ['itemid'])\n",
    "itemids_df['year'] = year\n",
    "itemids_df.head(3)"
   ]
  },
  {
   "cell_type": "code",
   "execution_count": 34,
   "id": "b4ed8e74-bad9-4d37-9659-9db39022c821",
   "metadata": {},
   "outputs": [],
   "source": [
    "# save item ids\n",
    "itemids_df.to_csv(os.path.join(os.getcwd(),'temp','coastal_scenes_ids_'+str(year)+'.csv'), index=False)"
   ]
  },
  {
   "cell_type": "markdown",
   "id": "07cf44ac-95e7-4716-9884-2bdf3fb595fd",
   "metadata": {},
   "source": [
    "# Group NAIP scenes by date"
   ]
  },
  {
   "cell_type": "code",
   "execution_count": 8,
   "id": "7f0c3c57-5cef-45c4-b91b-e5924395b718",
   "metadata": {},
   "outputs": [],
   "source": [
    "def make_bbox(item):\n",
    "    c = item.properties['proj:bbox']\n",
    "    return box(c[0],c[1],c[2],c[3])"
   ]
  },
  {
   "cell_type": "code",
   "execution_count": 35,
   "id": "63529a1a-4069-46b0-b432-8ffa5a4c52a1",
   "metadata": {},
   "outputs": [
    {
     "data": {
      "text/plain": [
       "(27, 4)"
      ]
     },
     "execution_count": 35,
     "metadata": {},
     "output_type": "execute_result"
    }
   ],
   "source": [
    "# make dataframe with collected scenes and relevant info\n",
    "df = pd.DataFrame(coast_scenes, columns = ['item'])\n",
    "df['date']=df.item.apply(lambda item : item.properties['datetime'])\n",
    "df['crs']=df.item.apply(lambda item : item.properties['proj:epsg'])\n",
    "df['bbox']=df.item.apply(make_bbox)\n",
    "df.shape"
   ]
  },
  {
   "cell_type": "code",
   "execution_count": 37,
   "id": "43c323ef-c71a-4e0e-abb4-f45db16e57a0",
   "metadata": {},
   "outputs": [],
   "source": [
    "def group_flight(df,date):\n",
    "    same_date = df[df['date']==date]\n",
    "    \n",
    "    crs_list = same_date.crs.unique()\n",
    "    polygons = []\n",
    "    for crs in crs_list:\n",
    "        same_crs = same_date[same_date['crs']==crs]\n",
    "        area = shapely.ops.unary_union(same_crs.bbox)\n",
    "        gdf = gpd.GeoDataFrame({'geometry':[area]}, \n",
    "                               crs='EPSG:'+str(crs))\n",
    "        gdf.to_crs('EPSG:4326',inplace=True)\n",
    "        polygons.append(gdf.geometry[0])\n",
    "\n",
    "        flight = shapely.ops.unary_union(polygons)\n",
    "\n",
    "    return flight\n",
    "\n",
    "# --------------------------------------------------------------------------------------------------------\n",
    "\n",
    "def flight_paths(df):\n",
    "    dates = df.date.unique()\n",
    "    flights = []\n",
    "    for date in dates:\n",
    "        flights.append(group_flight(df,date))\n",
    "    gdf = gpd.GeoDataFrame({'date':dates, 'geometry':flights},\n",
    "                     crs = 'EPSG:4326')\n",
    "    return gdf"
   ]
  },
  {
   "cell_type": "code",
   "execution_count": 38,
   "id": "b1a6b07b-c288-4e84-9709-27c4571faa74",
   "metadata": {},
   "outputs": [],
   "source": [
    "flights = flight_paths(df)"
   ]
  },
  {
   "cell_type": "code",
   "execution_count": 39,
   "id": "c60810ba-6973-4da7-bd5f-c8d852bd1ab2",
   "metadata": {},
   "outputs": [
    {
     "data": {
      "text/html": [
       "<div>\n",
       "<style scoped>\n",
       "    .dataframe tbody tr th:only-of-type {\n",
       "        vertical-align: middle;\n",
       "    }\n",
       "\n",
       "    .dataframe tbody tr th {\n",
       "        vertical-align: top;\n",
       "    }\n",
       "\n",
       "    .dataframe thead th {\n",
       "        text-align: right;\n",
       "    }\n",
       "</style>\n",
       "<table border=\"1\" class=\"dataframe\">\n",
       "  <thead>\n",
       "    <tr style=\"text-align: right;\">\n",
       "      <th></th>\n",
       "      <th>date</th>\n",
       "      <th>geometry</th>\n",
       "    </tr>\n",
       "  </thead>\n",
       "  <tbody>\n",
       "    <tr>\n",
       "      <th>0</th>\n",
       "      <td>2020-06-07T00:00:00Z</td>\n",
       "      <td>MULTIPOLYGON (((-120.50411 34.49829, -120.5022...</td>\n",
       "    </tr>\n",
       "    <tr>\n",
       "      <th>1</th>\n",
       "      <td>2020-05-23T00:00:00Z</td>\n",
       "      <td>POLYGON ((-120.31043 34.43430, -120.30827 34.5...</td>\n",
       "    </tr>\n",
       "    <tr>\n",
       "      <th>2</th>\n",
       "      <td>2020-05-22T00:00:00Z</td>\n",
       "      <td>POLYGON ((-119.87062 34.43581, -119.93956 34.4...</td>\n",
       "    </tr>\n",
       "    <tr>\n",
       "      <th>3</th>\n",
       "      <td>2020-05-21T00:00:00Z</td>\n",
       "      <td>POLYGON ((-119.68958 34.37178, -119.68962 34.3...</td>\n",
       "    </tr>\n",
       "  </tbody>\n",
       "</table>\n",
       "</div>"
      ],
      "text/plain": [
       "                   date                                           geometry\n",
       "0  2020-06-07T00:00:00Z  MULTIPOLYGON (((-120.50411 34.49829, -120.5022...\n",
       "1  2020-05-23T00:00:00Z  POLYGON ((-120.31043 34.43430, -120.30827 34.5...\n",
       "2  2020-05-22T00:00:00Z  POLYGON ((-119.87062 34.43581, -119.93956 34.4...\n",
       "3  2020-05-21T00:00:00Z  POLYGON ((-119.68958 34.37178, -119.68962 34.3..."
      ]
     },
     "execution_count": 39,
     "metadata": {},
     "output_type": "execute_result"
    }
   ],
   "source": [
    "flights"
   ]
  },
  {
   "cell_type": "code",
   "execution_count": 15,
   "id": "ec33b7f9-c07a-45f0-b866-3b27e6f56581",
   "metadata": {},
   "outputs": [
    {
     "name": "stderr",
     "output_type": "stream",
     "text": [
      "/srv/conda/envs/notebook/lib/python3.8/site-packages/geopandas/io/file.py:362: FutureWarning: pandas.Int64Index is deprecated and will be removed from pandas in a future version. Use pandas.Index with the appropriate dtype instead.\n",
      "  pd.Int64Index,\n"
     ]
    }
   ],
   "source": [
    "# save if needed\n",
    "flights.to_file(os.path.join(os.getcwd(),'temp','flights_coast_'+str(year)+'.shp'))"
   ]
  },
  {
   "cell_type": "code",
   "execution_count": null,
   "id": "884df3b9-09a1-4eff-9119-e423bc6a29ec",
   "metadata": {},
   "outputs": [],
   "source": []
  }
 ],
 "metadata": {
  "kernelspec": {
   "display_name": "Python 3 (ipykernel)",
   "language": "python",
   "name": "python3"
  },
  "language_info": {
   "codemirror_mode": {
    "name": "ipython",
    "version": 3
   },
   "file_extension": ".py",
   "mimetype": "text/x-python",
   "name": "python",
   "nbconvert_exporter": "python",
   "pygments_lexer": "ipython3",
   "version": "3.8.13"
  }
 },
 "nbformat": 4,
 "nbformat_minor": 5
}
