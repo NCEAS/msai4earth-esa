{
 "cells": [
  {
   "cell_type": "code",
   "execution_count": 1,
   "id": "e2610b8d-52ef-485e-9417-c84f8e582b46",
   "metadata": {},
   "outputs": [],
   "source": [
    "import pystac_client\n",
    "import planetary_computer as pc\n",
    "\n",
    "#import matplotlib.pyplot as plt\n",
    "import geopandas as gpd\n",
    "import pandas as pd\n",
    "import shapely\n",
    "import os\n",
    "from shapely.geometry import box"
   ]
  },
  {
   "cell_type": "markdown",
   "id": "4cca744c-cd9d-494f-8526-be019281d977",
   "metadata": {},
   "source": [
    "# Find items of all NAIP scenes that intersect SB county coastal zone (1000 yards from perimeter)"
   ]
  },
  {
   "cell_type": "markdown",
   "id": "3aea58ac-5430-4bc8-a3f6-b8f069d47936",
   "metadata": {},
   "source": [
    "Open SB county coastal zone shapefile (rough polygon)"
   ]
  },
  {
   "cell_type": "code",
   "execution_count": 2,
   "id": "dc1690ae-5950-4493-85af-d0228519c32b",
   "metadata": {},
   "outputs": [],
   "source": [
    "fp = os.path.join(os.getcwd(),'coastal_buffer','coastal_buffer.shp')\n",
    "geom = gpd.read_file(fp)"
   ]
  },
  {
   "cell_type": "code",
   "execution_count": 3,
   "id": "5147b4d6-99b2-4409-a341-4f17d49e18d3",
   "metadata": {},
   "outputs": [],
   "source": [
    "# geometry = geometry that NAIP scenes must intersect\n",
    "# year = year of the NAIP scenes you want\n",
    "# returns a list of the items of NAIP scenes from year that intersect geometry\n",
    "def query_geom(geom, year):\n",
    "\n",
    "    date_range = str(year)+'-01-01/'+str(year)+'-12-31'\n",
    "\n",
    "    catalog = pystac_client.Client.open(\n",
    "        \"https://planetarycomputer.microsoft.com/api/stac/v1\")\n",
    "\n",
    "    search = catalog.search(\n",
    "        collections=[\"naip\"], \n",
    "        intersects=geom, \n",
    "        datetime=date_range)\n",
    "    \n",
    "    items =list(search.get_items()) \n",
    "    if len(items)==0:\n",
    "        return None\n",
    "    return items\n"
   ]
  },
  {
   "cell_type": "code",
   "execution_count": 4,
   "id": "410de0a5-56c5-4f7c-a5bf-1a116bdf01d3",
   "metadata": {},
   "outputs": [
    {
     "name": "stdout",
     "output_type": "stream",
     "text": [
      "28\n"
     ]
    }
   ],
   "source": [
    "year = 2018\n",
    "coast_scenes = query_geom(geom.geometry[0],year)\n",
    "print(len(coast_scenes))\n",
    "#coast_scenes"
   ]
  },
  {
   "cell_type": "markdown",
   "id": "5942d513-dcd8-40e7-92e7-c1752d86c63c",
   "metadata": {},
   "source": [
    "## Check finer resolution buffer"
   ]
  },
  {
   "cell_type": "code",
   "execution_count": 5,
   "id": "2ffb8646-d575-47b0-97e9-846ec21ecf80",
   "metadata": {},
   "outputs": [],
   "source": [
    "fp = os.path.join(os.getcwd(),'sb_coast','sb_coast.shp')\n",
    "coast = gpd.read_file(fp)\n",
    "#coast"
   ]
  },
  {
   "cell_type": "code",
   "execution_count": 6,
   "id": "320b011f-5ca6-4d2c-b53c-192741f53cd0",
   "metadata": {},
   "outputs": [],
   "source": [
    "for scene in coast_scenes:\n",
    "    s_corners = scene.properties['proj:bbox']\n",
    "    s_box = box(s_corners[0], s_corners[1], s_corners[2], s_corners[3])\n",
    "    coast_match = coast.to_crs(scene.properties['proj:epsg']).geometry[0]\n",
    "    \n",
    "    if s_box.intersects(coast_match) == False:\n",
    "        coast_scenes.remove(scene)"
   ]
  },
  {
   "cell_type": "code",
   "execution_count": 7,
   "id": "df4db9f3-0c79-41d1-a2f4-dceb660f9f23",
   "metadata": {},
   "outputs": [
    {
     "data": {
      "text/plain": [
       "25"
      ]
     },
     "execution_count": 7,
     "metadata": {},
     "output_type": "execute_result"
    }
   ],
   "source": [
    "len(coast_scenes)"
   ]
  },
  {
   "cell_type": "code",
   "execution_count": 8,
   "id": "6b7d4b13-f48b-4d99-95d0-895205fd8647",
   "metadata": {},
   "outputs": [
    {
     "name": "stdout",
     "output_type": "stream",
     "text": [
      "(25, 2)\n"
     ]
    }
   ],
   "source": [
    "# extract itemids and create dataframe\n",
    "itemids = []\n",
    "for item in coast_scenes:\n",
    "    itemids.append(item.id)\n",
    "    \n",
    "itemids_df = pd.DataFrame(itemids, columns = ['itemid'])\n",
    "itemids_df['year'] = year\n",
    "print(itemids_df.shape)"
   ]
  },
  {
   "cell_type": "code",
   "execution_count": 9,
   "id": "b4ed8e74-bad9-4d37-9659-9db39022c821",
   "metadata": {},
   "outputs": [],
   "source": [
    "# save item ids\n",
    "itemids_df.to_csv(os.path.join(os.getcwd(),'temp','coastal_scenes_ids_'+str(year)+'.csv'), index=False)"
   ]
  },
  {
   "cell_type": "markdown",
   "id": "07cf44ac-95e7-4716-9884-2bdf3fb595fd",
   "metadata": {},
   "source": [
    "# Group NAIP scenes by date"
   ]
  },
  {
   "cell_type": "code",
   "execution_count": 10,
   "id": "7f0c3c57-5cef-45c4-b91b-e5924395b718",
   "metadata": {},
   "outputs": [],
   "source": [
    "def make_bbox(item):\n",
    "    c = item.properties['proj:bbox']\n",
    "    return box(c[0],c[1],c[2],c[3])"
   ]
  },
  {
   "cell_type": "code",
   "execution_count": 11,
   "id": "63529a1a-4069-46b0-b432-8ffa5a4c52a1",
   "metadata": {},
   "outputs": [
    {
     "data": {
      "text/plain": [
       "(25, 4)"
      ]
     },
     "execution_count": 11,
     "metadata": {},
     "output_type": "execute_result"
    }
   ],
   "source": [
    "# make dataframe with collected scenes and relevant info\n",
    "df = pd.DataFrame(coast_scenes, columns = ['item'])\n",
    "df['date']=df.item.apply(lambda item : item.properties['datetime'])\n",
    "df['crs']=df.item.apply(lambda item : item.properties['proj:epsg'])\n",
    "df['bbox']=df.item.apply(make_bbox)\n",
    "df.shape"
   ]
  },
  {
   "cell_type": "code",
   "execution_count": 12,
   "id": "43c323ef-c71a-4e0e-abb4-f45db16e57a0",
   "metadata": {},
   "outputs": [],
   "source": [
    "def group_flight(df,date):\n",
    "    same_date = df[df['date']==date]\n",
    "    \n",
    "    crs_list = same_date.crs.unique()\n",
    "    polygons = []\n",
    "    for crs in crs_list:\n",
    "        same_crs = same_date[same_date['crs']==crs]\n",
    "        area = shapely.ops.unary_union(same_crs.bbox)\n",
    "        gdf = gpd.GeoDataFrame({'geometry':[area]}, \n",
    "                               crs='EPSG:'+str(crs))\n",
    "        gdf.to_crs('EPSG:4326',inplace=True)\n",
    "        polygons.append(gdf.geometry[0])\n",
    "\n",
    "        flight = shapely.ops.unary_union(polygons)\n",
    "\n",
    "    return flight\n",
    "\n",
    "# --------------------------------------------------------------------------------------------------------\n",
    "\n",
    "def flight_paths(df):\n",
    "    dates = df.date.unique()\n",
    "    flights = []\n",
    "    for date in dates:\n",
    "        flights.append(group_flight(df,date))\n",
    "    gdf = gpd.GeoDataFrame({'date':dates, 'geometry':flights},\n",
    "                     crs = 'EPSG:4326')\n",
    "    return gdf"
   ]
  },
  {
   "cell_type": "code",
   "execution_count": 13,
   "id": "b1a6b07b-c288-4e84-9709-27c4571faa74",
   "metadata": {},
   "outputs": [],
   "source": [
    "flights = flight_paths(df)"
   ]
  },
  {
   "cell_type": "code",
   "execution_count": 14,
   "id": "c60810ba-6973-4da7-bd5f-c8d852bd1ab2",
   "metadata": {},
   "outputs": [
    {
     "data": {
      "text/html": [
       "<div>\n",
       "<style scoped>\n",
       "    .dataframe tbody tr th:only-of-type {\n",
       "        vertical-align: middle;\n",
       "    }\n",
       "\n",
       "    .dataframe tbody tr th {\n",
       "        vertical-align: top;\n",
       "    }\n",
       "\n",
       "    .dataframe thead th {\n",
       "        text-align: right;\n",
       "    }\n",
       "</style>\n",
       "<table border=\"1\" class=\"dataframe\">\n",
       "  <thead>\n",
       "    <tr style=\"text-align: right;\">\n",
       "      <th></th>\n",
       "      <th>date</th>\n",
       "      <th>geometry</th>\n",
       "    </tr>\n",
       "  </thead>\n",
       "  <tbody>\n",
       "    <tr>\n",
       "      <th>0</th>\n",
       "      <td>2018-09-13T00:00:00Z</td>\n",
       "      <td>MULTIPOLYGON (((-120.50354 34.43618, -120.5016...</td>\n",
       "    </tr>\n",
       "    <tr>\n",
       "      <th>1</th>\n",
       "      <td>2018-07-24T00:00:00Z</td>\n",
       "      <td>MULTIPOLYGON (((-119.50345 34.37357, -119.5640...</td>\n",
       "    </tr>\n",
       "    <tr>\n",
       "      <th>2</th>\n",
       "      <td>2018-07-22T00:00:00Z</td>\n",
       "      <td>MULTIPOLYGON (((-119.81405 34.37217, -119.8140...</td>\n",
       "    </tr>\n",
       "    <tr>\n",
       "      <th>3</th>\n",
       "      <td>2018-07-15T00:00:00Z</td>\n",
       "      <td>POLYGON ((-119.99846 34.43456, -119.99607 34.5...</td>\n",
       "    </tr>\n",
       "  </tbody>\n",
       "</table>\n",
       "</div>"
      ],
      "text/plain": [
       "                   date                                           geometry\n",
       "0  2018-09-13T00:00:00Z  MULTIPOLYGON (((-120.50354 34.43618, -120.5016...\n",
       "1  2018-07-24T00:00:00Z  MULTIPOLYGON (((-119.50345 34.37357, -119.5640...\n",
       "2  2018-07-22T00:00:00Z  MULTIPOLYGON (((-119.81405 34.37217, -119.8140...\n",
       "3  2018-07-15T00:00:00Z  POLYGON ((-119.99846 34.43456, -119.99607 34.5..."
      ]
     },
     "execution_count": 14,
     "metadata": {},
     "output_type": "execute_result"
    }
   ],
   "source": [
    "flights"
   ]
  },
  {
   "cell_type": "code",
   "execution_count": 15,
   "id": "ec33b7f9-c07a-45f0-b866-3b27e6f56581",
   "metadata": {},
   "outputs": [],
   "source": [
    "# save if needed\n",
    "flights.to_file(os.path.join(os.getcwd(),'temp','coastal_flights_'+str(year)+'.shp'))"
   ]
  },
  {
   "cell_type": "code",
   "execution_count": null,
   "id": "884df3b9-09a1-4eff-9119-e423bc6a29ec",
   "metadata": {},
   "outputs": [],
   "source": []
  }
 ],
 "metadata": {
  "kernelspec": {
   "display_name": "Python 3 (ipykernel)",
   "language": "python",
   "name": "python3"
  },
  "language_info": {
   "codemirror_mode": {
    "name": "ipython",
    "version": 3
   },
   "file_extension": ".py",
   "mimetype": "text/x-python",
   "name": "python",
   "nbconvert_exporter": "python",
   "pygments_lexer": "ipython3",
   "version": "3.10.6"
  }
 },
 "nbformat": 4,
 "nbformat_minor": 5
}
