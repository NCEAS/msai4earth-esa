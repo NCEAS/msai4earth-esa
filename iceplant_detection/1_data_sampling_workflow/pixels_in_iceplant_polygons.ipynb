{
 "cells": [
  {
   "cell_type": "markdown",
   "id": "8a503cac-3ce8-4d31-aeee-2b70c4024e18",
   "metadata": {},
   "source": [
    "This notebook calculates the number of pixels in the iceplant polygons we have collected. \n",
    "\n",
    "This is, in a way, a maxium number of training data points for the iceplant class."
   ]
  },
  {
   "cell_type": "code",
   "execution_count": 1,
   "id": "ac50b7f6-1420-40ee-8175-2a250dd81659",
   "metadata": {},
   "outputs": [],
   "source": [
    "import numpy as np\n",
    "import pandas as pd\n",
    "import geopandas as gpd\n",
    "\n",
    "import sample_rasters as sr"
   ]
  },
  {
   "cell_type": "code",
   "execution_count": 2,
   "id": "4546e633-27a9-4d55-832d-4969bf8b7178",
   "metadata": {},
   "outputs": [],
   "source": [
    "aois = ['campus_lagoon','capitan','carpinteria','gaviota','point_conception']\n",
    "years = [2020]        \n",
    "n_pixels = []\n",
    "\n",
    "for aoi in aois:\n",
    "    for year in years:  \n",
    "        # open polygons\n",
    "        fp = sr.path_to_polygons(aoi, year)\n",
    "        polys = gpd.read_file(fp)\n",
    "        \n",
    "        itemid =  polys.naip_id[0]\n",
    "        item = sr.get_item_from_id(itemid)\n",
    "        rast_reader = sr.get_raster_from_item(item)\n",
    "        \n",
    "        ice_polys = polys[polys.iceplant == 1]\n",
    "        # convert to same crs as raster to properly calculate area of polygons\n",
    "        if ice_polys.crs != rast_reader.crs:\n",
    "            polys_match = ice_polys.to_crs(rast_reader.crs)\n",
    "        else:\n",
    "            polys_match = ice_polys\n",
    "\n",
    "        # area of a single pixel from raster resolution    \n",
    "        pixel_size = rast_reader.res[0]*rast_reader.res[1]\n",
    "\n",
    "        # get approx number of pixels by dividing polygon area by pixel_size\n",
    "        pixels_in_polys = polys_match.geometry.apply(lambda p: int((p.area/pixel_size))).to_numpy()\n",
    "        n_pixels.append(sum(pixels_in_polys))\n",
    "        \n",
    "        \n"
   ]
  },
  {
   "cell_type": "code",
   "execution_count": 5,
   "id": "692d3fd2-2b6f-462d-8002-05d4bc1ce588",
   "metadata": {},
   "outputs": [
    {
     "data": {
      "text/html": [
       "<div>\n",
       "<style scoped>\n",
       "    .dataframe tbody tr th:only-of-type {\n",
       "        vertical-align: middle;\n",
       "    }\n",
       "\n",
       "    .dataframe tbody tr th {\n",
       "        vertical-align: top;\n",
       "    }\n",
       "\n",
       "    .dataframe thead th {\n",
       "        text-align: right;\n",
       "    }\n",
       "</style>\n",
       "<table border=\"1\" class=\"dataframe\">\n",
       "  <thead>\n",
       "    <tr style=\"text-align: right;\">\n",
       "      <th></th>\n",
       "      <th>aoi</th>\n",
       "      <th>ice_pixels</th>\n",
       "    </tr>\n",
       "  </thead>\n",
       "  <tbody>\n",
       "    <tr>\n",
       "      <th>0</th>\n",
       "      <td>campus_lagoon</td>\n",
       "      <td>19368</td>\n",
       "    </tr>\n",
       "    <tr>\n",
       "      <th>1</th>\n",
       "      <td>capitan</td>\n",
       "      <td>8315</td>\n",
       "    </tr>\n",
       "    <tr>\n",
       "      <th>2</th>\n",
       "      <td>carpinteria</td>\n",
       "      <td>14929</td>\n",
       "    </tr>\n",
       "    <tr>\n",
       "      <th>3</th>\n",
       "      <td>gaviota</td>\n",
       "      <td>5387</td>\n",
       "    </tr>\n",
       "    <tr>\n",
       "      <th>4</th>\n",
       "      <td>point_conception</td>\n",
       "      <td>83419</td>\n",
       "    </tr>\n",
       "  </tbody>\n",
       "</table>\n",
       "</div>"
      ],
      "text/plain": [
       "                aoi  ice_pixels\n",
       "0     campus_lagoon       19368\n",
       "1           capitan        8315\n",
       "2       carpinteria       14929\n",
       "3           gaviota        5387\n",
       "4  point_conception       83419"
      ]
     },
     "execution_count": 5,
     "metadata": {},
     "output_type": "execute_result"
    }
   ],
   "source": [
    "pd.DataFrame({'aoi':aois,'ice_pixels': n_pixels})"
   ]
  },
  {
   "cell_type": "code",
   "execution_count": 7,
   "id": "b040bfb0-a5c1-44ba-9597-4c254a877bd2",
   "metadata": {},
   "outputs": [
    {
     "data": {
      "text/plain": [
       "131418"
      ]
     },
     "execution_count": 7,
     "metadata": {},
     "output_type": "execute_result"
    }
   ],
   "source": [
    "sum(n_pixels)"
   ]
  },
  {
   "cell_type": "code",
   "execution_count": null,
   "id": "83bd861a-a647-4fd8-af32-d1fba8496e00",
   "metadata": {},
   "outputs": [],
   "source": []
  }
 ],
 "metadata": {
  "kernelspec": {
   "display_name": "Python 3 (ipykernel)",
   "language": "python",
   "name": "python3"
  },
  "language_info": {
   "codemirror_mode": {
    "name": "ipython",
    "version": 3
   },
   "file_extension": ".py",
   "mimetype": "text/x-python",
   "name": "python",
   "nbconvert_exporter": "python",
   "pygments_lexer": "ipython3",
   "version": "3.10.6"
  }
 },
 "nbformat": 4,
 "nbformat_minor": 5
}
