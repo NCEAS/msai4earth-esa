{
 "cells": [
  {
   "cell_type": "code",
   "execution_count": null,
   "id": "bab5debc-b71e-499b-9a8e-8d08a13d9dbb",
   "metadata": {},
   "outputs": [],
   "source": [
    "import pystac_client # access STAC catalogs\n",
    "import planetary_computer # sign items\n",
    "import dask.dataframe as dd\n",
    "\n",
    "# ----- accesing Azure storage using pystac client\n",
    "URL = \"https://planetarycomputer.microsoft.com/api/stac/v1\"\n",
    "catalog = pystac_client.Client.open(URL)\n",
    "\n",
    "\n",
    "# ----- access items in gbif catalog\n",
    "search = catalog.search(collections=[\"gbif\"])\n",
    "items = search.get_all_items()\n",
    "items = {x.id: x for x in items}\n",
    "#list(items)\n",
    "\n",
    "\n",
    "# ---- select and sign first item\n",
    "item = list(items.values())[0]\n",
    "#print(item)\n",
    "\n",
    "signed_asset = planetary_computer.sign(item).assets[\"data\"]\n",
    "\n",
    "\n",
    "# ---- read data frame using parquet, specify columns\n",
    "df = dd.read_parquet(\n",
    "    signed_asset.href,\n",
    "    columns=[\"species\",\n",
    "            #\"countrycode\",\n",
    "            \"stateprovince\",\n",
    "            \"decimallatitude\",\n",
    "            \"decimallongitude\",\n",
    "            #\"coordinateuncertaintyinmeters\",\n",
    "            #\"day\",\n",
    "            #\"month\",\n",
    "            \"year\",\n",
    "            \"institutioncode\"],\n",
    "    storage_options=signed_asset.extra_fields[\"table:storage_options\"],  #???\n",
    ")\n",
    "#df\n",
    "\n",
    "# ---- select first chunk\n",
    "chunk = df.get_partition(0).compute()\n",
    "#print(type(chunk))\n",
    "#chunk"
   ]
  },
  {
   "cell_type": "code",
   "execution_count": 18,
   "id": "d14b6e3c-1258-4c47-bee9-0f7410b0a5f7",
   "metadata": {},
   "outputs": [],
   "source": [
    "import pandas as pd\n",
    "import geopandas\n",
    "\n",
    "def clip_chunk(chunk , shapefile):\n",
    "    \n",
    "    ca_sightings = chunk.loc[chunk['stateprovince'] == 'California'].filter(items=['species',\n",
    "                                                                                   'decimallatitude',\n",
    "                                                                                   'decimallongitude'])\n",
    "    # add: if none, then return\n",
    "    # add: remove species == None\n",
    "    \n",
    "    gdf = geopandas.GeoDataFrame(ca_sightings, \n",
    "                                 geometry = geopandas.points_from_xy(x=ca_sightings.decimallongitude, y=ca_sightings.decimallatitude)\n",
    "                                )\n",
    "    gdf = gdf.set_crs(4326)\n",
    "    gdf = gdf.to_crs(shapefile.crs)\n",
    "    \n",
    "    return geopandas.clip(gdf,shapefile)"
   ]
  },
  {
   "cell_type": "code",
   "execution_count": 15,
   "id": "48e46236-5274-4dbb-919d-ea5252c178c2",
   "metadata": {},
   "outputs": [],
   "source": [
    "# ---- OPEN SB shapefile ----\n",
    "\n",
    "sb_shape_path = \"/home/jovyan/Sedgwick_Reserve/SB_geometry/SB_only.shp\"\n",
    "sb_shape = gpd.read_file(sb_shape_path)\n",
    "#print(sb_shape.crs)\n",
    "#sb_shape.plot(edgecolor='purple', color='yellow')\n"
   ]
  },
  {
   "cell_type": "code",
   "execution_count": 19,
   "id": "7833312a-3492-4a48-9878-de3fb902f346",
   "metadata": {},
   "outputs": [],
   "source": [
    "sb_chunk0 = clip_chunk(chunk, sb_shape)"
   ]
  },
  {
   "cell_type": "code",
   "execution_count": 20,
   "id": "dd65bfa0-beac-4d62-bf1e-91e9b82ace82",
   "metadata": {},
   "outputs": [
    {
     "data": {
      "text/plain": [
       "<AxesSubplot:>"
      ]
     },
     "execution_count": 20,
     "metadata": {},
     "output_type": "execute_result"
    },
    {
     "data": {
      "image/png": "[encoded data removed]",
      "text/plain": [
       "<Figure size 720x720 with 1 Axes>"
      ]
     },
     "metadata": {
      "needs_background": "light"
     },
     "output_type": "display_data"
    }
   ],
   "source": [
    "import matplotlib.pyplot as plt\n",
    "\n",
    "fig, ax = plt.subplots(figsize = (10,10))\n",
    "sb_shape.plot(ax=ax, color='lightgrey')\n",
    "sb_chunk0.plot(ax=ax, alpha=0.7)\n"
   ]
  },
  {
   "cell_type": "markdown",
   "id": "c2422994-b229-4dc6-9d9a-78cf2ba67b15",
   "metadata": {},
   "source": [
    "# TO DO: \n",
    "Rewrite this flow to work directly on dask DataFrame so it can be parallelized."
   ]
  },
  {
   "cell_type": "code",
   "execution_count": null,
   "id": "cebfd179-df6e-4222-8ea8-8e639d78d656",
   "metadata": {},
   "outputs": [],
   "source": []
  }
 ],
 "metadata": {
  "kernelspec": {
   "display_name": "Python 3 (ipykernel)",
   "language": "python",
   "name": "python3"
  },
  "language_info": {
   "codemirror_mode": {
    "name": "ipython",
    "version": 3
   },
   "file_extension": ".py",
   "mimetype": "text/x-python",
   "name": "python",
   "nbconvert_exporter": "python",
   "pygments_lexer": "ipython3",
   "version": "3.8.12"
  }
 },
 "nbformat": 4,
 "nbformat_minor": 5
}
